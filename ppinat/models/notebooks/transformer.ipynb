{
 "cells": [
  {
   "cell_type": "markdown",
   "metadata": {},
   "source": [
    "<h1>PREPROCESSING</h1>"
   ]
  },
  {
   "cell_type": "code",
   "execution_count": 5,
   "metadata": {},
   "outputs": [],
   "source": [
    "from transformers import AutoTokenizer  \n",
    "model_checkpoint = \"distilbert-base-uncased\"\n",
    "batch_size = 16\n",
    "tokenizer = AutoTokenizer.from_pretrained(model_checkpoint)"
   ]
  },
  {
   "cell_type": "code",
   "execution_count": 11,
   "metadata": {},
   "outputs": [
    {
     "name": "stdout",
     "output_type": "stream",
     "text": [
      "['B-AggFunction', 'I-AggFunction', 'B-CE', 'B-CMI', 'I-CMI', 'B-CCI', 'I-CCI', 'B-AttributeValue', 'I-AttributeValue', 'O', 'I-CE', 'B-FDI', 'B-FDE', 'I-FDE', 'B-GBI', 'B-GBC', 'I-GBI', 'I-FDI', 'I-GBC']\n"
     ]
    }
   ],
   "source": [
    "#Read training.json file\n",
    "import json\n",
    "with open(\"../input/parser_training/training_files/training_count.json\", \"r\") as f:\n",
    "    data = json.load(f)[\"measures\"]\n",
    "\n",
    "tokens = []\n",
    "tags = []\n",
    "\n",
    "for phrase in data: #Todas las frases\n",
    "    phrase_tokens = []\n",
    "    phrase_tags = []\n",
    "    for word in phrase: #Todas las palabras de la frases\n",
    "        if word[\"value\"] != \" \":\n",
    "            splits = word[\"value\"].split(\" \")\n",
    "            #Delete empty strings\n",
    "            splits = [w for w in splits if w != \"\"]\n",
    "            if word[\"type\"] == \"Text\":\n",
    "                for split in splits:\n",
    "                    phrase_tokens.append(split)\n",
    "                    phrase_tags.append(\"O\")\n",
    "            else:\n",
    "                tag = word[\"slot\"]\n",
    "                tag = \"AggFunction\" if tag == \"AGRCount\" or tag == \"AGR\" else tag\n",
    "                tag = \"CCI\" if tag == \"CCIData\" else tag\n",
    "                tag = \"AttributeValue\" if tag == \"AttributeValueData\" else tag\n",
    "                for i in range(len(splits)):\n",
    "                    if i == 0:\n",
    "                        phrase_tokens.append(splits[i])\n",
    "                        phrase_tags.append(\"B-\"+tag)\n",
    "                    else:\n",
    "                        phrase_tokens.append(splits[i])\n",
    "                        phrase_tags.append(\"I-\"+tag)\n",
    "    tokens.append(phrase_tokens)\n",
    "    tags.append(phrase_tags)\n",
    "\n",
    "#Obtain a list with unique tags\n",
    "tags_list = []\n",
    "for phrase in tags:\n",
    "    for tag in phrase:\n",
    "        if tag not in tags_list:\n",
    "            tags_list.append(tag)\n",
    "\n",
    "labels = []\n",
    "for phrase in tags:\n",
    "    phrase_labels = []\n",
    "    for label in phrase:\n",
    "        phrase_labels.append(tags_list.index(label))\n",
    "    labels.append(phrase_labels)\n",
    "\n",
    "examples = {\n",
    "    \"tokens\": tokens,\n",
    "    \"tags\": labels\n",
    "}\n",
    "print(tags_list)\n",
    "from datasets import Dataset\n",
    "datasets = Dataset.from_dict(examples).train_test_split(test_size=0.2)\n",
    "\n"
   ]
  },
  {
   "cell_type": "code",
   "execution_count": 19,
   "metadata": {},
   "outputs": [],
   "source": [
    "label_all_tokens = True\n",
    "\n",
    "def tokenize_and_align_labels(examples):\n",
    "    tokenized_inputs = tokenizer(examples[\"tokens\"], truncation=True, is_split_into_words=True)\n",
    "\n",
    "    labels = []\n",
    "    for i, label in enumerate(examples[\"tags\"]):\n",
    "        word_ids = tokenized_inputs.word_ids(batch_index=i)\n",
    "        previous_word_idx = None\n",
    "        label_ids = []\n",
    "        for word_idx in word_ids:\n",
    "            # Special tokens have a word id that is None. We set the label to -100 so they are automatically\n",
    "            # ignored in the loss function.\n",
    "            if word_idx is None:\n",
    "                label_ids.append(-100)\n",
    "            # We set the label for the first token of each word.\n",
    "            elif word_idx != previous_word_idx:\n",
    "                label_ids.append(label[word_idx])\n",
    "            # For the other tokens in a word, we set the label to either the current label or -100, depending on\n",
    "            # the label_all_tokens flag.\n",
    "            else:\n",
    "                label_ids.append(label[word_idx] if label_all_tokens else -100)\n",
    "            previous_word_idx = word_idx\n",
    "\n",
    "        labels.append(label_ids)\n",
    "\n",
    "    tokenized_inputs[\"labels\"] = labels\n",
    "    return tokenized_inputs"
   ]
  },
  {
   "cell_type": "code",
   "execution_count": 6,
   "metadata": {},
   "outputs": [
    {
     "name": "stderr",
     "output_type": "stream",
     "text": [
      "100%|██████████| 10/10 [00:01<00:00,  5.61ba/s]\n",
      "100%|██████████| 3/3 [00:00<00:00,  8.29ba/s]\n"
     ]
    }
   ],
   "source": [
    "tokenized_datasets = datasets.map(tokenize_and_align_labels, batched=True)"
   ]
  },
  {
   "cell_type": "markdown",
   "metadata": {},
   "source": [
    "<h1>Fine-tuning</h1>"
   ]
  },
  {
   "cell_type": "code",
   "execution_count": 7,
   "metadata": {},
   "outputs": [
    {
     "name": "stderr",
     "output_type": "stream",
     "text": [
      "Some weights of the model checkpoint at distilbert-base-uncased were not used when initializing DistilBertForTokenClassification: ['vocab_layer_norm.weight', 'vocab_projector.bias', 'vocab_projector.weight', 'vocab_transform.bias', 'vocab_layer_norm.bias', 'vocab_transform.weight']\n",
      "- This IS expected if you are initializing DistilBertForTokenClassification from the checkpoint of a model trained on another task or with another architecture (e.g. initializing a BertForSequenceClassification model from a BertForPreTraining model).\n",
      "- This IS NOT expected if you are initializing DistilBertForTokenClassification from the checkpoint of a model that you expect to be exactly identical (initializing a BertForSequenceClassification model from a BertForSequenceClassification model).\n",
      "Some weights of DistilBertForTokenClassification were not initialized from the model checkpoint at distilbert-base-uncased and are newly initialized: ['classifier.weight', 'classifier.bias']\n",
      "You should probably TRAIN this model on a down-stream task to be able to use it for predictions and inference.\n"
     ]
    }
   ],
   "source": [
    "from transformers import AutoModelForTokenClassification, TrainingArguments, Trainer\n",
    "\n",
    "model = AutoModelForTokenClassification.from_pretrained(model_checkpoint, num_labels=len(tags_list))"
   ]
  },
  {
   "cell_type": "code",
   "execution_count": 8,
   "metadata": {},
   "outputs": [],
   "source": [
    "model_name = model_checkpoint.split(\"/\")[-1]\n",
    "args = TrainingArguments(\n",
    "    \"PPIBot model\",\n",
    "    evaluation_strategy = \"epoch\",\n",
    "    learning_rate=2e-5,\n",
    "    per_device_train_batch_size=batch_size,\n",
    "    per_device_eval_batch_size=batch_size,\n",
    "    num_train_epochs=3,\n",
    "    weight_decay=0.01,\n",
    "    push_to_hub=False,\n",
    ")"
   ]
  },
  {
   "cell_type": "code",
   "execution_count": 9,
   "metadata": {},
   "outputs": [],
   "source": [
    "from transformers import DataCollatorForTokenClassification\n",
    "\n",
    "data_collator = DataCollatorForTokenClassification(tokenizer)"
   ]
  },
  {
   "cell_type": "code",
   "execution_count": 10,
   "metadata": {},
   "outputs": [],
   "source": [
    "from datasets import load_metric\n",
    "\n",
    "metric = load_metric(\"seqeval\")"
   ]
  },
  {
   "cell_type": "code",
   "execution_count": 11,
   "metadata": {},
   "outputs": [
    {
     "data": {
      "text/plain": [
       "{'AggFunction': {'precision': 1.0, 'recall': 1.0, 'f1': 1.0, 'number': 1},\n",
       " 'TEE': {'precision': 1.0, 'recall': 1.0, 'f1': 1.0, 'number': 1},\n",
       " 'TMI': {'precision': 1.0, 'recall': 1.0, 'f1': 1.0, 'number': 1},\n",
       " 'TSE': {'precision': 1.0, 'recall': 1.0, 'f1': 1.0, 'number': 1},\n",
       " 'overall_precision': 1.0,\n",
       " 'overall_recall': 1.0,\n",
       " 'overall_f1': 1.0,\n",
       " 'overall_accuracy': 1.0}"
      ]
     },
     "execution_count": 11,
     "metadata": {},
     "output_type": "execute_result"
    }
   ],
   "source": [
    "example = datasets[\"train\"][4]\n",
    "labels = [tags_list[i] for i in example[\"tags\"]]\n",
    "\n",
    "metric.compute(predictions=[labels], references=[labels])\n"
   ]
  },
  {
   "cell_type": "code",
   "execution_count": 12,
   "metadata": {},
   "outputs": [],
   "source": [
    "import numpy as np\n",
    "\n",
    "def compute_metrics(p):\n",
    "    predictions, labels = p\n",
    "    predictions = np.argmax(predictions, axis=2)\n",
    "\n",
    "    # Remove ignored index (special tokens)\n",
    "    true_predictions = [\n",
    "        [tags_list[p] for (p, l) in zip(prediction, label) if l != -100]\n",
    "        for prediction, label in zip(predictions, labels)\n",
    "    ]\n",
    "    true_labels = [\n",
    "        [tags_list[l] for (p, l) in zip(prediction, label) if l != -100]\n",
    "        for prediction, label in zip(predictions, labels)\n",
    "    ]\n",
    "\n",
    "    results = metric.compute(predictions=true_predictions, references=true_labels)\n",
    "    return {\n",
    "        \"precision\": results[\"overall_precision\"],\n",
    "        \"recall\": results[\"overall_recall\"],\n",
    "        \"f1\": results[\"overall_f1\"],\n",
    "        \"accuracy\": results[\"overall_accuracy\"],\n",
    "    }"
   ]
  },
  {
   "cell_type": "code",
   "execution_count": 13,
   "metadata": {},
   "outputs": [],
   "source": [
    "trainer = Trainer(\n",
    "    model,\n",
    "    args,\n",
    "    train_dataset=tokenized_datasets[\"train\"],\n",
    "    eval_dataset=tokenized_datasets[\"test\"],\n",
    "    data_collator=data_collator,\n",
    "    tokenizer=tokenizer,\n",
    "    compute_metrics=compute_metrics\n",
    ")"
   ]
  },
  {
   "cell_type": "code",
   "execution_count": null,
   "metadata": {},
   "outputs": [],
   "source": [
    "trainer.train()"
   ]
  },
  {
   "cell_type": "code",
   "execution_count": 13,
   "metadata": {},
   "outputs": [
    {
     "name": "stderr",
     "output_type": "stream",
     "text": [
      "The following columns in the evaluation set  don't have a corresponding argument in `DistilBertForTokenClassification.forward` and have been ignored: tokens, tags. If tokens, tags are not expected by `DistilBertForTokenClassification.forward`,  you can safely ignore this message.\n",
      "***** Running Evaluation *****\n",
      "  Num examples = 3228\n",
      "  Batch size = 16\n",
      "100%|██████████| 202/202 [03:37<00:00,  1.08s/it]\n"
     ]
    },
    {
     "data": {
      "text/plain": [
       "{'eval_loss': 0.0010817419970408082,\n",
       " 'eval_precision': 1.0,\n",
       " 'eval_recall': 1.0,\n",
       " 'eval_f1': 1.0,\n",
       " 'eval_accuracy': 1.0,\n",
       " 'eval_runtime': 219.5266,\n",
       " 'eval_samples_per_second': 14.704,\n",
       " 'eval_steps_per_second': 0.92,\n",
       " 'epoch': 3.0}"
      ]
     },
     "execution_count": 13,
     "metadata": {},
     "output_type": "execute_result"
    }
   ],
   "source": [
    "trainer.evaluate()"
   ]
  },
  {
   "cell_type": "code",
   "execution_count": 14,
   "metadata": {},
   "outputs": [
    {
     "name": "stderr",
     "output_type": "stream",
     "text": [
      "The following columns in the test set  don't have a corresponding argument in `DistilBertForTokenClassification.forward` and have been ignored: tags, tokens. If tags, tokens are not expected by `DistilBertForTokenClassification.forward`,  you can safely ignore this message.\n",
      "***** Running Prediction *****\n",
      "  Num examples = 3228\n",
      "  Batch size = 16\n",
      "100%|██████████| 202/202 [03:56<00:00,  1.05s/it]"
     ]
    },
    {
     "data": {
      "text/plain": [
       "{'AGR': {'precision': 1.0, 'recall': 1.0, 'f1': 1.0, 'number': 1731},\n",
       " 'AGRCount': {'precision': 1.0, 'recall': 1.0, 'f1': 1.0, 'number': 388},\n",
       " 'AggFunction': {'precision': 1.0, 'recall': 1.0, 'f1': 1.0, 'number': 421},\n",
       " 'AttributeValue': {'precision': 1.0,\n",
       "  'recall': 1.0,\n",
       "  'f1': 1.0,\n",
       "  'number': 1635},\n",
       " 'CCI': {'precision': 1.0, 'recall': 1.0, 'f1': 1.0, 'number': 1418},\n",
       " 'CE': {'precision': 1.0, 'recall': 1.0, 'f1': 1.0, 'number': 907},\n",
       " 'CMI': {'precision': 1.0, 'recall': 1.0, 'f1': 1.0, 'number': 388},\n",
       " 'FDE': {'precision': 1.0, 'recall': 1.0, 'f1': 1.0, 'number': 220},\n",
       " 'FDI': {'precision': 1.0, 'recall': 1.0, 'f1': 1.0, 'number': 220},\n",
       " 'GBC': {'precision': 1.0, 'recall': 1.0, 'f1': 1.0, 'number': 448},\n",
       " 'GBI': {'precision': 1.0, 'recall': 1.0, 'f1': 1.0, 'number': 448},\n",
       " 'TBE': {'precision': 1.0, 'recall': 1.0, 'f1': 1.0, 'number': 60},\n",
       " 'TEE': {'precision': 1.0, 'recall': 1.0, 'f1': 1.0, 'number': 2540},\n",
       " 'TEI': {'precision': 1.0, 'recall': 1.0, 'f1': 1.0, 'number': 2359},\n",
       " 'TMI': {'precision': 1.0, 'recall': 1.0, 'f1': 1.0, 'number': 2381},\n",
       " 'TSE': {'precision': 1.0, 'recall': 1.0, 'f1': 1.0, 'number': 2656},\n",
       " 'TSI': {'precision': 1.0, 'recall': 1.0, 'f1': 1.0, 'number': 2359},\n",
       " 'overall_precision': 1.0,\n",
       " 'overall_recall': 1.0,\n",
       " 'overall_f1': 1.0,\n",
       " 'overall_accuracy': 1.0}"
      ]
     },
     "execution_count": 14,
     "metadata": {},
     "output_type": "execute_result"
    }
   ],
   "source": [
    "\n",
    "predictions, labels, _ = trainer.predict(tokenized_datasets[\"test\"])\n",
    "predictions = np.argmax(predictions, axis=2)\n",
    "\n",
    "# Remove ignored index (special tokens)\n",
    "true_predictions = [\n",
    "    [tags_list[p] for (p, l) in zip(prediction, label) if l != -100]\n",
    "    for prediction, label in zip(predictions, labels)\n",
    "]\n",
    "true_labels = [\n",
    "    [tags_list[l] for (p, l) in zip(prediction, label) if l != -100]\n",
    "    for prediction, label in zip(predictions, labels)\n",
    "]\n",
    "\n",
    "\n",
    "results = metric.compute(predictions=true_predictions, references=true_labels)\n",
    "results\n"
   ]
  },
  {
   "cell_type": "code",
   "execution_count": 14,
   "metadata": {},
   "outputs": [
    {
     "name": "stderr",
     "output_type": "stream",
     "text": [
      "Saving model checkpoint to PPIBot model\n",
      "Configuration saved in PPIBot model/config.json\n",
      "Model weights saved in PPIBot model/pytorch_model.bin\n",
      "tokenizer config file saved in PPIBot model/tokenizer_config.json\n",
      "Special tokens file saved in PPIBot model/special_tokens_map.json\n"
     ]
    }
   ],
   "source": [
    "trainer.save_model()"
   ]
  },
  {
   "cell_type": "code",
   "execution_count": 12,
   "metadata": {},
   "outputs": [],
   "source": [
    "#load model from \n",
    "from transformers import AutoModelForTokenClassification\n",
    "\n",
    "model = AutoModelForTokenClassification.from_pretrained(\"../models/CountModel\")\n"
   ]
  },
  {
   "cell_type": "code",
   "execution_count": 13,
   "metadata": {},
   "outputs": [
    {
     "name": "stdout",
     "output_type": "stream",
     "text": [
      "tensor([[ 9,  3,  1,  2, 10, 10, 10, 10, 18]])\n",
      "['B-CMI', 'I-AggFunction', 'B-CE', 'I-CE', 'I-CE', 'I-CE', 'I-CE']\n"
     ]
    }
   ],
   "source": [
    "#predict\n",
    "tokens  = tokenizer([\"number\", \"of\", \"activities\", \"that\", \"are\", \"not\", \"reopened\"], return_tensors='pt', is_split_into_words=True, truncation=True)\n",
    "\n",
    "predictions = model(**tokens)\n",
    "logits = predictions[\"logits\"]\n",
    "\n",
    "print(logits.argmax(-1))\n",
    "predictions = logits.argmax(-1).tolist()[0]\n",
    "ls = [tags_list[i] for i in predictions]\n",
    "print(ls[1:-1])\n",
    "\n"
   ]
  }
 ],
 "metadata": {
  "kernelspec": {
   "display_name": "Python 3.8.13 ('PPIBot')",
   "language": "python",
   "name": "python3"
  },
  "language_info": {
   "codemirror_mode": {
    "name": "ipython",
    "version": 3
   },
   "file_extension": ".py",
   "mimetype": "text/x-python",
   "name": "python",
   "nbconvert_exporter": "python",
   "pygments_lexer": "ipython3",
   "version": "3.8.13"
  },
  "orig_nbformat": 4,
  "vscode": {
   "interpreter": {
    "hash": "fb8d1a381093ee6ff8b5e45ca9539dfe4d33cc67de644f90e8e7e8993859d491"
   }
  }
 },
 "nbformat": 4,
 "nbformat_minor": 2
}
