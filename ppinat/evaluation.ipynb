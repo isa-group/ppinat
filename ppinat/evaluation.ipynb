{
 "cells": [
  {
   "cell_type": "code",
   "execution_count": 1,
   "metadata": {},
   "outputs": [
    {
     "name": "stderr",
     "output_type": "stream",
     "text": [
      "c:\\Users\\maribel\\AppData\\Local\\Anaconda3\\envs\\dialogact\\lib\\site-packages\\tqdm\\auto.py:21: TqdmWarning: IProgress not found. Please update jupyter and ipywidgets. See https://ipywidgets.readthedocs.io/en/stable/user_install.html\n",
      "  from .autonotebook import tqdm as notebook_tqdm\n"
     ]
    }
   ],
   "source": [
    "import json\n",
    "from transformers import AutoTokenizer, AutoModelForSeq2SeqLM\n",
    "file = \"../input/metrics_dataset-domesticDeclarations.json\"\n",
    "with open(file) as f:\n",
    "    metrics = json.load(f)"
   ]
  },
  {
   "cell_type": "code",
   "execution_count": 2,
   "metadata": {},
   "outputs": [],
   "source": [
    "phrases =  [metric for metric in metrics[\"metrics\"]]"
   ]
  },
  {
   "cell_type": "code",
   "execution_count": 3,
   "metadata": {},
   "outputs": [],
   "source": [
    "tokenizer = AutoTokenizer.from_pretrained(\"google/flan-t5-large\")\n",
    "model = AutoModelForSeq2SeqLM.from_pretrained(\"./models/GeneralParser_flant5\")"
   ]
  },
  {
   "cell_type": "code",
   "execution_count": 4,
   "metadata": {},
   "outputs": [
    {
     "name": "stdout",
     "output_type": "stream",
     "text": [
      "Input: Total workflow rejections by approver\n",
      "Expected: {'AGR': 'Total', 'CE': 'workflow rejections by approver'}\n",
      "Predicted: Total: AGR; workflow rejections: CE; approver: GBC\n",
      "\n",
      "Input: percentage of rejections by approver\n",
      "Expected: {'AGR': 'percentage of', 'CE': 'rejections by approver'}\n",
      "Predicted: percentage of: AGR; rejections: CE; approver: FDE\n",
      "\n",
      "Input: Total workflow rejected by worker\n",
      "Expected: {'AGR': 'Total', 'CE': 'workflow rejected by worker'}\n",
      "Predicted: Total: AGR; workflow rejected: CE; worker: GBC\n",
      "\n",
      "Input: percentage of rejected workflows by worker\n",
      "Expected: {'AGR': 'percentage of', 'CE': 'rejected workflows by worker'}\n",
      "Predicted: rejected workflows by worker: CE\n",
      "\n",
      "Input: The % of requests the director approves\n",
      "Expected: {'CE': 'requests the director approves', 'AGR': '% of'}\n",
      "Predicted: AGR; requests the director approves: CE\n",
      "\n",
      "Input: The % of submitted declarations that are rejected\n",
      "Expected: {'AGR': '% of', 'CE': 'submitted declarations that are rejected'}\n",
      "Predicted: AGR; submitted declarations that are rejected: CE; are: FDE\n",
      "\n",
      "Input: Percentage of approved reimbursement requests\n",
      "Expected: {'AGR': 'Percentage of', 'CE': 'approved reimbursement requests'}\n",
      "Predicted: Percentage of: AGR; approved reimbursement requests: CE\n",
      "\n",
      "Input: The ratio of reimbursements rejected by employees\n",
      "Expected: {'AGR': 'ratio of', 'CE': 'reimbursements rejected by employees'}\n",
      "Predicted: ratio of: AGR; reimbursements rejected by employees: CE\n",
      "\n",
      "Input: Average number of rejected submissions\n",
      "Expected: {'AGR': 'Average', 'CE': 'rejected submissions'}\n",
      "Predicted: Average: AGR; rejected submissions: CE\n",
      "\n",
      "Input: Number of submissions\n",
      "Expected: {'CE': 'submissions'}\n",
      "Predicted: submissions: CE\n",
      "\n",
      "Input: Number of times the director's approval is needed\n",
      "Expected: {'AGR': 'Number of times', 'CE': \"the director's approval is needed\"}\n",
      "Predicted: times the director's approval is needed: CE\n",
      "\n",
      "Input: Percentage of approved requests for reimbursement of travel costs\n",
      "Expected: {'AGR': 'Percentage of', 'CE': 'approved requests for reimbursement of travel costs'}\n",
      "Predicted: Percentage of: AGR; approved requests for reimbursement of travel costs: CE\n",
      "\n",
      "Input: The ratio of reimbursement requests that are not eventually paid\n",
      "Expected: {'AGR': 'ratio of', 'CE': 'reimbursement requests that are not eventually paid'}\n",
      "Predicted: ratio of: AGR; reimbursement requests that are not eventually paid: CE\n",
      "\n",
      "Input: Percentage of rejected requests for reimbursement\n",
      "Expected: {'AGR': 'Percentage of', 'CE': 'rejected requests for reimbursement'}\n",
      "Predicted: Percentage of: AGR; rejected requests for reimbursement: CE\n",
      "\n",
      "Input: Percentage of declarations that are approved\n",
      "Expected: {'AGR': 'Percentage of', 'CE': 'declarations that are approved'}\n",
      "Predicted: Percentage of: AGR; approval: CE; declarations: FDE\n",
      "\n",
      "Input: The number of reimbursements made per year\n",
      "Expected: {'CE': 'reimbursements made', 'GBC': 'year'}\n",
      "Predicted: reimbursements made: CE; year: GBC\n",
      "\n",
      "Input: Percentage of disapproved declarations\n",
      "Expected: {'AGR': 'Percentage of', 'CE': 'disapproved declarations'}\n",
      "Predicted: Percentage of: AGR; disapproved declarations: CE\n",
      "\n"
     ]
    }
   ],
   "source": [
    "for input_string in phrases:\n",
    "    if input_string[\"type\"] != \"count\":\n",
    "        continue\n",
    "    available_tags = ['TSE', 'TEE', 'TBE', 'CE','AttributeName', 'AttributeValue', 'AGR', 'GBC', 'FDE']\n",
    "    prompt = f\"Sentence: {input_string['description']}\\nAvailable Tags: {', '.join(available_tags)}\"\n",
    "    input_ids = tokenizer(prompt, return_tensors=\"pt\").input_ids\n",
    "    outputs = model.generate(input_ids, max_length=1000)\n",
    "    parsing_result = tokenizer.decode(outputs[0], skip_special_tokens=True)\n",
    "    print(\"Input:\", input_string['description'])\n",
    "    print(\"Expected:\", input_string[\"slots\"])\n",
    "    print(\"Predicted:\", parsing_result)\n",
    "    print(\"\")"
   ]
  }
 ],
 "metadata": {
  "kernelspec": {
   "display_name": "dialogact",
   "language": "python",
   "name": "python3"
  },
  "language_info": {
   "codemirror_mode": {
    "name": "ipython",
    "version": 3
   },
   "file_extension": ".py",
   "mimetype": "text/x-python",
   "name": "python",
   "nbconvert_exporter": "python",
   "pygments_lexer": "ipython3",
   "version": "3.9.7"
  },
  "orig_nbformat": 4
 },
 "nbformat": 4,
 "nbformat_minor": 2
}
