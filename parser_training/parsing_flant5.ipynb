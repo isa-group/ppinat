{
 "cells": [
  {
   "cell_type": "code",
   "execution_count": 1,
   "metadata": {},
   "outputs": [
    {
     "name": "stderr",
     "output_type": "stream",
     "text": [
      "/home/ppibot/anaconda3/envs/myenv/lib/python3.9/site-packages/tqdm/auto.py:22: TqdmWarning: IProgress not found. Please update jupyter and ipywidgets. See https://ipywidgets.readthedocs.io/en/stable/user_install.html\n",
      "  from .autonotebook import tqdm as notebook_tqdm\n"
     ]
    }
   ],
   "source": [
    "import json\n",
    "from datasets import Dataset, concatenate_datasets\n",
    "import torch\n",
    "import numpy as np\n",
    "from nltk.tokenize import sent_tokenize\n",
    "import nltk\n",
    "# nltk.download('punkt')\n",
    "from transformers import AutoTokenizer, AutoModelForSeq2SeqLM, DataCollatorForSeq2Seq, Seq2SeqTrainingArguments, Seq2SeqTrainer\n",
    "from sklearn.metrics import accuracy_score, precision_recall_fscore_support"
   ]
  },
  {
   "cell_type": "code",
   "execution_count": 2,
   "metadata": {},
   "outputs": [],
   "source": [
    "tokenizer = AutoTokenizer.from_pretrained(\"google/flan-t5-base\")\n",
    "model = AutoModelForSeq2SeqLM.from_pretrained(\"google/flan-t5-base\")"
   ]
  },
  {
   "cell_type": "code",
   "execution_count": 3,
   "metadata": {},
   "outputs": [],
   "source": [
    "with open('../input/parser_training/parser_training_data.json', 'r') as f:\n",
    "    training_data_a = json.load(f)"
   ]
  },
  {
   "cell_type": "code",
   "execution_count": 4,
   "metadata": {},
   "outputs": [],
   "source": [
    "useful_tags = ['TSE', 'TEE', 'TBE', 'CE','AttributeName', 'AttributeValue', 'AGR', 'GBC', 'FDE']\n",
    "\n",
    "cleaned_training_data = []\n",
    "for phrase in training_data_a['data']:\n",
    "    useful_slots = []\n",
    "    for slots in phrase['annotation']:\n",
    "        if slots['tag'] in useful_tags:\n",
    "            useful_slots.append(slots)\n",
    "    if len(useful_slots) > 0:\n",
    "        cleaned_training_data.append({'text': phrase['description'], 'slots': useful_slots})"
   ]
  },
  {
   "cell_type": "code",
   "execution_count": 5,
   "metadata": {},
   "outputs": [],
   "source": [
    "with open('../input/metrics_dataset.json', 'r') as f:\n",
    "    training_data_b = json.load(f)"
   ]
  },
  {
   "cell_type": "code",
   "execution_count": 6,
   "metadata": {},
   "outputs": [],
   "source": [
    "with open('../input/paraphrase_data.json', 'r') as f:\n",
    "    paraphrase_data = json.load(f)"
   ]
  },
  {
   "cell_type": "code",
   "execution_count": 7,
   "metadata": {},
   "outputs": [
    {
     "name": "stdout",
     "output_type": "stream",
     "text": [
      "[{'text': 'Number of incidents that are not resolved', 'slots': [{'tag': 'CE', 'text': 'incidents that are not resolved'}]}, {'text': 'Average time from opened to closed', 'slots': [{'tag': 'AGR', 'text': 'Average'}, {'tag': 'TSE', 'text': 'opened'}, {'tag': 'TEE', 'text': 'closed'}]}, {'text': 'Average real time from opening to resolution of the incident', 'slots': [{'tag': 'AGR', 'text': 'Average'}, {'tag': 'TSE', 'text': 'opening'}, {'tag': 'TEE', 'text': 'resolution of the incident'}]}, {'text': 'Average number of priority changes', 'slots': [{'tag': 'AGR', 'text': 'Average'}, {'tag': 'CE', 'text': 'priority changes'}]}, {'text': 'Average delays caused by appealing to prefacture', 'slots': [{'tag': 'AGR', 'text': 'Average'}, {'tag': 'TBE', 'text': 'appealing to prefacture'}]}, {'text': 'Average number of fines that finish without payment', 'slots': [{'tag': 'AGR', 'text': 'Average'}, {'tag': 'CE', 'text': 'fines that finish without payment'}]}, {'text': 'Average number of payments collected in a month', 'slots': [{'tag': 'AGR', 'text': 'Average'}, {'tag': 'CE', 'text': 'payments colllected'}, {'tag': 'GBC', 'text': 'month'}]}, {'text': 'Percentage of fines that are paid before notification', 'slots': [{'tag': 'AGR', 'text': 'Percentage of'}, {'tag': 'CE', 'text': 'fines that are paid before notification'}]}, {'text': 'Average time between fine creation and notification', 'slots': [{'tag': 'AGR', 'text': 'Average'}, {'tag': 'TSE', 'text': 'fine creation'}, {'tag': 'TEE', 'text': 'notification'}]}, {'text': 'Number of fines that are appealed to judge', 'slots': [{'tag': 'CE', 'text': 'fines that are appealed to judge'}]}, {'text': 'Percentage of fines with penalties for the offender out of all fines created', 'slots': [{'tag': 'AGR', 'text': 'Percentage of'}, {'tag': 'CE', 'text': 'fines with penalties for the offender'}, {'tag': 'FDE', 'text': 'all fines created'}]}, {'text': 'Maximum time from fine creation to notification', 'slots': [{'tag': 'AGR', 'text': 'Maximum'}, {'tag': 'TSE', 'text': 'fine creation'}, {'tag': 'TEE', 'text': 'notification'}]}, {'text': 'Percentage of fines that are not dismissed', 'slots': [{'tag': 'AGR', 'text': 'Percentage of'}, {'tag': 'CE', 'text': 'fines that are not dismissed'}]}, {'text': 'Average time until a fine is paid', 'slots': [{'tag': 'AGR', 'text': 'Average'}, {'tag': 'TBE', 'text': 'a fine is paid'}]}, {'text': 'The fraction of fines that are appealed to a judge', 'slots': [{'tag': 'AGR', 'text': 'fraction of'}, {'tag': 'CE', 'text': 'fines that are appealed to a judge'}]}, {'text': 'Number of fines with amounts above 100 euros', 'slots': [{'tag': 'AttributeName', 'text': 'amounts'}, {'tag': 'AttributeValue', 'text': 'above 100 euros'}]}, {'text': 'Fraction of appealed cases that are dismissed', 'slots': [{'tag': 'AGR', 'text': 'Fraction of'}, {'tag': 'CE', 'text': 'are dismissed'}, {'tag': 'FDE', 'text': 'appealed cases'}]}, {'text': 'Percentage of incidents with major impact from all incidents', 'slots': [{'tag': 'AGR', 'text': 'Percentage'}, {'tag': 'AttributeName', 'text': 'impact'}, {'tag': 'AttributeValue', 'text': 'major'}, {'tag': 'FDE', 'text': 'all incidents'}]}, {'text': 'Percentage of incidents that require the third line', 'slots': [{'tag': 'AGR', 'text': 'Percentage of'}, {'tag': 'CE', 'text': 'require the third line'}, {'tag': 'FDE', 'text': 'incidents'}]}, {'text': 'Number of incidents grouped by priority', 'slots': [{'tag': 'CE', 'text': 'incidents'}, {'tag': 'GBC', 'text': 'priority'}]}, {'text': 'Percentage of time spent in wait user state', 'slots': [{'tag': 'AGR', 'text': 'Percentage'}, {'tag': 'TBE', 'text': 'in wait user state'}]}, {'text': 'Percentage of cases that are pushed to the 2nd line', 'slots': [{'tag': 'AGR', 'text': 'Percentage of'}, {'tag': 'CE', 'text': 'pushed to the 2nd line'}, {'tag': 'FDE', 'text': 'cases'}]}, {'text': 'Average time to resolve the incident grouped by impact', 'slots': [{'tag': 'AGR', 'text': 'Average'}, {'tag': 'TBE', 'text': 'resolve the incident'}, {'tag': 'GBC', 'text': 'impact'}]}, {'text': 'Total resolution time of an incident', 'slots': [{'tag': 'AGR', 'text': 'Total'}, {'tag': 'TBE', 'text': 'resolution'}]}, {'text': 'Number of incidents cancelled', 'slots': [{'tag': 'CE', 'text': 'incidents cancelled'}]}, {'text': 'Fraction of cases that are pushed to the 2nd line', 'slots': [{'tag': 'AGR', 'text': 'Fraction of'}, {'tag': 'CE', 'text': 'pushed to the 2nd line'}, {'tag': 'FDE', 'text': 'cases'}]}, {'text': 'Average time that users are waiting', 'slots': [{'tag': 'AGR', 'text': 'Average'}, {'tag': 'TBE', 'text': 'that users are waiting'}]}, {'text': 'Average time to resolve an incident', 'slots': [{'tag': 'AGR', 'text': 'Average'}, {'tag': 'TBE', 'text': 'resolve an incident'}]}, {'text': 'Fraction of incidents that are escalated', 'slots': [{'tag': 'AGR', 'text': 'Fraction of'}, {'tag': 'FDE', 'text': 'incidents'}, {'tag': 'CE', 'text': 'escalated'}]}, {'text': 'Maximum time to resolve an incident', 'slots': [{'tag': 'AGR', 'text': 'Maximum'}, {'tag': 'TBE', 'text': 'resolve an incident'}]}]\n"
     ]
    }
   ],
   "source": [
    "cleaned_training_data_aux = []\n",
    "for phrase in training_data_b[\"metrics\"]:\n",
    "    useful_slots = []\n",
    "    local_slots = []\n",
    "    for slots in phrase['slots']:\n",
    "        if slots in useful_tags:\n",
    "            local_dict = {}\n",
    "            local_dict['tag'] = slots\n",
    "            local_dict['text'] = phrase['slots'][slots]\n",
    "            local_slots.append(local_dict)\n",
    "    if len(local_slots) > 0:\n",
    "        cleaned_training_data_aux.append({'text': phrase['description'], 'slots': local_slots})\n",
    "\n",
    "print(cleaned_training_data_aux)"
   ]
  },
  {
   "cell_type": "code",
   "execution_count": 8,
   "metadata": {},
   "outputs": [
    {
     "name": "stdout",
     "output_type": "stream",
     "text": [
      "[{'text': 'The average time from the opening to the resolution of the incident', 'slots': [{'tag': 'AGR', 'text': 'average'}, {'tag': 'TSE', 'text': 'the opening'}, {'tag': 'TEE', 'text': 'the resolution of the incident'}]}, {'text': 'The mean duration from the commencement to the conclusion of the event', 'slots': [{'tag': 'AGR', 'text': 'mean'}, {'tag': 'TSE', 'text': 'the commencement'}, {'tag': 'TEE', 'text': 'the conclusion of the event'}]}, {'text': 'The average time from customer inquiry to response', 'slots': [{'tag': 'AGR', 'text': 'average'}, {'tag': 'TSE', 'text': 'customer inquiry'}, {'tag': 'TEE', 'text': 'response'}]}, {'text': 'The average time from purchase confirmation to delivery', 'slots': [{'tag': 'AGR', 'text': 'average'}, {'tag': 'TSE', 'text': 'purchase confirmation'}, {'tag': 'TEE', 'text': 'delivery'}]}, {'text': 'The average time from task assignment to completion', 'slots': [{'tag': 'AGR', 'text': 'average'}, {'tag': 'TSE', 'text': 'task assignment'}, {'tag': 'TEE', 'text': 'completion'}]}, {'text': 'The average time from request submission to approval', 'slots': [{'tag': 'AGR', 'text': 'average'}, {'tag': 'TSE', 'text': 'request submission'}, {'tag': 'TEE', 'text': 'approval'}]}, {'text': 'The average time from order placement to delivery', 'slots': [{'tag': 'AGR', 'text': 'average'}, {'tag': 'TSE', 'text': 'order placement'}, {'tag': 'TEE', 'text': 'delivery'}]}, {'text': 'The average time it takes to resolve the incident from the moment it is initiated', 'slots': [{'tag': 'AGR', 'text': 'average'}, {'tag': 'TSE', 'text': 'the moment it is initiated'}, {'tag': 'TEE', 'text': 'to resolve the incident'}]}, {'text': 'The maximum timeframe between the opening and the finalization of the issue', 'slots': [{'tag': 'AGR', 'text': 'maximum'}, {'tag': 'TSE', 'text': 'the opening'}, {'tag': 'TEE', 'text': 'the finalization of the issue'}]}, {'text': 'The median period from start to completion of the occurrence', 'slots': [{'tag': 'AGR', 'text': 'median'}, {'tag': 'TSE', 'text': 'start'}, {'tag': 'TEE', 'text': 'completion of the occurrence'}]}, {'text': 'The average time it takes for the incident to be resolved from its initiation', 'slots': [{'tag': 'AGR', 'text': 'average'}, {'tag': 'TSE', 'text': 'its initiation'}, {'tag': 'TEE', 'text': 'the incident to be resolved'}]}, {'text': 'The mean duration between the opening and the resolution of the incident', 'slots': [{'tag': 'AGR', 'text': 'mean'}, {'tag': 'TSE', 'text': 'the opening'}, {'tag': 'TEE', 'text': 'the resolution of the incident'}]}, {'text': 'The minimum time from commencement to finalization of the event', 'slots': [{'tag': 'AGR', 'text': 'minimum'}, {'tag': 'TSE', 'text': 'commencement'}, {'tag': 'TEE', 'text': 'finalization of the event'}]}, {'text': 'The median time between opening and completion of the issue', 'slots': [{'tag': 'AGR', 'text': 'median'}, {'tag': 'TSE', 'text': 'opening'}, {'tag': 'TEE', 'text': 'completion of the issue'}]}, {'text': 'The mean period from the initiation to the finalization of the occurrence', 'slots': [{'tag': 'AGR', 'text': 'mean'}, {'tag': 'TSE', 'text': 'the initiation'}, {'tag': 'TEE', 'text': 'the finalization of the occurrence'}]}, {'text': 'The average waiting time it takes to complete the manufacturing process', 'slots': [{'tag': 'AGR', 'text': 'average'}, {'tag': 'TBE', 'text': 'complete the manufacturing process'}]}, {'text': 'The maximum duration of a workout session', 'slots': [{'tag': 'AGR', 'text': 'maximum'}, {'tag': 'TBE', 'text': 'a workout session'}]}, {'text': 'The mean time required to assemble the furniture', 'slots': [{'tag': 'AGR', 'text': 'mean'}, {'tag': 'TBE', 'text': 'assemble the furniture'}]}, {'text': 'The average waiting time of a cooking class', 'slots': [{'tag': 'AGR', 'text': 'average'}, {'tag': 'TBE', 'text': 'a cooking class'}]}, {'text': 'Average waiting time for customer support calls', 'slots': [{'tag': 'AGR', 'text': 'average'}, {'tag': 'TBE', 'text': 'customer support calls'}]}, {'text': 'Average waiting time for public transportation', 'slots': [{'tag': 'AGR', 'text': 'average'}, {'tag': 'TBE', 'text': 'public transportation'}]}, {'text': 'The minimum duration of a basketball game', 'slots': [{'tag': 'AGR', 'text': 'minimum'}, {'tag': 'TBE', 'text': 'a basketball game'}]}, {'text': 'The mean time it takes to complete a software installation', 'slots': [{'tag': 'AGR', 'text': 'mean'}, {'tag': 'TBE', 'text': 'complete a software installation'}]}, {'text': 'The average duration of a yoga session', 'slots': [{'tag': 'AGR', 'text': 'average'}, {'tag': 'TBE', 'text': 'a yoga session'}]}, {'text': 'The average waiting time until complete a task grouped by department', 'slots': [{'tag': 'AGR', 'text': 'average'}, {'tag': 'TBE', 'text': 'complete a task'}, {'tag': 'GBC', 'text': 'department'}]}, {'text': 'The maximum duration of customer support tickets grouped by priority', 'slots': [{'tag': 'AGR', 'text': 'maximum'}, {'tag': 'TBE', 'text': 'customer support tickets'}, {'tag': 'GBC', 'text': 'priority'}]}, {'text': 'The mean time to process invoices grouped by vendor', 'slots': [{'tag': 'AGR', 'text': 'mean'}, {'tag': 'TBE', 'text': 'process invoices'}, {'tag': 'GBC', 'text': 'vendor'}]}, {'text': 'The average duration of software development sprints grouped by team', 'slots': [{'tag': 'AGR', 'text': 'average'}, {'tag': 'TBE', 'text': 'software development sprints'}, {'tag': 'GBC', 'text': 'team'}]}, {'text': 'The average time until resolve customer complaints grouped by product category', 'slots': [{'tag': 'AGR', 'text': 'average'}, {'tag': 'TBE', 'text': 'resolve customer complaints'}, {'tag': 'GBC', 'text': 'product category'}]}, {'text': 'The mean duration of meetings grouped by meeting type', 'slots': [{'tag': 'AGR', 'text': 'mean'}, {'tag': 'TBE', 'text': 'meetings'}, {'tag': 'GBC', 'text': 'meeting type'}]}, {'text': 'The average time until complete training sessions grouped by employee level', 'slots': [{'tag': 'AGR', 'text': 'average'}, {'tag': 'TBE', 'text': 'complete training sessions'}, {'tag': 'GBC', 'text': 'employee level'}]}, {'text': 'The minimum duration of software testing cycles grouped by application', 'slots': [{'tag': 'AGR', 'text': 'minimum'}, {'tag': 'TBE', 'text': 'software testing cycles'}, {'tag': 'GBC', 'text': 'application'}]}, {'text': 'The average time from project initiation to project completion grouped by department', 'slots': [{'tag': 'AGR', 'text': 'average'}, {'tag': 'TSE', 'text': 'project initiation'}, {'tag': 'TEE', 'text': 'project completion'}, {'tag': 'GBC', 'text': 'department'}]}, {'text': 'The mean time from order placement to order delivery, grouped by shipping method.', 'slots': [{'tag': 'AGR', 'text': 'mean'}, {'tag': 'TSE', 'text': 'order placement'}, {'tag': 'TEE', 'text': 'order delivery'}, {'tag': 'GBC', 'text': 'shipping method'}]}, {'text': 'The maximum time from product ideation to product launch, grouped by product category.', 'slots': [{'tag': 'AGR', 'text': 'maximum'}, {'tag': 'TSE', 'text': 'product ideation'}, {'tag': 'TEE', 'text': 'product launch'}, {'tag': 'GBC', 'text': 'product category'}]}, {'text': 'The average time it takes for a customer to receive a response to their inquiry, grouped by support channel.', 'slots': [{'tag': 'AGR', 'text': 'average'}, {'tag': 'TSE', 'text': 'inquiry'}, {'tag': 'TEE', 'text': 'receive a response'}, {'tag': 'GBC', 'text': 'support channel'}]}, {'text': 'The mean time from the start of a project to the end of a project, grouped by project type.', 'slots': [{'tag': 'AGR', 'text': 'mean'}, {'tag': 'TSE', 'text': 'start of a project'}, {'tag': 'TEE', 'text': 'end of a project'}, {'tag': 'GBC', 'text': 'project type'}]}, {'text': 'The average number of website visits, grouped by traffic source', 'slots': [{'tag': 'AGR', 'text': 'average'}, {'tag': 'CE', 'text': 'website visits'}, {'tag': 'GBC', 'text': 'traffic source'}]}, {'text': 'The mean number of customer orders placed per week', 'slots': [{'tag': 'AGR', 'text': 'mean'}, {'tag': 'CE', 'text': 'customer orders placed'}, {'tag': 'GBC', 'text': 'week'}]}, {'text': 'The average number of emails received per month', 'slots': [{'tag': 'AGR', 'text': 'average'}, {'tag': 'CE', 'text': 'emails received'}, {'tag': 'GBC', 'text': 'month'}]}, {'text': 'The maximum number of customer complaints received per week', 'slots': [{'tag': 'AGR', 'text': 'maximum'}, {'tag': 'CE', 'text': 'customer complaints received'}, {'tag': 'GBC', 'text': 'week'}]}, {'text': 'The mean number of software bugs reported per sprint', 'slots': [{'tag': 'AGR', 'text': 'mean'}, {'tag': 'CE', 'text': 'software bugs reported'}, {'tag': 'GBC', 'text': 'sprint'}]}, {'text': 'The % of customers who renew their subscription, out of subscribers', 'slots': [{'tag': 'AGR', 'text': '% of'}, {'tag': 'CE', 'text': 'customers who renew their subscription'}, {'tag': 'FDE', 'text': 'subscribers'}]}, {'text': 'The fraction of defective products identified during quality control inspections', 'slots': [{'tag': 'AGR', 'text': 'fraction of'}, {'tag': 'CE', 'text': 'defective products identified'}, {'tag': 'FDE', 'text': 'quality control inspections'}]}, {'text': 'The proportion of successful deliveries, out of delivery attempts', 'slots': [{'tag': 'AGR', 'text': 'proportion of'}, {'tag': 'CE', 'text': 'successful deliveries'}, {'tag': 'FDE', 'text': 'delivery attempts'}]}, {'text': 'The % of resolved customer complaints, out of complaints received', 'slots': [{'tag': 'AGR', 'text': '% of'}, {'tag': 'CE', 'text': 'resolved customer complaints'}, {'tag': 'FDE', 'text': 'complaints received'}]}, {'text': 'The % of completed tasks, out of assigned tasks', 'slots': [{'tag': 'AGR', 'text': '% of'}, {'tag': 'CE', 'text': 'completed tasks'}, {'tag': 'FDE', 'text': 'assigned tasks'}]}, {'text': 'The proportion of successful job placements, out of job applicants', 'slots': [{'tag': 'AGR', 'text': 'proportion of'}, {'tag': 'CE', 'text': 'successful job placements'}, {'tag': 'FDE', 'text': 'job applicants'}]}, {'text': 'The fraction of completed surveys from distributed surveys', 'slots': [{'tag': 'AGR', 'text': 'fraction of'}, {'tag': 'CE', 'text': 'completed surveys'}, {'tag': 'FDE', 'text': 'distributed surveys'}]}, {'text': 'The percentage of successful sales conversions in relation to leads generated', 'slots': [{'tag': 'AGR', 'text': 'percentage of'}, {'tag': 'CE', 'text': 'successful sales conversions'}, {'tag': 'FDE', 'text': 'leads generated'}]}, {'text': 'The ratio of resolved support tickets in relation to support tickets submitted', 'slots': [{'tag': 'AGR', 'text': 'ratio of'}, {'tag': 'CE', 'text': 'resolved support tickets'}, {'tag': 'FDE', 'text': 'support tickets submitted'}]}, {'text': 'The proportion of on-time project deliveries from projects completed', 'slots': [{'tag': 'AGR', 'text': 'proportion of'}, {'tag': 'CE', 'text': 'on-time project deliveries'}, {'tag': 'FDE', 'text': 'projects completed'}]}, {'text': 'The % of approved loan applications from loan applications received', 'slots': [{'tag': 'AGR', 'text': '% of'}, {'tag': 'CE', 'text': 'approved loan applications'}, {'tag': 'FDE', 'text': 'loan applications received'}]}, {'text': 'The ratio of completed tasks in relation to assigned tasks', 'slots': [{'tag': 'AGR', 'text': 'ratio of'}, {'tag': 'CE', 'text': 'completed tasks'}, {'tag': 'FDE', 'text': 'assigned tasks'}]}, {'text': 'The proportion of satisfied customers in relation to customers surveyed', 'slots': [{'tag': 'AGR', 'text': 'proportion of'}, {'tag': 'CE', 'text': 'satisfied customers'}, {'tag': 'FDE', 'text': 'customers surveyed'}]}, {'text': 'The percentage of successful job interviews in relation to job applicants', 'slots': [{'tag': 'AGR', 'text': 'percentage of'}, {'tag': 'CE', 'text': 'successful job interviews'}, {'tag': 'FDE', 'text': 'job applicants'}]}, {'text': 'The fraction of resolved customer complaints in relation to complaints received', 'slots': [{'tag': 'AGR', 'text': 'fraction of'}, {'tag': 'CE', 'text': 'resolved customer complaints'}, {'tag': 'FDE', 'text': 'complaints received'}]}, {'text': 'The ratio of correct answers to questions in the exam', 'slots': [{'tag': 'AGR', 'text': 'ratio of'}, {'tag': 'CE', 'text': 'correct answers'}, {'tag': 'FDE', 'text': 'questions in the exam'}]}, {'text': 'Average sales per month', 'slots': [{'tag': 'AGR', 'text': 'Average'}, {'tag': 'AttributeName', 'text': 'sales'}, {'tag': 'GBC', 'text': 'month'}]}, {'text': 'Average customer satisfaction score per month', 'slots': [{'tag': 'AGR', 'text': 'Average'}, {'tag': 'AttributeName', 'text': 'customer satisfaction score'}, {'tag': 'GBC', 'text': 'month'}]}, {'text': 'Minimum production cost', 'slots': [{'tag': 'AGR', 'text': 'Minimum'}, {'tag': 'AttributeName', 'text': 'production cost'}]}, {'text': 'Minimum stock level reached', 'slots': [{'tag': 'AGR', 'text': 'Minimum'}, {'tag': 'AttributeName', 'text': 'stock level'}]}, {'text': 'Maximum temperature recorded', 'slots': [{'tag': 'AGR', 'text': 'Maximum'}, {'tag': 'AttributeName', 'text': 'temperature'}]}, {'text': 'Maximum profit margin per product category', 'slots': [{'tag': 'AGR', 'text': 'Maximum'}, {'tag': 'AttributeName', 'text': 'profit margin'}, {'tag': 'GBC', 'text': 'product category'}]}, {'text': 'Time to resolution after the customer complaint date', 'slots': [{'tag': 'TSE', 'text': 'the customer complaint date'}, {'tag': 'TEE', 'text': 'resolution'}]}, {'text': 'Time to delivery since the order placement date', 'slots': [{'tag': 'TSE', 'text': 'the order placement date'}, {'tag': 'TEE', 'text': 'delivery'}]}, {'text': 'Time to response after the support ticket submission date', 'slots': [{'tag': 'TSE', 'text': 'the support ticket submission date'}, {'tag': 'TEE', 'text': 'response'}]}, {'text': 'Time to completion after the project kickoff', 'slots': [{'tag': 'TSE', 'text': 'the project kickoff'}, {'tag': 'TEE', 'text': 'completion'}]}, {'text': 'Time to resolution since the support ticket submission', 'slots': [{'tag': 'TSE', 'text': 'the support ticket submission'}, {'tag': 'TEE', 'text': 'resolution'}]}, {'text': 'Time to delivery after the order placement', 'slots': [{'tag': 'TSE', 'text': 'the order placement'}, {'tag': 'TEE', 'text': 'delivery'}]}, {'text': 'Time to response since the customer inquiry', 'slots': [{'tag': 'TSE', 'text': 'the customer inquiry'}, {'tag': 'TEE', 'text': 'response'}]}, {'text': 'Time to resolution after the incident report', 'slots': [{'tag': 'TSE', 'text': 'the incident report'}, {'tag': 'TEE', 'text': 'resolution'}]}, {'text': 'Time to resolution since the incident report', 'slots': [{'tag': 'TSE', 'text': 'the incident report'}, {'tag': 'TEE', 'text': 'resolution'}]}, {'text': 'Time to completion since the task assignment', 'slots': [{'tag': 'TSE', 'text': 'the task assignment'}, {'tag': 'TEE', 'text': 'completion'}]}, {'text': 'Time to delivery after the order placement', 'slots': [{'tag': 'TSE', 'text': 'the order placement'}, {'tag': 'TEE', 'text': 'delivery'}]}, {'text': 'Time to completion since the project kickoff', 'slots': [{'tag': 'TSE', 'text': 'the project kickoff'}, {'tag': 'TEE', 'text': 'completion'}]}, {'text': 'Number of sales made in relation to the first customer visit', 'slots': [{'tag': 'CE', 'text': 'sales made'}, {'tag': 'FDE', 'text': 'the first customer visit'}]}, {'text': 'Number of defects found in relation to the initial product inspection', 'slots': [{'tag': 'CE', 'text': 'defects found'}, {'tag': 'FDE', 'text': 'the initial product inspection'}]}, {'text': 'Number of errors logged in relation to the first system startup', 'slots': [{'tag': 'CE', 'text': 'errors logged'}, {'tag': 'FDE', 'text': 'the first system startup'}]}, {'text': 'Number of accidents reported in relation to the first day of operation', 'slots': [{'tag': 'CE', 'text': 'accidents reported'}, {'tag': 'FDE', 'text': 'the first day of operation'}]}, {'text': 'Number of tasks completed in relation to the initial project kickoff', 'slots': [{'tag': 'CE', 'text': 'tasks completed'}, {'tag': 'FDE', 'text': 'the initial project kickoff'}]}, {'text': 'Number of times the system crashed in relation to the first system startup', 'slots': [{'tag': 'CE', 'text': 'the system crashed'}, {'tag': 'FDE', 'text': 'the first system startup'}]}, {'text': 'Number of times a customer canceled their subscription in relation to the first sign-up', 'slots': [{'tag': 'CE', 'text': 'a customer canceled their subscription'}, {'tag': 'FDE', 'text': 'the first sign-up'}]}, {'text': 'Number of times a task was completed in relation to the first task assignment', 'slots': [{'tag': 'CE', 'text': 'a task was completed'}, {'tag': 'FDE', 'text': 'the first task assignment'}]}, {'text': 'Number of times the system crashed', 'slots': [{'tag': 'CE', 'text': 'the system crashed'}]}, {'text': 'Number of times a customer placed an order', 'slots': [{'tag': 'CE', 'text': 'a customer placed an order'}]}, {'text': 'Number of times an error occurred', 'slots': [{'tag': 'CE', 'text': 'an error occurred'}]}, {'text': 'Total number of times a feature was used', 'slots': [{'tag': 'AGR', 'text': 'Total'}, {'tag': 'CE', 'text': 'a feature was used'}]}, {'text': 'Total number of times a payment was made', 'slots': [{'tag': 'AGR', 'text': 'Total'}, {'tag': 'CE', 'text': 'a payment was made'}]}, {'text': 'Number of times an item was sold', 'slots': [{'tag': 'CE', 'text': 'an item was sold'}]}, {'text': 'Total number of times a task was completed', 'slots': [{'tag': 'AGR', 'text': 'Total'}, {'tag': 'CE', 'text': 'a task was completed'}]}]\n"
     ]
    }
   ],
   "source": [
    "cleaned_training_data_aux_2 = []\n",
    "for phrase in paraphrase_data[\"metrics\"]:\n",
    "    useful_slots = []\n",
    "    local_slots = []\n",
    "    for slots in phrase['slots']:\n",
    "        if slots in useful_tags:\n",
    "            local_dict = {}\n",
    "            local_dict['tag'] = slots\n",
    "            local_dict['text'] = phrase['slots'][slots]\n",
    "            local_slots.append(local_dict)\n",
    "    if len(local_slots) > 0:\n",
    "        cleaned_training_data_aux_2.append({'text': phrase['description'], 'slots': local_slots})\n",
    "\n",
    "print(cleaned_training_data_aux_2)"
   ]
  },
  {
   "cell_type": "code",
   "execution_count": 9,
   "metadata": {},
   "outputs": [],
   "source": [
    "cleaned_training_data.extend(cleaned_training_data_aux)"
   ]
  },
  {
   "cell_type": "code",
   "execution_count": 10,
   "metadata": {},
   "outputs": [],
   "source": [
    "cleaned_training_data.extend(cleaned_training_data_aux_2)"
   ]
  },
  {
   "cell_type": "code",
   "execution_count": 11,
   "metadata": {},
   "outputs": [
    {
     "name": "stdout",
     "output_type": "stream",
     "text": [
      "['Sentence: Elapsed time between an action requirement is notified until the action is performed.\\nAvailable Tags: TSE, TEE, TBE, CE, AttributeName, AttributeValue, AGR, GBC, FDE', 'Sentence: Elapsed time between action is performed until the corresponding documentation is delivered.\\nAvailable Tags: TSE, TEE, TBE, CE, AttributeName, AttributeValue, AGR, GBC, FDE', 'Sentence: the elapsed time between the notification to contractor of the installation requirement and its planning.\\nAvailable Tags: TSE, TEE, TBE, CE, AttributeName, AttributeValue, AGR, GBC, FDE', 'Sentence: the elapsed time between APC contracts the service and contractor is able to start it.\\nAvailable Tags: TSE, TEE, TBE, CE, AttributeName, AttributeValue, AGR, GBC, FDE', 'Sentence: the elapsed time between the end and closure of the installation and the documentation submission\\nAvailable Tags: TSE, TEE, TBE, CE, AttributeName, AttributeValue, AGR, GBC, FDE', 'Sentence: the elapsed time between repair notification and repair is ended and closured.\\nAvailable Tags: TSE, TEE, TBE, CE, AttributeName, AttributeValue, AGR, GBC, FDE', 'Sentence: average time that it takes the REDES department of the ISC to solve the incident of the user from that it is communicated to REDES until the user is notified that its incident due to the blocked domain at the router level has been solved\\nAvailable Tags: TSE, TEE, TBE, CE, AttributeName, AttributeValue, AGR, GBC, FDE', 'Sentence: the elapsed time between the notification to contractor of the intervention requirement and its planning\\nAvailable Tags: TSE, TEE, TBE, CE, AttributeName, AttributeValue, AGR, GBC, FDE', 'Sentence: The elapsed time between the resource (technician) assignment and the intervention start time.\\nAvailable Tags: TSE, TEE, TBE, CE, AttributeName, AttributeValue, AGR, GBC, FDE', 'Sentence: the elapsed time between the technician arrival to headquarters and the end and closure of the intervention.\\nAvailable Tags: TSE, TEE, TBE, CE, AttributeName, AttributeValue, AGR, GBC, FDE', 'Sentence: the elapsed time between the end and closure of the intervention at headquarters and the documentation submission\\nAvailable Tags: TSE, TEE, TBE, CE, AttributeName, AttributeValue, AGR, GBC, FDE', 'Sentence: average time to solve an incident due to virus\\nAvailable Tags: TSE, TEE, TBE, CE, AttributeName, AttributeValue, AGR, GBC, FDE', 'Sentence: Delays caused by committees\\nAvailable Tags: TSE, TEE, TBE, CE, AttributeName, AttributeValue, AGR, GBC, FDE', 'Sentence: average time elevated waiting for committee\\nAvailable Tags: TSE, TEE, TBE, CE, AttributeName, AttributeValue, AGR, GBC, FDE', 'Sentence: Average time to analyse a request\\nAvailable Tags: TSE, TEE, TBE, CE, AttributeName, AttributeValue, AGR, GBC, FDE', 'Sentence: average time of RFC under analysis\\nAvailable Tags: TSE, TEE, TBE, CE, AttributeName, AttributeValue, AGR, GBC, FDE', 'Sentence: Average lifetime of an RFC per contractor\\nAvailable Tags: TSE, TEE, TBE, CE, AttributeName, AttributeValue, AGR, GBC, FDE', 'Sentence: Total lifetime of an RFC per contractor\\nAvailable Tags: TSE, TEE, TBE, CE, AttributeName, AttributeValue, AGR, GBC, FDE', 'Sentence: Total Average lifetime of an RFC\\nAvailable Tags: TSE, TEE, TBE, CE, AttributeName, AttributeValue, AGR, GBC, FDE', 'Sentence: number of users within the black list\\nAvailable Tags: TSE, TEE, TBE, CE, AttributeName, AttributeValue, AGR, GBC, FDE', 'Sentence: percentage of problems receiving emails with respect to the total number of problems due to sending or receiving emails\\nAvailable Tags: TSE, TEE, TBE, CE, AttributeName, AttributeValue, AGR, GBC, FDE', 'Sentence: % cancelled RFCs due to Registry error from all registered RFCs\\nAvailable Tags: TSE, TEE, TBE, CE, AttributeName, AttributeValue, AGR, GBC, FDE', 'Sentence: % Corrective RFCs from all Approved RFCs\\nAvailable Tags: TSE, TEE, TBE, CE, AttributeName, AttributeValue, AGR, GBC, FDE', 'Sentence: number of users blocked for misusing email\\nAvailable Tags: TSE, TEE, TBE, CE, AttributeName, AttributeValue, AGR, GBC, FDE', 'Sentence: total number of incidents due to mailbox management\\nAvailable Tags: TSE, TEE, TBE, CE, AttributeName, AttributeValue, AGR, GBC, FDE', 'Sentence: average number of incidents related to the address book management\\nAvailable Tags: TSE, TEE, TBE, CE, AttributeName, AttributeValue, AGR, GBC, FDE', 'Sentence: average number of incidents related to the calendar\\nAvailable Tags: TSE, TEE, TBE, CE, AttributeName, AttributeValue, AGR, GBC, FDE', 'Sentence: average number of incidents related to the email management in general\\nAvailable Tags: TSE, TEE, TBE, CE, AttributeName, AttributeValue, AGR, GBC, FDE', 'Sentence: number of received messages\\nAvailable Tags: TSE, TEE, TBE, CE, AttributeName, AttributeValue, AGR, GBC, FDE', 'Sentence: number of managed messages per courier\\nAvailable Tags: TSE, TEE, TBE, CE, AttributeName, AttributeValue, AGR, GBC, FDE', 'Sentence: number of discarded connections due to black list (RBL)\\nAvailable Tags: TSE, TEE, TBE, CE, AttributeName, AttributeValue, AGR, GBC, FDE', 'Sentence: number of messages with virus\\nAvailable Tags: TSE, TEE, TBE, CE, AttributeName, AttributeValue, AGR, GBC, FDE', 'Sentence: number of messages tagged as spam\\nAvailable Tags: TSE, TEE, TBE, CE, AttributeName, AttributeValue, AGR, GBC, FDE', 'Sentence: number of times the university of seville clocked a remote MX (mail exchange)\\nAvailable Tags: TSE, TEE, TBE, CE, AttributeName, AttributeValue, AGR, GBC, FDE', 'Sentence: number of incidents happening with the distribution list\\nAvailable Tags: TSE, TEE, TBE, CE, AttributeName, AttributeValue, AGR, GBC, FDE', 'Sentence: number of incidents due to virus\\nAvailable Tags: TSE, TEE, TBE, CE, AttributeName, AttributeValue, AGR, GBC, FDE', 'Sentence: number of users blocked due to massive sending of emails\\nAvailable Tags: TSE, TEE, TBE, CE, AttributeName, AttributeValue, AGR, GBC, FDE', 'Sentence: number of problems happened due to phishing\\nAvailable Tags: TSE, TEE, TBE, CE, AttributeName, AttributeValue, AGR, GBC, FDE', 'Sentence: number of Cancelled RFCs due to \"registry error\"\\nAvailable Tags: TSE, TEE, TBE, CE, AttributeName, AttributeValue, AGR, GBC, FDE', 'Sentence: Volume of Corrective changes\\nAvailable Tags: TSE, TEE, TBE, CE, AttributeName, AttributeValue, AGR, GBC, FDE', 'Sentence: Volume of analysis requests\\nAvailable Tags: TSE, TEE, TBE, CE, AttributeName, AttributeValue, AGR, GBC, FDE', 'Sentence: Number of RFCs under \"Analysis\"\\nAvailable Tags: TSE, TEE, TBE, CE, AttributeName, AttributeValue, AGR, GBC, FDE', 'Sentence: Volume of RFCs per type of change\\nAvailable Tags: TSE, TEE, TBE, CE, AttributeName, AttributeValue, AGR, GBC, FDE', 'Sentence: Volume of RFCs per project\\nAvailable Tags: TSE, TEE, TBE, CE, AttributeName, AttributeValue, AGR, GBC, FDE', 'Sentence: Volume of RFCs per application\\nAvailable Tags: TSE, TEE, TBE, CE, AttributeName, AttributeValue, AGR, GBC, FDE', 'Sentence: Volume of RFCs per contractor per project\\nAvailable Tags: TSE, TEE, TBE, CE, AttributeName, AttributeValue, AGR, GBC, FDE', 'Sentence: Volume of RFCs per contractor per application\\nAvailable Tags: TSE, TEE, TBE, CE, AttributeName, AttributeValue, AGR, GBC, FDE', 'Sentence: Number of new incidents opened in a period of time\\nAvailable Tags: TSE, TEE, TBE, CE, AttributeName, AttributeValue, AGR, GBC, FDE', 'Sentence: Number of incidents solved in a period of time  Maximum Number of incidents solved in a period of time\\nAvailable Tags: TSE, TEE, TBE, CE, AttributeName, AttributeValue, AGR, GBC, FDE', 'Sentence: the duration between the time instants when activity1 becomes state1 and when activity2 becomes state2\\nAvailable Tags: TSE, TEE, TBE, CE, AttributeName, AttributeValue, AGR, GBC, FDE', 'Sentence: average duration between the time instants when activity1 becomes state1 and when activity2 becomes state2\\nAvailable Tags: TSE, TEE, TBE, CE, AttributeName, AttributeValue, AGR, GBC, FDE', 'Sentence: minimum duration between the time instants when activity1 becomes state1 and when activity2 becomes state2\\nAvailable Tags: TSE, TEE, TBE, CE, AttributeName, AttributeValue, AGR, GBC, FDE', 'Sentence: minimal duration between the time instants when activity1 becomes state1 and when activity2 becomes state2\\nAvailable Tags: TSE, TEE, TBE, CE, AttributeName, AttributeValue, AGR, GBC, FDE', 'Sentence: the number of times activity1 becomes state1\\nAvailable Tags: TSE, TEE, TBE, CE, AttributeName, AttributeValue, AGR, GBC, FDE', 'Sentence: maximum number of times activity1 becomes state1\\nAvailable Tags: TSE, TEE, TBE, CE, AttributeName, AttributeValue, AGR, GBC, FDE', 'Sentence: minimum number of times activity1 becomes state1\\nAvailable Tags: TSE, TEE, TBE, CE, AttributeName, AttributeValue, AGR, GBC, FDE', 'Sentence: maximal number of times activity1 becomes state1\\nAvailable Tags: TSE, TEE, TBE, CE, AttributeName, AttributeValue, AGR, GBC, FDE', 'Sentence: Average real time from opening to resolution of the incident\\nAvailable Tags: TSE, TEE, TBE, CE, AttributeName, AttributeValue, AGR, GBC, FDE', 'Sentence: Average time of an order grouped by customer\\nAvailable Tags: TSE, TEE, TBE, CE, AttributeName, AttributeValue, AGR, GBC, FDE', 'Sentence: Average time of an order grouped per customer\\nAvailable Tags: TSE, TEE, TBE, CE, AttributeName, AttributeValue, AGR, GBC, FDE', 'Sentence: Total number of incidents grouped by priority\\nAvailable Tags: TSE, TEE, TBE, CE, AttributeName, AttributeValue, AGR, GBC, FDE', 'Sentence: Total number of incidents grouped per customer\\nAvailable Tags: TSE, TEE, TBE, CE, AttributeName, AttributeValue, AGR, GBC, FDE', 'Sentence: Number of incidents that are not resolved\\nAvailable Tags: TSE, TEE, TBE, CE, AttributeName, AttributeValue, AGR, GBC, FDE', 'Sentence: Average time from opened to closed\\nAvailable Tags: TSE, TEE, TBE, CE, AttributeName, AttributeValue, AGR, GBC, FDE', 'Sentence: Average real time from opening to resolution of the incident\\nAvailable Tags: TSE, TEE, TBE, CE, AttributeName, AttributeValue, AGR, GBC, FDE', 'Sentence: Average number of priority changes\\nAvailable Tags: TSE, TEE, TBE, CE, AttributeName, AttributeValue, AGR, GBC, FDE', 'Sentence: Average delays caused by appealing to prefacture\\nAvailable Tags: TSE, TEE, TBE, CE, AttributeName, AttributeValue, AGR, GBC, FDE', 'Sentence: Average number of fines that finish without payment\\nAvailable Tags: TSE, TEE, TBE, CE, AttributeName, AttributeValue, AGR, GBC, FDE', 'Sentence: Average number of payments collected in a month\\nAvailable Tags: TSE, TEE, TBE, CE, AttributeName, AttributeValue, AGR, GBC, FDE', 'Sentence: Percentage of fines that are paid before notification\\nAvailable Tags: TSE, TEE, TBE, CE, AttributeName, AttributeValue, AGR, GBC, FDE', 'Sentence: Average time between fine creation and notification\\nAvailable Tags: TSE, TEE, TBE, CE, AttributeName, AttributeValue, AGR, GBC, FDE', 'Sentence: Number of fines that are appealed to judge\\nAvailable Tags: TSE, TEE, TBE, CE, AttributeName, AttributeValue, AGR, GBC, FDE', 'Sentence: Percentage of fines with penalties for the offender out of all fines created\\nAvailable Tags: TSE, TEE, TBE, CE, AttributeName, AttributeValue, AGR, GBC, FDE', 'Sentence: Maximum time from fine creation to notification\\nAvailable Tags: TSE, TEE, TBE, CE, AttributeName, AttributeValue, AGR, GBC, FDE', 'Sentence: Percentage of fines that are not dismissed\\nAvailable Tags: TSE, TEE, TBE, CE, AttributeName, AttributeValue, AGR, GBC, FDE', 'Sentence: Average time until a fine is paid\\nAvailable Tags: TSE, TEE, TBE, CE, AttributeName, AttributeValue, AGR, GBC, FDE', 'Sentence: The fraction of fines that are appealed to a judge\\nAvailable Tags: TSE, TEE, TBE, CE, AttributeName, AttributeValue, AGR, GBC, FDE', 'Sentence: Number of fines with amounts above 100 euros\\nAvailable Tags: TSE, TEE, TBE, CE, AttributeName, AttributeValue, AGR, GBC, FDE', 'Sentence: Fraction of appealed cases that are dismissed\\nAvailable Tags: TSE, TEE, TBE, CE, AttributeName, AttributeValue, AGR, GBC, FDE', 'Sentence: Percentage of incidents with major impact from all incidents\\nAvailable Tags: TSE, TEE, TBE, CE, AttributeName, AttributeValue, AGR, GBC, FDE', 'Sentence: Percentage of incidents that require the third line\\nAvailable Tags: TSE, TEE, TBE, CE, AttributeName, AttributeValue, AGR, GBC, FDE', 'Sentence: Number of incidents grouped by priority\\nAvailable Tags: TSE, TEE, TBE, CE, AttributeName, AttributeValue, AGR, GBC, FDE', 'Sentence: Percentage of time spent in wait user state\\nAvailable Tags: TSE, TEE, TBE, CE, AttributeName, AttributeValue, AGR, GBC, FDE', 'Sentence: Percentage of cases that are pushed to the 2nd line\\nAvailable Tags: TSE, TEE, TBE, CE, AttributeName, AttributeValue, AGR, GBC, FDE', 'Sentence: Average time to resolve the incident grouped by impact\\nAvailable Tags: TSE, TEE, TBE, CE, AttributeName, AttributeValue, AGR, GBC, FDE', 'Sentence: Total resolution time of an incident\\nAvailable Tags: TSE, TEE, TBE, CE, AttributeName, AttributeValue, AGR, GBC, FDE', 'Sentence: Number of incidents cancelled\\nAvailable Tags: TSE, TEE, TBE, CE, AttributeName, AttributeValue, AGR, GBC, FDE', 'Sentence: Fraction of cases that are pushed to the 2nd line\\nAvailable Tags: TSE, TEE, TBE, CE, AttributeName, AttributeValue, AGR, GBC, FDE', 'Sentence: Average time that users are waiting\\nAvailable Tags: TSE, TEE, TBE, CE, AttributeName, AttributeValue, AGR, GBC, FDE', 'Sentence: Average time to resolve an incident\\nAvailable Tags: TSE, TEE, TBE, CE, AttributeName, AttributeValue, AGR, GBC, FDE', 'Sentence: Fraction of incidents that are escalated\\nAvailable Tags: TSE, TEE, TBE, CE, AttributeName, AttributeValue, AGR, GBC, FDE', 'Sentence: Maximum time to resolve an incident\\nAvailable Tags: TSE, TEE, TBE, CE, AttributeName, AttributeValue, AGR, GBC, FDE', 'Sentence: The average time from the opening to the resolution of the incident\\nAvailable Tags: TSE, TEE, TBE, CE, AttributeName, AttributeValue, AGR, GBC, FDE', 'Sentence: The mean duration from the commencement to the conclusion of the event\\nAvailable Tags: TSE, TEE, TBE, CE, AttributeName, AttributeValue, AGR, GBC, FDE', 'Sentence: The average time from customer inquiry to response\\nAvailable Tags: TSE, TEE, TBE, CE, AttributeName, AttributeValue, AGR, GBC, FDE', 'Sentence: The average time from purchase confirmation to delivery\\nAvailable Tags: TSE, TEE, TBE, CE, AttributeName, AttributeValue, AGR, GBC, FDE', 'Sentence: The average time from task assignment to completion\\nAvailable Tags: TSE, TEE, TBE, CE, AttributeName, AttributeValue, AGR, GBC, FDE', 'Sentence: The average time from request submission to approval\\nAvailable Tags: TSE, TEE, TBE, CE, AttributeName, AttributeValue, AGR, GBC, FDE', 'Sentence: The average time from order placement to delivery\\nAvailable Tags: TSE, TEE, TBE, CE, AttributeName, AttributeValue, AGR, GBC, FDE', 'Sentence: The average time it takes to resolve the incident from the moment it is initiated\\nAvailable Tags: TSE, TEE, TBE, CE, AttributeName, AttributeValue, AGR, GBC, FDE', 'Sentence: The maximum timeframe between the opening and the finalization of the issue\\nAvailable Tags: TSE, TEE, TBE, CE, AttributeName, AttributeValue, AGR, GBC, FDE', 'Sentence: The median period from start to completion of the occurrence\\nAvailable Tags: TSE, TEE, TBE, CE, AttributeName, AttributeValue, AGR, GBC, FDE', 'Sentence: The average time it takes for the incident to be resolved from its initiation\\nAvailable Tags: TSE, TEE, TBE, CE, AttributeName, AttributeValue, AGR, GBC, FDE', 'Sentence: The mean duration between the opening and the resolution of the incident\\nAvailable Tags: TSE, TEE, TBE, CE, AttributeName, AttributeValue, AGR, GBC, FDE', 'Sentence: The minimum time from commencement to finalization of the event\\nAvailable Tags: TSE, TEE, TBE, CE, AttributeName, AttributeValue, AGR, GBC, FDE', 'Sentence: The median time between opening and completion of the issue\\nAvailable Tags: TSE, TEE, TBE, CE, AttributeName, AttributeValue, AGR, GBC, FDE', 'Sentence: The mean period from the initiation to the finalization of the occurrence\\nAvailable Tags: TSE, TEE, TBE, CE, AttributeName, AttributeValue, AGR, GBC, FDE', 'Sentence: The average waiting time it takes to complete the manufacturing process\\nAvailable Tags: TSE, TEE, TBE, CE, AttributeName, AttributeValue, AGR, GBC, FDE', 'Sentence: The maximum duration of a workout session\\nAvailable Tags: TSE, TEE, TBE, CE, AttributeName, AttributeValue, AGR, GBC, FDE', 'Sentence: The mean time required to assemble the furniture\\nAvailable Tags: TSE, TEE, TBE, CE, AttributeName, AttributeValue, AGR, GBC, FDE', 'Sentence: The average waiting time of a cooking class\\nAvailable Tags: TSE, TEE, TBE, CE, AttributeName, AttributeValue, AGR, GBC, FDE', 'Sentence: Average waiting time for customer support calls\\nAvailable Tags: TSE, TEE, TBE, CE, AttributeName, AttributeValue, AGR, GBC, FDE', 'Sentence: Average waiting time for public transportation\\nAvailable Tags: TSE, TEE, TBE, CE, AttributeName, AttributeValue, AGR, GBC, FDE', 'Sentence: The minimum duration of a basketball game\\nAvailable Tags: TSE, TEE, TBE, CE, AttributeName, AttributeValue, AGR, GBC, FDE', 'Sentence: The mean time it takes to complete a software installation\\nAvailable Tags: TSE, TEE, TBE, CE, AttributeName, AttributeValue, AGR, GBC, FDE', 'Sentence: The average duration of a yoga session\\nAvailable Tags: TSE, TEE, TBE, CE, AttributeName, AttributeValue, AGR, GBC, FDE', 'Sentence: The average waiting time until complete a task grouped by department\\nAvailable Tags: TSE, TEE, TBE, CE, AttributeName, AttributeValue, AGR, GBC, FDE', 'Sentence: The maximum duration of customer support tickets grouped by priority\\nAvailable Tags: TSE, TEE, TBE, CE, AttributeName, AttributeValue, AGR, GBC, FDE', 'Sentence: The mean time to process invoices grouped by vendor\\nAvailable Tags: TSE, TEE, TBE, CE, AttributeName, AttributeValue, AGR, GBC, FDE', 'Sentence: The average duration of software development sprints grouped by team\\nAvailable Tags: TSE, TEE, TBE, CE, AttributeName, AttributeValue, AGR, GBC, FDE', 'Sentence: The average time until resolve customer complaints grouped by product category\\nAvailable Tags: TSE, TEE, TBE, CE, AttributeName, AttributeValue, AGR, GBC, FDE', 'Sentence: The mean duration of meetings grouped by meeting type\\nAvailable Tags: TSE, TEE, TBE, CE, AttributeName, AttributeValue, AGR, GBC, FDE', 'Sentence: The average time until complete training sessions grouped by employee level\\nAvailable Tags: TSE, TEE, TBE, CE, AttributeName, AttributeValue, AGR, GBC, FDE', 'Sentence: The minimum duration of software testing cycles grouped by application\\nAvailable Tags: TSE, TEE, TBE, CE, AttributeName, AttributeValue, AGR, GBC, FDE', 'Sentence: The average time from project initiation to project completion grouped by department\\nAvailable Tags: TSE, TEE, TBE, CE, AttributeName, AttributeValue, AGR, GBC, FDE', 'Sentence: The mean time from order placement to order delivery, grouped by shipping method.\\nAvailable Tags: TSE, TEE, TBE, CE, AttributeName, AttributeValue, AGR, GBC, FDE', 'Sentence: The maximum time from product ideation to product launch, grouped by product category.\\nAvailable Tags: TSE, TEE, TBE, CE, AttributeName, AttributeValue, AGR, GBC, FDE', 'Sentence: The average time it takes for a customer to receive a response to their inquiry, grouped by support channel.\\nAvailable Tags: TSE, TEE, TBE, CE, AttributeName, AttributeValue, AGR, GBC, FDE', 'Sentence: The mean time from the start of a project to the end of a project, grouped by project type.\\nAvailable Tags: TSE, TEE, TBE, CE, AttributeName, AttributeValue, AGR, GBC, FDE', 'Sentence: The average number of website visits, grouped by traffic source\\nAvailable Tags: TSE, TEE, TBE, CE, AttributeName, AttributeValue, AGR, GBC, FDE', 'Sentence: The mean number of customer orders placed per week\\nAvailable Tags: TSE, TEE, TBE, CE, AttributeName, AttributeValue, AGR, GBC, FDE', 'Sentence: The average number of emails received per month\\nAvailable Tags: TSE, TEE, TBE, CE, AttributeName, AttributeValue, AGR, GBC, FDE', 'Sentence: The maximum number of customer complaints received per week\\nAvailable Tags: TSE, TEE, TBE, CE, AttributeName, AttributeValue, AGR, GBC, FDE', 'Sentence: The mean number of software bugs reported per sprint\\nAvailable Tags: TSE, TEE, TBE, CE, AttributeName, AttributeValue, AGR, GBC, FDE', 'Sentence: The % of customers who renew their subscription, out of subscribers\\nAvailable Tags: TSE, TEE, TBE, CE, AttributeName, AttributeValue, AGR, GBC, FDE', 'Sentence: The fraction of defective products identified during quality control inspections\\nAvailable Tags: TSE, TEE, TBE, CE, AttributeName, AttributeValue, AGR, GBC, FDE', 'Sentence: The proportion of successful deliveries, out of delivery attempts\\nAvailable Tags: TSE, TEE, TBE, CE, AttributeName, AttributeValue, AGR, GBC, FDE', 'Sentence: The % of resolved customer complaints, out of complaints received\\nAvailable Tags: TSE, TEE, TBE, CE, AttributeName, AttributeValue, AGR, GBC, FDE', 'Sentence: The % of completed tasks, out of assigned tasks\\nAvailable Tags: TSE, TEE, TBE, CE, AttributeName, AttributeValue, AGR, GBC, FDE', 'Sentence: The proportion of successful job placements, out of job applicants\\nAvailable Tags: TSE, TEE, TBE, CE, AttributeName, AttributeValue, AGR, GBC, FDE', 'Sentence: The fraction of completed surveys from distributed surveys\\nAvailable Tags: TSE, TEE, TBE, CE, AttributeName, AttributeValue, AGR, GBC, FDE', 'Sentence: The percentage of successful sales conversions in relation to leads generated\\nAvailable Tags: TSE, TEE, TBE, CE, AttributeName, AttributeValue, AGR, GBC, FDE', 'Sentence: The ratio of resolved support tickets in relation to support tickets submitted\\nAvailable Tags: TSE, TEE, TBE, CE, AttributeName, AttributeValue, AGR, GBC, FDE', 'Sentence: The proportion of on-time project deliveries from projects completed\\nAvailable Tags: TSE, TEE, TBE, CE, AttributeName, AttributeValue, AGR, GBC, FDE', 'Sentence: The % of approved loan applications from loan applications received\\nAvailable Tags: TSE, TEE, TBE, CE, AttributeName, AttributeValue, AGR, GBC, FDE', 'Sentence: The ratio of completed tasks in relation to assigned tasks\\nAvailable Tags: TSE, TEE, TBE, CE, AttributeName, AttributeValue, AGR, GBC, FDE', 'Sentence: The proportion of satisfied customers in relation to customers surveyed\\nAvailable Tags: TSE, TEE, TBE, CE, AttributeName, AttributeValue, AGR, GBC, FDE', 'Sentence: The percentage of successful job interviews in relation to job applicants\\nAvailable Tags: TSE, TEE, TBE, CE, AttributeName, AttributeValue, AGR, GBC, FDE', 'Sentence: The fraction of resolved customer complaints in relation to complaints received\\nAvailable Tags: TSE, TEE, TBE, CE, AttributeName, AttributeValue, AGR, GBC, FDE', 'Sentence: The ratio of correct answers to questions in the exam\\nAvailable Tags: TSE, TEE, TBE, CE, AttributeName, AttributeValue, AGR, GBC, FDE', 'Sentence: Average sales per month\\nAvailable Tags: TSE, TEE, TBE, CE, AttributeName, AttributeValue, AGR, GBC, FDE', 'Sentence: Average customer satisfaction score per month\\nAvailable Tags: TSE, TEE, TBE, CE, AttributeName, AttributeValue, AGR, GBC, FDE', 'Sentence: Minimum production cost\\nAvailable Tags: TSE, TEE, TBE, CE, AttributeName, AttributeValue, AGR, GBC, FDE', 'Sentence: Minimum stock level reached\\nAvailable Tags: TSE, TEE, TBE, CE, AttributeName, AttributeValue, AGR, GBC, FDE', 'Sentence: Maximum temperature recorded\\nAvailable Tags: TSE, TEE, TBE, CE, AttributeName, AttributeValue, AGR, GBC, FDE', 'Sentence: Maximum profit margin per product category\\nAvailable Tags: TSE, TEE, TBE, CE, AttributeName, AttributeValue, AGR, GBC, FDE', 'Sentence: Time to resolution after the customer complaint date\\nAvailable Tags: TSE, TEE, TBE, CE, AttributeName, AttributeValue, AGR, GBC, FDE', 'Sentence: Time to delivery since the order placement date\\nAvailable Tags: TSE, TEE, TBE, CE, AttributeName, AttributeValue, AGR, GBC, FDE', 'Sentence: Time to response after the support ticket submission date\\nAvailable Tags: TSE, TEE, TBE, CE, AttributeName, AttributeValue, AGR, GBC, FDE', 'Sentence: Time to completion after the project kickoff\\nAvailable Tags: TSE, TEE, TBE, CE, AttributeName, AttributeValue, AGR, GBC, FDE', 'Sentence: Time to resolution since the support ticket submission\\nAvailable Tags: TSE, TEE, TBE, CE, AttributeName, AttributeValue, AGR, GBC, FDE', 'Sentence: Time to delivery after the order placement\\nAvailable Tags: TSE, TEE, TBE, CE, AttributeName, AttributeValue, AGR, GBC, FDE', 'Sentence: Time to response since the customer inquiry\\nAvailable Tags: TSE, TEE, TBE, CE, AttributeName, AttributeValue, AGR, GBC, FDE', 'Sentence: Time to resolution after the incident report\\nAvailable Tags: TSE, TEE, TBE, CE, AttributeName, AttributeValue, AGR, GBC, FDE', 'Sentence: Time to resolution since the incident report\\nAvailable Tags: TSE, TEE, TBE, CE, AttributeName, AttributeValue, AGR, GBC, FDE', 'Sentence: Time to completion since the task assignment\\nAvailable Tags: TSE, TEE, TBE, CE, AttributeName, AttributeValue, AGR, GBC, FDE', 'Sentence: Time to delivery after the order placement\\nAvailable Tags: TSE, TEE, TBE, CE, AttributeName, AttributeValue, AGR, GBC, FDE', 'Sentence: Time to completion since the project kickoff\\nAvailable Tags: TSE, TEE, TBE, CE, AttributeName, AttributeValue, AGR, GBC, FDE', 'Sentence: Number of sales made in relation to the first customer visit\\nAvailable Tags: TSE, TEE, TBE, CE, AttributeName, AttributeValue, AGR, GBC, FDE', 'Sentence: Number of defects found in relation to the initial product inspection\\nAvailable Tags: TSE, TEE, TBE, CE, AttributeName, AttributeValue, AGR, GBC, FDE', 'Sentence: Number of errors logged in relation to the first system startup\\nAvailable Tags: TSE, TEE, TBE, CE, AttributeName, AttributeValue, AGR, GBC, FDE', 'Sentence: Number of accidents reported in relation to the first day of operation\\nAvailable Tags: TSE, TEE, TBE, CE, AttributeName, AttributeValue, AGR, GBC, FDE', 'Sentence: Number of tasks completed in relation to the initial project kickoff\\nAvailable Tags: TSE, TEE, TBE, CE, AttributeName, AttributeValue, AGR, GBC, FDE', 'Sentence: Number of times the system crashed in relation to the first system startup\\nAvailable Tags: TSE, TEE, TBE, CE, AttributeName, AttributeValue, AGR, GBC, FDE', 'Sentence: Number of times a customer canceled their subscription in relation to the first sign-up\\nAvailable Tags: TSE, TEE, TBE, CE, AttributeName, AttributeValue, AGR, GBC, FDE', 'Sentence: Number of times a task was completed in relation to the first task assignment\\nAvailable Tags: TSE, TEE, TBE, CE, AttributeName, AttributeValue, AGR, GBC, FDE', 'Sentence: Number of times the system crashed\\nAvailable Tags: TSE, TEE, TBE, CE, AttributeName, AttributeValue, AGR, GBC, FDE', 'Sentence: Number of times a customer placed an order\\nAvailable Tags: TSE, TEE, TBE, CE, AttributeName, AttributeValue, AGR, GBC, FDE', 'Sentence: Number of times an error occurred\\nAvailable Tags: TSE, TEE, TBE, CE, AttributeName, AttributeValue, AGR, GBC, FDE', 'Sentence: Total number of times a feature was used\\nAvailable Tags: TSE, TEE, TBE, CE, AttributeName, AttributeValue, AGR, GBC, FDE', 'Sentence: Total number of times a payment was made\\nAvailable Tags: TSE, TEE, TBE, CE, AttributeName, AttributeValue, AGR, GBC, FDE', 'Sentence: Number of times an item was sold\\nAvailable Tags: TSE, TEE, TBE, CE, AttributeName, AttributeValue, AGR, GBC, FDE', 'Sentence: Total number of times a task was completed\\nAvailable Tags: TSE, TEE, TBE, CE, AttributeName, AttributeValue, AGR, GBC, FDE']\n",
      "['action requirement is notified: TSE; the action is performed.: TEE', 'action is performed: TSE; corresponding documentation is delivered.: TEE', 'the notification to contractor of the installation requirement: TSE; its planning.: TEE', 'APC contracts the service: TSE; contractor is able to start it.: TEE', 'the end and closure of the installation: TSE; the documentation submission: TEE', 'repair notification: TSE; repair is ended and closured.: TEE', 'average: AGR; that it is communicated to REDES: TSE; the user is notified that its incident due to the blocked domain at the router level has been solved: TEE', 'the notification to contractor of the intervention requirement: TSE; its planning: TEE', 'the resource (technician) assignment: TSE; the intervention start time.: TEE', 'the technician arrival to headquarters: TSE; the end and closure of the intervention.: TEE', 'the end and closure of the intervention at headquarters: TSE; the documentation submission: TEE', 'average: AGR; to solve an incident due to virus: TBE', 'caused by committees: TBE', 'average: AGR; waiting for committee: TBE', 'Average: AGR; to analyse a request: TBE', 'average: AGR; RFC under analysis: TBE', 'Average: AGR; an RFC: TBE; contractor: GBC', 'Total: AGR; an RFC: TBE; contractor: GBC', 'Total Average: AGR; an RFC: TBE', 'users within the black list: CE', 'the total number of problems due to sending or receiving emails: FDE', 'all registered RFCs: FDE', 'all Approved RFCs: FDE', 'users blocked for misusing email: CE', 'total: AGR; incidents due to mailbox management: CE', 'average: AGR; incidents related to the address book management: CE', 'average: AGR; incidents related to the calendar: CE', 'average: AGR; incidents related to the email management in general: CE', 'received messages: CE', 'managed messages: CE; courier: GBC', 'discarded connections due to black list (RBL): CE', 'messages with virus: CE', 'messages tagged as spam: CE', 'times the university of seville clocked a remote MX (mail exchange): CE', 'incidents happening with the distribution list: CE', 'incidents due to virus: CE', 'users blocked due to massive sending of emails: CE', 'problems happened due to phishing: CE', 'Cancelled RFCs due to \"registry error\": CE', 'Corrective changes: CE', 'analysis requests: CE', 'RFCs under \"Analysis\": CE', 'RFCs: CE; type of change: GBC', 'RFCs: CE; project: GBC', 'RFCs: CE; application: GBC', 'RFCs: CE; contractor per project: GBC', 'RFCs per contractor: CE; application: GBC', 'new incidents opened in a period of time: CE', 'incidents solved in a period of time: CE; Maximum: AGR; incidents solved in a period of time: CE', 'activity1 becomes state1: TSE; activity2 becomes state2: TEE', 'average: AGR; activity1 becomes state1: TSE; activity2 becomes state2: TEE', 'minimum: AGR; activity1 becomes state1: TSE; activity2 becomes state2: TEE', 'minimal: AGR; activity1 becomes state1: TSE; activity2 becomes state2: TEE', 'activity1 becomes state1: CE', 'maximum: AGR; activity1 becomes state1: CE', 'minimum: AGR; activity1 becomes state1: CE', 'maximal: AGR; activity1 becomes state1: CE', 'Average: AGR; opening: TSE; resolution of the incident: TEE', 'Average: AGR; an order: TBE; customer: GBC', 'Average: AGR; an order: TBE; customer: GBC', 'Total: AGR; incidents: CE; priority: GBC', 'Total: AGR; incidents: CE; customer: GBC', 'incidents that are not resolved: CE', 'Average: AGR; opened: TSE; closed: TEE', 'Average: AGR; opening: TSE; resolution of the incident: TEE', 'Average: AGR; priority changes: CE', 'Average: AGR; appealing to prefacture: TBE', 'Average: AGR; fines that finish without payment: CE', 'Average: AGR; payments colllected: CE; month: GBC', 'Percentage of: AGR; fines that are paid before notification: CE', 'Average: AGR; fine creation: TSE; notification: TEE', 'fines that are appealed to judge: CE', 'Percentage of: AGR; fines with penalties for the offender: CE; all fines created: FDE', 'Maximum: AGR; fine creation: TSE; notification: TEE', 'Percentage of: AGR; fines that are not dismissed: CE', 'Average: AGR; a fine is paid: TBE', 'fraction of: AGR; fines that are appealed to a judge: CE', 'amounts: AttributeName; above 100 euros: AttributeValue', 'Fraction of: AGR; are dismissed: CE; appealed cases: FDE', 'Percentage: AGR; impact: AttributeName; major: AttributeValue; all incidents: FDE', 'Percentage of: AGR; require the third line: CE; incidents: FDE', 'incidents: CE; priority: GBC', 'Percentage: AGR; in wait user state: TBE', 'Percentage of: AGR; pushed to the 2nd line: CE; cases: FDE', 'Average: AGR; resolve the incident: TBE; impact: GBC', 'Total: AGR; resolution: TBE', 'incidents cancelled: CE', 'Fraction of: AGR; pushed to the 2nd line: CE; cases: FDE', 'Average: AGR; that users are waiting: TBE', 'Average: AGR; resolve an incident: TBE', 'Fraction of: AGR; incidents: FDE; escalated: CE', 'Maximum: AGR; resolve an incident: TBE', 'average: AGR; the opening: TSE; the resolution of the incident: TEE', 'mean: AGR; the commencement: TSE; the conclusion of the event: TEE', 'average: AGR; customer inquiry: TSE; response: TEE', 'average: AGR; purchase confirmation: TSE; delivery: TEE', 'average: AGR; task assignment: TSE; completion: TEE', 'average: AGR; request submission: TSE; approval: TEE', 'average: AGR; order placement: TSE; delivery: TEE', 'average: AGR; the moment it is initiated: TSE; to resolve the incident: TEE', 'maximum: AGR; the opening: TSE; the finalization of the issue: TEE', 'median: AGR; start: TSE; completion of the occurrence: TEE', 'average: AGR; its initiation: TSE; the incident to be resolved: TEE', 'mean: AGR; the opening: TSE; the resolution of the incident: TEE', 'minimum: AGR; commencement: TSE; finalization of the event: TEE', 'median: AGR; opening: TSE; completion of the issue: TEE', 'mean: AGR; the initiation: TSE; the finalization of the occurrence: TEE', 'average: AGR; complete the manufacturing process: TBE', 'maximum: AGR; a workout session: TBE', 'mean: AGR; assemble the furniture: TBE', 'average: AGR; a cooking class: TBE', 'average: AGR; customer support calls: TBE', 'average: AGR; public transportation: TBE', 'minimum: AGR; a basketball game: TBE', 'mean: AGR; complete a software installation: TBE', 'average: AGR; a yoga session: TBE', 'average: AGR; complete a task: TBE; department: GBC', 'maximum: AGR; customer support tickets: TBE; priority: GBC', 'mean: AGR; process invoices: TBE; vendor: GBC', 'average: AGR; software development sprints: TBE; team: GBC', 'average: AGR; resolve customer complaints: TBE; product category: GBC', 'mean: AGR; meetings: TBE; meeting type: GBC', 'average: AGR; complete training sessions: TBE; employee level: GBC', 'minimum: AGR; software testing cycles: TBE; application: GBC', 'average: AGR; project initiation: TSE; project completion: TEE; department: GBC', 'mean: AGR; order placement: TSE; order delivery: TEE; shipping method: GBC', 'maximum: AGR; product ideation: TSE; product launch: TEE; product category: GBC', 'average: AGR; inquiry: TSE; receive a response: TEE; support channel: GBC', 'mean: AGR; start of a project: TSE; end of a project: TEE; project type: GBC', 'average: AGR; website visits: CE; traffic source: GBC', 'mean: AGR; customer orders placed: CE; week: GBC', 'average: AGR; emails received: CE; month: GBC', 'maximum: AGR; customer complaints received: CE; week: GBC', 'mean: AGR; software bugs reported: CE; sprint: GBC', '% of: AGR; customers who renew their subscription: CE; subscribers: FDE', 'fraction of: AGR; defective products identified: CE; quality control inspections: FDE', 'proportion of: AGR; successful deliveries: CE; delivery attempts: FDE', '% of: AGR; resolved customer complaints: CE; complaints received: FDE', '% of: AGR; completed tasks: CE; assigned tasks: FDE', 'proportion of: AGR; successful job placements: CE; job applicants: FDE', 'fraction of: AGR; completed surveys: CE; distributed surveys: FDE', 'percentage of: AGR; successful sales conversions: CE; leads generated: FDE', 'ratio of: AGR; resolved support tickets: CE; support tickets submitted: FDE', 'proportion of: AGR; on-time project deliveries: CE; projects completed: FDE', '% of: AGR; approved loan applications: CE; loan applications received: FDE', 'ratio of: AGR; completed tasks: CE; assigned tasks: FDE', 'proportion of: AGR; satisfied customers: CE; customers surveyed: FDE', 'percentage of: AGR; successful job interviews: CE; job applicants: FDE', 'fraction of: AGR; resolved customer complaints: CE; complaints received: FDE', 'ratio of: AGR; correct answers: CE; questions in the exam: FDE', 'Average: AGR; sales: AttributeName; month: GBC', 'Average: AGR; customer satisfaction score: AttributeName; month: GBC', 'Minimum: AGR; production cost: AttributeName', 'Minimum: AGR; stock level: AttributeName', 'Maximum: AGR; temperature: AttributeName', 'Maximum: AGR; profit margin: AttributeName; product category: GBC', 'the customer complaint date: TSE; resolution: TEE', 'the order placement date: TSE; delivery: TEE', 'the support ticket submission date: TSE; response: TEE', 'the project kickoff: TSE; completion: TEE', 'the support ticket submission: TSE; resolution: TEE', 'the order placement: TSE; delivery: TEE', 'the customer inquiry: TSE; response: TEE', 'the incident report: TSE; resolution: TEE', 'the incident report: TSE; resolution: TEE', 'the task assignment: TSE; completion: TEE', 'the order placement: TSE; delivery: TEE', 'the project kickoff: TSE; completion: TEE', 'sales made: CE; the first customer visit: FDE', 'defects found: CE; the initial product inspection: FDE', 'errors logged: CE; the first system startup: FDE', 'accidents reported: CE; the first day of operation: FDE', 'tasks completed: CE; the initial project kickoff: FDE', 'the system crashed: CE; the first system startup: FDE', 'a customer canceled their subscription: CE; the first sign-up: FDE', 'a task was completed: CE; the first task assignment: FDE', 'the system crashed: CE', 'a customer placed an order: CE', 'an error occurred: CE', 'Total: AGR; a feature was used: CE', 'Total: AGR; a payment was made: CE', 'an item was sold: CE', 'Total: AGR; a task was completed: CE']\n"
     ]
    }
   ],
   "source": [
    "inputs = []\n",
    "targets = []\n",
    "\n",
    "for phrase in cleaned_training_data:\n",
    "    prompt = f\"Sentence: {phrase['text']}\\nAvailable Tags: {', '.join(useful_tags)}\"\n",
    "    target = '; '.join([f\"{slot['text']}: {slot['tag']}\" for slot in phrase['slots']])\n",
    "    inputs.append(prompt)\n",
    "    targets.append(target)\n",
    "\n",
    "print(inputs)\n",
    "print(targets)"
   ]
  },
  {
   "cell_type": "code",
   "execution_count": 12,
   "metadata": {},
   "outputs": [],
   "source": [
    "examples = {\n",
    "    \"sentence\": inputs,\n",
    "    \"label\": targets\n",
    "}"
   ]
  },
  {
   "cell_type": "code",
   "execution_count": 13,
   "metadata": {},
   "outputs": [],
   "source": [
    "dataset = Dataset.from_dict(examples).train_test_split(test_size=0.2)"
   ]
  },
  {
   "cell_type": "code",
   "execution_count": 14,
   "metadata": {},
   "outputs": [],
   "source": [
    "def preprocess_function(sample,padding=\"max_length\"):\n",
    "    # add prefix to the input for t5\n",
    "    inputs = sample[\"sentence\"]\n",
    "\n",
    "    # tokenize inputs\n",
    "    model_inputs = tokenizer(inputs, padding=padding, truncation=True)\n",
    "\n",
    "    # Tokenize targets with the `text_target` keyword argument\n",
    "    labels = tokenizer(text_target=sample[\"label\"], padding=padding, truncation=True)\n",
    "\n",
    "    # If we are padding here, replace all tokenizer.pad_token_id in the labels by -100 when we want to ignore\n",
    "    # padding in the loss.\n",
    "    if padding == \"max_length\":\n",
    "        labels[\"input_ids\"] = [\n",
    "            [(l if l != tokenizer.pad_token_id else -100) for l in label] for label in labels[\"input_ids\"]\n",
    "        ]\n",
    "\n",
    "    model_inputs[\"labels\"] = labels[\"input_ids\"]\n",
    "    return model_inputs"
   ]
  },
  {
   "cell_type": "code",
   "execution_count": 15,
   "metadata": {},
   "outputs": [],
   "source": [
    "def postprocess_text(preds, labels):\n",
    "    preds = [pred.strip() for pred in preds]\n",
    "    labels = [label.strip() for label in labels]\n",
    "\n",
    "    preds = [\"\\n\".join(sent_tokenize(pred)) for pred in preds]\n",
    "    labels = [\"\\n\".join(sent_tokenize(label)) for label in labels]\n",
    "\n",
    "    return preds, labels"
   ]
  },
  {
   "cell_type": "code",
   "execution_count": 16,
   "metadata": {},
   "outputs": [],
   "source": [
    "from hermetrics.levenshtein import Levenshtein\n",
    "\n",
    "def compute_slot_metric(preds, real):\n",
    "    phrases_metrics = []\n",
    "    for real_phrase, pred_phrase in zip(real,preds):\n",
    "        real_slots = real_phrase.split(\"; \") \n",
    "        pred_slots = pred_phrase.split(\"; \")\n",
    "        slots_metrics = []\n",
    "        for real_slot in real_slots:\n",
    "            real_tag = real_slot.split(\": \")[1]\n",
    "            slot_metric = 0\n",
    "            for pred_slot in pred_slots:\n",
    "                try:\n",
    "                    pred_tag = pred_slot.split(\": \")[1]\n",
    "                    if real_tag == pred_tag:\n",
    "                        real_text = real_slot.split(\": \")[0]\n",
    "                        pred_text = pred_slot.split(\": \")[0]\n",
    "                        slot_metric = (1 - Levenshtein().normalized_distance(real_text, pred_text))\n",
    "                except Exception as e:\n",
    "                    pass\n",
    "            slots_metrics.append(slot_metric)\n",
    "        phrases_metrics.append(np.mean(slots_metrics))\n",
    "    return np.mean(phrases_metrics)\n",
    "    "
   ]
  },
  {
   "cell_type": "code",
   "execution_count": 17,
   "metadata": {},
   "outputs": [],
   "source": [
    "def compute_slot_accuracy(preds, real):\n",
    "    phrases_metrics = []\n",
    "    for real_phrase, pred_phrase in zip(real,preds):\n",
    "        real_slots = real_phrase.split(\"; \") \n",
    "        pred_slots = pred_phrase.split(\"; \")\n",
    "        slots_metrics = []\n",
    "        for real_slot in real_slots:\n",
    "            real_tag = real_slot.split(\": \")[1]\n",
    "            slot_metric = 0\n",
    "            for pred_slot in pred_slots:\n",
    "                try:\n",
    "                    pred_tag = pred_slot.split(\": \")[1]\n",
    "                    if real_tag == pred_tag:\n",
    "                        real_text = real_slot.split(\": \")[0]\n",
    "                        pred_text = pred_slot.split(\": \")[0]\n",
    "                        if real_text == pred_text:\n",
    "                            slot_metric = 1\n",
    "                except Exception as e:\n",
    "                    pass\n",
    "            slots_metrics.append(slot_metric)\n",
    "        phrases_metrics.append(np.mean(slots_metrics))\n",
    "    return np.mean(phrases_metrics)"
   ]
  },
  {
   "cell_type": "code",
   "execution_count": 18,
   "metadata": {},
   "outputs": [],
   "source": [
    "def compute_metrics(eval_preds):\n",
    "    preds, labels = eval_preds\n",
    "    if isinstance(preds, tuple):\n",
    "        preds = preds[0]\n",
    "    decoded_preds = tokenizer.batch_decode(preds, skip_special_tokens=True)\n",
    "    # Replace -100 in the labels as we can't decode them.\n",
    "    labels = np.where(labels != -100, labels, tokenizer.pad_token_id)\n",
    "    decoded_labels = tokenizer.batch_decode(labels, skip_special_tokens=True)\n",
    "\n",
    "    # Some simple post-processing\n",
    "    decoded_preds, decoded_labels = postprocess_text(decoded_preds, decoded_labels)\n",
    "\n",
    "    # compute slot metric\n",
    "    slot_metric = compute_slot_metric(decoded_preds, decoded_labels)\n",
    "    slot_accuracy = compute_slot_accuracy(decoded_preds, decoded_labels)\n",
    "    precision, recall, f1, _ = precision_recall_fscore_support(decoded_labels, decoded_preds, average='macro')\n",
    "    acc = accuracy_score(decoded_labels, decoded_preds)\n",
    "    return {\n",
    "        \"accuracy\": acc,\n",
    "        \"f1\": f1,\n",
    "        \"precision\": precision,\n",
    "        \"recall\": recall,\n",
    "        \"slot\": slot_metric,\n",
    "        \"slot_accuracy\": slot_accuracy\n",
    "    }"
   ]
  },
  {
   "cell_type": "code",
   "execution_count": 19,
   "metadata": {},
   "outputs": [
    {
     "name": "stderr",
     "output_type": "stream",
     "text": [
      "100%|██████████| 1/1 [00:00<00:00, 68.49ba/s]\n",
      "100%|██████████| 1/1 [00:00<00:00, 259.79ba/s]\n",
      "100%|██████████| 1/1 [00:00<00:00, 22.82ba/s]\n",
      "100%|██████████| 1/1 [00:00<00:00, 85.09ba/s]\n"
     ]
    },
    {
     "data": {
      "text/plain": [
       "'# Define training args\\ntraining_args = Seq2SeqTrainingArguments(\\n    output_dir= f\"./model\",\\n    per_device_train_batch_size=2,\\n    per_device_eval_batch_size=2,\\n    predict_with_generate=True,\\n    fp16=False, # Overflows with fp16\\n    learning_rate=5e-5,\\n    num_train_epochs=10,\\n    # logging & evaluation strategies\\n    evaluation_strategy=\"epoch\",\\n    save_strategy=\"no\",\\n    # metric_for_best_model=\"overall_f1\",\\n    # push to hub parameters\\n    push_to_hub=False\\n)\\n# Create Trainer instance\\ntrainer = Seq2SeqTrainer(\\n    model=model,\\n    args=training_args,\\n    train_dataset=tokenized_dataset[\"train\"],\\n    eval_dataset=tokenized_dataset[\"test\"],\\n    compute_metrics=compute_metrics,\\n    data_collator=data_collator,\\n)\\n# Train model\\ntrainer.train()\\n'"
      ]
     },
     "execution_count": 19,
     "metadata": {},
     "output_type": "execute_result"
    }
   ],
   "source": [
    "tokenized_inputs = concatenate_datasets([dataset[\"train\"], dataset[\"test\"]]).map(lambda x: tokenizer(x[\"sentence\"], truncation=True), batched=True, remove_columns=[\"sentence\", \"label\"])\n",
    "tokenized_targets = concatenate_datasets([dataset[\"train\"], dataset[\"test\"]]).map(lambda x: tokenizer(x[\"label\"], truncation=True), batched=True, remove_columns=[\"sentence\", \"label\"])\n",
    "tokenized_dataset = dataset.map(preprocess_function, batched=True, remove_columns=[\"label\", \"sentence\"])\n",
    "\n",
    "# device = torch.device(\"cuda\")\n",
    "# model = model.to(device)\n",
    "\n",
    "# we want to ignore tokenizer pad token in the loss\n",
    "label_pad_token_id = -100\n",
    "# Data collator\n",
    "data_collator = DataCollatorForSeq2Seq(\n",
    "    tokenizer,\n",
    "    model=model,\n",
    "    label_pad_token_id=label_pad_token_id,\n",
    "    pad_to_multiple_of=8\n",
    ")\n",
    "'''# Define training args\n",
    "training_args = Seq2SeqTrainingArguments(\n",
    "    output_dir= f\"./model\",\n",
    "    per_device_train_batch_size=2,\n",
    "    per_device_eval_batch_size=2,\n",
    "    predict_with_generate=True,\n",
    "    fp16=False, # Overflows with fp16\n",
    "    learning_rate=5e-5,\n",
    "    num_train_epochs=10,\n",
    "    # logging & evaluation strategies\n",
    "    evaluation_strategy=\"epoch\",\n",
    "    save_strategy=\"no\",\n",
    "    # metric_for_best_model=\"overall_f1\",\n",
    "    # push to hub parameters\n",
    "    push_to_hub=False\n",
    ")\n",
    "# Create Trainer instance\n",
    "trainer = Seq2SeqTrainer(\n",
    "    model=model,\n",
    "    args=training_args,\n",
    "    train_dataset=tokenized_dataset[\"train\"],\n",
    "    eval_dataset=tokenized_dataset[\"test\"],\n",
    "    compute_metrics=compute_metrics,\n",
    "    data_collator=data_collator,\n",
    ")\n",
    "# Train model\n",
    "trainer.train()\n",
    "'''"
   ]
  },
  {
   "cell_type": "code",
   "execution_count": 20,
   "metadata": {},
   "outputs": [],
   "source": [
    "def model_init():\n",
    "    return AutoModelForSeq2SeqLM.from_pretrained(\"google/flan-t5-base\")"
   ]
  },
  {
   "cell_type": "code",
   "execution_count": 21,
   "metadata": {},
   "outputs": [],
   "source": [
    "training_args = Seq2SeqTrainingArguments(\n",
    "    output_dir= f\"./model\",\n",
    "    per_device_train_batch_size=2,\n",
    "    per_device_eval_batch_size=2,\n",
    "    predict_with_generate=True,\n",
    "    fp16=False, # Overflows with fp16\n",
    "    learning_rate=5e-5,\n",
    "    num_train_epochs=10,\n",
    "    # logging & evaluation strategies\n",
    "    evaluation_strategy=\"epoch\",\n",
    "    save_strategy=\"epoch\",\n",
    "    weight_decay=0.01,\n",
    "    load_best_model_at_end=True,\n",
    "    metric_for_best_model=\"slot_accuracy\",\n",
    "    push_to_hub=False\n",
    ")"
   ]
  },
  {
   "cell_type": "code",
   "execution_count": 22,
   "metadata": {},
   "outputs": [
    {
     "name": "stderr",
     "output_type": "stream",
     "text": [
      "loading configuration file config.json from cache at /home/ppibot/.cache/huggingface/hub/models--google--flan-t5-base/snapshots/c782cba52f8ea6a704240578055cf1c3fc2f2ca9/config.json\n",
      "Model config T5Config {\n",
      "  \"_name_or_path\": \"google/flan-t5-base\",\n",
      "  \"architectures\": [\n",
      "    \"T5ForConditionalGeneration\"\n",
      "  ],\n",
      "  \"d_ff\": 2048,\n",
      "  \"d_kv\": 64,\n",
      "  \"d_model\": 768,\n",
      "  \"decoder_start_token_id\": 0,\n",
      "  \"dense_act_fn\": \"gelu_new\",\n",
      "  \"dropout_rate\": 0.1,\n",
      "  \"eos_token_id\": 1,\n",
      "  \"feed_forward_proj\": \"gated-gelu\",\n",
      "  \"initializer_factor\": 1.0,\n",
      "  \"is_encoder_decoder\": true,\n",
      "  \"is_gated_act\": true,\n",
      "  \"layer_norm_epsilon\": 1e-06,\n",
      "  \"model_type\": \"t5\",\n",
      "  \"n_positions\": 512,\n",
      "  \"num_decoder_layers\": 12,\n",
      "  \"num_heads\": 12,\n",
      "  \"num_layers\": 12,\n",
      "  \"output_past\": true,\n",
      "  \"pad_token_id\": 0,\n",
      "  \"relative_attention_max_distance\": 128,\n",
      "  \"relative_attention_num_buckets\": 32,\n",
      "  \"task_specific_params\": {\n",
      "    \"summarization\": {\n",
      "      \"early_stopping\": true,\n",
      "      \"length_penalty\": 2.0,\n",
      "      \"max_length\": 200,\n",
      "      \"min_length\": 30,\n",
      "      \"no_repeat_ngram_size\": 3,\n",
      "      \"num_beams\": 4,\n",
      "      \"prefix\": \"summarize: \"\n",
      "    },\n",
      "    \"translation_en_to_de\": {\n",
      "      \"early_stopping\": true,\n",
      "      \"max_length\": 300,\n",
      "      \"num_beams\": 4,\n",
      "      \"prefix\": \"translate English to German: \"\n",
      "    },\n",
      "    \"translation_en_to_fr\": {\n",
      "      \"early_stopping\": true,\n",
      "      \"max_length\": 300,\n",
      "      \"num_beams\": 4,\n",
      "      \"prefix\": \"translate English to French: \"\n",
      "    },\n",
      "    \"translation_en_to_ro\": {\n",
      "      \"early_stopping\": true,\n",
      "      \"max_length\": 300,\n",
      "      \"num_beams\": 4,\n",
      "      \"prefix\": \"translate English to Romanian: \"\n",
      "    }\n",
      "  },\n",
      "  \"tie_word_embeddings\": false,\n",
      "  \"transformers_version\": \"4.24.0\",\n",
      "  \"use_cache\": true,\n",
      "  \"vocab_size\": 32128\n",
      "}\n",
      "\n",
      "loading weights file pytorch_model.bin from cache at /home/ppibot/.cache/huggingface/hub/models--google--flan-t5-base/snapshots/c782cba52f8ea6a704240578055cf1c3fc2f2ca9/pytorch_model.bin\n",
      "All model checkpoint weights were used when initializing T5ForConditionalGeneration.\n",
      "\n",
      "All the weights of T5ForConditionalGeneration were initialized from the model checkpoint at google/flan-t5-base.\n",
      "If your task is similar to the task the model of the checkpoint was trained on, you can already use T5ForConditionalGeneration for predictions without further training.\n"
     ]
    }
   ],
   "source": [
    "trainer = Seq2SeqTrainer(\n",
    "    model_init=model_init,\n",
    "    args=training_args,\n",
    "    train_dataset=tokenized_dataset[\"train\"],\n",
    "    eval_dataset=tokenized_dataset[\"test\"],\n",
    "    compute_metrics=compute_metrics,\n",
    "    data_collator=data_collator,\n",
    ")"
   ]
  },
  {
   "cell_type": "code",
   "execution_count": 23,
   "metadata": {},
   "outputs": [],
   "source": [
    "def optuna_hp_space(trial):\n",
    "    return {\n",
    "        \"learning_rate\": trial.suggest_float(\"learning_rate\", 1e-5, 1e-4, log=True),\n",
    "        \"num_train_epochs\": trial.suggest_int(\"num_train_epochs\", 1, 20),\n",
    "    }"
   ]
  },
  {
   "cell_type": "code",
   "execution_count": 24,
   "metadata": {},
   "outputs": [],
   "source": [
    "def compute_objective(metrics):\n",
    "    return metrics[\"eval_slot_accuracy\"]"
   ]
  },
  {
   "cell_type": "code",
   "execution_count": 25,
   "metadata": {},
   "outputs": [
    {
     "name": "stderr",
     "output_type": "stream",
     "text": [
      "\u001b[32m[I 2023-06-11 18:31:58,117]\u001b[0m A new study created in memory with name: no-name-8140c2c7-1e5b-4faa-afda-c40a438fd6e4\u001b[0m\n",
      "Trial: {'learning_rate': 3.075754023268171e-05, 'num_train_epochs': 14}\n",
      "loading configuration file config.json from cache at /home/ppibot/.cache/huggingface/hub/models--google--flan-t5-base/snapshots/c782cba52f8ea6a704240578055cf1c3fc2f2ca9/config.json\n",
      "Model config T5Config {\n",
      "  \"_name_or_path\": \"google/flan-t5-base\",\n",
      "  \"architectures\": [\n",
      "    \"T5ForConditionalGeneration\"\n",
      "  ],\n",
      "  \"d_ff\": 2048,\n",
      "  \"d_kv\": 64,\n",
      "  \"d_model\": 768,\n",
      "  \"decoder_start_token_id\": 0,\n",
      "  \"dense_act_fn\": \"gelu_new\",\n",
      "  \"dropout_rate\": 0.1,\n",
      "  \"eos_token_id\": 1,\n",
      "  \"feed_forward_proj\": \"gated-gelu\",\n",
      "  \"initializer_factor\": 1.0,\n",
      "  \"is_encoder_decoder\": true,\n",
      "  \"is_gated_act\": true,\n",
      "  \"layer_norm_epsilon\": 1e-06,\n",
      "  \"model_type\": \"t5\",\n",
      "  \"n_positions\": 512,\n",
      "  \"num_decoder_layers\": 12,\n",
      "  \"num_heads\": 12,\n",
      "  \"num_layers\": 12,\n",
      "  \"output_past\": true,\n",
      "  \"pad_token_id\": 0,\n",
      "  \"relative_attention_max_distance\": 128,\n",
      "  \"relative_attention_num_buckets\": 32,\n",
      "  \"task_specific_params\": {\n",
      "    \"summarization\": {\n",
      "      \"early_stopping\": true,\n",
      "      \"length_penalty\": 2.0,\n",
      "      \"max_length\": 200,\n",
      "      \"min_length\": 30,\n",
      "      \"no_repeat_ngram_size\": 3,\n",
      "      \"num_beams\": 4,\n",
      "      \"prefix\": \"summarize: \"\n",
      "    },\n",
      "    \"translation_en_to_de\": {\n",
      "      \"early_stopping\": true,\n",
      "      \"max_length\": 300,\n",
      "      \"num_beams\": 4,\n",
      "      \"prefix\": \"translate English to German: \"\n",
      "    },\n",
      "    \"translation_en_to_fr\": {\n",
      "      \"early_stopping\": true,\n",
      "      \"max_length\": 300,\n",
      "      \"num_beams\": 4,\n",
      "      \"prefix\": \"translate English to French: \"\n",
      "    },\n",
      "    \"translation_en_to_ro\": {\n",
      "      \"early_stopping\": true,\n",
      "      \"max_length\": 300,\n",
      "      \"num_beams\": 4,\n",
      "      \"prefix\": \"translate English to Romanian: \"\n",
      "    }\n",
      "  },\n",
      "  \"tie_word_embeddings\": false,\n",
      "  \"transformers_version\": \"4.24.0\",\n",
      "  \"use_cache\": true,\n",
      "  \"vocab_size\": 32128\n",
      "}\n",
      "\n",
      "loading weights file pytorch_model.bin from cache at /home/ppibot/.cache/huggingface/hub/models--google--flan-t5-base/snapshots/c782cba52f8ea6a704240578055cf1c3fc2f2ca9/pytorch_model.bin\n",
      "All model checkpoint weights were used when initializing T5ForConditionalGeneration.\n",
      "\n",
      "All the weights of T5ForConditionalGeneration were initialized from the model checkpoint at google/flan-t5-base.\n",
      "If your task is similar to the task the model of the checkpoint was trained on, you can already use T5ForConditionalGeneration for predictions without further training.\n",
      "/home/ppibot/anaconda3/envs/myenv/lib/python3.9/site-packages/transformers/optimization.py:306: FutureWarning: This implementation of AdamW is deprecated and will be removed in a future version. Use the PyTorch implementation torch.optim.AdamW instead, or set `no_deprecation_warning=True` to disable this warning\n",
      "  warnings.warn(\n",
      "***** Running training *****\n",
      "  Num examples = 146\n",
      "  Num Epochs = 14\n",
      "  Instantaneous batch size per device = 2\n",
      "  Total train batch size (w. parallel, distributed & accumulation) = 2\n",
      "  Gradient Accumulation steps = 1\n",
      "  Total optimization steps = 1022\n",
      "  Number of trainable parameters = 247577856\n",
      "  0%|          | 0/1022 [00:00<?, ?it/s]You're using a T5TokenizerFast tokenizer. Please note that with a fast tokenizer, using the `__call__` method is faster than using a method to encode the text followed by a call to the `pad` method to get a padded encoding.\n",
      "  7%|▋         | 73/1022 [00:14<03:03,  5.18it/s]***** Running Evaluation *****\n",
      "  Num examples = 37\n",
      "  Batch size = 2\n",
      "/home/ppibot/anaconda3/envs/myenv/lib/python3.9/site-packages/sklearn/metrics/_classification.py:1334: UndefinedMetricWarning: Precision and F-score are ill-defined and being set to 0.0 in labels with no predicted samples. Use `zero_division` parameter to control this behavior.\n",
      "  _warn_prf(average, modifier, msg_start, len(result))\n",
      "/home/ppibot/anaconda3/envs/myenv/lib/python3.9/site-packages/sklearn/metrics/_classification.py:1334: UndefinedMetricWarning: Recall and F-score are ill-defined and being set to 0.0 in labels with no true samples. Use `zero_division` parameter to control this behavior.\n",
      "  _warn_prf(average, modifier, msg_start, len(result))\n",
      "                                                 \n",
      "  7%|▋         | 73/1022 [00:17<03:03,  5.18it/s]Saving model checkpoint to ./model/run-0/checkpoint-73\n",
      "Configuration saved in ./model/run-0/checkpoint-73/config.json\n"
     ]
    },
    {
     "name": "stdout",
     "output_type": "stream",
     "text": [
      "{'eval_loss': 0.6226199269294739, 'eval_accuracy': 0.05405405405405406, 'eval_f1': 0.02857142857142857, 'eval_precision': 0.02857142857142857, 'eval_recall': 0.02857142857142857, 'eval_slot': 0.30389227579097716, 'eval_slot_accuracy': 0.1554054054054054, 'eval_runtime': 2.6084, 'eval_samples_per_second': 14.185, 'eval_steps_per_second': 7.284, 'epoch': 1.0}\n"
     ]
    },
    {
     "name": "stderr",
     "output_type": "stream",
     "text": [
      "Model weights saved in ./model/run-0/checkpoint-73/pytorch_model.bin\n",
      " 14%|█▍        | 146/1022 [00:33<02:49,  5.17it/s]***** Running Evaluation *****\n",
      "  Num examples = 37\n",
      "  Batch size = 2\n",
      "/home/ppibot/anaconda3/envs/myenv/lib/python3.9/site-packages/sklearn/metrics/_classification.py:1334: UndefinedMetricWarning: Precision and F-score are ill-defined and being set to 0.0 in labels with no predicted samples. Use `zero_division` parameter to control this behavior.\n",
      "  _warn_prf(average, modifier, msg_start, len(result))\n",
      "/home/ppibot/anaconda3/envs/myenv/lib/python3.9/site-packages/sklearn/metrics/_classification.py:1334: UndefinedMetricWarning: Recall and F-score are ill-defined and being set to 0.0 in labels with no true samples. Use `zero_division` parameter to control this behavior.\n",
      "  _warn_prf(average, modifier, msg_start, len(result))\n",
      "                                                  \n",
      " 14%|█▍        | 146/1022 [00:36<02:49,  5.17it/s]Saving model checkpoint to ./model/run-0/checkpoint-146\n",
      "Configuration saved in ./model/run-0/checkpoint-146/config.json\n"
     ]
    },
    {
     "name": "stdout",
     "output_type": "stream",
     "text": [
      "{'eval_loss': 0.4684683680534363, 'eval_accuracy': 0.2702702702702703, 'eval_f1': 0.15873015873015872, 'eval_precision': 0.15873015873015872, 'eval_recall': 0.15873015873015872, 'eval_slot': 0.6071956660128858, 'eval_slot_accuracy': 0.554054054054054, 'eval_runtime': 2.7213, 'eval_samples_per_second': 13.597, 'eval_steps_per_second': 6.982, 'epoch': 2.0}\n"
     ]
    },
    {
     "name": "stderr",
     "output_type": "stream",
     "text": [
      "Model weights saved in ./model/run-0/checkpoint-146/pytorch_model.bin\n",
      " 21%|██▏       | 219/1022 [00:52<02:35,  5.17it/s]***** Running Evaluation *****\n",
      "  Num examples = 37\n",
      "  Batch size = 2\n",
      "/home/ppibot/anaconda3/envs/myenv/lib/python3.9/site-packages/sklearn/metrics/_classification.py:1334: UndefinedMetricWarning: Precision and F-score are ill-defined and being set to 0.0 in labels with no predicted samples. Use `zero_division` parameter to control this behavior.\n",
      "  _warn_prf(average, modifier, msg_start, len(result))\n",
      "/home/ppibot/anaconda3/envs/myenv/lib/python3.9/site-packages/sklearn/metrics/_classification.py:1334: UndefinedMetricWarning: Recall and F-score are ill-defined and being set to 0.0 in labels with no true samples. Use `zero_division` parameter to control this behavior.\n",
      "  _warn_prf(average, modifier, msg_start, len(result))\n",
      "                                                  \n",
      " 21%|██▏       | 219/1022 [00:55<02:35,  5.17it/s]Saving model checkpoint to ./model/run-0/checkpoint-219\n",
      "Configuration saved in ./model/run-0/checkpoint-219/config.json\n"
     ]
    },
    {
     "name": "stdout",
     "output_type": "stream",
     "text": [
      "{'eval_loss': 0.3815515637397766, 'eval_accuracy': 0.40540540540540543, 'eval_f1': 0.2631578947368421, 'eval_precision': 0.2631578947368421, 'eval_recall': 0.2631578947368421, 'eval_slot': 0.8004203206505839, 'eval_slot_accuracy': 0.7387387387387387, 'eval_runtime': 2.7511, 'eval_samples_per_second': 13.449, 'eval_steps_per_second': 6.906, 'epoch': 3.0}\n"
     ]
    },
    {
     "name": "stderr",
     "output_type": "stream",
     "text": [
      "Model weights saved in ./model/run-0/checkpoint-219/pytorch_model.bin\n",
      " 29%|██▊       | 292/1022 [01:11<02:21,  5.15it/s]***** Running Evaluation *****\n",
      "  Num examples = 37\n",
      "  Batch size = 2\n",
      "/home/ppibot/anaconda3/envs/myenv/lib/python3.9/site-packages/sklearn/metrics/_classification.py:1334: UndefinedMetricWarning: Precision and F-score are ill-defined and being set to 0.0 in labels with no predicted samples. Use `zero_division` parameter to control this behavior.\n",
      "  _warn_prf(average, modifier, msg_start, len(result))\n",
      "/home/ppibot/anaconda3/envs/myenv/lib/python3.9/site-packages/sklearn/metrics/_classification.py:1334: UndefinedMetricWarning: Recall and F-score are ill-defined and being set to 0.0 in labels with no true samples. Use `zero_division` parameter to control this behavior.\n",
      "  _warn_prf(average, modifier, msg_start, len(result))\n",
      "                                                  \n",
      " 29%|██▊       | 292/1022 [01:14<02:21,  5.15it/s]Saving model checkpoint to ./model/run-0/checkpoint-292\n",
      "Configuration saved in ./model/run-0/checkpoint-292/config.json\n"
     ]
    },
    {
     "name": "stdout",
     "output_type": "stream",
     "text": [
      "{'eval_loss': 0.36699801683425903, 'eval_accuracy': 0.4594594594594595, 'eval_f1': 0.3090909090909091, 'eval_precision': 0.3090909090909091, 'eval_recall': 0.3090909090909091, 'eval_slot': 0.7772875820006039, 'eval_slot_accuracy': 0.7117117117117117, 'eval_runtime': 2.7327, 'eval_samples_per_second': 13.54, 'eval_steps_per_second': 6.953, 'epoch': 4.0}\n"
     ]
    },
    {
     "name": "stderr",
     "output_type": "stream",
     "text": [
      "Model weights saved in ./model/run-0/checkpoint-292/pytorch_model.bin\n",
      " 36%|███▌      | 365/1022 [01:30<02:07,  5.14it/s]***** Running Evaluation *****\n",
      "  Num examples = 37\n",
      "  Batch size = 2\n",
      "/home/ppibot/anaconda3/envs/myenv/lib/python3.9/site-packages/sklearn/metrics/_classification.py:1334: UndefinedMetricWarning: Precision and F-score are ill-defined and being set to 0.0 in labels with no predicted samples. Use `zero_division` parameter to control this behavior.\n",
      "  _warn_prf(average, modifier, msg_start, len(result))\n",
      "/home/ppibot/anaconda3/envs/myenv/lib/python3.9/site-packages/sklearn/metrics/_classification.py:1334: UndefinedMetricWarning: Recall and F-score are ill-defined and being set to 0.0 in labels with no true samples. Use `zero_division` parameter to control this behavior.\n",
      "  _warn_prf(average, modifier, msg_start, len(result))\n",
      "                                                  \n",
      " 36%|███▌      | 365/1022 [01:33<02:07,  5.14it/s]Saving model checkpoint to ./model/run-0/checkpoint-365\n",
      "Configuration saved in ./model/run-0/checkpoint-365/config.json\n"
     ]
    },
    {
     "name": "stdout",
     "output_type": "stream",
     "text": [
      "{'eval_loss': 0.33738821744918823, 'eval_accuracy': 0.5945945945945946, 'eval_f1': 0.43137254901960786, 'eval_precision': 0.43137254901960786, 'eval_recall': 0.43137254901960786, 'eval_slot': 0.8497914503302435, 'eval_slot_accuracy': 0.7612612612612613, 'eval_runtime': 2.7614, 'eval_samples_per_second': 13.399, 'eval_steps_per_second': 6.881, 'epoch': 5.0}\n"
     ]
    },
    {
     "name": "stderr",
     "output_type": "stream",
     "text": [
      "Model weights saved in ./model/run-0/checkpoint-365/pytorch_model.bin\n",
      " 43%|████▎     | 438/1022 [01:50<01:53,  5.14it/s]***** Running Evaluation *****\n",
      "  Num examples = 37\n",
      "  Batch size = 2\n",
      "/home/ppibot/anaconda3/envs/myenv/lib/python3.9/site-packages/sklearn/metrics/_classification.py:1334: UndefinedMetricWarning: Precision and F-score are ill-defined and being set to 0.0 in labels with no predicted samples. Use `zero_division` parameter to control this behavior.\n",
      "  _warn_prf(average, modifier, msg_start, len(result))\n",
      "/home/ppibot/anaconda3/envs/myenv/lib/python3.9/site-packages/sklearn/metrics/_classification.py:1334: UndefinedMetricWarning: Recall and F-score are ill-defined and being set to 0.0 in labels with no true samples. Use `zero_division` parameter to control this behavior.\n",
      "  _warn_prf(average, modifier, msg_start, len(result))\n",
      "                                                  \n",
      " 43%|████▎     | 438/1022 [01:52<01:53,  5.14it/s]Saving model checkpoint to ./model/run-0/checkpoint-438\n",
      "Configuration saved in ./model/run-0/checkpoint-438/config.json\n"
     ]
    },
    {
     "name": "stdout",
     "output_type": "stream",
     "text": [
      "{'eval_loss': 0.3732447624206543, 'eval_accuracy': 0.5945945945945946, 'eval_f1': 0.4230769230769231, 'eval_precision': 0.4230769230769231, 'eval_recall': 0.4230769230769231, 'eval_slot': 0.8471074018204235, 'eval_slot_accuracy': 0.7702702702702703, 'eval_runtime': 2.7937, 'eval_samples_per_second': 13.244, 'eval_steps_per_second': 6.801, 'epoch': 6.0}\n"
     ]
    },
    {
     "name": "stderr",
     "output_type": "stream",
     "text": [
      "Model weights saved in ./model/run-0/checkpoint-438/pytorch_model.bin\n",
      " 49%|████▉     | 501/1022 [02:07<01:41,  5.11it/s]"
     ]
    },
    {
     "name": "stdout",
     "output_type": "stream",
     "text": [
      "{'loss': 0.5142, 'learning_rate': 1.5709819962289485e-05, 'epoch': 6.85}\n"
     ]
    },
    {
     "name": "stderr",
     "output_type": "stream",
     "text": [
      " 50%|█████     | 511/1022 [02:09<01:39,  5.14it/s]***** Running Evaluation *****\n",
      "  Num examples = 37\n",
      "  Batch size = 2\n",
      "/home/ppibot/anaconda3/envs/myenv/lib/python3.9/site-packages/sklearn/metrics/_classification.py:1334: UndefinedMetricWarning: Precision and F-score are ill-defined and being set to 0.0 in labels with no predicted samples. Use `zero_division` parameter to control this behavior.\n",
      "  _warn_prf(average, modifier, msg_start, len(result))\n",
      "/home/ppibot/anaconda3/envs/myenv/lib/python3.9/site-packages/sklearn/metrics/_classification.py:1334: UndefinedMetricWarning: Recall and F-score are ill-defined and being set to 0.0 in labels with no true samples. Use `zero_division` parameter to control this behavior.\n",
      "  _warn_prf(average, modifier, msg_start, len(result))\n",
      "                                                  \n",
      " 50%|█████     | 511/1022 [02:12<01:39,  5.14it/s]Saving model checkpoint to ./model/run-0/checkpoint-511\n",
      "Configuration saved in ./model/run-0/checkpoint-511/config.json\n"
     ]
    },
    {
     "name": "stdout",
     "output_type": "stream",
     "text": [
      "{'eval_loss': 0.36322274804115295, 'eval_accuracy': 0.5945945945945946, 'eval_f1': 0.4230769230769231, 'eval_precision': 0.4230769230769231, 'eval_recall': 0.4230769230769231, 'eval_slot': 0.8556967364967147, 'eval_slot_accuracy': 0.7567567567567568, 'eval_runtime': 2.7947, 'eval_samples_per_second': 13.239, 'eval_steps_per_second': 6.799, 'epoch': 7.0}\n"
     ]
    },
    {
     "name": "stderr",
     "output_type": "stream",
     "text": [
      "Model weights saved in ./model/run-0/checkpoint-511/pytorch_model.bin\n",
      " 57%|█████▋    | 584/1022 [02:28<01:25,  5.14it/s]***** Running Evaluation *****\n",
      "  Num examples = 37\n",
      "  Batch size = 2\n",
      "/home/ppibot/anaconda3/envs/myenv/lib/python3.9/site-packages/sklearn/metrics/_classification.py:1334: UndefinedMetricWarning: Precision and F-score are ill-defined and being set to 0.0 in labels with no predicted samples. Use `zero_division` parameter to control this behavior.\n",
      "  _warn_prf(average, modifier, msg_start, len(result))\n",
      "/home/ppibot/anaconda3/envs/myenv/lib/python3.9/site-packages/sklearn/metrics/_classification.py:1334: UndefinedMetricWarning: Recall and F-score are ill-defined and being set to 0.0 in labels with no true samples. Use `zero_division` parameter to control this behavior.\n",
      "  _warn_prf(average, modifier, msg_start, len(result))\n",
      "                                                  \n",
      " 57%|█████▋    | 584/1022 [02:31<01:25,  5.14it/s]Saving model checkpoint to ./model/run-0/checkpoint-584\n",
      "Configuration saved in ./model/run-0/checkpoint-584/config.json\n"
     ]
    },
    {
     "name": "stdout",
     "output_type": "stream",
     "text": [
      "{'eval_loss': 0.3702048063278198, 'eval_accuracy': 0.6486486486486487, 'eval_f1': 0.48, 'eval_precision': 0.48, 'eval_recall': 0.48, 'eval_slot': 0.8850739397869616, 'eval_slot_accuracy': 0.7972972972972973, 'eval_runtime': 2.8015, 'eval_samples_per_second': 13.207, 'eval_steps_per_second': 6.782, 'epoch': 8.0}\n"
     ]
    },
    {
     "name": "stderr",
     "output_type": "stream",
     "text": [
      "Model weights saved in ./model/run-0/checkpoint-584/pytorch_model.bin\n",
      " 64%|██████▍   | 657/1022 [02:48<01:11,  5.14it/s]***** Running Evaluation *****\n",
      "  Num examples = 37\n",
      "  Batch size = 2\n",
      "/home/ppibot/anaconda3/envs/myenv/lib/python3.9/site-packages/sklearn/metrics/_classification.py:1334: UndefinedMetricWarning: Precision and F-score are ill-defined and being set to 0.0 in labels with no predicted samples. Use `zero_division` parameter to control this behavior.\n",
      "  _warn_prf(average, modifier, msg_start, len(result))\n",
      "/home/ppibot/anaconda3/envs/myenv/lib/python3.9/site-packages/sklearn/metrics/_classification.py:1334: UndefinedMetricWarning: Recall and F-score are ill-defined and being set to 0.0 in labels with no true samples. Use `zero_division` parameter to control this behavior.\n",
      "  _warn_prf(average, modifier, msg_start, len(result))\n",
      "                                                  \n",
      " 64%|██████▍   | 657/1022 [02:50<01:11,  5.14it/s]Saving model checkpoint to ./model/run-0/checkpoint-657\n",
      "Configuration saved in ./model/run-0/checkpoint-657/config.json\n"
     ]
    },
    {
     "name": "stdout",
     "output_type": "stream",
     "text": [
      "{'eval_loss': 0.3712559640407562, 'eval_accuracy': 0.6486486486486487, 'eval_f1': 0.48, 'eval_precision': 0.48, 'eval_recall': 0.48, 'eval_slot': 0.8747446449749082, 'eval_slot_accuracy': 0.7972972972972973, 'eval_runtime': 2.8023, 'eval_samples_per_second': 13.204, 'eval_steps_per_second': 6.78, 'epoch': 9.0}\n"
     ]
    },
    {
     "name": "stderr",
     "output_type": "stream",
     "text": [
      "Model weights saved in ./model/run-0/checkpoint-657/pytorch_model.bin\n",
      " 71%|███████▏  | 730/1022 [03:07<00:57,  5.12it/s]***** Running Evaluation *****\n",
      "  Num examples = 37\n",
      "  Batch size = 2\n",
      "/home/ppibot/anaconda3/envs/myenv/lib/python3.9/site-packages/sklearn/metrics/_classification.py:1334: UndefinedMetricWarning: Precision and F-score are ill-defined and being set to 0.0 in labels with no predicted samples. Use `zero_division` parameter to control this behavior.\n",
      "  _warn_prf(average, modifier, msg_start, len(result))\n",
      "/home/ppibot/anaconda3/envs/myenv/lib/python3.9/site-packages/sklearn/metrics/_classification.py:1334: UndefinedMetricWarning: Recall and F-score are ill-defined and being set to 0.0 in labels with no true samples. Use `zero_division` parameter to control this behavior.\n",
      "  _warn_prf(average, modifier, msg_start, len(result))\n",
      "                                                  \n",
      " 71%|███████▏  | 730/1022 [03:10<00:57,  5.12it/s]Saving model checkpoint to ./model/run-0/checkpoint-730\n",
      "Configuration saved in ./model/run-0/checkpoint-730/config.json\n"
     ]
    },
    {
     "name": "stdout",
     "output_type": "stream",
     "text": [
      "{'eval_loss': 0.3753092288970947, 'eval_accuracy': 0.6486486486486487, 'eval_f1': 0.48, 'eval_precision': 0.48, 'eval_recall': 0.48, 'eval_slot': 0.8869361916492134, 'eval_slot_accuracy': 0.8063063063063063, 'eval_runtime': 2.8128, 'eval_samples_per_second': 13.154, 'eval_steps_per_second': 6.755, 'epoch': 10.0}\n"
     ]
    },
    {
     "name": "stderr",
     "output_type": "stream",
     "text": [
      "Model weights saved in ./model/run-0/checkpoint-730/pytorch_model.bin\n",
      " 79%|███████▊  | 803/1022 [03:26<00:42,  5.12it/s]***** Running Evaluation *****\n",
      "  Num examples = 37\n",
      "  Batch size = 2\n",
      "/home/ppibot/anaconda3/envs/myenv/lib/python3.9/site-packages/sklearn/metrics/_classification.py:1334: UndefinedMetricWarning: Precision and F-score are ill-defined and being set to 0.0 in labels with no predicted samples. Use `zero_division` parameter to control this behavior.\n",
      "  _warn_prf(average, modifier, msg_start, len(result))\n",
      "/home/ppibot/anaconda3/envs/myenv/lib/python3.9/site-packages/sklearn/metrics/_classification.py:1334: UndefinedMetricWarning: Recall and F-score are ill-defined and being set to 0.0 in labels with no true samples. Use `zero_division` parameter to control this behavior.\n",
      "  _warn_prf(average, modifier, msg_start, len(result))\n",
      "                                                  \n",
      " 79%|███████▊  | 803/1022 [03:29<00:42,  5.12it/s]Saving model checkpoint to ./model/run-0/checkpoint-803\n",
      "Configuration saved in ./model/run-0/checkpoint-803/config.json\n"
     ]
    },
    {
     "name": "stdout",
     "output_type": "stream",
     "text": [
      "{'eval_loss': 0.39606091380119324, 'eval_accuracy': 0.6486486486486487, 'eval_f1': 0.48, 'eval_precision': 0.48, 'eval_recall': 0.48, 'eval_slot': 0.8731261433564065, 'eval_slot_accuracy': 0.8063063063063063, 'eval_runtime': 2.8048, 'eval_samples_per_second': 13.192, 'eval_steps_per_second': 6.774, 'epoch': 11.0}\n"
     ]
    },
    {
     "name": "stderr",
     "output_type": "stream",
     "text": [
      "Model weights saved in ./model/run-0/checkpoint-803/pytorch_model.bin\n",
      " 86%|████████▌ | 876/1022 [03:46<00:28,  5.12it/s]***** Running Evaluation *****\n",
      "  Num examples = 37\n",
      "  Batch size = 2\n",
      "/home/ppibot/anaconda3/envs/myenv/lib/python3.9/site-packages/sklearn/metrics/_classification.py:1334: UndefinedMetricWarning: Precision and F-score are ill-defined and being set to 0.0 in labels with no predicted samples. Use `zero_division` parameter to control this behavior.\n",
      "  _warn_prf(average, modifier, msg_start, len(result))\n",
      "/home/ppibot/anaconda3/envs/myenv/lib/python3.9/site-packages/sklearn/metrics/_classification.py:1334: UndefinedMetricWarning: Recall and F-score are ill-defined and being set to 0.0 in labels with no true samples. Use `zero_division` parameter to control this behavior.\n",
      "  _warn_prf(average, modifier, msg_start, len(result))\n",
      "                                                  \n",
      " 86%|████████▌ | 876/1022 [03:49<00:28,  5.12it/s]Saving model checkpoint to ./model/run-0/checkpoint-876\n",
      "Configuration saved in ./model/run-0/checkpoint-876/config.json\n"
     ]
    },
    {
     "name": "stdout",
     "output_type": "stream",
     "text": [
      "{'eval_loss': 0.3908260464668274, 'eval_accuracy': 0.6486486486486487, 'eval_f1': 0.48, 'eval_precision': 0.48, 'eval_recall': 0.48, 'eval_slot': 0.8857076904207122, 'eval_slot_accuracy': 0.8063063063063063, 'eval_runtime': 2.8256, 'eval_samples_per_second': 13.095, 'eval_steps_per_second': 6.724, 'epoch': 12.0}\n"
     ]
    },
    {
     "name": "stderr",
     "output_type": "stream",
     "text": [
      "Model weights saved in ./model/run-0/checkpoint-876/pytorch_model.bin\n",
      " 93%|█████████▎| 949/1022 [04:06<00:14,  5.13it/s]***** Running Evaluation *****\n",
      "  Num examples = 37\n",
      "  Batch size = 2\n",
      "/home/ppibot/anaconda3/envs/myenv/lib/python3.9/site-packages/sklearn/metrics/_classification.py:1334: UndefinedMetricWarning: Precision and F-score are ill-defined and being set to 0.0 in labels with no predicted samples. Use `zero_division` parameter to control this behavior.\n",
      "  _warn_prf(average, modifier, msg_start, len(result))\n",
      "/home/ppibot/anaconda3/envs/myenv/lib/python3.9/site-packages/sklearn/metrics/_classification.py:1334: UndefinedMetricWarning: Recall and F-score are ill-defined and being set to 0.0 in labels with no true samples. Use `zero_division` parameter to control this behavior.\n",
      "  _warn_prf(average, modifier, msg_start, len(result))\n",
      "                                                  \n",
      " 93%|█████████▎| 949/1022 [04:08<00:14,  5.13it/s]Saving model checkpoint to ./model/run-0/checkpoint-949\n",
      "Configuration saved in ./model/run-0/checkpoint-949/config.json\n"
     ]
    },
    {
     "name": "stdout",
     "output_type": "stream",
     "text": [
      "{'eval_loss': 0.40019407868385315, 'eval_accuracy': 0.6486486486486487, 'eval_f1': 0.48, 'eval_precision': 0.48, 'eval_recall': 0.48, 'eval_slot': 0.8834554381684598, 'eval_slot_accuracy': 0.8063063063063063, 'eval_runtime': 2.7961, 'eval_samples_per_second': 13.233, 'eval_steps_per_second': 6.795, 'epoch': 13.0}\n"
     ]
    },
    {
     "name": "stderr",
     "output_type": "stream",
     "text": [
      "Model weights saved in ./model/run-0/checkpoint-949/pytorch_model.bin\n",
      " 98%|█████████▊| 1001/1022 [04:21<00:04,  5.10it/s]"
     ]
    },
    {
     "name": "stdout",
     "output_type": "stream",
     "text": [
      "{'loss': 0.0986, 'learning_rate': 6.620996918972578e-07, 'epoch': 13.7}\n"
     ]
    },
    {
     "name": "stderr",
     "output_type": "stream",
     "text": [
      "100%|██████████| 1022/1022 [04:25<00:00,  5.11it/s]***** Running Evaluation *****\n",
      "  Num examples = 37\n",
      "  Batch size = 2\n",
      "/home/ppibot/anaconda3/envs/myenv/lib/python3.9/site-packages/sklearn/metrics/_classification.py:1334: UndefinedMetricWarning: Precision and F-score are ill-defined and being set to 0.0 in labels with no predicted samples. Use `zero_division` parameter to control this behavior.\n",
      "  _warn_prf(average, modifier, msg_start, len(result))\n",
      "/home/ppibot/anaconda3/envs/myenv/lib/python3.9/site-packages/sklearn/metrics/_classification.py:1334: UndefinedMetricWarning: Recall and F-score are ill-defined and being set to 0.0 in labels with no true samples. Use `zero_division` parameter to control this behavior.\n",
      "  _warn_prf(average, modifier, msg_start, len(result))\n",
      "                                                   \n",
      "100%|██████████| 1022/1022 [04:28<00:00,  5.11it/s]Saving model checkpoint to ./model/run-0/checkpoint-1022\n",
      "Configuration saved in ./model/run-0/checkpoint-1022/config.json\n"
     ]
    },
    {
     "name": "stdout",
     "output_type": "stream",
     "text": [
      "{'eval_loss': 0.3917140066623688, 'eval_accuracy': 0.6486486486486487, 'eval_f1': 0.48, 'eval_precision': 0.48, 'eval_recall': 0.48, 'eval_slot': 0.8834554381684598, 'eval_slot_accuracy': 0.8063063063063063, 'eval_runtime': 2.8031, 'eval_samples_per_second': 13.2, 'eval_steps_per_second': 6.778, 'epoch': 14.0}\n"
     ]
    },
    {
     "name": "stderr",
     "output_type": "stream",
     "text": [
      "Model weights saved in ./model/run-0/checkpoint-1022/pytorch_model.bin\n",
      "\n",
      "\n",
      "Training completed. Do not forget to share your model on huggingface.co/models =)\n",
      "\n",
      "\n",
      "Loading best model from ./model/run-0/checkpoint-730 (score: 0.8063063063063063).\n",
      "100%|██████████| 1022/1022 [04:30<00:00,  3.78it/s]\n",
      "\u001b[32m[I 2023-06-11 18:36:30,781]\u001b[0m Trial 0 finished with value: 0.8063063063063063 and parameters: {'learning_rate': 3.075754023268171e-05, 'num_train_epochs': 14}. Best is trial 0 with value: 0.8063063063063063.\u001b[0m\n",
      "Trial: {'learning_rate': 1.571773510788726e-05, 'num_train_epochs': 17}\n"
     ]
    },
    {
     "name": "stdout",
     "output_type": "stream",
     "text": [
      "{'train_runtime': 270.6517, 'train_samples_per_second': 7.552, 'train_steps_per_second': 3.776, 'train_loss': 0.30120331947117635, 'epoch': 14.0}\n"
     ]
    },
    {
     "name": "stderr",
     "output_type": "stream",
     "text": [
      "loading configuration file config.json from cache at /home/ppibot/.cache/huggingface/hub/models--google--flan-t5-base/snapshots/c782cba52f8ea6a704240578055cf1c3fc2f2ca9/config.json\n",
      "Model config T5Config {\n",
      "  \"_name_or_path\": \"google/flan-t5-base\",\n",
      "  \"architectures\": [\n",
      "    \"T5ForConditionalGeneration\"\n",
      "  ],\n",
      "  \"d_ff\": 2048,\n",
      "  \"d_kv\": 64,\n",
      "  \"d_model\": 768,\n",
      "  \"decoder_start_token_id\": 0,\n",
      "  \"dense_act_fn\": \"gelu_new\",\n",
      "  \"dropout_rate\": 0.1,\n",
      "  \"eos_token_id\": 1,\n",
      "  \"feed_forward_proj\": \"gated-gelu\",\n",
      "  \"initializer_factor\": 1.0,\n",
      "  \"is_encoder_decoder\": true,\n",
      "  \"is_gated_act\": true,\n",
      "  \"layer_norm_epsilon\": 1e-06,\n",
      "  \"model_type\": \"t5\",\n",
      "  \"n_positions\": 512,\n",
      "  \"num_decoder_layers\": 12,\n",
      "  \"num_heads\": 12,\n",
      "  \"num_layers\": 12,\n",
      "  \"output_past\": true,\n",
      "  \"pad_token_id\": 0,\n",
      "  \"relative_attention_max_distance\": 128,\n",
      "  \"relative_attention_num_buckets\": 32,\n",
      "  \"task_specific_params\": {\n",
      "    \"summarization\": {\n",
      "      \"early_stopping\": true,\n",
      "      \"length_penalty\": 2.0,\n",
      "      \"max_length\": 200,\n",
      "      \"min_length\": 30,\n",
      "      \"no_repeat_ngram_size\": 3,\n",
      "      \"num_beams\": 4,\n",
      "      \"prefix\": \"summarize: \"\n",
      "    },\n",
      "    \"translation_en_to_de\": {\n",
      "      \"early_stopping\": true,\n",
      "      \"max_length\": 300,\n",
      "      \"num_beams\": 4,\n",
      "      \"prefix\": \"translate English to German: \"\n",
      "    },\n",
      "    \"translation_en_to_fr\": {\n",
      "      \"early_stopping\": true,\n",
      "      \"max_length\": 300,\n",
      "      \"num_beams\": 4,\n",
      "      \"prefix\": \"translate English to French: \"\n",
      "    },\n",
      "    \"translation_en_to_ro\": {\n",
      "      \"early_stopping\": true,\n",
      "      \"max_length\": 300,\n",
      "      \"num_beams\": 4,\n",
      "      \"prefix\": \"translate English to Romanian: \"\n",
      "    }\n",
      "  },\n",
      "  \"tie_word_embeddings\": false,\n",
      "  \"transformers_version\": \"4.24.0\",\n",
      "  \"use_cache\": true,\n",
      "  \"vocab_size\": 32128\n",
      "}\n",
      "\n",
      "loading weights file pytorch_model.bin from cache at /home/ppibot/.cache/huggingface/hub/models--google--flan-t5-base/snapshots/c782cba52f8ea6a704240578055cf1c3fc2f2ca9/pytorch_model.bin\n",
      "All model checkpoint weights were used when initializing T5ForConditionalGeneration.\n",
      "\n",
      "All the weights of T5ForConditionalGeneration were initialized from the model checkpoint at google/flan-t5-base.\n",
      "If your task is similar to the task the model of the checkpoint was trained on, you can already use T5ForConditionalGeneration for predictions without further training.\n",
      "/home/ppibot/anaconda3/envs/myenv/lib/python3.9/site-packages/transformers/optimization.py:306: FutureWarning: This implementation of AdamW is deprecated and will be removed in a future version. Use the PyTorch implementation torch.optim.AdamW instead, or set `no_deprecation_warning=True` to disable this warning\n",
      "  warnings.warn(\n",
      "***** Running training *****\n",
      "  Num examples = 146\n",
      "  Num Epochs = 17\n",
      "  Instantaneous batch size per device = 2\n",
      "  Total train batch size (w. parallel, distributed & accumulation) = 2\n",
      "  Gradient Accumulation steps = 1\n",
      "  Total optimization steps = 1241\n",
      "  Number of trainable parameters = 247577856\n",
      "  6%|▌         | 73/1241 [00:14<03:48,  5.11it/s]***** Running Evaluation *****\n",
      "  Num examples = 37\n",
      "  Batch size = 2\n",
      "/home/ppibot/anaconda3/envs/myenv/lib/python3.9/site-packages/sklearn/metrics/_classification.py:1334: UndefinedMetricWarning: Precision and F-score are ill-defined and being set to 0.0 in labels with no predicted samples. Use `zero_division` parameter to control this behavior.\n",
      "  _warn_prf(average, modifier, msg_start, len(result))\n",
      "/home/ppibot/anaconda3/envs/myenv/lib/python3.9/site-packages/sklearn/metrics/_classification.py:1334: UndefinedMetricWarning: Recall and F-score are ill-defined and being set to 0.0 in labels with no true samples. Use `zero_division` parameter to control this behavior.\n",
      "  _warn_prf(average, modifier, msg_start, len(result))\n",
      "                                                 \n",
      "  6%|▌         | 73/1241 [00:16<03:48,  5.11it/s]Saving model checkpoint to ./model/run-1/checkpoint-73\n",
      "Configuration saved in ./model/run-1/checkpoint-73/config.json\n"
     ]
    },
    {
     "name": "stdout",
     "output_type": "stream",
     "text": [
      "{'eval_loss': 0.8859353065490723, 'eval_accuracy': 0.08108108108108109, 'eval_f1': 0.043478260869565216, 'eval_precision': 0.043478260869565216, 'eval_recall': 0.043478260869565216, 'eval_slot': 0.2776608433375341, 'eval_slot_accuracy': 0.1824324324324324, 'eval_runtime': 2.5997, 'eval_samples_per_second': 14.232, 'eval_steps_per_second': 7.308, 'epoch': 1.0}\n"
     ]
    },
    {
     "name": "stderr",
     "output_type": "stream",
     "text": [
      "Model weights saved in ./model/run-1/checkpoint-73/pytorch_model.bin\n",
      " 12%|█▏        | 146/1241 [00:33<03:34,  5.10it/s]***** Running Evaluation *****\n",
      "  Num examples = 37\n",
      "  Batch size = 2\n",
      "/home/ppibot/anaconda3/envs/myenv/lib/python3.9/site-packages/sklearn/metrics/_classification.py:1334: UndefinedMetricWarning: Precision and F-score are ill-defined and being set to 0.0 in labels with no predicted samples. Use `zero_division` parameter to control this behavior.\n",
      "  _warn_prf(average, modifier, msg_start, len(result))\n",
      "/home/ppibot/anaconda3/envs/myenv/lib/python3.9/site-packages/sklearn/metrics/_classification.py:1334: UndefinedMetricWarning: Recall and F-score are ill-defined and being set to 0.0 in labels with no true samples. Use `zero_division` parameter to control this behavior.\n",
      "  _warn_prf(average, modifier, msg_start, len(result))\n",
      "                                                  \n",
      " 12%|█▏        | 146/1241 [00:36<03:34,  5.10it/s]Saving model checkpoint to ./model/run-1/checkpoint-146\n",
      "Configuration saved in ./model/run-1/checkpoint-146/config.json\n"
     ]
    },
    {
     "name": "stdout",
     "output_type": "stream",
     "text": [
      "{'eval_loss': 0.5858725309371948, 'eval_accuracy': 0.10810810810810811, 'eval_f1': 0.058823529411764705, 'eval_precision': 0.058823529411764705, 'eval_recall': 0.058823529411764705, 'eval_slot': 0.3769223588616571, 'eval_slot_accuracy': 0.22747747747747746, 'eval_runtime': 2.638, 'eval_samples_per_second': 14.026, 'eval_steps_per_second': 7.202, 'epoch': 2.0}\n"
     ]
    },
    {
     "name": "stderr",
     "output_type": "stream",
     "text": [
      "Model weights saved in ./model/run-1/checkpoint-146/pytorch_model.bin\n",
      " 18%|█▊        | 219/1241 [00:52<03:20,  5.10it/s]***** Running Evaluation *****\n",
      "  Num examples = 37\n",
      "  Batch size = 2\n",
      "/home/ppibot/anaconda3/envs/myenv/lib/python3.9/site-packages/sklearn/metrics/_classification.py:1334: UndefinedMetricWarning: Precision and F-score are ill-defined and being set to 0.0 in labels with no predicted samples. Use `zero_division` parameter to control this behavior.\n",
      "  _warn_prf(average, modifier, msg_start, len(result))\n",
      "/home/ppibot/anaconda3/envs/myenv/lib/python3.9/site-packages/sklearn/metrics/_classification.py:1334: UndefinedMetricWarning: Recall and F-score are ill-defined and being set to 0.0 in labels with no true samples. Use `zero_division` parameter to control this behavior.\n",
      "  _warn_prf(average, modifier, msg_start, len(result))\n",
      "                                                  \n",
      " 18%|█▊        | 219/1241 [00:55<03:20,  5.10it/s]Saving model checkpoint to ./model/run-1/checkpoint-219\n",
      "Configuration saved in ./model/run-1/checkpoint-219/config.json\n"
     ]
    },
    {
     "name": "stdout",
     "output_type": "stream",
     "text": [
      "{'eval_loss': 0.4785153269767761, 'eval_accuracy': 0.1891891891891892, 'eval_f1': 0.1044776119402985, 'eval_precision': 0.1044776119402985, 'eval_recall': 0.1044776119402985, 'eval_slot': 0.6637607934404824, 'eval_slot_accuracy': 0.518018018018018, 'eval_runtime': 2.7574, 'eval_samples_per_second': 13.419, 'eval_steps_per_second': 6.891, 'epoch': 3.0}\n"
     ]
    },
    {
     "name": "stderr",
     "output_type": "stream",
     "text": [
      "Model weights saved in ./model/run-1/checkpoint-219/pytorch_model.bin\n",
      " 24%|██▎       | 292/1241 [01:12<03:06,  5.10it/s]***** Running Evaluation *****\n",
      "  Num examples = 37\n",
      "  Batch size = 2\n",
      "/home/ppibot/anaconda3/envs/myenv/lib/python3.9/site-packages/sklearn/metrics/_classification.py:1334: UndefinedMetricWarning: Precision and F-score are ill-defined and being set to 0.0 in labels with no predicted samples. Use `zero_division` parameter to control this behavior.\n",
      "  _warn_prf(average, modifier, msg_start, len(result))\n",
      "/home/ppibot/anaconda3/envs/myenv/lib/python3.9/site-packages/sklearn/metrics/_classification.py:1334: UndefinedMetricWarning: Recall and F-score are ill-defined and being set to 0.0 in labels with no true samples. Use `zero_division` parameter to control this behavior.\n",
      "  _warn_prf(average, modifier, msg_start, len(result))\n",
      "                                                  \n",
      " 24%|██▎       | 292/1241 [01:15<03:06,  5.10it/s]Saving model checkpoint to ./model/run-1/checkpoint-292\n",
      "Configuration saved in ./model/run-1/checkpoint-292/config.json\n"
     ]
    },
    {
     "name": "stdout",
     "output_type": "stream",
     "text": [
      "{'eval_loss': 0.4551927149295807, 'eval_accuracy': 0.2702702702702703, 'eval_f1': 0.15873015873015872, 'eval_precision': 0.15873015873015872, 'eval_recall': 0.15873015873015872, 'eval_slot': 0.6097550435722633, 'eval_slot_accuracy': 0.5225225225225225, 'eval_runtime': 2.731, 'eval_samples_per_second': 13.548, 'eval_steps_per_second': 6.957, 'epoch': 4.0}\n"
     ]
    },
    {
     "name": "stderr",
     "output_type": "stream",
     "text": [
      "Model weights saved in ./model/run-1/checkpoint-292/pytorch_model.bin\n",
      " 29%|██▉       | 365/1241 [01:32<02:51,  5.10it/s]***** Running Evaluation *****\n",
      "  Num examples = 37\n",
      "  Batch size = 2\n",
      "/home/ppibot/anaconda3/envs/myenv/lib/python3.9/site-packages/sklearn/metrics/_classification.py:1334: UndefinedMetricWarning: Precision and F-score are ill-defined and being set to 0.0 in labels with no predicted samples. Use `zero_division` parameter to control this behavior.\n",
      "  _warn_prf(average, modifier, msg_start, len(result))\n",
      "/home/ppibot/anaconda3/envs/myenv/lib/python3.9/site-packages/sklearn/metrics/_classification.py:1334: UndefinedMetricWarning: Recall and F-score are ill-defined and being set to 0.0 in labels with no true samples. Use `zero_division` parameter to control this behavior.\n",
      "  _warn_prf(average, modifier, msg_start, len(result))\n",
      "                                                  \n",
      " 29%|██▉       | 365/1241 [01:34<02:51,  5.10it/s]Saving model checkpoint to ./model/run-1/checkpoint-365\n",
      "Configuration saved in ./model/run-1/checkpoint-365/config.json\n"
     ]
    },
    {
     "name": "stdout",
     "output_type": "stream",
     "text": [
      "{'eval_loss': 0.39258119463920593, 'eval_accuracy': 0.32432432432432434, 'eval_f1': 0.2, 'eval_precision': 0.2, 'eval_recall': 0.2, 'eval_slot': 0.7283682802208902, 'eval_slot_accuracy': 0.6351351351351351, 'eval_runtime': 2.7467, 'eval_samples_per_second': 13.471, 'eval_steps_per_second': 6.917, 'epoch': 5.0}\n"
     ]
    },
    {
     "name": "stderr",
     "output_type": "stream",
     "text": [
      "Model weights saved in ./model/run-1/checkpoint-365/pytorch_model.bin\n",
      " 35%|███▌      | 438/1241 [01:52<02:37,  5.11it/s]***** Running Evaluation *****\n",
      "  Num examples = 37\n",
      "  Batch size = 2\n",
      "/home/ppibot/anaconda3/envs/myenv/lib/python3.9/site-packages/sklearn/metrics/_classification.py:1334: UndefinedMetricWarning: Precision and F-score are ill-defined and being set to 0.0 in labels with no predicted samples. Use `zero_division` parameter to control this behavior.\n",
      "  _warn_prf(average, modifier, msg_start, len(result))\n",
      "/home/ppibot/anaconda3/envs/myenv/lib/python3.9/site-packages/sklearn/metrics/_classification.py:1334: UndefinedMetricWarning: Recall and F-score are ill-defined and being set to 0.0 in labels with no true samples. Use `zero_division` parameter to control this behavior.\n",
      "  _warn_prf(average, modifier, msg_start, len(result))\n",
      "                                                  \n",
      " 35%|███▌      | 438/1241 [01:55<02:37,  5.11it/s]Saving model checkpoint to ./model/run-1/checkpoint-438\n",
      "Configuration saved in ./model/run-1/checkpoint-438/config.json\n"
     ]
    },
    {
     "name": "stdout",
     "output_type": "stream",
     "text": [
      "{'eval_loss': 0.39127835631370544, 'eval_accuracy': 0.35135135135135137, 'eval_f1': 0.21666666666666667, 'eval_precision': 0.21666666666666667, 'eval_recall': 0.21666666666666667, 'eval_slot': 0.7319718838244939, 'eval_slot_accuracy': 0.6351351351351351, 'eval_runtime': 2.9664, 'eval_samples_per_second': 12.473, 'eval_steps_per_second': 6.405, 'epoch': 6.0}\n"
     ]
    },
    {
     "name": "stderr",
     "output_type": "stream",
     "text": [
      "Model weights saved in ./model/run-1/checkpoint-438/pytorch_model.bin\n",
      " 40%|████      | 501/1241 [02:12<02:25,  5.09it/s]"
     ]
    },
    {
     "name": "stdout",
     "output_type": "stream",
     "text": [
      "{'loss': 0.7927, 'learning_rate': 9.385045701002789e-06, 'epoch': 6.85}\n"
     ]
    },
    {
     "name": "stderr",
     "output_type": "stream",
     "text": [
      " 41%|████      | 511/1241 [02:14<02:22,  5.11it/s]***** Running Evaluation *****\n",
      "  Num examples = 37\n",
      "  Batch size = 2\n",
      "/home/ppibot/anaconda3/envs/myenv/lib/python3.9/site-packages/sklearn/metrics/_classification.py:1334: UndefinedMetricWarning: Precision and F-score are ill-defined and being set to 0.0 in labels with no predicted samples. Use `zero_division` parameter to control this behavior.\n",
      "  _warn_prf(average, modifier, msg_start, len(result))\n",
      "/home/ppibot/anaconda3/envs/myenv/lib/python3.9/site-packages/sklearn/metrics/_classification.py:1334: UndefinedMetricWarning: Recall and F-score are ill-defined and being set to 0.0 in labels with no true samples. Use `zero_division` parameter to control this behavior.\n",
      "  _warn_prf(average, modifier, msg_start, len(result))\n",
      "                                                  \n",
      " 41%|████      | 511/1241 [02:17<02:22,  5.11it/s]"
     ]
    },
    {
     "name": "stdout",
     "output_type": "stream",
     "text": [
      "{'eval_loss': 0.36946892738342285, 'eval_accuracy': 0.43243243243243246, 'eval_f1': 0.2857142857142857, 'eval_precision': 0.2857142857142857, 'eval_recall': 0.2857142857142857, 'eval_slot': 0.7737994256520355, 'eval_slot_accuracy': 0.6846846846846847, 'eval_runtime': 2.7683, 'eval_samples_per_second': 13.365, 'eval_steps_per_second': 6.863, 'epoch': 7.0}\n"
     ]
    },
    {
     "name": "stderr",
     "output_type": "stream",
     "text": [
      "Saving model checkpoint to ./model/run-1/checkpoint-511\n",
      "Configuration saved in ./model/run-1/checkpoint-511/config.json\n",
      "Model weights saved in ./model/run-1/checkpoint-511/pytorch_model.bin\n",
      " 47%|████▋     | 584/1241 [02:38<02:08,  5.09it/s]***** Running Evaluation *****\n",
      "  Num examples = 37\n",
      "  Batch size = 2\n",
      "/home/ppibot/anaconda3/envs/myenv/lib/python3.9/site-packages/sklearn/metrics/_classification.py:1334: UndefinedMetricWarning: Precision and F-score are ill-defined and being set to 0.0 in labels with no predicted samples. Use `zero_division` parameter to control this behavior.\n",
      "  _warn_prf(average, modifier, msg_start, len(result))\n",
      "/home/ppibot/anaconda3/envs/myenv/lib/python3.9/site-packages/sklearn/metrics/_classification.py:1334: UndefinedMetricWarning: Recall and F-score are ill-defined and being set to 0.0 in labels with no true samples. Use `zero_division` parameter to control this behavior.\n",
      "  _warn_prf(average, modifier, msg_start, len(result))\n",
      "                                                  \n",
      " 47%|████▋     | 584/1241 [02:41<02:08,  5.09it/s]Saving model checkpoint to ./model/run-1/checkpoint-584\n",
      "Configuration saved in ./model/run-1/checkpoint-584/config.json\n"
     ]
    },
    {
     "name": "stdout",
     "output_type": "stream",
     "text": [
      "{'eval_loss': 0.3705996870994568, 'eval_accuracy': 0.4594594594594595, 'eval_f1': 0.30357142857142855, 'eval_precision': 0.30357142857142855, 'eval_recall': 0.30357142857142855, 'eval_slot': 0.8010635318635102, 'eval_slot_accuracy': 0.7117117117117117, 'eval_runtime': 2.7637, 'eval_samples_per_second': 13.388, 'eval_steps_per_second': 6.875, 'epoch': 8.0}\n"
     ]
    },
    {
     "name": "stderr",
     "output_type": "stream",
     "text": [
      "Model weights saved in ./model/run-1/checkpoint-584/pytorch_model.bin\n",
      " 53%|█████▎    | 657/1241 [03:04<01:54,  5.11it/s]***** Running Evaluation *****\n",
      "  Num examples = 37\n",
      "  Batch size = 2\n",
      "/home/ppibot/anaconda3/envs/myenv/lib/python3.9/site-packages/sklearn/metrics/_classification.py:1334: UndefinedMetricWarning: Precision and F-score are ill-defined and being set to 0.0 in labels with no predicted samples. Use `zero_division` parameter to control this behavior.\n",
      "  _warn_prf(average, modifier, msg_start, len(result))\n",
      "/home/ppibot/anaconda3/envs/myenv/lib/python3.9/site-packages/sklearn/metrics/_classification.py:1334: UndefinedMetricWarning: Recall and F-score are ill-defined and being set to 0.0 in labels with no true samples. Use `zero_division` parameter to control this behavior.\n",
      "  _warn_prf(average, modifier, msg_start, len(result))\n",
      "                                                  \n",
      " 53%|█████▎    | 657/1241 [03:07<01:54,  5.11it/s]Saving model checkpoint to ./model/run-1/checkpoint-657\n",
      "Configuration saved in ./model/run-1/checkpoint-657/config.json\n"
     ]
    },
    {
     "name": "stdout",
     "output_type": "stream",
     "text": [
      "{'eval_loss': 0.36883872747421265, 'eval_accuracy': 0.5675675675675675, 'eval_f1': 0.39622641509433965, 'eval_precision': 0.39622641509433965, 'eval_recall': 0.39622641509433965, 'eval_slot': 0.8312437120436904, 'eval_slot_accuracy': 0.7432432432432432, 'eval_runtime': 2.7879, 'eval_samples_per_second': 13.272, 'eval_steps_per_second': 6.815, 'epoch': 9.0}\n"
     ]
    },
    {
     "name": "stderr",
     "output_type": "stream",
     "text": [
      "Model weights saved in ./model/run-1/checkpoint-657/pytorch_model.bin\n",
      " 59%|█████▉    | 730/1241 [03:25<01:40,  5.10it/s]***** Running Evaluation *****\n",
      "  Num examples = 37\n",
      "  Batch size = 2\n",
      "/home/ppibot/anaconda3/envs/myenv/lib/python3.9/site-packages/sklearn/metrics/_classification.py:1334: UndefinedMetricWarning: Precision and F-score are ill-defined and being set to 0.0 in labels with no predicted samples. Use `zero_division` parameter to control this behavior.\n",
      "  _warn_prf(average, modifier, msg_start, len(result))\n",
      "/home/ppibot/anaconda3/envs/myenv/lib/python3.9/site-packages/sklearn/metrics/_classification.py:1334: UndefinedMetricWarning: Recall and F-score are ill-defined and being set to 0.0 in labels with no true samples. Use `zero_division` parameter to control this behavior.\n",
      "  _warn_prf(average, modifier, msg_start, len(result))\n",
      "                                                  \n",
      " 59%|█████▉    | 730/1241 [03:27<01:40,  5.10it/s]Saving model checkpoint to ./model/run-1/checkpoint-730\n",
      "Configuration saved in ./model/run-1/checkpoint-730/config.json\n"
     ]
    },
    {
     "name": "stdout",
     "output_type": "stream",
     "text": [
      "{'eval_loss': 0.38171571493148804, 'eval_accuracy': 0.4864864864864865, 'eval_f1': 0.32142857142857145, 'eval_precision': 0.32142857142857145, 'eval_recall': 0.32142857142857145, 'eval_slot': 0.8154779462779246, 'eval_slot_accuracy': 0.7297297297297297, 'eval_runtime': 2.7865, 'eval_samples_per_second': 13.278, 'eval_steps_per_second': 6.819, 'epoch': 10.0}\n"
     ]
    },
    {
     "name": "stderr",
     "output_type": "stream",
     "text": [
      "Model weights saved in ./model/run-1/checkpoint-730/pytorch_model.bin\n",
      " 65%|██████▍   | 803/1241 [03:50<01:25,  5.09it/s]***** Running Evaluation *****\n",
      "  Num examples = 37\n",
      "  Batch size = 2\n",
      "/home/ppibot/anaconda3/envs/myenv/lib/python3.9/site-packages/sklearn/metrics/_classification.py:1334: UndefinedMetricWarning: Precision and F-score are ill-defined and being set to 0.0 in labels with no predicted samples. Use `zero_division` parameter to control this behavior.\n",
      "  _warn_prf(average, modifier, msg_start, len(result))\n",
      "/home/ppibot/anaconda3/envs/myenv/lib/python3.9/site-packages/sklearn/metrics/_classification.py:1334: UndefinedMetricWarning: Recall and F-score are ill-defined and being set to 0.0 in labels with no true samples. Use `zero_division` parameter to control this behavior.\n",
      "  _warn_prf(average, modifier, msg_start, len(result))\n",
      "                                                  \n",
      " 65%|██████▍   | 803/1241 [03:53<01:25,  5.09it/s]Saving model checkpoint to ./model/run-1/checkpoint-803\n",
      "Configuration saved in ./model/run-1/checkpoint-803/config.json\n"
     ]
    },
    {
     "name": "stdout",
     "output_type": "stream",
     "text": [
      "{'eval_loss': 0.3866792619228363, 'eval_accuracy': 0.5405405405405406, 'eval_f1': 0.37037037037037035, 'eval_precision': 0.37037037037037035, 'eval_recall': 0.37037037037037035, 'eval_slot': 0.8267392075391858, 'eval_slot_accuracy': 0.7387387387387387, 'eval_runtime': 2.7748, 'eval_samples_per_second': 13.334, 'eval_steps_per_second': 6.847, 'epoch': 11.0}\n"
     ]
    },
    {
     "name": "stderr",
     "output_type": "stream",
     "text": [
      "Model weights saved in ./model/run-1/checkpoint-803/pytorch_model.bin\n",
      " 71%|███████   | 876/1241 [04:20<01:11,  5.10it/s]***** Running Evaluation *****\n",
      "  Num examples = 37\n",
      "  Batch size = 2\n",
      "/home/ppibot/anaconda3/envs/myenv/lib/python3.9/site-packages/sklearn/metrics/_classification.py:1334: UndefinedMetricWarning: Precision and F-score are ill-defined and being set to 0.0 in labels with no predicted samples. Use `zero_division` parameter to control this behavior.\n",
      "  _warn_prf(average, modifier, msg_start, len(result))\n",
      "/home/ppibot/anaconda3/envs/myenv/lib/python3.9/site-packages/sklearn/metrics/_classification.py:1334: UndefinedMetricWarning: Recall and F-score are ill-defined and being set to 0.0 in labels with no true samples. Use `zero_division` parameter to control this behavior.\n",
      "  _warn_prf(average, modifier, msg_start, len(result))\n",
      "                                                  \n",
      " 71%|███████   | 876/1241 [04:23<01:11,  5.10it/s]Saving model checkpoint to ./model/run-1/checkpoint-876\n",
      "Configuration saved in ./model/run-1/checkpoint-876/config.json\n"
     ]
    },
    {
     "name": "stdout",
     "output_type": "stream",
     "text": [
      "{'eval_loss': 0.385789155960083, 'eval_accuracy': 0.5945945945945946, 'eval_f1': 0.4230769230769231, 'eval_precision': 0.4230769230769231, 'eval_recall': 0.4230769230769231, 'eval_slot': 0.8492617300617084, 'eval_slot_accuracy': 0.7612612612612611, 'eval_runtime': 2.7767, 'eval_samples_per_second': 13.325, 'eval_steps_per_second': 6.843, 'epoch': 12.0}\n"
     ]
    },
    {
     "name": "stderr",
     "output_type": "stream",
     "text": [
      "Model weights saved in ./model/run-1/checkpoint-876/pytorch_model.bin\n",
      " 76%|███████▋  | 949/1241 [04:41<00:57,  5.10it/s]***** Running Evaluation *****\n",
      "  Num examples = 37\n",
      "  Batch size = 2\n",
      "/home/ppibot/anaconda3/envs/myenv/lib/python3.9/site-packages/sklearn/metrics/_classification.py:1334: UndefinedMetricWarning: Precision and F-score are ill-defined and being set to 0.0 in labels with no predicted samples. Use `zero_division` parameter to control this behavior.\n",
      "  _warn_prf(average, modifier, msg_start, len(result))\n",
      "/home/ppibot/anaconda3/envs/myenv/lib/python3.9/site-packages/sklearn/metrics/_classification.py:1334: UndefinedMetricWarning: Recall and F-score are ill-defined and being set to 0.0 in labels with no true samples. Use `zero_division` parameter to control this behavior.\n",
      "  _warn_prf(average, modifier, msg_start, len(result))\n",
      "                                                  \n",
      " 76%|███████▋  | 949/1241 [04:43<00:57,  5.10it/s]Saving model checkpoint to ./model/run-1/checkpoint-949\n",
      "Configuration saved in ./model/run-1/checkpoint-949/config.json\n"
     ]
    },
    {
     "name": "stdout",
     "output_type": "stream",
     "text": [
      "{'eval_loss': 0.39582833647727966, 'eval_accuracy': 0.5675675675675675, 'eval_f1': 0.39622641509433965, 'eval_precision': 0.39622641509433965, 'eval_recall': 0.39622641509433965, 'eval_slot': 0.8388194696194479, 'eval_slot_accuracy': 0.7612612612612611, 'eval_runtime': 2.7848, 'eval_samples_per_second': 13.286, 'eval_steps_per_second': 6.823, 'epoch': 13.0}\n"
     ]
    },
    {
     "name": "stderr",
     "output_type": "stream",
     "text": [
      "Model weights saved in ./model/run-1/checkpoint-949/pytorch_model.bin\n",
      " 81%|████████  | 1001/1241 [04:58<00:47,  5.07it/s]"
     ]
    },
    {
     "name": "stdout",
     "output_type": "stream",
     "text": [
      "{'loss': 0.202, 'learning_rate': 3.0523562941183155e-06, 'epoch': 13.7}\n"
     ]
    },
    {
     "name": "stderr",
     "output_type": "stream",
     "text": [
      " 82%|████████▏ | 1022/1241 [05:02<00:42,  5.09it/s]***** Running Evaluation *****\n",
      "  Num examples = 37\n",
      "  Batch size = 2\n",
      "/home/ppibot/anaconda3/envs/myenv/lib/python3.9/site-packages/sklearn/metrics/_classification.py:1334: UndefinedMetricWarning: Precision and F-score are ill-defined and being set to 0.0 in labels with no predicted samples. Use `zero_division` parameter to control this behavior.\n",
      "  _warn_prf(average, modifier, msg_start, len(result))\n",
      "/home/ppibot/anaconda3/envs/myenv/lib/python3.9/site-packages/sklearn/metrics/_classification.py:1334: UndefinedMetricWarning: Recall and F-score are ill-defined and being set to 0.0 in labels with no true samples. Use `zero_division` parameter to control this behavior.\n",
      "  _warn_prf(average, modifier, msg_start, len(result))\n",
      "                                                   \n",
      " 82%|████████▏ | 1022/1241 [05:05<00:42,  5.09it/s]Saving model checkpoint to ./model/run-1/checkpoint-1022\n",
      "Configuration saved in ./model/run-1/checkpoint-1022/config.json\n"
     ]
    },
    {
     "name": "stdout",
     "output_type": "stream",
     "text": [
      "{'eval_loss': 0.37937304377555847, 'eval_accuracy': 0.6216216216216216, 'eval_f1': 0.45098039215686275, 'eval_precision': 0.45098039215686275, 'eval_recall': 0.45098039215686275, 'eval_slot': 0.8741344288474506, 'eval_slot_accuracy': 0.7972972972972971, 'eval_runtime': 2.799, 'eval_samples_per_second': 13.219, 'eval_steps_per_second': 6.788, 'epoch': 14.0}\n"
     ]
    },
    {
     "name": "stderr",
     "output_type": "stream",
     "text": [
      "Model weights saved in ./model/run-1/checkpoint-1022/pytorch_model.bin\n",
      " 88%|████████▊ | 1095/1241 [05:24<00:28,  5.08it/s]***** Running Evaluation *****\n",
      "  Num examples = 37\n",
      "  Batch size = 2\n",
      "/home/ppibot/anaconda3/envs/myenv/lib/python3.9/site-packages/sklearn/metrics/_classification.py:1334: UndefinedMetricWarning: Precision and F-score are ill-defined and being set to 0.0 in labels with no predicted samples. Use `zero_division` parameter to control this behavior.\n",
      "  _warn_prf(average, modifier, msg_start, len(result))\n",
      "/home/ppibot/anaconda3/envs/myenv/lib/python3.9/site-packages/sklearn/metrics/_classification.py:1334: UndefinedMetricWarning: Recall and F-score are ill-defined and being set to 0.0 in labels with no true samples. Use `zero_division` parameter to control this behavior.\n",
      "  _warn_prf(average, modifier, msg_start, len(result))\n",
      "                                                   \n",
      " 88%|████████▊ | 1095/1241 [05:27<00:28,  5.08it/s]Saving model checkpoint to ./model/run-1/checkpoint-1095\n",
      "Configuration saved in ./model/run-1/checkpoint-1095/config.json\n"
     ]
    },
    {
     "name": "stdout",
     "output_type": "stream",
     "text": [
      "{'eval_loss': 0.3847239315509796, 'eval_accuracy': 0.6216216216216216, 'eval_f1': 0.45098039215686275, 'eval_precision': 0.45098039215686275, 'eval_recall': 0.45098039215686275, 'eval_slot': 0.8636921684051903, 'eval_slot_accuracy': 0.7972972972972971, 'eval_runtime': 2.7976, 'eval_samples_per_second': 13.226, 'eval_steps_per_second': 6.792, 'epoch': 15.0}\n"
     ]
    },
    {
     "name": "stderr",
     "output_type": "stream",
     "text": [
      "Model weights saved in ./model/run-1/checkpoint-1095/pytorch_model.bin\n",
      " 94%|█████████▍| 1168/1241 [05:56<00:14,  5.10it/s]***** Running Evaluation *****\n",
      "  Num examples = 37\n",
      "  Batch size = 2\n",
      "/home/ppibot/anaconda3/envs/myenv/lib/python3.9/site-packages/sklearn/metrics/_classification.py:1334: UndefinedMetricWarning: Precision and F-score are ill-defined and being set to 0.0 in labels with no predicted samples. Use `zero_division` parameter to control this behavior.\n",
      "  _warn_prf(average, modifier, msg_start, len(result))\n",
      "/home/ppibot/anaconda3/envs/myenv/lib/python3.9/site-packages/sklearn/metrics/_classification.py:1334: UndefinedMetricWarning: Recall and F-score are ill-defined and being set to 0.0 in labels with no true samples. Use `zero_division` parameter to control this behavior.\n",
      "  _warn_prf(average, modifier, msg_start, len(result))\n",
      "                                                   \n",
      " 94%|█████████▍| 1168/1241 [05:58<00:14,  5.10it/s]Saving model checkpoint to ./model/run-1/checkpoint-1168\n",
      "Configuration saved in ./model/run-1/checkpoint-1168/config.json\n"
     ]
    },
    {
     "name": "stdout",
     "output_type": "stream",
     "text": [
      "{'eval_loss': 0.3846820890903473, 'eval_accuracy': 0.6216216216216216, 'eval_f1': 0.45098039215686275, 'eval_precision': 0.45098039215686275, 'eval_recall': 0.45098039215686275, 'eval_slot': 0.8741344288474506, 'eval_slot_accuracy': 0.7972972972972971, 'eval_runtime': 2.7925, 'eval_samples_per_second': 13.25, 'eval_steps_per_second': 6.804, 'epoch': 16.0}\n"
     ]
    },
    {
     "name": "stderr",
     "output_type": "stream",
     "text": [
      "Model weights saved in ./model/run-1/checkpoint-1168/pytorch_model.bin\n",
      "100%|██████████| 1241/1241 [06:16<00:00,  5.08it/s]***** Running Evaluation *****\n",
      "  Num examples = 37\n",
      "  Batch size = 2\n",
      "/home/ppibot/anaconda3/envs/myenv/lib/python3.9/site-packages/sklearn/metrics/_classification.py:1334: UndefinedMetricWarning: Precision and F-score are ill-defined and being set to 0.0 in labels with no predicted samples. Use `zero_division` parameter to control this behavior.\n",
      "  _warn_prf(average, modifier, msg_start, len(result))\n",
      "/home/ppibot/anaconda3/envs/myenv/lib/python3.9/site-packages/sklearn/metrics/_classification.py:1334: UndefinedMetricWarning: Recall and F-score are ill-defined and being set to 0.0 in labels with no true samples. Use `zero_division` parameter to control this behavior.\n",
      "  _warn_prf(average, modifier, msg_start, len(result))\n",
      "                                                   \n",
      "100%|██████████| 1241/1241 [06:18<00:00,  5.08it/s]Saving model checkpoint to ./model/run-1/checkpoint-1241\n",
      "Configuration saved in ./model/run-1/checkpoint-1241/config.json\n"
     ]
    },
    {
     "name": "stdout",
     "output_type": "stream",
     "text": [
      "{'eval_loss': 0.3849777281284332, 'eval_accuracy': 0.6216216216216216, 'eval_f1': 0.45098039215686275, 'eval_precision': 0.45098039215686275, 'eval_recall': 0.45098039215686275, 'eval_slot': 0.8741344288474506, 'eval_slot_accuracy': 0.7972972972972971, 'eval_runtime': 2.8077, 'eval_samples_per_second': 13.178, 'eval_steps_per_second': 6.767, 'epoch': 17.0}\n"
     ]
    },
    {
     "name": "stderr",
     "output_type": "stream",
     "text": [
      "Model weights saved in ./model/run-1/checkpoint-1241/pytorch_model.bin\n",
      "\n",
      "\n",
      "Training completed. Do not forget to share your model on huggingface.co/models =)\n",
      "\n",
      "\n",
      "Loading best model from ./model/run-1/checkpoint-1022 (score: 0.7972972972972971).\n",
      "100%|██████████| 1241/1241 [06:27<00:00,  3.20it/s]\n",
      "\u001b[32m[I 2023-06-11 18:43:00,173]\u001b[0m Trial 1 finished with value: 0.7972972972972971 and parameters: {'learning_rate': 1.571773510788726e-05, 'num_train_epochs': 17}. Best is trial 0 with value: 0.8063063063063063.\u001b[0m\n",
      "Trial: {'learning_rate': 1.624403535088132e-05, 'num_train_epochs': 5}\n"
     ]
    },
    {
     "name": "stdout",
     "output_type": "stream",
     "text": [
      "{'train_runtime': 387.6925, 'train_samples_per_second': 6.402, 'train_steps_per_second': 3.201, 'train_loss': 0.42874240183618934, 'epoch': 17.0}\n"
     ]
    },
    {
     "name": "stderr",
     "output_type": "stream",
     "text": [
      "loading configuration file config.json from cache at /home/ppibot/.cache/huggingface/hub/models--google--flan-t5-base/snapshots/c782cba52f8ea6a704240578055cf1c3fc2f2ca9/config.json\n",
      "Model config T5Config {\n",
      "  \"_name_or_path\": \"google/flan-t5-base\",\n",
      "  \"architectures\": [\n",
      "    \"T5ForConditionalGeneration\"\n",
      "  ],\n",
      "  \"d_ff\": 2048,\n",
      "  \"d_kv\": 64,\n",
      "  \"d_model\": 768,\n",
      "  \"decoder_start_token_id\": 0,\n",
      "  \"dense_act_fn\": \"gelu_new\",\n",
      "  \"dropout_rate\": 0.1,\n",
      "  \"eos_token_id\": 1,\n",
      "  \"feed_forward_proj\": \"gated-gelu\",\n",
      "  \"initializer_factor\": 1.0,\n",
      "  \"is_encoder_decoder\": true,\n",
      "  \"is_gated_act\": true,\n",
      "  \"layer_norm_epsilon\": 1e-06,\n",
      "  \"model_type\": \"t5\",\n",
      "  \"n_positions\": 512,\n",
      "  \"num_decoder_layers\": 12,\n",
      "  \"num_heads\": 12,\n",
      "  \"num_layers\": 12,\n",
      "  \"output_past\": true,\n",
      "  \"pad_token_id\": 0,\n",
      "  \"relative_attention_max_distance\": 128,\n",
      "  \"relative_attention_num_buckets\": 32,\n",
      "  \"task_specific_params\": {\n",
      "    \"summarization\": {\n",
      "      \"early_stopping\": true,\n",
      "      \"length_penalty\": 2.0,\n",
      "      \"max_length\": 200,\n",
      "      \"min_length\": 30,\n",
      "      \"no_repeat_ngram_size\": 3,\n",
      "      \"num_beams\": 4,\n",
      "      \"prefix\": \"summarize: \"\n",
      "    },\n",
      "    \"translation_en_to_de\": {\n",
      "      \"early_stopping\": true,\n",
      "      \"max_length\": 300,\n",
      "      \"num_beams\": 4,\n",
      "      \"prefix\": \"translate English to German: \"\n",
      "    },\n",
      "    \"translation_en_to_fr\": {\n",
      "      \"early_stopping\": true,\n",
      "      \"max_length\": 300,\n",
      "      \"num_beams\": 4,\n",
      "      \"prefix\": \"translate English to French: \"\n",
      "    },\n",
      "    \"translation_en_to_ro\": {\n",
      "      \"early_stopping\": true,\n",
      "      \"max_length\": 300,\n",
      "      \"num_beams\": 4,\n",
      "      \"prefix\": \"translate English to Romanian: \"\n",
      "    }\n",
      "  },\n",
      "  \"tie_word_embeddings\": false,\n",
      "  \"transformers_version\": \"4.24.0\",\n",
      "  \"use_cache\": true,\n",
      "  \"vocab_size\": 32128\n",
      "}\n",
      "\n",
      "loading weights file pytorch_model.bin from cache at /home/ppibot/.cache/huggingface/hub/models--google--flan-t5-base/snapshots/c782cba52f8ea6a704240578055cf1c3fc2f2ca9/pytorch_model.bin\n",
      "All model checkpoint weights were used when initializing T5ForConditionalGeneration.\n",
      "\n",
      "All the weights of T5ForConditionalGeneration were initialized from the model checkpoint at google/flan-t5-base.\n",
      "If your task is similar to the task the model of the checkpoint was trained on, you can already use T5ForConditionalGeneration for predictions without further training.\n",
      "/home/ppibot/anaconda3/envs/myenv/lib/python3.9/site-packages/transformers/optimization.py:306: FutureWarning: This implementation of AdamW is deprecated and will be removed in a future version. Use the PyTorch implementation torch.optim.AdamW instead, or set `no_deprecation_warning=True` to disable this warning\n",
      "  warnings.warn(\n",
      "***** Running training *****\n",
      "  Num examples = 146\n",
      "  Num Epochs = 5\n",
      "  Instantaneous batch size per device = 2\n",
      "  Total train batch size (w. parallel, distributed & accumulation) = 2\n",
      "  Gradient Accumulation steps = 1\n",
      "  Total optimization steps = 365\n",
      "  Number of trainable parameters = 247577856\n",
      " 20%|██        | 73/365 [00:14<00:57,  5.10it/s]***** Running Evaluation *****\n",
      "  Num examples = 37\n",
      "  Batch size = 2\n",
      "/home/ppibot/anaconda3/envs/myenv/lib/python3.9/site-packages/sklearn/metrics/_classification.py:1334: UndefinedMetricWarning: Precision and F-score are ill-defined and being set to 0.0 in labels with no predicted samples. Use `zero_division` parameter to control this behavior.\n",
      "  _warn_prf(average, modifier, msg_start, len(result))\n",
      "/home/ppibot/anaconda3/envs/myenv/lib/python3.9/site-packages/sklearn/metrics/_classification.py:1334: UndefinedMetricWarning: Recall and F-score are ill-defined and being set to 0.0 in labels with no true samples. Use `zero_division` parameter to control this behavior.\n",
      "  _warn_prf(average, modifier, msg_start, len(result))\n",
      "                                                \n",
      " 20%|██        | 73/365 [00:16<00:57,  5.10it/s]Saving model checkpoint to ./model/run-2/checkpoint-73\n",
      "Configuration saved in ./model/run-2/checkpoint-73/config.json\n"
     ]
    },
    {
     "name": "stdout",
     "output_type": "stream",
     "text": [
      "{'eval_loss': 0.9141767621040344, 'eval_accuracy': 0.08108108108108109, 'eval_f1': 0.043478260869565216, 'eval_precision': 0.043478260869565216, 'eval_recall': 0.043478260869565216, 'eval_slot': 0.25970040169288194, 'eval_slot_accuracy': 0.1734234234234234, 'eval_runtime': 2.5548, 'eval_samples_per_second': 14.482, 'eval_steps_per_second': 7.437, 'epoch': 1.0}\n"
     ]
    },
    {
     "name": "stderr",
     "output_type": "stream",
     "text": [
      "Model weights saved in ./model/run-2/checkpoint-73/pytorch_model.bin\n",
      " 40%|████      | 146/365 [00:33<00:43,  5.09it/s]***** Running Evaluation *****\n",
      "  Num examples = 37\n",
      "  Batch size = 2\n",
      "/home/ppibot/anaconda3/envs/myenv/lib/python3.9/site-packages/sklearn/metrics/_classification.py:1334: UndefinedMetricWarning: Precision and F-score are ill-defined and being set to 0.0 in labels with no predicted samples. Use `zero_division` parameter to control this behavior.\n",
      "  _warn_prf(average, modifier, msg_start, len(result))\n",
      "/home/ppibot/anaconda3/envs/myenv/lib/python3.9/site-packages/sklearn/metrics/_classification.py:1334: UndefinedMetricWarning: Recall and F-score are ill-defined and being set to 0.0 in labels with no true samples. Use `zero_division` parameter to control this behavior.\n",
      "  _warn_prf(average, modifier, msg_start, len(result))\n",
      "                                                 \n",
      " 40%|████      | 146/365 [00:36<00:43,  5.09it/s]Saving model checkpoint to ./model/run-2/checkpoint-146\n",
      "Configuration saved in ./model/run-2/checkpoint-146/config.json\n"
     ]
    },
    {
     "name": "stdout",
     "output_type": "stream",
     "text": [
      "{'eval_loss': 0.6241707801818848, 'eval_accuracy': 0.08108108108108109, 'eval_f1': 0.043478260869565216, 'eval_precision': 0.043478260869565216, 'eval_recall': 0.043478260869565216, 'eval_slot': 0.28247321150522986, 'eval_slot_accuracy': 0.17117117117117117, 'eval_runtime': 2.6527, 'eval_samples_per_second': 13.948, 'eval_steps_per_second': 7.163, 'epoch': 2.0}\n"
     ]
    },
    {
     "name": "stderr",
     "output_type": "stream",
     "text": [
      "Model weights saved in ./model/run-2/checkpoint-146/pytorch_model.bin\n",
      " 60%|██████    | 219/365 [00:52<00:28,  5.09it/s]***** Running Evaluation *****\n",
      "  Num examples = 37\n",
      "  Batch size = 2\n",
      "/home/ppibot/anaconda3/envs/myenv/lib/python3.9/site-packages/sklearn/metrics/_classification.py:1334: UndefinedMetricWarning: Precision and F-score are ill-defined and being set to 0.0 in labels with no predicted samples. Use `zero_division` parameter to control this behavior.\n",
      "  _warn_prf(average, modifier, msg_start, len(result))\n",
      "/home/ppibot/anaconda3/envs/myenv/lib/python3.9/site-packages/sklearn/metrics/_classification.py:1334: UndefinedMetricWarning: Recall and F-score are ill-defined and being set to 0.0 in labels with no true samples. Use `zero_division` parameter to control this behavior.\n",
      "  _warn_prf(average, modifier, msg_start, len(result))\n",
      "                                                 \n",
      " 60%|██████    | 219/365 [00:55<00:28,  5.09it/s]Saving model checkpoint to ./model/run-2/checkpoint-219\n",
      "Configuration saved in ./model/run-2/checkpoint-219/config.json\n"
     ]
    },
    {
     "name": "stdout",
     "output_type": "stream",
     "text": [
      "{'eval_loss': 0.5320053696632385, 'eval_accuracy': 0.13513513513513514, 'eval_f1': 0.07352941176470588, 'eval_precision': 0.07352941176470588, 'eval_recall': 0.07352941176470588, 'eval_slot': 0.48192593035129677, 'eval_slot_accuracy': 0.3310810810810811, 'eval_runtime': 2.6992, 'eval_samples_per_second': 13.708, 'eval_steps_per_second': 7.039, 'epoch': 3.0}\n"
     ]
    },
    {
     "name": "stderr",
     "output_type": "stream",
     "text": [
      "Model weights saved in ./model/run-2/checkpoint-219/pytorch_model.bin\n",
      " 80%|████████  | 292/365 [01:11<00:14,  5.08it/s]***** Running Evaluation *****\n",
      "  Num examples = 37\n",
      "  Batch size = 2\n",
      "/home/ppibot/anaconda3/envs/myenv/lib/python3.9/site-packages/sklearn/metrics/_classification.py:1334: UndefinedMetricWarning: Precision and F-score are ill-defined and being set to 0.0 in labels with no predicted samples. Use `zero_division` parameter to control this behavior.\n",
      "  _warn_prf(average, modifier, msg_start, len(result))\n",
      "/home/ppibot/anaconda3/envs/myenv/lib/python3.9/site-packages/sklearn/metrics/_classification.py:1334: UndefinedMetricWarning: Recall and F-score are ill-defined and being set to 0.0 in labels with no true samples. Use `zero_division` parameter to control this behavior.\n",
      "  _warn_prf(average, modifier, msg_start, len(result))\n",
      "                                                 \n",
      " 80%|████████  | 292/365 [01:14<00:14,  5.08it/s]Saving model checkpoint to ./model/run-2/checkpoint-292\n",
      "Configuration saved in ./model/run-2/checkpoint-292/config.json\n"
     ]
    },
    {
     "name": "stdout",
     "output_type": "stream",
     "text": [
      "{'eval_loss': 0.5058886408805847, 'eval_accuracy': 0.13513513513513514, 'eval_f1': 0.07246376811594203, 'eval_precision': 0.07246376811594203, 'eval_recall': 0.07246376811594203, 'eval_slot': 0.5534341732974856, 'eval_slot_accuracy': 0.4189189189189189, 'eval_runtime': 2.7177, 'eval_samples_per_second': 13.615, 'eval_steps_per_second': 6.991, 'epoch': 4.0}\n"
     ]
    },
    {
     "name": "stderr",
     "output_type": "stream",
     "text": [
      "Model weights saved in ./model/run-2/checkpoint-292/pytorch_model.bin\n",
      "100%|██████████| 365/365 [01:31<00:00,  5.07it/s]***** Running Evaluation *****\n",
      "  Num examples = 37\n",
      "  Batch size = 2\n",
      "/home/ppibot/anaconda3/envs/myenv/lib/python3.9/site-packages/sklearn/metrics/_classification.py:1334: UndefinedMetricWarning: Precision and F-score are ill-defined and being set to 0.0 in labels with no predicted samples. Use `zero_division` parameter to control this behavior.\n",
      "  _warn_prf(average, modifier, msg_start, len(result))\n",
      "/home/ppibot/anaconda3/envs/myenv/lib/python3.9/site-packages/sklearn/metrics/_classification.py:1334: UndefinedMetricWarning: Recall and F-score are ill-defined and being set to 0.0 in labels with no true samples. Use `zero_division` parameter to control this behavior.\n",
      "  _warn_prf(average, modifier, msg_start, len(result))\n",
      "                                                 \n",
      "100%|██████████| 365/365 [01:33<00:00,  5.07it/s]Saving model checkpoint to ./model/run-2/checkpoint-365\n",
      "Configuration saved in ./model/run-2/checkpoint-365/config.json\n"
     ]
    },
    {
     "name": "stdout",
     "output_type": "stream",
     "text": [
      "{'eval_loss': 0.4986496865749359, 'eval_accuracy': 0.16216216216216217, 'eval_f1': 0.08823529411764706, 'eval_precision': 0.08823529411764706, 'eval_recall': 0.08823529411764706, 'eval_slot': 0.5901026151383413, 'eval_slot_accuracy': 0.4594594594594594, 'eval_runtime': 2.7444, 'eval_samples_per_second': 13.482, 'eval_steps_per_second': 6.923, 'epoch': 5.0}\n"
     ]
    },
    {
     "name": "stderr",
     "output_type": "stream",
     "text": [
      "Model weights saved in ./model/run-2/checkpoint-365/pytorch_model.bin\n",
      "\n",
      "\n",
      "Training completed. Do not forget to share your model on huggingface.co/models =)\n",
      "\n",
      "\n",
      "Loading best model from ./model/run-2/checkpoint-365 (score: 0.4594594594594594).\n",
      "100%|██████████| 365/365 [01:36<00:00,  3.78it/s]\n",
      "\u001b[32m[I 2023-06-11 18:44:38,320]\u001b[0m Trial 2 finished with value: 0.4594594594594594 and parameters: {'learning_rate': 1.624403535088132e-05, 'num_train_epochs': 5}. Best is trial 0 with value: 0.8063063063063063.\u001b[0m\n",
      "Trial: {'learning_rate': 7.209915787917938e-05, 'num_train_epochs': 15}\n"
     ]
    },
    {
     "name": "stdout",
     "output_type": "stream",
     "text": [
      "{'train_runtime': 96.4747, 'train_samples_per_second': 7.567, 'train_steps_per_second': 3.783, 'train_loss': 1.0573579971104452, 'epoch': 5.0}\n"
     ]
    },
    {
     "name": "stderr",
     "output_type": "stream",
     "text": [
      "loading configuration file config.json from cache at /home/ppibot/.cache/huggingface/hub/models--google--flan-t5-base/snapshots/c782cba52f8ea6a704240578055cf1c3fc2f2ca9/config.json\n",
      "Model config T5Config {\n",
      "  \"_name_or_path\": \"google/flan-t5-base\",\n",
      "  \"architectures\": [\n",
      "    \"T5ForConditionalGeneration\"\n",
      "  ],\n",
      "  \"d_ff\": 2048,\n",
      "  \"d_kv\": 64,\n",
      "  \"d_model\": 768,\n",
      "  \"decoder_start_token_id\": 0,\n",
      "  \"dense_act_fn\": \"gelu_new\",\n",
      "  \"dropout_rate\": 0.1,\n",
      "  \"eos_token_id\": 1,\n",
      "  \"feed_forward_proj\": \"gated-gelu\",\n",
      "  \"initializer_factor\": 1.0,\n",
      "  \"is_encoder_decoder\": true,\n",
      "  \"is_gated_act\": true,\n",
      "  \"layer_norm_epsilon\": 1e-06,\n",
      "  \"model_type\": \"t5\",\n",
      "  \"n_positions\": 512,\n",
      "  \"num_decoder_layers\": 12,\n",
      "  \"num_heads\": 12,\n",
      "  \"num_layers\": 12,\n",
      "  \"output_past\": true,\n",
      "  \"pad_token_id\": 0,\n",
      "  \"relative_attention_max_distance\": 128,\n",
      "  \"relative_attention_num_buckets\": 32,\n",
      "  \"task_specific_params\": {\n",
      "    \"summarization\": {\n",
      "      \"early_stopping\": true,\n",
      "      \"length_penalty\": 2.0,\n",
      "      \"max_length\": 200,\n",
      "      \"min_length\": 30,\n",
      "      \"no_repeat_ngram_size\": 3,\n",
      "      \"num_beams\": 4,\n",
      "      \"prefix\": \"summarize: \"\n",
      "    },\n",
      "    \"translation_en_to_de\": {\n",
      "      \"early_stopping\": true,\n",
      "      \"max_length\": 300,\n",
      "      \"num_beams\": 4,\n",
      "      \"prefix\": \"translate English to German: \"\n",
      "    },\n",
      "    \"translation_en_to_fr\": {\n",
      "      \"early_stopping\": true,\n",
      "      \"max_length\": 300,\n",
      "      \"num_beams\": 4,\n",
      "      \"prefix\": \"translate English to French: \"\n",
      "    },\n",
      "    \"translation_en_to_ro\": {\n",
      "      \"early_stopping\": true,\n",
      "      \"max_length\": 300,\n",
      "      \"num_beams\": 4,\n",
      "      \"prefix\": \"translate English to Romanian: \"\n",
      "    }\n",
      "  },\n",
      "  \"tie_word_embeddings\": false,\n",
      "  \"transformers_version\": \"4.24.0\",\n",
      "  \"use_cache\": true,\n",
      "  \"vocab_size\": 32128\n",
      "}\n",
      "\n",
      "loading weights file pytorch_model.bin from cache at /home/ppibot/.cache/huggingface/hub/models--google--flan-t5-base/snapshots/c782cba52f8ea6a704240578055cf1c3fc2f2ca9/pytorch_model.bin\n",
      "All model checkpoint weights were used when initializing T5ForConditionalGeneration.\n",
      "\n",
      "All the weights of T5ForConditionalGeneration were initialized from the model checkpoint at google/flan-t5-base.\n",
      "If your task is similar to the task the model of the checkpoint was trained on, you can already use T5ForConditionalGeneration for predictions without further training.\n",
      "/home/ppibot/anaconda3/envs/myenv/lib/python3.9/site-packages/transformers/optimization.py:306: FutureWarning: This implementation of AdamW is deprecated and will be removed in a future version. Use the PyTorch implementation torch.optim.AdamW instead, or set `no_deprecation_warning=True` to disable this warning\n",
      "  warnings.warn(\n",
      "***** Running training *****\n",
      "  Num examples = 146\n",
      "  Num Epochs = 15\n",
      "  Instantaneous batch size per device = 2\n",
      "  Total train batch size (w. parallel, distributed & accumulation) = 2\n",
      "  Gradient Accumulation steps = 1\n",
      "  Total optimization steps = 1095\n",
      "  Number of trainable parameters = 247577856\n",
      "  7%|▋         | 73/1095 [00:14<03:20,  5.09it/s]***** Running Evaluation *****\n",
      "  Num examples = 37\n",
      "  Batch size = 2\n",
      "/home/ppibot/anaconda3/envs/myenv/lib/python3.9/site-packages/sklearn/metrics/_classification.py:1334: UndefinedMetricWarning: Precision and F-score are ill-defined and being set to 0.0 in labels with no predicted samples. Use `zero_division` parameter to control this behavior.\n",
      "  _warn_prf(average, modifier, msg_start, len(result))\n",
      "/home/ppibot/anaconda3/envs/myenv/lib/python3.9/site-packages/sklearn/metrics/_classification.py:1334: UndefinedMetricWarning: Recall and F-score are ill-defined and being set to 0.0 in labels with no true samples. Use `zero_division` parameter to control this behavior.\n",
      "  _warn_prf(average, modifier, msg_start, len(result))\n",
      "                                                 \n",
      "  7%|▋         | 73/1095 [00:17<03:20,  5.09it/s]Saving model checkpoint to ./model/run-3/checkpoint-73\n",
      "Configuration saved in ./model/run-3/checkpoint-73/config.json\n"
     ]
    },
    {
     "name": "stdout",
     "output_type": "stream",
     "text": [
      "{'eval_loss': 0.4300612509250641, 'eval_accuracy': 0.2702702702702703, 'eval_f1': 0.15625, 'eval_precision': 0.15625, 'eval_recall': 0.15625, 'eval_slot': 0.666695918434431, 'eval_slot_accuracy': 0.4954954954954955, 'eval_runtime': 2.7864, 'eval_samples_per_second': 13.279, 'eval_steps_per_second': 6.819, 'epoch': 1.0}\n"
     ]
    },
    {
     "name": "stderr",
     "output_type": "stream",
     "text": [
      "Model weights saved in ./model/run-3/checkpoint-73/pytorch_model.bin\n",
      " 13%|█▎        | 146/1095 [00:34<03:07,  5.07it/s]***** Running Evaluation *****\n",
      "  Num examples = 37\n",
      "  Batch size = 2\n",
      "/home/ppibot/anaconda3/envs/myenv/lib/python3.9/site-packages/sklearn/metrics/_classification.py:1334: UndefinedMetricWarning: Precision and F-score are ill-defined and being set to 0.0 in labels with no predicted samples. Use `zero_division` parameter to control this behavior.\n",
      "  _warn_prf(average, modifier, msg_start, len(result))\n",
      "/home/ppibot/anaconda3/envs/myenv/lib/python3.9/site-packages/sklearn/metrics/_classification.py:1334: UndefinedMetricWarning: Recall and F-score are ill-defined and being set to 0.0 in labels with no true samples. Use `zero_division` parameter to control this behavior.\n",
      "  _warn_prf(average, modifier, msg_start, len(result))\n",
      "                                                  \n",
      " 13%|█▎        | 146/1095 [00:36<03:07,  5.07it/s]Saving model checkpoint to ./model/run-3/checkpoint-146\n",
      "Configuration saved in ./model/run-3/checkpoint-146/config.json\n"
     ]
    },
    {
     "name": "stdout",
     "output_type": "stream",
     "text": [
      "{'eval_loss': 0.38887548446655273, 'eval_accuracy': 0.43243243243243246, 'eval_f1': 0.27586206896551724, 'eval_precision': 0.27586206896551724, 'eval_recall': 0.27586206896551724, 'eval_slot': 0.7221935039222458, 'eval_slot_accuracy': 0.6711711711711711, 'eval_runtime': 2.7542, 'eval_samples_per_second': 13.434, 'eval_steps_per_second': 6.899, 'epoch': 2.0}\n"
     ]
    },
    {
     "name": "stderr",
     "output_type": "stream",
     "text": [
      "Model weights saved in ./model/run-3/checkpoint-146/pytorch_model.bin\n",
      " 20%|██        | 219/1095 [00:53<02:52,  5.07it/s]***** Running Evaluation *****\n",
      "  Num examples = 37\n",
      "  Batch size = 2\n",
      "/home/ppibot/anaconda3/envs/myenv/lib/python3.9/site-packages/sklearn/metrics/_classification.py:1334: UndefinedMetricWarning: Precision and F-score are ill-defined and being set to 0.0 in labels with no predicted samples. Use `zero_division` parameter to control this behavior.\n",
      "  _warn_prf(average, modifier, msg_start, len(result))\n",
      "/home/ppibot/anaconda3/envs/myenv/lib/python3.9/site-packages/sklearn/metrics/_classification.py:1334: UndefinedMetricWarning: Recall and F-score are ill-defined and being set to 0.0 in labels with no true samples. Use `zero_division` parameter to control this behavior.\n",
      "  _warn_prf(average, modifier, msg_start, len(result))\n",
      "                                                  \n",
      " 20%|██        | 219/1095 [00:56<02:52,  5.07it/s]Saving model checkpoint to ./model/run-3/checkpoint-219\n",
      "Configuration saved in ./model/run-3/checkpoint-219/config.json\n"
     ]
    },
    {
     "name": "stdout",
     "output_type": "stream",
     "text": [
      "{'eval_loss': 0.30042508244514465, 'eval_accuracy': 0.5945945945945946, 'eval_f1': 0.4230769230769231, 'eval_precision': 0.4230769230769231, 'eval_recall': 0.4230769230769231, 'eval_slot': 0.848358198896992, 'eval_slot_accuracy': 0.7702702702702703, 'eval_runtime': 2.7796, 'eval_samples_per_second': 13.311, 'eval_steps_per_second': 6.835, 'epoch': 3.0}\n"
     ]
    },
    {
     "name": "stderr",
     "output_type": "stream",
     "text": [
      "Model weights saved in ./model/run-3/checkpoint-219/pytorch_model.bin\n",
      " 27%|██▋       | 292/1095 [01:14<02:38,  5.07it/s]***** Running Evaluation *****\n",
      "  Num examples = 37\n",
      "  Batch size = 2\n",
      "/home/ppibot/anaconda3/envs/myenv/lib/python3.9/site-packages/sklearn/metrics/_classification.py:1334: UndefinedMetricWarning: Precision and F-score are ill-defined and being set to 0.0 in labels with no predicted samples. Use `zero_division` parameter to control this behavior.\n",
      "  _warn_prf(average, modifier, msg_start, len(result))\n",
      "/home/ppibot/anaconda3/envs/myenv/lib/python3.9/site-packages/sklearn/metrics/_classification.py:1334: UndefinedMetricWarning: Recall and F-score are ill-defined and being set to 0.0 in labels with no true samples. Use `zero_division` parameter to control this behavior.\n",
      "  _warn_prf(average, modifier, msg_start, len(result))\n",
      "                                                  \n",
      " 27%|██▋       | 292/1095 [01:16<02:38,  5.07it/s]Saving model checkpoint to ./model/run-3/checkpoint-292\n",
      "Configuration saved in ./model/run-3/checkpoint-292/config.json\n"
     ]
    },
    {
     "name": "stdout",
     "output_type": "stream",
     "text": [
      "{'eval_loss': 0.31639209389686584, 'eval_accuracy': 0.6486486486486487, 'eval_f1': 0.48, 'eval_precision': 0.48, 'eval_recall': 0.48, 'eval_slot': 0.8649206696336914, 'eval_slot_accuracy': 0.7972972972972973, 'eval_runtime': 2.8239, 'eval_samples_per_second': 13.103, 'eval_steps_per_second': 6.728, 'epoch': 4.0}\n"
     ]
    },
    {
     "name": "stderr",
     "output_type": "stream",
     "text": [
      "Model weights saved in ./model/run-3/checkpoint-292/pytorch_model.bin\n",
      " 33%|███▎      | 365/1095 [01:35<02:23,  5.07it/s]***** Running Evaluation *****\n",
      "  Num examples = 37\n",
      "  Batch size = 2\n",
      "/home/ppibot/anaconda3/envs/myenv/lib/python3.9/site-packages/sklearn/metrics/_classification.py:1334: UndefinedMetricWarning: Precision and F-score are ill-defined and being set to 0.0 in labels with no predicted samples. Use `zero_division` parameter to control this behavior.\n",
      "  _warn_prf(average, modifier, msg_start, len(result))\n",
      "/home/ppibot/anaconda3/envs/myenv/lib/python3.9/site-packages/sklearn/metrics/_classification.py:1334: UndefinedMetricWarning: Recall and F-score are ill-defined and being set to 0.0 in labels with no true samples. Use `zero_division` parameter to control this behavior.\n",
      "  _warn_prf(average, modifier, msg_start, len(result))\n",
      "                                                  \n",
      " 33%|███▎      | 365/1095 [01:38<02:23,  5.07it/s]Saving model checkpoint to ./model/run-3/checkpoint-365\n",
      "Configuration saved in ./model/run-3/checkpoint-365/config.json\n"
     ]
    },
    {
     "name": "stdout",
     "output_type": "stream",
     "text": [
      "{'eval_loss': 0.3629116117954254, 'eval_accuracy': 0.6486486486486487, 'eval_f1': 0.48, 'eval_precision': 0.48, 'eval_recall': 0.48, 'eval_slot': 0.8515424175984521, 'eval_slot_accuracy': 0.7972972972972973, 'eval_runtime': 2.8196, 'eval_samples_per_second': 13.122, 'eval_steps_per_second': 6.739, 'epoch': 5.0}\n"
     ]
    },
    {
     "name": "stderr",
     "output_type": "stream",
     "text": [
      "Model weights saved in ./model/run-3/checkpoint-365/pytorch_model.bin\n",
      " 40%|████      | 438/1095 [01:56<02:09,  5.07it/s]***** Running Evaluation *****\n",
      "  Num examples = 37\n",
      "  Batch size = 2\n",
      "/home/ppibot/anaconda3/envs/myenv/lib/python3.9/site-packages/sklearn/metrics/_classification.py:1334: UndefinedMetricWarning: Precision and F-score are ill-defined and being set to 0.0 in labels with no predicted samples. Use `zero_division` parameter to control this behavior.\n",
      "  _warn_prf(average, modifier, msg_start, len(result))\n",
      "/home/ppibot/anaconda3/envs/myenv/lib/python3.9/site-packages/sklearn/metrics/_classification.py:1334: UndefinedMetricWarning: Recall and F-score are ill-defined and being set to 0.0 in labels with no true samples. Use `zero_division` parameter to control this behavior.\n",
      "  _warn_prf(average, modifier, msg_start, len(result))\n",
      "                                                  \n",
      " 40%|████      | 438/1095 [01:59<02:09,  5.07it/s]Saving model checkpoint to ./model/run-3/checkpoint-438\n",
      "Configuration saved in ./model/run-3/checkpoint-438/config.json\n"
     ]
    },
    {
     "name": "stdout",
     "output_type": "stream",
     "text": [
      "{'eval_loss': 0.3556874394416809, 'eval_accuracy': 0.6756756756756757, 'eval_f1': 0.5102040816326531, 'eval_precision': 0.5102040816326531, 'eval_recall': 0.5102040816326531, 'eval_slot': 0.908528428758692, 'eval_slot_accuracy': 0.8378378378378378, 'eval_runtime': 2.8107, 'eval_samples_per_second': 13.164, 'eval_steps_per_second': 6.76, 'epoch': 6.0}\n"
     ]
    },
    {
     "name": "stderr",
     "output_type": "stream",
     "text": [
      "Model weights saved in ./model/run-3/checkpoint-438/pytorch_model.bin\n",
      " 46%|████▌     | 501/1095 [02:13<01:57,  5.06it/s]"
     ]
    },
    {
     "name": "stdout",
     "output_type": "stream",
     "text": [
      "{'loss': 0.2962, 'learning_rate': 3.9177167980010714e-05, 'epoch': 6.85}\n"
     ]
    },
    {
     "name": "stderr",
     "output_type": "stream",
     "text": [
      " 47%|████▋     | 511/1095 [02:15<01:55,  5.07it/s]***** Running Evaluation *****\n",
      "  Num examples = 37\n",
      "  Batch size = 2\n",
      "/home/ppibot/anaconda3/envs/myenv/lib/python3.9/site-packages/sklearn/metrics/_classification.py:1334: UndefinedMetricWarning: Precision and F-score are ill-defined and being set to 0.0 in labels with no predicted samples. Use `zero_division` parameter to control this behavior.\n",
      "  _warn_prf(average, modifier, msg_start, len(result))\n",
      "/home/ppibot/anaconda3/envs/myenv/lib/python3.9/site-packages/sklearn/metrics/_classification.py:1334: UndefinedMetricWarning: Recall and F-score are ill-defined and being set to 0.0 in labels with no true samples. Use `zero_division` parameter to control this behavior.\n",
      "  _warn_prf(average, modifier, msg_start, len(result))\n",
      "                                                  \n",
      " 47%|████▋     | 511/1095 [02:18<01:55,  5.07it/s]Saving model checkpoint to ./model/run-3/checkpoint-511\n",
      "Configuration saved in ./model/run-3/checkpoint-511/config.json\n"
     ]
    },
    {
     "name": "stdout",
     "output_type": "stream",
     "text": [
      "{'eval_loss': 0.3777785897254944, 'eval_accuracy': 0.6486486486486487, 'eval_f1': 0.48, 'eval_precision': 0.48, 'eval_recall': 0.48, 'eval_slot': 0.8846839393969611, 'eval_slot_accuracy': 0.8063063063063063, 'eval_runtime': 2.8135, 'eval_samples_per_second': 13.151, 'eval_steps_per_second': 6.753, 'epoch': 7.0}\n"
     ]
    },
    {
     "name": "stderr",
     "output_type": "stream",
     "text": [
      "Model weights saved in ./model/run-3/checkpoint-511/pytorch_model.bin\n",
      " 53%|█████▎    | 584/1095 [02:35<01:40,  5.06it/s]***** Running Evaluation *****\n",
      "  Num examples = 37\n",
      "  Batch size = 2\n",
      "/home/ppibot/anaconda3/envs/myenv/lib/python3.9/site-packages/sklearn/metrics/_classification.py:1334: UndefinedMetricWarning: Precision and F-score are ill-defined and being set to 0.0 in labels with no predicted samples. Use `zero_division` parameter to control this behavior.\n",
      "  _warn_prf(average, modifier, msg_start, len(result))\n",
      "/home/ppibot/anaconda3/envs/myenv/lib/python3.9/site-packages/sklearn/metrics/_classification.py:1334: UndefinedMetricWarning: Recall and F-score are ill-defined and being set to 0.0 in labels with no true samples. Use `zero_division` parameter to control this behavior.\n",
      "  _warn_prf(average, modifier, msg_start, len(result))\n",
      "                                                  \n",
      " 53%|█████▎    | 584/1095 [02:38<01:40,  5.06it/s]Saving model checkpoint to ./model/run-3/checkpoint-584\n",
      "Configuration saved in ./model/run-3/checkpoint-584/config.json\n"
     ]
    },
    {
     "name": "stdout",
     "output_type": "stream",
     "text": [
      "{'eval_loss': 0.4096693992614746, 'eval_accuracy': 0.6486486486486487, 'eval_f1': 0.48, 'eval_precision': 0.48, 'eval_recall': 0.48, 'eval_slot': 0.8846839393969611, 'eval_slot_accuracy': 0.8063063063063063, 'eval_runtime': 2.8277, 'eval_samples_per_second': 13.085, 'eval_steps_per_second': 6.719, 'epoch': 8.0}\n"
     ]
    },
    {
     "name": "stderr",
     "output_type": "stream",
     "text": [
      "Model weights saved in ./model/run-3/checkpoint-584/pytorch_model.bin\n",
      " 60%|██████    | 657/1095 [02:54<01:26,  5.07it/s]***** Running Evaluation *****\n",
      "  Num examples = 37\n",
      "  Batch size = 2\n",
      "/home/ppibot/anaconda3/envs/myenv/lib/python3.9/site-packages/sklearn/metrics/_classification.py:1334: UndefinedMetricWarning: Precision and F-score are ill-defined and being set to 0.0 in labels with no predicted samples. Use `zero_division` parameter to control this behavior.\n",
      "  _warn_prf(average, modifier, msg_start, len(result))\n",
      "/home/ppibot/anaconda3/envs/myenv/lib/python3.9/site-packages/sklearn/metrics/_classification.py:1334: UndefinedMetricWarning: Recall and F-score are ill-defined and being set to 0.0 in labels with no true samples. Use `zero_division` parameter to control this behavior.\n",
      "  _warn_prf(average, modifier, msg_start, len(result))\n",
      "                                                  \n",
      " 60%|██████    | 657/1095 [02:57<01:26,  5.07it/s]Saving model checkpoint to ./model/run-3/checkpoint-657\n",
      "Configuration saved in ./model/run-3/checkpoint-657/config.json\n"
     ]
    },
    {
     "name": "stdout",
     "output_type": "stream",
     "text": [
      "{'eval_loss': 0.42624902725219727, 'eval_accuracy': 0.6486486486486487, 'eval_f1': 0.48, 'eval_precision': 0.48, 'eval_recall': 0.48, 'eval_slot': 0.8834874037176669, 'eval_slot_accuracy': 0.8153153153153153, 'eval_runtime': 2.8124, 'eval_samples_per_second': 13.156, 'eval_steps_per_second': 6.756, 'epoch': 9.0}\n"
     ]
    },
    {
     "name": "stderr",
     "output_type": "stream",
     "text": [
      "Model weights saved in ./model/run-3/checkpoint-657/pytorch_model.bin\n",
      " 67%|██████▋   | 730/1095 [03:14<01:11,  5.08it/s]***** Running Evaluation *****\n",
      "  Num examples = 37\n",
      "  Batch size = 2\n",
      "/home/ppibot/anaconda3/envs/myenv/lib/python3.9/site-packages/sklearn/metrics/_classification.py:1334: UndefinedMetricWarning: Precision and F-score are ill-defined and being set to 0.0 in labels with no predicted samples. Use `zero_division` parameter to control this behavior.\n",
      "  _warn_prf(average, modifier, msg_start, len(result))\n",
      "/home/ppibot/anaconda3/envs/myenv/lib/python3.9/site-packages/sklearn/metrics/_classification.py:1334: UndefinedMetricWarning: Recall and F-score are ill-defined and being set to 0.0 in labels with no true samples. Use `zero_division` parameter to control this behavior.\n",
      "  _warn_prf(average, modifier, msg_start, len(result))\n",
      "                                                  \n",
      " 67%|██████▋   | 730/1095 [03:16<01:11,  5.08it/s]Saving model checkpoint to ./model/run-3/checkpoint-730\n",
      "Configuration saved in ./model/run-3/checkpoint-730/config.json\n"
     ]
    },
    {
     "name": "stdout",
     "output_type": "stream",
     "text": [
      "{'eval_loss': 0.4200839102268219, 'eval_accuracy': 0.6486486486486487, 'eval_f1': 0.48, 'eval_precision': 0.48, 'eval_recall': 0.48, 'eval_slot': 0.8798829001131633, 'eval_slot_accuracy': 0.8063063063063063, 'eval_runtime': 2.8366, 'eval_samples_per_second': 13.044, 'eval_steps_per_second': 6.698, 'epoch': 10.0}\n"
     ]
    },
    {
     "name": "stderr",
     "output_type": "stream",
     "text": [
      "Model weights saved in ./model/run-3/checkpoint-730/pytorch_model.bin\n",
      " 73%|███████▎  | 803/1095 [03:33<00:57,  5.06it/s]***** Running Evaluation *****\n",
      "  Num examples = 37\n",
      "  Batch size = 2\n",
      "/home/ppibot/anaconda3/envs/myenv/lib/python3.9/site-packages/sklearn/metrics/_classification.py:1334: UndefinedMetricWarning: Precision and F-score are ill-defined and being set to 0.0 in labels with no predicted samples. Use `zero_division` parameter to control this behavior.\n",
      "  _warn_prf(average, modifier, msg_start, len(result))\n",
      "/home/ppibot/anaconda3/envs/myenv/lib/python3.9/site-packages/sklearn/metrics/_classification.py:1334: UndefinedMetricWarning: Recall and F-score are ill-defined and being set to 0.0 in labels with no true samples. Use `zero_division` parameter to control this behavior.\n",
      "  _warn_prf(average, modifier, msg_start, len(result))\n",
      "                                                  \n",
      " 73%|███████▎  | 803/1095 [03:36<00:57,  5.06it/s]Saving model checkpoint to ./model/run-3/checkpoint-803\n",
      "Configuration saved in ./model/run-3/checkpoint-803/config.json\n"
     ]
    },
    {
     "name": "stdout",
     "output_type": "stream",
     "text": [
      "{'eval_loss': 0.4241984188556671, 'eval_accuracy': 0.6756756756756757, 'eval_f1': 0.5102040816326531, 'eval_precision': 0.5102040816326531, 'eval_recall': 0.5102040816326531, 'eval_slot': 0.8695283897586529, 'eval_slot_accuracy': 0.7972972972972973, 'eval_runtime': 2.8382, 'eval_samples_per_second': 13.036, 'eval_steps_per_second': 6.694, 'epoch': 11.0}\n"
     ]
    },
    {
     "name": "stderr",
     "output_type": "stream",
     "text": [
      "Model weights saved in ./model/run-3/checkpoint-803/pytorch_model.bin\n",
      " 80%|████████  | 876/1095 [03:53<00:43,  5.05it/s]***** Running Evaluation *****\n",
      "  Num examples = 37\n",
      "  Batch size = 2\n",
      "/home/ppibot/anaconda3/envs/myenv/lib/python3.9/site-packages/sklearn/metrics/_classification.py:1334: UndefinedMetricWarning: Precision and F-score are ill-defined and being set to 0.0 in labels with no predicted samples. Use `zero_division` parameter to control this behavior.\n",
      "  _warn_prf(average, modifier, msg_start, len(result))\n",
      "/home/ppibot/anaconda3/envs/myenv/lib/python3.9/site-packages/sklearn/metrics/_classification.py:1334: UndefinedMetricWarning: Recall and F-score are ill-defined and being set to 0.0 in labels with no true samples. Use `zero_division` parameter to control this behavior.\n",
      "  _warn_prf(average, modifier, msg_start, len(result))\n",
      "                                                  \n",
      " 80%|████████  | 876/1095 [03:56<00:43,  5.05it/s]Saving model checkpoint to ./model/run-3/checkpoint-876\n",
      "Configuration saved in ./model/run-3/checkpoint-876/config.json\n"
     ]
    },
    {
     "name": "stdout",
     "output_type": "stream",
     "text": [
      "{'eval_loss': 0.4208008646965027, 'eval_accuracy': 0.6756756756756757, 'eval_f1': 0.5102040816326531, 'eval_precision': 0.5102040816326531, 'eval_recall': 0.5102040816326531, 'eval_slot': 0.8834874037176669, 'eval_slot_accuracy': 0.8153153153153153, 'eval_runtime': 2.8359, 'eval_samples_per_second': 13.047, 'eval_steps_per_second': 6.7, 'epoch': 12.0}\n"
     ]
    },
    {
     "name": "stderr",
     "output_type": "stream",
     "text": [
      "Model weights saved in ./model/run-3/checkpoint-876/pytorch_model.bin\n",
      " 87%|████████▋ | 949/1095 [04:12<00:28,  5.06it/s]***** Running Evaluation *****\n",
      "  Num examples = 37\n",
      "  Batch size = 2\n",
      "/home/ppibot/anaconda3/envs/myenv/lib/python3.9/site-packages/sklearn/metrics/_classification.py:1334: UndefinedMetricWarning: Precision and F-score are ill-defined and being set to 0.0 in labels with no predicted samples. Use `zero_division` parameter to control this behavior.\n",
      "  _warn_prf(average, modifier, msg_start, len(result))\n",
      "/home/ppibot/anaconda3/envs/myenv/lib/python3.9/site-packages/sklearn/metrics/_classification.py:1334: UndefinedMetricWarning: Recall and F-score are ill-defined and being set to 0.0 in labels with no true samples. Use `zero_division` parameter to control this behavior.\n",
      "  _warn_prf(average, modifier, msg_start, len(result))\n",
      "                                                  \n",
      " 87%|████████▋ | 949/1095 [04:15<00:28,  5.06it/s]Saving model checkpoint to ./model/run-3/checkpoint-949\n",
      "Configuration saved in ./model/run-3/checkpoint-949/config.json\n"
     ]
    },
    {
     "name": "stdout",
     "output_type": "stream",
     "text": [
      "{'eval_loss': 0.4303843080997467, 'eval_accuracy': 0.6756756756756757, 'eval_f1': 0.5102040816326531, 'eval_precision': 0.5102040816326531, 'eval_recall': 0.5102040816326531, 'eval_slot': 0.8721023923326554, 'eval_slot_accuracy': 0.8063063063063063, 'eval_runtime': 2.8483, 'eval_samples_per_second': 12.99, 'eval_steps_per_second': 6.671, 'epoch': 13.0}\n"
     ]
    },
    {
     "name": "stderr",
     "output_type": "stream",
     "text": [
      "Model weights saved in ./model/run-3/checkpoint-949/pytorch_model.bin\n",
      " 91%|█████████▏| 1001/1095 [04:28<00:18,  5.03it/s]"
     ]
    },
    {
     "name": "stdout",
     "output_type": "stream",
     "text": [
      "{'loss': 0.0286, 'learning_rate': 6.255178080842046e-06, 'epoch': 13.7}\n"
     ]
    },
    {
     "name": "stderr",
     "output_type": "stream",
     "text": [
      " 93%|█████████▎| 1022/1095 [04:32<00:14,  5.06it/s]***** Running Evaluation *****\n",
      "  Num examples = 37\n",
      "  Batch size = 2\n",
      "/home/ppibot/anaconda3/envs/myenv/lib/python3.9/site-packages/sklearn/metrics/_classification.py:1334: UndefinedMetricWarning: Precision and F-score are ill-defined and being set to 0.0 in labels with no predicted samples. Use `zero_division` parameter to control this behavior.\n",
      "  _warn_prf(average, modifier, msg_start, len(result))\n",
      "/home/ppibot/anaconda3/envs/myenv/lib/python3.9/site-packages/sklearn/metrics/_classification.py:1334: UndefinedMetricWarning: Recall and F-score are ill-defined and being set to 0.0 in labels with no true samples. Use `zero_division` parameter to control this behavior.\n",
      "  _warn_prf(average, modifier, msg_start, len(result))\n",
      "                                                   \n",
      " 93%|█████████▎| 1022/1095 [04:35<00:14,  5.06it/s]Saving model checkpoint to ./model/run-3/checkpoint-1022\n",
      "Configuration saved in ./model/run-3/checkpoint-1022/config.json\n"
     ]
    },
    {
     "name": "stdout",
     "output_type": "stream",
     "text": [
      "{'eval_loss': 0.42344117164611816, 'eval_accuracy': 0.6486486486486487, 'eval_f1': 0.48, 'eval_precision': 0.48, 'eval_recall': 0.48, 'eval_slot': 0.8721023923326554, 'eval_slot_accuracy': 0.8063063063063063, 'eval_runtime': 2.9106, 'eval_samples_per_second': 12.712, 'eval_steps_per_second': 6.528, 'epoch': 14.0}\n"
     ]
    },
    {
     "name": "stderr",
     "output_type": "stream",
     "text": [
      "Model weights saved in ./model/run-3/checkpoint-1022/pytorch_model.bin\n",
      "100%|██████████| 1095/1095 [04:53<00:00,  5.06it/s]***** Running Evaluation *****\n",
      "  Num examples = 37\n",
      "  Batch size = 2\n",
      "/home/ppibot/anaconda3/envs/myenv/lib/python3.9/site-packages/sklearn/metrics/_classification.py:1334: UndefinedMetricWarning: Precision and F-score are ill-defined and being set to 0.0 in labels with no predicted samples. Use `zero_division` parameter to control this behavior.\n",
      "  _warn_prf(average, modifier, msg_start, len(result))\n",
      "/home/ppibot/anaconda3/envs/myenv/lib/python3.9/site-packages/sklearn/metrics/_classification.py:1334: UndefinedMetricWarning: Recall and F-score are ill-defined and being set to 0.0 in labels with no true samples. Use `zero_division` parameter to control this behavior.\n",
      "  _warn_prf(average, modifier, msg_start, len(result))\n",
      "                                                   \n",
      "100%|██████████| 1095/1095 [04:56<00:00,  5.06it/s]Saving model checkpoint to ./model/run-3/checkpoint-1095\n",
      "Configuration saved in ./model/run-3/checkpoint-1095/config.json\n"
     ]
    },
    {
     "name": "stdout",
     "output_type": "stream",
     "text": [
      "{'eval_loss': 0.42595374584198, 'eval_accuracy': 0.6756756756756757, 'eval_f1': 0.5102040816326531, 'eval_precision': 0.5102040816326531, 'eval_recall': 0.5102040816326531, 'eval_slot': 0.8991294193596825, 'eval_slot_accuracy': 0.8333333333333333, 'eval_runtime': 2.8356, 'eval_samples_per_second': 13.048, 'eval_steps_per_second': 6.701, 'epoch': 15.0}\n"
     ]
    },
    {
     "name": "stderr",
     "output_type": "stream",
     "text": [
      "Model weights saved in ./model/run-3/checkpoint-1095/pytorch_model.bin\n",
      "\n",
      "\n",
      "Training completed. Do not forget to share your model on huggingface.co/models =)\n",
      "\n",
      "\n",
      "Loading best model from ./model/run-3/checkpoint-438 (score: 0.8378378378378378).\n",
      "100%|██████████| 1095/1095 [05:00<00:00,  3.64it/s]\n",
      "\u001b[32m[I 2023-06-11 18:49:40,920]\u001b[0m Trial 3 finished with value: 0.8333333333333333 and parameters: {'learning_rate': 7.209915787917938e-05, 'num_train_epochs': 15}. Best is trial 3 with value: 0.8333333333333333.\u001b[0m\n",
      "Trial: {'learning_rate': 3.857836573526722e-05, 'num_train_epochs': 20}\n"
     ]
    },
    {
     "name": "stdout",
     "output_type": "stream",
     "text": [
      "{'train_runtime': 300.6532, 'train_samples_per_second': 7.284, 'train_steps_per_second': 3.642, 'train_loss': 0.14968527419382036, 'epoch': 15.0}\n"
     ]
    },
    {
     "name": "stderr",
     "output_type": "stream",
     "text": [
      "loading configuration file config.json from cache at /home/ppibot/.cache/huggingface/hub/models--google--flan-t5-base/snapshots/c782cba52f8ea6a704240578055cf1c3fc2f2ca9/config.json\n",
      "Model config T5Config {\n",
      "  \"_name_or_path\": \"google/flan-t5-base\",\n",
      "  \"architectures\": [\n",
      "    \"T5ForConditionalGeneration\"\n",
      "  ],\n",
      "  \"d_ff\": 2048,\n",
      "  \"d_kv\": 64,\n",
      "  \"d_model\": 768,\n",
      "  \"decoder_start_token_id\": 0,\n",
      "  \"dense_act_fn\": \"gelu_new\",\n",
      "  \"dropout_rate\": 0.1,\n",
      "  \"eos_token_id\": 1,\n",
      "  \"feed_forward_proj\": \"gated-gelu\",\n",
      "  \"initializer_factor\": 1.0,\n",
      "  \"is_encoder_decoder\": true,\n",
      "  \"is_gated_act\": true,\n",
      "  \"layer_norm_epsilon\": 1e-06,\n",
      "  \"model_type\": \"t5\",\n",
      "  \"n_positions\": 512,\n",
      "  \"num_decoder_layers\": 12,\n",
      "  \"num_heads\": 12,\n",
      "  \"num_layers\": 12,\n",
      "  \"output_past\": true,\n",
      "  \"pad_token_id\": 0,\n",
      "  \"relative_attention_max_distance\": 128,\n",
      "  \"relative_attention_num_buckets\": 32,\n",
      "  \"task_specific_params\": {\n",
      "    \"summarization\": {\n",
      "      \"early_stopping\": true,\n",
      "      \"length_penalty\": 2.0,\n",
      "      \"max_length\": 200,\n",
      "      \"min_length\": 30,\n",
      "      \"no_repeat_ngram_size\": 3,\n",
      "      \"num_beams\": 4,\n",
      "      \"prefix\": \"summarize: \"\n",
      "    },\n",
      "    \"translation_en_to_de\": {\n",
      "      \"early_stopping\": true,\n",
      "      \"max_length\": 300,\n",
      "      \"num_beams\": 4,\n",
      "      \"prefix\": \"translate English to German: \"\n",
      "    },\n",
      "    \"translation_en_to_fr\": {\n",
      "      \"early_stopping\": true,\n",
      "      \"max_length\": 300,\n",
      "      \"num_beams\": 4,\n",
      "      \"prefix\": \"translate English to French: \"\n",
      "    },\n",
      "    \"translation_en_to_ro\": {\n",
      "      \"early_stopping\": true,\n",
      "      \"max_length\": 300,\n",
      "      \"num_beams\": 4,\n",
      "      \"prefix\": \"translate English to Romanian: \"\n",
      "    }\n",
      "  },\n",
      "  \"tie_word_embeddings\": false,\n",
      "  \"transformers_version\": \"4.24.0\",\n",
      "  \"use_cache\": true,\n",
      "  \"vocab_size\": 32128\n",
      "}\n",
      "\n",
      "loading weights file pytorch_model.bin from cache at /home/ppibot/.cache/huggingface/hub/models--google--flan-t5-base/snapshots/c782cba52f8ea6a704240578055cf1c3fc2f2ca9/pytorch_model.bin\n",
      "All model checkpoint weights were used when initializing T5ForConditionalGeneration.\n",
      "\n",
      "All the weights of T5ForConditionalGeneration were initialized from the model checkpoint at google/flan-t5-base.\n",
      "If your task is similar to the task the model of the checkpoint was trained on, you can already use T5ForConditionalGeneration for predictions without further training.\n",
      "/home/ppibot/anaconda3/envs/myenv/lib/python3.9/site-packages/transformers/optimization.py:306: FutureWarning: This implementation of AdamW is deprecated and will be removed in a future version. Use the PyTorch implementation torch.optim.AdamW instead, or set `no_deprecation_warning=True` to disable this warning\n",
      "  warnings.warn(\n",
      "***** Running training *****\n",
      "  Num examples = 146\n",
      "  Num Epochs = 20\n",
      "  Instantaneous batch size per device = 2\n",
      "  Total train batch size (w. parallel, distributed & accumulation) = 2\n",
      "  Gradient Accumulation steps = 1\n",
      "  Total optimization steps = 1460\n",
      "  Number of trainable parameters = 247577856\n",
      "  5%|▌         | 73/1460 [00:14<04:33,  5.07it/s]***** Running Evaluation *****\n",
      "  Num examples = 37\n",
      "  Batch size = 2\n",
      "/home/ppibot/anaconda3/envs/myenv/lib/python3.9/site-packages/sklearn/metrics/_classification.py:1334: UndefinedMetricWarning: Precision and F-score are ill-defined and being set to 0.0 in labels with no predicted samples. Use `zero_division` parameter to control this behavior.\n",
      "  _warn_prf(average, modifier, msg_start, len(result))\n",
      "/home/ppibot/anaconda3/envs/myenv/lib/python3.9/site-packages/sklearn/metrics/_classification.py:1334: UndefinedMetricWarning: Recall and F-score are ill-defined and being set to 0.0 in labels with no true samples. Use `zero_division` parameter to control this behavior.\n",
      "  _warn_prf(average, modifier, msg_start, len(result))\n",
      "                                                 \n",
      "  5%|▌         | 73/1460 [00:17<04:33,  5.07it/s]Saving model checkpoint to ./model/run-4/checkpoint-73\n",
      "Configuration saved in ./model/run-4/checkpoint-73/config.json\n"
     ]
    },
    {
     "name": "stdout",
     "output_type": "stream",
     "text": [
      "{'eval_loss': 0.5667756795883179, 'eval_accuracy': 0.10810810810810811, 'eval_f1': 0.058823529411764705, 'eval_precision': 0.058823529411764705, 'eval_recall': 0.058823529411764705, 'eval_slot': 0.37422630608176477, 'eval_slot_accuracy': 0.23423423423423423, 'eval_runtime': 2.7255, 'eval_samples_per_second': 13.575, 'eval_steps_per_second': 6.971, 'epoch': 1.0}\n"
     ]
    },
    {
     "name": "stderr",
     "output_type": "stream",
     "text": [
      "Model weights saved in ./model/run-4/checkpoint-73/pytorch_model.bin\n",
      " 10%|█         | 146/1460 [00:36<04:19,  5.06it/s]***** Running Evaluation *****\n",
      "  Num examples = 37\n",
      "  Batch size = 2\n",
      "/home/ppibot/anaconda3/envs/myenv/lib/python3.9/site-packages/sklearn/metrics/_classification.py:1334: UndefinedMetricWarning: Precision and F-score are ill-defined and being set to 0.0 in labels with no predicted samples. Use `zero_division` parameter to control this behavior.\n",
      "  _warn_prf(average, modifier, msg_start, len(result))\n",
      "/home/ppibot/anaconda3/envs/myenv/lib/python3.9/site-packages/sklearn/metrics/_classification.py:1334: UndefinedMetricWarning: Recall and F-score are ill-defined and being set to 0.0 in labels with no true samples. Use `zero_division` parameter to control this behavior.\n",
      "  _warn_prf(average, modifier, msg_start, len(result))\n",
      "                                                  \n",
      " 10%|█         | 146/1460 [00:39<04:19,  5.06it/s]Saving model checkpoint to ./model/run-4/checkpoint-146\n",
      "Configuration saved in ./model/run-4/checkpoint-146/config.json\n"
     ]
    },
    {
     "name": "stdout",
     "output_type": "stream",
     "text": [
      "{'eval_loss': 0.4297012984752655, 'eval_accuracy': 0.40540540540540543, 'eval_f1': 0.2542372881355932, 'eval_precision': 0.2542372881355932, 'eval_recall': 0.2542372881355932, 'eval_slot': 0.7449316162488359, 'eval_slot_accuracy': 0.7072072072072071, 'eval_runtime': 2.7887, 'eval_samples_per_second': 13.268, 'eval_steps_per_second': 6.813, 'epoch': 2.0}\n"
     ]
    },
    {
     "name": "stderr",
     "output_type": "stream",
     "text": [
      "Model weights saved in ./model/run-4/checkpoint-146/pytorch_model.bin\n",
      " 15%|█▌        | 219/1460 [01:01<04:04,  5.07it/s]  ***** Running Evaluation *****\n",
      "  Num examples = 37\n",
      "  Batch size = 2\n",
      "/home/ppibot/anaconda3/envs/myenv/lib/python3.9/site-packages/sklearn/metrics/_classification.py:1334: UndefinedMetricWarning: Precision and F-score are ill-defined and being set to 0.0 in labels with no predicted samples. Use `zero_division` parameter to control this behavior.\n",
      "  _warn_prf(average, modifier, msg_start, len(result))\n",
      "/home/ppibot/anaconda3/envs/myenv/lib/python3.9/site-packages/sklearn/metrics/_classification.py:1334: UndefinedMetricWarning: Recall and F-score are ill-defined and being set to 0.0 in labels with no true samples. Use `zero_division` parameter to control this behavior.\n",
      "  _warn_prf(average, modifier, msg_start, len(result))\n",
      "                                                  \n",
      " 15%|█▌        | 219/1460 [01:04<04:04,  5.07it/s]Saving model checkpoint to ./model/run-4/checkpoint-219\n",
      "Configuration saved in ./model/run-4/checkpoint-219/config.json\n"
     ]
    },
    {
     "name": "stdout",
     "output_type": "stream",
     "text": [
      "{'eval_loss': 0.3486410975456238, 'eval_accuracy': 0.5405405405405406, 'eval_f1': 0.38461538461538464, 'eval_precision': 0.38461538461538464, 'eval_recall': 0.38461538461538464, 'eval_slot': 0.8133236180366399, 'eval_slot_accuracy': 0.7477477477477477, 'eval_runtime': 2.8128, 'eval_samples_per_second': 13.154, 'eval_steps_per_second': 6.755, 'epoch': 3.0}\n"
     ]
    },
    {
     "name": "stderr",
     "output_type": "stream",
     "text": [
      "Model weights saved in ./model/run-4/checkpoint-219/pytorch_model.bin\n",
      " 20%|██        | 292/1460 [01:21<03:51,  5.05it/s]***** Running Evaluation *****\n",
      "  Num examples = 37\n",
      "  Batch size = 2\n",
      "/home/ppibot/anaconda3/envs/myenv/lib/python3.9/site-packages/sklearn/metrics/_classification.py:1334: UndefinedMetricWarning: Precision and F-score are ill-defined and being set to 0.0 in labels with no predicted samples. Use `zero_division` parameter to control this behavior.\n",
      "  _warn_prf(average, modifier, msg_start, len(result))\n",
      "/home/ppibot/anaconda3/envs/myenv/lib/python3.9/site-packages/sklearn/metrics/_classification.py:1334: UndefinedMetricWarning: Recall and F-score are ill-defined and being set to 0.0 in labels with no true samples. Use `zero_division` parameter to control this behavior.\n",
      "  _warn_prf(average, modifier, msg_start, len(result))\n",
      "                                                  \n",
      " 20%|██        | 292/1460 [01:24<03:51,  5.05it/s]Saving model checkpoint to ./model/run-4/checkpoint-292\n",
      "Configuration saved in ./model/run-4/checkpoint-292/config.json\n"
     ]
    },
    {
     "name": "stdout",
     "output_type": "stream",
     "text": [
      "{'eval_loss': 0.3406243622303009, 'eval_accuracy': 0.6216216216216216, 'eval_f1': 0.45098039215686275, 'eval_precision': 0.45098039215686275, 'eval_recall': 0.45098039215686275, 'eval_slot': 0.8659444206574424, 'eval_slot_accuracy': 0.7972972972972971, 'eval_runtime': 2.8148, 'eval_samples_per_second': 13.145, 'eval_steps_per_second': 6.75, 'epoch': 4.0}\n"
     ]
    },
    {
     "name": "stderr",
     "output_type": "stream",
     "text": [
      "Model weights saved in ./model/run-4/checkpoint-292/pytorch_model.bin\n",
      " 25%|██▌       | 365/1460 [01:43<03:36,  5.06it/s]***** Running Evaluation *****\n",
      "  Num examples = 37\n",
      "  Batch size = 2\n",
      "/home/ppibot/anaconda3/envs/myenv/lib/python3.9/site-packages/sklearn/metrics/_classification.py:1334: UndefinedMetricWarning: Precision and F-score are ill-defined and being set to 0.0 in labels with no predicted samples. Use `zero_division` parameter to control this behavior.\n",
      "  _warn_prf(average, modifier, msg_start, len(result))\n",
      "/home/ppibot/anaconda3/envs/myenv/lib/python3.9/site-packages/sklearn/metrics/_classification.py:1334: UndefinedMetricWarning: Recall and F-score are ill-defined and being set to 0.0 in labels with no true samples. Use `zero_division` parameter to control this behavior.\n",
      "  _warn_prf(average, modifier, msg_start, len(result))\n",
      "                                                  \n",
      " 25%|██▌       | 365/1460 [01:45<03:36,  5.06it/s]Saving model checkpoint to ./model/run-4/checkpoint-365\n",
      "Configuration saved in ./model/run-4/checkpoint-365/config.json\n"
     ]
    },
    {
     "name": "stdout",
     "output_type": "stream",
     "text": [
      "{'eval_loss': 0.34980159997940063, 'eval_accuracy': 0.6486486486486487, 'eval_f1': 0.48, 'eval_precision': 0.48, 'eval_recall': 0.48, 'eval_slot': 0.8618717124105055, 'eval_slot_accuracy': 0.7972972972972973, 'eval_runtime': 2.8575, 'eval_samples_per_second': 12.949, 'eval_steps_per_second': 6.649, 'epoch': 5.0}\n"
     ]
    },
    {
     "name": "stderr",
     "output_type": "stream",
     "text": [
      "Model weights saved in ./model/run-4/checkpoint-365/pytorch_model.bin\n",
      " 30%|███       | 438/1460 [02:05<03:21,  5.07it/s]***** Running Evaluation *****\n",
      "  Num examples = 37\n",
      "  Batch size = 2\n",
      "/home/ppibot/anaconda3/envs/myenv/lib/python3.9/site-packages/sklearn/metrics/_classification.py:1334: UndefinedMetricWarning: Precision and F-score are ill-defined and being set to 0.0 in labels with no predicted samples. Use `zero_division` parameter to control this behavior.\n",
      "  _warn_prf(average, modifier, msg_start, len(result))\n",
      "/home/ppibot/anaconda3/envs/myenv/lib/python3.9/site-packages/sklearn/metrics/_classification.py:1334: UndefinedMetricWarning: Recall and F-score are ill-defined and being set to 0.0 in labels with no true samples. Use `zero_division` parameter to control this behavior.\n",
      "  _warn_prf(average, modifier, msg_start, len(result))\n",
      "                                                  \n",
      " 30%|███       | 438/1460 [02:08<03:21,  5.07it/s]Saving model checkpoint to ./model/run-4/checkpoint-438\n",
      "Configuration saved in ./model/run-4/checkpoint-438/config.json\n"
     ]
    },
    {
     "name": "stdout",
     "output_type": "stream",
     "text": [
      "{'eval_loss': 0.39414530992507935, 'eval_accuracy': 0.6756756756756757, 'eval_f1': 0.5102040816326531, 'eval_precision': 0.5102040816326531, 'eval_recall': 0.5102040816326531, 'eval_slot': 0.8840754043056673, 'eval_slot_accuracy': 0.8198198198198198, 'eval_runtime': 2.8278, 'eval_samples_per_second': 13.084, 'eval_steps_per_second': 6.719, 'epoch': 6.0}\n"
     ]
    },
    {
     "name": "stderr",
     "output_type": "stream",
     "text": [
      "Model weights saved in ./model/run-4/checkpoint-438/pytorch_model.bin\n",
      " 34%|███▍      | 501/1460 [02:34<03:09,  5.05it/s]  "
     ]
    },
    {
     "name": "stdout",
     "output_type": "stream",
     "text": [
      "{'loss': 0.4377, 'learning_rate': 2.536659664784694e-05, 'epoch': 6.85}\n"
     ]
    },
    {
     "name": "stderr",
     "output_type": "stream",
     "text": [
      " 35%|███▌      | 511/1460 [02:36<03:07,  5.06it/s]***** Running Evaluation *****\n",
      "  Num examples = 37\n",
      "  Batch size = 2\n",
      "/home/ppibot/anaconda3/envs/myenv/lib/python3.9/site-packages/sklearn/metrics/_classification.py:1334: UndefinedMetricWarning: Precision and F-score are ill-defined and being set to 0.0 in labels with no predicted samples. Use `zero_division` parameter to control this behavior.\n",
      "  _warn_prf(average, modifier, msg_start, len(result))\n",
      "/home/ppibot/anaconda3/envs/myenv/lib/python3.9/site-packages/sklearn/metrics/_classification.py:1334: UndefinedMetricWarning: Recall and F-score are ill-defined and being set to 0.0 in labels with no true samples. Use `zero_division` parameter to control this behavior.\n",
      "  _warn_prf(average, modifier, msg_start, len(result))\n",
      "                                                  \n",
      " 35%|███▌      | 511/1460 [02:39<03:07,  5.06it/s]Saving model checkpoint to ./model/run-4/checkpoint-511\n",
      "Configuration saved in ./model/run-4/checkpoint-511/config.json\n"
     ]
    },
    {
     "name": "stdout",
     "output_type": "stream",
     "text": [
      "{'eval_loss': 0.3756009042263031, 'eval_accuracy': 0.6486486486486487, 'eval_f1': 0.48, 'eval_precision': 0.48, 'eval_recall': 0.48, 'eval_slot': 0.8876479423609641, 'eval_slot_accuracy': 0.8063063063063063, 'eval_runtime': 2.8146, 'eval_samples_per_second': 13.146, 'eval_steps_per_second': 6.751, 'epoch': 7.0}\n"
     ]
    },
    {
     "name": "stderr",
     "output_type": "stream",
     "text": [
      "Model weights saved in ./model/run-4/checkpoint-511/pytorch_model.bin\n",
      " 40%|████      | 584/1460 [02:59<02:52,  5.07it/s]***** Running Evaluation *****\n",
      "  Num examples = 37\n",
      "  Batch size = 2\n",
      "/home/ppibot/anaconda3/envs/myenv/lib/python3.9/site-packages/sklearn/metrics/_classification.py:1334: UndefinedMetricWarning: Precision and F-score are ill-defined and being set to 0.0 in labels with no predicted samples. Use `zero_division` parameter to control this behavior.\n",
      "  _warn_prf(average, modifier, msg_start, len(result))\n",
      "/home/ppibot/anaconda3/envs/myenv/lib/python3.9/site-packages/sklearn/metrics/_classification.py:1334: UndefinedMetricWarning: Recall and F-score are ill-defined and being set to 0.0 in labels with no true samples. Use `zero_division` parameter to control this behavior.\n",
      "  _warn_prf(average, modifier, msg_start, len(result))\n",
      "                                                  \n",
      " 40%|████      | 584/1460 [03:02<02:52,  5.07it/s]Saving model checkpoint to ./model/run-4/checkpoint-584\n",
      "Configuration saved in ./model/run-4/checkpoint-584/config.json\n"
     ]
    },
    {
     "name": "stdout",
     "output_type": "stream",
     "text": [
      "{'eval_loss': 0.39335259795188904, 'eval_accuracy': 0.6486486486486487, 'eval_f1': 0.48, 'eval_precision': 0.48, 'eval_recall': 0.48, 'eval_slot': 0.8876479423609641, 'eval_slot_accuracy': 0.8063063063063063, 'eval_runtime': 2.8669, 'eval_samples_per_second': 12.906, 'eval_steps_per_second': 6.627, 'epoch': 8.0}\n"
     ]
    },
    {
     "name": "stderr",
     "output_type": "stream",
     "text": [
      "Model weights saved in ./model/run-4/checkpoint-584/pytorch_model.bin\n",
      " 45%|████▌     | 657/1460 [03:19<02:39,  5.05it/s]***** Running Evaluation *****\n",
      "  Num examples = 37\n",
      "  Batch size = 2\n",
      "/home/ppibot/anaconda3/envs/myenv/lib/python3.9/site-packages/sklearn/metrics/_classification.py:1334: UndefinedMetricWarning: Precision and F-score are ill-defined and being set to 0.0 in labels with no predicted samples. Use `zero_division` parameter to control this behavior.\n",
      "  _warn_prf(average, modifier, msg_start, len(result))\n",
      "/home/ppibot/anaconda3/envs/myenv/lib/python3.9/site-packages/sklearn/metrics/_classification.py:1334: UndefinedMetricWarning: Recall and F-score are ill-defined and being set to 0.0 in labels with no true samples. Use `zero_division` parameter to control this behavior.\n",
      "  _warn_prf(average, modifier, msg_start, len(result))\n",
      "                                                  \n",
      " 45%|████▌     | 657/1460 [03:22<02:39,  5.05it/s]Saving model checkpoint to ./model/run-4/checkpoint-657\n",
      "Configuration saved in ./model/run-4/checkpoint-657/config.json\n"
     ]
    },
    {
     "name": "stdout",
     "output_type": "stream",
     "text": [
      "{'eval_loss': 0.43193182349205017, 'eval_accuracy': 0.6486486486486487, 'eval_f1': 0.48, 'eval_precision': 0.48, 'eval_recall': 0.48, 'eval_slot': 0.8776306478609112, 'eval_slot_accuracy': 0.8063063063063063, 'eval_runtime': 2.8601, 'eval_samples_per_second': 12.937, 'eval_steps_per_second': 6.643, 'epoch': 9.0}\n"
     ]
    },
    {
     "name": "stderr",
     "output_type": "stream",
     "text": [
      "Model weights saved in ./model/run-4/checkpoint-657/pytorch_model.bin\n",
      " 50%|█████     | 730/1460 [03:38<02:24,  5.05it/s]***** Running Evaluation *****\n",
      "  Num examples = 37\n",
      "  Batch size = 2\n",
      "/home/ppibot/anaconda3/envs/myenv/lib/python3.9/site-packages/sklearn/metrics/_classification.py:1334: UndefinedMetricWarning: Precision and F-score are ill-defined and being set to 0.0 in labels with no predicted samples. Use `zero_division` parameter to control this behavior.\n",
      "  _warn_prf(average, modifier, msg_start, len(result))\n",
      "/home/ppibot/anaconda3/envs/myenv/lib/python3.9/site-packages/sklearn/metrics/_classification.py:1334: UndefinedMetricWarning: Recall and F-score are ill-defined and being set to 0.0 in labels with no true samples. Use `zero_division` parameter to control this behavior.\n",
      "  _warn_prf(average, modifier, msg_start, len(result))\n",
      "                                                  \n",
      " 50%|█████     | 730/1460 [03:41<02:24,  5.05it/s]Saving model checkpoint to ./model/run-4/checkpoint-730\n",
      "Configuration saved in ./model/run-4/checkpoint-730/config.json\n"
     ]
    },
    {
     "name": "stdout",
     "output_type": "stream",
     "text": [
      "{'eval_loss': 0.4136921763420105, 'eval_accuracy': 0.6486486486486487, 'eval_f1': 0.48, 'eval_precision': 0.48, 'eval_recall': 0.48, 'eval_slot': 0.8586111746672092, 'eval_slot_accuracy': 0.7972972972972973, 'eval_runtime': 2.8409, 'eval_samples_per_second': 13.024, 'eval_steps_per_second': 6.688, 'epoch': 10.0}\n"
     ]
    },
    {
     "name": "stderr",
     "output_type": "stream",
     "text": [
      "Model weights saved in ./model/run-4/checkpoint-730/pytorch_model.bin\n",
      " 55%|█████▌    | 803/1460 [03:58<02:09,  5.06it/s]***** Running Evaluation *****\n",
      "  Num examples = 37\n",
      "  Batch size = 2\n",
      "/home/ppibot/anaconda3/envs/myenv/lib/python3.9/site-packages/sklearn/metrics/_classification.py:1334: UndefinedMetricWarning: Precision and F-score are ill-defined and being set to 0.0 in labels with no predicted samples. Use `zero_division` parameter to control this behavior.\n",
      "  _warn_prf(average, modifier, msg_start, len(result))\n",
      "/home/ppibot/anaconda3/envs/myenv/lib/python3.9/site-packages/sklearn/metrics/_classification.py:1334: UndefinedMetricWarning: Recall and F-score are ill-defined and being set to 0.0 in labels with no true samples. Use `zero_division` parameter to control this behavior.\n",
      "  _warn_prf(average, modifier, msg_start, len(result))\n",
      "                                                  \n",
      " 55%|█████▌    | 803/1460 [04:00<02:09,  5.06it/s]Saving model checkpoint to ./model/run-4/checkpoint-803\n",
      "Configuration saved in ./model/run-4/checkpoint-803/config.json\n"
     ]
    },
    {
     "name": "stdout",
     "output_type": "stream",
     "text": [
      "{'eval_loss': 0.4271605610847473, 'eval_accuracy': 0.6486486486486487, 'eval_f1': 0.48, 'eval_precision': 0.48, 'eval_recall': 0.48, 'eval_slot': 0.8721023923326554, 'eval_slot_accuracy': 0.8063063063063063, 'eval_runtime': 2.8068, 'eval_samples_per_second': 13.182, 'eval_steps_per_second': 6.769, 'epoch': 11.0}\n"
     ]
    },
    {
     "name": "stderr",
     "output_type": "stream",
     "text": [
      "Model weights saved in ./model/run-4/checkpoint-803/pytorch_model.bin\n",
      " 60%|██████    | 876/1460 [04:17<01:55,  5.05it/s]***** Running Evaluation *****\n",
      "  Num examples = 37\n",
      "  Batch size = 2\n",
      "/home/ppibot/anaconda3/envs/myenv/lib/python3.9/site-packages/sklearn/metrics/_classification.py:1334: UndefinedMetricWarning: Precision and F-score are ill-defined and being set to 0.0 in labels with no predicted samples. Use `zero_division` parameter to control this behavior.\n",
      "  _warn_prf(average, modifier, msg_start, len(result))\n",
      "/home/ppibot/anaconda3/envs/myenv/lib/python3.9/site-packages/sklearn/metrics/_classification.py:1334: UndefinedMetricWarning: Recall and F-score are ill-defined and being set to 0.0 in labels with no true samples. Use `zero_division` parameter to control this behavior.\n",
      "  _warn_prf(average, modifier, msg_start, len(result))\n",
      "                                                  \n",
      " 60%|██████    | 876/1460 [04:20<01:55,  5.05it/s]Saving model checkpoint to ./model/run-4/checkpoint-876\n",
      "Configuration saved in ./model/run-4/checkpoint-876/config.json\n"
     ]
    },
    {
     "name": "stdout",
     "output_type": "stream",
     "text": [
      "{'eval_loss': 0.4027736783027649, 'eval_accuracy': 0.6486486486486487, 'eval_f1': 0.48, 'eval_precision': 0.48, 'eval_recall': 0.48, 'eval_slot': 0.8879599426729644, 'eval_slot_accuracy': 0.8063063063063063, 'eval_runtime': 2.8077, 'eval_samples_per_second': 13.178, 'eval_steps_per_second': 6.767, 'epoch': 12.0}\n"
     ]
    },
    {
     "name": "stderr",
     "output_type": "stream",
     "text": [
      "Model weights saved in ./model/run-4/checkpoint-876/pytorch_model.bin\n",
      " 65%|██████▌   | 949/1460 [04:37<01:41,  5.06it/s]***** Running Evaluation *****\n",
      "  Num examples = 37\n",
      "  Batch size = 2\n",
      "/home/ppibot/anaconda3/envs/myenv/lib/python3.9/site-packages/sklearn/metrics/_classification.py:1334: UndefinedMetricWarning: Precision and F-score are ill-defined and being set to 0.0 in labels with no predicted samples. Use `zero_division` parameter to control this behavior.\n",
      "  _warn_prf(average, modifier, msg_start, len(result))\n",
      "/home/ppibot/anaconda3/envs/myenv/lib/python3.9/site-packages/sklearn/metrics/_classification.py:1334: UndefinedMetricWarning: Recall and F-score are ill-defined and being set to 0.0 in labels with no true samples. Use `zero_division` parameter to control this behavior.\n",
      "  _warn_prf(average, modifier, msg_start, len(result))\n",
      "                                                  \n",
      " 65%|██████▌   | 949/1460 [04:40<01:41,  5.06it/s]Saving model checkpoint to ./model/run-4/checkpoint-949\n",
      "Configuration saved in ./model/run-4/checkpoint-949/config.json\n"
     ]
    },
    {
     "name": "stdout",
     "output_type": "stream",
     "text": [
      "{'eval_loss': 0.4032089412212372, 'eval_accuracy': 0.6486486486486487, 'eval_f1': 0.48, 'eval_precision': 0.48, 'eval_recall': 0.48, 'eval_slot': 0.8721023923326554, 'eval_slot_accuracy': 0.8063063063063063, 'eval_runtime': 2.844, 'eval_samples_per_second': 13.01, 'eval_steps_per_second': 6.681, 'epoch': 13.0}\n"
     ]
    },
    {
     "name": "stderr",
     "output_type": "stream",
     "text": [
      "Model weights saved in ./model/run-4/checkpoint-949/pytorch_model.bin\n",
      " 69%|██████▊   | 1001/1460 [04:52<01:31,  5.02it/s]"
     ]
    },
    {
     "name": "stdout",
     "output_type": "stream",
     "text": [
      "{'loss': 0.0617, 'learning_rate': 1.2154827560426657e-05, 'epoch': 13.7}\n"
     ]
    },
    {
     "name": "stderr",
     "output_type": "stream",
     "text": [
      " 70%|███████   | 1022/1460 [04:56<01:26,  5.05it/s]***** Running Evaluation *****\n",
      "  Num examples = 37\n",
      "  Batch size = 2\n",
      "/home/ppibot/anaconda3/envs/myenv/lib/python3.9/site-packages/sklearn/metrics/_classification.py:1334: UndefinedMetricWarning: Precision and F-score are ill-defined and being set to 0.0 in labels with no predicted samples. Use `zero_division` parameter to control this behavior.\n",
      "  _warn_prf(average, modifier, msg_start, len(result))\n",
      "/home/ppibot/anaconda3/envs/myenv/lib/python3.9/site-packages/sklearn/metrics/_classification.py:1334: UndefinedMetricWarning: Recall and F-score are ill-defined and being set to 0.0 in labels with no true samples. Use `zero_division` parameter to control this behavior.\n",
      "  _warn_prf(average, modifier, msg_start, len(result))\n",
      "                                                   \n",
      " 70%|███████   | 1022/1460 [04:59<01:26,  5.05it/s]Saving model checkpoint to ./model/run-4/checkpoint-1022\n",
      "Configuration saved in ./model/run-4/checkpoint-1022/config.json\n"
     ]
    },
    {
     "name": "stdout",
     "output_type": "stream",
     "text": [
      "{'eval_loss': 0.3961447775363922, 'eval_accuracy': 0.6756756756756757, 'eval_f1': 0.5102040816326531, 'eval_precision': 0.5102040816326531, 'eval_recall': 0.5102040816326531, 'eval_slot': 0.8811114013416645, 'eval_slot_accuracy': 0.8198198198198198, 'eval_runtime': 2.8344, 'eval_samples_per_second': 13.054, 'eval_steps_per_second': 6.703, 'epoch': 14.0}\n"
     ]
    },
    {
     "name": "stderr",
     "output_type": "stream",
     "text": [
      "Model weights saved in ./model/run-4/checkpoint-1022/pytorch_model.bin\n",
      " 75%|███████▌  | 1095/1460 [05:16<01:12,  5.05it/s]***** Running Evaluation *****\n",
      "  Num examples = 37\n",
      "  Batch size = 2\n",
      "/home/ppibot/anaconda3/envs/myenv/lib/python3.9/site-packages/sklearn/metrics/_classification.py:1334: UndefinedMetricWarning: Precision and F-score are ill-defined and being set to 0.0 in labels with no predicted samples. Use `zero_division` parameter to control this behavior.\n",
      "  _warn_prf(average, modifier, msg_start, len(result))\n",
      "/home/ppibot/anaconda3/envs/myenv/lib/python3.9/site-packages/sklearn/metrics/_classification.py:1334: UndefinedMetricWarning: Recall and F-score are ill-defined and being set to 0.0 in labels with no true samples. Use `zero_division` parameter to control this behavior.\n",
      "  _warn_prf(average, modifier, msg_start, len(result))\n",
      "                                                   \n",
      " 75%|███████▌  | 1095/1460 [05:19<01:12,  5.05it/s]Saving model checkpoint to ./model/run-4/checkpoint-1095\n",
      "Configuration saved in ./model/run-4/checkpoint-1095/config.json\n"
     ]
    },
    {
     "name": "stdout",
     "output_type": "stream",
     "text": [
      "{'eval_loss': 0.420714795589447, 'eval_accuracy': 0.6486486486486487, 'eval_f1': 0.48, 'eval_precision': 0.48, 'eval_recall': 0.48, 'eval_slot': 0.8721023923326554, 'eval_slot_accuracy': 0.8063063063063063, 'eval_runtime': 2.821, 'eval_samples_per_second': 13.116, 'eval_steps_per_second': 6.735, 'epoch': 15.0}\n"
     ]
    },
    {
     "name": "stderr",
     "output_type": "stream",
     "text": [
      "Model weights saved in ./model/run-4/checkpoint-1095/pytorch_model.bin\n",
      " 80%|████████  | 1168/1460 [05:35<00:57,  5.05it/s]***** Running Evaluation *****\n",
      "  Num examples = 37\n",
      "  Batch size = 2\n",
      "/home/ppibot/anaconda3/envs/myenv/lib/python3.9/site-packages/sklearn/metrics/_classification.py:1334: UndefinedMetricWarning: Precision and F-score are ill-defined and being set to 0.0 in labels with no predicted samples. Use `zero_division` parameter to control this behavior.\n",
      "  _warn_prf(average, modifier, msg_start, len(result))\n",
      "/home/ppibot/anaconda3/envs/myenv/lib/python3.9/site-packages/sklearn/metrics/_classification.py:1334: UndefinedMetricWarning: Recall and F-score are ill-defined and being set to 0.0 in labels with no true samples. Use `zero_division` parameter to control this behavior.\n",
      "  _warn_prf(average, modifier, msg_start, len(result))\n",
      "                                                   \n",
      " 80%|████████  | 1168/1460 [05:38<00:57,  5.05it/s]Saving model checkpoint to ./model/run-4/checkpoint-1168\n",
      "Configuration saved in ./model/run-4/checkpoint-1168/config.json\n"
     ]
    },
    {
     "name": "stdout",
     "output_type": "stream",
     "text": [
      "{'eval_loss': 0.4322138726711273, 'eval_accuracy': 0.6486486486486487, 'eval_f1': 0.48, 'eval_precision': 0.48, 'eval_recall': 0.48, 'eval_slot': 0.8721023923326554, 'eval_slot_accuracy': 0.8063063063063063, 'eval_runtime': 2.9106, 'eval_samples_per_second': 12.712, 'eval_steps_per_second': 6.528, 'epoch': 16.0}\n"
     ]
    },
    {
     "name": "stderr",
     "output_type": "stream",
     "text": [
      "Model weights saved in ./model/run-4/checkpoint-1168/pytorch_model.bin\n",
      " 85%|████████▌ | 1241/1460 [05:55<00:43,  5.04it/s]***** Running Evaluation *****\n",
      "  Num examples = 37\n",
      "  Batch size = 2\n",
      "/home/ppibot/anaconda3/envs/myenv/lib/python3.9/site-packages/sklearn/metrics/_classification.py:1334: UndefinedMetricWarning: Precision and F-score are ill-defined and being set to 0.0 in labels with no predicted samples. Use `zero_division` parameter to control this behavior.\n",
      "  _warn_prf(average, modifier, msg_start, len(result))\n",
      "/home/ppibot/anaconda3/envs/myenv/lib/python3.9/site-packages/sklearn/metrics/_classification.py:1334: UndefinedMetricWarning: Recall and F-score are ill-defined and being set to 0.0 in labels with no true samples. Use `zero_division` parameter to control this behavior.\n",
      "  _warn_prf(average, modifier, msg_start, len(result))\n",
      "                                                   \n",
      " 85%|████████▌ | 1241/1460 [05:58<00:43,  5.04it/s]Saving model checkpoint to ./model/run-4/checkpoint-1241\n",
      "Configuration saved in ./model/run-4/checkpoint-1241/config.json\n"
     ]
    },
    {
     "name": "stdout",
     "output_type": "stream",
     "text": [
      "{'eval_loss': 0.4249386489391327, 'eval_accuracy': 0.6486486486486487, 'eval_f1': 0.48, 'eval_precision': 0.48, 'eval_recall': 0.48, 'eval_slot': 0.8721023923326554, 'eval_slot_accuracy': 0.8063063063063063, 'eval_runtime': 2.9008, 'eval_samples_per_second': 12.755, 'eval_steps_per_second': 6.55, 'epoch': 17.0}\n"
     ]
    },
    {
     "name": "stderr",
     "output_type": "stream",
     "text": [
      "Model weights saved in ./model/run-4/checkpoint-1241/pytorch_model.bin\n",
      " 90%|█████████ | 1314/1460 [06:15<00:28,  5.05it/s]***** Running Evaluation *****\n",
      "  Num examples = 37\n",
      "  Batch size = 2\n",
      "/home/ppibot/anaconda3/envs/myenv/lib/python3.9/site-packages/sklearn/metrics/_classification.py:1334: UndefinedMetricWarning: Precision and F-score are ill-defined and being set to 0.0 in labels with no predicted samples. Use `zero_division` parameter to control this behavior.\n",
      "  _warn_prf(average, modifier, msg_start, len(result))\n",
      "/home/ppibot/anaconda3/envs/myenv/lib/python3.9/site-packages/sklearn/metrics/_classification.py:1334: UndefinedMetricWarning: Recall and F-score are ill-defined and being set to 0.0 in labels with no true samples. Use `zero_division` parameter to control this behavior.\n",
      "  _warn_prf(average, modifier, msg_start, len(result))\n",
      "                                                   \n",
      " 90%|█████████ | 1314/1460 [06:18<00:28,  5.05it/s]Saving model checkpoint to ./model/run-4/checkpoint-1314\n",
      "Configuration saved in ./model/run-4/checkpoint-1314/config.json\n"
     ]
    },
    {
     "name": "stdout",
     "output_type": "stream",
     "text": [
      "{'eval_loss': 0.433338463306427, 'eval_accuracy': 0.6486486486486487, 'eval_f1': 0.48, 'eval_precision': 0.48, 'eval_recall': 0.48, 'eval_slot': 0.8721023923326554, 'eval_slot_accuracy': 0.8063063063063063, 'eval_runtime': 2.8525, 'eval_samples_per_second': 12.971, 'eval_steps_per_second': 6.661, 'epoch': 18.0}\n"
     ]
    },
    {
     "name": "stderr",
     "output_type": "stream",
     "text": [
      "Model weights saved in ./model/run-4/checkpoint-1314/pytorch_model.bin\n",
      " 95%|█████████▌| 1387/1460 [06:37<00:14,  5.04it/s]***** Running Evaluation *****\n",
      "  Num examples = 37\n",
      "  Batch size = 2\n",
      "/home/ppibot/anaconda3/envs/myenv/lib/python3.9/site-packages/sklearn/metrics/_classification.py:1334: UndefinedMetricWarning: Precision and F-score are ill-defined and being set to 0.0 in labels with no predicted samples. Use `zero_division` parameter to control this behavior.\n",
      "  _warn_prf(average, modifier, msg_start, len(result))\n",
      "/home/ppibot/anaconda3/envs/myenv/lib/python3.9/site-packages/sklearn/metrics/_classification.py:1334: UndefinedMetricWarning: Recall and F-score are ill-defined and being set to 0.0 in labels with no true samples. Use `zero_division` parameter to control this behavior.\n",
      "  _warn_prf(average, modifier, msg_start, len(result))\n",
      "                                                   \n",
      " 95%|█████████▌| 1387/1460 [06:40<00:14,  5.04it/s]Saving model checkpoint to ./model/run-4/checkpoint-1387\n",
      "Configuration saved in ./model/run-4/checkpoint-1387/config.json\n"
     ]
    },
    {
     "name": "stdout",
     "output_type": "stream",
     "text": [
      "{'eval_loss': 0.4340176582336426, 'eval_accuracy': 0.6486486486486487, 'eval_f1': 0.48, 'eval_precision': 0.48, 'eval_recall': 0.48, 'eval_slot': 0.8721023923326554, 'eval_slot_accuracy': 0.8063063063063063, 'eval_runtime': 2.8257, 'eval_samples_per_second': 13.094, 'eval_steps_per_second': 6.724, 'epoch': 19.0}\n"
     ]
    },
    {
     "name": "stderr",
     "output_type": "stream",
     "text": [
      "Model weights saved in ./model/run-4/checkpoint-1387/pytorch_model.bin\n",
      "100%|██████████| 1460/1460 [07:00<00:00,  5.05it/s]***** Running Evaluation *****\n",
      "  Num examples = 37\n",
      "  Batch size = 2\n",
      "/home/ppibot/anaconda3/envs/myenv/lib/python3.9/site-packages/sklearn/metrics/_classification.py:1334: UndefinedMetricWarning: Precision and F-score are ill-defined and being set to 0.0 in labels with no predicted samples. Use `zero_division` parameter to control this behavior.\n",
      "  _warn_prf(average, modifier, msg_start, len(result))\n",
      "/home/ppibot/anaconda3/envs/myenv/lib/python3.9/site-packages/sklearn/metrics/_classification.py:1334: UndefinedMetricWarning: Recall and F-score are ill-defined and being set to 0.0 in labels with no true samples. Use `zero_division` parameter to control this behavior.\n",
      "  _warn_prf(average, modifier, msg_start, len(result))\n",
      "                                                   \n",
      "100%|██████████| 1460/1460 [07:02<00:00,  5.05it/s]Saving model checkpoint to ./model/run-4/checkpoint-1460\n",
      "Configuration saved in ./model/run-4/checkpoint-1460/config.json\n"
     ]
    },
    {
     "name": "stdout",
     "output_type": "stream",
     "text": [
      "{'eval_loss': 0.43093031644821167, 'eval_accuracy': 0.6486486486486487, 'eval_f1': 0.48, 'eval_precision': 0.48, 'eval_recall': 0.48, 'eval_slot': 0.8721023923326554, 'eval_slot_accuracy': 0.8063063063063063, 'eval_runtime': 2.819, 'eval_samples_per_second': 13.125, 'eval_steps_per_second': 6.74, 'epoch': 20.0}\n"
     ]
    },
    {
     "name": "stderr",
     "output_type": "stream",
     "text": [
      "Model weights saved in ./model/run-4/checkpoint-1460/pytorch_model.bin\n",
      "\n",
      "\n",
      "Training completed. Do not forget to share your model on huggingface.co/models =)\n",
      "\n",
      "\n",
      "Loading best model from ./model/run-4/checkpoint-438 (score: 0.8198198198198198).\n",
      "100%|██████████| 1460/1460 [07:35<00:00,  3.21it/s]\n",
      "\u001b[32m[I 2023-06-11 18:57:18,445]\u001b[0m Trial 4 finished with value: 0.8063063063063063 and parameters: {'learning_rate': 3.857836573526722e-05, 'num_train_epochs': 20}. Best is trial 3 with value: 0.8333333333333333.\u001b[0m\n",
      "Trial: {'learning_rate': 6.230996593251717e-05, 'num_train_epochs': 19}\n"
     ]
    },
    {
     "name": "stdout",
     "output_type": "stream",
     "text": [
      "{'train_runtime': 455.1042, 'train_samples_per_second': 6.416, 'train_steps_per_second': 3.208, 'train_loss': 0.17992307323299042, 'epoch': 20.0}\n"
     ]
    },
    {
     "name": "stderr",
     "output_type": "stream",
     "text": [
      "loading configuration file config.json from cache at /home/ppibot/.cache/huggingface/hub/models--google--flan-t5-base/snapshots/c782cba52f8ea6a704240578055cf1c3fc2f2ca9/config.json\n",
      "Model config T5Config {\n",
      "  \"_name_or_path\": \"google/flan-t5-base\",\n",
      "  \"architectures\": [\n",
      "    \"T5ForConditionalGeneration\"\n",
      "  ],\n",
      "  \"d_ff\": 2048,\n",
      "  \"d_kv\": 64,\n",
      "  \"d_model\": 768,\n",
      "  \"decoder_start_token_id\": 0,\n",
      "  \"dense_act_fn\": \"gelu_new\",\n",
      "  \"dropout_rate\": 0.1,\n",
      "  \"eos_token_id\": 1,\n",
      "  \"feed_forward_proj\": \"gated-gelu\",\n",
      "  \"initializer_factor\": 1.0,\n",
      "  \"is_encoder_decoder\": true,\n",
      "  \"is_gated_act\": true,\n",
      "  \"layer_norm_epsilon\": 1e-06,\n",
      "  \"model_type\": \"t5\",\n",
      "  \"n_positions\": 512,\n",
      "  \"num_decoder_layers\": 12,\n",
      "  \"num_heads\": 12,\n",
      "  \"num_layers\": 12,\n",
      "  \"output_past\": true,\n",
      "  \"pad_token_id\": 0,\n",
      "  \"relative_attention_max_distance\": 128,\n",
      "  \"relative_attention_num_buckets\": 32,\n",
      "  \"task_specific_params\": {\n",
      "    \"summarization\": {\n",
      "      \"early_stopping\": true,\n",
      "      \"length_penalty\": 2.0,\n",
      "      \"max_length\": 200,\n",
      "      \"min_length\": 30,\n",
      "      \"no_repeat_ngram_size\": 3,\n",
      "      \"num_beams\": 4,\n",
      "      \"prefix\": \"summarize: \"\n",
      "    },\n",
      "    \"translation_en_to_de\": {\n",
      "      \"early_stopping\": true,\n",
      "      \"max_length\": 300,\n",
      "      \"num_beams\": 4,\n",
      "      \"prefix\": \"translate English to German: \"\n",
      "    },\n",
      "    \"translation_en_to_fr\": {\n",
      "      \"early_stopping\": true,\n",
      "      \"max_length\": 300,\n",
      "      \"num_beams\": 4,\n",
      "      \"prefix\": \"translate English to French: \"\n",
      "    },\n",
      "    \"translation_en_to_ro\": {\n",
      "      \"early_stopping\": true,\n",
      "      \"max_length\": 300,\n",
      "      \"num_beams\": 4,\n",
      "      \"prefix\": \"translate English to Romanian: \"\n",
      "    }\n",
      "  },\n",
      "  \"tie_word_embeddings\": false,\n",
      "  \"transformers_version\": \"4.24.0\",\n",
      "  \"use_cache\": true,\n",
      "  \"vocab_size\": 32128\n",
      "}\n",
      "\n",
      "loading weights file pytorch_model.bin from cache at /home/ppibot/.cache/huggingface/hub/models--google--flan-t5-base/snapshots/c782cba52f8ea6a704240578055cf1c3fc2f2ca9/pytorch_model.bin\n",
      "All model checkpoint weights were used when initializing T5ForConditionalGeneration.\n",
      "\n",
      "All the weights of T5ForConditionalGeneration were initialized from the model checkpoint at google/flan-t5-base.\n",
      "If your task is similar to the task the model of the checkpoint was trained on, you can already use T5ForConditionalGeneration for predictions without further training.\n",
      "/home/ppibot/anaconda3/envs/myenv/lib/python3.9/site-packages/transformers/optimization.py:306: FutureWarning: This implementation of AdamW is deprecated and will be removed in a future version. Use the PyTorch implementation torch.optim.AdamW instead, or set `no_deprecation_warning=True` to disable this warning\n",
      "  warnings.warn(\n",
      "***** Running training *****\n",
      "  Num examples = 146\n",
      "  Num Epochs = 19\n",
      "  Instantaneous batch size per device = 2\n",
      "  Total train batch size (w. parallel, distributed & accumulation) = 2\n",
      "  Gradient Accumulation steps = 1\n",
      "  Total optimization steps = 1387\n",
      "  Number of trainable parameters = 247577856\n",
      "  5%|▌         | 73/1387 [00:14<04:18,  5.08it/s]***** Running Evaluation *****\n",
      "  Num examples = 37\n",
      "  Batch size = 2\n",
      "/home/ppibot/anaconda3/envs/myenv/lib/python3.9/site-packages/sklearn/metrics/_classification.py:1334: UndefinedMetricWarning: Precision and F-score are ill-defined and being set to 0.0 in labels with no predicted samples. Use `zero_division` parameter to control this behavior.\n",
      "  _warn_prf(average, modifier, msg_start, len(result))\n",
      "/home/ppibot/anaconda3/envs/myenv/lib/python3.9/site-packages/sklearn/metrics/_classification.py:1334: UndefinedMetricWarning: Recall and F-score are ill-defined and being set to 0.0 in labels with no true samples. Use `zero_division` parameter to control this behavior.\n",
      "  _warn_prf(average, modifier, msg_start, len(result))\n",
      "                                                 \n",
      "  5%|▌         | 73/1387 [00:17<04:18,  5.08it/s]Saving model checkpoint to ./model/run-5/checkpoint-73\n",
      "Configuration saved in ./model/run-5/checkpoint-73/config.json\n"
     ]
    },
    {
     "name": "stdout",
     "output_type": "stream",
     "text": [
      "{'eval_loss': 0.4604325592517853, 'eval_accuracy': 0.24324324324324326, 'eval_f1': 0.13846153846153847, 'eval_precision': 0.13846153846153847, 'eval_recall': 0.13846153846153847, 'eval_slot': 0.6462793980179106, 'eval_slot_accuracy': 0.47297297297297297, 'eval_runtime': 2.8086, 'eval_samples_per_second': 13.174, 'eval_steps_per_second': 6.765, 'epoch': 1.0}\n"
     ]
    },
    {
     "name": "stderr",
     "output_type": "stream",
     "text": [
      "Model weights saved in ./model/run-5/checkpoint-73/pytorch_model.bin\n",
      " 11%|█         | 146/1387 [00:33<04:05,  5.05it/s]***** Running Evaluation *****\n",
      "  Num examples = 37\n",
      "  Batch size = 2\n",
      "/home/ppibot/anaconda3/envs/myenv/lib/python3.9/site-packages/sklearn/metrics/_classification.py:1334: UndefinedMetricWarning: Precision and F-score are ill-defined and being set to 0.0 in labels with no predicted samples. Use `zero_division` parameter to control this behavior.\n",
      "  _warn_prf(average, modifier, msg_start, len(result))\n",
      "/home/ppibot/anaconda3/envs/myenv/lib/python3.9/site-packages/sklearn/metrics/_classification.py:1334: UndefinedMetricWarning: Recall and F-score are ill-defined and being set to 0.0 in labels with no true samples. Use `zero_division` parameter to control this behavior.\n",
      "  _warn_prf(average, modifier, msg_start, len(result))\n",
      "                                                  \n",
      " 11%|█         | 146/1387 [00:36<04:05,  5.05it/s]Saving model checkpoint to ./model/run-5/checkpoint-146\n",
      "Configuration saved in ./model/run-5/checkpoint-146/config.json\n"
     ]
    },
    {
     "name": "stdout",
     "output_type": "stream",
     "text": [
      "{'eval_loss': 0.40287554264068604, 'eval_accuracy': 0.4594594594594595, 'eval_f1': 0.2982456140350877, 'eval_precision': 0.2982456140350877, 'eval_recall': 0.2982456140350877, 'eval_slot': 0.7354227121945575, 'eval_slot_accuracy': 0.6846846846846847, 'eval_runtime': 2.7895, 'eval_samples_per_second': 13.264, 'eval_steps_per_second': 6.811, 'epoch': 2.0}\n"
     ]
    },
    {
     "name": "stderr",
     "output_type": "stream",
     "text": [
      "Model weights saved in ./model/run-5/checkpoint-146/pytorch_model.bin\n",
      " 16%|█▌        | 219/1387 [00:53<03:51,  5.05it/s]***** Running Evaluation *****\n",
      "  Num examples = 37\n",
      "  Batch size = 2\n",
      "/home/ppibot/anaconda3/envs/myenv/lib/python3.9/site-packages/sklearn/metrics/_classification.py:1334: UndefinedMetricWarning: Precision and F-score are ill-defined and being set to 0.0 in labels with no predicted samples. Use `zero_division` parameter to control this behavior.\n",
      "  _warn_prf(average, modifier, msg_start, len(result))\n",
      "/home/ppibot/anaconda3/envs/myenv/lib/python3.9/site-packages/sklearn/metrics/_classification.py:1334: UndefinedMetricWarning: Recall and F-score are ill-defined and being set to 0.0 in labels with no true samples. Use `zero_division` parameter to control this behavior.\n",
      "  _warn_prf(average, modifier, msg_start, len(result))\n",
      "                                                  \n",
      " 16%|█▌        | 219/1387 [00:56<03:51,  5.05it/s]Saving model checkpoint to ./model/run-5/checkpoint-219\n",
      "Configuration saved in ./model/run-5/checkpoint-219/config.json\n"
     ]
    },
    {
     "name": "stdout",
     "output_type": "stream",
     "text": [
      "{'eval_loss': 0.30391499400138855, 'eval_accuracy': 0.6216216216216216, 'eval_f1': 0.45098039215686275, 'eval_precision': 0.45098039215686275, 'eval_recall': 0.45098039215686275, 'eval_slot': 0.8651254198384416, 'eval_slot_accuracy': 0.7882882882882882, 'eval_runtime': 2.8045, 'eval_samples_per_second': 13.193, 'eval_steps_per_second': 6.775, 'epoch': 3.0}\n"
     ]
    },
    {
     "name": "stderr",
     "output_type": "stream",
     "text": [
      "Model weights saved in ./model/run-5/checkpoint-219/pytorch_model.bin\n",
      " 21%|██        | 292/1387 [01:14<03:36,  5.05it/s]***** Running Evaluation *****\n",
      "  Num examples = 37\n",
      "  Batch size = 2\n",
      "/home/ppibot/anaconda3/envs/myenv/lib/python3.9/site-packages/sklearn/metrics/_classification.py:1334: UndefinedMetricWarning: Precision and F-score are ill-defined and being set to 0.0 in labels with no predicted samples. Use `zero_division` parameter to control this behavior.\n",
      "  _warn_prf(average, modifier, msg_start, len(result))\n",
      "/home/ppibot/anaconda3/envs/myenv/lib/python3.9/site-packages/sklearn/metrics/_classification.py:1334: UndefinedMetricWarning: Recall and F-score are ill-defined and being set to 0.0 in labels with no true samples. Use `zero_division` parameter to control this behavior.\n",
      "  _warn_prf(average, modifier, msg_start, len(result))\n",
      "                                                  \n",
      " 21%|██        | 292/1387 [01:17<03:36,  5.05it/s]Saving model checkpoint to ./model/run-5/checkpoint-292\n",
      "Configuration saved in ./model/run-5/checkpoint-292/config.json\n"
     ]
    },
    {
     "name": "stdout",
     "output_type": "stream",
     "text": [
      "{'eval_loss': 0.3298312723636627, 'eval_accuracy': 0.6486486486486487, 'eval_f1': 0.48, 'eval_precision': 0.48, 'eval_recall': 0.48, 'eval_slot': 0.8873261920392137, 'eval_slot_accuracy': 0.7972972972972973, 'eval_runtime': 2.8386, 'eval_samples_per_second': 13.035, 'eval_steps_per_second': 6.694, 'epoch': 4.0}\n"
     ]
    },
    {
     "name": "stderr",
     "output_type": "stream",
     "text": [
      "Model weights saved in ./model/run-5/checkpoint-292/pytorch_model.bin\n",
      " 26%|██▋       | 365/1387 [01:34<03:22,  5.06it/s]***** Running Evaluation *****\n",
      "  Num examples = 37\n",
      "  Batch size = 2\n",
      "/home/ppibot/anaconda3/envs/myenv/lib/python3.9/site-packages/sklearn/metrics/_classification.py:1334: UndefinedMetricWarning: Precision and F-score are ill-defined and being set to 0.0 in labels with no predicted samples. Use `zero_division` parameter to control this behavior.\n",
      "  _warn_prf(average, modifier, msg_start, len(result))\n",
      "/home/ppibot/anaconda3/envs/myenv/lib/python3.9/site-packages/sklearn/metrics/_classification.py:1334: UndefinedMetricWarning: Recall and F-score are ill-defined and being set to 0.0 in labels with no true samples. Use `zero_division` parameter to control this behavior.\n",
      "  _warn_prf(average, modifier, msg_start, len(result))\n",
      "                                                  \n",
      " 26%|██▋       | 365/1387 [01:36<03:22,  5.06it/s]Saving model checkpoint to ./model/run-5/checkpoint-365\n",
      "Configuration saved in ./model/run-5/checkpoint-365/config.json\n"
     ]
    },
    {
     "name": "stdout",
     "output_type": "stream",
     "text": [
      "{'eval_loss': 0.36001068353652954, 'eval_accuracy': 0.6486486486486487, 'eval_f1': 0.48, 'eval_precision': 0.48, 'eval_recall': 0.48, 'eval_slot': 0.8492901653461997, 'eval_slot_accuracy': 0.7972972972972973, 'eval_runtime': 2.7928, 'eval_samples_per_second': 13.249, 'eval_steps_per_second': 6.803, 'epoch': 5.0}\n"
     ]
    },
    {
     "name": "stderr",
     "output_type": "stream",
     "text": [
      "Model weights saved in ./model/run-5/checkpoint-365/pytorch_model.bin\n",
      " 32%|███▏      | 438/1387 [01:56<03:07,  5.05it/s]***** Running Evaluation *****\n",
      "  Num examples = 37\n",
      "  Batch size = 2\n",
      "/home/ppibot/anaconda3/envs/myenv/lib/python3.9/site-packages/sklearn/metrics/_classification.py:1334: UndefinedMetricWarning: Precision and F-score are ill-defined and being set to 0.0 in labels with no predicted samples. Use `zero_division` parameter to control this behavior.\n",
      "  _warn_prf(average, modifier, msg_start, len(result))\n",
      "/home/ppibot/anaconda3/envs/myenv/lib/python3.9/site-packages/sklearn/metrics/_classification.py:1334: UndefinedMetricWarning: Recall and F-score are ill-defined and being set to 0.0 in labels with no true samples. Use `zero_division` parameter to control this behavior.\n",
      "  _warn_prf(average, modifier, msg_start, len(result))\n",
      "                                                  \n",
      " 32%|███▏      | 438/1387 [01:59<03:07,  5.05it/s]Saving model checkpoint to ./model/run-5/checkpoint-438\n",
      "Configuration saved in ./model/run-5/checkpoint-438/config.json\n"
     ]
    },
    {
     "name": "stdout",
     "output_type": "stream",
     "text": [
      "{'eval_loss': 0.35629773139953613, 'eval_accuracy': 0.6756756756756757, 'eval_f1': 0.5102040816326531, 'eval_precision': 0.5102040816326531, 'eval_recall': 0.5102040816326531, 'eval_slot': 0.881501401731665, 'eval_slot_accuracy': 0.8108108108108109, 'eval_runtime': 2.8787, 'eval_samples_per_second': 12.853, 'eval_steps_per_second': 6.6, 'epoch': 6.0}\n"
     ]
    },
    {
     "name": "stderr",
     "output_type": "stream",
     "text": [
      "Model weights saved in ./model/run-5/checkpoint-438/pytorch_model.bin\n",
      " 36%|███▌      | 501/1387 [02:14<02:56,  5.03it/s]"
     ]
    },
    {
     "name": "stdout",
     "output_type": "stream",
     "text": [
      "{'loss': 0.3226, 'learning_rate': 3.984782969152324e-05, 'epoch': 6.85}\n"
     ]
    },
    {
     "name": "stderr",
     "output_type": "stream",
     "text": [
      " 37%|███▋      | 511/1387 [02:16<02:53,  5.05it/s]***** Running Evaluation *****\n",
      "  Num examples = 37\n",
      "  Batch size = 2\n",
      "/home/ppibot/anaconda3/envs/myenv/lib/python3.9/site-packages/sklearn/metrics/_classification.py:1334: UndefinedMetricWarning: Precision and F-score are ill-defined and being set to 0.0 in labels with no predicted samples. Use `zero_division` parameter to control this behavior.\n",
      "  _warn_prf(average, modifier, msg_start, len(result))\n",
      "/home/ppibot/anaconda3/envs/myenv/lib/python3.9/site-packages/sklearn/metrics/_classification.py:1334: UndefinedMetricWarning: Recall and F-score are ill-defined and being set to 0.0 in labels with no true samples. Use `zero_division` parameter to control this behavior.\n",
      "  _warn_prf(average, modifier, msg_start, len(result))\n",
      "                                                  \n",
      " 37%|███▋      | 511/1387 [02:19<02:53,  5.05it/s]Saving model checkpoint to ./model/run-5/checkpoint-511\n",
      "Configuration saved in ./model/run-5/checkpoint-511/config.json\n"
     ]
    },
    {
     "name": "stdout",
     "output_type": "stream",
     "text": [
      "{'eval_loss': 0.35024380683898926, 'eval_accuracy': 0.6486486486486487, 'eval_f1': 0.48, 'eval_precision': 0.48, 'eval_recall': 0.48, 'eval_slot': 0.8827631874762094, 'eval_slot_accuracy': 0.7972972972972973, 'eval_runtime': 2.8539, 'eval_samples_per_second': 12.965, 'eval_steps_per_second': 6.658, 'epoch': 7.0}\n"
     ]
    },
    {
     "name": "stderr",
     "output_type": "stream",
     "text": [
      "Model weights saved in ./model/run-5/checkpoint-511/pytorch_model.bin\n",
      " 42%|████▏     | 584/1387 [02:36<02:38,  5.05it/s]***** Running Evaluation *****\n",
      "  Num examples = 37\n",
      "  Batch size = 2\n",
      "/home/ppibot/anaconda3/envs/myenv/lib/python3.9/site-packages/sklearn/metrics/_classification.py:1334: UndefinedMetricWarning: Precision and F-score are ill-defined and being set to 0.0 in labels with no predicted samples. Use `zero_division` parameter to control this behavior.\n",
      "  _warn_prf(average, modifier, msg_start, len(result))\n",
      "/home/ppibot/anaconda3/envs/myenv/lib/python3.9/site-packages/sklearn/metrics/_classification.py:1334: UndefinedMetricWarning: Recall and F-score are ill-defined and being set to 0.0 in labels with no true samples. Use `zero_division` parameter to control this behavior.\n",
      "  _warn_prf(average, modifier, msg_start, len(result))\n",
      "                                                  \n",
      " 42%|████▏     | 584/1387 [02:39<02:38,  5.05it/s]Saving model checkpoint to ./model/run-5/checkpoint-584\n",
      "Configuration saved in ./model/run-5/checkpoint-584/config.json\n"
     ]
    },
    {
     "name": "stdout",
     "output_type": "stream",
     "text": [
      "{'eval_loss': 0.37860068678855896, 'eval_accuracy': 0.6486486486486487, 'eval_f1': 0.48, 'eval_precision': 0.48, 'eval_recall': 0.48, 'eval_slot': 0.8853859400989619, 'eval_slot_accuracy': 0.7972972972972973, 'eval_runtime': 2.8458, 'eval_samples_per_second': 13.002, 'eval_steps_per_second': 6.677, 'epoch': 8.0}\n"
     ]
    },
    {
     "name": "stderr",
     "output_type": "stream",
     "text": [
      "Model weights saved in ./model/run-5/checkpoint-584/pytorch_model.bin\n",
      " 47%|████▋     | 657/1387 [02:55<02:24,  5.05it/s]***** Running Evaluation *****\n",
      "  Num examples = 37\n",
      "  Batch size = 2\n",
      "/home/ppibot/anaconda3/envs/myenv/lib/python3.9/site-packages/sklearn/metrics/_classification.py:1334: UndefinedMetricWarning: Precision and F-score are ill-defined and being set to 0.0 in labels with no predicted samples. Use `zero_division` parameter to control this behavior.\n",
      "  _warn_prf(average, modifier, msg_start, len(result))\n",
      "/home/ppibot/anaconda3/envs/myenv/lib/python3.9/site-packages/sklearn/metrics/_classification.py:1334: UndefinedMetricWarning: Recall and F-score are ill-defined and being set to 0.0 in labels with no true samples. Use `zero_division` parameter to control this behavior.\n",
      "  _warn_prf(average, modifier, msg_start, len(result))\n",
      "                                                  \n",
      " 47%|████▋     | 657/1387 [02:58<02:24,  5.05it/s]Saving model checkpoint to ./model/run-5/checkpoint-657\n",
      "Configuration saved in ./model/run-5/checkpoint-657/config.json\n"
     ]
    },
    {
     "name": "stdout",
     "output_type": "stream",
     "text": [
      "{'eval_loss': 0.4134373366832733, 'eval_accuracy': 0.6486486486486487, 'eval_f1': 0.48, 'eval_precision': 0.48, 'eval_recall': 0.48, 'eval_slot': 0.8628036788597132, 'eval_slot_accuracy': 0.7972972972972973, 'eval_runtime': 2.8029, 'eval_samples_per_second': 13.201, 'eval_steps_per_second': 6.779, 'epoch': 9.0}\n"
     ]
    },
    {
     "name": "stderr",
     "output_type": "stream",
     "text": [
      "Model weights saved in ./model/run-5/checkpoint-657/pytorch_model.bin\n",
      " 53%|█████▎    | 730/1387 [03:15<02:09,  5.06it/s]***** Running Evaluation *****\n",
      "  Num examples = 37\n",
      "  Batch size = 2\n",
      "/home/ppibot/anaconda3/envs/myenv/lib/python3.9/site-packages/sklearn/metrics/_classification.py:1334: UndefinedMetricWarning: Precision and F-score are ill-defined and being set to 0.0 in labels with no predicted samples. Use `zero_division` parameter to control this behavior.\n",
      "  _warn_prf(average, modifier, msg_start, len(result))\n",
      "/home/ppibot/anaconda3/envs/myenv/lib/python3.9/site-packages/sklearn/metrics/_classification.py:1334: UndefinedMetricWarning: Recall and F-score are ill-defined and being set to 0.0 in labels with no true samples. Use `zero_division` parameter to control this behavior.\n",
      "  _warn_prf(average, modifier, msg_start, len(result))\n",
      "                                                  \n",
      " 53%|█████▎    | 730/1387 [03:17<02:09,  5.06it/s]Saving model checkpoint to ./model/run-5/checkpoint-730\n",
      "Configuration saved in ./model/run-5/checkpoint-730/config.json\n"
     ]
    },
    {
     "name": "stdout",
     "output_type": "stream",
     "text": [
      "{'eval_loss': 0.37138834595680237, 'eval_accuracy': 0.6486486486486487, 'eval_f1': 0.48, 'eval_precision': 0.48, 'eval_recall': 0.48, 'eval_slot': 0.8728043930346562, 'eval_slot_accuracy': 0.7972972972972973, 'eval_runtime': 2.8209, 'eval_samples_per_second': 13.116, 'eval_steps_per_second': 6.735, 'epoch': 10.0}\n"
     ]
    },
    {
     "name": "stderr",
     "output_type": "stream",
     "text": [
      "Model weights saved in ./model/run-5/checkpoint-730/pytorch_model.bin\n",
      " 58%|█████▊    | 803/1387 [03:34<01:55,  5.05it/s]***** Running Evaluation *****\n",
      "  Num examples = 37\n",
      "  Batch size = 2\n",
      "/home/ppibot/anaconda3/envs/myenv/lib/python3.9/site-packages/sklearn/metrics/_classification.py:1334: UndefinedMetricWarning: Precision and F-score are ill-defined and being set to 0.0 in labels with no predicted samples. Use `zero_division` parameter to control this behavior.\n",
      "  _warn_prf(average, modifier, msg_start, len(result))\n",
      "/home/ppibot/anaconda3/envs/myenv/lib/python3.9/site-packages/sklearn/metrics/_classification.py:1334: UndefinedMetricWarning: Recall and F-score are ill-defined and being set to 0.0 in labels with no true samples. Use `zero_division` parameter to control this behavior.\n",
      "  _warn_prf(average, modifier, msg_start, len(result))\n",
      "                                                  \n",
      " 58%|█████▊    | 803/1387 [03:37<01:55,  5.05it/s]Saving model checkpoint to ./model/run-5/checkpoint-803\n",
      "Configuration saved in ./model/run-5/checkpoint-803/config.json\n"
     ]
    },
    {
     "name": "stdout",
     "output_type": "stream",
     "text": [
      "{'eval_loss': 0.4131768047809601, 'eval_accuracy': 0.6756756756756757, 'eval_f1': 0.5102040816326531, 'eval_precision': 0.5102040816326531, 'eval_recall': 0.5102040816326531, 'eval_slot': 0.8695283897586529, 'eval_slot_accuracy': 0.7972972972972973, 'eval_runtime': 2.9089, 'eval_samples_per_second': 12.72, 'eval_steps_per_second': 6.532, 'epoch': 11.0}\n"
     ]
    },
    {
     "name": "stderr",
     "output_type": "stream",
     "text": [
      "Model weights saved in ./model/run-5/checkpoint-803/pytorch_model.bin\n",
      " 63%|██████▎   | 876/1387 [03:54<01:41,  5.05it/s]***** Running Evaluation *****\n",
      "  Num examples = 37\n",
      "  Batch size = 2\n",
      "/home/ppibot/anaconda3/envs/myenv/lib/python3.9/site-packages/sklearn/metrics/_classification.py:1334: UndefinedMetricWarning: Precision and F-score are ill-defined and being set to 0.0 in labels with no predicted samples. Use `zero_division` parameter to control this behavior.\n",
      "  _warn_prf(average, modifier, msg_start, len(result))\n",
      "/home/ppibot/anaconda3/envs/myenv/lib/python3.9/site-packages/sklearn/metrics/_classification.py:1334: UndefinedMetricWarning: Recall and F-score are ill-defined and being set to 0.0 in labels with no true samples. Use `zero_division` parameter to control this behavior.\n",
      "  _warn_prf(average, modifier, msg_start, len(result))\n",
      "                                                  \n",
      " 63%|██████▎   | 876/1387 [03:57<01:41,  5.05it/s]Saving model checkpoint to ./model/run-5/checkpoint-876\n",
      "Configuration saved in ./model/run-5/checkpoint-876/config.json\n"
     ]
    },
    {
     "name": "stdout",
     "output_type": "stream",
     "text": [
      "{'eval_loss': 0.40246933698654175, 'eval_accuracy': 0.7027027027027027, 'eval_f1': 0.5416666666666666, 'eval_precision': 0.5416666666666666, 'eval_recall': 0.5416666666666666, 'eval_slot': 0.9024054226356858, 'eval_slot_accuracy': 0.8333333333333333, 'eval_runtime': 2.8788, 'eval_samples_per_second': 12.852, 'eval_steps_per_second': 6.6, 'epoch': 12.0}\n"
     ]
    },
    {
     "name": "stderr",
     "output_type": "stream",
     "text": [
      "Model weights saved in ./model/run-5/checkpoint-876/pytorch_model.bin\n",
      " 68%|██████▊   | 949/1387 [04:13<01:26,  5.05it/s]***** Running Evaluation *****\n",
      "  Num examples = 37\n",
      "  Batch size = 2\n",
      "/home/ppibot/anaconda3/envs/myenv/lib/python3.9/site-packages/sklearn/metrics/_classification.py:1334: UndefinedMetricWarning: Precision and F-score are ill-defined and being set to 0.0 in labels with no predicted samples. Use `zero_division` parameter to control this behavior.\n",
      "  _warn_prf(average, modifier, msg_start, len(result))\n",
      "/home/ppibot/anaconda3/envs/myenv/lib/python3.9/site-packages/sklearn/metrics/_classification.py:1334: UndefinedMetricWarning: Recall and F-score are ill-defined and being set to 0.0 in labels with no true samples. Use `zero_division` parameter to control this behavior.\n",
      "  _warn_prf(average, modifier, msg_start, len(result))\n",
      "                                                  \n",
      " 68%|██████▊   | 949/1387 [04:16<01:26,  5.05it/s]Saving model checkpoint to ./model/run-5/checkpoint-949\n",
      "Configuration saved in ./model/run-5/checkpoint-949/config.json\n"
     ]
    },
    {
     "name": "stdout",
     "output_type": "stream",
     "text": [
      "{'eval_loss': 0.3889928162097931, 'eval_accuracy': 0.7027027027027027, 'eval_f1': 0.5416666666666666, 'eval_precision': 0.5416666666666666, 'eval_recall': 0.5416666666666666, 'eval_slot': 0.9091369638499855, 'eval_slot_accuracy': 0.8243243243243243, 'eval_runtime': 2.8749, 'eval_samples_per_second': 12.87, 'eval_steps_per_second': 6.609, 'epoch': 13.0}\n"
     ]
    },
    {
     "name": "stderr",
     "output_type": "stream",
     "text": [
      "Model weights saved in ./model/run-5/checkpoint-949/pytorch_model.bin\n",
      " 72%|███████▏  | 1001/1387 [04:29<01:16,  5.03it/s]"
     ]
    },
    {
     "name": "stdout",
     "output_type": "stream",
     "text": [
      "{'loss': 0.034, 'learning_rate': 1.7385693450529306e-05, 'epoch': 13.7}\n"
     ]
    },
    {
     "name": "stderr",
     "output_type": "stream",
     "text": [
      " 74%|███████▎  | 1022/1387 [04:33<01:12,  5.05it/s]***** Running Evaluation *****\n",
      "  Num examples = 37\n",
      "  Batch size = 2\n",
      "/home/ppibot/anaconda3/envs/myenv/lib/python3.9/site-packages/sklearn/metrics/_classification.py:1334: UndefinedMetricWarning: Precision and F-score are ill-defined and being set to 0.0 in labels with no predicted samples. Use `zero_division` parameter to control this behavior.\n",
      "  _warn_prf(average, modifier, msg_start, len(result))\n",
      "/home/ppibot/anaconda3/envs/myenv/lib/python3.9/site-packages/sklearn/metrics/_classification.py:1334: UndefinedMetricWarning: Recall and F-score are ill-defined and being set to 0.0 in labels with no true samples. Use `zero_division` parameter to control this behavior.\n",
      "  _warn_prf(average, modifier, msg_start, len(result))\n",
      "                                                   \n",
      " 74%|███████▎  | 1022/1387 [04:36<01:12,  5.05it/s]Saving model checkpoint to ./model/run-5/checkpoint-1022\n",
      "Configuration saved in ./model/run-5/checkpoint-1022/config.json\n"
     ]
    },
    {
     "name": "stdout",
     "output_type": "stream",
     "text": [
      "{'eval_loss': 0.40861979126930237, 'eval_accuracy': 0.7027027027027027, 'eval_f1': 0.5416666666666666, 'eval_precision': 0.5416666666666666, 'eval_recall': 0.5416666666666666, 'eval_slot': 0.8958757119317464, 'eval_slot_accuracy': 0.8378378378378378, 'eval_runtime': 2.8138, 'eval_samples_per_second': 13.15, 'eval_steps_per_second': 6.753, 'epoch': 14.0}\n"
     ]
    },
    {
     "name": "stderr",
     "output_type": "stream",
     "text": [
      "Model weights saved in ./model/run-5/checkpoint-1022/pytorch_model.bin\n",
      " 79%|███████▉  | 1095/1387 [04:53<00:57,  5.04it/s]***** Running Evaluation *****\n",
      "  Num examples = 37\n",
      "  Batch size = 2\n",
      "/home/ppibot/anaconda3/envs/myenv/lib/python3.9/site-packages/sklearn/metrics/_classification.py:1334: UndefinedMetricWarning: Precision and F-score are ill-defined and being set to 0.0 in labels with no predicted samples. Use `zero_division` parameter to control this behavior.\n",
      "  _warn_prf(average, modifier, msg_start, len(result))\n",
      "/home/ppibot/anaconda3/envs/myenv/lib/python3.9/site-packages/sklearn/metrics/_classification.py:1334: UndefinedMetricWarning: Recall and F-score are ill-defined and being set to 0.0 in labels with no true samples. Use `zero_division` parameter to control this behavior.\n",
      "  _warn_prf(average, modifier, msg_start, len(result))\n",
      "                                                   \n",
      " 79%|███████▉  | 1095/1387 [04:56<00:57,  5.04it/s]Saving model checkpoint to ./model/run-5/checkpoint-1095\n",
      "Configuration saved in ./model/run-5/checkpoint-1095/config.json\n"
     ]
    },
    {
     "name": "stdout",
     "output_type": "stream",
     "text": [
      "{'eval_loss': 0.4136653244495392, 'eval_accuracy': 0.6756756756756757, 'eval_f1': 0.5102040816326531, 'eval_precision': 0.5102040816326531, 'eval_recall': 0.5102040816326531, 'eval_slot': 0.8965554167856798, 'eval_slot_accuracy': 0.8243243243243243, 'eval_runtime': 2.9138, 'eval_samples_per_second': 12.698, 'eval_steps_per_second': 6.521, 'epoch': 15.0}\n"
     ]
    },
    {
     "name": "stderr",
     "output_type": "stream",
     "text": [
      "Model weights saved in ./model/run-5/checkpoint-1095/pytorch_model.bin\n",
      " 84%|████████▍ | 1168/1387 [05:15<00:43,  5.06it/s]***** Running Evaluation *****\n",
      "  Num examples = 37\n",
      "  Batch size = 2\n",
      "/home/ppibot/anaconda3/envs/myenv/lib/python3.9/site-packages/sklearn/metrics/_classification.py:1334: UndefinedMetricWarning: Precision and F-score are ill-defined and being set to 0.0 in labels with no predicted samples. Use `zero_division` parameter to control this behavior.\n",
      "  _warn_prf(average, modifier, msg_start, len(result))\n",
      "/home/ppibot/anaconda3/envs/myenv/lib/python3.9/site-packages/sklearn/metrics/_classification.py:1334: UndefinedMetricWarning: Recall and F-score are ill-defined and being set to 0.0 in labels with no true samples. Use `zero_division` parameter to control this behavior.\n",
      "  _warn_prf(average, modifier, msg_start, len(result))\n",
      "                                                   \n",
      " 84%|████████▍ | 1168/1387 [05:18<00:43,  5.06it/s]Saving model checkpoint to ./model/run-5/checkpoint-1168\n",
      "Configuration saved in ./model/run-5/checkpoint-1168/config.json\n"
     ]
    },
    {
     "name": "stdout",
     "output_type": "stream",
     "text": [
      "{'eval_loss': 0.43705862760543823, 'eval_accuracy': 0.6756756756756757, 'eval_f1': 0.5102040816326531, 'eval_precision': 0.5102040816326531, 'eval_recall': 0.5102040816326531, 'eval_slot': 0.8965554167856798, 'eval_slot_accuracy': 0.8243243243243243, 'eval_runtime': 2.8771, 'eval_samples_per_second': 12.86, 'eval_steps_per_second': 6.604, 'epoch': 16.0}\n"
     ]
    },
    {
     "name": "stderr",
     "output_type": "stream",
     "text": [
      "Model weights saved in ./model/run-5/checkpoint-1168/pytorch_model.bin\n",
      " 89%|████████▉ | 1241/1387 [05:37<00:28,  5.05it/s]***** Running Evaluation *****\n",
      "  Num examples = 37\n",
      "  Batch size = 2\n",
      "/home/ppibot/anaconda3/envs/myenv/lib/python3.9/site-packages/sklearn/metrics/_classification.py:1334: UndefinedMetricWarning: Precision and F-score are ill-defined and being set to 0.0 in labels with no predicted samples. Use `zero_division` parameter to control this behavior.\n",
      "  _warn_prf(average, modifier, msg_start, len(result))\n",
      "/home/ppibot/anaconda3/envs/myenv/lib/python3.9/site-packages/sklearn/metrics/_classification.py:1334: UndefinedMetricWarning: Recall and F-score are ill-defined and being set to 0.0 in labels with no true samples. Use `zero_division` parameter to control this behavior.\n",
      "  _warn_prf(average, modifier, msg_start, len(result))\n",
      "                                                   \n",
      " 89%|████████▉ | 1241/1387 [05:40<00:28,  5.05it/s]Saving model checkpoint to ./model/run-5/checkpoint-1241\n",
      "Configuration saved in ./model/run-5/checkpoint-1241/config.json\n"
     ]
    },
    {
     "name": "stdout",
     "output_type": "stream",
     "text": [
      "{'eval_loss': 0.43114471435546875, 'eval_accuracy': 0.6756756756756757, 'eval_f1': 0.5102040816326531, 'eval_precision': 0.5102040816326531, 'eval_recall': 0.5102040816326531, 'eval_slot': 0.8965554167856798, 'eval_slot_accuracy': 0.8243243243243243, 'eval_runtime': 2.8561, 'eval_samples_per_second': 12.955, 'eval_steps_per_second': 6.653, 'epoch': 17.0}\n"
     ]
    },
    {
     "name": "stderr",
     "output_type": "stream",
     "text": [
      "Model weights saved in ./model/run-5/checkpoint-1241/pytorch_model.bin\n",
      " 95%|█████████▍| 1314/1387 [06:06<00:14,  5.04it/s]***** Running Evaluation *****\n",
      "  Num examples = 37\n",
      "  Batch size = 2\n",
      "/home/ppibot/anaconda3/envs/myenv/lib/python3.9/site-packages/sklearn/metrics/_classification.py:1334: UndefinedMetricWarning: Precision and F-score are ill-defined and being set to 0.0 in labels with no predicted samples. Use `zero_division` parameter to control this behavior.\n",
      "  _warn_prf(average, modifier, msg_start, len(result))\n",
      "/home/ppibot/anaconda3/envs/myenv/lib/python3.9/site-packages/sklearn/metrics/_classification.py:1334: UndefinedMetricWarning: Recall and F-score are ill-defined and being set to 0.0 in labels with no true samples. Use `zero_division` parameter to control this behavior.\n",
      "  _warn_prf(average, modifier, msg_start, len(result))\n",
      "                                                   \n",
      " 95%|█████████▍| 1314/1387 [06:09<00:14,  5.04it/s]Saving model checkpoint to ./model/run-5/checkpoint-1314\n",
      "Configuration saved in ./model/run-5/checkpoint-1314/config.json\n"
     ]
    },
    {
     "name": "stdout",
     "output_type": "stream",
     "text": [
      "{'eval_loss': 0.429805189371109, 'eval_accuracy': 0.6756756756756757, 'eval_f1': 0.5102040816326531, 'eval_precision': 0.5102040816326531, 'eval_recall': 0.5102040816326531, 'eval_slot': 0.8965554167856798, 'eval_slot_accuracy': 0.8243243243243243, 'eval_runtime': 2.8979, 'eval_samples_per_second': 12.768, 'eval_steps_per_second': 6.556, 'epoch': 18.0}\n"
     ]
    },
    {
     "name": "stderr",
     "output_type": "stream",
     "text": [
      "Model weights saved in ./model/run-5/checkpoint-1314/pytorch_model.bin\n",
      "100%|██████████| 1387/1387 [06:26<00:00,  5.05it/s]***** Running Evaluation *****\n",
      "  Num examples = 37\n",
      "  Batch size = 2\n",
      "/home/ppibot/anaconda3/envs/myenv/lib/python3.9/site-packages/sklearn/metrics/_classification.py:1334: UndefinedMetricWarning: Precision and F-score are ill-defined and being set to 0.0 in labels with no predicted samples. Use `zero_division` parameter to control this behavior.\n",
      "  _warn_prf(average, modifier, msg_start, len(result))\n",
      "/home/ppibot/anaconda3/envs/myenv/lib/python3.9/site-packages/sklearn/metrics/_classification.py:1334: UndefinedMetricWarning: Recall and F-score are ill-defined and being set to 0.0 in labels with no true samples. Use `zero_division` parameter to control this behavior.\n",
      "  _warn_prf(average, modifier, msg_start, len(result))\n",
      "                                                   \n",
      "100%|██████████| 1387/1387 [06:29<00:00,  5.05it/s]Saving model checkpoint to ./model/run-5/checkpoint-1387\n",
      "Configuration saved in ./model/run-5/checkpoint-1387/config.json\n"
     ]
    },
    {
     "name": "stdout",
     "output_type": "stream",
     "text": [
      "{'eval_loss': 0.4332119822502136, 'eval_accuracy': 0.6756756756756757, 'eval_f1': 0.5102040816326531, 'eval_precision': 0.5102040816326531, 'eval_recall': 0.5102040816326531, 'eval_slot': 0.8965554167856798, 'eval_slot_accuracy': 0.8243243243243243, 'eval_runtime': 2.8752, 'eval_samples_per_second': 12.869, 'eval_steps_per_second': 6.608, 'epoch': 19.0}\n"
     ]
    },
    {
     "name": "stderr",
     "output_type": "stream",
     "text": [
      "Model weights saved in ./model/run-5/checkpoint-1387/pytorch_model.bin\n",
      "\n",
      "\n",
      "Training completed. Do not forget to share your model on huggingface.co/models =)\n",
      "\n",
      "\n",
      "Loading best model from ./model/run-5/checkpoint-1022 (score: 0.8378378378378378).\n",
      "100%|██████████| 1387/1387 [06:33<00:00,  3.52it/s]\n",
      "\u001b[32m[I 2023-06-11 19:03:53,919]\u001b[0m Trial 5 finished with value: 0.8243243243243243 and parameters: {'learning_rate': 6.230996593251717e-05, 'num_train_epochs': 19}. Best is trial 3 with value: 0.8333333333333333.\u001b[0m\n",
      "Trial: {'learning_rate': 3.21858168517653e-05, 'num_train_epochs': 4}\n"
     ]
    },
    {
     "name": "stdout",
     "output_type": "stream",
     "text": [
      "{'train_runtime': 393.9963, 'train_samples_per_second': 7.041, 'train_steps_per_second': 3.52, 'train_loss': 0.1327520912296925, 'epoch': 19.0}\n"
     ]
    },
    {
     "name": "stderr",
     "output_type": "stream",
     "text": [
      "loading configuration file config.json from cache at /home/ppibot/.cache/huggingface/hub/models--google--flan-t5-base/snapshots/c782cba52f8ea6a704240578055cf1c3fc2f2ca9/config.json\n",
      "Model config T5Config {\n",
      "  \"_name_or_path\": \"google/flan-t5-base\",\n",
      "  \"architectures\": [\n",
      "    \"T5ForConditionalGeneration\"\n",
      "  ],\n",
      "  \"d_ff\": 2048,\n",
      "  \"d_kv\": 64,\n",
      "  \"d_model\": 768,\n",
      "  \"decoder_start_token_id\": 0,\n",
      "  \"dense_act_fn\": \"gelu_new\",\n",
      "  \"dropout_rate\": 0.1,\n",
      "  \"eos_token_id\": 1,\n",
      "  \"feed_forward_proj\": \"gated-gelu\",\n",
      "  \"initializer_factor\": 1.0,\n",
      "  \"is_encoder_decoder\": true,\n",
      "  \"is_gated_act\": true,\n",
      "  \"layer_norm_epsilon\": 1e-06,\n",
      "  \"model_type\": \"t5\",\n",
      "  \"n_positions\": 512,\n",
      "  \"num_decoder_layers\": 12,\n",
      "  \"num_heads\": 12,\n",
      "  \"num_layers\": 12,\n",
      "  \"output_past\": true,\n",
      "  \"pad_token_id\": 0,\n",
      "  \"relative_attention_max_distance\": 128,\n",
      "  \"relative_attention_num_buckets\": 32,\n",
      "  \"task_specific_params\": {\n",
      "    \"summarization\": {\n",
      "      \"early_stopping\": true,\n",
      "      \"length_penalty\": 2.0,\n",
      "      \"max_length\": 200,\n",
      "      \"min_length\": 30,\n",
      "      \"no_repeat_ngram_size\": 3,\n",
      "      \"num_beams\": 4,\n",
      "      \"prefix\": \"summarize: \"\n",
      "    },\n",
      "    \"translation_en_to_de\": {\n",
      "      \"early_stopping\": true,\n",
      "      \"max_length\": 300,\n",
      "      \"num_beams\": 4,\n",
      "      \"prefix\": \"translate English to German: \"\n",
      "    },\n",
      "    \"translation_en_to_fr\": {\n",
      "      \"early_stopping\": true,\n",
      "      \"max_length\": 300,\n",
      "      \"num_beams\": 4,\n",
      "      \"prefix\": \"translate English to French: \"\n",
      "    },\n",
      "    \"translation_en_to_ro\": {\n",
      "      \"early_stopping\": true,\n",
      "      \"max_length\": 300,\n",
      "      \"num_beams\": 4,\n",
      "      \"prefix\": \"translate English to Romanian: \"\n",
      "    }\n",
      "  },\n",
      "  \"tie_word_embeddings\": false,\n",
      "  \"transformers_version\": \"4.24.0\",\n",
      "  \"use_cache\": true,\n",
      "  \"vocab_size\": 32128\n",
      "}\n",
      "\n",
      "loading weights file pytorch_model.bin from cache at /home/ppibot/.cache/huggingface/hub/models--google--flan-t5-base/snapshots/c782cba52f8ea6a704240578055cf1c3fc2f2ca9/pytorch_model.bin\n",
      "All model checkpoint weights were used when initializing T5ForConditionalGeneration.\n",
      "\n",
      "All the weights of T5ForConditionalGeneration were initialized from the model checkpoint at google/flan-t5-base.\n",
      "If your task is similar to the task the model of the checkpoint was trained on, you can already use T5ForConditionalGeneration for predictions without further training.\n",
      "/home/ppibot/anaconda3/envs/myenv/lib/python3.9/site-packages/transformers/optimization.py:306: FutureWarning: This implementation of AdamW is deprecated and will be removed in a future version. Use the PyTorch implementation torch.optim.AdamW instead, or set `no_deprecation_warning=True` to disable this warning\n",
      "  warnings.warn(\n",
      "***** Running training *****\n",
      "  Num examples = 146\n",
      "  Num Epochs = 4\n",
      "  Instantaneous batch size per device = 2\n",
      "  Total train batch size (w. parallel, distributed & accumulation) = 2\n",
      "  Gradient Accumulation steps = 1\n",
      "  Total optimization steps = 292\n",
      "  Number of trainable parameters = 247577856\n",
      " 25%|██▌       | 73/292 [00:14<00:43,  5.06it/s]***** Running Evaluation *****\n",
      "  Num examples = 37\n",
      "  Batch size = 2\n",
      "/home/ppibot/anaconda3/envs/myenv/lib/python3.9/site-packages/sklearn/metrics/_classification.py:1334: UndefinedMetricWarning: Precision and F-score are ill-defined and being set to 0.0 in labels with no predicted samples. Use `zero_division` parameter to control this behavior.\n",
      "  _warn_prf(average, modifier, msg_start, len(result))\n",
      "/home/ppibot/anaconda3/envs/myenv/lib/python3.9/site-packages/sklearn/metrics/_classification.py:1334: UndefinedMetricWarning: Recall and F-score are ill-defined and being set to 0.0 in labels with no true samples. Use `zero_division` parameter to control this behavior.\n",
      "  _warn_prf(average, modifier, msg_start, len(result))\n",
      "                                                \n",
      " 25%|██▌       | 73/292 [00:17<00:51,  4.27it/s]\n",
      "\u001b[32m[I 2023-06-11 19:04:14,989]\u001b[0m Trial 6 pruned. \u001b[0m\n",
      "Trial: {'learning_rate': 3.34032672765081e-05, 'num_train_epochs': 6}\n"
     ]
    },
    {
     "name": "stdout",
     "output_type": "stream",
     "text": [
      "{'eval_loss': 0.634047269821167, 'eval_accuracy': 0.05405405405405406, 'eval_f1': 0.02857142857142857, 'eval_precision': 0.02857142857142857, 'eval_recall': 0.02857142857142857, 'eval_slot': 0.32291129480999614, 'eval_slot_accuracy': 0.18693693693693691, 'eval_runtime': 2.6544, 'eval_samples_per_second': 13.939, 'eval_steps_per_second': 7.158, 'epoch': 1.0}\n"
     ]
    },
    {
     "name": "stderr",
     "output_type": "stream",
     "text": [
      "loading configuration file config.json from cache at /home/ppibot/.cache/huggingface/hub/models--google--flan-t5-base/snapshots/c782cba52f8ea6a704240578055cf1c3fc2f2ca9/config.json\n",
      "Model config T5Config {\n",
      "  \"_name_or_path\": \"google/flan-t5-base\",\n",
      "  \"architectures\": [\n",
      "    \"T5ForConditionalGeneration\"\n",
      "  ],\n",
      "  \"d_ff\": 2048,\n",
      "  \"d_kv\": 64,\n",
      "  \"d_model\": 768,\n",
      "  \"decoder_start_token_id\": 0,\n",
      "  \"dense_act_fn\": \"gelu_new\",\n",
      "  \"dropout_rate\": 0.1,\n",
      "  \"eos_token_id\": 1,\n",
      "  \"feed_forward_proj\": \"gated-gelu\",\n",
      "  \"initializer_factor\": 1.0,\n",
      "  \"is_encoder_decoder\": true,\n",
      "  \"is_gated_act\": true,\n",
      "  \"layer_norm_epsilon\": 1e-06,\n",
      "  \"model_type\": \"t5\",\n",
      "  \"n_positions\": 512,\n",
      "  \"num_decoder_layers\": 12,\n",
      "  \"num_heads\": 12,\n",
      "  \"num_layers\": 12,\n",
      "  \"output_past\": true,\n",
      "  \"pad_token_id\": 0,\n",
      "  \"relative_attention_max_distance\": 128,\n",
      "  \"relative_attention_num_buckets\": 32,\n",
      "  \"task_specific_params\": {\n",
      "    \"summarization\": {\n",
      "      \"early_stopping\": true,\n",
      "      \"length_penalty\": 2.0,\n",
      "      \"max_length\": 200,\n",
      "      \"min_length\": 30,\n",
      "      \"no_repeat_ngram_size\": 3,\n",
      "      \"num_beams\": 4,\n",
      "      \"prefix\": \"summarize: \"\n",
      "    },\n",
      "    \"translation_en_to_de\": {\n",
      "      \"early_stopping\": true,\n",
      "      \"max_length\": 300,\n",
      "      \"num_beams\": 4,\n",
      "      \"prefix\": \"translate English to German: \"\n",
      "    },\n",
      "    \"translation_en_to_fr\": {\n",
      "      \"early_stopping\": true,\n",
      "      \"max_length\": 300,\n",
      "      \"num_beams\": 4,\n",
      "      \"prefix\": \"translate English to French: \"\n",
      "    },\n",
      "    \"translation_en_to_ro\": {\n",
      "      \"early_stopping\": true,\n",
      "      \"max_length\": 300,\n",
      "      \"num_beams\": 4,\n",
      "      \"prefix\": \"translate English to Romanian: \"\n",
      "    }\n",
      "  },\n",
      "  \"tie_word_embeddings\": false,\n",
      "  \"transformers_version\": \"4.24.0\",\n",
      "  \"use_cache\": true,\n",
      "  \"vocab_size\": 32128\n",
      "}\n",
      "\n",
      "loading weights file pytorch_model.bin from cache at /home/ppibot/.cache/huggingface/hub/models--google--flan-t5-base/snapshots/c782cba52f8ea6a704240578055cf1c3fc2f2ca9/pytorch_model.bin\n",
      "All model checkpoint weights were used when initializing T5ForConditionalGeneration.\n",
      "\n",
      "All the weights of T5ForConditionalGeneration were initialized from the model checkpoint at google/flan-t5-base.\n",
      "If your task is similar to the task the model of the checkpoint was trained on, you can already use T5ForConditionalGeneration for predictions without further training.\n",
      "/home/ppibot/anaconda3/envs/myenv/lib/python3.9/site-packages/transformers/optimization.py:306: FutureWarning: This implementation of AdamW is deprecated and will be removed in a future version. Use the PyTorch implementation torch.optim.AdamW instead, or set `no_deprecation_warning=True` to disable this warning\n",
      "  warnings.warn(\n",
      "***** Running training *****\n",
      "  Num examples = 146\n",
      "  Num Epochs = 6\n",
      "  Instantaneous batch size per device = 2\n",
      "  Total train batch size (w. parallel, distributed & accumulation) = 2\n",
      "  Gradient Accumulation steps = 1\n",
      "  Total optimization steps = 438\n",
      "  Number of trainable parameters = 247577856\n",
      " 17%|█▋        | 73/438 [00:14<01:12,  5.04it/s]***** Running Evaluation *****\n",
      "  Num examples = 37\n",
      "  Batch size = 2\n",
      "/home/ppibot/anaconda3/envs/myenv/lib/python3.9/site-packages/sklearn/metrics/_classification.py:1334: UndefinedMetricWarning: Precision and F-score are ill-defined and being set to 0.0 in labels with no predicted samples. Use `zero_division` parameter to control this behavior.\n",
      "  _warn_prf(average, modifier, msg_start, len(result))\n",
      "/home/ppibot/anaconda3/envs/myenv/lib/python3.9/site-packages/sklearn/metrics/_classification.py:1334: UndefinedMetricWarning: Recall and F-score are ill-defined and being set to 0.0 in labels with no true samples. Use `zero_division` parameter to control this behavior.\n",
      "  _warn_prf(average, modifier, msg_start, len(result))\n",
      "                                                \n",
      " 17%|█▋        | 73/438 [00:17<01:26,  4.24it/s]\n",
      "\u001b[32m[I 2023-06-11 19:04:33,688]\u001b[0m Trial 7 pruned. \u001b[0m\n",
      "Trial: {'learning_rate': 1.8693406382952983e-05, 'num_train_epochs': 12}\n"
     ]
    },
    {
     "name": "stdout",
     "output_type": "stream",
     "text": [
      "{'eval_loss': 0.6148346662521362, 'eval_accuracy': 0.05405405405405406, 'eval_f1': 0.02857142857142857, 'eval_precision': 0.02857142857142857, 'eval_recall': 0.02857142857142857, 'eval_slot': 0.32069307384177514, 'eval_slot_accuracy': 0.17792792792792791, 'eval_runtime': 2.7403, 'eval_samples_per_second': 13.502, 'eval_steps_per_second': 6.934, 'epoch': 1.0}\n"
     ]
    },
    {
     "name": "stderr",
     "output_type": "stream",
     "text": [
      "loading configuration file config.json from cache at /home/ppibot/.cache/huggingface/hub/models--google--flan-t5-base/snapshots/c782cba52f8ea6a704240578055cf1c3fc2f2ca9/config.json\n",
      "Model config T5Config {\n",
      "  \"_name_or_path\": \"google/flan-t5-base\",\n",
      "  \"architectures\": [\n",
      "    \"T5ForConditionalGeneration\"\n",
      "  ],\n",
      "  \"d_ff\": 2048,\n",
      "  \"d_kv\": 64,\n",
      "  \"d_model\": 768,\n",
      "  \"decoder_start_token_id\": 0,\n",
      "  \"dense_act_fn\": \"gelu_new\",\n",
      "  \"dropout_rate\": 0.1,\n",
      "  \"eos_token_id\": 1,\n",
      "  \"feed_forward_proj\": \"gated-gelu\",\n",
      "  \"initializer_factor\": 1.0,\n",
      "  \"is_encoder_decoder\": true,\n",
      "  \"is_gated_act\": true,\n",
      "  \"layer_norm_epsilon\": 1e-06,\n",
      "  \"model_type\": \"t5\",\n",
      "  \"n_positions\": 512,\n",
      "  \"num_decoder_layers\": 12,\n",
      "  \"num_heads\": 12,\n",
      "  \"num_layers\": 12,\n",
      "  \"output_past\": true,\n",
      "  \"pad_token_id\": 0,\n",
      "  \"relative_attention_max_distance\": 128,\n",
      "  \"relative_attention_num_buckets\": 32,\n",
      "  \"task_specific_params\": {\n",
      "    \"summarization\": {\n",
      "      \"early_stopping\": true,\n",
      "      \"length_penalty\": 2.0,\n",
      "      \"max_length\": 200,\n",
      "      \"min_length\": 30,\n",
      "      \"no_repeat_ngram_size\": 3,\n",
      "      \"num_beams\": 4,\n",
      "      \"prefix\": \"summarize: \"\n",
      "    },\n",
      "    \"translation_en_to_de\": {\n",
      "      \"early_stopping\": true,\n",
      "      \"max_length\": 300,\n",
      "      \"num_beams\": 4,\n",
      "      \"prefix\": \"translate English to German: \"\n",
      "    },\n",
      "    \"translation_en_to_fr\": {\n",
      "      \"early_stopping\": true,\n",
      "      \"max_length\": 300,\n",
      "      \"num_beams\": 4,\n",
      "      \"prefix\": \"translate English to French: \"\n",
      "    },\n",
      "    \"translation_en_to_ro\": {\n",
      "      \"early_stopping\": true,\n",
      "      \"max_length\": 300,\n",
      "      \"num_beams\": 4,\n",
      "      \"prefix\": \"translate English to Romanian: \"\n",
      "    }\n",
      "  },\n",
      "  \"tie_word_embeddings\": false,\n",
      "  \"transformers_version\": \"4.24.0\",\n",
      "  \"use_cache\": true,\n",
      "  \"vocab_size\": 32128\n",
      "}\n",
      "\n",
      "loading weights file pytorch_model.bin from cache at /home/ppibot/.cache/huggingface/hub/models--google--flan-t5-base/snapshots/c782cba52f8ea6a704240578055cf1c3fc2f2ca9/pytorch_model.bin\n",
      "All model checkpoint weights were used when initializing T5ForConditionalGeneration.\n",
      "\n",
      "All the weights of T5ForConditionalGeneration were initialized from the model checkpoint at google/flan-t5-base.\n",
      "If your task is similar to the task the model of the checkpoint was trained on, you can already use T5ForConditionalGeneration for predictions without further training.\n",
      "/home/ppibot/anaconda3/envs/myenv/lib/python3.9/site-packages/transformers/optimization.py:306: FutureWarning: This implementation of AdamW is deprecated and will be removed in a future version. Use the PyTorch implementation torch.optim.AdamW instead, or set `no_deprecation_warning=True` to disable this warning\n",
      "  warnings.warn(\n",
      "***** Running training *****\n",
      "  Num examples = 146\n",
      "  Num Epochs = 12\n",
      "  Instantaneous batch size per device = 2\n",
      "  Total train batch size (w. parallel, distributed & accumulation) = 2\n",
      "  Gradient Accumulation steps = 1\n",
      "  Total optimization steps = 876\n",
      "  Number of trainable parameters = 247577856\n",
      "  8%|▊         | 73/876 [00:14<02:38,  5.06it/s]***** Running Evaluation *****\n",
      "  Num examples = 37\n",
      "  Batch size = 2\n",
      "/home/ppibot/anaconda3/envs/myenv/lib/python3.9/site-packages/sklearn/metrics/_classification.py:1334: UndefinedMetricWarning: Precision and F-score are ill-defined and being set to 0.0 in labels with no predicted samples. Use `zero_division` parameter to control this behavior.\n",
      "  _warn_prf(average, modifier, msg_start, len(result))\n",
      "/home/ppibot/anaconda3/envs/myenv/lib/python3.9/site-packages/sklearn/metrics/_classification.py:1334: UndefinedMetricWarning: Recall and F-score are ill-defined and being set to 0.0 in labels with no true samples. Use `zero_division` parameter to control this behavior.\n",
      "  _warn_prf(average, modifier, msg_start, len(result))\n",
      "                                                \n",
      "  8%|▊         | 73/876 [00:17<03:07,  4.29it/s]\n",
      "\u001b[32m[I 2023-06-11 19:04:53,467]\u001b[0m Trial 8 pruned. \u001b[0m\n",
      "Trial: {'learning_rate': 4.0570642558799205e-05, 'num_train_epochs': 9}\n"
     ]
    },
    {
     "name": "stdout",
     "output_type": "stream",
     "text": [
      "{'eval_loss': 0.7945947051048279, 'eval_accuracy': 0.02702702702702703, 'eval_f1': 0.014084507042253521, 'eval_precision': 0.014084507042253521, 'eval_recall': 0.014084507042253521, 'eval_slot': 0.2267381827989005, 'eval_slot_accuracy': 0.09234234234234234, 'eval_runtime': 2.5628, 'eval_samples_per_second': 14.437, 'eval_steps_per_second': 7.414, 'epoch': 1.0}\n"
     ]
    },
    {
     "name": "stderr",
     "output_type": "stream",
     "text": [
      "loading configuration file config.json from cache at /home/ppibot/.cache/huggingface/hub/models--google--flan-t5-base/snapshots/c782cba52f8ea6a704240578055cf1c3fc2f2ca9/config.json\n",
      "Model config T5Config {\n",
      "  \"_name_or_path\": \"google/flan-t5-base\",\n",
      "  \"architectures\": [\n",
      "    \"T5ForConditionalGeneration\"\n",
      "  ],\n",
      "  \"d_ff\": 2048,\n",
      "  \"d_kv\": 64,\n",
      "  \"d_model\": 768,\n",
      "  \"decoder_start_token_id\": 0,\n",
      "  \"dense_act_fn\": \"gelu_new\",\n",
      "  \"dropout_rate\": 0.1,\n",
      "  \"eos_token_id\": 1,\n",
      "  \"feed_forward_proj\": \"gated-gelu\",\n",
      "  \"initializer_factor\": 1.0,\n",
      "  \"is_encoder_decoder\": true,\n",
      "  \"is_gated_act\": true,\n",
      "  \"layer_norm_epsilon\": 1e-06,\n",
      "  \"model_type\": \"t5\",\n",
      "  \"n_positions\": 512,\n",
      "  \"num_decoder_layers\": 12,\n",
      "  \"num_heads\": 12,\n",
      "  \"num_layers\": 12,\n",
      "  \"output_past\": true,\n",
      "  \"pad_token_id\": 0,\n",
      "  \"relative_attention_max_distance\": 128,\n",
      "  \"relative_attention_num_buckets\": 32,\n",
      "  \"task_specific_params\": {\n",
      "    \"summarization\": {\n",
      "      \"early_stopping\": true,\n",
      "      \"length_penalty\": 2.0,\n",
      "      \"max_length\": 200,\n",
      "      \"min_length\": 30,\n",
      "      \"no_repeat_ngram_size\": 3,\n",
      "      \"num_beams\": 4,\n",
      "      \"prefix\": \"summarize: \"\n",
      "    },\n",
      "    \"translation_en_to_de\": {\n",
      "      \"early_stopping\": true,\n",
      "      \"max_length\": 300,\n",
      "      \"num_beams\": 4,\n",
      "      \"prefix\": \"translate English to German: \"\n",
      "    },\n",
      "    \"translation_en_to_fr\": {\n",
      "      \"early_stopping\": true,\n",
      "      \"max_length\": 300,\n",
      "      \"num_beams\": 4,\n",
      "      \"prefix\": \"translate English to French: \"\n",
      "    },\n",
      "    \"translation_en_to_ro\": {\n",
      "      \"early_stopping\": true,\n",
      "      \"max_length\": 300,\n",
      "      \"num_beams\": 4,\n",
      "      \"prefix\": \"translate English to Romanian: \"\n",
      "    }\n",
      "  },\n",
      "  \"tie_word_embeddings\": false,\n",
      "  \"transformers_version\": \"4.24.0\",\n",
      "  \"use_cache\": true,\n",
      "  \"vocab_size\": 32128\n",
      "}\n",
      "\n",
      "loading weights file pytorch_model.bin from cache at /home/ppibot/.cache/huggingface/hub/models--google--flan-t5-base/snapshots/c782cba52f8ea6a704240578055cf1c3fc2f2ca9/pytorch_model.bin\n",
      "All model checkpoint weights were used when initializing T5ForConditionalGeneration.\n",
      "\n",
      "All the weights of T5ForConditionalGeneration were initialized from the model checkpoint at google/flan-t5-base.\n",
      "If your task is similar to the task the model of the checkpoint was trained on, you can already use T5ForConditionalGeneration for predictions without further training.\n",
      "/home/ppibot/anaconda3/envs/myenv/lib/python3.9/site-packages/transformers/optimization.py:306: FutureWarning: This implementation of AdamW is deprecated and will be removed in a future version. Use the PyTorch implementation torch.optim.AdamW instead, or set `no_deprecation_warning=True` to disable this warning\n",
      "  warnings.warn(\n",
      "***** Running training *****\n",
      "  Num examples = 146\n",
      "  Num Epochs = 9\n",
      "  Instantaneous batch size per device = 2\n",
      "  Total train batch size (w. parallel, distributed & accumulation) = 2\n",
      "  Gradient Accumulation steps = 1\n",
      "  Total optimization steps = 657\n",
      "  Number of trainable parameters = 247577856\n",
      " 11%|█         | 73/657 [00:14<01:55,  5.05it/s]***** Running Evaluation *****\n",
      "  Num examples = 37\n",
      "  Batch size = 2\n",
      "/home/ppibot/anaconda3/envs/myenv/lib/python3.9/site-packages/sklearn/metrics/_classification.py:1334: UndefinedMetricWarning: Precision and F-score are ill-defined and being set to 0.0 in labels with no predicted samples. Use `zero_division` parameter to control this behavior.\n",
      "  _warn_prf(average, modifier, msg_start, len(result))\n",
      "/home/ppibot/anaconda3/envs/myenv/lib/python3.9/site-packages/sklearn/metrics/_classification.py:1334: UndefinedMetricWarning: Recall and F-score are ill-defined and being set to 0.0 in labels with no true samples. Use `zero_division` parameter to control this behavior.\n",
      "  _warn_prf(average, modifier, msg_start, len(result))\n",
      "                                                \n",
      " 11%|█         | 73/657 [00:17<01:55,  5.05it/s]Saving model checkpoint to ./model/run-9/checkpoint-73\n",
      "Configuration saved in ./model/run-9/checkpoint-73/config.json\n"
     ]
    },
    {
     "name": "stdout",
     "output_type": "stream",
     "text": [
      "{'eval_loss': 0.5615158677101135, 'eval_accuracy': 0.13513513513513514, 'eval_f1': 0.07462686567164178, 'eval_precision': 0.07462686567164178, 'eval_recall': 0.07462686567164178, 'eval_slot': 0.40449046351983525, 'eval_slot_accuracy': 0.26126126126126126, 'eval_runtime': 2.6502, 'eval_samples_per_second': 13.961, 'eval_steps_per_second': 7.169, 'epoch': 1.0}\n"
     ]
    },
    {
     "name": "stderr",
     "output_type": "stream",
     "text": [
      "Model weights saved in ./model/run-9/checkpoint-73/pytorch_model.bin\n",
      " 22%|██▏       | 146/657 [00:35<01:41,  5.04it/s]***** Running Evaluation *****\n",
      "  Num examples = 37\n",
      "  Batch size = 2\n",
      "/home/ppibot/anaconda3/envs/myenv/lib/python3.9/site-packages/sklearn/metrics/_classification.py:1334: UndefinedMetricWarning: Precision and F-score are ill-defined and being set to 0.0 in labels with no predicted samples. Use `zero_division` parameter to control this behavior.\n",
      "  _warn_prf(average, modifier, msg_start, len(result))\n",
      "/home/ppibot/anaconda3/envs/myenv/lib/python3.9/site-packages/sklearn/metrics/_classification.py:1334: UndefinedMetricWarning: Recall and F-score are ill-defined and being set to 0.0 in labels with no true samples. Use `zero_division` parameter to control this behavior.\n",
      "  _warn_prf(average, modifier, msg_start, len(result))\n",
      "                                                 \n",
      " 22%|██▏       | 146/657 [00:37<01:41,  5.04it/s]Saving model checkpoint to ./model/run-9/checkpoint-146\n",
      "Configuration saved in ./model/run-9/checkpoint-146/config.json\n"
     ]
    },
    {
     "name": "stdout",
     "output_type": "stream",
     "text": [
      "{'eval_loss': 0.4321455955505371, 'eval_accuracy': 0.3783783783783784, 'eval_f1': 0.23333333333333334, 'eval_precision': 0.23333333333333334, 'eval_recall': 0.23333333333333334, 'eval_slot': 0.7092977681149877, 'eval_slot_accuracy': 0.6621621621621621, 'eval_runtime': 2.7792, 'eval_samples_per_second': 13.313, 'eval_steps_per_second': 6.836, 'epoch': 2.0}\n"
     ]
    },
    {
     "name": "stderr",
     "output_type": "stream",
     "text": [
      "Model weights saved in ./model/run-9/checkpoint-146/pytorch_model.bin\n",
      " 33%|███▎      | 219/657 [00:54<01:26,  5.06it/s]***** Running Evaluation *****\n",
      "  Num examples = 37\n",
      "  Batch size = 2\n",
      "/home/ppibot/anaconda3/envs/myenv/lib/python3.9/site-packages/sklearn/metrics/_classification.py:1334: UndefinedMetricWarning: Precision and F-score are ill-defined and being set to 0.0 in labels with no predicted samples. Use `zero_division` parameter to control this behavior.\n",
      "  _warn_prf(average, modifier, msg_start, len(result))\n",
      "/home/ppibot/anaconda3/envs/myenv/lib/python3.9/site-packages/sklearn/metrics/_classification.py:1334: UndefinedMetricWarning: Recall and F-score are ill-defined and being set to 0.0 in labels with no true samples. Use `zero_division` parameter to control this behavior.\n",
      "  _warn_prf(average, modifier, msg_start, len(result))\n",
      "                                                 \n",
      " 33%|███▎      | 219/657 [00:57<01:54,  3.84it/s]\n",
      "\u001b[32m[I 2023-06-11 19:05:51,739]\u001b[0m Trial 9 pruned. \u001b[0m\n",
      "Trial: {'learning_rate': 7.868669729079346e-05, 'num_train_epochs': 15}\n"
     ]
    },
    {
     "name": "stdout",
     "output_type": "stream",
     "text": [
      "{'eval_loss': 0.3550958037376404, 'eval_accuracy': 0.4594594594594595, 'eval_f1': 0.3090909090909091, 'eval_precision': 0.3090909090909091, 'eval_recall': 0.3090909090909091, 'eval_slot': 0.8039928587058807, 'eval_slot_accuracy': 0.7297297297297297, 'eval_runtime': 2.7791, 'eval_samples_per_second': 13.314, 'eval_steps_per_second': 6.837, 'epoch': 3.0}\n"
     ]
    },
    {
     "name": "stderr",
     "output_type": "stream",
     "text": [
      "loading configuration file config.json from cache at /home/ppibot/.cache/huggingface/hub/models--google--flan-t5-base/snapshots/c782cba52f8ea6a704240578055cf1c3fc2f2ca9/config.json\n",
      "Model config T5Config {\n",
      "  \"_name_or_path\": \"google/flan-t5-base\",\n",
      "  \"architectures\": [\n",
      "    \"T5ForConditionalGeneration\"\n",
      "  ],\n",
      "  \"d_ff\": 2048,\n",
      "  \"d_kv\": 64,\n",
      "  \"d_model\": 768,\n",
      "  \"decoder_start_token_id\": 0,\n",
      "  \"dense_act_fn\": \"gelu_new\",\n",
      "  \"dropout_rate\": 0.1,\n",
      "  \"eos_token_id\": 1,\n",
      "  \"feed_forward_proj\": \"gated-gelu\",\n",
      "  \"initializer_factor\": 1.0,\n",
      "  \"is_encoder_decoder\": true,\n",
      "  \"is_gated_act\": true,\n",
      "  \"layer_norm_epsilon\": 1e-06,\n",
      "  \"model_type\": \"t5\",\n",
      "  \"n_positions\": 512,\n",
      "  \"num_decoder_layers\": 12,\n",
      "  \"num_heads\": 12,\n",
      "  \"num_layers\": 12,\n",
      "  \"output_past\": true,\n",
      "  \"pad_token_id\": 0,\n",
      "  \"relative_attention_max_distance\": 128,\n",
      "  \"relative_attention_num_buckets\": 32,\n",
      "  \"task_specific_params\": {\n",
      "    \"summarization\": {\n",
      "      \"early_stopping\": true,\n",
      "      \"length_penalty\": 2.0,\n",
      "      \"max_length\": 200,\n",
      "      \"min_length\": 30,\n",
      "      \"no_repeat_ngram_size\": 3,\n",
      "      \"num_beams\": 4,\n",
      "      \"prefix\": \"summarize: \"\n",
      "    },\n",
      "    \"translation_en_to_de\": {\n",
      "      \"early_stopping\": true,\n",
      "      \"max_length\": 300,\n",
      "      \"num_beams\": 4,\n",
      "      \"prefix\": \"translate English to German: \"\n",
      "    },\n",
      "    \"translation_en_to_fr\": {\n",
      "      \"early_stopping\": true,\n",
      "      \"max_length\": 300,\n",
      "      \"num_beams\": 4,\n",
      "      \"prefix\": \"translate English to French: \"\n",
      "    },\n",
      "    \"translation_en_to_ro\": {\n",
      "      \"early_stopping\": true,\n",
      "      \"max_length\": 300,\n",
      "      \"num_beams\": 4,\n",
      "      \"prefix\": \"translate English to Romanian: \"\n",
      "    }\n",
      "  },\n",
      "  \"tie_word_embeddings\": false,\n",
      "  \"transformers_version\": \"4.24.0\",\n",
      "  \"use_cache\": true,\n",
      "  \"vocab_size\": 32128\n",
      "}\n",
      "\n",
      "loading weights file pytorch_model.bin from cache at /home/ppibot/.cache/huggingface/hub/models--google--flan-t5-base/snapshots/c782cba52f8ea6a704240578055cf1c3fc2f2ca9/pytorch_model.bin\n",
      "All model checkpoint weights were used when initializing T5ForConditionalGeneration.\n",
      "\n",
      "All the weights of T5ForConditionalGeneration were initialized from the model checkpoint at google/flan-t5-base.\n",
      "If your task is similar to the task the model of the checkpoint was trained on, you can already use T5ForConditionalGeneration for predictions without further training.\n",
      "/home/ppibot/anaconda3/envs/myenv/lib/python3.9/site-packages/transformers/optimization.py:306: FutureWarning: This implementation of AdamW is deprecated and will be removed in a future version. Use the PyTorch implementation torch.optim.AdamW instead, or set `no_deprecation_warning=True` to disable this warning\n",
      "  warnings.warn(\n",
      "***** Running training *****\n",
      "  Num examples = 146\n",
      "  Num Epochs = 15\n",
      "  Instantaneous batch size per device = 2\n",
      "  Total train batch size (w. parallel, distributed & accumulation) = 2\n",
      "  Gradient Accumulation steps = 1\n",
      "  Total optimization steps = 1095\n",
      "  Number of trainable parameters = 247577856\n",
      "  7%|▋         | 73/1095 [00:14<03:22,  5.04it/s]***** Running Evaluation *****\n",
      "  Num examples = 37\n",
      "  Batch size = 2\n",
      "/home/ppibot/anaconda3/envs/myenv/lib/python3.9/site-packages/sklearn/metrics/_classification.py:1334: UndefinedMetricWarning: Precision and F-score are ill-defined and being set to 0.0 in labels with no predicted samples. Use `zero_division` parameter to control this behavior.\n",
      "  _warn_prf(average, modifier, msg_start, len(result))\n",
      "/home/ppibot/anaconda3/envs/myenv/lib/python3.9/site-packages/sklearn/metrics/_classification.py:1334: UndefinedMetricWarning: Recall and F-score are ill-defined and being set to 0.0 in labels with no true samples. Use `zero_division` parameter to control this behavior.\n",
      "  _warn_prf(average, modifier, msg_start, len(result))\n",
      "                                                 \n",
      "  7%|▋         | 73/1095 [00:17<03:22,  5.04it/s]Saving model checkpoint to ./model/run-10/checkpoint-73\n",
      "Configuration saved in ./model/run-10/checkpoint-73/config.json\n"
     ]
    },
    {
     "name": "stdout",
     "output_type": "stream",
     "text": [
      "{'eval_loss': 0.40380650758743286, 'eval_accuracy': 0.2972972972972973, 'eval_f1': 0.1746031746031746, 'eval_precision': 0.1746031746031746, 'eval_recall': 0.1746031746031746, 'eval_slot': 0.7246687243915169, 'eval_slot_accuracy': 0.5990990990990991, 'eval_runtime': 2.8508, 'eval_samples_per_second': 12.979, 'eval_steps_per_second': 6.665, 'epoch': 1.0}\n"
     ]
    },
    {
     "name": "stderr",
     "output_type": "stream",
     "text": [
      "Model weights saved in ./model/run-10/checkpoint-73/pytorch_model.bin\n",
      " 13%|█▎        | 146/1095 [00:34<03:07,  5.06it/s]***** Running Evaluation *****\n",
      "  Num examples = 37\n",
      "  Batch size = 2\n",
      "/home/ppibot/anaconda3/envs/myenv/lib/python3.9/site-packages/sklearn/metrics/_classification.py:1334: UndefinedMetricWarning: Precision and F-score are ill-defined and being set to 0.0 in labels with no predicted samples. Use `zero_division` parameter to control this behavior.\n",
      "  _warn_prf(average, modifier, msg_start, len(result))\n",
      "/home/ppibot/anaconda3/envs/myenv/lib/python3.9/site-packages/sklearn/metrics/_classification.py:1334: UndefinedMetricWarning: Recall and F-score are ill-defined and being set to 0.0 in labels with no true samples. Use `zero_division` parameter to control this behavior.\n",
      "  _warn_prf(average, modifier, msg_start, len(result))\n",
      "                                                  \n",
      " 13%|█▎        | 146/1095 [00:36<03:07,  5.06it/s]Saving model checkpoint to ./model/run-10/checkpoint-146\n",
      "Configuration saved in ./model/run-10/checkpoint-146/config.json\n"
     ]
    },
    {
     "name": "stdout",
     "output_type": "stream",
     "text": [
      "{'eval_loss': 0.35723987221717834, 'eval_accuracy': 0.43243243243243246, 'eval_f1': 0.27586206896551724, 'eval_precision': 0.27586206896551724, 'eval_recall': 0.27586206896551724, 'eval_slot': 0.7491101424938299, 'eval_slot_accuracy': 0.6801801801801801, 'eval_runtime': 2.7311, 'eval_samples_per_second': 13.548, 'eval_steps_per_second': 6.957, 'epoch': 2.0}\n"
     ]
    },
    {
     "name": "stderr",
     "output_type": "stream",
     "text": [
      "Model weights saved in ./model/run-10/checkpoint-146/pytorch_model.bin\n",
      " 20%|██        | 219/1095 [00:53<02:53,  5.06it/s]***** Running Evaluation *****\n",
      "  Num examples = 37\n",
      "  Batch size = 2\n",
      "/home/ppibot/anaconda3/envs/myenv/lib/python3.9/site-packages/sklearn/metrics/_classification.py:1334: UndefinedMetricWarning: Precision and F-score are ill-defined and being set to 0.0 in labels with no predicted samples. Use `zero_division` parameter to control this behavior.\n",
      "  _warn_prf(average, modifier, msg_start, len(result))\n",
      "/home/ppibot/anaconda3/envs/myenv/lib/python3.9/site-packages/sklearn/metrics/_classification.py:1334: UndefinedMetricWarning: Recall and F-score are ill-defined and being set to 0.0 in labels with no true samples. Use `zero_division` parameter to control this behavior.\n",
      "  _warn_prf(average, modifier, msg_start, len(result))\n",
      "                                                  \n",
      " 20%|██        | 219/1095 [00:55<02:53,  5.06it/s]Saving model checkpoint to ./model/run-10/checkpoint-219\n",
      "Configuration saved in ./model/run-10/checkpoint-219/config.json\n"
     ]
    },
    {
     "name": "stdout",
     "output_type": "stream",
     "text": [
      "{'eval_loss': 0.29541027545928955, 'eval_accuracy': 0.6216216216216216, 'eval_f1': 0.45098039215686275, 'eval_precision': 0.45098039215686275, 'eval_recall': 0.45098039215686275, 'eval_slot': 0.86637621691501, 'eval_slot_accuracy': 0.7927927927927928, 'eval_runtime': 2.7291, 'eval_samples_per_second': 13.558, 'eval_steps_per_second': 6.962, 'epoch': 3.0}\n"
     ]
    },
    {
     "name": "stderr",
     "output_type": "stream",
     "text": [
      "Model weights saved in ./model/run-10/checkpoint-219/pytorch_model.bin\n",
      " 27%|██▋       | 292/1095 [01:12<02:39,  5.05it/s]***** Running Evaluation *****\n",
      "  Num examples = 37\n",
      "  Batch size = 2\n",
      "/home/ppibot/anaconda3/envs/myenv/lib/python3.9/site-packages/sklearn/metrics/_classification.py:1334: UndefinedMetricWarning: Precision and F-score are ill-defined and being set to 0.0 in labels with no predicted samples. Use `zero_division` parameter to control this behavior.\n",
      "  _warn_prf(average, modifier, msg_start, len(result))\n",
      "/home/ppibot/anaconda3/envs/myenv/lib/python3.9/site-packages/sklearn/metrics/_classification.py:1334: UndefinedMetricWarning: Recall and F-score are ill-defined and being set to 0.0 in labels with no true samples. Use `zero_division` parameter to control this behavior.\n",
      "  _warn_prf(average, modifier, msg_start, len(result))\n",
      "                                                  \n",
      " 27%|██▋       | 292/1095 [01:15<02:39,  5.05it/s]Saving model checkpoint to ./model/run-10/checkpoint-292\n",
      "Configuration saved in ./model/run-10/checkpoint-292/config.json\n"
     ]
    },
    {
     "name": "stdout",
     "output_type": "stream",
     "text": [
      "{'eval_loss': 0.30094805359840393, 'eval_accuracy': 0.6216216216216216, 'eval_f1': 0.45098039215686275, 'eval_precision': 0.45098039215686275, 'eval_recall': 0.45098039215686275, 'eval_slot': 0.8577442385442168, 'eval_slot_accuracy': 0.7702702702702703, 'eval_runtime': 3.0642, 'eval_samples_per_second': 12.075, 'eval_steps_per_second': 6.201, 'epoch': 4.0}\n"
     ]
    },
    {
     "name": "stderr",
     "output_type": "stream",
     "text": [
      "Model weights saved in ./model/run-10/checkpoint-292/pytorch_model.bin\n",
      " 33%|███▎      | 365/1095 [01:32<02:24,  5.06it/s]***** Running Evaluation *****\n",
      "  Num examples = 37\n",
      "  Batch size = 2\n",
      "/home/ppibot/anaconda3/envs/myenv/lib/python3.9/site-packages/sklearn/metrics/_classification.py:1334: UndefinedMetricWarning: Precision and F-score are ill-defined and being set to 0.0 in labels with no predicted samples. Use `zero_division` parameter to control this behavior.\n",
      "  _warn_prf(average, modifier, msg_start, len(result))\n",
      "/home/ppibot/anaconda3/envs/myenv/lib/python3.9/site-packages/sklearn/metrics/_classification.py:1334: UndefinedMetricWarning: Recall and F-score are ill-defined and being set to 0.0 in labels with no true samples. Use `zero_division` parameter to control this behavior.\n",
      "  _warn_prf(average, modifier, msg_start, len(result))\n",
      "                                                  \n",
      " 33%|███▎      | 365/1095 [01:35<02:24,  5.06it/s]Saving model checkpoint to ./model/run-10/checkpoint-365\n",
      "Configuration saved in ./model/run-10/checkpoint-365/config.json\n"
     ]
    },
    {
     "name": "stdout",
     "output_type": "stream",
     "text": [
      "{'eval_loss': 0.37103357911109924, 'eval_accuracy': 0.6486486486486487, 'eval_f1': 0.48, 'eval_precision': 0.48, 'eval_recall': 0.48, 'eval_slot': 0.8634833837136469, 'eval_slot_accuracy': 0.7972972972972973, 'eval_runtime': 2.7604, 'eval_samples_per_second': 13.404, 'eval_steps_per_second': 6.883, 'epoch': 5.0}\n"
     ]
    },
    {
     "name": "stderr",
     "output_type": "stream",
     "text": [
      "Model weights saved in ./model/run-10/checkpoint-365/pytorch_model.bin\n",
      " 40%|████      | 438/1095 [01:51<02:09,  5.07it/s]***** Running Evaluation *****\n",
      "  Num examples = 37\n",
      "  Batch size = 2\n",
      "/home/ppibot/anaconda3/envs/myenv/lib/python3.9/site-packages/sklearn/metrics/_classification.py:1334: UndefinedMetricWarning: Precision and F-score are ill-defined and being set to 0.0 in labels with no predicted samples. Use `zero_division` parameter to control this behavior.\n",
      "  _warn_prf(average, modifier, msg_start, len(result))\n",
      "/home/ppibot/anaconda3/envs/myenv/lib/python3.9/site-packages/sklearn/metrics/_classification.py:1334: UndefinedMetricWarning: Recall and F-score are ill-defined and being set to 0.0 in labels with no true samples. Use `zero_division` parameter to control this behavior.\n",
      "  _warn_prf(average, modifier, msg_start, len(result))\n",
      "                                                  \n",
      " 40%|████      | 438/1095 [01:54<02:09,  5.07it/s]Saving model checkpoint to ./model/run-10/checkpoint-438\n",
      "Configuration saved in ./model/run-10/checkpoint-438/config.json\n"
     ]
    },
    {
     "name": "stdout",
     "output_type": "stream",
     "text": [
      "{'eval_loss': 0.3713569641113281, 'eval_accuracy': 0.6756756756756757, 'eval_f1': 0.5102040816326531, 'eval_precision': 0.5102040816326531, 'eval_recall': 0.5102040816326531, 'eval_slot': 0.908528428758692, 'eval_slot_accuracy': 0.8378378378378378, 'eval_runtime': 2.7318, 'eval_samples_per_second': 13.544, 'eval_steps_per_second': 6.955, 'epoch': 6.0}\n"
     ]
    },
    {
     "name": "stderr",
     "output_type": "stream",
     "text": [
      "Model weights saved in ./model/run-10/checkpoint-438/pytorch_model.bin\n",
      " 46%|████▌     | 501/1095 [02:08<01:58,  5.01it/s]"
     ]
    },
    {
     "name": "stdout",
     "output_type": "stream",
     "text": [
      "{'loss': 0.283, 'learning_rate': 4.2756698527874075e-05, 'epoch': 6.85}\n"
     ]
    },
    {
     "name": "stderr",
     "output_type": "stream",
     "text": [
      " 47%|████▋     | 511/1095 [02:10<01:55,  5.03it/s]***** Running Evaluation *****\n",
      "  Num examples = 37\n",
      "  Batch size = 2\n",
      "/home/ppibot/anaconda3/envs/myenv/lib/python3.9/site-packages/sklearn/metrics/_classification.py:1334: UndefinedMetricWarning: Precision and F-score are ill-defined and being set to 0.0 in labels with no predicted samples. Use `zero_division` parameter to control this behavior.\n",
      "  _warn_prf(average, modifier, msg_start, len(result))\n",
      "/home/ppibot/anaconda3/envs/myenv/lib/python3.9/site-packages/sklearn/metrics/_classification.py:1334: UndefinedMetricWarning: Recall and F-score are ill-defined and being set to 0.0 in labels with no true samples. Use `zero_division` parameter to control this behavior.\n",
      "  _warn_prf(average, modifier, msg_start, len(result))\n",
      "                                                  \n",
      " 47%|████▋     | 511/1095 [02:13<01:55,  5.03it/s]Saving model checkpoint to ./model/run-10/checkpoint-511\n",
      "Configuration saved in ./model/run-10/checkpoint-511/config.json\n"
     ]
    },
    {
     "name": "stdout",
     "output_type": "stream",
     "text": [
      "{'eval_loss': 0.35360270738601685, 'eval_accuracy': 0.6486486486486487, 'eval_f1': 0.48, 'eval_precision': 0.48, 'eval_recall': 0.48, 'eval_slot': 0.8738126785257002, 'eval_slot_accuracy': 0.7972972972972973, 'eval_runtime': 2.9185, 'eval_samples_per_second': 12.678, 'eval_steps_per_second': 6.51, 'epoch': 7.0}\n"
     ]
    },
    {
     "name": "stderr",
     "output_type": "stream",
     "text": [
      "Model weights saved in ./model/run-10/checkpoint-511/pytorch_model.bin\n",
      " 53%|█████▎    | 584/1095 [02:30<01:40,  5.06it/s]***** Running Evaluation *****\n",
      "  Num examples = 37\n",
      "  Batch size = 2\n",
      "/home/ppibot/anaconda3/envs/myenv/lib/python3.9/site-packages/sklearn/metrics/_classification.py:1334: UndefinedMetricWarning: Precision and F-score are ill-defined and being set to 0.0 in labels with no predicted samples. Use `zero_division` parameter to control this behavior.\n",
      "  _warn_prf(average, modifier, msg_start, len(result))\n",
      "/home/ppibot/anaconda3/envs/myenv/lib/python3.9/site-packages/sklearn/metrics/_classification.py:1334: UndefinedMetricWarning: Recall and F-score are ill-defined and being set to 0.0 in labels with no true samples. Use `zero_division` parameter to control this behavior.\n",
      "  _warn_prf(average, modifier, msg_start, len(result))\n",
      "                                                  \n",
      " 53%|█████▎    | 584/1095 [02:33<01:40,  5.06it/s]Saving model checkpoint to ./model/run-10/checkpoint-584\n",
      "Configuration saved in ./model/run-10/checkpoint-584/config.json\n"
     ]
    },
    {
     "name": "stdout",
     "output_type": "stream",
     "text": [
      "{'eval_loss': 0.39154720306396484, 'eval_accuracy': 0.6486486486486487, 'eval_f1': 0.48, 'eval_precision': 0.48, 'eval_recall': 0.48, 'eval_slot': 0.8843719390849608, 'eval_slot_accuracy': 0.8063063063063063, 'eval_runtime': 2.8859, 'eval_samples_per_second': 12.821, 'eval_steps_per_second': 6.584, 'epoch': 8.0}\n"
     ]
    },
    {
     "name": "stderr",
     "output_type": "stream",
     "text": [
      "Model weights saved in ./model/run-10/checkpoint-584/pytorch_model.bin\n",
      " 60%|██████    | 657/1095 [02:51<01:26,  5.06it/s]***** Running Evaluation *****\n",
      "  Num examples = 37\n",
      "  Batch size = 2\n",
      "/home/ppibot/anaconda3/envs/myenv/lib/python3.9/site-packages/sklearn/metrics/_classification.py:1334: UndefinedMetricWarning: Precision and F-score are ill-defined and being set to 0.0 in labels with no predicted samples. Use `zero_division` parameter to control this behavior.\n",
      "  _warn_prf(average, modifier, msg_start, len(result))\n",
      "/home/ppibot/anaconda3/envs/myenv/lib/python3.9/site-packages/sklearn/metrics/_classification.py:1334: UndefinedMetricWarning: Recall and F-score are ill-defined and being set to 0.0 in labels with no true samples. Use `zero_division` parameter to control this behavior.\n",
      "  _warn_prf(average, modifier, msg_start, len(result))\n",
      "                                                  \n",
      " 60%|██████    | 657/1095 [02:54<01:26,  5.06it/s]Saving model checkpoint to ./model/run-10/checkpoint-657\n",
      "Configuration saved in ./model/run-10/checkpoint-657/config.json\n"
     ]
    },
    {
     "name": "stdout",
     "output_type": "stream",
     "text": [
      "{'eval_loss': 0.4563937187194824, 'eval_accuracy': 0.6486486486486487, 'eval_f1': 0.48, 'eval_precision': 0.48, 'eval_recall': 0.48, 'eval_slot': 0.8581692044864242, 'eval_slot_accuracy': 0.7837837837837838, 'eval_runtime': 2.7687, 'eval_samples_per_second': 13.364, 'eval_steps_per_second': 6.862, 'epoch': 9.0}\n"
     ]
    },
    {
     "name": "stderr",
     "output_type": "stream",
     "text": [
      "Model weights saved in ./model/run-10/checkpoint-657/pytorch_model.bin\n",
      " 67%|██████▋   | 730/1095 [03:10<01:12,  5.06it/s]***** Running Evaluation *****\n",
      "  Num examples = 37\n",
      "  Batch size = 2\n",
      "/home/ppibot/anaconda3/envs/myenv/lib/python3.9/site-packages/sklearn/metrics/_classification.py:1334: UndefinedMetricWarning: Precision and F-score are ill-defined and being set to 0.0 in labels with no predicted samples. Use `zero_division` parameter to control this behavior.\n",
      "  _warn_prf(average, modifier, msg_start, len(result))\n",
      "/home/ppibot/anaconda3/envs/myenv/lib/python3.9/site-packages/sklearn/metrics/_classification.py:1334: UndefinedMetricWarning: Recall and F-score are ill-defined and being set to 0.0 in labels with no true samples. Use `zero_division` parameter to control this behavior.\n",
      "  _warn_prf(average, modifier, msg_start, len(result))\n",
      "                                                  \n",
      " 67%|██████▋   | 730/1095 [03:13<01:12,  5.06it/s]"
     ]
    },
    {
     "name": "stdout",
     "output_type": "stream",
     "text": [
      "{'eval_loss': 0.434127539396286, 'eval_accuracy': 0.6486486486486487, 'eval_f1': 0.48, 'eval_precision': 0.48, 'eval_recall': 0.48, 'eval_slot': 0.8592908795211426, 'eval_slot_accuracy': 0.7972972972972973, 'eval_runtime': 2.8661, 'eval_samples_per_second': 12.91, 'eval_steps_per_second': 6.629, 'epoch': 10.0}\n"
     ]
    },
    {
     "name": "stderr",
     "output_type": "stream",
     "text": [
      "Saving model checkpoint to ./model/run-10/checkpoint-730\n",
      "Configuration saved in ./model/run-10/checkpoint-730/config.json\n",
      "Model weights saved in ./model/run-10/checkpoint-730/pytorch_model.bin\n",
      " 73%|███████▎  | 803/1095 [03:30<00:57,  5.07it/s]***** Running Evaluation *****\n",
      "  Num examples = 37\n",
      "  Batch size = 2\n",
      "/home/ppibot/anaconda3/envs/myenv/lib/python3.9/site-packages/sklearn/metrics/_classification.py:1334: UndefinedMetricWarning: Precision and F-score are ill-defined and being set to 0.0 in labels with no predicted samples. Use `zero_division` parameter to control this behavior.\n",
      "  _warn_prf(average, modifier, msg_start, len(result))\n",
      "/home/ppibot/anaconda3/envs/myenv/lib/python3.9/site-packages/sklearn/metrics/_classification.py:1334: UndefinedMetricWarning: Recall and F-score are ill-defined and being set to 0.0 in labels with no true samples. Use `zero_division` parameter to control this behavior.\n",
      "  _warn_prf(average, modifier, msg_start, len(result))\n",
      "                                                  \n",
      " 73%|███████▎  | 803/1095 [03:33<00:57,  5.07it/s]Saving model checkpoint to ./model/run-10/checkpoint-803\n",
      "Configuration saved in ./model/run-10/checkpoint-803/config.json\n"
     ]
    },
    {
     "name": "stdout",
     "output_type": "stream",
     "text": [
      "{'eval_loss': 0.4524787664413452, 'eval_accuracy': 0.6486486486486487, 'eval_f1': 0.48, 'eval_precision': 0.48, 'eval_recall': 0.48, 'eval_slot': 0.8717806420109052, 'eval_slot_accuracy': 0.7972972972972973, 'eval_runtime': 2.9431, 'eval_samples_per_second': 12.572, 'eval_steps_per_second': 6.456, 'epoch': 11.0}\n"
     ]
    },
    {
     "name": "stderr",
     "output_type": "stream",
     "text": [
      "Model weights saved in ./model/run-10/checkpoint-803/pytorch_model.bin\n",
      " 80%|████████  | 876/1095 [03:51<00:43,  5.05it/s]***** Running Evaluation *****\n",
      "  Num examples = 37\n",
      "  Batch size = 2\n",
      "/home/ppibot/anaconda3/envs/myenv/lib/python3.9/site-packages/sklearn/metrics/_classification.py:1334: UndefinedMetricWarning: Precision and F-score are ill-defined and being set to 0.0 in labels with no predicted samples. Use `zero_division` parameter to control this behavior.\n",
      "  _warn_prf(average, modifier, msg_start, len(result))\n",
      "/home/ppibot/anaconda3/envs/myenv/lib/python3.9/site-packages/sklearn/metrics/_classification.py:1334: UndefinedMetricWarning: Recall and F-score are ill-defined and being set to 0.0 in labels with no true samples. Use `zero_division` parameter to control this behavior.\n",
      "  _warn_prf(average, modifier, msg_start, len(result))\n",
      "                                                  \n",
      " 80%|████████  | 876/1095 [03:54<00:43,  5.05it/s]Saving model checkpoint to ./model/run-10/checkpoint-876\n",
      "Configuration saved in ./model/run-10/checkpoint-876/config.json\n"
     ]
    },
    {
     "name": "stdout",
     "output_type": "stream",
     "text": [
      "{'eval_loss': 0.4399341940879822, 'eval_accuracy': 0.6756756756756757, 'eval_f1': 0.5102040816326531, 'eval_precision': 0.5102040816326531, 'eval_recall': 0.5102040816326531, 'eval_slot': 0.870552140782404, 'eval_slot_accuracy': 0.7972972972972973, 'eval_runtime': 2.7317, 'eval_samples_per_second': 13.545, 'eval_steps_per_second': 6.955, 'epoch': 12.0}\n"
     ]
    },
    {
     "name": "stderr",
     "output_type": "stream",
     "text": [
      "Model weights saved in ./model/run-10/checkpoint-876/pytorch_model.bin\n",
      " 87%|████████▋ | 949/1095 [04:14<00:28,  5.07it/s]***** Running Evaluation *****\n",
      "  Num examples = 37\n",
      "  Batch size = 2\n",
      "/home/ppibot/anaconda3/envs/myenv/lib/python3.9/site-packages/sklearn/metrics/_classification.py:1334: UndefinedMetricWarning: Precision and F-score are ill-defined and being set to 0.0 in labels with no predicted samples. Use `zero_division` parameter to control this behavior.\n",
      "  _warn_prf(average, modifier, msg_start, len(result))\n",
      "/home/ppibot/anaconda3/envs/myenv/lib/python3.9/site-packages/sklearn/metrics/_classification.py:1334: UndefinedMetricWarning: Recall and F-score are ill-defined and being set to 0.0 in labels with no true samples. Use `zero_division` parameter to control this behavior.\n",
      "  _warn_prf(average, modifier, msg_start, len(result))\n",
      "                                                  \n",
      " 87%|████████▋ | 949/1095 [04:17<00:28,  5.07it/s]Saving model checkpoint to ./model/run-10/checkpoint-949\n",
      "Configuration saved in ./model/run-10/checkpoint-949/config.json\n"
     ]
    },
    {
     "name": "stdout",
     "output_type": "stream",
     "text": [
      "{'eval_loss': 0.44080591201782227, 'eval_accuracy': 0.7027027027027027, 'eval_f1': 0.5416666666666666, 'eval_precision': 0.5416666666666666, 'eval_recall': 0.5416666666666666, 'eval_slot': 0.9013816716119347, 'eval_slot_accuracy': 0.8333333333333333, 'eval_runtime': 2.7974, 'eval_samples_per_second': 13.227, 'eval_steps_per_second': 6.792, 'epoch': 13.0}\n"
     ]
    },
    {
     "name": "stderr",
     "output_type": "stream",
     "text": [
      "Model weights saved in ./model/run-10/checkpoint-949/pytorch_model.bin\n",
      " 91%|█████████▏| 1001/1095 [04:32<00:18,  5.04it/s]"
     ]
    },
    {
     "name": "stdout",
     "output_type": "stream",
     "text": [
      "{'loss': 0.0248, 'learning_rate': 6.826699764954684e-06, 'epoch': 13.7}\n"
     ]
    },
    {
     "name": "stderr",
     "output_type": "stream",
     "text": [
      " 93%|█████████▎| 1022/1095 [04:36<00:14,  5.06it/s]***** Running Evaluation *****\n",
      "  Num examples = 37\n",
      "  Batch size = 2\n",
      "/home/ppibot/anaconda3/envs/myenv/lib/python3.9/site-packages/sklearn/metrics/_classification.py:1334: UndefinedMetricWarning: Precision and F-score are ill-defined and being set to 0.0 in labels with no predicted samples. Use `zero_division` parameter to control this behavior.\n",
      "  _warn_prf(average, modifier, msg_start, len(result))\n",
      "/home/ppibot/anaconda3/envs/myenv/lib/python3.9/site-packages/sklearn/metrics/_classification.py:1334: UndefinedMetricWarning: Recall and F-score are ill-defined and being set to 0.0 in labels with no true samples. Use `zero_division` parameter to control this behavior.\n",
      "  _warn_prf(average, modifier, msg_start, len(result))\n",
      "                                                   \n",
      " 93%|█████████▎| 1022/1095 [04:39<00:14,  5.06it/s]Saving model checkpoint to ./model/run-10/checkpoint-1022\n",
      "Configuration saved in ./model/run-10/checkpoint-1022/config.json\n"
     ]
    },
    {
     "name": "stdout",
     "output_type": "stream",
     "text": [
      "{'eval_loss': 0.41925668716430664, 'eval_accuracy': 0.7027027027027027, 'eval_f1': 0.5416666666666666, 'eval_precision': 0.5416666666666666, 'eval_recall': 0.5416666666666666, 'eval_slot': 0.9013816716119347, 'eval_slot_accuracy': 0.8333333333333333, 'eval_runtime': 2.7482, 'eval_samples_per_second': 13.463, 'eval_steps_per_second': 6.914, 'epoch': 14.0}\n"
     ]
    },
    {
     "name": "stderr",
     "output_type": "stream",
     "text": [
      "Model weights saved in ./model/run-10/checkpoint-1022/pytorch_model.bin\n",
      "100%|██████████| 1095/1095 [04:56<00:00,  5.07it/s]***** Running Evaluation *****\n",
      "  Num examples = 37\n",
      "  Batch size = 2\n",
      "/home/ppibot/anaconda3/envs/myenv/lib/python3.9/site-packages/sklearn/metrics/_classification.py:1334: UndefinedMetricWarning: Precision and F-score are ill-defined and being set to 0.0 in labels with no predicted samples. Use `zero_division` parameter to control this behavior.\n",
      "  _warn_prf(average, modifier, msg_start, len(result))\n",
      "/home/ppibot/anaconda3/envs/myenv/lib/python3.9/site-packages/sklearn/metrics/_classification.py:1334: UndefinedMetricWarning: Recall and F-score are ill-defined and being set to 0.0 in labels with no true samples. Use `zero_division` parameter to control this behavior.\n",
      "  _warn_prf(average, modifier, msg_start, len(result))\n",
      "                                                   \n",
      "100%|██████████| 1095/1095 [04:59<00:00,  5.07it/s]Saving model checkpoint to ./model/run-10/checkpoint-1095\n",
      "Configuration saved in ./model/run-10/checkpoint-1095/config.json\n"
     ]
    },
    {
     "name": "stdout",
     "output_type": "stream",
     "text": [
      "{'eval_loss': 0.4187382757663727, 'eval_accuracy': 0.6756756756756757, 'eval_f1': 0.5102040816326531, 'eval_precision': 0.5102040816326531, 'eval_recall': 0.5102040816326531, 'eval_slot': 0.9013816716119347, 'eval_slot_accuracy': 0.8333333333333333, 'eval_runtime': 2.8431, 'eval_samples_per_second': 13.014, 'eval_steps_per_second': 6.683, 'epoch': 15.0}\n"
     ]
    },
    {
     "name": "stderr",
     "output_type": "stream",
     "text": [
      "Model weights saved in ./model/run-10/checkpoint-1095/pytorch_model.bin\n",
      "\n",
      "\n",
      "Training completed. Do not forget to share your model on huggingface.co/models =)\n",
      "\n",
      "\n",
      "Loading best model from ./model/run-10/checkpoint-438 (score: 0.8378378378378378).\n",
      "100%|██████████| 1095/1095 [05:09<00:00,  3.54it/s]\n",
      "\u001b[32m[I 2023-06-11 19:11:02,901]\u001b[0m Trial 10 finished with value: 0.8333333333333333 and parameters: {'learning_rate': 7.868669729079346e-05, 'num_train_epochs': 15}. Best is trial 3 with value: 0.8333333333333333.\u001b[0m\n",
      "Trial: {'learning_rate': 9.450559422241211e-05, 'num_train_epochs': 15}\n"
     ]
    },
    {
     "name": "stdout",
     "output_type": "stream",
     "text": [
      "{'train_runtime': 309.7128, 'train_samples_per_second': 7.071, 'train_steps_per_second': 3.536, 'train_loss': 0.1417587103909009, 'epoch': 15.0}\n"
     ]
    },
    {
     "name": "stderr",
     "output_type": "stream",
     "text": [
      "loading configuration file config.json from cache at /home/ppibot/.cache/huggingface/hub/models--google--flan-t5-base/snapshots/c782cba52f8ea6a704240578055cf1c3fc2f2ca9/config.json\n",
      "Model config T5Config {\n",
      "  \"_name_or_path\": \"google/flan-t5-base\",\n",
      "  \"architectures\": [\n",
      "    \"T5ForConditionalGeneration\"\n",
      "  ],\n",
      "  \"d_ff\": 2048,\n",
      "  \"d_kv\": 64,\n",
      "  \"d_model\": 768,\n",
      "  \"decoder_start_token_id\": 0,\n",
      "  \"dense_act_fn\": \"gelu_new\",\n",
      "  \"dropout_rate\": 0.1,\n",
      "  \"eos_token_id\": 1,\n",
      "  \"feed_forward_proj\": \"gated-gelu\",\n",
      "  \"initializer_factor\": 1.0,\n",
      "  \"is_encoder_decoder\": true,\n",
      "  \"is_gated_act\": true,\n",
      "  \"layer_norm_epsilon\": 1e-06,\n",
      "  \"model_type\": \"t5\",\n",
      "  \"n_positions\": 512,\n",
      "  \"num_decoder_layers\": 12,\n",
      "  \"num_heads\": 12,\n",
      "  \"num_layers\": 12,\n",
      "  \"output_past\": true,\n",
      "  \"pad_token_id\": 0,\n",
      "  \"relative_attention_max_distance\": 128,\n",
      "  \"relative_attention_num_buckets\": 32,\n",
      "  \"task_specific_params\": {\n",
      "    \"summarization\": {\n",
      "      \"early_stopping\": true,\n",
      "      \"length_penalty\": 2.0,\n",
      "      \"max_length\": 200,\n",
      "      \"min_length\": 30,\n",
      "      \"no_repeat_ngram_size\": 3,\n",
      "      \"num_beams\": 4,\n",
      "      \"prefix\": \"summarize: \"\n",
      "    },\n",
      "    \"translation_en_to_de\": {\n",
      "      \"early_stopping\": true,\n",
      "      \"max_length\": 300,\n",
      "      \"num_beams\": 4,\n",
      "      \"prefix\": \"translate English to German: \"\n",
      "    },\n",
      "    \"translation_en_to_fr\": {\n",
      "      \"early_stopping\": true,\n",
      "      \"max_length\": 300,\n",
      "      \"num_beams\": 4,\n",
      "      \"prefix\": \"translate English to French: \"\n",
      "    },\n",
      "    \"translation_en_to_ro\": {\n",
      "      \"early_stopping\": true,\n",
      "      \"max_length\": 300,\n",
      "      \"num_beams\": 4,\n",
      "      \"prefix\": \"translate English to Romanian: \"\n",
      "    }\n",
      "  },\n",
      "  \"tie_word_embeddings\": false,\n",
      "  \"transformers_version\": \"4.24.0\",\n",
      "  \"use_cache\": true,\n",
      "  \"vocab_size\": 32128\n",
      "}\n",
      "\n",
      "loading weights file pytorch_model.bin from cache at /home/ppibot/.cache/huggingface/hub/models--google--flan-t5-base/snapshots/c782cba52f8ea6a704240578055cf1c3fc2f2ca9/pytorch_model.bin\n",
      "All model checkpoint weights were used when initializing T5ForConditionalGeneration.\n",
      "\n",
      "All the weights of T5ForConditionalGeneration were initialized from the model checkpoint at google/flan-t5-base.\n",
      "If your task is similar to the task the model of the checkpoint was trained on, you can already use T5ForConditionalGeneration for predictions without further training.\n",
      "/home/ppibot/anaconda3/envs/myenv/lib/python3.9/site-packages/transformers/optimization.py:306: FutureWarning: This implementation of AdamW is deprecated and will be removed in a future version. Use the PyTorch implementation torch.optim.AdamW instead, or set `no_deprecation_warning=True` to disable this warning\n",
      "  warnings.warn(\n",
      "***** Running training *****\n",
      "  Num examples = 146\n",
      "  Num Epochs = 15\n",
      "  Instantaneous batch size per device = 2\n",
      "  Total train batch size (w. parallel, distributed & accumulation) = 2\n",
      "  Gradient Accumulation steps = 1\n",
      "  Total optimization steps = 1095\n",
      "  Number of trainable parameters = 247577856\n",
      "  7%|▋         | 73/1095 [00:14<03:21,  5.06it/s]***** Running Evaluation *****\n",
      "  Num examples = 37\n",
      "  Batch size = 2\n",
      "/home/ppibot/anaconda3/envs/myenv/lib/python3.9/site-packages/sklearn/metrics/_classification.py:1334: UndefinedMetricWarning: Precision and F-score are ill-defined and being set to 0.0 in labels with no predicted samples. Use `zero_division` parameter to control this behavior.\n",
      "  _warn_prf(average, modifier, msg_start, len(result))\n",
      "/home/ppibot/anaconda3/envs/myenv/lib/python3.9/site-packages/sklearn/metrics/_classification.py:1334: UndefinedMetricWarning: Recall and F-score are ill-defined and being set to 0.0 in labels with no true samples. Use `zero_division` parameter to control this behavior.\n",
      "  _warn_prf(average, modifier, msg_start, len(result))\n",
      "                                                 \n",
      "  7%|▋         | 73/1095 [00:17<03:21,  5.06it/s]Saving model checkpoint to ./model/run-11/checkpoint-73\n",
      "Configuration saved in ./model/run-11/checkpoint-73/config.json\n"
     ]
    },
    {
     "name": "stdout",
     "output_type": "stream",
     "text": [
      "{'eval_loss': 0.36733299493789673, 'eval_accuracy': 0.3783783783783784, 'eval_f1': 0.23333333333333334, 'eval_precision': 0.23333333333333334, 'eval_recall': 0.23333333333333334, 'eval_slot': 0.7315882489581004, 'eval_slot_accuracy': 0.6531531531531531, 'eval_runtime': 2.7644, 'eval_samples_per_second': 13.385, 'eval_steps_per_second': 6.873, 'epoch': 1.0}\n"
     ]
    },
    {
     "name": "stderr",
     "output_type": "stream",
     "text": [
      "Model weights saved in ./model/run-11/checkpoint-73/pytorch_model.bin\n",
      " 13%|█▎        | 146/1095 [00:40<03:07,  5.06it/s] ***** Running Evaluation *****\n",
      "  Num examples = 37\n",
      "  Batch size = 2\n",
      "/home/ppibot/anaconda3/envs/myenv/lib/python3.9/site-packages/sklearn/metrics/_classification.py:1334: UndefinedMetricWarning: Precision and F-score are ill-defined and being set to 0.0 in labels with no predicted samples. Use `zero_division` parameter to control this behavior.\n",
      "  _warn_prf(average, modifier, msg_start, len(result))\n",
      "/home/ppibot/anaconda3/envs/myenv/lib/python3.9/site-packages/sklearn/metrics/_classification.py:1334: UndefinedMetricWarning: Recall and F-score are ill-defined and being set to 0.0 in labels with no true samples. Use `zero_division` parameter to control this behavior.\n",
      "  _warn_prf(average, modifier, msg_start, len(result))\n",
      "                                                  \n",
      " 13%|█▎        | 146/1095 [00:43<03:07,  5.06it/s]Saving model checkpoint to ./model/run-11/checkpoint-146\n",
      "Configuration saved in ./model/run-11/checkpoint-146/config.json\n"
     ]
    },
    {
     "name": "stdout",
     "output_type": "stream",
     "text": [
      "{'eval_loss': 0.35149717330932617, 'eval_accuracy': 0.4864864864864865, 'eval_f1': 0.32142857142857145, 'eval_precision': 0.32142857142857145, 'eval_recall': 0.32142857142857145, 'eval_slot': 0.7397442373418539, 'eval_slot_accuracy': 0.6846846846846847, 'eval_runtime': 2.7448, 'eval_samples_per_second': 13.48, 'eval_steps_per_second': 6.922, 'epoch': 2.0}\n"
     ]
    },
    {
     "name": "stderr",
     "output_type": "stream",
     "text": [
      "Model weights saved in ./model/run-11/checkpoint-146/pytorch_model.bin\n",
      " 20%|██        | 219/1095 [01:00<02:53,  5.06it/s]***** Running Evaluation *****\n",
      "  Num examples = 37\n",
      "  Batch size = 2\n",
      "/home/ppibot/anaconda3/envs/myenv/lib/python3.9/site-packages/sklearn/metrics/_classification.py:1334: UndefinedMetricWarning: Precision and F-score are ill-defined and being set to 0.0 in labels with no predicted samples. Use `zero_division` parameter to control this behavior.\n",
      "  _warn_prf(average, modifier, msg_start, len(result))\n",
      "/home/ppibot/anaconda3/envs/myenv/lib/python3.9/site-packages/sklearn/metrics/_classification.py:1334: UndefinedMetricWarning: Recall and F-score are ill-defined and being set to 0.0 in labels with no true samples. Use `zero_division` parameter to control this behavior.\n",
      "  _warn_prf(average, modifier, msg_start, len(result))\n",
      "                                                  \n",
      " 20%|██        | 219/1095 [01:03<02:53,  5.06it/s]Saving model checkpoint to ./model/run-11/checkpoint-219\n",
      "Configuration saved in ./model/run-11/checkpoint-219/config.json\n"
     ]
    },
    {
     "name": "stdout",
     "output_type": "stream",
     "text": [
      "{'eval_loss': 0.31346195936203003, 'eval_accuracy': 0.5945945945945946, 'eval_f1': 0.4230769230769231, 'eval_precision': 0.4230769230769231, 'eval_recall': 0.4230769230769231, 'eval_slot': 0.8599091646221864, 'eval_slot_accuracy': 0.7792792792792792, 'eval_runtime': 2.85, 'eval_samples_per_second': 12.982, 'eval_steps_per_second': 6.667, 'epoch': 3.0}\n"
     ]
    },
    {
     "name": "stderr",
     "output_type": "stream",
     "text": [
      "Model weights saved in ./model/run-11/checkpoint-219/pytorch_model.bin\n",
      " 27%|██▋       | 292/1095 [01:23<02:38,  5.06it/s]***** Running Evaluation *****\n",
      "  Num examples = 37\n",
      "  Batch size = 2\n",
      "/home/ppibot/anaconda3/envs/myenv/lib/python3.9/site-packages/sklearn/metrics/_classification.py:1334: UndefinedMetricWarning: Precision and F-score are ill-defined and being set to 0.0 in labels with no predicted samples. Use `zero_division` parameter to control this behavior.\n",
      "  _warn_prf(average, modifier, msg_start, len(result))\n",
      "/home/ppibot/anaconda3/envs/myenv/lib/python3.9/site-packages/sklearn/metrics/_classification.py:1334: UndefinedMetricWarning: Recall and F-score are ill-defined and being set to 0.0 in labels with no true samples. Use `zero_division` parameter to control this behavior.\n",
      "  _warn_prf(average, modifier, msg_start, len(result))\n",
      "                                                  \n",
      " 27%|██▋       | 292/1095 [01:25<02:38,  5.06it/s]Saving model checkpoint to ./model/run-11/checkpoint-292\n",
      "Configuration saved in ./model/run-11/checkpoint-292/config.json\n"
     ]
    },
    {
     "name": "stdout",
     "output_type": "stream",
     "text": [
      "{'eval_loss': 0.3955528438091278, 'eval_accuracy': 0.6216216216216216, 'eval_f1': 0.45098039215686275, 'eval_precision': 0.45098039215686275, 'eval_recall': 0.45098039215686275, 'eval_slot': 0.8459861506991725, 'eval_slot_accuracy': 0.7837837837837838, 'eval_runtime': 2.7771, 'eval_samples_per_second': 13.323, 'eval_steps_per_second': 6.842, 'epoch': 4.0}\n"
     ]
    },
    {
     "name": "stderr",
     "output_type": "stream",
     "text": [
      "Model weights saved in ./model/run-11/checkpoint-292/pytorch_model.bin\n",
      " 33%|███▎      | 365/1095 [01:48<02:23,  5.07it/s]***** Running Evaluation *****\n",
      "  Num examples = 37\n",
      "  Batch size = 2\n",
      "/home/ppibot/anaconda3/envs/myenv/lib/python3.9/site-packages/sklearn/metrics/_classification.py:1334: UndefinedMetricWarning: Precision and F-score are ill-defined and being set to 0.0 in labels with no predicted samples. Use `zero_division` parameter to control this behavior.\n",
      "  _warn_prf(average, modifier, msg_start, len(result))\n",
      "/home/ppibot/anaconda3/envs/myenv/lib/python3.9/site-packages/sklearn/metrics/_classification.py:1334: UndefinedMetricWarning: Recall and F-score are ill-defined and being set to 0.0 in labels with no true samples. Use `zero_division` parameter to control this behavior.\n",
      "  _warn_prf(average, modifier, msg_start, len(result))\n",
      "                                                  \n",
      " 33%|███▎      | 365/1095 [01:50<02:23,  5.07it/s]Saving model checkpoint to ./model/run-11/checkpoint-365\n",
      "Configuration saved in ./model/run-11/checkpoint-365/config.json\n"
     ]
    },
    {
     "name": "stdout",
     "output_type": "stream",
     "text": [
      "{'eval_loss': 0.3878813087940216, 'eval_accuracy': 0.6756756756756757, 'eval_f1': 0.5102040816326531, 'eval_precision': 0.5102040816326531, 'eval_recall': 0.5102040816326531, 'eval_slot': 0.8515424175984521, 'eval_slot_accuracy': 0.7972972972972973, 'eval_runtime': 2.7351, 'eval_samples_per_second': 13.528, 'eval_steps_per_second': 6.947, 'epoch': 5.0}\n"
     ]
    },
    {
     "name": "stderr",
     "output_type": "stream",
     "text": [
      "Model weights saved in ./model/run-11/checkpoint-365/pytorch_model.bin\n",
      " 40%|████      | 438/1095 [02:15<02:09,  5.06it/s]***** Running Evaluation *****\n",
      "  Num examples = 37\n",
      "  Batch size = 2\n",
      "/home/ppibot/anaconda3/envs/myenv/lib/python3.9/site-packages/sklearn/metrics/_classification.py:1334: UndefinedMetricWarning: Precision and F-score are ill-defined and being set to 0.0 in labels with no predicted samples. Use `zero_division` parameter to control this behavior.\n",
      "  _warn_prf(average, modifier, msg_start, len(result))\n",
      "/home/ppibot/anaconda3/envs/myenv/lib/python3.9/site-packages/sklearn/metrics/_classification.py:1334: UndefinedMetricWarning: Recall and F-score are ill-defined and being set to 0.0 in labels with no true samples. Use `zero_division` parameter to control this behavior.\n",
      "  _warn_prf(average, modifier, msg_start, len(result))\n",
      "                                                  \n",
      " 40%|████      | 438/1095 [02:18<02:09,  5.06it/s]Saving model checkpoint to ./model/run-11/checkpoint-438\n",
      "Configuration saved in ./model/run-11/checkpoint-438/config.json\n"
     ]
    },
    {
     "name": "stdout",
     "output_type": "stream",
     "text": [
      "{'eval_loss': 0.36777615547180176, 'eval_accuracy': 0.7027027027027027, 'eval_f1': 0.5416666666666666, 'eval_precision': 0.5416666666666666, 'eval_recall': 0.5416666666666666, 'eval_slot': 0.8698501400804031, 'eval_slot_accuracy': 0.8198198198198198, 'eval_runtime': 2.7853, 'eval_samples_per_second': 13.284, 'eval_steps_per_second': 6.822, 'epoch': 6.0}\n"
     ]
    },
    {
     "name": "stderr",
     "output_type": "stream",
     "text": [
      "Model weights saved in ./model/run-11/checkpoint-438/pytorch_model.bin\n",
      " 46%|████▌     | 501/1095 [02:34<01:57,  5.05it/s]"
     ]
    },
    {
     "name": "stdout",
     "output_type": "stream",
     "text": [
      "{'loss': 0.2626, 'learning_rate': 5.135235485144768e-05, 'epoch': 6.85}\n"
     ]
    },
    {
     "name": "stderr",
     "output_type": "stream",
     "text": [
      " 47%|████▋     | 511/1095 [02:36<01:55,  5.06it/s]***** Running Evaluation *****\n",
      "  Num examples = 37\n",
      "  Batch size = 2\n",
      "/home/ppibot/anaconda3/envs/myenv/lib/python3.9/site-packages/sklearn/metrics/_classification.py:1334: UndefinedMetricWarning: Precision and F-score are ill-defined and being set to 0.0 in labels with no predicted samples. Use `zero_division` parameter to control this behavior.\n",
      "  _warn_prf(average, modifier, msg_start, len(result))\n",
      "/home/ppibot/anaconda3/envs/myenv/lib/python3.9/site-packages/sklearn/metrics/_classification.py:1334: UndefinedMetricWarning: Recall and F-score are ill-defined and being set to 0.0 in labels with no true samples. Use `zero_division` parameter to control this behavior.\n",
      "  _warn_prf(average, modifier, msg_start, len(result))\n",
      "                                                  \n",
      " 47%|████▋     | 511/1095 [02:39<01:55,  5.06it/s]Saving model checkpoint to ./model/run-11/checkpoint-511\n",
      "Configuration saved in ./model/run-11/checkpoint-511/config.json\n"
     ]
    },
    {
     "name": "stdout",
     "output_type": "stream",
     "text": [
      "{'eval_loss': 0.4209822416305542, 'eval_accuracy': 0.6486486486486487, 'eval_f1': 0.48, 'eval_precision': 0.48, 'eval_recall': 0.48, 'eval_slot': 0.8644136691266908, 'eval_slot_accuracy': 0.7972972972972971, 'eval_runtime': 2.7702, 'eval_samples_per_second': 13.357, 'eval_steps_per_second': 6.859, 'epoch': 7.0}\n"
     ]
    },
    {
     "name": "stderr",
     "output_type": "stream",
     "text": [
      "Model weights saved in ./model/run-11/checkpoint-511/pytorch_model.bin\n",
      " 53%|█████▎    | 584/1095 [02:57<01:41,  5.04it/s]***** Running Evaluation *****\n",
      "  Num examples = 37\n",
      "  Batch size = 2\n",
      "/home/ppibot/anaconda3/envs/myenv/lib/python3.9/site-packages/sklearn/metrics/_classification.py:1334: UndefinedMetricWarning: Precision and F-score are ill-defined and being set to 0.0 in labels with no predicted samples. Use `zero_division` parameter to control this behavior.\n",
      "  _warn_prf(average, modifier, msg_start, len(result))\n",
      "/home/ppibot/anaconda3/envs/myenv/lib/python3.9/site-packages/sklearn/metrics/_classification.py:1334: UndefinedMetricWarning: Recall and F-score are ill-defined and being set to 0.0 in labels with no true samples. Use `zero_division` parameter to control this behavior.\n",
      "  _warn_prf(average, modifier, msg_start, len(result))\n",
      "                                                  \n",
      " 53%|█████▎    | 584/1095 [03:00<01:41,  5.04it/s]Saving model checkpoint to ./model/run-11/checkpoint-584\n",
      "Configuration saved in ./model/run-11/checkpoint-584/config.json\n"
     ]
    },
    {
     "name": "stdout",
     "output_type": "stream",
     "text": [
      "{'eval_loss': 0.3978400230407715, 'eval_accuracy': 0.7027027027027027, 'eval_f1': 0.5416666666666666, 'eval_precision': 0.5416666666666666, 'eval_recall': 0.5416666666666666, 'eval_slot': 0.9117109664239881, 'eval_slot_accuracy': 0.8333333333333333, 'eval_runtime': 3.0719, 'eval_samples_per_second': 12.045, 'eval_steps_per_second': 6.185, 'epoch': 8.0}\n"
     ]
    },
    {
     "name": "stderr",
     "output_type": "stream",
     "text": [
      "Model weights saved in ./model/run-11/checkpoint-584/pytorch_model.bin\n",
      " 60%|██████    | 657/1095 [03:17<01:26,  5.05it/s]***** Running Evaluation *****\n",
      "  Num examples = 37\n",
      "  Batch size = 2\n",
      "/home/ppibot/anaconda3/envs/myenv/lib/python3.9/site-packages/sklearn/metrics/_classification.py:1334: UndefinedMetricWarning: Precision and F-score are ill-defined and being set to 0.0 in labels with no predicted samples. Use `zero_division` parameter to control this behavior.\n",
      "  _warn_prf(average, modifier, msg_start, len(result))\n",
      "/home/ppibot/anaconda3/envs/myenv/lib/python3.9/site-packages/sklearn/metrics/_classification.py:1334: UndefinedMetricWarning: Recall and F-score are ill-defined and being set to 0.0 in labels with no true samples. Use `zero_division` parameter to control this behavior.\n",
      "  _warn_prf(average, modifier, msg_start, len(result))\n",
      "                                                  \n",
      " 60%|██████    | 657/1095 [03:20<01:26,  5.05it/s]Saving model checkpoint to ./model/run-11/checkpoint-657\n",
      "Configuration saved in ./model/run-11/checkpoint-657/config.json\n"
     ]
    },
    {
     "name": "stdout",
     "output_type": "stream",
     "text": [
      "{'eval_loss': 0.44082874059677124, 'eval_accuracy': 0.6216216216216216, 'eval_f1': 0.45098039215686275, 'eval_precision': 0.45098039215686275, 'eval_recall': 0.45098039215686275, 'eval_slot': 0.8608411310713943, 'eval_slot_accuracy': 0.8063063063063063, 'eval_runtime': 2.7808, 'eval_samples_per_second': 13.306, 'eval_steps_per_second': 6.833, 'epoch': 9.0}\n"
     ]
    },
    {
     "name": "stderr",
     "output_type": "stream",
     "text": [
      "Model weights saved in ./model/run-11/checkpoint-657/pytorch_model.bin\n",
      " 67%|██████▋   | 730/1095 [03:37<01:12,  5.06it/s]***** Running Evaluation *****\n",
      "  Num examples = 37\n",
      "  Batch size = 2\n",
      "/home/ppibot/anaconda3/envs/myenv/lib/python3.9/site-packages/sklearn/metrics/_classification.py:1334: UndefinedMetricWarning: Precision and F-score are ill-defined and being set to 0.0 in labels with no predicted samples. Use `zero_division` parameter to control this behavior.\n",
      "  _warn_prf(average, modifier, msg_start, len(result))\n",
      "/home/ppibot/anaconda3/envs/myenv/lib/python3.9/site-packages/sklearn/metrics/_classification.py:1334: UndefinedMetricWarning: Recall and F-score are ill-defined and being set to 0.0 in labels with no true samples. Use `zero_division` parameter to control this behavior.\n",
      "  _warn_prf(average, modifier, msg_start, len(result))\n",
      "                                                  \n",
      " 67%|██████▋   | 730/1095 [03:39<01:12,  5.06it/s]Saving model checkpoint to ./model/run-11/checkpoint-730\n",
      "Configuration saved in ./model/run-11/checkpoint-730/config.json\n"
     ]
    },
    {
     "name": "stdout",
     "output_type": "stream",
     "text": [
      "{'eval_loss': 0.4206334352493286, 'eval_accuracy': 0.7027027027027027, 'eval_f1': 0.5416666666666666, 'eval_precision': 0.5416666666666666, 'eval_recall': 0.5416666666666666, 'eval_slot': 0.8924964127266759, 'eval_slot_accuracy': 0.8288288288288289, 'eval_runtime': 2.8572, 'eval_samples_per_second': 12.95, 'eval_steps_per_second': 6.65, 'epoch': 10.0}\n"
     ]
    },
    {
     "name": "stderr",
     "output_type": "stream",
     "text": [
      "Model weights saved in ./model/run-11/checkpoint-730/pytorch_model.bin\n",
      " 73%|███████▎  | 803/1095 [03:56<00:57,  5.06it/s]***** Running Evaluation *****\n",
      "  Num examples = 37\n",
      "  Batch size = 2\n",
      "/home/ppibot/anaconda3/envs/myenv/lib/python3.9/site-packages/sklearn/metrics/_classification.py:1334: UndefinedMetricWarning: Precision and F-score are ill-defined and being set to 0.0 in labels with no predicted samples. Use `zero_division` parameter to control this behavior.\n",
      "  _warn_prf(average, modifier, msg_start, len(result))\n",
      "/home/ppibot/anaconda3/envs/myenv/lib/python3.9/site-packages/sklearn/metrics/_classification.py:1334: UndefinedMetricWarning: Recall and F-score are ill-defined and being set to 0.0 in labels with no true samples. Use `zero_division` parameter to control this behavior.\n",
      "  _warn_prf(average, modifier, msg_start, len(result))\n",
      "                                                  \n",
      " 73%|███████▎  | 803/1095 [03:59<00:57,  5.06it/s]Saving model checkpoint to ./model/run-11/checkpoint-803\n",
      "Configuration saved in ./model/run-11/checkpoint-803/config.json\n"
     ]
    },
    {
     "name": "stdout",
     "output_type": "stream",
     "text": [
      "{'eval_loss': 0.4506450891494751, 'eval_accuracy': 0.6756756756756757, 'eval_f1': 0.5102040816326531, 'eval_precision': 0.5102040816326531, 'eval_recall': 0.5102040816326531, 'eval_slot': 0.8957724160026791, 'eval_slot_accuracy': 0.8288288288288289, 'eval_runtime': 2.8223, 'eval_samples_per_second': 13.11, 'eval_steps_per_second': 6.732, 'epoch': 11.0}\n"
     ]
    },
    {
     "name": "stderr",
     "output_type": "stream",
     "text": [
      "Model weights saved in ./model/run-11/checkpoint-803/pytorch_model.bin\n",
      " 80%|████████  | 876/1095 [04:16<00:43,  5.06it/s]***** Running Evaluation *****\n",
      "  Num examples = 37\n",
      "  Batch size = 2\n",
      "/home/ppibot/anaconda3/envs/myenv/lib/python3.9/site-packages/sklearn/metrics/_classification.py:1334: UndefinedMetricWarning: Precision and F-score are ill-defined and being set to 0.0 in labels with no predicted samples. Use `zero_division` parameter to control this behavior.\n",
      "  _warn_prf(average, modifier, msg_start, len(result))\n",
      "/home/ppibot/anaconda3/envs/myenv/lib/python3.9/site-packages/sklearn/metrics/_classification.py:1334: UndefinedMetricWarning: Recall and F-score are ill-defined and being set to 0.0 in labels with no true samples. Use `zero_division` parameter to control this behavior.\n",
      "  _warn_prf(average, modifier, msg_start, len(result))\n",
      "                                                  \n",
      " 80%|████████  | 876/1095 [04:19<00:43,  5.06it/s]Saving model checkpoint to ./model/run-11/checkpoint-876\n",
      "Configuration saved in ./model/run-11/checkpoint-876/config.json\n"
     ]
    },
    {
     "name": "stdout",
     "output_type": "stream",
     "text": [
      "{'eval_loss': 0.418291836977005, 'eval_accuracy': 0.6756756756756757, 'eval_f1': 0.5102040816326531, 'eval_precision': 0.5102040816326531, 'eval_recall': 0.5102040816326531, 'eval_slot': 0.8834874037176669, 'eval_slot_accuracy': 0.8153153153153153, 'eval_runtime': 2.9168, 'eval_samples_per_second': 12.685, 'eval_steps_per_second': 6.514, 'epoch': 12.0}\n"
     ]
    },
    {
     "name": "stderr",
     "output_type": "stream",
     "text": [
      "Model weights saved in ./model/run-11/checkpoint-876/pytorch_model.bin\n",
      " 87%|████████▋ | 949/1095 [04:36<00:28,  5.05it/s]***** Running Evaluation *****\n",
      "  Num examples = 37\n",
      "  Batch size = 2\n",
      "/home/ppibot/anaconda3/envs/myenv/lib/python3.9/site-packages/sklearn/metrics/_classification.py:1334: UndefinedMetricWarning: Precision and F-score are ill-defined and being set to 0.0 in labels with no predicted samples. Use `zero_division` parameter to control this behavior.\n",
      "  _warn_prf(average, modifier, msg_start, len(result))\n",
      "/home/ppibot/anaconda3/envs/myenv/lib/python3.9/site-packages/sklearn/metrics/_classification.py:1334: UndefinedMetricWarning: Recall and F-score are ill-defined and being set to 0.0 in labels with no true samples. Use `zero_division` parameter to control this behavior.\n",
      "  _warn_prf(average, modifier, msg_start, len(result))\n",
      "                                                  \n",
      " 87%|████████▋ | 949/1095 [04:38<00:28,  5.05it/s]Saving model checkpoint to ./model/run-11/checkpoint-949\n",
      "Configuration saved in ./model/run-11/checkpoint-949/config.json\n"
     ]
    },
    {
     "name": "stdout",
     "output_type": "stream",
     "text": [
      "{'eval_loss': 0.42054837942123413, 'eval_accuracy': 0.7027027027027027, 'eval_f1': 0.5416666666666666, 'eval_precision': 0.5416666666666666, 'eval_recall': 0.5416666666666666, 'eval_slot': 0.9227994430297062, 'eval_slot_accuracy': 0.8558558558558559, 'eval_runtime': 2.8161, 'eval_samples_per_second': 13.139, 'eval_steps_per_second': 6.747, 'epoch': 13.0}\n"
     ]
    },
    {
     "name": "stderr",
     "output_type": "stream",
     "text": [
      "Model weights saved in ./model/run-11/checkpoint-949/pytorch_model.bin\n",
      " 91%|█████████▏| 1001/1095 [04:52<00:18,  5.00it/s]"
     ]
    },
    {
     "name": "stdout",
     "output_type": "stream",
     "text": [
      "{'loss': 0.0229, 'learning_rate': 8.199115480483243e-06, 'epoch': 13.7}\n"
     ]
    },
    {
     "name": "stderr",
     "output_type": "stream",
     "text": [
      " 93%|█████████▎| 1022/1095 [04:56<00:14,  5.02it/s]***** Running Evaluation *****\n",
      "  Num examples = 37\n",
      "  Batch size = 2\n",
      "/home/ppibot/anaconda3/envs/myenv/lib/python3.9/site-packages/sklearn/metrics/_classification.py:1334: UndefinedMetricWarning: Precision and F-score are ill-defined and being set to 0.0 in labels with no predicted samples. Use `zero_division` parameter to control this behavior.\n",
      "  _warn_prf(average, modifier, msg_start, len(result))\n",
      "/home/ppibot/anaconda3/envs/myenv/lib/python3.9/site-packages/sklearn/metrics/_classification.py:1334: UndefinedMetricWarning: Recall and F-score are ill-defined and being set to 0.0 in labels with no true samples. Use `zero_division` parameter to control this behavior.\n",
      "  _warn_prf(average, modifier, msg_start, len(result))\n",
      "                                                   \n",
      " 93%|█████████▎| 1022/1095 [04:59<00:14,  5.02it/s]Saving model checkpoint to ./model/run-11/checkpoint-1022\n",
      "Configuration saved in ./model/run-11/checkpoint-1022/config.json\n"
     ]
    },
    {
     "name": "stdout",
     "output_type": "stream",
     "text": [
      "{'eval_loss': 0.41394108533859253, 'eval_accuracy': 0.7027027027027027, 'eval_f1': 0.5416666666666666, 'eval_precision': 0.5416666666666666, 'eval_recall': 0.5416666666666666, 'eval_slot': 0.9115381817684449, 'eval_slot_accuracy': 0.8558558558558559, 'eval_runtime': 3.1386, 'eval_samples_per_second': 11.789, 'eval_steps_per_second': 6.054, 'epoch': 14.0}\n"
     ]
    },
    {
     "name": "stderr",
     "output_type": "stream",
     "text": [
      "Model weights saved in ./model/run-11/checkpoint-1022/pytorch_model.bin\n",
      "100%|██████████| 1095/1095 [05:16<00:00,  5.04it/s]***** Running Evaluation *****\n",
      "  Num examples = 37\n",
      "  Batch size = 2\n",
      "/home/ppibot/anaconda3/envs/myenv/lib/python3.9/site-packages/sklearn/metrics/_classification.py:1334: UndefinedMetricWarning: Precision and F-score are ill-defined and being set to 0.0 in labels with no predicted samples. Use `zero_division` parameter to control this behavior.\n",
      "  _warn_prf(average, modifier, msg_start, len(result))\n",
      "/home/ppibot/anaconda3/envs/myenv/lib/python3.9/site-packages/sklearn/metrics/_classification.py:1334: UndefinedMetricWarning: Recall and F-score are ill-defined and being set to 0.0 in labels with no true samples. Use `zero_division` parameter to control this behavior.\n",
      "  _warn_prf(average, modifier, msg_start, len(result))\n",
      "                                                   \n",
      "100%|██████████| 1095/1095 [05:19<00:00,  5.04it/s]Saving model checkpoint to ./model/run-11/checkpoint-1095\n",
      "Configuration saved in ./model/run-11/checkpoint-1095/config.json\n"
     ]
    },
    {
     "name": "stdout",
     "output_type": "stream",
     "text": [
      "{'eval_loss': 0.41605108976364136, 'eval_accuracy': 0.7027027027027027, 'eval_f1': 0.5416666666666666, 'eval_precision': 0.5416666666666666, 'eval_recall': 0.5416666666666666, 'eval_slot': 0.9227994430297062, 'eval_slot_accuracy': 0.8558558558558559, 'eval_runtime': 3.0899, 'eval_samples_per_second': 11.975, 'eval_steps_per_second': 6.149, 'epoch': 15.0}\n"
     ]
    },
    {
     "name": "stderr",
     "output_type": "stream",
     "text": [
      "Model weights saved in ./model/run-11/checkpoint-1095/pytorch_model.bin\n",
      "\n",
      "\n",
      "Training completed. Do not forget to share your model on huggingface.co/models =)\n",
      "\n",
      "\n",
      "Loading best model from ./model/run-11/checkpoint-949 (score: 0.8558558558558559).\n",
      "100%|██████████| 1095/1095 [05:23<00:00,  3.38it/s]\n",
      "\u001b[32m[I 2023-06-11 19:16:28,928]\u001b[0m Trial 11 finished with value: 0.8558558558558559 and parameters: {'learning_rate': 9.450559422241211e-05, 'num_train_epochs': 15}. Best is trial 11 with value: 0.8558558558558559.\u001b[0m\n",
      "Trial: {'learning_rate': 9.409211571967633e-05, 'num_train_epochs': 10}\n"
     ]
    },
    {
     "name": "stdout",
     "output_type": "stream",
     "text": [
      "{'train_runtime': 323.9844, 'train_samples_per_second': 6.76, 'train_steps_per_second': 3.38, 'train_loss': 0.1310899735041405, 'epoch': 15.0}\n"
     ]
    },
    {
     "name": "stderr",
     "output_type": "stream",
     "text": [
      "loading configuration file config.json from cache at /home/ppibot/.cache/huggingface/hub/models--google--flan-t5-base/snapshots/c782cba52f8ea6a704240578055cf1c3fc2f2ca9/config.json\n",
      "Model config T5Config {\n",
      "  \"_name_or_path\": \"google/flan-t5-base\",\n",
      "  \"architectures\": [\n",
      "    \"T5ForConditionalGeneration\"\n",
      "  ],\n",
      "  \"d_ff\": 2048,\n",
      "  \"d_kv\": 64,\n",
      "  \"d_model\": 768,\n",
      "  \"decoder_start_token_id\": 0,\n",
      "  \"dense_act_fn\": \"gelu_new\",\n",
      "  \"dropout_rate\": 0.1,\n",
      "  \"eos_token_id\": 1,\n",
      "  \"feed_forward_proj\": \"gated-gelu\",\n",
      "  \"initializer_factor\": 1.0,\n",
      "  \"is_encoder_decoder\": true,\n",
      "  \"is_gated_act\": true,\n",
      "  \"layer_norm_epsilon\": 1e-06,\n",
      "  \"model_type\": \"t5\",\n",
      "  \"n_positions\": 512,\n",
      "  \"num_decoder_layers\": 12,\n",
      "  \"num_heads\": 12,\n",
      "  \"num_layers\": 12,\n",
      "  \"output_past\": true,\n",
      "  \"pad_token_id\": 0,\n",
      "  \"relative_attention_max_distance\": 128,\n",
      "  \"relative_attention_num_buckets\": 32,\n",
      "  \"task_specific_params\": {\n",
      "    \"summarization\": {\n",
      "      \"early_stopping\": true,\n",
      "      \"length_penalty\": 2.0,\n",
      "      \"max_length\": 200,\n",
      "      \"min_length\": 30,\n",
      "      \"no_repeat_ngram_size\": 3,\n",
      "      \"num_beams\": 4,\n",
      "      \"prefix\": \"summarize: \"\n",
      "    },\n",
      "    \"translation_en_to_de\": {\n",
      "      \"early_stopping\": true,\n",
      "      \"max_length\": 300,\n",
      "      \"num_beams\": 4,\n",
      "      \"prefix\": \"translate English to German: \"\n",
      "    },\n",
      "    \"translation_en_to_fr\": {\n",
      "      \"early_stopping\": true,\n",
      "      \"max_length\": 300,\n",
      "      \"num_beams\": 4,\n",
      "      \"prefix\": \"translate English to French: \"\n",
      "    },\n",
      "    \"translation_en_to_ro\": {\n",
      "      \"early_stopping\": true,\n",
      "      \"max_length\": 300,\n",
      "      \"num_beams\": 4,\n",
      "      \"prefix\": \"translate English to Romanian: \"\n",
      "    }\n",
      "  },\n",
      "  \"tie_word_embeddings\": false,\n",
      "  \"transformers_version\": \"4.24.0\",\n",
      "  \"use_cache\": true,\n",
      "  \"vocab_size\": 32128\n",
      "}\n",
      "\n",
      "loading weights file pytorch_model.bin from cache at /home/ppibot/.cache/huggingface/hub/models--google--flan-t5-base/snapshots/c782cba52f8ea6a704240578055cf1c3fc2f2ca9/pytorch_model.bin\n",
      "All model checkpoint weights were used when initializing T5ForConditionalGeneration.\n",
      "\n",
      "All the weights of T5ForConditionalGeneration were initialized from the model checkpoint at google/flan-t5-base.\n",
      "If your task is similar to the task the model of the checkpoint was trained on, you can already use T5ForConditionalGeneration for predictions without further training.\n",
      "/home/ppibot/anaconda3/envs/myenv/lib/python3.9/site-packages/transformers/optimization.py:306: FutureWarning: This implementation of AdamW is deprecated and will be removed in a future version. Use the PyTorch implementation torch.optim.AdamW instead, or set `no_deprecation_warning=True` to disable this warning\n",
      "  warnings.warn(\n",
      "***** Running training *****\n",
      "  Num examples = 146\n",
      "  Num Epochs = 10\n",
      "  Instantaneous batch size per device = 2\n",
      "  Total train batch size (w. parallel, distributed & accumulation) = 2\n",
      "  Gradient Accumulation steps = 1\n",
      "  Total optimization steps = 730\n",
      "  Number of trainable parameters = 247577856\n",
      " 10%|█         | 73/730 [00:14<02:10,  5.03it/s]***** Running Evaluation *****\n",
      "  Num examples = 37\n",
      "  Batch size = 2\n",
      "/home/ppibot/anaconda3/envs/myenv/lib/python3.9/site-packages/sklearn/metrics/_classification.py:1334: UndefinedMetricWarning: Precision and F-score are ill-defined and being set to 0.0 in labels with no predicted samples. Use `zero_division` parameter to control this behavior.\n",
      "  _warn_prf(average, modifier, msg_start, len(result))\n",
      "/home/ppibot/anaconda3/envs/myenv/lib/python3.9/site-packages/sklearn/metrics/_classification.py:1334: UndefinedMetricWarning: Recall and F-score are ill-defined and being set to 0.0 in labels with no true samples. Use `zero_division` parameter to control this behavior.\n",
      "  _warn_prf(average, modifier, msg_start, len(result))\n",
      "                                                \n",
      " 10%|█         | 73/730 [00:17<02:10,  5.03it/s]Saving model checkpoint to ./model/run-12/checkpoint-73\n",
      "Configuration saved in ./model/run-12/checkpoint-73/config.json\n"
     ]
    },
    {
     "name": "stdout",
     "output_type": "stream",
     "text": [
      "{'eval_loss': 0.3702796697616577, 'eval_accuracy': 0.3783783783783784, 'eval_f1': 0.23333333333333334, 'eval_precision': 0.23333333333333334, 'eval_recall': 0.23333333333333334, 'eval_slot': 0.7315882489581004, 'eval_slot_accuracy': 0.6531531531531531, 'eval_runtime': 2.7479, 'eval_samples_per_second': 13.465, 'eval_steps_per_second': 6.914, 'epoch': 1.0}\n"
     ]
    },
    {
     "name": "stderr",
     "output_type": "stream",
     "text": [
      "Model weights saved in ./model/run-12/checkpoint-73/pytorch_model.bin\n",
      " 20%|██        | 146/730 [00:37<01:55,  5.05it/s]***** Running Evaluation *****\n",
      "  Num examples = 37\n",
      "  Batch size = 2\n",
      "/home/ppibot/anaconda3/envs/myenv/lib/python3.9/site-packages/sklearn/metrics/_classification.py:1334: UndefinedMetricWarning: Precision and F-score are ill-defined and being set to 0.0 in labels with no predicted samples. Use `zero_division` parameter to control this behavior.\n",
      "  _warn_prf(average, modifier, msg_start, len(result))\n",
      "/home/ppibot/anaconda3/envs/myenv/lib/python3.9/site-packages/sklearn/metrics/_classification.py:1334: UndefinedMetricWarning: Recall and F-score are ill-defined and being set to 0.0 in labels with no true samples. Use `zero_division` parameter to control this behavior.\n",
      "  _warn_prf(average, modifier, msg_start, len(result))\n",
      "                                                 \n",
      " 20%|██        | 146/730 [00:39<01:55,  5.05it/s]Saving model checkpoint to ./model/run-12/checkpoint-146\n",
      "Configuration saved in ./model/run-12/checkpoint-146/config.json\n"
     ]
    },
    {
     "name": "stdout",
     "output_type": "stream",
     "text": [
      "{'eval_loss': 0.3554048240184784, 'eval_accuracy': 0.4864864864864865, 'eval_f1': 0.32142857142857145, 'eval_precision': 0.32142857142857145, 'eval_recall': 0.32142857142857145, 'eval_slot': 0.757117696327155, 'eval_slot_accuracy': 0.7027027027027026, 'eval_runtime': 2.7277, 'eval_samples_per_second': 13.564, 'eval_steps_per_second': 6.966, 'epoch': 2.0}\n"
     ]
    },
    {
     "name": "stderr",
     "output_type": "stream",
     "text": [
      "Model weights saved in ./model/run-12/checkpoint-146/pytorch_model.bin\n",
      " 30%|███       | 219/730 [01:03<01:41,  5.06it/s]***** Running Evaluation *****\n",
      "  Num examples = 37\n",
      "  Batch size = 2\n",
      "/home/ppibot/anaconda3/envs/myenv/lib/python3.9/site-packages/sklearn/metrics/_classification.py:1334: UndefinedMetricWarning: Precision and F-score are ill-defined and being set to 0.0 in labels with no predicted samples. Use `zero_division` parameter to control this behavior.\n",
      "  _warn_prf(average, modifier, msg_start, len(result))\n",
      "/home/ppibot/anaconda3/envs/myenv/lib/python3.9/site-packages/sklearn/metrics/_classification.py:1334: UndefinedMetricWarning: Recall and F-score are ill-defined and being set to 0.0 in labels with no true samples. Use `zero_division` parameter to control this behavior.\n",
      "  _warn_prf(average, modifier, msg_start, len(result))\n",
      "                                                 \n",
      " 30%|███       | 219/730 [01:06<01:41,  5.06it/s]Saving model checkpoint to ./model/run-12/checkpoint-219\n",
      "Configuration saved in ./model/run-12/checkpoint-219/config.json\n"
     ]
    },
    {
     "name": "stdout",
     "output_type": "stream",
     "text": [
      "{'eval_loss': 0.3186955153942108, 'eval_accuracy': 0.6216216216216216, 'eval_f1': 0.45098039215686275, 'eval_precision': 0.45098039215686275, 'eval_recall': 0.45098039215686275, 'eval_slot': 0.887638192351214, 'eval_slot_accuracy': 0.8018018018018017, 'eval_runtime': 2.8341, 'eval_samples_per_second': 13.055, 'eval_steps_per_second': 6.704, 'epoch': 3.0}\n"
     ]
    },
    {
     "name": "stderr",
     "output_type": "stream",
     "text": [
      "Model weights saved in ./model/run-12/checkpoint-219/pytorch_model.bin\n",
      " 40%|████      | 292/730 [01:24<01:26,  5.06it/s]***** Running Evaluation *****\n",
      "  Num examples = 37\n",
      "  Batch size = 2\n",
      "/home/ppibot/anaconda3/envs/myenv/lib/python3.9/site-packages/sklearn/metrics/_classification.py:1334: UndefinedMetricWarning: Precision and F-score are ill-defined and being set to 0.0 in labels with no predicted samples. Use `zero_division` parameter to control this behavior.\n",
      "  _warn_prf(average, modifier, msg_start, len(result))\n",
      "/home/ppibot/anaconda3/envs/myenv/lib/python3.9/site-packages/sklearn/metrics/_classification.py:1334: UndefinedMetricWarning: Recall and F-score are ill-defined and being set to 0.0 in labels with no true samples. Use `zero_division` parameter to control this behavior.\n",
      "  _warn_prf(average, modifier, msg_start, len(result))\n",
      "                                                 \n",
      " 40%|████      | 292/730 [01:27<01:26,  5.06it/s]Saving model checkpoint to ./model/run-12/checkpoint-292\n",
      "Configuration saved in ./model/run-12/checkpoint-292/config.json\n"
     ]
    },
    {
     "name": "stdout",
     "output_type": "stream",
     "text": [
      "{'eval_loss': 0.37254801392555237, 'eval_accuracy': 0.6216216216216216, 'eval_f1': 0.45098039215686275, 'eval_precision': 0.45098039215686275, 'eval_recall': 0.45098039215686275, 'eval_slot': 0.8697115152173759, 'eval_slot_accuracy': 0.7702702702702703, 'eval_runtime': 2.7938, 'eval_samples_per_second': 13.244, 'eval_steps_per_second': 6.801, 'epoch': 4.0}\n"
     ]
    },
    {
     "name": "stderr",
     "output_type": "stream",
     "text": [
      "Model weights saved in ./model/run-12/checkpoint-292/pytorch_model.bin\n",
      " 50%|█████     | 365/730 [01:45<01:12,  5.06it/s]***** Running Evaluation *****\n",
      "  Num examples = 37\n",
      "  Batch size = 2\n",
      "/home/ppibot/anaconda3/envs/myenv/lib/python3.9/site-packages/sklearn/metrics/_classification.py:1334: UndefinedMetricWarning: Precision and F-score are ill-defined and being set to 0.0 in labels with no predicted samples. Use `zero_division` parameter to control this behavior.\n",
      "  _warn_prf(average, modifier, msg_start, len(result))\n",
      "/home/ppibot/anaconda3/envs/myenv/lib/python3.9/site-packages/sklearn/metrics/_classification.py:1334: UndefinedMetricWarning: Recall and F-score are ill-defined and being set to 0.0 in labels with no true samples. Use `zero_division` parameter to control this behavior.\n",
      "  _warn_prf(average, modifier, msg_start, len(result))\n",
      "                                                 \n",
      " 50%|█████     | 365/730 [01:48<01:12,  5.06it/s]Saving model checkpoint to ./model/run-12/checkpoint-365\n",
      "Configuration saved in ./model/run-12/checkpoint-365/config.json\n"
     ]
    },
    {
     "name": "stdout",
     "output_type": "stream",
     "text": [
      "{'eval_loss': 0.4071800112724304, 'eval_accuracy': 0.6486486486486487, 'eval_f1': 0.48, 'eval_precision': 0.48, 'eval_recall': 0.48, 'eval_slot': 0.8508306668867013, 'eval_slot_accuracy': 0.7972972972972973, 'eval_runtime': 2.8729, 'eval_samples_per_second': 12.879, 'eval_steps_per_second': 6.613, 'epoch': 5.0}\n"
     ]
    },
    {
     "name": "stderr",
     "output_type": "stream",
     "text": [
      "Model weights saved in ./model/run-12/checkpoint-365/pytorch_model.bin\n",
      " 60%|██████    | 438/730 [02:08<00:57,  5.04it/s]***** Running Evaluation *****\n",
      "  Num examples = 37\n",
      "  Batch size = 2\n",
      "/home/ppibot/anaconda3/envs/myenv/lib/python3.9/site-packages/sklearn/metrics/_classification.py:1334: UndefinedMetricWarning: Precision and F-score are ill-defined and being set to 0.0 in labels with no predicted samples. Use `zero_division` parameter to control this behavior.\n",
      "  _warn_prf(average, modifier, msg_start, len(result))\n",
      "/home/ppibot/anaconda3/envs/myenv/lib/python3.9/site-packages/sklearn/metrics/_classification.py:1334: UndefinedMetricWarning: Recall and F-score are ill-defined and being set to 0.0 in labels with no true samples. Use `zero_division` parameter to control this behavior.\n",
      "  _warn_prf(average, modifier, msg_start, len(result))\n",
      "                                                 \n",
      " 60%|██████    | 438/730 [02:11<01:27,  3.34it/s]\n",
      "\u001b[32m[I 2023-06-11 19:18:42,965]\u001b[0m Trial 12 pruned. \u001b[0m\n",
      "Trial: {'learning_rate': 6.445531361083734e-05, 'num_train_epochs': 1}\n"
     ]
    },
    {
     "name": "stdout",
     "output_type": "stream",
     "text": [
      "{'eval_loss': 0.3516583740711212, 'eval_accuracy': 0.6486486486486487, 'eval_f1': 0.48, 'eval_precision': 0.48, 'eval_recall': 0.48, 'eval_slot': 0.8790638992941624, 'eval_slot_accuracy': 0.7972972972972973, 'eval_runtime': 2.904, 'eval_samples_per_second': 12.741, 'eval_steps_per_second': 6.543, 'epoch': 6.0}\n"
     ]
    },
    {
     "name": "stderr",
     "output_type": "stream",
     "text": [
      "loading configuration file config.json from cache at /home/ppibot/.cache/huggingface/hub/models--google--flan-t5-base/snapshots/c782cba52f8ea6a704240578055cf1c3fc2f2ca9/config.json\n",
      "Model config T5Config {\n",
      "  \"_name_or_path\": \"google/flan-t5-base\",\n",
      "  \"architectures\": [\n",
      "    \"T5ForConditionalGeneration\"\n",
      "  ],\n",
      "  \"d_ff\": 2048,\n",
      "  \"d_kv\": 64,\n",
      "  \"d_model\": 768,\n",
      "  \"decoder_start_token_id\": 0,\n",
      "  \"dense_act_fn\": \"gelu_new\",\n",
      "  \"dropout_rate\": 0.1,\n",
      "  \"eos_token_id\": 1,\n",
      "  \"feed_forward_proj\": \"gated-gelu\",\n",
      "  \"initializer_factor\": 1.0,\n",
      "  \"is_encoder_decoder\": true,\n",
      "  \"is_gated_act\": true,\n",
      "  \"layer_norm_epsilon\": 1e-06,\n",
      "  \"model_type\": \"t5\",\n",
      "  \"n_positions\": 512,\n",
      "  \"num_decoder_layers\": 12,\n",
      "  \"num_heads\": 12,\n",
      "  \"num_layers\": 12,\n",
      "  \"output_past\": true,\n",
      "  \"pad_token_id\": 0,\n",
      "  \"relative_attention_max_distance\": 128,\n",
      "  \"relative_attention_num_buckets\": 32,\n",
      "  \"task_specific_params\": {\n",
      "    \"summarization\": {\n",
      "      \"early_stopping\": true,\n",
      "      \"length_penalty\": 2.0,\n",
      "      \"max_length\": 200,\n",
      "      \"min_length\": 30,\n",
      "      \"no_repeat_ngram_size\": 3,\n",
      "      \"num_beams\": 4,\n",
      "      \"prefix\": \"summarize: \"\n",
      "    },\n",
      "    \"translation_en_to_de\": {\n",
      "      \"early_stopping\": true,\n",
      "      \"max_length\": 300,\n",
      "      \"num_beams\": 4,\n",
      "      \"prefix\": \"translate English to German: \"\n",
      "    },\n",
      "    \"translation_en_to_fr\": {\n",
      "      \"early_stopping\": true,\n",
      "      \"max_length\": 300,\n",
      "      \"num_beams\": 4,\n",
      "      \"prefix\": \"translate English to French: \"\n",
      "    },\n",
      "    \"translation_en_to_ro\": {\n",
      "      \"early_stopping\": true,\n",
      "      \"max_length\": 300,\n",
      "      \"num_beams\": 4,\n",
      "      \"prefix\": \"translate English to Romanian: \"\n",
      "    }\n",
      "  },\n",
      "  \"tie_word_embeddings\": false,\n",
      "  \"transformers_version\": \"4.24.0\",\n",
      "  \"use_cache\": true,\n",
      "  \"vocab_size\": 32128\n",
      "}\n",
      "\n",
      "loading weights file pytorch_model.bin from cache at /home/ppibot/.cache/huggingface/hub/models--google--flan-t5-base/snapshots/c782cba52f8ea6a704240578055cf1c3fc2f2ca9/pytorch_model.bin\n",
      "All model checkpoint weights were used when initializing T5ForConditionalGeneration.\n",
      "\n",
      "All the weights of T5ForConditionalGeneration were initialized from the model checkpoint at google/flan-t5-base.\n",
      "If your task is similar to the task the model of the checkpoint was trained on, you can already use T5ForConditionalGeneration for predictions without further training.\n",
      "/home/ppibot/anaconda3/envs/myenv/lib/python3.9/site-packages/transformers/optimization.py:306: FutureWarning: This implementation of AdamW is deprecated and will be removed in a future version. Use the PyTorch implementation torch.optim.AdamW instead, or set `no_deprecation_warning=True` to disable this warning\n",
      "  warnings.warn(\n",
      "***** Running training *****\n",
      "  Num examples = 146\n",
      "  Num Epochs = 1\n",
      "  Instantaneous batch size per device = 2\n",
      "  Total train batch size (w. parallel, distributed & accumulation) = 2\n",
      "  Gradient Accumulation steps = 1\n",
      "  Total optimization steps = 73\n",
      "  Number of trainable parameters = 247577856\n",
      "100%|██████████| 73/73 [00:14<00:00,  5.05it/s]***** Running Evaluation *****\n",
      "  Num examples = 37\n",
      "  Batch size = 2\n",
      "/home/ppibot/anaconda3/envs/myenv/lib/python3.9/site-packages/sklearn/metrics/_classification.py:1334: UndefinedMetricWarning: Precision and F-score are ill-defined and being set to 0.0 in labels with no predicted samples. Use `zero_division` parameter to control this behavior.\n",
      "  _warn_prf(average, modifier, msg_start, len(result))\n",
      "/home/ppibot/anaconda3/envs/myenv/lib/python3.9/site-packages/sklearn/metrics/_classification.py:1334: UndefinedMetricWarning: Recall and F-score are ill-defined and being set to 0.0 in labels with no true samples. Use `zero_division` parameter to control this behavior.\n",
      "  _warn_prf(average, modifier, msg_start, len(result))\n",
      "                                               \n",
      "100%|██████████| 73/73 [00:17<00:00,  4.24it/s]\n",
      "\u001b[32m[I 2023-06-11 19:19:01,611]\u001b[0m Trial 13 pruned. \u001b[0m\n",
      "Trial: {'learning_rate': 9.734338654859125e-05, 'num_train_epochs': 16}\n"
     ]
    },
    {
     "name": "stdout",
     "output_type": "stream",
     "text": [
      "{'eval_loss': 0.6050291061401367, 'eval_accuracy': 0.02702702702702703, 'eval_f1': 0.0136986301369863, 'eval_precision': 0.0136986301369863, 'eval_recall': 0.0136986301369863, 'eval_slot': 0.37503970848318896, 'eval_slot_accuracy': 0.24324324324324326, 'eval_runtime': 2.7225, 'eval_samples_per_second': 13.59, 'eval_steps_per_second': 6.979, 'epoch': 1.0}\n"
     ]
    },
    {
     "name": "stderr",
     "output_type": "stream",
     "text": [
      "loading configuration file config.json from cache at /home/ppibot/.cache/huggingface/hub/models--google--flan-t5-base/snapshots/c782cba52f8ea6a704240578055cf1c3fc2f2ca9/config.json\n",
      "Model config T5Config {\n",
      "  \"_name_or_path\": \"google/flan-t5-base\",\n",
      "  \"architectures\": [\n",
      "    \"T5ForConditionalGeneration\"\n",
      "  ],\n",
      "  \"d_ff\": 2048,\n",
      "  \"d_kv\": 64,\n",
      "  \"d_model\": 768,\n",
      "  \"decoder_start_token_id\": 0,\n",
      "  \"dense_act_fn\": \"gelu_new\",\n",
      "  \"dropout_rate\": 0.1,\n",
      "  \"eos_token_id\": 1,\n",
      "  \"feed_forward_proj\": \"gated-gelu\",\n",
      "  \"initializer_factor\": 1.0,\n",
      "  \"is_encoder_decoder\": true,\n",
      "  \"is_gated_act\": true,\n",
      "  \"layer_norm_epsilon\": 1e-06,\n",
      "  \"model_type\": \"t5\",\n",
      "  \"n_positions\": 512,\n",
      "  \"num_decoder_layers\": 12,\n",
      "  \"num_heads\": 12,\n",
      "  \"num_layers\": 12,\n",
      "  \"output_past\": true,\n",
      "  \"pad_token_id\": 0,\n",
      "  \"relative_attention_max_distance\": 128,\n",
      "  \"relative_attention_num_buckets\": 32,\n",
      "  \"task_specific_params\": {\n",
      "    \"summarization\": {\n",
      "      \"early_stopping\": true,\n",
      "      \"length_penalty\": 2.0,\n",
      "      \"max_length\": 200,\n",
      "      \"min_length\": 30,\n",
      "      \"no_repeat_ngram_size\": 3,\n",
      "      \"num_beams\": 4,\n",
      "      \"prefix\": \"summarize: \"\n",
      "    },\n",
      "    \"translation_en_to_de\": {\n",
      "      \"early_stopping\": true,\n",
      "      \"max_length\": 300,\n",
      "      \"num_beams\": 4,\n",
      "      \"prefix\": \"translate English to German: \"\n",
      "    },\n",
      "    \"translation_en_to_fr\": {\n",
      "      \"early_stopping\": true,\n",
      "      \"max_length\": 300,\n",
      "      \"num_beams\": 4,\n",
      "      \"prefix\": \"translate English to French: \"\n",
      "    },\n",
      "    \"translation_en_to_ro\": {\n",
      "      \"early_stopping\": true,\n",
      "      \"max_length\": 300,\n",
      "      \"num_beams\": 4,\n",
      "      \"prefix\": \"translate English to Romanian: \"\n",
      "    }\n",
      "  },\n",
      "  \"tie_word_embeddings\": false,\n",
      "  \"transformers_version\": \"4.24.0\",\n",
      "  \"use_cache\": true,\n",
      "  \"vocab_size\": 32128\n",
      "}\n",
      "\n",
      "loading weights file pytorch_model.bin from cache at /home/ppibot/.cache/huggingface/hub/models--google--flan-t5-base/snapshots/c782cba52f8ea6a704240578055cf1c3fc2f2ca9/pytorch_model.bin\n",
      "All model checkpoint weights were used when initializing T5ForConditionalGeneration.\n",
      "\n",
      "All the weights of T5ForConditionalGeneration were initialized from the model checkpoint at google/flan-t5-base.\n",
      "If your task is similar to the task the model of the checkpoint was trained on, you can already use T5ForConditionalGeneration for predictions without further training.\n",
      "/home/ppibot/anaconda3/envs/myenv/lib/python3.9/site-packages/transformers/optimization.py:306: FutureWarning: This implementation of AdamW is deprecated and will be removed in a future version. Use the PyTorch implementation torch.optim.AdamW instead, or set `no_deprecation_warning=True` to disable this warning\n",
      "  warnings.warn(\n",
      "***** Running training *****\n",
      "  Num examples = 146\n",
      "  Num Epochs = 16\n",
      "  Instantaneous batch size per device = 2\n",
      "  Total train batch size (w. parallel, distributed & accumulation) = 2\n",
      "  Gradient Accumulation steps = 1\n",
      "  Total optimization steps = 1168\n",
      "  Number of trainable parameters = 247577856\n",
      "  6%|▋         | 73/1168 [00:14<03:38,  5.01it/s]***** Running Evaluation *****\n",
      "  Num examples = 37\n",
      "  Batch size = 2\n",
      "/home/ppibot/anaconda3/envs/myenv/lib/python3.9/site-packages/sklearn/metrics/_classification.py:1334: UndefinedMetricWarning: Precision and F-score are ill-defined and being set to 0.0 in labels with no predicted samples. Use `zero_division` parameter to control this behavior.\n",
      "  _warn_prf(average, modifier, msg_start, len(result))\n",
      "/home/ppibot/anaconda3/envs/myenv/lib/python3.9/site-packages/sklearn/metrics/_classification.py:1334: UndefinedMetricWarning: Recall and F-score are ill-defined and being set to 0.0 in labels with no true samples. Use `zero_division` parameter to control this behavior.\n",
      "  _warn_prf(average, modifier, msg_start, len(result))\n",
      "                                                 \n",
      "  6%|▋         | 73/1168 [00:17<03:38,  5.01it/s]Saving model checkpoint to ./model/run-14/checkpoint-73\n",
      "Configuration saved in ./model/run-14/checkpoint-73/config.json\n"
     ]
    },
    {
     "name": "stdout",
     "output_type": "stream",
     "text": [
      "{'eval_loss': 0.36257994174957275, 'eval_accuracy': 0.43243243243243246, 'eval_f1': 0.27586206896551724, 'eval_precision': 0.27586206896551724, 'eval_recall': 0.27586206896551724, 'eval_slot': 0.7486052659751173, 'eval_slot_accuracy': 0.6756756756756757, 'eval_runtime': 2.8952, 'eval_samples_per_second': 12.78, 'eval_steps_per_second': 6.562, 'epoch': 1.0}\n"
     ]
    },
    {
     "name": "stderr",
     "output_type": "stream",
     "text": [
      "Model weights saved in ./model/run-14/checkpoint-73/pytorch_model.bin\n",
      " 12%|█▎        | 146/1168 [00:35<03:24,  5.00it/s]***** Running Evaluation *****\n",
      "  Num examples = 37\n",
      "  Batch size = 2\n",
      "/home/ppibot/anaconda3/envs/myenv/lib/python3.9/site-packages/sklearn/metrics/_classification.py:1334: UndefinedMetricWarning: Precision and F-score are ill-defined and being set to 0.0 in labels with no predicted samples. Use `zero_division` parameter to control this behavior.\n",
      "  _warn_prf(average, modifier, msg_start, len(result))\n",
      "/home/ppibot/anaconda3/envs/myenv/lib/python3.9/site-packages/sklearn/metrics/_classification.py:1334: UndefinedMetricWarning: Recall and F-score are ill-defined and being set to 0.0 in labels with no true samples. Use `zero_division` parameter to control this behavior.\n",
      "  _warn_prf(average, modifier, msg_start, len(result))\n",
      "                                                  \n",
      " 12%|█▎        | 146/1168 [00:38<03:24,  5.00it/s]Saving model checkpoint to ./model/run-14/checkpoint-146\n",
      "Configuration saved in ./model/run-14/checkpoint-146/config.json\n"
     ]
    },
    {
     "name": "stdout",
     "output_type": "stream",
     "text": [
      "{'eval_loss': 0.3561028838157654, 'eval_accuracy': 0.43243243243243246, 'eval_f1': 0.27586206896551724, 'eval_precision': 0.27586206896551724, 'eval_recall': 0.27586206896551724, 'eval_slot': 0.7217262193238358, 'eval_slot_accuracy': 0.6666666666666666, 'eval_runtime': 2.911, 'eval_samples_per_second': 12.71, 'eval_steps_per_second': 6.527, 'epoch': 2.0}\n"
     ]
    },
    {
     "name": "stderr",
     "output_type": "stream",
     "text": [
      "Model weights saved in ./model/run-14/checkpoint-146/pytorch_model.bin\n",
      " 19%|█▉        | 219/1168 [00:55<03:09,  5.00it/s]***** Running Evaluation *****\n",
      "  Num examples = 37\n",
      "  Batch size = 2\n",
      "/home/ppibot/anaconda3/envs/myenv/lib/python3.9/site-packages/sklearn/metrics/_classification.py:1334: UndefinedMetricWarning: Precision and F-score are ill-defined and being set to 0.0 in labels with no predicted samples. Use `zero_division` parameter to control this behavior.\n",
      "  _warn_prf(average, modifier, msg_start, len(result))\n",
      "/home/ppibot/anaconda3/envs/myenv/lib/python3.9/site-packages/sklearn/metrics/_classification.py:1334: UndefinedMetricWarning: Recall and F-score are ill-defined and being set to 0.0 in labels with no true samples. Use `zero_division` parameter to control this behavior.\n",
      "  _warn_prf(average, modifier, msg_start, len(result))\n",
      "                                                  \n",
      " 19%|█▉        | 219/1168 [00:58<03:09,  5.00it/s]Saving model checkpoint to ./model/run-14/checkpoint-219\n",
      "Configuration saved in ./model/run-14/checkpoint-219/config.json\n"
     ]
    },
    {
     "name": "stdout",
     "output_type": "stream",
     "text": [
      "{'eval_loss': 0.31973180174827576, 'eval_accuracy': 0.5945945945945946, 'eval_f1': 0.4230769230769231, 'eval_precision': 0.4230769230769231, 'eval_recall': 0.4230769230769231, 'eval_slot': 0.8721941769071986, 'eval_slot_accuracy': 0.7927927927927928, 'eval_runtime': 2.9283, 'eval_samples_per_second': 12.635, 'eval_steps_per_second': 6.488, 'epoch': 3.0}\n"
     ]
    },
    {
     "name": "stderr",
     "output_type": "stream",
     "text": [
      "Model weights saved in ./model/run-14/checkpoint-219/pytorch_model.bin\n",
      " 25%|██▌       | 292/1168 [01:15<02:54,  5.01it/s]***** Running Evaluation *****\n",
      "  Num examples = 37\n",
      "  Batch size = 2\n",
      "/home/ppibot/anaconda3/envs/myenv/lib/python3.9/site-packages/sklearn/metrics/_classification.py:1334: UndefinedMetricWarning: Precision and F-score are ill-defined and being set to 0.0 in labels with no predicted samples. Use `zero_division` parameter to control this behavior.\n",
      "  _warn_prf(average, modifier, msg_start, len(result))\n",
      "/home/ppibot/anaconda3/envs/myenv/lib/python3.9/site-packages/sklearn/metrics/_classification.py:1334: UndefinedMetricWarning: Recall and F-score are ill-defined and being set to 0.0 in labels with no true samples. Use `zero_division` parameter to control this behavior.\n",
      "  _warn_prf(average, modifier, msg_start, len(result))\n",
      "                                                  \n",
      " 25%|██▌       | 292/1168 [01:18<02:54,  5.01it/s]Saving model checkpoint to ./model/run-14/checkpoint-292\n",
      "Configuration saved in ./model/run-14/checkpoint-292/config.json\n"
     ]
    },
    {
     "name": "stdout",
     "output_type": "stream",
     "text": [
      "{'eval_loss': 0.35876262187957764, 'eval_accuracy': 0.5945945945945946, 'eval_f1': 0.4230769230769231, 'eval_precision': 0.4230769230769231, 'eval_recall': 0.4230769230769231, 'eval_slot': 0.8482384029514247, 'eval_slot_accuracy': 0.7747747747747747, 'eval_runtime': 3.0236, 'eval_samples_per_second': 12.237, 'eval_steps_per_second': 6.284, 'epoch': 4.0}\n"
     ]
    },
    {
     "name": "stderr",
     "output_type": "stream",
     "text": [
      "Model weights saved in ./model/run-14/checkpoint-292/pytorch_model.bin\n",
      " 31%|███▏      | 365/1168 [01:35<02:39,  5.04it/s]***** Running Evaluation *****\n",
      "  Num examples = 37\n",
      "  Batch size = 2\n",
      "/home/ppibot/anaconda3/envs/myenv/lib/python3.9/site-packages/sklearn/metrics/_classification.py:1334: UndefinedMetricWarning: Precision and F-score are ill-defined and being set to 0.0 in labels with no predicted samples. Use `zero_division` parameter to control this behavior.\n",
      "  _warn_prf(average, modifier, msg_start, len(result))\n",
      "/home/ppibot/anaconda3/envs/myenv/lib/python3.9/site-packages/sklearn/metrics/_classification.py:1334: UndefinedMetricWarning: Recall and F-score are ill-defined and being set to 0.0 in labels with no true samples. Use `zero_division` parameter to control this behavior.\n",
      "  _warn_prf(average, modifier, msg_start, len(result))\n",
      "                                                  \n",
      " 31%|███▏      | 365/1168 [01:38<02:39,  5.04it/s]Saving model checkpoint to ./model/run-14/checkpoint-365\n",
      "Configuration saved in ./model/run-14/checkpoint-365/config.json\n"
     ]
    },
    {
     "name": "stdout",
     "output_type": "stream",
     "text": [
      "{'eval_loss': 0.37271127104759216, 'eval_accuracy': 0.6486486486486487, 'eval_f1': 0.48, 'eval_precision': 0.48, 'eval_recall': 0.48, 'eval_slot': 0.8518544179104524, 'eval_slot_accuracy': 0.7972972972972973, 'eval_runtime': 3.0927, 'eval_samples_per_second': 11.964, 'eval_steps_per_second': 6.143, 'epoch': 5.0}\n"
     ]
    },
    {
     "name": "stderr",
     "output_type": "stream",
     "text": [
      "Model weights saved in ./model/run-14/checkpoint-365/pytorch_model.bin\n",
      " 38%|███▊      | 438/1168 [01:56<02:25,  5.02it/s]***** Running Evaluation *****\n",
      "  Num examples = 37\n",
      "  Batch size = 2\n",
      "/home/ppibot/anaconda3/envs/myenv/lib/python3.9/site-packages/sklearn/metrics/_classification.py:1334: UndefinedMetricWarning: Precision and F-score are ill-defined and being set to 0.0 in labels with no predicted samples. Use `zero_division` parameter to control this behavior.\n",
      "  _warn_prf(average, modifier, msg_start, len(result))\n",
      "/home/ppibot/anaconda3/envs/myenv/lib/python3.9/site-packages/sklearn/metrics/_classification.py:1334: UndefinedMetricWarning: Recall and F-score are ill-defined and being set to 0.0 in labels with no true samples. Use `zero_division` parameter to control this behavior.\n",
      "  _warn_prf(average, modifier, msg_start, len(result))\n",
      "                                                  \n",
      " 38%|███▊      | 438/1168 [01:59<02:25,  5.02it/s]Saving model checkpoint to ./model/run-14/checkpoint-438\n",
      "Configuration saved in ./model/run-14/checkpoint-438/config.json\n"
     ]
    },
    {
     "name": "stdout",
     "output_type": "stream",
     "text": [
      "{'eval_loss': 0.3721368908882141, 'eval_accuracy': 0.6756756756756757, 'eval_f1': 0.5102040816326531, 'eval_precision': 0.5102040816326531, 'eval_recall': 0.5102040816326531, 'eval_slot': 0.8807994010296643, 'eval_slot_accuracy': 0.8198198198198198, 'eval_runtime': 2.8927, 'eval_samples_per_second': 12.791, 'eval_steps_per_second': 6.568, 'epoch': 6.0}\n"
     ]
    },
    {
     "name": "stderr",
     "output_type": "stream",
     "text": [
      "Model weights saved in ./model/run-14/checkpoint-438/pytorch_model.bin\n",
      " 43%|████▎     | 501/1168 [02:14<02:13,  5.01it/s]"
     ]
    },
    {
     "name": "stdout",
     "output_type": "stream",
     "text": [
      "{'loss': 0.2594, 'learning_rate': 5.5672416279502525e-05, 'epoch': 6.85}\n"
     ]
    },
    {
     "name": "stderr",
     "output_type": "stream",
     "text": [
      " 44%|████▍     | 511/1168 [02:16<02:10,  5.02it/s]***** Running Evaluation *****\n",
      "  Num examples = 37\n",
      "  Batch size = 2\n",
      "/home/ppibot/anaconda3/envs/myenv/lib/python3.9/site-packages/sklearn/metrics/_classification.py:1334: UndefinedMetricWarning: Precision and F-score are ill-defined and being set to 0.0 in labels with no predicted samples. Use `zero_division` parameter to control this behavior.\n",
      "  _warn_prf(average, modifier, msg_start, len(result))\n",
      "/home/ppibot/anaconda3/envs/myenv/lib/python3.9/site-packages/sklearn/metrics/_classification.py:1334: UndefinedMetricWarning: Recall and F-score are ill-defined and being set to 0.0 in labels with no true samples. Use `zero_division` parameter to control this behavior.\n",
      "  _warn_prf(average, modifier, msg_start, len(result))\n",
      "                                                  \n",
      " 44%|████▍     | 511/1168 [02:18<02:10,  5.02it/s]Saving model checkpoint to ./model/run-14/checkpoint-511\n",
      "Configuration saved in ./model/run-14/checkpoint-511/config.json\n"
     ]
    },
    {
     "name": "stdout",
     "output_type": "stream",
     "text": [
      "{'eval_loss': 0.43780773878097534, 'eval_accuracy': 0.6486486486486487, 'eval_f1': 0.48, 'eval_precision': 0.48, 'eval_recall': 0.48, 'eval_slot': 0.848578414634449, 'eval_slot_accuracy': 0.7972972972972973, 'eval_runtime': 2.869, 'eval_samples_per_second': 12.897, 'eval_steps_per_second': 6.623, 'epoch': 7.0}\n"
     ]
    },
    {
     "name": "stderr",
     "output_type": "stream",
     "text": [
      "Model weights saved in ./model/run-14/checkpoint-511/pytorch_model.bin\n",
      " 50%|█████     | 584/1168 [02:35<01:56,  5.03it/s]***** Running Evaluation *****\n",
      "  Num examples = 37\n",
      "  Batch size = 2\n",
      "/home/ppibot/anaconda3/envs/myenv/lib/python3.9/site-packages/sklearn/metrics/_classification.py:1334: UndefinedMetricWarning: Precision and F-score are ill-defined and being set to 0.0 in labels with no predicted samples. Use `zero_division` parameter to control this behavior.\n",
      "  _warn_prf(average, modifier, msg_start, len(result))\n",
      "/home/ppibot/anaconda3/envs/myenv/lib/python3.9/site-packages/sklearn/metrics/_classification.py:1334: UndefinedMetricWarning: Recall and F-score are ill-defined and being set to 0.0 in labels with no true samples. Use `zero_division` parameter to control this behavior.\n",
      "  _warn_prf(average, modifier, msg_start, len(result))\n",
      "                                                  \n",
      " 50%|█████     | 584/1168 [02:38<01:56,  5.03it/s]Saving model checkpoint to ./model/run-14/checkpoint-584\n",
      "Configuration saved in ./model/run-14/checkpoint-584/config.json\n"
     ]
    },
    {
     "name": "stdout",
     "output_type": "stream",
     "text": [
      "{'eval_loss': 0.454021155834198, 'eval_accuracy': 0.6486486486486487, 'eval_f1': 0.48, 'eval_precision': 0.48, 'eval_recall': 0.48, 'eval_slot': 0.8846839393969611, 'eval_slot_accuracy': 0.8063063063063063, 'eval_runtime': 2.9413, 'eval_samples_per_second': 12.58, 'eval_steps_per_second': 6.46, 'epoch': 8.0}\n"
     ]
    },
    {
     "name": "stderr",
     "output_type": "stream",
     "text": [
      "Model weights saved in ./model/run-14/checkpoint-584/pytorch_model.bin\n",
      " 56%|█████▋    | 657/1168 [02:55<01:41,  5.03it/s]***** Running Evaluation *****\n",
      "  Num examples = 37\n",
      "  Batch size = 2\n",
      "/home/ppibot/anaconda3/envs/myenv/lib/python3.9/site-packages/sklearn/metrics/_classification.py:1334: UndefinedMetricWarning: Precision and F-score are ill-defined and being set to 0.0 in labels with no predicted samples. Use `zero_division` parameter to control this behavior.\n",
      "  _warn_prf(average, modifier, msg_start, len(result))\n",
      "/home/ppibot/anaconda3/envs/myenv/lib/python3.9/site-packages/sklearn/metrics/_classification.py:1334: UndefinedMetricWarning: Recall and F-score are ill-defined and being set to 0.0 in labels with no true samples. Use `zero_division` parameter to control this behavior.\n",
      "  _warn_prf(average, modifier, msg_start, len(result))\n",
      "                                                  \n",
      " 56%|█████▋    | 657/1168 [02:58<01:41,  5.03it/s]Saving model checkpoint to ./model/run-14/checkpoint-657\n",
      "Configuration saved in ./model/run-14/checkpoint-657/config.json\n"
     ]
    },
    {
     "name": "stdout",
     "output_type": "stream",
     "text": [
      "{'eval_loss': 0.43779054284095764, 'eval_accuracy': 0.6756756756756757, 'eval_f1': 0.5102040816326531, 'eval_precision': 0.5102040816326531, 'eval_recall': 0.5102040816326531, 'eval_slot': 0.8811114013416645, 'eval_slot_accuracy': 0.8198198198198198, 'eval_runtime': 2.9831, 'eval_samples_per_second': 12.403, 'eval_steps_per_second': 6.369, 'epoch': 9.0}\n"
     ]
    },
    {
     "name": "stderr",
     "output_type": "stream",
     "text": [
      "Model weights saved in ./model/run-14/checkpoint-657/pytorch_model.bin\n",
      " 62%|██████▎   | 730/1168 [03:15<01:27,  4.99it/s]***** Running Evaluation *****\n",
      "  Num examples = 37\n",
      "  Batch size = 2\n",
      "/home/ppibot/anaconda3/envs/myenv/lib/python3.9/site-packages/sklearn/metrics/_classification.py:1334: UndefinedMetricWarning: Precision and F-score are ill-defined and being set to 0.0 in labels with no predicted samples. Use `zero_division` parameter to control this behavior.\n",
      "  _warn_prf(average, modifier, msg_start, len(result))\n",
      "/home/ppibot/anaconda3/envs/myenv/lib/python3.9/site-packages/sklearn/metrics/_classification.py:1334: UndefinedMetricWarning: Recall and F-score are ill-defined and being set to 0.0 in labels with no true samples. Use `zero_division` parameter to control this behavior.\n",
      "  _warn_prf(average, modifier, msg_start, len(result))\n",
      "                                                  \n",
      " 62%|██████▎   | 730/1168 [03:18<01:27,  4.99it/s]Saving model checkpoint to ./model/run-14/checkpoint-730\n",
      "Configuration saved in ./model/run-14/checkpoint-730/config.json\n"
     ]
    },
    {
     "name": "stdout",
     "output_type": "stream",
     "text": [
      "{'eval_loss': 0.44349542260169983, 'eval_accuracy': 0.6756756756756757, 'eval_f1': 0.5102040816326531, 'eval_precision': 0.5102040816326531, 'eval_recall': 0.5102040816326531, 'eval_slot': 0.8812351514654145, 'eval_slot_accuracy': 0.8288288288288289, 'eval_runtime': 3.0231, 'eval_samples_per_second': 12.239, 'eval_steps_per_second': 6.285, 'epoch': 10.0}\n"
     ]
    },
    {
     "name": "stderr",
     "output_type": "stream",
     "text": [
      "Model weights saved in ./model/run-14/checkpoint-730/pytorch_model.bin\n",
      " 69%|██████▉   | 803/1168 [03:36<01:12,  5.03it/s]***** Running Evaluation *****\n",
      "  Num examples = 37\n",
      "  Batch size = 2\n",
      "/home/ppibot/anaconda3/envs/myenv/lib/python3.9/site-packages/sklearn/metrics/_classification.py:1334: UndefinedMetricWarning: Precision and F-score are ill-defined and being set to 0.0 in labels with no predicted samples. Use `zero_division` parameter to control this behavior.\n",
      "  _warn_prf(average, modifier, msg_start, len(result))\n",
      "/home/ppibot/anaconda3/envs/myenv/lib/python3.9/site-packages/sklearn/metrics/_classification.py:1334: UndefinedMetricWarning: Recall and F-score are ill-defined and being set to 0.0 in labels with no true samples. Use `zero_division` parameter to control this behavior.\n",
      "  _warn_prf(average, modifier, msg_start, len(result))\n",
      "                                                  \n",
      " 69%|██████▉   | 803/1168 [03:39<01:12,  5.03it/s]Saving model checkpoint to ./model/run-14/checkpoint-803\n",
      "Configuration saved in ./model/run-14/checkpoint-803/config.json\n"
     ]
    },
    {
     "name": "stdout",
     "output_type": "stream",
     "text": [
      "{'eval_loss': 0.4537339210510254, 'eval_accuracy': 0.7027027027027027, 'eval_f1': 0.5416666666666666, 'eval_precision': 0.5416666666666666, 'eval_recall': 0.5416666666666666, 'eval_slot': 0.8984341686644318, 'eval_slot_accuracy': 0.8333333333333333, 'eval_runtime': 3.1512, 'eval_samples_per_second': 11.741, 'eval_steps_per_second': 6.029, 'epoch': 11.0}\n"
     ]
    },
    {
     "name": "stderr",
     "output_type": "stream",
     "text": [
      "Model weights saved in ./model/run-14/checkpoint-803/pytorch_model.bin\n",
      " 75%|███████▌  | 876/1168 [03:58<00:59,  4.93it/s]***** Running Evaluation *****\n",
      "  Num examples = 37\n",
      "  Batch size = 2\n",
      "/home/ppibot/anaconda3/envs/myenv/lib/python3.9/site-packages/sklearn/metrics/_classification.py:1334: UndefinedMetricWarning: Precision and F-score are ill-defined and being set to 0.0 in labels with no predicted samples. Use `zero_division` parameter to control this behavior.\n",
      "  _warn_prf(average, modifier, msg_start, len(result))\n",
      "/home/ppibot/anaconda3/envs/myenv/lib/python3.9/site-packages/sklearn/metrics/_classification.py:1334: UndefinedMetricWarning: Recall and F-score are ill-defined and being set to 0.0 in labels with no true samples. Use `zero_division` parameter to control this behavior.\n",
      "  _warn_prf(average, modifier, msg_start, len(result))\n",
      "                                                  \n",
      " 75%|███████▌  | 876/1168 [04:01<00:59,  4.93it/s]Saving model checkpoint to ./model/run-14/checkpoint-876\n",
      "Configuration saved in ./model/run-14/checkpoint-876/config.json\n"
     ]
    },
    {
     "name": "stdout",
     "output_type": "stream",
     "text": [
      "{'eval_loss': 0.43639302253723145, 'eval_accuracy': 0.7027027027027027, 'eval_f1': 0.5416666666666666, 'eval_precision': 0.5416666666666666, 'eval_recall': 0.5416666666666666, 'eval_slot': 0.9115381817684449, 'eval_slot_accuracy': 0.8558558558558559, 'eval_runtime': 3.1388, 'eval_samples_per_second': 11.788, 'eval_steps_per_second': 6.053, 'epoch': 12.0}\n"
     ]
    },
    {
     "name": "stderr",
     "output_type": "stream",
     "text": [
      "Model weights saved in ./model/run-14/checkpoint-876/pytorch_model.bin\n",
      " 81%|████████▏ | 949/1168 [04:21<00:43,  5.03it/s]***** Running Evaluation *****\n",
      "  Num examples = 37\n",
      "  Batch size = 2\n",
      "/home/ppibot/anaconda3/envs/myenv/lib/python3.9/site-packages/sklearn/metrics/_classification.py:1334: UndefinedMetricWarning: Precision and F-score are ill-defined and being set to 0.0 in labels with no predicted samples. Use `zero_division` parameter to control this behavior.\n",
      "  _warn_prf(average, modifier, msg_start, len(result))\n",
      "/home/ppibot/anaconda3/envs/myenv/lib/python3.9/site-packages/sklearn/metrics/_classification.py:1334: UndefinedMetricWarning: Recall and F-score are ill-defined and being set to 0.0 in labels with no true samples. Use `zero_division` parameter to control this behavior.\n",
      "  _warn_prf(average, modifier, msg_start, len(result))\n",
      "                                                  \n",
      " 81%|████████▏ | 949/1168 [04:24<00:43,  5.03it/s]Saving model checkpoint to ./model/run-14/checkpoint-949\n",
      "Configuration saved in ./model/run-14/checkpoint-949/config.json\n"
     ]
    },
    {
     "name": "stdout",
     "output_type": "stream",
     "text": [
      "{'eval_loss': 0.43417245149612427, 'eval_accuracy': 0.6756756756756757, 'eval_f1': 0.5102040816326531, 'eval_precision': 0.5102040816326531, 'eval_recall': 0.5102040816326531, 'eval_slot': 0.884511154741418, 'eval_slot_accuracy': 0.8288288288288289, 'eval_runtime': 2.939, 'eval_samples_per_second': 12.589, 'eval_steps_per_second': 6.465, 'epoch': 13.0}\n"
     ]
    },
    {
     "name": "stderr",
     "output_type": "stream",
     "text": [
      "Model weights saved in ./model/run-14/checkpoint-949/pytorch_model.bin\n",
      " 86%|████████▌ | 1001/1168 [04:47<00:33,  5.01it/s]"
     ]
    },
    {
     "name": "stdout",
     "output_type": "stream",
     "text": [
      "{'loss': 0.0197, 'learning_rate': 1.400144601041381e-05, 'epoch': 13.7}\n"
     ]
    },
    {
     "name": "stderr",
     "output_type": "stream",
     "text": [
      " 88%|████████▊ | 1022/1168 [04:51<00:29,  5.03it/s]***** Running Evaluation *****\n",
      "  Num examples = 37\n",
      "  Batch size = 2\n",
      "/home/ppibot/anaconda3/envs/myenv/lib/python3.9/site-packages/sklearn/metrics/_classification.py:1334: UndefinedMetricWarning: Precision and F-score are ill-defined and being set to 0.0 in labels with no predicted samples. Use `zero_division` parameter to control this behavior.\n",
      "  _warn_prf(average, modifier, msg_start, len(result))\n",
      "/home/ppibot/anaconda3/envs/myenv/lib/python3.9/site-packages/sklearn/metrics/_classification.py:1334: UndefinedMetricWarning: Recall and F-score are ill-defined and being set to 0.0 in labels with no true samples. Use `zero_division` parameter to control this behavior.\n",
      "  _warn_prf(average, modifier, msg_start, len(result))\n",
      "                                                   \n",
      " 88%|████████▊ | 1022/1168 [04:54<00:29,  5.03it/s]Saving model checkpoint to ./model/run-14/checkpoint-1022\n",
      "Configuration saved in ./model/run-14/checkpoint-1022/config.json\n"
     ]
    },
    {
     "name": "stdout",
     "output_type": "stream",
     "text": [
      "{'eval_loss': 0.4259980618953705, 'eval_accuracy': 0.6486486486486487, 'eval_f1': 0.48, 'eval_precision': 0.48, 'eval_recall': 0.48, 'eval_slot': 0.8722261424564056, 'eval_slot_accuracy': 0.8153153153153153, 'eval_runtime': 2.9718, 'eval_samples_per_second': 12.45, 'eval_steps_per_second': 6.393, 'epoch': 14.0}\n"
     ]
    },
    {
     "name": "stderr",
     "output_type": "stream",
     "text": [
      "Model weights saved in ./model/run-14/checkpoint-1022/pytorch_model.bin\n",
      " 94%|█████████▍| 1095/1168 [05:11<00:14,  5.02it/s]***** Running Evaluation *****\n",
      "  Num examples = 37\n",
      "  Batch size = 2\n",
      "/home/ppibot/anaconda3/envs/myenv/lib/python3.9/site-packages/sklearn/metrics/_classification.py:1334: UndefinedMetricWarning: Precision and F-score are ill-defined and being set to 0.0 in labels with no predicted samples. Use `zero_division` parameter to control this behavior.\n",
      "  _warn_prf(average, modifier, msg_start, len(result))\n",
      "/home/ppibot/anaconda3/envs/myenv/lib/python3.9/site-packages/sklearn/metrics/_classification.py:1334: UndefinedMetricWarning: Recall and F-score are ill-defined and being set to 0.0 in labels with no true samples. Use `zero_division` parameter to control this behavior.\n",
      "  _warn_prf(average, modifier, msg_start, len(result))\n",
      "                                                   \n",
      " 94%|█████████▍| 1095/1168 [05:14<00:14,  5.02it/s]Saving model checkpoint to ./model/run-14/checkpoint-1095\n",
      "Configuration saved in ./model/run-14/checkpoint-1095/config.json\n"
     ]
    },
    {
     "name": "stdout",
     "output_type": "stream",
     "text": [
      "{'eval_loss': 0.43716347217559814, 'eval_accuracy': 0.6756756756756757, 'eval_f1': 0.5102040816326531, 'eval_precision': 0.5102040816326531, 'eval_recall': 0.5102040816326531, 'eval_slot': 0.9115381817684449, 'eval_slot_accuracy': 0.8558558558558559, 'eval_runtime': 3.0119, 'eval_samples_per_second': 12.285, 'eval_steps_per_second': 6.308, 'epoch': 15.0}\n"
     ]
    },
    {
     "name": "stderr",
     "output_type": "stream",
     "text": [
      "Model weights saved in ./model/run-14/checkpoint-1095/pytorch_model.bin\n",
      "100%|██████████| 1168/1168 [05:36<00:00,  5.01it/s]***** Running Evaluation *****\n",
      "  Num examples = 37\n",
      "  Batch size = 2\n",
      "/home/ppibot/anaconda3/envs/myenv/lib/python3.9/site-packages/sklearn/metrics/_classification.py:1334: UndefinedMetricWarning: Precision and F-score are ill-defined and being set to 0.0 in labels with no predicted samples. Use `zero_division` parameter to control this behavior.\n",
      "  _warn_prf(average, modifier, msg_start, len(result))\n",
      "/home/ppibot/anaconda3/envs/myenv/lib/python3.9/site-packages/sklearn/metrics/_classification.py:1334: UndefinedMetricWarning: Recall and F-score are ill-defined and being set to 0.0 in labels with no true samples. Use `zero_division` parameter to control this behavior.\n",
      "  _warn_prf(average, modifier, msg_start, len(result))\n",
      "                                                   \n",
      "100%|██████████| 1168/1168 [05:39<00:00,  5.01it/s]"
     ]
    },
    {
     "name": "stdout",
     "output_type": "stream",
     "text": [
      "{'eval_loss': 0.4395577609539032, 'eval_accuracy': 0.6756756756756757, 'eval_f1': 0.5102040816326531, 'eval_precision': 0.5102040816326531, 'eval_recall': 0.5102040816326531, 'eval_slot': 0.9115381817684449, 'eval_slot_accuracy': 0.8558558558558559, 'eval_runtime': 3.0284, 'eval_samples_per_second': 12.217, 'eval_steps_per_second': 6.274, 'epoch': 16.0}\n"
     ]
    },
    {
     "name": "stderr",
     "output_type": "stream",
     "text": [
      "Saving model checkpoint to ./model/run-14/checkpoint-1168\n",
      "Configuration saved in ./model/run-14/checkpoint-1168/config.json\n",
      "Model weights saved in ./model/run-14/checkpoint-1168/pytorch_model.bin\n",
      "\n",
      "\n",
      "Training completed. Do not forget to share your model on huggingface.co/models =)\n",
      "\n",
      "\n",
      "Loading best model from ./model/run-14/checkpoint-876 (score: 0.8558558558558559).\n",
      "100%|██████████| 1168/1168 [05:43<00:00,  3.40it/s]\n",
      "\u001b[32m[I 2023-06-11 19:24:46,639]\u001b[0m Trial 14 finished with value: 0.8558558558558559 and parameters: {'learning_rate': 9.734338654859125e-05, 'num_train_epochs': 16}. Best is trial 11 with value: 0.8558558558558559.\u001b[0m\n",
      "Trial: {'learning_rate': 9.629684689121527e-05, 'num_train_epochs': 18}\n"
     ]
    },
    {
     "name": "stdout",
     "output_type": "stream",
     "text": [
      "{'train_runtime': 343.4585, 'train_samples_per_second': 6.801, 'train_steps_per_second': 3.401, 'train_loss': 0.12080183084288688, 'epoch': 16.0}\n"
     ]
    },
    {
     "name": "stderr",
     "output_type": "stream",
     "text": [
      "loading configuration file config.json from cache at /home/ppibot/.cache/huggingface/hub/models--google--flan-t5-base/snapshots/c782cba52f8ea6a704240578055cf1c3fc2f2ca9/config.json\n",
      "Model config T5Config {\n",
      "  \"_name_or_path\": \"google/flan-t5-base\",\n",
      "  \"architectures\": [\n",
      "    \"T5ForConditionalGeneration\"\n",
      "  ],\n",
      "  \"d_ff\": 2048,\n",
      "  \"d_kv\": 64,\n",
      "  \"d_model\": 768,\n",
      "  \"decoder_start_token_id\": 0,\n",
      "  \"dense_act_fn\": \"gelu_new\",\n",
      "  \"dropout_rate\": 0.1,\n",
      "  \"eos_token_id\": 1,\n",
      "  \"feed_forward_proj\": \"gated-gelu\",\n",
      "  \"initializer_factor\": 1.0,\n",
      "  \"is_encoder_decoder\": true,\n",
      "  \"is_gated_act\": true,\n",
      "  \"layer_norm_epsilon\": 1e-06,\n",
      "  \"model_type\": \"t5\",\n",
      "  \"n_positions\": 512,\n",
      "  \"num_decoder_layers\": 12,\n",
      "  \"num_heads\": 12,\n",
      "  \"num_layers\": 12,\n",
      "  \"output_past\": true,\n",
      "  \"pad_token_id\": 0,\n",
      "  \"relative_attention_max_distance\": 128,\n",
      "  \"relative_attention_num_buckets\": 32,\n",
      "  \"task_specific_params\": {\n",
      "    \"summarization\": {\n",
      "      \"early_stopping\": true,\n",
      "      \"length_penalty\": 2.0,\n",
      "      \"max_length\": 200,\n",
      "      \"min_length\": 30,\n",
      "      \"no_repeat_ngram_size\": 3,\n",
      "      \"num_beams\": 4,\n",
      "      \"prefix\": \"summarize: \"\n",
      "    },\n",
      "    \"translation_en_to_de\": {\n",
      "      \"early_stopping\": true,\n",
      "      \"max_length\": 300,\n",
      "      \"num_beams\": 4,\n",
      "      \"prefix\": \"translate English to German: \"\n",
      "    },\n",
      "    \"translation_en_to_fr\": {\n",
      "      \"early_stopping\": true,\n",
      "      \"max_length\": 300,\n",
      "      \"num_beams\": 4,\n",
      "      \"prefix\": \"translate English to French: \"\n",
      "    },\n",
      "    \"translation_en_to_ro\": {\n",
      "      \"early_stopping\": true,\n",
      "      \"max_length\": 300,\n",
      "      \"num_beams\": 4,\n",
      "      \"prefix\": \"translate English to Romanian: \"\n",
      "    }\n",
      "  },\n",
      "  \"tie_word_embeddings\": false,\n",
      "  \"transformers_version\": \"4.24.0\",\n",
      "  \"use_cache\": true,\n",
      "  \"vocab_size\": 32128\n",
      "}\n",
      "\n",
      "loading weights file pytorch_model.bin from cache at /home/ppibot/.cache/huggingface/hub/models--google--flan-t5-base/snapshots/c782cba52f8ea6a704240578055cf1c3fc2f2ca9/pytorch_model.bin\n",
      "All model checkpoint weights were used when initializing T5ForConditionalGeneration.\n",
      "\n",
      "All the weights of T5ForConditionalGeneration were initialized from the model checkpoint at google/flan-t5-base.\n",
      "If your task is similar to the task the model of the checkpoint was trained on, you can already use T5ForConditionalGeneration for predictions without further training.\n",
      "/home/ppibot/anaconda3/envs/myenv/lib/python3.9/site-packages/transformers/optimization.py:306: FutureWarning: This implementation of AdamW is deprecated and will be removed in a future version. Use the PyTorch implementation torch.optim.AdamW instead, or set `no_deprecation_warning=True` to disable this warning\n",
      "  warnings.warn(\n",
      "***** Running training *****\n",
      "  Num examples = 146\n",
      "  Num Epochs = 18\n",
      "  Instantaneous batch size per device = 2\n",
      "  Total train batch size (w. parallel, distributed & accumulation) = 2\n",
      "  Gradient Accumulation steps = 1\n",
      "  Total optimization steps = 1314\n",
      "  Number of trainable parameters = 247577856\n",
      "  6%|▌         | 73/1314 [00:14<04:06,  5.04it/s]***** Running Evaluation *****\n",
      "  Num examples = 37\n",
      "  Batch size = 2\n",
      "/home/ppibot/anaconda3/envs/myenv/lib/python3.9/site-packages/sklearn/metrics/_classification.py:1334: UndefinedMetricWarning: Precision and F-score are ill-defined and being set to 0.0 in labels with no predicted samples. Use `zero_division` parameter to control this behavior.\n",
      "  _warn_prf(average, modifier, msg_start, len(result))\n",
      "/home/ppibot/anaconda3/envs/myenv/lib/python3.9/site-packages/sklearn/metrics/_classification.py:1334: UndefinedMetricWarning: Recall and F-score are ill-defined and being set to 0.0 in labels with no true samples. Use `zero_division` parameter to control this behavior.\n",
      "  _warn_prf(average, modifier, msg_start, len(result))\n",
      "                                                 \n",
      "  6%|▌         | 73/1314 [00:17<04:06,  5.04it/s]Saving model checkpoint to ./model/run-15/checkpoint-73\n",
      "Configuration saved in ./model/run-15/checkpoint-73/config.json\n"
     ]
    },
    {
     "name": "stdout",
     "output_type": "stream",
     "text": [
      "{'eval_loss': 0.36377575993537903, 'eval_accuracy': 0.40540540540540543, 'eval_f1': 0.2542372881355932, 'eval_precision': 0.2542372881355932, 'eval_recall': 0.2542372881355932, 'eval_slot': 0.7395962569661083, 'eval_slot_accuracy': 0.6666666666666667, 'eval_runtime': 2.9325, 'eval_samples_per_second': 12.617, 'eval_steps_per_second': 6.479, 'epoch': 1.0}\n"
     ]
    },
    {
     "name": "stderr",
     "output_type": "stream",
     "text": [
      "Model weights saved in ./model/run-15/checkpoint-73/pytorch_model.bin\n",
      " 11%|█         | 146/1314 [00:36<03:51,  5.04it/s]***** Running Evaluation *****\n",
      "  Num examples = 37\n",
      "  Batch size = 2\n",
      "/home/ppibot/anaconda3/envs/myenv/lib/python3.9/site-packages/sklearn/metrics/_classification.py:1334: UndefinedMetricWarning: Precision and F-score are ill-defined and being set to 0.0 in labels with no predicted samples. Use `zero_division` parameter to control this behavior.\n",
      "  _warn_prf(average, modifier, msg_start, len(result))\n",
      "/home/ppibot/anaconda3/envs/myenv/lib/python3.9/site-packages/sklearn/metrics/_classification.py:1334: UndefinedMetricWarning: Recall and F-score are ill-defined and being set to 0.0 in labels with no true samples. Use `zero_division` parameter to control this behavior.\n",
      "  _warn_prf(average, modifier, msg_start, len(result))\n",
      "                                                  \n",
      " 11%|█         | 146/1314 [00:39<05:14,  3.71it/s]\n",
      "\u001b[32m[I 2023-06-11 19:25:32,939]\u001b[0m Trial 15 pruned. \u001b[0m\n",
      "Trial: {'learning_rate': 5.1920491922401235e-05, 'num_train_epochs': 12}\n"
     ]
    },
    {
     "name": "stdout",
     "output_type": "stream",
     "text": [
      "{'eval_loss': 0.3540211319923401, 'eval_accuracy': 0.43243243243243246, 'eval_f1': 0.27586206896551724, 'eval_precision': 0.27586206896551724, 'eval_recall': 0.27586206896551724, 'eval_slot': 0.7217262193238358, 'eval_slot_accuracy': 0.6666666666666666, 'eval_runtime': 2.9109, 'eval_samples_per_second': 12.711, 'eval_steps_per_second': 6.527, 'epoch': 2.0}\n"
     ]
    },
    {
     "name": "stderr",
     "output_type": "stream",
     "text": [
      "loading configuration file config.json from cache at /home/ppibot/.cache/huggingface/hub/models--google--flan-t5-base/snapshots/c782cba52f8ea6a704240578055cf1c3fc2f2ca9/config.json\n",
      "Model config T5Config {\n",
      "  \"_name_or_path\": \"google/flan-t5-base\",\n",
      "  \"architectures\": [\n",
      "    \"T5ForConditionalGeneration\"\n",
      "  ],\n",
      "  \"d_ff\": 2048,\n",
      "  \"d_kv\": 64,\n",
      "  \"d_model\": 768,\n",
      "  \"decoder_start_token_id\": 0,\n",
      "  \"dense_act_fn\": \"gelu_new\",\n",
      "  \"dropout_rate\": 0.1,\n",
      "  \"eos_token_id\": 1,\n",
      "  \"feed_forward_proj\": \"gated-gelu\",\n",
      "  \"initializer_factor\": 1.0,\n",
      "  \"is_encoder_decoder\": true,\n",
      "  \"is_gated_act\": true,\n",
      "  \"layer_norm_epsilon\": 1e-06,\n",
      "  \"model_type\": \"t5\",\n",
      "  \"n_positions\": 512,\n",
      "  \"num_decoder_layers\": 12,\n",
      "  \"num_heads\": 12,\n",
      "  \"num_layers\": 12,\n",
      "  \"output_past\": true,\n",
      "  \"pad_token_id\": 0,\n",
      "  \"relative_attention_max_distance\": 128,\n",
      "  \"relative_attention_num_buckets\": 32,\n",
      "  \"task_specific_params\": {\n",
      "    \"summarization\": {\n",
      "      \"early_stopping\": true,\n",
      "      \"length_penalty\": 2.0,\n",
      "      \"max_length\": 200,\n",
      "      \"min_length\": 30,\n",
      "      \"no_repeat_ngram_size\": 3,\n",
      "      \"num_beams\": 4,\n",
      "      \"prefix\": \"summarize: \"\n",
      "    },\n",
      "    \"translation_en_to_de\": {\n",
      "      \"early_stopping\": true,\n",
      "      \"max_length\": 300,\n",
      "      \"num_beams\": 4,\n",
      "      \"prefix\": \"translate English to German: \"\n",
      "    },\n",
      "    \"translation_en_to_fr\": {\n",
      "      \"early_stopping\": true,\n",
      "      \"max_length\": 300,\n",
      "      \"num_beams\": 4,\n",
      "      \"prefix\": \"translate English to French: \"\n",
      "    },\n",
      "    \"translation_en_to_ro\": {\n",
      "      \"early_stopping\": true,\n",
      "      \"max_length\": 300,\n",
      "      \"num_beams\": 4,\n",
      "      \"prefix\": \"translate English to Romanian: \"\n",
      "    }\n",
      "  },\n",
      "  \"tie_word_embeddings\": false,\n",
      "  \"transformers_version\": \"4.24.0\",\n",
      "  \"use_cache\": true,\n",
      "  \"vocab_size\": 32128\n",
      "}\n",
      "\n",
      "loading weights file pytorch_model.bin from cache at /home/ppibot/.cache/huggingface/hub/models--google--flan-t5-base/snapshots/c782cba52f8ea6a704240578055cf1c3fc2f2ca9/pytorch_model.bin\n",
      "All model checkpoint weights were used when initializing T5ForConditionalGeneration.\n",
      "\n",
      "All the weights of T5ForConditionalGeneration were initialized from the model checkpoint at google/flan-t5-base.\n",
      "If your task is similar to the task the model of the checkpoint was trained on, you can already use T5ForConditionalGeneration for predictions without further training.\n",
      "/home/ppibot/anaconda3/envs/myenv/lib/python3.9/site-packages/transformers/optimization.py:306: FutureWarning: This implementation of AdamW is deprecated and will be removed in a future version. Use the PyTorch implementation torch.optim.AdamW instead, or set `no_deprecation_warning=True` to disable this warning\n",
      "  warnings.warn(\n",
      "***** Running training *****\n",
      "  Num examples = 146\n",
      "  Num Epochs = 12\n",
      "  Instantaneous batch size per device = 2\n",
      "  Total train batch size (w. parallel, distributed & accumulation) = 2\n",
      "  Gradient Accumulation steps = 1\n",
      "  Total optimization steps = 876\n",
      "  Number of trainable parameters = 247577856\n",
      "  8%|▊         | 73/876 [00:14<02:40,  4.99it/s]***** Running Evaluation *****\n",
      "  Num examples = 37\n",
      "  Batch size = 2\n",
      "/home/ppibot/anaconda3/envs/myenv/lib/python3.9/site-packages/sklearn/metrics/_classification.py:1334: UndefinedMetricWarning: Precision and F-score are ill-defined and being set to 0.0 in labels with no predicted samples. Use `zero_division` parameter to control this behavior.\n",
      "  _warn_prf(average, modifier, msg_start, len(result))\n",
      "/home/ppibot/anaconda3/envs/myenv/lib/python3.9/site-packages/sklearn/metrics/_classification.py:1334: UndefinedMetricWarning: Recall and F-score are ill-defined and being set to 0.0 in labels with no true samples. Use `zero_division` parameter to control this behavior.\n",
      "  _warn_prf(average, modifier, msg_start, len(result))\n",
      "                                                \n",
      "  8%|▊         | 73/876 [00:17<03:10,  4.21it/s]\n",
      "\u001b[32m[I 2023-06-11 19:25:51,897]\u001b[0m Trial 16 pruned. \u001b[0m\n"
     ]
    },
    {
     "name": "stdout",
     "output_type": "stream",
     "text": [
      "{'eval_loss': 0.5018011331558228, 'eval_accuracy': 0.1891891891891892, 'eval_f1': 0.1044776119402985, 'eval_precision': 0.1044776119402985, 'eval_recall': 0.1044776119402985, 'eval_slot': 0.5551371441487963, 'eval_slot_accuracy': 0.3918918918918919, 'eval_runtime': 2.7827, 'eval_samples_per_second': 13.296, 'eval_steps_per_second': 6.828, 'epoch': 1.0}\n"
     ]
    },
    {
     "name": "stderr",
     "output_type": "stream",
     "text": [
      "Trial: {'learning_rate': 9.152618542332939e-05, 'num_train_epochs': 16}\n",
      "loading configuration file config.json from cache at /home/ppibot/.cache/huggingface/hub/models--google--flan-t5-base/snapshots/c782cba52f8ea6a704240578055cf1c3fc2f2ca9/config.json\n",
      "Model config T5Config {\n",
      "  \"_name_or_path\": \"google/flan-t5-base\",\n",
      "  \"architectures\": [\n",
      "    \"T5ForConditionalGeneration\"\n",
      "  ],\n",
      "  \"d_ff\": 2048,\n",
      "  \"d_kv\": 64,\n",
      "  \"d_model\": 768,\n",
      "  \"decoder_start_token_id\": 0,\n",
      "  \"dense_act_fn\": \"gelu_new\",\n",
      "  \"dropout_rate\": 0.1,\n",
      "  \"eos_token_id\": 1,\n",
      "  \"feed_forward_proj\": \"gated-gelu\",\n",
      "  \"initializer_factor\": 1.0,\n",
      "  \"is_encoder_decoder\": true,\n",
      "  \"is_gated_act\": true,\n",
      "  \"layer_norm_epsilon\": 1e-06,\n",
      "  \"model_type\": \"t5\",\n",
      "  \"n_positions\": 512,\n",
      "  \"num_decoder_layers\": 12,\n",
      "  \"num_heads\": 12,\n",
      "  \"num_layers\": 12,\n",
      "  \"output_past\": true,\n",
      "  \"pad_token_id\": 0,\n",
      "  \"relative_attention_max_distance\": 128,\n",
      "  \"relative_attention_num_buckets\": 32,\n",
      "  \"task_specific_params\": {\n",
      "    \"summarization\": {\n",
      "      \"early_stopping\": true,\n",
      "      \"length_penalty\": 2.0,\n",
      "      \"max_length\": 200,\n",
      "      \"min_length\": 30,\n",
      "      \"no_repeat_ngram_size\": 3,\n",
      "      \"num_beams\": 4,\n",
      "      \"prefix\": \"summarize: \"\n",
      "    },\n",
      "    \"translation_en_to_de\": {\n",
      "      \"early_stopping\": true,\n",
      "      \"max_length\": 300,\n",
      "      \"num_beams\": 4,\n",
      "      \"prefix\": \"translate English to German: \"\n",
      "    },\n",
      "    \"translation_en_to_fr\": {\n",
      "      \"early_stopping\": true,\n",
      "      \"max_length\": 300,\n",
      "      \"num_beams\": 4,\n",
      "      \"prefix\": \"translate English to French: \"\n",
      "    },\n",
      "    \"translation_en_to_ro\": {\n",
      "      \"early_stopping\": true,\n",
      "      \"max_length\": 300,\n",
      "      \"num_beams\": 4,\n",
      "      \"prefix\": \"translate English to Romanian: \"\n",
      "    }\n",
      "  },\n",
      "  \"tie_word_embeddings\": false,\n",
      "  \"transformers_version\": \"4.24.0\",\n",
      "  \"use_cache\": true,\n",
      "  \"vocab_size\": 32128\n",
      "}\n",
      "\n",
      "loading weights file pytorch_model.bin from cache at /home/ppibot/.cache/huggingface/hub/models--google--flan-t5-base/snapshots/c782cba52f8ea6a704240578055cf1c3fc2f2ca9/pytorch_model.bin\n",
      "All model checkpoint weights were used when initializing T5ForConditionalGeneration.\n",
      "\n",
      "All the weights of T5ForConditionalGeneration were initialized from the model checkpoint at google/flan-t5-base.\n",
      "If your task is similar to the task the model of the checkpoint was trained on, you can already use T5ForConditionalGeneration for predictions without further training.\n",
      "/home/ppibot/anaconda3/envs/myenv/lib/python3.9/site-packages/transformers/optimization.py:306: FutureWarning: This implementation of AdamW is deprecated and will be removed in a future version. Use the PyTorch implementation torch.optim.AdamW instead, or set `no_deprecation_warning=True` to disable this warning\n",
      "  warnings.warn(\n",
      "***** Running training *****\n",
      "  Num examples = 146\n",
      "  Num Epochs = 16\n",
      "  Instantaneous batch size per device = 2\n",
      "  Total train batch size (w. parallel, distributed & accumulation) = 2\n",
      "  Gradient Accumulation steps = 1\n",
      "  Total optimization steps = 1168\n",
      "  Number of trainable parameters = 247577856\n",
      "  6%|▋         | 73/1168 [00:14<03:38,  5.01it/s]***** Running Evaluation *****\n",
      "  Num examples = 37\n",
      "  Batch size = 2\n",
      "/home/ppibot/anaconda3/envs/myenv/lib/python3.9/site-packages/sklearn/metrics/_classification.py:1334: UndefinedMetricWarning: Precision and F-score are ill-defined and being set to 0.0 in labels with no predicted samples. Use `zero_division` parameter to control this behavior.\n",
      "  _warn_prf(average, modifier, msg_start, len(result))\n",
      "/home/ppibot/anaconda3/envs/myenv/lib/python3.9/site-packages/sklearn/metrics/_classification.py:1334: UndefinedMetricWarning: Recall and F-score are ill-defined and being set to 0.0 in labels with no true samples. Use `zero_division` parameter to control this behavior.\n",
      "  _warn_prf(average, modifier, msg_start, len(result))\n",
      "                                                 \n",
      "  6%|▋         | 73/1168 [00:17<03:38,  5.01it/s]Saving model checkpoint to ./model/run-17/checkpoint-73\n",
      "Configuration saved in ./model/run-17/checkpoint-73/config.json\n"
     ]
    },
    {
     "name": "stdout",
     "output_type": "stream",
     "text": [
      "{'eval_loss': 0.37135377526283264, 'eval_accuracy': 0.3783783783783784, 'eval_f1': 0.23333333333333334, 'eval_precision': 0.23333333333333334, 'eval_recall': 0.23333333333333334, 'eval_slot': 0.7315882489581004, 'eval_slot_accuracy': 0.6531531531531531, 'eval_runtime': 2.8382, 'eval_samples_per_second': 13.036, 'eval_steps_per_second': 6.694, 'epoch': 1.0}\n"
     ]
    },
    {
     "name": "stderr",
     "output_type": "stream",
     "text": [
      "Model weights saved in ./model/run-17/checkpoint-73/pytorch_model.bin\n",
      " 12%|█▎        | 146/1168 [00:34<03:23,  5.02it/s]***** Running Evaluation *****\n",
      "  Num examples = 37\n",
      "  Batch size = 2\n",
      "/home/ppibot/anaconda3/envs/myenv/lib/python3.9/site-packages/sklearn/metrics/_classification.py:1334: UndefinedMetricWarning: Precision and F-score are ill-defined and being set to 0.0 in labels with no predicted samples. Use `zero_division` parameter to control this behavior.\n",
      "  _warn_prf(average, modifier, msg_start, len(result))\n",
      "/home/ppibot/anaconda3/envs/myenv/lib/python3.9/site-packages/sklearn/metrics/_classification.py:1334: UndefinedMetricWarning: Recall and F-score are ill-defined and being set to 0.0 in labels with no true samples. Use `zero_division` parameter to control this behavior.\n",
      "  _warn_prf(average, modifier, msg_start, len(result))\n",
      "                                                  \n",
      " 12%|█▎        | 146/1168 [00:37<03:23,  5.02it/s]Saving model checkpoint to ./model/run-17/checkpoint-146\n",
      "Configuration saved in ./model/run-17/checkpoint-146/config.json\n"
     ]
    },
    {
     "name": "stdout",
     "output_type": "stream",
     "text": [
      "{'eval_loss': 0.34320396184921265, 'eval_accuracy': 0.4864864864864865, 'eval_f1': 0.32142857142857145, 'eval_precision': 0.32142857142857145, 'eval_recall': 0.32142857142857145, 'eval_slot': 0.757117696327155, 'eval_slot_accuracy': 0.7027027027027026, 'eval_runtime': 3.0333, 'eval_samples_per_second': 12.198, 'eval_steps_per_second': 6.264, 'epoch': 2.0}\n"
     ]
    },
    {
     "name": "stderr",
     "output_type": "stream",
     "text": [
      "Model weights saved in ./model/run-17/checkpoint-146/pytorch_model.bin\n",
      " 19%|█▉        | 219/1168 [00:55<03:08,  5.03it/s]***** Running Evaluation *****\n",
      "  Num examples = 37\n",
      "  Batch size = 2\n",
      "/home/ppibot/anaconda3/envs/myenv/lib/python3.9/site-packages/sklearn/metrics/_classification.py:1334: UndefinedMetricWarning: Precision and F-score are ill-defined and being set to 0.0 in labels with no predicted samples. Use `zero_division` parameter to control this behavior.\n",
      "  _warn_prf(average, modifier, msg_start, len(result))\n",
      "/home/ppibot/anaconda3/envs/myenv/lib/python3.9/site-packages/sklearn/metrics/_classification.py:1334: UndefinedMetricWarning: Recall and F-score are ill-defined and being set to 0.0 in labels with no true samples. Use `zero_division` parameter to control this behavior.\n",
      "  _warn_prf(average, modifier, msg_start, len(result))\n",
      "                                                  \n",
      " 19%|█▉        | 219/1168 [00:58<03:08,  5.03it/s]Saving model checkpoint to ./model/run-17/checkpoint-219\n",
      "Configuration saved in ./model/run-17/checkpoint-219/config.json\n"
     ]
    },
    {
     "name": "stdout",
     "output_type": "stream",
     "text": [
      "{'eval_loss': 0.33802422881126404, 'eval_accuracy': 0.5945945945945946, 'eval_f1': 0.4230769230769231, 'eval_precision': 0.4230769230769231, 'eval_recall': 0.4230769230769231, 'eval_slot': 0.878629183342205, 'eval_slot_accuracy': 0.7927927927927928, 'eval_runtime': 2.9587, 'eval_samples_per_second': 12.506, 'eval_steps_per_second': 6.422, 'epoch': 3.0}\n"
     ]
    },
    {
     "name": "stderr",
     "output_type": "stream",
     "text": [
      "Model weights saved in ./model/run-17/checkpoint-219/pytorch_model.bin\n",
      " 25%|██▌       | 292/1168 [01:16<02:54,  5.02it/s]***** Running Evaluation *****\n",
      "  Num examples = 37\n",
      "  Batch size = 2\n",
      "/home/ppibot/anaconda3/envs/myenv/lib/python3.9/site-packages/sklearn/metrics/_classification.py:1334: UndefinedMetricWarning: Precision and F-score are ill-defined and being set to 0.0 in labels with no predicted samples. Use `zero_division` parameter to control this behavior.\n",
      "  _warn_prf(average, modifier, msg_start, len(result))\n",
      "/home/ppibot/anaconda3/envs/myenv/lib/python3.9/site-packages/sklearn/metrics/_classification.py:1334: UndefinedMetricWarning: Recall and F-score are ill-defined and being set to 0.0 in labels with no true samples. Use `zero_division` parameter to control this behavior.\n",
      "  _warn_prf(average, modifier, msg_start, len(result))\n",
      "                                                  \n",
      " 25%|██▌       | 292/1168 [01:19<02:54,  5.02it/s]Saving model checkpoint to ./model/run-17/checkpoint-292\n",
      "Configuration saved in ./model/run-17/checkpoint-292/config.json\n"
     ]
    },
    {
     "name": "stdout",
     "output_type": "stream",
     "text": [
      "{'eval_loss': 0.38123005628585815, 'eval_accuracy': 0.6486486486486487, 'eval_f1': 0.48, 'eval_precision': 0.48, 'eval_recall': 0.48, 'eval_slot': 0.8676896724026942, 'eval_slot_accuracy': 0.7837837837837838, 'eval_runtime': 2.9149, 'eval_samples_per_second': 12.694, 'eval_steps_per_second': 6.518, 'epoch': 4.0}\n"
     ]
    },
    {
     "name": "stderr",
     "output_type": "stream",
     "text": [
      "Model weights saved in ./model/run-17/checkpoint-292/pytorch_model.bin\n",
      " 31%|███▏      | 365/1168 [01:37<02:39,  5.04it/s]***** Running Evaluation *****\n",
      "  Num examples = 37\n",
      "  Batch size = 2\n",
      "/home/ppibot/anaconda3/envs/myenv/lib/python3.9/site-packages/sklearn/metrics/_classification.py:1334: UndefinedMetricWarning: Precision and F-score are ill-defined and being set to 0.0 in labels with no predicted samples. Use `zero_division` parameter to control this behavior.\n",
      "  _warn_prf(average, modifier, msg_start, len(result))\n",
      "/home/ppibot/anaconda3/envs/myenv/lib/python3.9/site-packages/sklearn/metrics/_classification.py:1334: UndefinedMetricWarning: Recall and F-score are ill-defined and being set to 0.0 in labels with no true samples. Use `zero_division` parameter to control this behavior.\n",
      "  _warn_prf(average, modifier, msg_start, len(result))\n",
      "                                                  \n",
      " 31%|███▏      | 365/1168 [01:40<02:39,  5.04it/s]Saving model checkpoint to ./model/run-17/checkpoint-365\n",
      "Configuration saved in ./model/run-17/checkpoint-365/config.json\n"
     ]
    },
    {
     "name": "stdout",
     "output_type": "stream",
     "text": [
      "{'eval_loss': 0.3923269510269165, 'eval_accuracy': 0.6756756756756757, 'eval_f1': 0.5102040816326531, 'eval_precision': 0.5102040816326531, 'eval_recall': 0.5102040816326531, 'eval_slot': 0.8608634269194614, 'eval_slot_accuracy': 0.8108108108108109, 'eval_runtime': 2.8928, 'eval_samples_per_second': 12.79, 'eval_steps_per_second': 6.568, 'epoch': 5.0}\n"
     ]
    },
    {
     "name": "stderr",
     "output_type": "stream",
     "text": [
      "Model weights saved in ./model/run-17/checkpoint-365/pytorch_model.bin\n",
      " 38%|███▊      | 438/1168 [01:57<02:25,  5.03it/s]***** Running Evaluation *****\n",
      "  Num examples = 37\n",
      "  Batch size = 2\n",
      "/home/ppibot/anaconda3/envs/myenv/lib/python3.9/site-packages/sklearn/metrics/_classification.py:1334: UndefinedMetricWarning: Precision and F-score are ill-defined and being set to 0.0 in labels with no predicted samples. Use `zero_division` parameter to control this behavior.\n",
      "  _warn_prf(average, modifier, msg_start, len(result))\n",
      "/home/ppibot/anaconda3/envs/myenv/lib/python3.9/site-packages/sklearn/metrics/_classification.py:1334: UndefinedMetricWarning: Recall and F-score are ill-defined and being set to 0.0 in labels with no true samples. Use `zero_division` parameter to control this behavior.\n",
      "  _warn_prf(average, modifier, msg_start, len(result))\n",
      "                                                  \n",
      " 38%|███▊      | 438/1168 [02:00<02:25,  5.03it/s]Saving model checkpoint to ./model/run-17/checkpoint-438\n",
      "Configuration saved in ./model/run-17/checkpoint-438/config.json\n"
     ]
    },
    {
     "name": "stdout",
     "output_type": "stream",
     "text": [
      "{'eval_loss': 0.3513231575489044, 'eval_accuracy': 0.6756756756756757, 'eval_f1': 0.5102040816326531, 'eval_precision': 0.5102040816326531, 'eval_recall': 0.5102040816326531, 'eval_slot': 0.8683096385399017, 'eval_slot_accuracy': 0.8198198198198198, 'eval_runtime': 2.9575, 'eval_samples_per_second': 12.51, 'eval_steps_per_second': 6.424, 'epoch': 6.0}\n"
     ]
    },
    {
     "name": "stderr",
     "output_type": "stream",
     "text": [
      "Model weights saved in ./model/run-17/checkpoint-438/pytorch_model.bin\n",
      " 43%|████▎     | 501/1168 [02:16<02:13,  4.98it/s]"
     ]
    },
    {
     "name": "stdout",
     "output_type": "stream",
     "text": [
      "{'loss': 0.266, 'learning_rate': 5.2345455361972624e-05, 'epoch': 6.85}\n"
     ]
    },
    {
     "name": "stderr",
     "output_type": "stream",
     "text": [
      " 44%|████▍     | 511/1168 [02:18<02:11,  5.00it/s]***** Running Evaluation *****\n",
      "  Num examples = 37\n",
      "  Batch size = 2\n",
      "/home/ppibot/anaconda3/envs/myenv/lib/python3.9/site-packages/sklearn/metrics/_classification.py:1334: UndefinedMetricWarning: Precision and F-score are ill-defined and being set to 0.0 in labels with no predicted samples. Use `zero_division` parameter to control this behavior.\n",
      "  _warn_prf(average, modifier, msg_start, len(result))\n",
      "/home/ppibot/anaconda3/envs/myenv/lib/python3.9/site-packages/sklearn/metrics/_classification.py:1334: UndefinedMetricWarning: Recall and F-score are ill-defined and being set to 0.0 in labels with no true samples. Use `zero_division` parameter to control this behavior.\n",
      "  _warn_prf(average, modifier, msg_start, len(result))\n",
      "                                                  \n",
      " 44%|████▍     | 511/1168 [02:21<02:11,  5.00it/s]Saving model checkpoint to ./model/run-17/checkpoint-511\n",
      "Configuration saved in ./model/run-17/checkpoint-511/config.json\n"
     ]
    },
    {
     "name": "stdout",
     "output_type": "stream",
     "text": [
      "{'eval_loss': 0.3801026940345764, 'eval_accuracy': 0.6486486486486487, 'eval_f1': 0.48, 'eval_precision': 0.48, 'eval_recall': 0.48, 'eval_slot': 0.8602073804376434, 'eval_slot_accuracy': 0.7972972972972973, 'eval_runtime': 3.118, 'eval_samples_per_second': 11.867, 'eval_steps_per_second': 6.094, 'epoch': 7.0}\n"
     ]
    },
    {
     "name": "stderr",
     "output_type": "stream",
     "text": [
      "Model weights saved in ./model/run-17/checkpoint-511/pytorch_model.bin\n",
      " 50%|█████     | 584/1168 [02:38<01:56,  5.03it/s]***** Running Evaluation *****\n",
      "  Num examples = 37\n",
      "  Batch size = 2\n",
      "/home/ppibot/anaconda3/envs/myenv/lib/python3.9/site-packages/sklearn/metrics/_classification.py:1334: UndefinedMetricWarning: Precision and F-score are ill-defined and being set to 0.0 in labels with no predicted samples. Use `zero_division` parameter to control this behavior.\n",
      "  _warn_prf(average, modifier, msg_start, len(result))\n",
      "/home/ppibot/anaconda3/envs/myenv/lib/python3.9/site-packages/sklearn/metrics/_classification.py:1334: UndefinedMetricWarning: Recall and F-score are ill-defined and being set to 0.0 in labels with no true samples. Use `zero_division` parameter to control this behavior.\n",
      "  _warn_prf(average, modifier, msg_start, len(result))\n",
      "                                                  \n",
      " 50%|█████     | 584/1168 [02:41<01:56,  5.03it/s]Saving model checkpoint to ./model/run-17/checkpoint-584\n",
      "Configuration saved in ./model/run-17/checkpoint-584/config.json\n"
     ]
    },
    {
     "name": "stdout",
     "output_type": "stream",
     "text": [
      "{'eval_loss': 0.40945902466773987, 'eval_accuracy': 0.6216216216216216, 'eval_f1': 0.45098039215686275, 'eval_precision': 0.45098039215686275, 'eval_recall': 0.45098039215686275, 'eval_slot': 0.8756749303879522, 'eval_slot_accuracy': 0.7972972972972973, 'eval_runtime': 2.9781, 'eval_samples_per_second': 12.424, 'eval_steps_per_second': 6.38, 'epoch': 8.0}\n"
     ]
    },
    {
     "name": "stderr",
     "output_type": "stream",
     "text": [
      "Model weights saved in ./model/run-17/checkpoint-584/pytorch_model.bin\n",
      " 56%|█████▋    | 657/1168 [02:58<01:42,  5.00it/s]***** Running Evaluation *****\n",
      "  Num examples = 37\n",
      "  Batch size = 2\n",
      "/home/ppibot/anaconda3/envs/myenv/lib/python3.9/site-packages/sklearn/metrics/_classification.py:1334: UndefinedMetricWarning: Precision and F-score are ill-defined and being set to 0.0 in labels with no predicted samples. Use `zero_division` parameter to control this behavior.\n",
      "  _warn_prf(average, modifier, msg_start, len(result))\n",
      "/home/ppibot/anaconda3/envs/myenv/lib/python3.9/site-packages/sklearn/metrics/_classification.py:1334: UndefinedMetricWarning: Recall and F-score are ill-defined and being set to 0.0 in labels with no true samples. Use `zero_division` parameter to control this behavior.\n",
      "  _warn_prf(average, modifier, msg_start, len(result))\n",
      "                                                  \n",
      " 56%|█████▋    | 657/1168 [03:01<01:42,  5.00it/s]Saving model checkpoint to ./model/run-17/checkpoint-657\n",
      "Configuration saved in ./model/run-17/checkpoint-657/config.json\n"
     ]
    },
    {
     "name": "stdout",
     "output_type": "stream",
     "text": [
      "{'eval_loss': 0.4370613992214203, 'eval_accuracy': 0.6486486486486487, 'eval_f1': 0.48, 'eval_precision': 0.48, 'eval_recall': 0.48, 'eval_slot': 0.8518321220623851, 'eval_slot_accuracy': 0.7972972972972973, 'eval_runtime': 2.9573, 'eval_samples_per_second': 12.511, 'eval_steps_per_second': 6.425, 'epoch': 9.0}\n"
     ]
    },
    {
     "name": "stderr",
     "output_type": "stream",
     "text": [
      "Model weights saved in ./model/run-17/checkpoint-657/pytorch_model.bin\n",
      " 62%|██████▎   | 730/1168 [03:18<01:27,  5.03it/s]***** Running Evaluation *****\n",
      "  Num examples = 37\n",
      "  Batch size = 2\n",
      "/home/ppibot/anaconda3/envs/myenv/lib/python3.9/site-packages/sklearn/metrics/_classification.py:1334: UndefinedMetricWarning: Precision and F-score are ill-defined and being set to 0.0 in labels with no predicted samples. Use `zero_division` parameter to control this behavior.\n",
      "  _warn_prf(average, modifier, msg_start, len(result))\n",
      "/home/ppibot/anaconda3/envs/myenv/lib/python3.9/site-packages/sklearn/metrics/_classification.py:1334: UndefinedMetricWarning: Recall and F-score are ill-defined and being set to 0.0 in labels with no true samples. Use `zero_division` parameter to control this behavior.\n",
      "  _warn_prf(average, modifier, msg_start, len(result))\n",
      "                                                  \n",
      " 62%|██████▎   | 730/1168 [03:21<01:27,  5.03it/s]Saving model checkpoint to ./model/run-17/checkpoint-730\n",
      "Configuration saved in ./model/run-17/checkpoint-730/config.json\n"
     ]
    },
    {
     "name": "stdout",
     "output_type": "stream",
     "text": [
      "{'eval_loss': 0.44499340653419495, 'eval_accuracy': 0.6486486486486487, 'eval_f1': 0.48, 'eval_precision': 0.48, 'eval_recall': 0.48, 'eval_slot': 0.8630933833236464, 'eval_slot_accuracy': 0.7972972972972973, 'eval_runtime': 2.9642, 'eval_samples_per_second': 12.482, 'eval_steps_per_second': 6.41, 'epoch': 10.0}\n"
     ]
    },
    {
     "name": "stderr",
     "output_type": "stream",
     "text": [
      "Model weights saved in ./model/run-17/checkpoint-730/pytorch_model.bin\n",
      " 69%|██████▉   | 803/1168 [03:38<01:12,  5.03it/s]***** Running Evaluation *****\n",
      "  Num examples = 37\n",
      "  Batch size = 2\n",
      "/home/ppibot/anaconda3/envs/myenv/lib/python3.9/site-packages/sklearn/metrics/_classification.py:1334: UndefinedMetricWarning: Precision and F-score are ill-defined and being set to 0.0 in labels with no predicted samples. Use `zero_division` parameter to control this behavior.\n",
      "  _warn_prf(average, modifier, msg_start, len(result))\n",
      "/home/ppibot/anaconda3/envs/myenv/lib/python3.9/site-packages/sklearn/metrics/_classification.py:1334: UndefinedMetricWarning: Recall and F-score are ill-defined and being set to 0.0 in labels with no true samples. Use `zero_division` parameter to control this behavior.\n",
      "  _warn_prf(average, modifier, msg_start, len(result))\n",
      "                                                  \n",
      " 69%|██████▉   | 803/1168 [03:41<01:12,  5.03it/s]Saving model checkpoint to ./model/run-17/checkpoint-803\n",
      "Configuration saved in ./model/run-17/checkpoint-803/config.json\n"
     ]
    },
    {
     "name": "stdout",
     "output_type": "stream",
     "text": [
      "{'eval_loss': 0.41287609934806824, 'eval_accuracy': 0.6486486486486487, 'eval_f1': 0.48, 'eval_precision': 0.48, 'eval_recall': 0.48, 'eval_slot': 0.884511154741418, 'eval_slot_accuracy': 0.8288288288288289, 'eval_runtime': 2.9654, 'eval_samples_per_second': 12.477, 'eval_steps_per_second': 6.407, 'epoch': 11.0}\n"
     ]
    },
    {
     "name": "stderr",
     "output_type": "stream",
     "text": [
      "Model weights saved in ./model/run-17/checkpoint-803/pytorch_model.bin\n",
      " 75%|███████▌  | 876/1168 [04:00<00:58,  5.00it/s]***** Running Evaluation *****\n",
      "  Num examples = 37\n",
      "  Batch size = 2\n",
      "/home/ppibot/anaconda3/envs/myenv/lib/python3.9/site-packages/sklearn/metrics/_classification.py:1334: UndefinedMetricWarning: Precision and F-score are ill-defined and being set to 0.0 in labels with no predicted samples. Use `zero_division` parameter to control this behavior.\n",
      "  _warn_prf(average, modifier, msg_start, len(result))\n",
      "/home/ppibot/anaconda3/envs/myenv/lib/python3.9/site-packages/sklearn/metrics/_classification.py:1334: UndefinedMetricWarning: Recall and F-score are ill-defined and being set to 0.0 in labels with no true samples. Use `zero_division` parameter to control this behavior.\n",
      "  _warn_prf(average, modifier, msg_start, len(result))\n",
      "                                                  \n",
      " 75%|███████▌  | 876/1168 [04:03<00:58,  5.00it/s]Saving model checkpoint to ./model/run-17/checkpoint-876\n",
      "Configuration saved in ./model/run-17/checkpoint-876/config.json\n"
     ]
    },
    {
     "name": "stdout",
     "output_type": "stream",
     "text": [
      "{'eval_loss': 0.40775221586227417, 'eval_accuracy': 0.6756756756756757, 'eval_f1': 0.5102040816326531, 'eval_precision': 0.5102040816326531, 'eval_recall': 0.5102040816326531, 'eval_slot': 0.9115381817684449, 'eval_slot_accuracy': 0.8558558558558559, 'eval_runtime': 2.979, 'eval_samples_per_second': 12.42, 'eval_steps_per_second': 6.378, 'epoch': 12.0}\n"
     ]
    },
    {
     "name": "stderr",
     "output_type": "stream",
     "text": [
      "Model weights saved in ./model/run-17/checkpoint-876/pytorch_model.bin\n",
      " 81%|████████▏ | 949/1168 [04:22<00:43,  5.03it/s]***** Running Evaluation *****\n",
      "  Num examples = 37\n",
      "  Batch size = 2\n",
      "/home/ppibot/anaconda3/envs/myenv/lib/python3.9/site-packages/sklearn/metrics/_classification.py:1334: UndefinedMetricWarning: Precision and F-score are ill-defined and being set to 0.0 in labels with no predicted samples. Use `zero_division` parameter to control this behavior.\n",
      "  _warn_prf(average, modifier, msg_start, len(result))\n",
      "/home/ppibot/anaconda3/envs/myenv/lib/python3.9/site-packages/sklearn/metrics/_classification.py:1334: UndefinedMetricWarning: Recall and F-score are ill-defined and being set to 0.0 in labels with no true samples. Use `zero_division` parameter to control this behavior.\n",
      "  _warn_prf(average, modifier, msg_start, len(result))\n",
      "                                                  \n",
      " 81%|████████▏ | 949/1168 [04:25<00:43,  5.03it/s]Saving model checkpoint to ./model/run-17/checkpoint-949\n",
      "Configuration saved in ./model/run-17/checkpoint-949/config.json\n"
     ]
    },
    {
     "name": "stdout",
     "output_type": "stream",
     "text": [
      "{'eval_loss': 0.43563756346702576, 'eval_accuracy': 0.6756756756756757, 'eval_f1': 0.5102040816326531, 'eval_precision': 0.5102040816326531, 'eval_recall': 0.5102040816326531, 'eval_slot': 0.8696521398824031, 'eval_slot_accuracy': 0.8063063063063064, 'eval_runtime': 2.869, 'eval_samples_per_second': 12.896, 'eval_steps_per_second': 6.622, 'epoch': 13.0}\n"
     ]
    },
    {
     "name": "stderr",
     "output_type": "stream",
     "text": [
      "Model weights saved in ./model/run-17/checkpoint-949/pytorch_model.bin\n",
      " 86%|████████▌ | 1001/1168 [04:43<00:33,  5.01it/s]"
     ]
    },
    {
     "name": "stdout",
     "output_type": "stream",
     "text": [
      "{'loss': 0.024, 'learning_rate': 1.316472530061587e-05, 'epoch': 13.7}\n"
     ]
    },
    {
     "name": "stderr",
     "output_type": "stream",
     "text": [
      " 88%|████████▊ | 1022/1168 [04:47<00:28,  5.04it/s]***** Running Evaluation *****\n",
      "  Num examples = 37\n",
      "  Batch size = 2\n",
      "/home/ppibot/anaconda3/envs/myenv/lib/python3.9/site-packages/sklearn/metrics/_classification.py:1334: UndefinedMetricWarning: Precision and F-score are ill-defined and being set to 0.0 in labels with no predicted samples. Use `zero_division` parameter to control this behavior.\n",
      "  _warn_prf(average, modifier, msg_start, len(result))\n",
      "/home/ppibot/anaconda3/envs/myenv/lib/python3.9/site-packages/sklearn/metrics/_classification.py:1334: UndefinedMetricWarning: Recall and F-score are ill-defined and being set to 0.0 in labels with no true samples. Use `zero_division` parameter to control this behavior.\n",
      "  _warn_prf(average, modifier, msg_start, len(result))\n",
      "                                                   \n",
      " 88%|████████▊ | 1022/1168 [04:50<00:28,  5.04it/s]Saving model checkpoint to ./model/run-17/checkpoint-1022\n",
      "Configuration saved in ./model/run-17/checkpoint-1022/config.json\n"
     ]
    },
    {
     "name": "stdout",
     "output_type": "stream",
     "text": [
      "{'eval_loss': 0.4235903322696686, 'eval_accuracy': 0.6486486486486487, 'eval_f1': 0.48, 'eval_precision': 0.48, 'eval_recall': 0.48, 'eval_slot': 0.8696521398824031, 'eval_slot_accuracy': 0.8063063063063064, 'eval_runtime': 2.9466, 'eval_samples_per_second': 12.557, 'eval_steps_per_second': 6.448, 'epoch': 14.0}\n"
     ]
    },
    {
     "name": "stderr",
     "output_type": "stream",
     "text": [
      "Model weights saved in ./model/run-17/checkpoint-1022/pytorch_model.bin\n",
      " 94%|█████████▍| 1095/1168 [05:13<00:14,  5.04it/s]***** Running Evaluation *****\n",
      "  Num examples = 37\n",
      "  Batch size = 2\n",
      "/home/ppibot/anaconda3/envs/myenv/lib/python3.9/site-packages/sklearn/metrics/_classification.py:1334: UndefinedMetricWarning: Precision and F-score are ill-defined and being set to 0.0 in labels with no predicted samples. Use `zero_division` parameter to control this behavior.\n",
      "  _warn_prf(average, modifier, msg_start, len(result))\n",
      "/home/ppibot/anaconda3/envs/myenv/lib/python3.9/site-packages/sklearn/metrics/_classification.py:1334: UndefinedMetricWarning: Recall and F-score are ill-defined and being set to 0.0 in labels with no true samples. Use `zero_division` parameter to control this behavior.\n",
      "  _warn_prf(average, modifier, msg_start, len(result))\n",
      "                                                   \n",
      " 94%|█████████▍| 1095/1168 [05:16<00:14,  5.04it/s]Saving model checkpoint to ./model/run-17/checkpoint-1095\n",
      "Configuration saved in ./model/run-17/checkpoint-1095/config.json\n"
     ]
    },
    {
     "name": "stdout",
     "output_type": "stream",
     "text": [
      "{'eval_loss': 0.4381730854511261, 'eval_accuracy': 0.6756756756756757, 'eval_f1': 0.5102040816326531, 'eval_precision': 0.5102040816326531, 'eval_recall': 0.5102040816326531, 'eval_slot': 0.8966791669094302, 'eval_slot_accuracy': 0.8333333333333334, 'eval_runtime': 2.9413, 'eval_samples_per_second': 12.58, 'eval_steps_per_second': 6.46, 'epoch': 15.0}\n"
     ]
    },
    {
     "name": "stderr",
     "output_type": "stream",
     "text": [
      "Model weights saved in ./model/run-17/checkpoint-1095/pytorch_model.bin\n",
      "100%|██████████| 1168/1168 [05:33<00:00,  5.03it/s]***** Running Evaluation *****\n",
      "  Num examples = 37\n",
      "  Batch size = 2\n",
      "/home/ppibot/anaconda3/envs/myenv/lib/python3.9/site-packages/sklearn/metrics/_classification.py:1334: UndefinedMetricWarning: Precision and F-score are ill-defined and being set to 0.0 in labels with no predicted samples. Use `zero_division` parameter to control this behavior.\n",
      "  _warn_prf(average, modifier, msg_start, len(result))\n",
      "/home/ppibot/anaconda3/envs/myenv/lib/python3.9/site-packages/sklearn/metrics/_classification.py:1334: UndefinedMetricWarning: Recall and F-score are ill-defined and being set to 0.0 in labels with no true samples. Use `zero_division` parameter to control this behavior.\n",
      "  _warn_prf(average, modifier, msg_start, len(result))\n",
      "                                                   \n",
      "100%|██████████| 1168/1168 [05:36<00:00,  5.03it/s]Saving model checkpoint to ./model/run-17/checkpoint-1168\n",
      "Configuration saved in ./model/run-17/checkpoint-1168/config.json\n"
     ]
    },
    {
     "name": "stdout",
     "output_type": "stream",
     "text": [
      "{'eval_loss': 0.4371049702167511, 'eval_accuracy': 0.6486486486486487, 'eval_f1': 0.48, 'eval_precision': 0.48, 'eval_recall': 0.48, 'eval_slot': 0.8809134011436643, 'eval_slot_accuracy': 0.8063063063063064, 'eval_runtime': 2.9683, 'eval_samples_per_second': 12.465, 'eval_steps_per_second': 6.401, 'epoch': 16.0}\n"
     ]
    },
    {
     "name": "stderr",
     "output_type": "stream",
     "text": [
      "Model weights saved in ./model/run-17/checkpoint-1168/pytorch_model.bin\n",
      "\n",
      "\n",
      "Training completed. Do not forget to share your model on huggingface.co/models =)\n",
      "\n",
      "\n",
      "Loading best model from ./model/run-17/checkpoint-876 (score: 0.8558558558558559).\n",
      "100%|██████████| 1168/1168 [05:41<00:00,  3.42it/s]\n",
      "\u001b[32m[I 2023-06-11 19:31:35,174]\u001b[0m Trial 17 finished with value: 0.8063063063063064 and parameters: {'learning_rate': 9.152618542332939e-05, 'num_train_epochs': 16}. Best is trial 11 with value: 0.8558558558558559.\u001b[0m\n",
      "Trial: {'learning_rate': 5.6310593246364374e-05, 'num_train_epochs': 13}\n"
     ]
    },
    {
     "name": "stdout",
     "output_type": "stream",
     "text": [
      "{'train_runtime': 341.4667, 'train_samples_per_second': 6.841, 'train_steps_per_second': 3.421, 'train_loss': 0.12542985277633145, 'epoch': 16.0}\n"
     ]
    },
    {
     "name": "stderr",
     "output_type": "stream",
     "text": [
      "loading configuration file config.json from cache at /home/ppibot/.cache/huggingface/hub/models--google--flan-t5-base/snapshots/c782cba52f8ea6a704240578055cf1c3fc2f2ca9/config.json\n",
      "Model config T5Config {\n",
      "  \"_name_or_path\": \"google/flan-t5-base\",\n",
      "  \"architectures\": [\n",
      "    \"T5ForConditionalGeneration\"\n",
      "  ],\n",
      "  \"d_ff\": 2048,\n",
      "  \"d_kv\": 64,\n",
      "  \"d_model\": 768,\n",
      "  \"decoder_start_token_id\": 0,\n",
      "  \"dense_act_fn\": \"gelu_new\",\n",
      "  \"dropout_rate\": 0.1,\n",
      "  \"eos_token_id\": 1,\n",
      "  \"feed_forward_proj\": \"gated-gelu\",\n",
      "  \"initializer_factor\": 1.0,\n",
      "  \"is_encoder_decoder\": true,\n",
      "  \"is_gated_act\": true,\n",
      "  \"layer_norm_epsilon\": 1e-06,\n",
      "  \"model_type\": \"t5\",\n",
      "  \"n_positions\": 512,\n",
      "  \"num_decoder_layers\": 12,\n",
      "  \"num_heads\": 12,\n",
      "  \"num_layers\": 12,\n",
      "  \"output_past\": true,\n",
      "  \"pad_token_id\": 0,\n",
      "  \"relative_attention_max_distance\": 128,\n",
      "  \"relative_attention_num_buckets\": 32,\n",
      "  \"task_specific_params\": {\n",
      "    \"summarization\": {\n",
      "      \"early_stopping\": true,\n",
      "      \"length_penalty\": 2.0,\n",
      "      \"max_length\": 200,\n",
      "      \"min_length\": 30,\n",
      "      \"no_repeat_ngram_size\": 3,\n",
      "      \"num_beams\": 4,\n",
      "      \"prefix\": \"summarize: \"\n",
      "    },\n",
      "    \"translation_en_to_de\": {\n",
      "      \"early_stopping\": true,\n",
      "      \"max_length\": 300,\n",
      "      \"num_beams\": 4,\n",
      "      \"prefix\": \"translate English to German: \"\n",
      "    },\n",
      "    \"translation_en_to_fr\": {\n",
      "      \"early_stopping\": true,\n",
      "      \"max_length\": 300,\n",
      "      \"num_beams\": 4,\n",
      "      \"prefix\": \"translate English to French: \"\n",
      "    },\n",
      "    \"translation_en_to_ro\": {\n",
      "      \"early_stopping\": true,\n",
      "      \"max_length\": 300,\n",
      "      \"num_beams\": 4,\n",
      "      \"prefix\": \"translate English to Romanian: \"\n",
      "    }\n",
      "  },\n",
      "  \"tie_word_embeddings\": false,\n",
      "  \"transformers_version\": \"4.24.0\",\n",
      "  \"use_cache\": true,\n",
      "  \"vocab_size\": 32128\n",
      "}\n",
      "\n",
      "loading weights file pytorch_model.bin from cache at /home/ppibot/.cache/huggingface/hub/models--google--flan-t5-base/snapshots/c782cba52f8ea6a704240578055cf1c3fc2f2ca9/pytorch_model.bin\n",
      "All model checkpoint weights were used when initializing T5ForConditionalGeneration.\n",
      "\n",
      "All the weights of T5ForConditionalGeneration were initialized from the model checkpoint at google/flan-t5-base.\n",
      "If your task is similar to the task the model of the checkpoint was trained on, you can already use T5ForConditionalGeneration for predictions without further training.\n",
      "/home/ppibot/anaconda3/envs/myenv/lib/python3.9/site-packages/transformers/optimization.py:306: FutureWarning: This implementation of AdamW is deprecated and will be removed in a future version. Use the PyTorch implementation torch.optim.AdamW instead, or set `no_deprecation_warning=True` to disable this warning\n",
      "  warnings.warn(\n",
      "***** Running training *****\n",
      "  Num examples = 146\n",
      "  Num Epochs = 13\n",
      "  Instantaneous batch size per device = 2\n",
      "  Total train batch size (w. parallel, distributed & accumulation) = 2\n",
      "  Gradient Accumulation steps = 1\n",
      "  Total optimization steps = 949\n",
      "  Number of trainable parameters = 247577856\n",
      "  8%|▊         | 73/949 [00:14<02:53,  5.04it/s]***** Running Evaluation *****\n",
      "  Num examples = 37\n",
      "  Batch size = 2\n",
      "/home/ppibot/anaconda3/envs/myenv/lib/python3.9/site-packages/sklearn/metrics/_classification.py:1334: UndefinedMetricWarning: Precision and F-score are ill-defined and being set to 0.0 in labels with no predicted samples. Use `zero_division` parameter to control this behavior.\n",
      "  _warn_prf(average, modifier, msg_start, len(result))\n",
      "/home/ppibot/anaconda3/envs/myenv/lib/python3.9/site-packages/sklearn/metrics/_classification.py:1334: UndefinedMetricWarning: Recall and F-score are ill-defined and being set to 0.0 in labels with no true samples. Use `zero_division` parameter to control this behavior.\n",
      "  _warn_prf(average, modifier, msg_start, len(result))\n",
      "                                                \n",
      "  8%|▊         | 73/949 [00:17<03:27,  4.22it/s]\n",
      "\u001b[32m[I 2023-06-11 19:31:54,456]\u001b[0m Trial 18 pruned. \u001b[0m\n",
      "Trial: {'learning_rate': 9.820829165797194e-05, 'num_train_epochs': 8}\n"
     ]
    },
    {
     "name": "stdout",
     "output_type": "stream",
     "text": [
      "{'eval_loss': 0.48350292444229126, 'eval_accuracy': 0.1891891891891892, 'eval_f1': 0.1044776119402985, 'eval_precision': 0.1044776119402985, 'eval_recall': 0.1044776119402985, 'eval_slot': 0.6041247433632558, 'eval_slot_accuracy': 0.42792792792792794, 'eval_runtime': 2.8016, 'eval_samples_per_second': 13.207, 'eval_steps_per_second': 6.782, 'epoch': 1.0}\n"
     ]
    },
    {
     "name": "stderr",
     "output_type": "stream",
     "text": [
      "loading configuration file config.json from cache at /home/ppibot/.cache/huggingface/hub/models--google--flan-t5-base/snapshots/c782cba52f8ea6a704240578055cf1c3fc2f2ca9/config.json\n",
      "Model config T5Config {\n",
      "  \"_name_or_path\": \"google/flan-t5-base\",\n",
      "  \"architectures\": [\n",
      "    \"T5ForConditionalGeneration\"\n",
      "  ],\n",
      "  \"d_ff\": 2048,\n",
      "  \"d_kv\": 64,\n",
      "  \"d_model\": 768,\n",
      "  \"decoder_start_token_id\": 0,\n",
      "  \"dense_act_fn\": \"gelu_new\",\n",
      "  \"dropout_rate\": 0.1,\n",
      "  \"eos_token_id\": 1,\n",
      "  \"feed_forward_proj\": \"gated-gelu\",\n",
      "  \"initializer_factor\": 1.0,\n",
      "  \"is_encoder_decoder\": true,\n",
      "  \"is_gated_act\": true,\n",
      "  \"layer_norm_epsilon\": 1e-06,\n",
      "  \"model_type\": \"t5\",\n",
      "  \"n_positions\": 512,\n",
      "  \"num_decoder_layers\": 12,\n",
      "  \"num_heads\": 12,\n",
      "  \"num_layers\": 12,\n",
      "  \"output_past\": true,\n",
      "  \"pad_token_id\": 0,\n",
      "  \"relative_attention_max_distance\": 128,\n",
      "  \"relative_attention_num_buckets\": 32,\n",
      "  \"task_specific_params\": {\n",
      "    \"summarization\": {\n",
      "      \"early_stopping\": true,\n",
      "      \"length_penalty\": 2.0,\n",
      "      \"max_length\": 200,\n",
      "      \"min_length\": 30,\n",
      "      \"no_repeat_ngram_size\": 3,\n",
      "      \"num_beams\": 4,\n",
      "      \"prefix\": \"summarize: \"\n",
      "    },\n",
      "    \"translation_en_to_de\": {\n",
      "      \"early_stopping\": true,\n",
      "      \"max_length\": 300,\n",
      "      \"num_beams\": 4,\n",
      "      \"prefix\": \"translate English to German: \"\n",
      "    },\n",
      "    \"translation_en_to_fr\": {\n",
      "      \"early_stopping\": true,\n",
      "      \"max_length\": 300,\n",
      "      \"num_beams\": 4,\n",
      "      \"prefix\": \"translate English to French: \"\n",
      "    },\n",
      "    \"translation_en_to_ro\": {\n",
      "      \"early_stopping\": true,\n",
      "      \"max_length\": 300,\n",
      "      \"num_beams\": 4,\n",
      "      \"prefix\": \"translate English to Romanian: \"\n",
      "    }\n",
      "  },\n",
      "  \"tie_word_embeddings\": false,\n",
      "  \"transformers_version\": \"4.24.0\",\n",
      "  \"use_cache\": true,\n",
      "  \"vocab_size\": 32128\n",
      "}\n",
      "\n",
      "loading weights file pytorch_model.bin from cache at /home/ppibot/.cache/huggingface/hub/models--google--flan-t5-base/snapshots/c782cba52f8ea6a704240578055cf1c3fc2f2ca9/pytorch_model.bin\n",
      "All model checkpoint weights were used when initializing T5ForConditionalGeneration.\n",
      "\n",
      "All the weights of T5ForConditionalGeneration were initialized from the model checkpoint at google/flan-t5-base.\n",
      "If your task is similar to the task the model of the checkpoint was trained on, you can already use T5ForConditionalGeneration for predictions without further training.\n",
      "/home/ppibot/anaconda3/envs/myenv/lib/python3.9/site-packages/transformers/optimization.py:306: FutureWarning: This implementation of AdamW is deprecated and will be removed in a future version. Use the PyTorch implementation torch.optim.AdamW instead, or set `no_deprecation_warning=True` to disable this warning\n",
      "  warnings.warn(\n",
      "***** Running training *****\n",
      "  Num examples = 146\n",
      "  Num Epochs = 8\n",
      "  Instantaneous batch size per device = 2\n",
      "  Total train batch size (w. parallel, distributed & accumulation) = 2\n",
      "  Gradient Accumulation steps = 1\n",
      "  Total optimization steps = 584\n",
      "  Number of trainable parameters = 247577856\n",
      " 12%|█▎        | 73/584 [00:14<01:41,  5.03it/s]***** Running Evaluation *****\n",
      "  Num examples = 37\n",
      "  Batch size = 2\n",
      "/home/ppibot/anaconda3/envs/myenv/lib/python3.9/site-packages/sklearn/metrics/_classification.py:1334: UndefinedMetricWarning: Precision and F-score are ill-defined and being set to 0.0 in labels with no predicted samples. Use `zero_division` parameter to control this behavior.\n",
      "  _warn_prf(average, modifier, msg_start, len(result))\n",
      "/home/ppibot/anaconda3/envs/myenv/lib/python3.9/site-packages/sklearn/metrics/_classification.py:1334: UndefinedMetricWarning: Recall and F-score are ill-defined and being set to 0.0 in labels with no true samples. Use `zero_division` parameter to control this behavior.\n",
      "  _warn_prf(average, modifier, msg_start, len(result))\n",
      "                                                \n",
      " 12%|█▎        | 73/584 [00:17<01:41,  5.03it/s]Saving model checkpoint to ./model/run-19/checkpoint-73\n",
      "Configuration saved in ./model/run-19/checkpoint-73/config.json\n"
     ]
    },
    {
     "name": "stdout",
     "output_type": "stream",
     "text": [
      "{'eval_loss': 0.36578458547592163, 'eval_accuracy': 0.43243243243243246, 'eval_f1': 0.27586206896551724, 'eval_precision': 0.27586206896551724, 'eval_recall': 0.27586206896551724, 'eval_slot': 0.7486052659751173, 'eval_slot_accuracy': 0.6756756756756757, 'eval_runtime': 3.0001, 'eval_samples_per_second': 12.333, 'eval_steps_per_second': 6.333, 'epoch': 1.0}\n"
     ]
    },
    {
     "name": "stderr",
     "output_type": "stream",
     "text": [
      "Model weights saved in ./model/run-19/checkpoint-73/pytorch_model.bin\n",
      " 25%|██▌       | 146/584 [00:34<01:27,  5.03it/s]***** Running Evaluation *****\n",
      "  Num examples = 37\n",
      "  Batch size = 2\n",
      "/home/ppibot/anaconda3/envs/myenv/lib/python3.9/site-packages/sklearn/metrics/_classification.py:1334: UndefinedMetricWarning: Precision and F-score are ill-defined and being set to 0.0 in labels with no predicted samples. Use `zero_division` parameter to control this behavior.\n",
      "  _warn_prf(average, modifier, msg_start, len(result))\n",
      "/home/ppibot/anaconda3/envs/myenv/lib/python3.9/site-packages/sklearn/metrics/_classification.py:1334: UndefinedMetricWarning: Recall and F-score are ill-defined and being set to 0.0 in labels with no true samples. Use `zero_division` parameter to control this behavior.\n",
      "  _warn_prf(average, modifier, msg_start, len(result))\n",
      "                                                 \n",
      " 25%|██▌       | 146/584 [00:37<01:27,  5.03it/s]Saving model checkpoint to ./model/run-19/checkpoint-146\n",
      "Configuration saved in ./model/run-19/checkpoint-146/config.json\n"
     ]
    },
    {
     "name": "stdout",
     "output_type": "stream",
     "text": [
      "{'eval_loss': 0.3670193552970886, 'eval_accuracy': 0.43243243243243246, 'eval_f1': 0.27586206896551724, 'eval_precision': 0.27586206896551724, 'eval_recall': 0.27586206896551724, 'eval_slot': 0.71207265128211, 'eval_slot_accuracy': 0.6576576576576576, 'eval_runtime': 2.9412, 'eval_samples_per_second': 12.58, 'eval_steps_per_second': 6.46, 'epoch': 2.0}\n"
     ]
    },
    {
     "name": "stderr",
     "output_type": "stream",
     "text": [
      "Model weights saved in ./model/run-19/checkpoint-146/pytorch_model.bin\n",
      " 38%|███▊      | 219/584 [00:55<01:14,  4.93it/s]***** Running Evaluation *****\n",
      "  Num examples = 37\n",
      "  Batch size = 2\n",
      "/home/ppibot/anaconda3/envs/myenv/lib/python3.9/site-packages/sklearn/metrics/_classification.py:1334: UndefinedMetricWarning: Precision and F-score are ill-defined and being set to 0.0 in labels with no predicted samples. Use `zero_division` parameter to control this behavior.\n",
      "  _warn_prf(average, modifier, msg_start, len(result))\n",
      "/home/ppibot/anaconda3/envs/myenv/lib/python3.9/site-packages/sklearn/metrics/_classification.py:1334: UndefinedMetricWarning: Recall and F-score are ill-defined and being set to 0.0 in labels with no true samples. Use `zero_division` parameter to control this behavior.\n",
      "  _warn_prf(average, modifier, msg_start, len(result))\n",
      "                                                 \n",
      " 38%|███▊      | 219/584 [00:58<01:14,  4.93it/s]Saving model checkpoint to ./model/run-19/checkpoint-219\n",
      "Configuration saved in ./model/run-19/checkpoint-219/config.json\n"
     ]
    },
    {
     "name": "stdout",
     "output_type": "stream",
     "text": [
      "{'eval_loss': 0.3075892925262451, 'eval_accuracy': 0.5945945945945946, 'eval_f1': 0.4230769230769231, 'eval_precision': 0.4230769230769231, 'eval_recall': 0.4230769230769231, 'eval_slot': 0.8494669041799259, 'eval_slot_accuracy': 0.7792792792792792, 'eval_runtime': 3.0862, 'eval_samples_per_second': 11.989, 'eval_steps_per_second': 6.156, 'epoch': 3.0}\n"
     ]
    },
    {
     "name": "stderr",
     "output_type": "stream",
     "text": [
      "Model weights saved in ./model/run-19/checkpoint-219/pytorch_model.bin\n",
      " 50%|█████     | 292/584 [01:16<00:58,  5.03it/s]***** Running Evaluation *****\n",
      "  Num examples = 37\n",
      "  Batch size = 2\n",
      "/home/ppibot/anaconda3/envs/myenv/lib/python3.9/site-packages/sklearn/metrics/_classification.py:1334: UndefinedMetricWarning: Precision and F-score are ill-defined and being set to 0.0 in labels with no predicted samples. Use `zero_division` parameter to control this behavior.\n",
      "  _warn_prf(average, modifier, msg_start, len(result))\n",
      "/home/ppibot/anaconda3/envs/myenv/lib/python3.9/site-packages/sklearn/metrics/_classification.py:1334: UndefinedMetricWarning: Recall and F-score are ill-defined and being set to 0.0 in labels with no true samples. Use `zero_division` parameter to control this behavior.\n",
      "  _warn_prf(average, modifier, msg_start, len(result))\n",
      "                                                 \n",
      " 50%|█████     | 292/584 [01:19<00:58,  5.03it/s]Saving model checkpoint to ./model/run-19/checkpoint-292\n",
      "Configuration saved in ./model/run-19/checkpoint-292/config.json\n"
     ]
    },
    {
     "name": "stdout",
     "output_type": "stream",
     "text": [
      "{'eval_loss': 0.34838107228279114, 'eval_accuracy': 0.6216216216216216, 'eval_f1': 0.45098039215686275, 'eval_precision': 0.45098039215686275, 'eval_recall': 0.45098039215686275, 'eval_slot': 0.8676896724026942, 'eval_slot_accuracy': 0.7837837837837838, 'eval_runtime': 2.9805, 'eval_samples_per_second': 12.414, 'eval_steps_per_second': 6.375, 'epoch': 4.0}\n"
     ]
    },
    {
     "name": "stderr",
     "output_type": "stream",
     "text": [
      "Model weights saved in ./model/run-19/checkpoint-292/pytorch_model.bin\n",
      " 62%|██████▎   | 365/584 [01:39<00:43,  5.03it/s]***** Running Evaluation *****\n",
      "  Num examples = 37\n",
      "  Batch size = 2\n",
      "/home/ppibot/anaconda3/envs/myenv/lib/python3.9/site-packages/sklearn/metrics/_classification.py:1334: UndefinedMetricWarning: Precision and F-score are ill-defined and being set to 0.0 in labels with no predicted samples. Use `zero_division` parameter to control this behavior.\n",
      "  _warn_prf(average, modifier, msg_start, len(result))\n",
      "/home/ppibot/anaconda3/envs/myenv/lib/python3.9/site-packages/sklearn/metrics/_classification.py:1334: UndefinedMetricWarning: Recall and F-score are ill-defined and being set to 0.0 in labels with no true samples. Use `zero_division` parameter to control this behavior.\n",
      "  _warn_prf(average, modifier, msg_start, len(result))\n",
      "                                                 \n",
      " 62%|██████▎   | 365/584 [01:42<00:43,  5.03it/s]Saving model checkpoint to ./model/run-19/checkpoint-365\n",
      "Configuration saved in ./model/run-19/checkpoint-365/config.json\n"
     ]
    },
    {
     "name": "stdout",
     "output_type": "stream",
     "text": [
      "{'eval_loss': 0.40168726444244385, 'eval_accuracy': 0.6756756756756757, 'eval_f1': 0.5102040816326531, 'eval_precision': 0.5102040816326531, 'eval_recall': 0.5102040816326531, 'eval_slot': 0.8660573862876494, 'eval_slot_accuracy': 0.8063063063063063, 'eval_runtime': 2.9151, 'eval_samples_per_second': 12.692, 'eval_steps_per_second': 6.518, 'epoch': 5.0}\n"
     ]
    },
    {
     "name": "stderr",
     "output_type": "stream",
     "text": [
      "Model weights saved in ./model/run-19/checkpoint-365/pytorch_model.bin\n",
      " 75%|███████▌  | 438/584 [02:05<00:29,  5.02it/s]***** Running Evaluation *****\n",
      "  Num examples = 37\n",
      "  Batch size = 2\n",
      "/home/ppibot/anaconda3/envs/myenv/lib/python3.9/site-packages/sklearn/metrics/_classification.py:1334: UndefinedMetricWarning: Precision and F-score are ill-defined and being set to 0.0 in labels with no predicted samples. Use `zero_division` parameter to control this behavior.\n",
      "  _warn_prf(average, modifier, msg_start, len(result))\n",
      "/home/ppibot/anaconda3/envs/myenv/lib/python3.9/site-packages/sklearn/metrics/_classification.py:1334: UndefinedMetricWarning: Recall and F-score are ill-defined and being set to 0.0 in labels with no true samples. Use `zero_division` parameter to control this behavior.\n",
      "  _warn_prf(average, modifier, msg_start, len(result))\n",
      "                                                 \n",
      " 75%|███████▌  | 438/584 [02:08<00:42,  3.41it/s]\n",
      "\u001b[32m[I 2023-06-11 19:34:04,552]\u001b[0m Trial 19 pruned. \u001b[0m\n",
      "Trial: {'learning_rate': 7.445811823464924e-05, 'num_train_epochs': 17}\n"
     ]
    },
    {
     "name": "stdout",
     "output_type": "stream",
     "text": [
      "{'eval_loss': 0.3542494773864746, 'eval_accuracy': 0.6756756756756757, 'eval_f1': 0.5102040816326531, 'eval_precision': 0.5102040816326531, 'eval_recall': 0.5102040816326531, 'eval_slot': 0.8743546445849077, 'eval_slot_accuracy': 0.8063063063063063, 'eval_runtime': 2.8638, 'eval_samples_per_second': 12.92, 'eval_steps_per_second': 6.635, 'epoch': 6.0}\n"
     ]
    },
    {
     "name": "stderr",
     "output_type": "stream",
     "text": [
      "loading configuration file config.json from cache at /home/ppibot/.cache/huggingface/hub/models--google--flan-t5-base/snapshots/c782cba52f8ea6a704240578055cf1c3fc2f2ca9/config.json\n",
      "Model config T5Config {\n",
      "  \"_name_or_path\": \"google/flan-t5-base\",\n",
      "  \"architectures\": [\n",
      "    \"T5ForConditionalGeneration\"\n",
      "  ],\n",
      "  \"d_ff\": 2048,\n",
      "  \"d_kv\": 64,\n",
      "  \"d_model\": 768,\n",
      "  \"decoder_start_token_id\": 0,\n",
      "  \"dense_act_fn\": \"gelu_new\",\n",
      "  \"dropout_rate\": 0.1,\n",
      "  \"eos_token_id\": 1,\n",
      "  \"feed_forward_proj\": \"gated-gelu\",\n",
      "  \"initializer_factor\": 1.0,\n",
      "  \"is_encoder_decoder\": true,\n",
      "  \"is_gated_act\": true,\n",
      "  \"layer_norm_epsilon\": 1e-06,\n",
      "  \"model_type\": \"t5\",\n",
      "  \"n_positions\": 512,\n",
      "  \"num_decoder_layers\": 12,\n",
      "  \"num_heads\": 12,\n",
      "  \"num_layers\": 12,\n",
      "  \"output_past\": true,\n",
      "  \"pad_token_id\": 0,\n",
      "  \"relative_attention_max_distance\": 128,\n",
      "  \"relative_attention_num_buckets\": 32,\n",
      "  \"task_specific_params\": {\n",
      "    \"summarization\": {\n",
      "      \"early_stopping\": true,\n",
      "      \"length_penalty\": 2.0,\n",
      "      \"max_length\": 200,\n",
      "      \"min_length\": 30,\n",
      "      \"no_repeat_ngram_size\": 3,\n",
      "      \"num_beams\": 4,\n",
      "      \"prefix\": \"summarize: \"\n",
      "    },\n",
      "    \"translation_en_to_de\": {\n",
      "      \"early_stopping\": true,\n",
      "      \"max_length\": 300,\n",
      "      \"num_beams\": 4,\n",
      "      \"prefix\": \"translate English to German: \"\n",
      "    },\n",
      "    \"translation_en_to_fr\": {\n",
      "      \"early_stopping\": true,\n",
      "      \"max_length\": 300,\n",
      "      \"num_beams\": 4,\n",
      "      \"prefix\": \"translate English to French: \"\n",
      "    },\n",
      "    \"translation_en_to_ro\": {\n",
      "      \"early_stopping\": true,\n",
      "      \"max_length\": 300,\n",
      "      \"num_beams\": 4,\n",
      "      \"prefix\": \"translate English to Romanian: \"\n",
      "    }\n",
      "  },\n",
      "  \"tie_word_embeddings\": false,\n",
      "  \"transformers_version\": \"4.24.0\",\n",
      "  \"use_cache\": true,\n",
      "  \"vocab_size\": 32128\n",
      "}\n",
      "\n",
      "loading weights file pytorch_model.bin from cache at /home/ppibot/.cache/huggingface/hub/models--google--flan-t5-base/snapshots/c782cba52f8ea6a704240578055cf1c3fc2f2ca9/pytorch_model.bin\n",
      "All model checkpoint weights were used when initializing T5ForConditionalGeneration.\n",
      "\n",
      "All the weights of T5ForConditionalGeneration were initialized from the model checkpoint at google/flan-t5-base.\n",
      "If your task is similar to the task the model of the checkpoint was trained on, you can already use T5ForConditionalGeneration for predictions without further training.\n",
      "/home/ppibot/anaconda3/envs/myenv/lib/python3.9/site-packages/transformers/optimization.py:306: FutureWarning: This implementation of AdamW is deprecated and will be removed in a future version. Use the PyTorch implementation torch.optim.AdamW instead, or set `no_deprecation_warning=True` to disable this warning\n",
      "  warnings.warn(\n",
      "***** Running training *****\n",
      "  Num examples = 146\n",
      "  Num Epochs = 17\n",
      "  Instantaneous batch size per device = 2\n",
      "  Total train batch size (w. parallel, distributed & accumulation) = 2\n",
      "  Gradient Accumulation steps = 1\n",
      "  Total optimization steps = 1241\n",
      "  Number of trainable parameters = 247577856\n",
      "  6%|▌         | 73/1241 [00:14<03:51,  5.04it/s]***** Running Evaluation *****\n",
      "  Num examples = 37\n",
      "  Batch size = 2\n",
      "/home/ppibot/anaconda3/envs/myenv/lib/python3.9/site-packages/sklearn/metrics/_classification.py:1334: UndefinedMetricWarning: Precision and F-score are ill-defined and being set to 0.0 in labels with no predicted samples. Use `zero_division` parameter to control this behavior.\n",
      "  _warn_prf(average, modifier, msg_start, len(result))\n",
      "/home/ppibot/anaconda3/envs/myenv/lib/python3.9/site-packages/sklearn/metrics/_classification.py:1334: UndefinedMetricWarning: Recall and F-score are ill-defined and being set to 0.0 in labels with no true samples. Use `zero_division` parameter to control this behavior.\n",
      "  _warn_prf(average, modifier, msg_start, len(result))\n",
      "                                                 \n",
      "  6%|▌         | 73/1241 [00:17<03:51,  5.04it/s]Saving model checkpoint to ./model/run-20/checkpoint-73\n",
      "Configuration saved in ./model/run-20/checkpoint-73/config.json\n"
     ]
    },
    {
     "name": "stdout",
     "output_type": "stream",
     "text": [
      "{'eval_loss': 0.4204134941101074, 'eval_accuracy': 0.2702702702702703, 'eval_f1': 0.15625, 'eval_precision': 0.15625, 'eval_recall': 0.15625, 'eval_slot': 0.666695918434431, 'eval_slot_accuracy': 0.4954954954954955, 'eval_runtime': 2.909, 'eval_samples_per_second': 12.719, 'eval_steps_per_second': 6.531, 'epoch': 1.0}\n"
     ]
    },
    {
     "name": "stderr",
     "output_type": "stream",
     "text": [
      "Model weights saved in ./model/run-20/checkpoint-73/pytorch_model.bin\n",
      " 12%|█▏        | 146/1241 [00:34<03:37,  5.03it/s]***** Running Evaluation *****\n",
      "  Num examples = 37\n",
      "  Batch size = 2\n",
      "/home/ppibot/anaconda3/envs/myenv/lib/python3.9/site-packages/sklearn/metrics/_classification.py:1334: UndefinedMetricWarning: Precision and F-score are ill-defined and being set to 0.0 in labels with no predicted samples. Use `zero_division` parameter to control this behavior.\n",
      "  _warn_prf(average, modifier, msg_start, len(result))\n",
      "/home/ppibot/anaconda3/envs/myenv/lib/python3.9/site-packages/sklearn/metrics/_classification.py:1334: UndefinedMetricWarning: Recall and F-score are ill-defined and being set to 0.0 in labels with no true samples. Use `zero_division` parameter to control this behavior.\n",
      "  _warn_prf(average, modifier, msg_start, len(result))\n",
      "                                                  \n",
      " 12%|█▏        | 146/1241 [00:37<03:37,  5.03it/s]Saving model checkpoint to ./model/run-20/checkpoint-146\n",
      "Configuration saved in ./model/run-20/checkpoint-146/config.json\n"
     ]
    },
    {
     "name": "stdout",
     "output_type": "stream",
     "text": [
      "{'eval_loss': 0.3738521635532379, 'eval_accuracy': 0.4594594594594595, 'eval_f1': 0.2982456140350877, 'eval_precision': 0.2982456140350877, 'eval_recall': 0.2982456140350877, 'eval_slot': 0.7614342382060835, 'eval_slot_accuracy': 0.7027027027027027, 'eval_runtime': 3.006, 'eval_samples_per_second': 12.309, 'eval_steps_per_second': 6.321, 'epoch': 2.0}\n"
     ]
    },
    {
     "name": "stderr",
     "output_type": "stream",
     "text": [
      "Model weights saved in ./model/run-20/checkpoint-146/pytorch_model.bin\n",
      " 18%|█▊        | 219/1241 [00:54<03:23,  5.03it/s]***** Running Evaluation *****\n",
      "  Num examples = 37\n",
      "  Batch size = 2\n",
      "/home/ppibot/anaconda3/envs/myenv/lib/python3.9/site-packages/sklearn/metrics/_classification.py:1334: UndefinedMetricWarning: Precision and F-score are ill-defined and being set to 0.0 in labels with no predicted samples. Use `zero_division` parameter to control this behavior.\n",
      "  _warn_prf(average, modifier, msg_start, len(result))\n",
      "/home/ppibot/anaconda3/envs/myenv/lib/python3.9/site-packages/sklearn/metrics/_classification.py:1334: UndefinedMetricWarning: Recall and F-score are ill-defined and being set to 0.0 in labels with no true samples. Use `zero_division` parameter to control this behavior.\n",
      "  _warn_prf(average, modifier, msg_start, len(result))\n",
      "                                                  \n",
      " 18%|█▊        | 219/1241 [00:57<04:27,  3.83it/s]\n",
      "\u001b[32m[I 2023-06-11 19:35:03,159]\u001b[0m Trial 20 pruned. \u001b[0m\n",
      "Trial: {'learning_rate': 7.353929599591155e-05, 'num_train_epochs': 15}\n"
     ]
    },
    {
     "name": "stdout",
     "output_type": "stream",
     "text": [
      "{'eval_loss': 0.2909888029098511, 'eval_accuracy': 0.5945945945945946, 'eval_f1': 0.4230769230769231, 'eval_precision': 0.4230769230769231, 'eval_recall': 0.4230769230769231, 'eval_slot': 0.8450821956209887, 'eval_slot_accuracy': 0.7702702702702703, 'eval_runtime': 2.846, 'eval_samples_per_second': 13.001, 'eval_steps_per_second': 6.676, 'epoch': 3.0}\n"
     ]
    },
    {
     "name": "stderr",
     "output_type": "stream",
     "text": [
      "loading configuration file config.json from cache at /home/ppibot/.cache/huggingface/hub/models--google--flan-t5-base/snapshots/c782cba52f8ea6a704240578055cf1c3fc2f2ca9/config.json\n",
      "Model config T5Config {\n",
      "  \"_name_or_path\": \"google/flan-t5-base\",\n",
      "  \"architectures\": [\n",
      "    \"T5ForConditionalGeneration\"\n",
      "  ],\n",
      "  \"d_ff\": 2048,\n",
      "  \"d_kv\": 64,\n",
      "  \"d_model\": 768,\n",
      "  \"decoder_start_token_id\": 0,\n",
      "  \"dense_act_fn\": \"gelu_new\",\n",
      "  \"dropout_rate\": 0.1,\n",
      "  \"eos_token_id\": 1,\n",
      "  \"feed_forward_proj\": \"gated-gelu\",\n",
      "  \"initializer_factor\": 1.0,\n",
      "  \"is_encoder_decoder\": true,\n",
      "  \"is_gated_act\": true,\n",
      "  \"layer_norm_epsilon\": 1e-06,\n",
      "  \"model_type\": \"t5\",\n",
      "  \"n_positions\": 512,\n",
      "  \"num_decoder_layers\": 12,\n",
      "  \"num_heads\": 12,\n",
      "  \"num_layers\": 12,\n",
      "  \"output_past\": true,\n",
      "  \"pad_token_id\": 0,\n",
      "  \"relative_attention_max_distance\": 128,\n",
      "  \"relative_attention_num_buckets\": 32,\n",
      "  \"task_specific_params\": {\n",
      "    \"summarization\": {\n",
      "      \"early_stopping\": true,\n",
      "      \"length_penalty\": 2.0,\n",
      "      \"max_length\": 200,\n",
      "      \"min_length\": 30,\n",
      "      \"no_repeat_ngram_size\": 3,\n",
      "      \"num_beams\": 4,\n",
      "      \"prefix\": \"summarize: \"\n",
      "    },\n",
      "    \"translation_en_to_de\": {\n",
      "      \"early_stopping\": true,\n",
      "      \"max_length\": 300,\n",
      "      \"num_beams\": 4,\n",
      "      \"prefix\": \"translate English to German: \"\n",
      "    },\n",
      "    \"translation_en_to_fr\": {\n",
      "      \"early_stopping\": true,\n",
      "      \"max_length\": 300,\n",
      "      \"num_beams\": 4,\n",
      "      \"prefix\": \"translate English to French: \"\n",
      "    },\n",
      "    \"translation_en_to_ro\": {\n",
      "      \"early_stopping\": true,\n",
      "      \"max_length\": 300,\n",
      "      \"num_beams\": 4,\n",
      "      \"prefix\": \"translate English to Romanian: \"\n",
      "    }\n",
      "  },\n",
      "  \"tie_word_embeddings\": false,\n",
      "  \"transformers_version\": \"4.24.0\",\n",
      "  \"use_cache\": true,\n",
      "  \"vocab_size\": 32128\n",
      "}\n",
      "\n",
      "loading weights file pytorch_model.bin from cache at /home/ppibot/.cache/huggingface/hub/models--google--flan-t5-base/snapshots/c782cba52f8ea6a704240578055cf1c3fc2f2ca9/pytorch_model.bin\n",
      "All model checkpoint weights were used when initializing T5ForConditionalGeneration.\n",
      "\n",
      "All the weights of T5ForConditionalGeneration were initialized from the model checkpoint at google/flan-t5-base.\n",
      "If your task is similar to the task the model of the checkpoint was trained on, you can already use T5ForConditionalGeneration for predictions without further training.\n",
      "/home/ppibot/anaconda3/envs/myenv/lib/python3.9/site-packages/transformers/optimization.py:306: FutureWarning: This implementation of AdamW is deprecated and will be removed in a future version. Use the PyTorch implementation torch.optim.AdamW instead, or set `no_deprecation_warning=True` to disable this warning\n",
      "  warnings.warn(\n",
      "***** Running training *****\n",
      "  Num examples = 146\n",
      "  Num Epochs = 15\n",
      "  Instantaneous batch size per device = 2\n",
      "  Total train batch size (w. parallel, distributed & accumulation) = 2\n",
      "  Gradient Accumulation steps = 1\n",
      "  Total optimization steps = 1095\n",
      "  Number of trainable parameters = 247577856\n",
      "  7%|▋         | 73/1095 [00:14<03:23,  5.02it/s]***** Running Evaluation *****\n",
      "  Num examples = 37\n",
      "  Batch size = 2\n",
      "/home/ppibot/anaconda3/envs/myenv/lib/python3.9/site-packages/sklearn/metrics/_classification.py:1334: UndefinedMetricWarning: Precision and F-score are ill-defined and being set to 0.0 in labels with no predicted samples. Use `zero_division` parameter to control this behavior.\n",
      "  _warn_prf(average, modifier, msg_start, len(result))\n",
      "/home/ppibot/anaconda3/envs/myenv/lib/python3.9/site-packages/sklearn/metrics/_classification.py:1334: UndefinedMetricWarning: Recall and F-score are ill-defined and being set to 0.0 in labels with no true samples. Use `zero_division` parameter to control this behavior.\n",
      "  _warn_prf(average, modifier, msg_start, len(result))\n",
      "                                                 \n",
      "  7%|▋         | 73/1095 [00:17<03:23,  5.02it/s]Saving model checkpoint to ./model/run-21/checkpoint-73\n",
      "Configuration saved in ./model/run-21/checkpoint-73/config.json\n"
     ]
    },
    {
     "name": "stdout",
     "output_type": "stream",
     "text": [
      "{'eval_loss': 0.42485377192497253, 'eval_accuracy': 0.2702702702702703, 'eval_f1': 0.15625, 'eval_precision': 0.15625, 'eval_recall': 0.15625, 'eval_slot': 0.666695918434431, 'eval_slot_accuracy': 0.4954954954954955, 'eval_runtime': 2.9905, 'eval_samples_per_second': 12.373, 'eval_steps_per_second': 6.353, 'epoch': 1.0}\n"
     ]
    },
    {
     "name": "stderr",
     "output_type": "stream",
     "text": [
      "Model weights saved in ./model/run-21/checkpoint-73/pytorch_model.bin\n",
      " 13%|█▎        | 146/1095 [00:34<03:09,  5.00it/s]***** Running Evaluation *****\n",
      "  Num examples = 37\n",
      "  Batch size = 2\n",
      "/home/ppibot/anaconda3/envs/myenv/lib/python3.9/site-packages/sklearn/metrics/_classification.py:1334: UndefinedMetricWarning: Precision and F-score are ill-defined and being set to 0.0 in labels with no predicted samples. Use `zero_division` parameter to control this behavior.\n",
      "  _warn_prf(average, modifier, msg_start, len(result))\n",
      "/home/ppibot/anaconda3/envs/myenv/lib/python3.9/site-packages/sklearn/metrics/_classification.py:1334: UndefinedMetricWarning: Recall and F-score are ill-defined and being set to 0.0 in labels with no true samples. Use `zero_division` parameter to control this behavior.\n",
      "  _warn_prf(average, modifier, msg_start, len(result))\n",
      "                                                  \n",
      " 13%|█▎        | 146/1095 [00:37<03:09,  5.00it/s]Saving model checkpoint to ./model/run-21/checkpoint-146\n",
      "Configuration saved in ./model/run-21/checkpoint-146/config.json\n"
     ]
    },
    {
     "name": "stdout",
     "output_type": "stream",
     "text": [
      "{'eval_loss': 0.3814779818058014, 'eval_accuracy': 0.43243243243243246, 'eval_f1': 0.27586206896551724, 'eval_precision': 0.27586206896551724, 'eval_recall': 0.27586206896551724, 'eval_slot': 0.7366594634313087, 'eval_slot_accuracy': 0.6891891891891891, 'eval_runtime': 2.9386, 'eval_samples_per_second': 12.591, 'eval_steps_per_second': 6.466, 'epoch': 2.0}\n"
     ]
    },
    {
     "name": "stderr",
     "output_type": "stream",
     "text": [
      "Model weights saved in ./model/run-21/checkpoint-146/pytorch_model.bin\n",
      " 20%|██        | 219/1095 [00:54<02:54,  5.01it/s]***** Running Evaluation *****\n",
      "  Num examples = 37\n",
      "  Batch size = 2\n",
      "/home/ppibot/anaconda3/envs/myenv/lib/python3.9/site-packages/sklearn/metrics/_classification.py:1334: UndefinedMetricWarning: Precision and F-score are ill-defined and being set to 0.0 in labels with no predicted samples. Use `zero_division` parameter to control this behavior.\n",
      "  _warn_prf(average, modifier, msg_start, len(result))\n",
      "/home/ppibot/anaconda3/envs/myenv/lib/python3.9/site-packages/sklearn/metrics/_classification.py:1334: UndefinedMetricWarning: Recall and F-score are ill-defined and being set to 0.0 in labels with no true samples. Use `zero_division` parameter to control this behavior.\n",
      "  _warn_prf(average, modifier, msg_start, len(result))\n",
      "                                                  \n",
      " 20%|██        | 219/1095 [00:57<03:49,  3.81it/s]\n",
      "\u001b[32m[I 2023-06-11 19:36:02,188]\u001b[0m Trial 21 pruned. \u001b[0m\n",
      "Trial: {'learning_rate': 7.493962934956643e-05, 'num_train_epochs': 12}\n"
     ]
    },
    {
     "name": "stdout",
     "output_type": "stream",
     "text": [
      "{'eval_loss': 0.2957308292388916, 'eval_accuracy': 0.5945945945945946, 'eval_f1': 0.4230769230769231, 'eval_precision': 0.4230769230769231, 'eval_recall': 0.4230769230769231, 'eval_slot': 0.848358198896992, 'eval_slot_accuracy': 0.7702702702702703, 'eval_runtime': 2.9144, 'eval_samples_per_second': 12.696, 'eval_steps_per_second': 6.519, 'epoch': 3.0}\n"
     ]
    },
    {
     "name": "stderr",
     "output_type": "stream",
     "text": [
      "loading configuration file config.json from cache at /home/ppibot/.cache/huggingface/hub/models--google--flan-t5-base/snapshots/c782cba52f8ea6a704240578055cf1c3fc2f2ca9/config.json\n",
      "Model config T5Config {\n",
      "  \"_name_or_path\": \"google/flan-t5-base\",\n",
      "  \"architectures\": [\n",
      "    \"T5ForConditionalGeneration\"\n",
      "  ],\n",
      "  \"d_ff\": 2048,\n",
      "  \"d_kv\": 64,\n",
      "  \"d_model\": 768,\n",
      "  \"decoder_start_token_id\": 0,\n",
      "  \"dense_act_fn\": \"gelu_new\",\n",
      "  \"dropout_rate\": 0.1,\n",
      "  \"eos_token_id\": 1,\n",
      "  \"feed_forward_proj\": \"gated-gelu\",\n",
      "  \"initializer_factor\": 1.0,\n",
      "  \"is_encoder_decoder\": true,\n",
      "  \"is_gated_act\": true,\n",
      "  \"layer_norm_epsilon\": 1e-06,\n",
      "  \"model_type\": \"t5\",\n",
      "  \"n_positions\": 512,\n",
      "  \"num_decoder_layers\": 12,\n",
      "  \"num_heads\": 12,\n",
      "  \"num_layers\": 12,\n",
      "  \"output_past\": true,\n",
      "  \"pad_token_id\": 0,\n",
      "  \"relative_attention_max_distance\": 128,\n",
      "  \"relative_attention_num_buckets\": 32,\n",
      "  \"task_specific_params\": {\n",
      "    \"summarization\": {\n",
      "      \"early_stopping\": true,\n",
      "      \"length_penalty\": 2.0,\n",
      "      \"max_length\": 200,\n",
      "      \"min_length\": 30,\n",
      "      \"no_repeat_ngram_size\": 3,\n",
      "      \"num_beams\": 4,\n",
      "      \"prefix\": \"summarize: \"\n",
      "    },\n",
      "    \"translation_en_to_de\": {\n",
      "      \"early_stopping\": true,\n",
      "      \"max_length\": 300,\n",
      "      \"num_beams\": 4,\n",
      "      \"prefix\": \"translate English to German: \"\n",
      "    },\n",
      "    \"translation_en_to_fr\": {\n",
      "      \"early_stopping\": true,\n",
      "      \"max_length\": 300,\n",
      "      \"num_beams\": 4,\n",
      "      \"prefix\": \"translate English to French: \"\n",
      "    },\n",
      "    \"translation_en_to_ro\": {\n",
      "      \"early_stopping\": true,\n",
      "      \"max_length\": 300,\n",
      "      \"num_beams\": 4,\n",
      "      \"prefix\": \"translate English to Romanian: \"\n",
      "    }\n",
      "  },\n",
      "  \"tie_word_embeddings\": false,\n",
      "  \"transformers_version\": \"4.24.0\",\n",
      "  \"use_cache\": true,\n",
      "  \"vocab_size\": 32128\n",
      "}\n",
      "\n",
      "loading weights file pytorch_model.bin from cache at /home/ppibot/.cache/huggingface/hub/models--google--flan-t5-base/snapshots/c782cba52f8ea6a704240578055cf1c3fc2f2ca9/pytorch_model.bin\n",
      "All model checkpoint weights were used when initializing T5ForConditionalGeneration.\n",
      "\n",
      "All the weights of T5ForConditionalGeneration were initialized from the model checkpoint at google/flan-t5-base.\n",
      "If your task is similar to the task the model of the checkpoint was trained on, you can already use T5ForConditionalGeneration for predictions without further training.\n",
      "/home/ppibot/anaconda3/envs/myenv/lib/python3.9/site-packages/transformers/optimization.py:306: FutureWarning: This implementation of AdamW is deprecated and will be removed in a future version. Use the PyTorch implementation torch.optim.AdamW instead, or set `no_deprecation_warning=True` to disable this warning\n",
      "  warnings.warn(\n",
      "***** Running training *****\n",
      "  Num examples = 146\n",
      "  Num Epochs = 12\n",
      "  Instantaneous batch size per device = 2\n",
      "  Total train batch size (w. parallel, distributed & accumulation) = 2\n",
      "  Gradient Accumulation steps = 1\n",
      "  Total optimization steps = 876\n",
      "  Number of trainable parameters = 247577856\n",
      "  8%|▊         | 73/876 [00:14<02:40,  5.00it/s]***** Running Evaluation *****\n",
      "  Num examples = 37\n",
      "  Batch size = 2\n",
      "/home/ppibot/anaconda3/envs/myenv/lib/python3.9/site-packages/sklearn/metrics/_classification.py:1334: UndefinedMetricWarning: Precision and F-score are ill-defined and being set to 0.0 in labels with no predicted samples. Use `zero_division` parameter to control this behavior.\n",
      "  _warn_prf(average, modifier, msg_start, len(result))\n",
      "/home/ppibot/anaconda3/envs/myenv/lib/python3.9/site-packages/sklearn/metrics/_classification.py:1334: UndefinedMetricWarning: Recall and F-score are ill-defined and being set to 0.0 in labels with no true samples. Use `zero_division` parameter to control this behavior.\n",
      "  _warn_prf(average, modifier, msg_start, len(result))\n",
      "                                                \n",
      "  8%|▊         | 73/876 [00:17<02:40,  5.00it/s]Saving model checkpoint to ./model/run-22/checkpoint-73\n",
      "Configuration saved in ./model/run-22/checkpoint-73/config.json\n"
     ]
    },
    {
     "name": "stdout",
     "output_type": "stream",
     "text": [
      "{'eval_loss': 0.4215407967567444, 'eval_accuracy': 0.2702702702702703, 'eval_f1': 0.15625, 'eval_precision': 0.15625, 'eval_recall': 0.15625, 'eval_slot': 0.666695918434431, 'eval_slot_accuracy': 0.4954954954954955, 'eval_runtime': 2.819, 'eval_samples_per_second': 13.125, 'eval_steps_per_second': 6.74, 'epoch': 1.0}\n"
     ]
    },
    {
     "name": "stderr",
     "output_type": "stream",
     "text": [
      "Model weights saved in ./model/run-22/checkpoint-73/pytorch_model.bin\n",
      " 17%|█▋        | 146/876 [00:35<02:25,  5.02it/s]***** Running Evaluation *****\n",
      "  Num examples = 37\n",
      "  Batch size = 2\n",
      "/home/ppibot/anaconda3/envs/myenv/lib/python3.9/site-packages/sklearn/metrics/_classification.py:1334: UndefinedMetricWarning: Precision and F-score are ill-defined and being set to 0.0 in labels with no predicted samples. Use `zero_division` parameter to control this behavior.\n",
      "  _warn_prf(average, modifier, msg_start, len(result))\n",
      "/home/ppibot/anaconda3/envs/myenv/lib/python3.9/site-packages/sklearn/metrics/_classification.py:1334: UndefinedMetricWarning: Recall and F-score are ill-defined and being set to 0.0 in labels with no true samples. Use `zero_division` parameter to control this behavior.\n",
      "  _warn_prf(average, modifier, msg_start, len(result))\n",
      "                                                 \n",
      " 17%|█▋        | 146/876 [00:38<02:25,  5.02it/s]Saving model checkpoint to ./model/run-22/checkpoint-146\n",
      "Configuration saved in ./model/run-22/checkpoint-146/config.json\n"
     ]
    },
    {
     "name": "stdout",
     "output_type": "stream",
     "text": [
      "{'eval_loss': 0.38019901514053345, 'eval_accuracy': 0.43243243243243246, 'eval_f1': 0.27586206896551724, 'eval_precision': 0.27586206896551724, 'eval_recall': 0.27586206896551724, 'eval_slot': 0.7366594634313087, 'eval_slot_accuracy': 0.6891891891891891, 'eval_runtime': 3.0121, 'eval_samples_per_second': 12.284, 'eval_steps_per_second': 6.308, 'epoch': 2.0}\n"
     ]
    },
    {
     "name": "stderr",
     "output_type": "stream",
     "text": [
      "Model weights saved in ./model/run-22/checkpoint-146/pytorch_model.bin\n",
      " 25%|██▌       | 219/876 [00:55<02:10,  5.04it/s]***** Running Evaluation *****\n",
      "  Num examples = 37\n",
      "  Batch size = 2\n",
      "/home/ppibot/anaconda3/envs/myenv/lib/python3.9/site-packages/sklearn/metrics/_classification.py:1334: UndefinedMetricWarning: Precision and F-score are ill-defined and being set to 0.0 in labels with no predicted samples. Use `zero_division` parameter to control this behavior.\n",
      "  _warn_prf(average, modifier, msg_start, len(result))\n",
      "/home/ppibot/anaconda3/envs/myenv/lib/python3.9/site-packages/sklearn/metrics/_classification.py:1334: UndefinedMetricWarning: Recall and F-score are ill-defined and being set to 0.0 in labels with no true samples. Use `zero_division` parameter to control this behavior.\n",
      "  _warn_prf(average, modifier, msg_start, len(result))\n",
      "                                                 \n",
      " 25%|██▌       | 219/876 [00:58<02:10,  5.04it/s]Saving model checkpoint to ./model/run-22/checkpoint-219\n",
      "Configuration saved in ./model/run-22/checkpoint-219/config.json\n"
     ]
    },
    {
     "name": "stdout",
     "output_type": "stream",
     "text": [
      "{'eval_loss': 0.2919621467590332, 'eval_accuracy': 0.6216216216216216, 'eval_f1': 0.45098039215686275, 'eval_precision': 0.45098039215686275, 'eval_recall': 0.45098039215686275, 'eval_slot': 0.8573672079060011, 'eval_slot_accuracy': 0.7792792792792792, 'eval_runtime': 2.8349, 'eval_samples_per_second': 13.051, 'eval_steps_per_second': 6.702, 'epoch': 3.0}\n"
     ]
    },
    {
     "name": "stderr",
     "output_type": "stream",
     "text": [
      "Model weights saved in ./model/run-22/checkpoint-219/pytorch_model.bin\n",
      " 33%|███▎      | 292/876 [01:15<01:56,  5.02it/s]***** Running Evaluation *****\n",
      "  Num examples = 37\n",
      "  Batch size = 2\n",
      "/home/ppibot/anaconda3/envs/myenv/lib/python3.9/site-packages/sklearn/metrics/_classification.py:1334: UndefinedMetricWarning: Precision and F-score are ill-defined and being set to 0.0 in labels with no predicted samples. Use `zero_division` parameter to control this behavior.\n",
      "  _warn_prf(average, modifier, msg_start, len(result))\n",
      "/home/ppibot/anaconda3/envs/myenv/lib/python3.9/site-packages/sklearn/metrics/_classification.py:1334: UndefinedMetricWarning: Recall and F-score are ill-defined and being set to 0.0 in labels with no true samples. Use `zero_division` parameter to control this behavior.\n",
      "  _warn_prf(average, modifier, msg_start, len(result))\n",
      "                                                 \n",
      " 33%|███▎      | 292/876 [01:18<01:56,  5.02it/s]Saving model checkpoint to ./model/run-22/checkpoint-292\n",
      "Configuration saved in ./model/run-22/checkpoint-292/config.json\n"
     ]
    },
    {
     "name": "stdout",
     "output_type": "stream",
     "text": [
      "{'eval_loss': 0.31732675433158875, 'eval_accuracy': 0.6216216216216216, 'eval_f1': 0.45098039215686275, 'eval_precision': 0.45098039215686275, 'eval_recall': 0.45098039215686275, 'eval_slot': 0.8559116606246824, 'eval_slot_accuracy': 0.7882882882882882, 'eval_runtime': 2.9216, 'eval_samples_per_second': 12.664, 'eval_steps_per_second': 6.503, 'epoch': 4.0}\n"
     ]
    },
    {
     "name": "stderr",
     "output_type": "stream",
     "text": [
      "Model weights saved in ./model/run-22/checkpoint-292/pytorch_model.bin\n",
      " 42%|████▏     | 365/876 [01:35<01:41,  5.01it/s]***** Running Evaluation *****\n",
      "  Num examples = 37\n",
      "  Batch size = 2\n",
      "/home/ppibot/anaconda3/envs/myenv/lib/python3.9/site-packages/sklearn/metrics/_classification.py:1334: UndefinedMetricWarning: Precision and F-score are ill-defined and being set to 0.0 in labels with no predicted samples. Use `zero_division` parameter to control this behavior.\n",
      "  _warn_prf(average, modifier, msg_start, len(result))\n",
      "/home/ppibot/anaconda3/envs/myenv/lib/python3.9/site-packages/sklearn/metrics/_classification.py:1334: UndefinedMetricWarning: Recall and F-score are ill-defined and being set to 0.0 in labels with no true samples. Use `zero_division` parameter to control this behavior.\n",
      "  _warn_prf(average, modifier, msg_start, len(result))\n",
      "                                                 \n",
      " 42%|████▏     | 365/876 [01:38<01:41,  5.01it/s]Saving model checkpoint to ./model/run-22/checkpoint-365\n",
      "Configuration saved in ./model/run-22/checkpoint-365/config.json\n"
     ]
    },
    {
     "name": "stdout",
     "output_type": "stream",
     "text": [
      "{'eval_loss': 0.3473934233188629, 'eval_accuracy': 0.6486486486486487, 'eval_f1': 0.48, 'eval_precision': 0.48, 'eval_recall': 0.48, 'eval_slot': 0.8515424175984521, 'eval_slot_accuracy': 0.7972972972972973, 'eval_runtime': 2.9612, 'eval_samples_per_second': 12.495, 'eval_steps_per_second': 6.416, 'epoch': 5.0}\n"
     ]
    },
    {
     "name": "stderr",
     "output_type": "stream",
     "text": [
      "Model weights saved in ./model/run-22/checkpoint-365/pytorch_model.bin\n",
      " 50%|█████     | 438/876 [01:55<01:27,  5.00it/s]***** Running Evaluation *****\n",
      "  Num examples = 37\n",
      "  Batch size = 2\n",
      "/home/ppibot/anaconda3/envs/myenv/lib/python3.9/site-packages/sklearn/metrics/_classification.py:1334: UndefinedMetricWarning: Precision and F-score are ill-defined and being set to 0.0 in labels with no predicted samples. Use `zero_division` parameter to control this behavior.\n",
      "  _warn_prf(average, modifier, msg_start, len(result))\n",
      "/home/ppibot/anaconda3/envs/myenv/lib/python3.9/site-packages/sklearn/metrics/_classification.py:1334: UndefinedMetricWarning: Recall and F-score are ill-defined and being set to 0.0 in labels with no true samples. Use `zero_division` parameter to control this behavior.\n",
      "  _warn_prf(average, modifier, msg_start, len(result))\n",
      "                                                 \n",
      " 50%|█████     | 438/876 [01:58<01:27,  5.00it/s]Saving model checkpoint to ./model/run-22/checkpoint-438\n",
      "Configuration saved in ./model/run-22/checkpoint-438/config.json\n"
     ]
    },
    {
     "name": "stdout",
     "output_type": "stream",
     "text": [
      "{'eval_loss': 0.35377931594848633, 'eval_accuracy': 0.6486486486486487, 'eval_f1': 0.48, 'eval_precision': 0.48, 'eval_recall': 0.48, 'eval_slot': 0.9114144316446949, 'eval_slot_accuracy': 0.8468468468468469, 'eval_runtime': 2.976, 'eval_samples_per_second': 12.433, 'eval_steps_per_second': 6.384, 'epoch': 6.0}\n"
     ]
    },
    {
     "name": "stderr",
     "output_type": "stream",
     "text": [
      "Model weights saved in ./model/run-22/checkpoint-438/pytorch_model.bin\n",
      " 57%|█████▋    | 501/876 [02:14<01:15,  4.98it/s]"
     ]
    },
    {
     "name": "stdout",
     "output_type": "stream",
     "text": [
      "{'loss': 0.2933, 'learning_rate': 3.216586830529336e-05, 'epoch': 6.85}\n"
     ]
    },
    {
     "name": "stderr",
     "output_type": "stream",
     "text": [
      " 58%|█████▊    | 511/876 [02:16<01:12,  5.03it/s]***** Running Evaluation *****\n",
      "  Num examples = 37\n",
      "  Batch size = 2\n",
      "/home/ppibot/anaconda3/envs/myenv/lib/python3.9/site-packages/sklearn/metrics/_classification.py:1334: UndefinedMetricWarning: Precision and F-score are ill-defined and being set to 0.0 in labels with no predicted samples. Use `zero_division` parameter to control this behavior.\n",
      "  _warn_prf(average, modifier, msg_start, len(result))\n",
      "/home/ppibot/anaconda3/envs/myenv/lib/python3.9/site-packages/sklearn/metrics/_classification.py:1334: UndefinedMetricWarning: Recall and F-score are ill-defined and being set to 0.0 in labels with no true samples. Use `zero_division` parameter to control this behavior.\n",
      "  _warn_prf(average, modifier, msg_start, len(result))\n",
      "                                                 \n",
      " 58%|█████▊    | 511/876 [02:19<01:12,  5.03it/s]Saving model checkpoint to ./model/run-22/checkpoint-511\n",
      "Configuration saved in ./model/run-22/checkpoint-511/config.json\n"
     ]
    },
    {
     "name": "stdout",
     "output_type": "stream",
     "text": [
      "{'eval_loss': 0.35097140073776245, 'eval_accuracy': 0.6486486486486487, 'eval_f1': 0.48, 'eval_precision': 0.48, 'eval_recall': 0.48, 'eval_slot': 0.8734226781356998, 'eval_slot_accuracy': 0.8063063063063063, 'eval_runtime': 2.8309, 'eval_samples_per_second': 13.07, 'eval_steps_per_second': 6.712, 'epoch': 7.0}\n"
     ]
    },
    {
     "name": "stderr",
     "output_type": "stream",
     "text": [
      "Model weights saved in ./model/run-22/checkpoint-511/pytorch_model.bin\n",
      " 67%|██████▋   | 584/876 [02:35<00:58,  5.01it/s]***** Running Evaluation *****\n",
      "  Num examples = 37\n",
      "  Batch size = 2\n",
      "/home/ppibot/anaconda3/envs/myenv/lib/python3.9/site-packages/sklearn/metrics/_classification.py:1334: UndefinedMetricWarning: Precision and F-score are ill-defined and being set to 0.0 in labels with no predicted samples. Use `zero_division` parameter to control this behavior.\n",
      "  _warn_prf(average, modifier, msg_start, len(result))\n",
      "/home/ppibot/anaconda3/envs/myenv/lib/python3.9/site-packages/sklearn/metrics/_classification.py:1334: UndefinedMetricWarning: Recall and F-score are ill-defined and being set to 0.0 in labels with no true samples. Use `zero_division` parameter to control this behavior.\n",
      "  _warn_prf(average, modifier, msg_start, len(result))\n",
      "                                                 \n",
      " 67%|██████▋   | 584/876 [02:38<00:58,  5.01it/s]Saving model checkpoint to ./model/run-22/checkpoint-584\n",
      "Configuration saved in ./model/run-22/checkpoint-584/config.json\n"
     ]
    },
    {
     "name": "stdout",
     "output_type": "stream",
     "text": [
      "{'eval_loss': 0.38701143860816956, 'eval_accuracy': 0.6486486486486487, 'eval_f1': 0.48, 'eval_precision': 0.48, 'eval_recall': 0.48, 'eval_slot': 0.8846839393969611, 'eval_slot_accuracy': 0.8063063063063063, 'eval_runtime': 3.0534, 'eval_samples_per_second': 12.118, 'eval_steps_per_second': 6.223, 'epoch': 8.0}\n"
     ]
    },
    {
     "name": "stderr",
     "output_type": "stream",
     "text": [
      "Model weights saved in ./model/run-22/checkpoint-584/pytorch_model.bin\n",
      " 75%|███████▌  | 657/876 [02:56<00:43,  5.01it/s]***** Running Evaluation *****\n",
      "  Num examples = 37\n",
      "  Batch size = 2\n",
      "/home/ppibot/anaconda3/envs/myenv/lib/python3.9/site-packages/sklearn/metrics/_classification.py:1334: UndefinedMetricWarning: Precision and F-score are ill-defined and being set to 0.0 in labels with no predicted samples. Use `zero_division` parameter to control this behavior.\n",
      "  _warn_prf(average, modifier, msg_start, len(result))\n",
      "/home/ppibot/anaconda3/envs/myenv/lib/python3.9/site-packages/sklearn/metrics/_classification.py:1334: UndefinedMetricWarning: Recall and F-score are ill-defined and being set to 0.0 in labels with no true samples. Use `zero_division` parameter to control this behavior.\n",
      "  _warn_prf(average, modifier, msg_start, len(result))\n",
      "                                                 \n",
      " 75%|███████▌  | 657/876 [02:59<00:43,  5.01it/s]Saving model checkpoint to ./model/run-22/checkpoint-657\n",
      "Configuration saved in ./model/run-22/checkpoint-657/config.json\n"
     ]
    },
    {
     "name": "stdout",
     "output_type": "stream",
     "text": [
      "{'eval_loss': 0.42666444182395935, 'eval_accuracy': 0.6486486486486487, 'eval_f1': 0.48, 'eval_precision': 0.48, 'eval_recall': 0.48, 'eval_slot': 0.8722261424564056, 'eval_slot_accuracy': 0.8153153153153153, 'eval_runtime': 2.9182, 'eval_samples_per_second': 12.679, 'eval_steps_per_second': 6.511, 'epoch': 9.0}\n"
     ]
    },
    {
     "name": "stderr",
     "output_type": "stream",
     "text": [
      "Model weights saved in ./model/run-22/checkpoint-657/pytorch_model.bin\n",
      " 83%|████████▎ | 730/876 [03:16<00:29,  5.00it/s]***** Running Evaluation *****\n",
      "  Num examples = 37\n",
      "  Batch size = 2\n",
      "/home/ppibot/anaconda3/envs/myenv/lib/python3.9/site-packages/sklearn/metrics/_classification.py:1334: UndefinedMetricWarning: Precision and F-score are ill-defined and being set to 0.0 in labels with no predicted samples. Use `zero_division` parameter to control this behavior.\n",
      "  _warn_prf(average, modifier, msg_start, len(result))\n",
      "/home/ppibot/anaconda3/envs/myenv/lib/python3.9/site-packages/sklearn/metrics/_classification.py:1334: UndefinedMetricWarning: Recall and F-score are ill-defined and being set to 0.0 in labels with no true samples. Use `zero_division` parameter to control this behavior.\n",
      "  _warn_prf(average, modifier, msg_start, len(result))\n",
      "                                                 \n",
      " 83%|████████▎ | 730/876 [03:20<00:29,  5.00it/s]Saving model checkpoint to ./model/run-22/checkpoint-730\n",
      "Configuration saved in ./model/run-22/checkpoint-730/config.json\n"
     ]
    },
    {
     "name": "stdout",
     "output_type": "stream",
     "text": [
      "{'eval_loss': 0.42230474948883057, 'eval_accuracy': 0.6486486486486487, 'eval_f1': 0.48, 'eval_precision': 0.48, 'eval_recall': 0.48, 'eval_slot': 0.8582671284973916, 'eval_slot_accuracy': 0.7972972972972973, 'eval_runtime': 3.1673, 'eval_samples_per_second': 11.682, 'eval_steps_per_second': 5.999, 'epoch': 10.0}\n"
     ]
    },
    {
     "name": "stderr",
     "output_type": "stream",
     "text": [
      "Model weights saved in ./model/run-22/checkpoint-730/pytorch_model.bin\n",
      " 92%|█████████▏| 803/876 [03:37<00:14,  5.00it/s]***** Running Evaluation *****\n",
      "  Num examples = 37\n",
      "  Batch size = 2\n",
      "/home/ppibot/anaconda3/envs/myenv/lib/python3.9/site-packages/sklearn/metrics/_classification.py:1334: UndefinedMetricWarning: Precision and F-score are ill-defined and being set to 0.0 in labels with no predicted samples. Use `zero_division` parameter to control this behavior.\n",
      "  _warn_prf(average, modifier, msg_start, len(result))\n",
      "/home/ppibot/anaconda3/envs/myenv/lib/python3.9/site-packages/sklearn/metrics/_classification.py:1334: UndefinedMetricWarning: Recall and F-score are ill-defined and being set to 0.0 in labels with no true samples. Use `zero_division` parameter to control this behavior.\n",
      "  _warn_prf(average, modifier, msg_start, len(result))\n",
      "                                                 \n",
      " 92%|█████████▏| 803/876 [03:40<00:14,  5.00it/s]Saving model checkpoint to ./model/run-22/checkpoint-803\n",
      "Configuration saved in ./model/run-22/checkpoint-803/config.json\n"
     ]
    },
    {
     "name": "stdout",
     "output_type": "stream",
     "text": [
      "{'eval_loss': 0.43398940563201904, 'eval_accuracy': 0.6486486486486487, 'eval_f1': 0.48, 'eval_precision': 0.48, 'eval_recall': 0.48, 'eval_slot': 0.8582671284973916, 'eval_slot_accuracy': 0.7972972972972973, 'eval_runtime': 2.9994, 'eval_samples_per_second': 12.336, 'eval_steps_per_second': 6.335, 'epoch': 11.0}\n"
     ]
    },
    {
     "name": "stderr",
     "output_type": "stream",
     "text": [
      "Model weights saved in ./model/run-22/checkpoint-803/pytorch_model.bin\n",
      "100%|██████████| 876/876 [03:58<00:00,  5.03it/s]***** Running Evaluation *****\n",
      "  Num examples = 37\n",
      "  Batch size = 2\n",
      "/home/ppibot/anaconda3/envs/myenv/lib/python3.9/site-packages/sklearn/metrics/_classification.py:1334: UndefinedMetricWarning: Precision and F-score are ill-defined and being set to 0.0 in labels with no predicted samples. Use `zero_division` parameter to control this behavior.\n",
      "  _warn_prf(average, modifier, msg_start, len(result))\n",
      "/home/ppibot/anaconda3/envs/myenv/lib/python3.9/site-packages/sklearn/metrics/_classification.py:1334: UndefinedMetricWarning: Recall and F-score are ill-defined and being set to 0.0 in labels with no true samples. Use `zero_division` parameter to control this behavior.\n",
      "  _warn_prf(average, modifier, msg_start, len(result))\n",
      "                                                 \n",
      "100%|██████████| 876/876 [04:01<00:00,  5.03it/s]Saving model checkpoint to ./model/run-22/checkpoint-876\n",
      "Configuration saved in ./model/run-22/checkpoint-876/config.json\n"
     ]
    },
    {
     "name": "stdout",
     "output_type": "stream",
     "text": [
      "{'eval_loss': 0.4282989501953125, 'eval_accuracy': 0.6486486486486487, 'eval_f1': 0.48, 'eval_precision': 0.48, 'eval_recall': 0.48, 'eval_slot': 0.8582671284973916, 'eval_slot_accuracy': 0.7972972972972973, 'eval_runtime': 3.0737, 'eval_samples_per_second': 12.037, 'eval_steps_per_second': 6.181, 'epoch': 12.0}\n"
     ]
    },
    {
     "name": "stderr",
     "output_type": "stream",
     "text": [
      "Model weights saved in ./model/run-22/checkpoint-876/pytorch_model.bin\n",
      "\n",
      "\n",
      "Training completed. Do not forget to share your model on huggingface.co/models =)\n",
      "\n",
      "\n",
      "Loading best model from ./model/run-22/checkpoint-438 (score: 0.8468468468468469).\n",
      "100%|██████████| 876/876 [04:05<00:00,  3.57it/s]\n",
      "\u001b[32m[I 2023-06-11 19:40:08,922]\u001b[0m Trial 22 finished with value: 0.7972972972972973 and parameters: {'learning_rate': 7.493962934956643e-05, 'num_train_epochs': 12}. Best is trial 11 with value: 0.8558558558558559.\u001b[0m\n",
      "Trial: {'learning_rate': 5.142049972988629e-05, 'num_train_epochs': 14}\n"
     ]
    },
    {
     "name": "stdout",
     "output_type": "stream",
     "text": [
      "{'train_runtime': 245.2493, 'train_samples_per_second': 7.144, 'train_steps_per_second': 3.572, 'train_loss': 0.1805029579493553, 'epoch': 12.0}\n"
     ]
    },
    {
     "name": "stderr",
     "output_type": "stream",
     "text": [
      "loading configuration file config.json from cache at /home/ppibot/.cache/huggingface/hub/models--google--flan-t5-base/snapshots/c782cba52f8ea6a704240578055cf1c3fc2f2ca9/config.json\n",
      "Model config T5Config {\n",
      "  \"_name_or_path\": \"google/flan-t5-base\",\n",
      "  \"architectures\": [\n",
      "    \"T5ForConditionalGeneration\"\n",
      "  ],\n",
      "  \"d_ff\": 2048,\n",
      "  \"d_kv\": 64,\n",
      "  \"d_model\": 768,\n",
      "  \"decoder_start_token_id\": 0,\n",
      "  \"dense_act_fn\": \"gelu_new\",\n",
      "  \"dropout_rate\": 0.1,\n",
      "  \"eos_token_id\": 1,\n",
      "  \"feed_forward_proj\": \"gated-gelu\",\n",
      "  \"initializer_factor\": 1.0,\n",
      "  \"is_encoder_decoder\": true,\n",
      "  \"is_gated_act\": true,\n",
      "  \"layer_norm_epsilon\": 1e-06,\n",
      "  \"model_type\": \"t5\",\n",
      "  \"n_positions\": 512,\n",
      "  \"num_decoder_layers\": 12,\n",
      "  \"num_heads\": 12,\n",
      "  \"num_layers\": 12,\n",
      "  \"output_past\": true,\n",
      "  \"pad_token_id\": 0,\n",
      "  \"relative_attention_max_distance\": 128,\n",
      "  \"relative_attention_num_buckets\": 32,\n",
      "  \"task_specific_params\": {\n",
      "    \"summarization\": {\n",
      "      \"early_stopping\": true,\n",
      "      \"length_penalty\": 2.0,\n",
      "      \"max_length\": 200,\n",
      "      \"min_length\": 30,\n",
      "      \"no_repeat_ngram_size\": 3,\n",
      "      \"num_beams\": 4,\n",
      "      \"prefix\": \"summarize: \"\n",
      "    },\n",
      "    \"translation_en_to_de\": {\n",
      "      \"early_stopping\": true,\n",
      "      \"max_length\": 300,\n",
      "      \"num_beams\": 4,\n",
      "      \"prefix\": \"translate English to German: \"\n",
      "    },\n",
      "    \"translation_en_to_fr\": {\n",
      "      \"early_stopping\": true,\n",
      "      \"max_length\": 300,\n",
      "      \"num_beams\": 4,\n",
      "      \"prefix\": \"translate English to French: \"\n",
      "    },\n",
      "    \"translation_en_to_ro\": {\n",
      "      \"early_stopping\": true,\n",
      "      \"max_length\": 300,\n",
      "      \"num_beams\": 4,\n",
      "      \"prefix\": \"translate English to Romanian: \"\n",
      "    }\n",
      "  },\n",
      "  \"tie_word_embeddings\": false,\n",
      "  \"transformers_version\": \"4.24.0\",\n",
      "  \"use_cache\": true,\n",
      "  \"vocab_size\": 32128\n",
      "}\n",
      "\n",
      "loading weights file pytorch_model.bin from cache at /home/ppibot/.cache/huggingface/hub/models--google--flan-t5-base/snapshots/c782cba52f8ea6a704240578055cf1c3fc2f2ca9/pytorch_model.bin\n",
      "All model checkpoint weights were used when initializing T5ForConditionalGeneration.\n",
      "\n",
      "All the weights of T5ForConditionalGeneration were initialized from the model checkpoint at google/flan-t5-base.\n",
      "If your task is similar to the task the model of the checkpoint was trained on, you can already use T5ForConditionalGeneration for predictions without further training.\n",
      "/home/ppibot/anaconda3/envs/myenv/lib/python3.9/site-packages/transformers/optimization.py:306: FutureWarning: This implementation of AdamW is deprecated and will be removed in a future version. Use the PyTorch implementation torch.optim.AdamW instead, or set `no_deprecation_warning=True` to disable this warning\n",
      "  warnings.warn(\n",
      "***** Running training *****\n",
      "  Num examples = 146\n",
      "  Num Epochs = 14\n",
      "  Instantaneous batch size per device = 2\n",
      "  Total train batch size (w. parallel, distributed & accumulation) = 2\n",
      "  Gradient Accumulation steps = 1\n",
      "  Total optimization steps = 1022\n",
      "  Number of trainable parameters = 247577856\n",
      "  7%|▋         | 73/1022 [00:14<03:08,  5.02it/s]***** Running Evaluation *****\n",
      "  Num examples = 37\n",
      "  Batch size = 2\n",
      "/home/ppibot/anaconda3/envs/myenv/lib/python3.9/site-packages/sklearn/metrics/_classification.py:1334: UndefinedMetricWarning: Precision and F-score are ill-defined and being set to 0.0 in labels with no predicted samples. Use `zero_division` parameter to control this behavior.\n",
      "  _warn_prf(average, modifier, msg_start, len(result))\n",
      "/home/ppibot/anaconda3/envs/myenv/lib/python3.9/site-packages/sklearn/metrics/_classification.py:1334: UndefinedMetricWarning: Recall and F-score are ill-defined and being set to 0.0 in labels with no true samples. Use `zero_division` parameter to control this behavior.\n",
      "  _warn_prf(average, modifier, msg_start, len(result))\n",
      "                                                 \n",
      "  7%|▋         | 73/1022 [00:17<03:47,  4.18it/s]\n",
      "\u001b[32m[I 2023-06-11 19:40:27,843]\u001b[0m Trial 23 pruned. \u001b[0m\n",
      "Trial: {'learning_rate': 8.141929687570685e-05, 'num_train_epochs': 20}\n",
      "loading configuration file config.json from cache at /home/ppibot/.cache/huggingface/hub/models--google--flan-t5-base/snapshots/c782cba52f8ea6a704240578055cf1c3fc2f2ca9/config.json\n",
      "Model config T5Config {\n",
      "  \"_name_or_path\": \"google/flan-t5-base\",\n",
      "  \"architectures\": [\n",
      "    \"T5ForConditionalGeneration\"\n",
      "  ],\n",
      "  \"d_ff\": 2048,\n",
      "  \"d_kv\": 64,\n",
      "  \"d_model\": 768,\n",
      "  \"decoder_start_token_id\": 0,\n",
      "  \"dense_act_fn\": \"gelu_new\",\n",
      "  \"dropout_rate\": 0.1,\n",
      "  \"eos_token_id\": 1,\n",
      "  \"feed_forward_proj\": \"gated-gelu\",\n",
      "  \"initializer_factor\": 1.0,\n",
      "  \"is_encoder_decoder\": true,\n",
      "  \"is_gated_act\": true,\n",
      "  \"layer_norm_epsilon\": 1e-06,\n",
      "  \"model_type\": \"t5\",\n",
      "  \"n_positions\": 512,\n",
      "  \"num_decoder_layers\": 12,\n",
      "  \"num_heads\": 12,\n",
      "  \"num_layers\": 12,\n",
      "  \"output_past\": true,\n",
      "  \"pad_token_id\": 0,\n",
      "  \"relative_attention_max_distance\": 128,\n",
      "  \"relative_attention_num_buckets\": 32,\n",
      "  \"task_specific_params\": {\n",
      "    \"summarization\": {\n",
      "      \"early_stopping\": true,\n",
      "      \"length_penalty\": 2.0,\n",
      "      \"max_length\": 200,\n",
      "      \"min_length\": 30,\n",
      "      \"no_repeat_ngram_size\": 3,\n",
      "      \"num_beams\": 4,\n",
      "      \"prefix\": \"summarize: \"\n",
      "    },\n",
      "    \"translation_en_to_de\": {\n",
      "      \"early_stopping\": true,\n",
      "      \"max_length\": 300,\n",
      "      \"num_beams\": 4,\n",
      "      \"prefix\": \"translate English to German: \"\n",
      "    },\n",
      "    \"translation_en_to_fr\": {\n",
      "      \"early_stopping\": true,\n",
      "      \"max_length\": 300,\n",
      "      \"num_beams\": 4,\n",
      "      \"prefix\": \"translate English to French: \"\n",
      "    },\n",
      "    \"translation_en_to_ro\": {\n",
      "      \"early_stopping\": true,\n",
      "      \"max_length\": 300,\n",
      "      \"num_beams\": 4,\n",
      "      \"prefix\": \"translate English to Romanian: \"\n",
      "    }\n",
      "  },\n",
      "  \"tie_word_embeddings\": false,\n",
      "  \"transformers_version\": \"4.24.0\",\n",
      "  \"use_cache\": true,\n",
      "  \"vocab_size\": 32128\n",
      "}\n",
      "\n",
      "loading weights file pytorch_model.bin from cache at /home/ppibot/.cache/huggingface/hub/models--google--flan-t5-base/snapshots/c782cba52f8ea6a704240578055cf1c3fc2f2ca9/pytorch_model.bin\n"
     ]
    },
    {
     "name": "stdout",
     "output_type": "stream",
     "text": [
      "{'eval_loss': 0.5027745962142944, 'eval_accuracy': 0.1891891891891892, 'eval_f1': 0.1044776119402985, 'eval_precision': 0.1044776119402985, 'eval_recall': 0.1044776119402985, 'eval_slot': 0.5551371441487963, 'eval_slot_accuracy': 0.3918918918918919, 'eval_runtime': 2.9368, 'eval_samples_per_second': 12.599, 'eval_steps_per_second': 6.47, 'epoch': 1.0}\n"
     ]
    },
    {
     "name": "stderr",
     "output_type": "stream",
     "text": [
      "All model checkpoint weights were used when initializing T5ForConditionalGeneration.\n",
      "\n",
      "All the weights of T5ForConditionalGeneration were initialized from the model checkpoint at google/flan-t5-base.\n",
      "If your task is similar to the task the model of the checkpoint was trained on, you can already use T5ForConditionalGeneration for predictions without further training.\n",
      "/home/ppibot/anaconda3/envs/myenv/lib/python3.9/site-packages/transformers/optimization.py:306: FutureWarning: This implementation of AdamW is deprecated and will be removed in a future version. Use the PyTorch implementation torch.optim.AdamW instead, or set `no_deprecation_warning=True` to disable this warning\n",
      "  warnings.warn(\n",
      "***** Running training *****\n",
      "  Num examples = 146\n",
      "  Num Epochs = 20\n",
      "  Instantaneous batch size per device = 2\n",
      "  Total train batch size (w. parallel, distributed & accumulation) = 2\n",
      "  Gradient Accumulation steps = 1\n",
      "  Total optimization steps = 1460\n",
      "  Number of trainable parameters = 247577856\n",
      "  5%|▌         | 73/1460 [00:14<04:37,  4.99it/s]***** Running Evaluation *****\n",
      "  Num examples = 37\n",
      "  Batch size = 2\n",
      "/home/ppibot/anaconda3/envs/myenv/lib/python3.9/site-packages/sklearn/metrics/_classification.py:1334: UndefinedMetricWarning: Precision and F-score are ill-defined and being set to 0.0 in labels with no predicted samples. Use `zero_division` parameter to control this behavior.\n",
      "  _warn_prf(average, modifier, msg_start, len(result))\n",
      "/home/ppibot/anaconda3/envs/myenv/lib/python3.9/site-packages/sklearn/metrics/_classification.py:1334: UndefinedMetricWarning: Recall and F-score are ill-defined and being set to 0.0 in labels with no true samples. Use `zero_division` parameter to control this behavior.\n",
      "  _warn_prf(average, modifier, msg_start, len(result))\n",
      "                                                 \n",
      "  5%|▌         | 73/1460 [00:17<04:37,  4.99it/s]Saving model checkpoint to ./model/run-24/checkpoint-73\n",
      "Configuration saved in ./model/run-24/checkpoint-73/config.json\n"
     ]
    },
    {
     "name": "stdout",
     "output_type": "stream",
     "text": [
      "{'eval_loss': 0.39089834690093994, 'eval_accuracy': 0.3783783783783784, 'eval_f1': 0.23333333333333334, 'eval_precision': 0.23333333333333334, 'eval_recall': 0.23333333333333334, 'eval_slot': 0.758838608561401, 'eval_slot_accuracy': 0.6351351351351351, 'eval_runtime': 2.8483, 'eval_samples_per_second': 12.99, 'eval_steps_per_second': 6.671, 'epoch': 1.0}\n"
     ]
    },
    {
     "name": "stderr",
     "output_type": "stream",
     "text": [
      "Model weights saved in ./model/run-24/checkpoint-73/pytorch_model.bin\n",
      " 10%|█         | 146/1460 [00:35<04:22,  5.01it/s]***** Running Evaluation *****\n",
      "  Num examples = 37\n",
      "  Batch size = 2\n",
      "/home/ppibot/anaconda3/envs/myenv/lib/python3.9/site-packages/sklearn/metrics/_classification.py:1334: UndefinedMetricWarning: Precision and F-score are ill-defined and being set to 0.0 in labels with no predicted samples. Use `zero_division` parameter to control this behavior.\n",
      "  _warn_prf(average, modifier, msg_start, len(result))\n",
      "/home/ppibot/anaconda3/envs/myenv/lib/python3.9/site-packages/sklearn/metrics/_classification.py:1334: UndefinedMetricWarning: Recall and F-score are ill-defined and being set to 0.0 in labels with no true samples. Use `zero_division` parameter to control this behavior.\n",
      "  _warn_prf(average, modifier, msg_start, len(result))\n",
      "                                                  \n",
      " 10%|█         | 146/1460 [00:38<04:22,  5.01it/s]Saving model checkpoint to ./model/run-24/checkpoint-146\n",
      "Configuration saved in ./model/run-24/checkpoint-146/config.json\n"
     ]
    },
    {
     "name": "stdout",
     "output_type": "stream",
     "text": [
      "{'eval_loss': 0.33621513843536377, 'eval_accuracy': 0.4594594594594595, 'eval_f1': 0.2982456140350877, 'eval_precision': 0.2982456140350877, 'eval_recall': 0.2982456140350877, 'eval_slot': 0.7581191515028389, 'eval_slot_accuracy': 0.6891891891891891, 'eval_runtime': 3.0233, 'eval_samples_per_second': 12.238, 'eval_steps_per_second': 6.285, 'epoch': 2.0}\n"
     ]
    },
    {
     "name": "stderr",
     "output_type": "stream",
     "text": [
      "Model weights saved in ./model/run-24/checkpoint-146/pytorch_model.bin\n",
      " 15%|█▌        | 219/1460 [00:55<04:08,  5.00it/s]***** Running Evaluation *****\n",
      "  Num examples = 37\n",
      "  Batch size = 2\n",
      "/home/ppibot/anaconda3/envs/myenv/lib/python3.9/site-packages/sklearn/metrics/_classification.py:1334: UndefinedMetricWarning: Precision and F-score are ill-defined and being set to 0.0 in labels with no predicted samples. Use `zero_division` parameter to control this behavior.\n",
      "  _warn_prf(average, modifier, msg_start, len(result))\n",
      "/home/ppibot/anaconda3/envs/myenv/lib/python3.9/site-packages/sklearn/metrics/_classification.py:1334: UndefinedMetricWarning: Recall and F-score are ill-defined and being set to 0.0 in labels with no true samples. Use `zero_division` parameter to control this behavior.\n",
      "  _warn_prf(average, modifier, msg_start, len(result))\n",
      "                                                  \n",
      " 15%|█▌        | 219/1460 [00:58<04:08,  5.00it/s]Saving model checkpoint to ./model/run-24/checkpoint-219\n",
      "Configuration saved in ./model/run-24/checkpoint-219/config.json\n"
     ]
    },
    {
     "name": "stdout",
     "output_type": "stream",
     "text": [
      "{'eval_loss': 0.2978920042514801, 'eval_accuracy': 0.5945945945945946, 'eval_f1': 0.4230769230769231, 'eval_precision': 0.4230769230769231, 'eval_recall': 0.4230769230769231, 'eval_slot': 0.8561066608196827, 'eval_slot_accuracy': 0.7837837837837838, 'eval_runtime': 2.9804, 'eval_samples_per_second': 12.414, 'eval_steps_per_second': 6.375, 'epoch': 3.0}\n"
     ]
    },
    {
     "name": "stderr",
     "output_type": "stream",
     "text": [
      "Model weights saved in ./model/run-24/checkpoint-219/pytorch_model.bin\n",
      " 20%|██        | 292/1460 [01:15<03:53,  5.00it/s]***** Running Evaluation *****\n",
      "  Num examples = 37\n",
      "  Batch size = 2\n",
      "/home/ppibot/anaconda3/envs/myenv/lib/python3.9/site-packages/sklearn/metrics/_classification.py:1334: UndefinedMetricWarning: Precision and F-score are ill-defined and being set to 0.0 in labels with no predicted samples. Use `zero_division` parameter to control this behavior.\n",
      "  _warn_prf(average, modifier, msg_start, len(result))\n",
      "/home/ppibot/anaconda3/envs/myenv/lib/python3.9/site-packages/sklearn/metrics/_classification.py:1334: UndefinedMetricWarning: Recall and F-score are ill-defined and being set to 0.0 in labels with no true samples. Use `zero_division` parameter to control this behavior.\n",
      "  _warn_prf(average, modifier, msg_start, len(result))\n",
      "                                                  \n",
      " 20%|██        | 292/1460 [01:18<03:53,  5.00it/s]Saving model checkpoint to ./model/run-24/checkpoint-292\n",
      "Configuration saved in ./model/run-24/checkpoint-292/config.json\n"
     ]
    },
    {
     "name": "stdout",
     "output_type": "stream",
     "text": [
      "{'eval_loss': 0.3497309982776642, 'eval_accuracy': 0.5945945945945946, 'eval_f1': 0.4230769230769231, 'eval_precision': 0.4230769230769231, 'eval_recall': 0.4230769230769231, 'eval_slot': 0.8490472298472082, 'eval_slot_accuracy': 0.7612612612612611, 'eval_runtime': 2.9768, 'eval_samples_per_second': 12.429, 'eval_steps_per_second': 6.383, 'epoch': 4.0}\n"
     ]
    },
    {
     "name": "stderr",
     "output_type": "stream",
     "text": [
      "Model weights saved in ./model/run-24/checkpoint-292/pytorch_model.bin\n",
      " 25%|██▌       | 365/1460 [01:35<03:39,  5.00it/s]***** Running Evaluation *****\n",
      "  Num examples = 37\n",
      "  Batch size = 2\n",
      "/home/ppibot/anaconda3/envs/myenv/lib/python3.9/site-packages/sklearn/metrics/_classification.py:1334: UndefinedMetricWarning: Precision and F-score are ill-defined and being set to 0.0 in labels with no predicted samples. Use `zero_division` parameter to control this behavior.\n",
      "  _warn_prf(average, modifier, msg_start, len(result))\n",
      "/home/ppibot/anaconda3/envs/myenv/lib/python3.9/site-packages/sklearn/metrics/_classification.py:1334: UndefinedMetricWarning: Recall and F-score are ill-defined and being set to 0.0 in labels with no true samples. Use `zero_division` parameter to control this behavior.\n",
      "  _warn_prf(average, modifier, msg_start, len(result))\n",
      "                                                  \n",
      " 25%|██▌       | 365/1460 [01:38<03:39,  5.00it/s]Saving model checkpoint to ./model/run-24/checkpoint-365\n",
      "Configuration saved in ./model/run-24/checkpoint-365/config.json\n"
     ]
    },
    {
     "name": "stdout",
     "output_type": "stream",
     "text": [
      "{'eval_loss': 0.37639257311820984, 'eval_accuracy': 0.6216216216216216, 'eval_f1': 0.45098039215686275, 'eval_precision': 0.45098039215686275, 'eval_recall': 0.45098039215686275, 'eval_slot': 0.8663693865996497, 'eval_slot_accuracy': 0.7972972972972973, 'eval_runtime': 2.9671, 'eval_samples_per_second': 12.47, 'eval_steps_per_second': 6.403, 'epoch': 5.0}\n"
     ]
    },
    {
     "name": "stderr",
     "output_type": "stream",
     "text": [
      "Model weights saved in ./model/run-24/checkpoint-365/pytorch_model.bin\n",
      " 30%|███       | 438/1460 [01:56<03:23,  5.02it/s]***** Running Evaluation *****\n",
      "  Num examples = 37\n",
      "  Batch size = 2\n",
      "/home/ppibot/anaconda3/envs/myenv/lib/python3.9/site-packages/sklearn/metrics/_classification.py:1334: UndefinedMetricWarning: Precision and F-score are ill-defined and being set to 0.0 in labels with no predicted samples. Use `zero_division` parameter to control this behavior.\n",
      "  _warn_prf(average, modifier, msg_start, len(result))\n",
      "/home/ppibot/anaconda3/envs/myenv/lib/python3.9/site-packages/sklearn/metrics/_classification.py:1334: UndefinedMetricWarning: Recall and F-score are ill-defined and being set to 0.0 in labels with no true samples. Use `zero_division` parameter to control this behavior.\n",
      "  _warn_prf(average, modifier, msg_start, len(result))\n",
      "                                                  \n",
      " 30%|███       | 438/1460 [01:59<03:23,  5.02it/s]Saving model checkpoint to ./model/run-24/checkpoint-438\n",
      "Configuration saved in ./model/run-24/checkpoint-438/config.json\n"
     ]
    },
    {
     "name": "stdout",
     "output_type": "stream",
     "text": [
      "{'eval_loss': 0.3784598112106323, 'eval_accuracy': 0.6486486486486487, 'eval_f1': 0.48, 'eval_precision': 0.48, 'eval_recall': 0.48, 'eval_slot': 0.8840754043056673, 'eval_slot_accuracy': 0.8243243243243243, 'eval_runtime': 3.0201, 'eval_samples_per_second': 12.251, 'eval_steps_per_second': 6.291, 'epoch': 6.0}\n"
     ]
    },
    {
     "name": "stderr",
     "output_type": "stream",
     "text": [
      "Model weights saved in ./model/run-24/checkpoint-438/pytorch_model.bin\n",
      " 34%|███▍      | 501/1460 [02:15<03:12,  4.98it/s]"
     ]
    },
    {
     "name": "stdout",
     "output_type": "stream",
     "text": [
      "{'loss': 0.2783, 'learning_rate': 5.3535976027862036e-05, 'epoch': 6.85}\n"
     ]
    },
    {
     "name": "stderr",
     "output_type": "stream",
     "text": [
      " 35%|███▌      | 511/1460 [02:17<03:09,  5.00it/s]***** Running Evaluation *****\n",
      "  Num examples = 37\n",
      "  Batch size = 2\n",
      "/home/ppibot/anaconda3/envs/myenv/lib/python3.9/site-packages/sklearn/metrics/_classification.py:1334: UndefinedMetricWarning: Precision and F-score are ill-defined and being set to 0.0 in labels with no predicted samples. Use `zero_division` parameter to control this behavior.\n",
      "  _warn_prf(average, modifier, msg_start, len(result))\n",
      "/home/ppibot/anaconda3/envs/myenv/lib/python3.9/site-packages/sklearn/metrics/_classification.py:1334: UndefinedMetricWarning: Recall and F-score are ill-defined and being set to 0.0 in labels with no true samples. Use `zero_division` parameter to control this behavior.\n",
      "  _warn_prf(average, modifier, msg_start, len(result))\n",
      "                                                  \n",
      " 35%|███▌      | 511/1460 [02:20<03:09,  5.00it/s]Saving model checkpoint to ./model/run-24/checkpoint-511\n",
      "Configuration saved in ./model/run-24/checkpoint-511/config.json\n"
     ]
    },
    {
     "name": "stdout",
     "output_type": "stream",
     "text": [
      "{'eval_loss': 0.3750368654727936, 'eval_accuracy': 0.6756756756756757, 'eval_f1': 0.5102040816326531, 'eval_precision': 0.5102040816326531, 'eval_recall': 0.5102040816326531, 'eval_slot': 0.8492316652876998, 'eval_slot_accuracy': 0.7972972972972973, 'eval_runtime': 3.1863, 'eval_samples_per_second': 11.612, 'eval_steps_per_second': 5.963, 'epoch': 7.0}\n"
     ]
    },
    {
     "name": "stderr",
     "output_type": "stream",
     "text": [
      "Model weights saved in ./model/run-24/checkpoint-511/pytorch_model.bin\n",
      " 40%|████      | 584/1460 [02:37<02:54,  5.01it/s]***** Running Evaluation *****\n",
      "  Num examples = 37\n",
      "  Batch size = 2\n",
      "/home/ppibot/anaconda3/envs/myenv/lib/python3.9/site-packages/sklearn/metrics/_classification.py:1334: UndefinedMetricWarning: Precision and F-score are ill-defined and being set to 0.0 in labels with no predicted samples. Use `zero_division` parameter to control this behavior.\n",
      "  _warn_prf(average, modifier, msg_start, len(result))\n",
      "/home/ppibot/anaconda3/envs/myenv/lib/python3.9/site-packages/sklearn/metrics/_classification.py:1334: UndefinedMetricWarning: Recall and F-score are ill-defined and being set to 0.0 in labels with no true samples. Use `zero_division` parameter to control this behavior.\n",
      "  _warn_prf(average, modifier, msg_start, len(result))\n",
      "                                                  \n",
      " 40%|████      | 584/1460 [02:40<02:54,  5.01it/s]Saving model checkpoint to ./model/run-24/checkpoint-584\n",
      "Configuration saved in ./model/run-24/checkpoint-584/config.json\n"
     ]
    },
    {
     "name": "stdout",
     "output_type": "stream",
     "text": [
      "{'eval_loss': 0.38955068588256836, 'eval_accuracy': 0.6216216216216216, 'eval_f1': 0.45098039215686275, 'eval_precision': 0.45098039215686275, 'eval_recall': 0.45098039215686275, 'eval_slot': 0.865609731665766, 'eval_slot_accuracy': 0.7972972972972973, 'eval_runtime': 3.0015, 'eval_samples_per_second': 12.327, 'eval_steps_per_second': 6.33, 'epoch': 8.0}\n"
     ]
    },
    {
     "name": "stderr",
     "output_type": "stream",
     "text": [
      "Model weights saved in ./model/run-24/checkpoint-584/pytorch_model.bin\n",
      " 45%|████▌     | 657/1460 [02:58<02:40,  5.00it/s]***** Running Evaluation *****\n",
      "  Num examples = 37\n",
      "  Batch size = 2\n",
      "/home/ppibot/anaconda3/envs/myenv/lib/python3.9/site-packages/sklearn/metrics/_classification.py:1334: UndefinedMetricWarning: Precision and F-score are ill-defined and being set to 0.0 in labels with no predicted samples. Use `zero_division` parameter to control this behavior.\n",
      "  _warn_prf(average, modifier, msg_start, len(result))\n",
      "/home/ppibot/anaconda3/envs/myenv/lib/python3.9/site-packages/sklearn/metrics/_classification.py:1334: UndefinedMetricWarning: Recall and F-score are ill-defined and being set to 0.0 in labels with no true samples. Use `zero_division` parameter to control this behavior.\n",
      "  _warn_prf(average, modifier, msg_start, len(result))\n",
      "                                                  \n",
      " 45%|████▌     | 657/1460 [03:01<02:40,  5.00it/s]Saving model checkpoint to ./model/run-24/checkpoint-657\n",
      "Configuration saved in ./model/run-24/checkpoint-657/config.json\n"
     ]
    },
    {
     "name": "stdout",
     "output_type": "stream",
     "text": [
      "{'eval_loss': 0.45673730969429016, 'eval_accuracy': 0.5945945945945946, 'eval_f1': 0.4230769230769231, 'eval_precision': 0.4230769230769231, 'eval_recall': 0.4230769230769231, 'eval_slot': 0.8592372544675175, 'eval_slot_accuracy': 0.8018018018018017, 'eval_runtime': 3.0074, 'eval_samples_per_second': 12.303, 'eval_steps_per_second': 6.318, 'epoch': 9.0}\n"
     ]
    },
    {
     "name": "stderr",
     "output_type": "stream",
     "text": [
      "Model weights saved in ./model/run-24/checkpoint-657/pytorch_model.bin\n",
      " 50%|█████     | 730/1460 [03:20<02:25,  5.03it/s]***** Running Evaluation *****\n",
      "  Num examples = 37\n",
      "  Batch size = 2\n",
      "/home/ppibot/anaconda3/envs/myenv/lib/python3.9/site-packages/sklearn/metrics/_classification.py:1334: UndefinedMetricWarning: Precision and F-score are ill-defined and being set to 0.0 in labels with no predicted samples. Use `zero_division` parameter to control this behavior.\n",
      "  _warn_prf(average, modifier, msg_start, len(result))\n",
      "/home/ppibot/anaconda3/envs/myenv/lib/python3.9/site-packages/sklearn/metrics/_classification.py:1334: UndefinedMetricWarning: Recall and F-score are ill-defined and being set to 0.0 in labels with no true samples. Use `zero_division` parameter to control this behavior.\n",
      "  _warn_prf(average, modifier, msg_start, len(result))\n",
      "                                                  \n",
      " 50%|█████     | 730/1460 [03:23<02:25,  5.03it/s]Saving model checkpoint to ./model/run-24/checkpoint-730\n",
      "Configuration saved in ./model/run-24/checkpoint-730/config.json\n"
     ]
    },
    {
     "name": "stdout",
     "output_type": "stream",
     "text": [
      "{'eval_loss': 0.46048060059547424, 'eval_accuracy': 0.6216216216216216, 'eval_f1': 0.45098039215686275, 'eval_precision': 0.45098039215686275, 'eval_recall': 0.45098039215686275, 'eval_slot': 0.8614895067197698, 'eval_slot_accuracy': 0.7927927927927928, 'eval_runtime': 2.8915, 'eval_samples_per_second': 12.796, 'eval_steps_per_second': 6.571, 'epoch': 10.0}\n"
     ]
    },
    {
     "name": "stderr",
     "output_type": "stream",
     "text": [
      "Model weights saved in ./model/run-24/checkpoint-730/pytorch_model.bin\n",
      " 55%|█████▌    | 803/1460 [03:41<02:11,  5.00it/s]***** Running Evaluation *****\n",
      "  Num examples = 37\n",
      "  Batch size = 2\n",
      "/home/ppibot/anaconda3/envs/myenv/lib/python3.9/site-packages/sklearn/metrics/_classification.py:1334: UndefinedMetricWarning: Precision and F-score are ill-defined and being set to 0.0 in labels with no predicted samples. Use `zero_division` parameter to control this behavior.\n",
      "  _warn_prf(average, modifier, msg_start, len(result))\n",
      "/home/ppibot/anaconda3/envs/myenv/lib/python3.9/site-packages/sklearn/metrics/_classification.py:1334: UndefinedMetricWarning: Recall and F-score are ill-defined and being set to 0.0 in labels with no true samples. Use `zero_division` parameter to control this behavior.\n",
      "  _warn_prf(average, modifier, msg_start, len(result))\n",
      "                                                  \n",
      " 55%|█████▌    | 803/1460 [03:44<02:11,  5.00it/s]Saving model checkpoint to ./model/run-24/checkpoint-803\n",
      "Configuration saved in ./model/run-24/checkpoint-803/config.json\n"
     ]
    },
    {
     "name": "stdout",
     "output_type": "stream",
     "text": [
      "{'eval_loss': 0.46450722217559814, 'eval_accuracy': 0.6756756756756757, 'eval_f1': 0.5102040816326531, 'eval_precision': 0.5102040816326531, 'eval_recall': 0.5102040816326531, 'eval_slot': 0.8620919281479626, 'eval_slot_accuracy': 0.7972972972972973, 'eval_runtime': 2.9103, 'eval_samples_per_second': 12.714, 'eval_steps_per_second': 6.529, 'epoch': 11.0}\n"
     ]
    },
    {
     "name": "stderr",
     "output_type": "stream",
     "text": [
      "Model weights saved in ./model/run-24/checkpoint-803/pytorch_model.bin\n",
      " 60%|██████    | 876/1460 [04:04<01:56,  5.02it/s]***** Running Evaluation *****\n",
      "  Num examples = 37\n",
      "  Batch size = 2\n",
      "/home/ppibot/anaconda3/envs/myenv/lib/python3.9/site-packages/sklearn/metrics/_classification.py:1334: UndefinedMetricWarning: Precision and F-score are ill-defined and being set to 0.0 in labels with no predicted samples. Use `zero_division` parameter to control this behavior.\n",
      "  _warn_prf(average, modifier, msg_start, len(result))\n",
      "/home/ppibot/anaconda3/envs/myenv/lib/python3.9/site-packages/sklearn/metrics/_classification.py:1334: UndefinedMetricWarning: Recall and F-score are ill-defined and being set to 0.0 in labels with no true samples. Use `zero_division` parameter to control this behavior.\n",
      "  _warn_prf(average, modifier, msg_start, len(result))\n",
      "                                                  \n",
      " 60%|██████    | 876/1460 [04:07<01:56,  5.02it/s]Saving model checkpoint to ./model/run-24/checkpoint-876\n",
      "Configuration saved in ./model/run-24/checkpoint-876/config.json\n"
     ]
    },
    {
     "name": "stdout",
     "output_type": "stream",
     "text": [
      "{'eval_loss': 0.43003761768341064, 'eval_accuracy': 0.7027027027027027, 'eval_f1': 0.5416666666666666, 'eval_precision': 0.5416666666666666, 'eval_recall': 0.5416666666666666, 'eval_slot': 0.9013816716119347, 'eval_slot_accuracy': 0.8333333333333333, 'eval_runtime': 2.9206, 'eval_samples_per_second': 12.669, 'eval_steps_per_second': 6.506, 'epoch': 12.0}\n"
     ]
    },
    {
     "name": "stderr",
     "output_type": "stream",
     "text": [
      "Model weights saved in ./model/run-24/checkpoint-876/pytorch_model.bin\n",
      " 65%|██████▌   | 949/1460 [04:31<01:41,  5.03it/s]***** Running Evaluation *****\n",
      "  Num examples = 37\n",
      "  Batch size = 2\n",
      "/home/ppibot/anaconda3/envs/myenv/lib/python3.9/site-packages/sklearn/metrics/_classification.py:1334: UndefinedMetricWarning: Precision and F-score are ill-defined and being set to 0.0 in labels with no predicted samples. Use `zero_division` parameter to control this behavior.\n",
      "  _warn_prf(average, modifier, msg_start, len(result))\n",
      "/home/ppibot/anaconda3/envs/myenv/lib/python3.9/site-packages/sklearn/metrics/_classification.py:1334: UndefinedMetricWarning: Recall and F-score are ill-defined and being set to 0.0 in labels with no true samples. Use `zero_division` parameter to control this behavior.\n",
      "  _warn_prf(average, modifier, msg_start, len(result))\n",
      "                                                  \n",
      " 65%|██████▌   | 949/1460 [04:34<01:41,  5.03it/s]Saving model checkpoint to ./model/run-24/checkpoint-949\n",
      "Configuration saved in ./model/run-24/checkpoint-949/config.json\n"
     ]
    },
    {
     "name": "stdout",
     "output_type": "stream",
     "text": [
      "{'eval_loss': 0.450316458940506, 'eval_accuracy': 0.6756756756756757, 'eval_f1': 0.5102040816326531, 'eval_precision': 0.5102040816326531, 'eval_recall': 0.5102040816326531, 'eval_slot': 0.8826665278967911, 'eval_slot_accuracy': 0.8063063063063063, 'eval_runtime': 2.9674, 'eval_samples_per_second': 12.469, 'eval_steps_per_second': 6.403, 'epoch': 13.0}\n"
     ]
    },
    {
     "name": "stderr",
     "output_type": "stream",
     "text": [
      "Model weights saved in ./model/run-24/checkpoint-949/pytorch_model.bin\n",
      " 69%|██████▊   | 1001/1460 [04:47<01:31,  5.02it/s]"
     ]
    },
    {
     "name": "stdout",
     "output_type": "stream",
     "text": [
      "{'loss': 0.0208, 'learning_rate': 2.5652655180017225e-05, 'epoch': 13.7}\n"
     ]
    },
    {
     "name": "stderr",
     "output_type": "stream",
     "text": [
      " 70%|███████   | 1022/1460 [04:51<01:27,  5.01it/s]***** Running Evaluation *****\n",
      "  Num examples = 37\n",
      "  Batch size = 2\n",
      "/home/ppibot/anaconda3/envs/myenv/lib/python3.9/site-packages/sklearn/metrics/_classification.py:1334: UndefinedMetricWarning: Precision and F-score are ill-defined and being set to 0.0 in labels with no predicted samples. Use `zero_division` parameter to control this behavior.\n",
      "  _warn_prf(average, modifier, msg_start, len(result))\n",
      "/home/ppibot/anaconda3/envs/myenv/lib/python3.9/site-packages/sklearn/metrics/_classification.py:1334: UndefinedMetricWarning: Recall and F-score are ill-defined and being set to 0.0 in labels with no true samples. Use `zero_division` parameter to control this behavior.\n",
      "  _warn_prf(average, modifier, msg_start, len(result))\n",
      "                                                   \n",
      " 70%|███████   | 1022/1460 [04:54<01:27,  5.01it/s]Saving model checkpoint to ./model/run-24/checkpoint-1022\n",
      "Configuration saved in ./model/run-24/checkpoint-1022/config.json\n"
     ]
    },
    {
     "name": "stdout",
     "output_type": "stream",
     "text": [
      "{'eval_loss': 0.4451388716697693, 'eval_accuracy': 0.6486486486486487, 'eval_f1': 0.48, 'eval_precision': 0.48, 'eval_recall': 0.48, 'eval_slot': 0.8852405304707937, 'eval_slot_accuracy': 0.8153153153153152, 'eval_runtime': 2.926, 'eval_samples_per_second': 12.645, 'eval_steps_per_second': 6.494, 'epoch': 14.0}\n"
     ]
    },
    {
     "name": "stderr",
     "output_type": "stream",
     "text": [
      "Model weights saved in ./model/run-24/checkpoint-1022/pytorch_model.bin\n",
      " 75%|███████▌  | 1095/1460 [05:13<01:12,  5.02it/s]***** Running Evaluation *****\n",
      "  Num examples = 37\n",
      "  Batch size = 2\n",
      "/home/ppibot/anaconda3/envs/myenv/lib/python3.9/site-packages/sklearn/metrics/_classification.py:1334: UndefinedMetricWarning: Precision and F-score are ill-defined and being set to 0.0 in labels with no predicted samples. Use `zero_division` parameter to control this behavior.\n",
      "  _warn_prf(average, modifier, msg_start, len(result))\n",
      "/home/ppibot/anaconda3/envs/myenv/lib/python3.9/site-packages/sklearn/metrics/_classification.py:1334: UndefinedMetricWarning: Recall and F-score are ill-defined and being set to 0.0 in labels with no true samples. Use `zero_division` parameter to control this behavior.\n",
      "  _warn_prf(average, modifier, msg_start, len(result))\n",
      "                                                   \n",
      " 75%|███████▌  | 1095/1460 [05:16<01:12,  5.02it/s]Saving model checkpoint to ./model/run-24/checkpoint-1095\n",
      "Configuration saved in ./model/run-24/checkpoint-1095/config.json\n"
     ]
    },
    {
     "name": "stdout",
     "output_type": "stream",
     "text": [
      "{'eval_loss': 0.4494578242301941, 'eval_accuracy': 0.6486486486486487, 'eval_f1': 0.48, 'eval_precision': 0.48, 'eval_recall': 0.48, 'eval_slot': 0.8852405304707937, 'eval_slot_accuracy': 0.8153153153153152, 'eval_runtime': 3.0107, 'eval_samples_per_second': 12.29, 'eval_steps_per_second': 6.311, 'epoch': 15.0}\n"
     ]
    },
    {
     "name": "stderr",
     "output_type": "stream",
     "text": [
      "Model weights saved in ./model/run-24/checkpoint-1095/pytorch_model.bin\n",
      " 80%|████████  | 1168/1460 [05:34<00:58,  5.03it/s]***** Running Evaluation *****\n",
      "  Num examples = 37\n",
      "  Batch size = 2\n",
      "/home/ppibot/anaconda3/envs/myenv/lib/python3.9/site-packages/sklearn/metrics/_classification.py:1334: UndefinedMetricWarning: Precision and F-score are ill-defined and being set to 0.0 in labels with no predicted samples. Use `zero_division` parameter to control this behavior.\n",
      "  _warn_prf(average, modifier, msg_start, len(result))\n",
      "/home/ppibot/anaconda3/envs/myenv/lib/python3.9/site-packages/sklearn/metrics/_classification.py:1334: UndefinedMetricWarning: Recall and F-score are ill-defined and being set to 0.0 in labels with no true samples. Use `zero_division` parameter to control this behavior.\n",
      "  _warn_prf(average, modifier, msg_start, len(result))\n",
      "                                                   \n",
      " 80%|████████  | 1168/1460 [05:37<00:58,  5.03it/s]Saving model checkpoint to ./model/run-24/checkpoint-1168\n",
      "Configuration saved in ./model/run-24/checkpoint-1168/config.json\n"
     ]
    },
    {
     "name": "stdout",
     "output_type": "stream",
     "text": [
      "{'eval_loss': 0.44892263412475586, 'eval_accuracy': 0.6486486486486487, 'eval_f1': 0.48, 'eval_precision': 0.48, 'eval_recall': 0.48, 'eval_slot': 0.8949515401818033, 'eval_slot_accuracy': 0.8198198198198198, 'eval_runtime': 2.9253, 'eval_samples_per_second': 12.648, 'eval_steps_per_second': 6.495, 'epoch': 16.0}\n"
     ]
    },
    {
     "name": "stderr",
     "output_type": "stream",
     "text": [
      "Model weights saved in ./model/run-24/checkpoint-1168/pytorch_model.bin\n",
      " 85%|████████▌ | 1241/1460 [05:55<00:43,  5.01it/s]***** Running Evaluation *****\n",
      "  Num examples = 37\n",
      "  Batch size = 2\n",
      "/home/ppibot/anaconda3/envs/myenv/lib/python3.9/site-packages/sklearn/metrics/_classification.py:1334: UndefinedMetricWarning: Precision and F-score are ill-defined and being set to 0.0 in labels with no predicted samples. Use `zero_division` parameter to control this behavior.\n",
      "  _warn_prf(average, modifier, msg_start, len(result))\n",
      "/home/ppibot/anaconda3/envs/myenv/lib/python3.9/site-packages/sklearn/metrics/_classification.py:1334: UndefinedMetricWarning: Recall and F-score are ill-defined and being set to 0.0 in labels with no true samples. Use `zero_division` parameter to control this behavior.\n",
      "  _warn_prf(average, modifier, msg_start, len(result))\n",
      "                                                   \n",
      " 85%|████████▌ | 1241/1460 [05:58<00:43,  5.01it/s]Saving model checkpoint to ./model/run-24/checkpoint-1241\n",
      "Configuration saved in ./model/run-24/checkpoint-1241/config.json\n"
     ]
    },
    {
     "name": "stdout",
     "output_type": "stream",
     "text": [
      "{'eval_loss': 0.44858846068382263, 'eval_accuracy': 0.6486486486486487, 'eval_f1': 0.48, 'eval_precision': 0.48, 'eval_recall': 0.48, 'eval_slot': 0.8949515401818033, 'eval_slot_accuracy': 0.8198198198198198, 'eval_runtime': 2.912, 'eval_samples_per_second': 12.706, 'eval_steps_per_second': 6.525, 'epoch': 17.0}\n"
     ]
    },
    {
     "name": "stderr",
     "output_type": "stream",
     "text": [
      "Model weights saved in ./model/run-24/checkpoint-1241/pytorch_model.bin\n",
      " 90%|█████████ | 1314/1460 [06:21<00:29,  5.03it/s]***** Running Evaluation *****\n",
      "  Num examples = 37\n",
      "  Batch size = 2\n",
      "/home/ppibot/anaconda3/envs/myenv/lib/python3.9/site-packages/sklearn/metrics/_classification.py:1334: UndefinedMetricWarning: Precision and F-score are ill-defined and being set to 0.0 in labels with no predicted samples. Use `zero_division` parameter to control this behavior.\n",
      "  _warn_prf(average, modifier, msg_start, len(result))\n",
      "/home/ppibot/anaconda3/envs/myenv/lib/python3.9/site-packages/sklearn/metrics/_classification.py:1334: UndefinedMetricWarning: Recall and F-score are ill-defined and being set to 0.0 in labels with no true samples. Use `zero_division` parameter to control this behavior.\n",
      "  _warn_prf(average, modifier, msg_start, len(result))\n",
      "                                                   \n",
      " 90%|█████████ | 1314/1460 [06:23<00:29,  5.03it/s]Saving model checkpoint to ./model/run-24/checkpoint-1314\n",
      "Configuration saved in ./model/run-24/checkpoint-1314/config.json\n"
     ]
    },
    {
     "name": "stdout",
     "output_type": "stream",
     "text": [
      "{'eval_loss': 0.4520556330680847, 'eval_accuracy': 0.6756756756756757, 'eval_f1': 0.5102040816326531, 'eval_precision': 0.5102040816326531, 'eval_recall': 0.5102040816326531, 'eval_slot': 0.8988076690379322, 'eval_slot_accuracy': 0.8243243243243243, 'eval_runtime': 2.8767, 'eval_samples_per_second': 12.862, 'eval_steps_per_second': 6.605, 'epoch': 18.0}\n"
     ]
    },
    {
     "name": "stderr",
     "output_type": "stream",
     "text": [
      "Model weights saved in ./model/run-24/checkpoint-1314/pytorch_model.bin\n",
      " 95%|█████████▌| 1387/1460 [06:48<00:14,  5.04it/s]***** Running Evaluation *****\n",
      "  Num examples = 37\n",
      "  Batch size = 2\n",
      "/home/ppibot/anaconda3/envs/myenv/lib/python3.9/site-packages/sklearn/metrics/_classification.py:1334: UndefinedMetricWarning: Precision and F-score are ill-defined and being set to 0.0 in labels with no predicted samples. Use `zero_division` parameter to control this behavior.\n",
      "  _warn_prf(average, modifier, msg_start, len(result))\n",
      "/home/ppibot/anaconda3/envs/myenv/lib/python3.9/site-packages/sklearn/metrics/_classification.py:1334: UndefinedMetricWarning: Recall and F-score are ill-defined and being set to 0.0 in labels with no true samples. Use `zero_division` parameter to control this behavior.\n",
      "  _warn_prf(average, modifier, msg_start, len(result))\n",
      "                                                   \n",
      " 95%|█████████▌| 1387/1460 [06:51<00:14,  5.04it/s]Saving model checkpoint to ./model/run-24/checkpoint-1387\n",
      "Configuration saved in ./model/run-24/checkpoint-1387/config.json\n"
     ]
    },
    {
     "name": "stdout",
     "output_type": "stream",
     "text": [
      "{'eval_loss': 0.4618024528026581, 'eval_accuracy': 0.6756756756756757, 'eval_f1': 0.5102040816326531, 'eval_precision': 0.5102040816326531, 'eval_recall': 0.5102040816326531, 'eval_slot': 0.8988076690379322, 'eval_slot_accuracy': 0.8243243243243243, 'eval_runtime': 2.865, 'eval_samples_per_second': 12.914, 'eval_steps_per_second': 6.632, 'epoch': 19.0}\n"
     ]
    },
    {
     "name": "stderr",
     "output_type": "stream",
     "text": [
      "Model weights saved in ./model/run-24/checkpoint-1387/pytorch_model.bin\n",
      "100%|██████████| 1460/1460 [07:08<00:00,  5.02it/s]***** Running Evaluation *****\n",
      "  Num examples = 37\n",
      "  Batch size = 2\n",
      "/home/ppibot/anaconda3/envs/myenv/lib/python3.9/site-packages/sklearn/metrics/_classification.py:1334: UndefinedMetricWarning: Precision and F-score are ill-defined and being set to 0.0 in labels with no predicted samples. Use `zero_division` parameter to control this behavior.\n",
      "  _warn_prf(average, modifier, msg_start, len(result))\n",
      "/home/ppibot/anaconda3/envs/myenv/lib/python3.9/site-packages/sklearn/metrics/_classification.py:1334: UndefinedMetricWarning: Recall and F-score are ill-defined and being set to 0.0 in labels with no true samples. Use `zero_division` parameter to control this behavior.\n",
      "  _warn_prf(average, modifier, msg_start, len(result))\n",
      "                                                   \n",
      "100%|██████████| 1460/1460 [07:11<00:00,  5.02it/s]Saving model checkpoint to ./model/run-24/checkpoint-1460\n",
      "Configuration saved in ./model/run-24/checkpoint-1460/config.json\n"
     ]
    },
    {
     "name": "stdout",
     "output_type": "stream",
     "text": [
      "{'eval_loss': 0.4666094481945038, 'eval_accuracy': 0.6756756756756757, 'eval_f1': 0.5102040816326531, 'eval_precision': 0.5102040816326531, 'eval_recall': 0.5102040816326531, 'eval_slot': 0.8988076690379322, 'eval_slot_accuracy': 0.8243243243243243, 'eval_runtime': 3.0554, 'eval_samples_per_second': 12.11, 'eval_steps_per_second': 6.218, 'epoch': 20.0}\n"
     ]
    },
    {
     "name": "stderr",
     "output_type": "stream",
     "text": [
      "Model weights saved in ./model/run-24/checkpoint-1460/pytorch_model.bin\n",
      "\n",
      "\n",
      "Training completed. Do not forget to share your model on huggingface.co/models =)\n",
      "\n",
      "\n",
      "Loading best model from ./model/run-24/checkpoint-876 (score: 0.8333333333333333).\n",
      "100%|██████████| 1460/1460 [07:14<00:00,  3.36it/s]\n",
      "\u001b[32m[I 2023-06-11 19:47:43,977]\u001b[0m Trial 24 finished with value: 0.8243243243243243 and parameters: {'learning_rate': 8.141929687570685e-05, 'num_train_epochs': 20}. Best is trial 11 with value: 0.8558558558558559.\u001b[0m\n",
      "Trial: {'learning_rate': 6.656014058327073e-05, 'num_train_epochs': 17}\n"
     ]
    },
    {
     "name": "stdout",
     "output_type": "stream",
     "text": [
      "{'train_runtime': 434.7043, 'train_samples_per_second': 6.717, 'train_steps_per_second': 3.359, 'train_loss': 0.10494352546456742, 'epoch': 20.0}\n"
     ]
    },
    {
     "name": "stderr",
     "output_type": "stream",
     "text": [
      "loading configuration file config.json from cache at /home/ppibot/.cache/huggingface/hub/models--google--flan-t5-base/snapshots/c782cba52f8ea6a704240578055cf1c3fc2f2ca9/config.json\n",
      "Model config T5Config {\n",
      "  \"_name_or_path\": \"google/flan-t5-base\",\n",
      "  \"architectures\": [\n",
      "    \"T5ForConditionalGeneration\"\n",
      "  ],\n",
      "  \"d_ff\": 2048,\n",
      "  \"d_kv\": 64,\n",
      "  \"d_model\": 768,\n",
      "  \"decoder_start_token_id\": 0,\n",
      "  \"dense_act_fn\": \"gelu_new\",\n",
      "  \"dropout_rate\": 0.1,\n",
      "  \"eos_token_id\": 1,\n",
      "  \"feed_forward_proj\": \"gated-gelu\",\n",
      "  \"initializer_factor\": 1.0,\n",
      "  \"is_encoder_decoder\": true,\n",
      "  \"is_gated_act\": true,\n",
      "  \"layer_norm_epsilon\": 1e-06,\n",
      "  \"model_type\": \"t5\",\n",
      "  \"n_positions\": 512,\n",
      "  \"num_decoder_layers\": 12,\n",
      "  \"num_heads\": 12,\n",
      "  \"num_layers\": 12,\n",
      "  \"output_past\": true,\n",
      "  \"pad_token_id\": 0,\n",
      "  \"relative_attention_max_distance\": 128,\n",
      "  \"relative_attention_num_buckets\": 32,\n",
      "  \"task_specific_params\": {\n",
      "    \"summarization\": {\n",
      "      \"early_stopping\": true,\n",
      "      \"length_penalty\": 2.0,\n",
      "      \"max_length\": 200,\n",
      "      \"min_length\": 30,\n",
      "      \"no_repeat_ngram_size\": 3,\n",
      "      \"num_beams\": 4,\n",
      "      \"prefix\": \"summarize: \"\n",
      "    },\n",
      "    \"translation_en_to_de\": {\n",
      "      \"early_stopping\": true,\n",
      "      \"max_length\": 300,\n",
      "      \"num_beams\": 4,\n",
      "      \"prefix\": \"translate English to German: \"\n",
      "    },\n",
      "    \"translation_en_to_fr\": {\n",
      "      \"early_stopping\": true,\n",
      "      \"max_length\": 300,\n",
      "      \"num_beams\": 4,\n",
      "      \"prefix\": \"translate English to French: \"\n",
      "    },\n",
      "    \"translation_en_to_ro\": {\n",
      "      \"early_stopping\": true,\n",
      "      \"max_length\": 300,\n",
      "      \"num_beams\": 4,\n",
      "      \"prefix\": \"translate English to Romanian: \"\n",
      "    }\n",
      "  },\n",
      "  \"tie_word_embeddings\": false,\n",
      "  \"transformers_version\": \"4.24.0\",\n",
      "  \"use_cache\": true,\n",
      "  \"vocab_size\": 32128\n",
      "}\n",
      "\n",
      "loading weights file pytorch_model.bin from cache at /home/ppibot/.cache/huggingface/hub/models--google--flan-t5-base/snapshots/c782cba52f8ea6a704240578055cf1c3fc2f2ca9/pytorch_model.bin\n",
      "All model checkpoint weights were used when initializing T5ForConditionalGeneration.\n",
      "\n",
      "All the weights of T5ForConditionalGeneration were initialized from the model checkpoint at google/flan-t5-base.\n",
      "If your task is similar to the task the model of the checkpoint was trained on, you can already use T5ForConditionalGeneration for predictions without further training.\n",
      "/home/ppibot/anaconda3/envs/myenv/lib/python3.9/site-packages/transformers/optimization.py:306: FutureWarning: This implementation of AdamW is deprecated and will be removed in a future version. Use the PyTorch implementation torch.optim.AdamW instead, or set `no_deprecation_warning=True` to disable this warning\n",
      "  warnings.warn(\n",
      "***** Running training *****\n",
      "  Num examples = 146\n",
      "  Num Epochs = 17\n",
      "  Instantaneous batch size per device = 2\n",
      "  Total train batch size (w. parallel, distributed & accumulation) = 2\n",
      "  Gradient Accumulation steps = 1\n",
      "  Total optimization steps = 1241\n",
      "  Number of trainable parameters = 247577856\n",
      "  6%|▌         | 73/1241 [00:14<03:51,  5.04it/s]***** Running Evaluation *****\n",
      "  Num examples = 37\n",
      "  Batch size = 2\n",
      "/home/ppibot/anaconda3/envs/myenv/lib/python3.9/site-packages/sklearn/metrics/_classification.py:1334: UndefinedMetricWarning: Precision and F-score are ill-defined and being set to 0.0 in labels with no predicted samples. Use `zero_division` parameter to control this behavior.\n",
      "  _warn_prf(average, modifier, msg_start, len(result))\n",
      "/home/ppibot/anaconda3/envs/myenv/lib/python3.9/site-packages/sklearn/metrics/_classification.py:1334: UndefinedMetricWarning: Recall and F-score are ill-defined and being set to 0.0 in labels with no true samples. Use `zero_division` parameter to control this behavior.\n",
      "  _warn_prf(average, modifier, msg_start, len(result))\n",
      "                                                 \n",
      "  6%|▌         | 73/1241 [00:17<04:37,  4.20it/s]\n",
      "\u001b[32m[I 2023-06-11 19:48:02,761]\u001b[0m Trial 25 pruned. \u001b[0m\n",
      "Trial: {'learning_rate': 8.266111666674117e-05, 'num_train_epochs': 15}\n"
     ]
    },
    {
     "name": "stdout",
     "output_type": "stream",
     "text": [
      "{'eval_loss': 0.44758960604667664, 'eval_accuracy': 0.24324324324324326, 'eval_f1': 0.13846153846153847, 'eval_precision': 0.13846153846153847, 'eval_recall': 0.13846153846153847, 'eval_slot': 0.6567216584601709, 'eval_slot_accuracy': 0.47297297297297297, 'eval_runtime': 2.8835, 'eval_samples_per_second': 12.832, 'eval_steps_per_second': 6.589, 'epoch': 1.0}\n"
     ]
    },
    {
     "name": "stderr",
     "output_type": "stream",
     "text": [
      "loading configuration file config.json from cache at /home/ppibot/.cache/huggingface/hub/models--google--flan-t5-base/snapshots/c782cba52f8ea6a704240578055cf1c3fc2f2ca9/config.json\n",
      "Model config T5Config {\n",
      "  \"_name_or_path\": \"google/flan-t5-base\",\n",
      "  \"architectures\": [\n",
      "    \"T5ForConditionalGeneration\"\n",
      "  ],\n",
      "  \"d_ff\": 2048,\n",
      "  \"d_kv\": 64,\n",
      "  \"d_model\": 768,\n",
      "  \"decoder_start_token_id\": 0,\n",
      "  \"dense_act_fn\": \"gelu_new\",\n",
      "  \"dropout_rate\": 0.1,\n",
      "  \"eos_token_id\": 1,\n",
      "  \"feed_forward_proj\": \"gated-gelu\",\n",
      "  \"initializer_factor\": 1.0,\n",
      "  \"is_encoder_decoder\": true,\n",
      "  \"is_gated_act\": true,\n",
      "  \"layer_norm_epsilon\": 1e-06,\n",
      "  \"model_type\": \"t5\",\n",
      "  \"n_positions\": 512,\n",
      "  \"num_decoder_layers\": 12,\n",
      "  \"num_heads\": 12,\n",
      "  \"num_layers\": 12,\n",
      "  \"output_past\": true,\n",
      "  \"pad_token_id\": 0,\n",
      "  \"relative_attention_max_distance\": 128,\n",
      "  \"relative_attention_num_buckets\": 32,\n",
      "  \"task_specific_params\": {\n",
      "    \"summarization\": {\n",
      "      \"early_stopping\": true,\n",
      "      \"length_penalty\": 2.0,\n",
      "      \"max_length\": 200,\n",
      "      \"min_length\": 30,\n",
      "      \"no_repeat_ngram_size\": 3,\n",
      "      \"num_beams\": 4,\n",
      "      \"prefix\": \"summarize: \"\n",
      "    },\n",
      "    \"translation_en_to_de\": {\n",
      "      \"early_stopping\": true,\n",
      "      \"max_length\": 300,\n",
      "      \"num_beams\": 4,\n",
      "      \"prefix\": \"translate English to German: \"\n",
      "    },\n",
      "    \"translation_en_to_fr\": {\n",
      "      \"early_stopping\": true,\n",
      "      \"max_length\": 300,\n",
      "      \"num_beams\": 4,\n",
      "      \"prefix\": \"translate English to French: \"\n",
      "    },\n",
      "    \"translation_en_to_ro\": {\n",
      "      \"early_stopping\": true,\n",
      "      \"max_length\": 300,\n",
      "      \"num_beams\": 4,\n",
      "      \"prefix\": \"translate English to Romanian: \"\n",
      "    }\n",
      "  },\n",
      "  \"tie_word_embeddings\": false,\n",
      "  \"transformers_version\": \"4.24.0\",\n",
      "  \"use_cache\": true,\n",
      "  \"vocab_size\": 32128\n",
      "}\n",
      "\n",
      "loading weights file pytorch_model.bin from cache at /home/ppibot/.cache/huggingface/hub/models--google--flan-t5-base/snapshots/c782cba52f8ea6a704240578055cf1c3fc2f2ca9/pytorch_model.bin\n",
      "All model checkpoint weights were used when initializing T5ForConditionalGeneration.\n",
      "\n",
      "All the weights of T5ForConditionalGeneration were initialized from the model checkpoint at google/flan-t5-base.\n",
      "If your task is similar to the task the model of the checkpoint was trained on, you can already use T5ForConditionalGeneration for predictions without further training.\n",
      "/home/ppibot/anaconda3/envs/myenv/lib/python3.9/site-packages/transformers/optimization.py:306: FutureWarning: This implementation of AdamW is deprecated and will be removed in a future version. Use the PyTorch implementation torch.optim.AdamW instead, or set `no_deprecation_warning=True` to disable this warning\n",
      "  warnings.warn(\n",
      "***** Running training *****\n",
      "  Num examples = 146\n",
      "  Num Epochs = 15\n",
      "  Instantaneous batch size per device = 2\n",
      "  Total train batch size (w. parallel, distributed & accumulation) = 2\n",
      "  Gradient Accumulation steps = 1\n",
      "  Total optimization steps = 1095\n",
      "  Number of trainable parameters = 247577856\n",
      "  7%|▋         | 73/1095 [00:14<03:23,  5.02it/s]***** Running Evaluation *****\n",
      "  Num examples = 37\n",
      "  Batch size = 2\n",
      "/home/ppibot/anaconda3/envs/myenv/lib/python3.9/site-packages/sklearn/metrics/_classification.py:1334: UndefinedMetricWarning: Precision and F-score are ill-defined and being set to 0.0 in labels with no predicted samples. Use `zero_division` parameter to control this behavior.\n",
      "  _warn_prf(average, modifier, msg_start, len(result))\n",
      "/home/ppibot/anaconda3/envs/myenv/lib/python3.9/site-packages/sklearn/metrics/_classification.py:1334: UndefinedMetricWarning: Recall and F-score are ill-defined and being set to 0.0 in labels with no true samples. Use `zero_division` parameter to control this behavior.\n",
      "  _warn_prf(average, modifier, msg_start, len(result))\n",
      "                                                 \n",
      "  7%|▋         | 73/1095 [00:17<03:23,  5.02it/s]Saving model checkpoint to ./model/run-26/checkpoint-73\n",
      "Configuration saved in ./model/run-26/checkpoint-73/config.json\n"
     ]
    },
    {
     "name": "stdout",
     "output_type": "stream",
     "text": [
      "{'eval_loss': 0.3886983394622803, 'eval_accuracy': 0.40540540540540543, 'eval_f1': 0.2542372881355932, 'eval_precision': 0.2542372881355932, 'eval_recall': 0.2542372881355932, 'eval_slot': 0.7424634098332612, 'eval_slot_accuracy': 0.6486486486486487, 'eval_runtime': 2.9174, 'eval_samples_per_second': 12.682, 'eval_steps_per_second': 6.513, 'epoch': 1.0}\n"
     ]
    },
    {
     "name": "stderr",
     "output_type": "stream",
     "text": [
      "Model weights saved in ./model/run-26/checkpoint-73/pytorch_model.bin\n",
      " 13%|█▎        | 146/1095 [00:34<03:09,  5.01it/s]***** Running Evaluation *****\n",
      "  Num examples = 37\n",
      "  Batch size = 2\n",
      "/home/ppibot/anaconda3/envs/myenv/lib/python3.9/site-packages/sklearn/metrics/_classification.py:1334: UndefinedMetricWarning: Precision and F-score are ill-defined and being set to 0.0 in labels with no predicted samples. Use `zero_division` parameter to control this behavior.\n",
      "  _warn_prf(average, modifier, msg_start, len(result))\n",
      "/home/ppibot/anaconda3/envs/myenv/lib/python3.9/site-packages/sklearn/metrics/_classification.py:1334: UndefinedMetricWarning: Recall and F-score are ill-defined and being set to 0.0 in labels with no true samples. Use `zero_division` parameter to control this behavior.\n",
      "  _warn_prf(average, modifier, msg_start, len(result))\n",
      "                                                  \n",
      " 13%|█▎        | 146/1095 [00:37<03:09,  5.01it/s]Saving model checkpoint to ./model/run-26/checkpoint-146\n",
      "Configuration saved in ./model/run-26/checkpoint-146/config.json\n"
     ]
    },
    {
     "name": "stdout",
     "output_type": "stream",
     "text": [
      "{'eval_loss': 0.3371468484401703, 'eval_accuracy': 0.4594594594594595, 'eval_f1': 0.2982456140350877, 'eval_precision': 0.2982456140350877, 'eval_recall': 0.2982456140350877, 'eval_slot': 0.7581191515028389, 'eval_slot_accuracy': 0.6891891891891891, 'eval_runtime': 3.0564, 'eval_samples_per_second': 12.106, 'eval_steps_per_second': 6.216, 'epoch': 2.0}\n"
     ]
    },
    {
     "name": "stderr",
     "output_type": "stream",
     "text": [
      "Model weights saved in ./model/run-26/checkpoint-146/pytorch_model.bin\n",
      " 20%|██        | 219/1095 [00:54<02:54,  5.03it/s]***** Running Evaluation *****\n",
      "  Num examples = 37\n",
      "  Batch size = 2\n",
      "/home/ppibot/anaconda3/envs/myenv/lib/python3.9/site-packages/sklearn/metrics/_classification.py:1334: UndefinedMetricWarning: Precision and F-score are ill-defined and being set to 0.0 in labels with no predicted samples. Use `zero_division` parameter to control this behavior.\n",
      "  _warn_prf(average, modifier, msg_start, len(result))\n",
      "/home/ppibot/anaconda3/envs/myenv/lib/python3.9/site-packages/sklearn/metrics/_classification.py:1334: UndefinedMetricWarning: Recall and F-score are ill-defined and being set to 0.0 in labels with no true samples. Use `zero_division` parameter to control this behavior.\n",
      "  _warn_prf(average, modifier, msg_start, len(result))\n",
      "                                                  \n",
      " 20%|██        | 219/1095 [00:57<02:54,  5.03it/s]Saving model checkpoint to ./model/run-26/checkpoint-219\n",
      "Configuration saved in ./model/run-26/checkpoint-219/config.json\n"
     ]
    },
    {
     "name": "stdout",
     "output_type": "stream",
     "text": [
      "{'eval_loss': 0.2964761555194855, 'eval_accuracy': 0.6216216216216216, 'eval_f1': 0.45098039215686275, 'eval_precision': 0.45098039215686275, 'eval_recall': 0.45098039215686275, 'eval_slot': 0.8651156698286916, 'eval_slot_accuracy': 0.7927927927927928, 'eval_runtime': 3.0861, 'eval_samples_per_second': 11.989, 'eval_steps_per_second': 6.157, 'epoch': 3.0}\n"
     ]
    },
    {
     "name": "stderr",
     "output_type": "stream",
     "text": [
      "Model weights saved in ./model/run-26/checkpoint-219/pytorch_model.bin\n",
      " 27%|██▋       | 292/1095 [01:14<02:39,  5.02it/s]***** Running Evaluation *****\n",
      "  Num examples = 37\n",
      "  Batch size = 2\n",
      "/home/ppibot/anaconda3/envs/myenv/lib/python3.9/site-packages/sklearn/metrics/_classification.py:1334: UndefinedMetricWarning: Precision and F-score are ill-defined and being set to 0.0 in labels with no predicted samples. Use `zero_division` parameter to control this behavior.\n",
      "  _warn_prf(average, modifier, msg_start, len(result))\n",
      "/home/ppibot/anaconda3/envs/myenv/lib/python3.9/site-packages/sklearn/metrics/_classification.py:1334: UndefinedMetricWarning: Recall and F-score are ill-defined and being set to 0.0 in labels with no true samples. Use `zero_division` parameter to control this behavior.\n",
      "  _warn_prf(average, modifier, msg_start, len(result))\n",
      "                                                  \n",
      " 27%|██▋       | 292/1095 [01:17<02:39,  5.02it/s]Saving model checkpoint to ./model/run-26/checkpoint-292\n",
      "Configuration saved in ./model/run-26/checkpoint-292/config.json\n"
     ]
    },
    {
     "name": "stdout",
     "output_type": "stream",
     "text": [
      "{'eval_loss': 0.3529692590236664, 'eval_accuracy': 0.5675675675675675, 'eval_f1': 0.39622641509433965, 'eval_precision': 0.39622641509433965, 'eval_recall': 0.39622641509433965, 'eval_slot': 0.840038220838199, 'eval_slot_accuracy': 0.7522522522522522, 'eval_runtime': 2.9056, 'eval_samples_per_second': 12.734, 'eval_steps_per_second': 6.539, 'epoch': 4.0}\n"
     ]
    },
    {
     "name": "stderr",
     "output_type": "stream",
     "text": [
      "Model weights saved in ./model/run-26/checkpoint-292/pytorch_model.bin\n",
      " 33%|███▎      | 365/1095 [01:34<02:25,  5.02it/s]***** Running Evaluation *****\n",
      "  Num examples = 37\n",
      "  Batch size = 2\n",
      "/home/ppibot/anaconda3/envs/myenv/lib/python3.9/site-packages/sklearn/metrics/_classification.py:1334: UndefinedMetricWarning: Precision and F-score are ill-defined and being set to 0.0 in labels with no predicted samples. Use `zero_division` parameter to control this behavior.\n",
      "  _warn_prf(average, modifier, msg_start, len(result))\n",
      "/home/ppibot/anaconda3/envs/myenv/lib/python3.9/site-packages/sklearn/metrics/_classification.py:1334: UndefinedMetricWarning: Recall and F-score are ill-defined and being set to 0.0 in labels with no true samples. Use `zero_division` parameter to control this behavior.\n",
      "  _warn_prf(average, modifier, msg_start, len(result))\n",
      "                                                  \n",
      " 33%|███▎      | 365/1095 [01:37<03:14,  3.75it/s]\n",
      "\u001b[32m[I 2023-06-11 19:49:42,118]\u001b[0m Trial 26 pruned. \u001b[0m\n",
      "Trial: {'learning_rate': 8.630318169433334e-05, 'num_train_epochs': 11}\n",
      "loading configuration file config.json from cache at /home/ppibot/.cache/huggingface/hub/models--google--flan-t5-base/snapshots/c782cba52f8ea6a704240578055cf1c3fc2f2ca9/config.json\n",
      "Model config T5Config {\n",
      "  \"_name_or_path\": \"google/flan-t5-base\",\n",
      "  \"architectures\": [\n",
      "    \"T5ForConditionalGeneration\"\n",
      "  ],\n",
      "  \"d_ff\": 2048,\n",
      "  \"d_kv\": 64,\n",
      "  \"d_model\": 768,\n",
      "  \"decoder_start_token_id\": 0,\n",
      "  \"dense_act_fn\": \"gelu_new\",\n",
      "  \"dropout_rate\": 0.1,\n",
      "  \"eos_token_id\": 1,\n",
      "  \"feed_forward_proj\": \"gated-gelu\",\n",
      "  \"initializer_factor\": 1.0,\n",
      "  \"is_encoder_decoder\": true,\n",
      "  \"is_gated_act\": true,\n",
      "  \"layer_norm_epsilon\": 1e-06,\n",
      "  \"model_type\": \"t5\",\n",
      "  \"n_positions\": 512,\n",
      "  \"num_decoder_layers\": 12,\n",
      "  \"num_heads\": 12,\n",
      "  \"num_layers\": 12,\n",
      "  \"output_past\": true,\n",
      "  \"pad_token_id\": 0,\n",
      "  \"relative_attention_max_distance\": 128,\n",
      "  \"relative_attention_num_buckets\": 32,\n",
      "  \"task_specific_params\": {\n",
      "    \"summarization\": {\n",
      "      \"early_stopping\": true,\n",
      "      \"length_penalty\": 2.0,\n",
      "      \"max_length\": 200,\n",
      "      \"min_length\": 30,\n",
      "      \"no_repeat_ngram_size\": 3,\n",
      "      \"num_beams\": 4,\n",
      "      \"prefix\": \"summarize: \"\n",
      "    },\n",
      "    \"translation_en_to_de\": {\n",
      "      \"early_stopping\": true,\n",
      "      \"max_length\": 300,\n",
      "      \"num_beams\": 4,\n",
      "      \"prefix\": \"translate English to German: \"\n",
      "    },\n",
      "    \"translation_en_to_fr\": {\n",
      "      \"early_stopping\": true,\n",
      "      \"max_length\": 300,\n",
      "      \"num_beams\": 4,\n",
      "      \"prefix\": \"translate English to French: \"\n",
      "    },\n",
      "    \"translation_en_to_ro\": {\n",
      "      \"early_stopping\": true,\n",
      "      \"max_length\": 300,\n",
      "      \"num_beams\": 4,\n",
      "      \"prefix\": \"translate English to Romanian: \"\n",
      "    }\n",
      "  },\n",
      "  \"tie_word_embeddings\": false,\n",
      "  \"transformers_version\": \"4.24.0\",\n",
      "  \"use_cache\": true,\n",
      "  \"vocab_size\": 32128\n",
      "}\n",
      "\n",
      "loading weights file pytorch_model.bin from cache at /home/ppibot/.cache/huggingface/hub/models--google--flan-t5-base/snapshots/c782cba52f8ea6a704240578055cf1c3fc2f2ca9/pytorch_model.bin\n"
     ]
    },
    {
     "name": "stdout",
     "output_type": "stream",
     "text": [
      "{'eval_loss': 0.3833937346935272, 'eval_accuracy': 0.5675675675675675, 'eval_f1': 0.39622641509433965, 'eval_precision': 0.39622641509433965, 'eval_recall': 0.39622641509433965, 'eval_slot': 0.8280810983113615, 'eval_slot_accuracy': 0.7702702702702703, 'eval_runtime': 2.956, 'eval_samples_per_second': 12.517, 'eval_steps_per_second': 6.428, 'epoch': 5.0}\n"
     ]
    },
    {
     "name": "stderr",
     "output_type": "stream",
     "text": [
      "All model checkpoint weights were used when initializing T5ForConditionalGeneration.\n",
      "\n",
      "All the weights of T5ForConditionalGeneration were initialized from the model checkpoint at google/flan-t5-base.\n",
      "If your task is similar to the task the model of the checkpoint was trained on, you can already use T5ForConditionalGeneration for predictions without further training.\n",
      "/home/ppibot/anaconda3/envs/myenv/lib/python3.9/site-packages/transformers/optimization.py:306: FutureWarning: This implementation of AdamW is deprecated and will be removed in a future version. Use the PyTorch implementation torch.optim.AdamW instead, or set `no_deprecation_warning=True` to disable this warning\n",
      "  warnings.warn(\n",
      "***** Running training *****\n",
      "  Num examples = 146\n",
      "  Num Epochs = 11\n",
      "  Instantaneous batch size per device = 2\n",
      "  Total train batch size (w. parallel, distributed & accumulation) = 2\n",
      "  Gradient Accumulation steps = 1\n",
      "  Total optimization steps = 803\n",
      "  Number of trainable parameters = 247577856\n",
      "  9%|▉         | 73/803 [00:14<02:25,  5.02it/s]***** Running Evaluation *****\n",
      "  Num examples = 37\n",
      "  Batch size = 2\n",
      "/home/ppibot/anaconda3/envs/myenv/lib/python3.9/site-packages/sklearn/metrics/_classification.py:1334: UndefinedMetricWarning: Precision and F-score are ill-defined and being set to 0.0 in labels with no predicted samples. Use `zero_division` parameter to control this behavior.\n",
      "  _warn_prf(average, modifier, msg_start, len(result))\n",
      "/home/ppibot/anaconda3/envs/myenv/lib/python3.9/site-packages/sklearn/metrics/_classification.py:1334: UndefinedMetricWarning: Recall and F-score are ill-defined and being set to 0.0 in labels with no true samples. Use `zero_division` parameter to control this behavior.\n",
      "  _warn_prf(average, modifier, msg_start, len(result))\n",
      "                                                \n",
      "  9%|▉         | 73/803 [00:17<02:25,  5.02it/s]Saving model checkpoint to ./model/run-27/checkpoint-73\n",
      "Configuration saved in ./model/run-27/checkpoint-73/config.json\n"
     ]
    },
    {
     "name": "stdout",
     "output_type": "stream",
     "text": [
      "{'eval_loss': 0.38186508417129517, 'eval_accuracy': 0.40540540540540543, 'eval_f1': 0.2542372881355932, 'eval_precision': 0.2542372881355932, 'eval_recall': 0.2542372881355932, 'eval_slot': 0.7499338673037186, 'eval_slot_accuracy': 0.6621621621621622, 'eval_runtime': 2.8966, 'eval_samples_per_second': 12.774, 'eval_steps_per_second': 6.559, 'epoch': 1.0}\n"
     ]
    },
    {
     "name": "stderr",
     "output_type": "stream",
     "text": [
      "Model weights saved in ./model/run-27/checkpoint-73/pytorch_model.bin\n",
      " 18%|█▊        | 146/803 [00:34<02:10,  5.03it/s]***** Running Evaluation *****\n",
      "  Num examples = 37\n",
      "  Batch size = 2\n",
      "/home/ppibot/anaconda3/envs/myenv/lib/python3.9/site-packages/sklearn/metrics/_classification.py:1334: UndefinedMetricWarning: Precision and F-score are ill-defined and being set to 0.0 in labels with no predicted samples. Use `zero_division` parameter to control this behavior.\n",
      "  _warn_prf(average, modifier, msg_start, len(result))\n",
      "/home/ppibot/anaconda3/envs/myenv/lib/python3.9/site-packages/sklearn/metrics/_classification.py:1334: UndefinedMetricWarning: Recall and F-score are ill-defined and being set to 0.0 in labels with no true samples. Use `zero_division` parameter to control this behavior.\n",
      "  _warn_prf(average, modifier, msg_start, len(result))\n",
      "                                                 \n",
      " 18%|█▊        | 146/803 [00:37<02:10,  5.03it/s]Saving model checkpoint to ./model/run-27/checkpoint-146\n",
      "Configuration saved in ./model/run-27/checkpoint-146/config.json\n"
     ]
    },
    {
     "name": "stdout",
     "output_type": "stream",
     "text": [
      "{'eval_loss': 0.3378438651561737, 'eval_accuracy': 0.4594594594594595, 'eval_f1': 0.2982456140350877, 'eval_precision': 0.2982456140350877, 'eval_recall': 0.2982456140350877, 'eval_slot': 0.7548654440749027, 'eval_slot_accuracy': 0.6891891891891891, 'eval_runtime': 2.7998, 'eval_samples_per_second': 13.215, 'eval_steps_per_second': 6.786, 'epoch': 2.0}\n"
     ]
    },
    {
     "name": "stderr",
     "output_type": "stream",
     "text": [
      "Model weights saved in ./model/run-27/checkpoint-146/pytorch_model.bin\n",
      " 27%|██▋       | 219/803 [00:54<01:56,  5.00it/s]***** Running Evaluation *****\n",
      "  Num examples = 37\n",
      "  Batch size = 2\n",
      "/home/ppibot/anaconda3/envs/myenv/lib/python3.9/site-packages/sklearn/metrics/_classification.py:1334: UndefinedMetricWarning: Precision and F-score are ill-defined and being set to 0.0 in labels with no predicted samples. Use `zero_division` parameter to control this behavior.\n",
      "  _warn_prf(average, modifier, msg_start, len(result))\n",
      "/home/ppibot/anaconda3/envs/myenv/lib/python3.9/site-packages/sklearn/metrics/_classification.py:1334: UndefinedMetricWarning: Recall and F-score are ill-defined and being set to 0.0 in labels with no true samples. Use `zero_division` parameter to control this behavior.\n",
      "  _warn_prf(average, modifier, msg_start, len(result))\n",
      "                                                 \n",
      " 27%|██▋       | 219/803 [00:56<01:56,  5.00it/s]Saving model checkpoint to ./model/run-27/checkpoint-219\n",
      "Configuration saved in ./model/run-27/checkpoint-219/config.json\n"
     ]
    },
    {
     "name": "stdout",
     "output_type": "stream",
     "text": [
      "{'eval_loss': 0.3105430603027344, 'eval_accuracy': 0.6216216216216216, 'eval_f1': 0.45098039215686275, 'eval_precision': 0.45098039215686275, 'eval_recall': 0.45098039215686275, 'eval_slot': 0.8659346706476923, 'eval_slot_accuracy': 0.8018018018018017, 'eval_runtime': 2.9123, 'eval_samples_per_second': 12.705, 'eval_steps_per_second': 6.524, 'epoch': 3.0}\n"
     ]
    },
    {
     "name": "stderr",
     "output_type": "stream",
     "text": [
      "Model weights saved in ./model/run-27/checkpoint-219/pytorch_model.bin\n",
      " 36%|███▋      | 292/803 [01:14<01:41,  5.03it/s]***** Running Evaluation *****\n",
      "  Num examples = 37\n",
      "  Batch size = 2\n",
      "/home/ppibot/anaconda3/envs/myenv/lib/python3.9/site-packages/sklearn/metrics/_classification.py:1334: UndefinedMetricWarning: Precision and F-score are ill-defined and being set to 0.0 in labels with no predicted samples. Use `zero_division` parameter to control this behavior.\n",
      "  _warn_prf(average, modifier, msg_start, len(result))\n",
      "/home/ppibot/anaconda3/envs/myenv/lib/python3.9/site-packages/sklearn/metrics/_classification.py:1334: UndefinedMetricWarning: Recall and F-score are ill-defined and being set to 0.0 in labels with no true samples. Use `zero_division` parameter to control this behavior.\n",
      "  _warn_prf(average, modifier, msg_start, len(result))\n",
      "                                                 \n",
      " 36%|███▋      | 292/803 [01:16<01:41,  5.03it/s]Saving model checkpoint to ./model/run-27/checkpoint-292\n",
      "Configuration saved in ./model/run-27/checkpoint-292/config.json\n"
     ]
    },
    {
     "name": "stdout",
     "output_type": "stream",
     "text": [
      "{'eval_loss': 0.340360552072525, 'eval_accuracy': 0.5945945945945946, 'eval_f1': 0.4230769230769231, 'eval_precision': 0.4230769230769231, 'eval_recall': 0.4230769230769231, 'eval_slot': 0.8426122234122017, 'eval_slot_accuracy': 0.7612612612612611, 'eval_runtime': 2.8957, 'eval_samples_per_second': 12.778, 'eval_steps_per_second': 6.561, 'epoch': 4.0}\n"
     ]
    },
    {
     "name": "stderr",
     "output_type": "stream",
     "text": [
      "Model weights saved in ./model/run-27/checkpoint-292/pytorch_model.bin\n",
      " 45%|████▌     | 365/803 [01:33<01:27,  5.00it/s]***** Running Evaluation *****\n",
      "  Num examples = 37\n",
      "  Batch size = 2\n",
      "/home/ppibot/anaconda3/envs/myenv/lib/python3.9/site-packages/sklearn/metrics/_classification.py:1334: UndefinedMetricWarning: Precision and F-score are ill-defined and being set to 0.0 in labels with no predicted samples. Use `zero_division` parameter to control this behavior.\n",
      "  _warn_prf(average, modifier, msg_start, len(result))\n",
      "/home/ppibot/anaconda3/envs/myenv/lib/python3.9/site-packages/sklearn/metrics/_classification.py:1334: UndefinedMetricWarning: Recall and F-score are ill-defined and being set to 0.0 in labels with no true samples. Use `zero_division` parameter to control this behavior.\n",
      "  _warn_prf(average, modifier, msg_start, len(result))\n",
      "                                                 \n",
      " 45%|████▌     | 365/803 [01:36<01:27,  5.00it/s]Saving model checkpoint to ./model/run-27/checkpoint-365\n",
      "Configuration saved in ./model/run-27/checkpoint-365/config.json\n"
     ]
    },
    {
     "name": "stdout",
     "output_type": "stream",
     "text": [
      "{'eval_loss': 0.36694493889808655, 'eval_accuracy': 0.6216216216216216, 'eval_f1': 0.45098039215686275, 'eval_precision': 0.45098039215686275, 'eval_recall': 0.45098039215686275, 'eval_slot': 0.8415946118248749, 'eval_slot_accuracy': 0.7837837837837838, 'eval_runtime': 2.9984, 'eval_samples_per_second': 12.34, 'eval_steps_per_second': 6.337, 'epoch': 5.0}\n"
     ]
    },
    {
     "name": "stderr",
     "output_type": "stream",
     "text": [
      "Model weights saved in ./model/run-27/checkpoint-365/pytorch_model.bin\n",
      " 55%|█████▍    | 438/803 [01:53<01:12,  5.02it/s]***** Running Evaluation *****\n",
      "  Num examples = 37\n",
      "  Batch size = 2\n",
      "/home/ppibot/anaconda3/envs/myenv/lib/python3.9/site-packages/sklearn/metrics/_classification.py:1334: UndefinedMetricWarning: Precision and F-score are ill-defined and being set to 0.0 in labels with no predicted samples. Use `zero_division` parameter to control this behavior.\n",
      "  _warn_prf(average, modifier, msg_start, len(result))\n",
      "/home/ppibot/anaconda3/envs/myenv/lib/python3.9/site-packages/sklearn/metrics/_classification.py:1334: UndefinedMetricWarning: Recall and F-score are ill-defined and being set to 0.0 in labels with no true samples. Use `zero_division` parameter to control this behavior.\n",
      "  _warn_prf(average, modifier, msg_start, len(result))\n",
      "                                                 \n",
      " 55%|█████▍    | 438/803 [01:56<01:37,  3.75it/s]\n",
      "\u001b[32m[I 2023-06-11 19:51:40,339]\u001b[0m Trial 27 pruned. \u001b[0m\n",
      "Trial: {'learning_rate': 9.817427888575227e-05, 'num_train_epochs': 16}\n",
      "loading configuration file config.json from cache at /home/ppibot/.cache/huggingface/hub/models--google--flan-t5-base/snapshots/c782cba52f8ea6a704240578055cf1c3fc2f2ca9/config.json\n",
      "Model config T5Config {\n",
      "  \"_name_or_path\": \"google/flan-t5-base\",\n",
      "  \"architectures\": [\n",
      "    \"T5ForConditionalGeneration\"\n",
      "  ],\n",
      "  \"d_ff\": 2048,\n",
      "  \"d_kv\": 64,\n",
      "  \"d_model\": 768,\n",
      "  \"decoder_start_token_id\": 0,\n",
      "  \"dense_act_fn\": \"gelu_new\",\n",
      "  \"dropout_rate\": 0.1,\n",
      "  \"eos_token_id\": 1,\n",
      "  \"feed_forward_proj\": \"gated-gelu\",\n",
      "  \"initializer_factor\": 1.0,\n",
      "  \"is_encoder_decoder\": true,\n",
      "  \"is_gated_act\": true,\n",
      "  \"layer_norm_epsilon\": 1e-06,\n",
      "  \"model_type\": \"t5\",\n",
      "  \"n_positions\": 512,\n",
      "  \"num_decoder_layers\": 12,\n",
      "  \"num_heads\": 12,\n",
      "  \"num_layers\": 12,\n",
      "  \"output_past\": true,\n",
      "  \"pad_token_id\": 0,\n",
      "  \"relative_attention_max_distance\": 128,\n",
      "  \"relative_attention_num_buckets\": 32,\n",
      "  \"task_specific_params\": {\n",
      "    \"summarization\": {\n",
      "      \"early_stopping\": true,\n",
      "      \"length_penalty\": 2.0,\n",
      "      \"max_length\": 200,\n",
      "      \"min_length\": 30,\n",
      "      \"no_repeat_ngram_size\": 3,\n",
      "      \"num_beams\": 4,\n",
      "      \"prefix\": \"summarize: \"\n",
      "    },\n",
      "    \"translation_en_to_de\": {\n",
      "      \"early_stopping\": true,\n",
      "      \"max_length\": 300,\n",
      "      \"num_beams\": 4,\n",
      "      \"prefix\": \"translate English to German: \"\n",
      "    },\n",
      "    \"translation_en_to_fr\": {\n",
      "      \"early_stopping\": true,\n",
      "      \"max_length\": 300,\n",
      "      \"num_beams\": 4,\n",
      "      \"prefix\": \"translate English to French: \"\n",
      "    },\n",
      "    \"translation_en_to_ro\": {\n",
      "      \"early_stopping\": true,\n",
      "      \"max_length\": 300,\n",
      "      \"num_beams\": 4,\n",
      "      \"prefix\": \"translate English to Romanian: \"\n",
      "    }\n",
      "  },\n",
      "  \"tie_word_embeddings\": false,\n",
      "  \"transformers_version\": \"4.24.0\",\n",
      "  \"use_cache\": true,\n",
      "  \"vocab_size\": 32128\n",
      "}\n",
      "\n",
      "loading weights file pytorch_model.bin from cache at /home/ppibot/.cache/huggingface/hub/models--google--flan-t5-base/snapshots/c782cba52f8ea6a704240578055cf1c3fc2f2ca9/pytorch_model.bin\n"
     ]
    },
    {
     "name": "stdout",
     "output_type": "stream",
     "text": [
      "{'eval_loss': 0.37925928831100464, 'eval_accuracy': 0.6756756756756757, 'eval_f1': 0.5102040816326531, 'eval_precision': 0.5102040816326531, 'eval_recall': 0.5102040816326531, 'eval_slot': 0.881501401731665, 'eval_slot_accuracy': 0.8108108108108109, 'eval_runtime': 2.8916, 'eval_samples_per_second': 12.795, 'eval_steps_per_second': 6.571, 'epoch': 6.0}\n"
     ]
    },
    {
     "name": "stderr",
     "output_type": "stream",
     "text": [
      "All model checkpoint weights were used when initializing T5ForConditionalGeneration.\n",
      "\n",
      "All the weights of T5ForConditionalGeneration were initialized from the model checkpoint at google/flan-t5-base.\n",
      "If your task is similar to the task the model of the checkpoint was trained on, you can already use T5ForConditionalGeneration for predictions without further training.\n",
      "/home/ppibot/anaconda3/envs/myenv/lib/python3.9/site-packages/transformers/optimization.py:306: FutureWarning: This implementation of AdamW is deprecated and will be removed in a future version. Use the PyTorch implementation torch.optim.AdamW instead, or set `no_deprecation_warning=True` to disable this warning\n",
      "  warnings.warn(\n",
      "***** Running training *****\n",
      "  Num examples = 146\n",
      "  Num Epochs = 16\n",
      "  Instantaneous batch size per device = 2\n",
      "  Total train batch size (w. parallel, distributed & accumulation) = 2\n",
      "  Gradient Accumulation steps = 1\n",
      "  Total optimization steps = 1168\n",
      "  Number of trainable parameters = 247577856\n",
      "  6%|▋         | 73/1168 [00:14<03:38,  5.00it/s]***** Running Evaluation *****\n",
      "  Num examples = 37\n",
      "  Batch size = 2\n",
      "/home/ppibot/anaconda3/envs/myenv/lib/python3.9/site-packages/sklearn/metrics/_classification.py:1334: UndefinedMetricWarning: Precision and F-score are ill-defined and being set to 0.0 in labels with no predicted samples. Use `zero_division` parameter to control this behavior.\n",
      "  _warn_prf(average, modifier, msg_start, len(result))\n",
      "/home/ppibot/anaconda3/envs/myenv/lib/python3.9/site-packages/sklearn/metrics/_classification.py:1334: UndefinedMetricWarning: Recall and F-score are ill-defined and being set to 0.0 in labels with no true samples. Use `zero_division` parameter to control this behavior.\n",
      "  _warn_prf(average, modifier, msg_start, len(result))\n",
      "                                                 \n",
      "  6%|▋         | 73/1168 [00:17<03:38,  5.00it/s]Saving model checkpoint to ./model/run-28/checkpoint-73\n",
      "Configuration saved in ./model/run-28/checkpoint-73/config.json\n"
     ]
    },
    {
     "name": "stdout",
     "output_type": "stream",
     "text": [
      "{'eval_loss': 0.36120927333831787, 'eval_accuracy': 0.43243243243243246, 'eval_f1': 0.27586206896551724, 'eval_precision': 0.27586206896551724, 'eval_recall': 0.27586206896551724, 'eval_slot': 0.7590475264173777, 'eval_slot_accuracy': 0.6756756756756757, 'eval_runtime': 2.8488, 'eval_samples_per_second': 12.988, 'eval_steps_per_second': 6.67, 'epoch': 1.0}\n"
     ]
    },
    {
     "name": "stderr",
     "output_type": "stream",
     "text": [
      "Model weights saved in ./model/run-28/checkpoint-73/pytorch_model.bin\n",
      " 12%|█▎        | 146/1168 [00:34<03:24,  5.01it/s]***** Running Evaluation *****\n",
      "  Num examples = 37\n",
      "  Batch size = 2\n",
      "/home/ppibot/anaconda3/envs/myenv/lib/python3.9/site-packages/sklearn/metrics/_classification.py:1334: UndefinedMetricWarning: Precision and F-score are ill-defined and being set to 0.0 in labels with no predicted samples. Use `zero_division` parameter to control this behavior.\n",
      "  _warn_prf(average, modifier, msg_start, len(result))\n",
      "/home/ppibot/anaconda3/envs/myenv/lib/python3.9/site-packages/sklearn/metrics/_classification.py:1334: UndefinedMetricWarning: Recall and F-score are ill-defined and being set to 0.0 in labels with no true samples. Use `zero_division` parameter to control this behavior.\n",
      "  _warn_prf(average, modifier, msg_start, len(result))\n",
      "                                                  \n",
      " 12%|█▎        | 146/1168 [00:37<04:20,  3.92it/s]\n",
      "\u001b[32m[I 2023-06-11 19:52:19,028]\u001b[0m Trial 28 pruned. \u001b[0m\n",
      "Trial: {'learning_rate': 4.6838994774295836e-05, 'num_train_epochs': 14}\n"
     ]
    },
    {
     "name": "stdout",
     "output_type": "stream",
     "text": [
      "{'eval_loss': 0.3567059636116028, 'eval_accuracy': 0.43243243243243246, 'eval_f1': 0.27586206896551724, 'eval_precision': 0.27586206896551724, 'eval_recall': 0.27586206896551724, 'eval_slot': 0.7217262193238358, 'eval_slot_accuracy': 0.6666666666666666, 'eval_runtime': 2.9788, 'eval_samples_per_second': 12.421, 'eval_steps_per_second': 6.378, 'epoch': 2.0}\n"
     ]
    },
    {
     "name": "stderr",
     "output_type": "stream",
     "text": [
      "loading configuration file config.json from cache at /home/ppibot/.cache/huggingface/hub/models--google--flan-t5-base/snapshots/c782cba52f8ea6a704240578055cf1c3fc2f2ca9/config.json\n",
      "Model config T5Config {\n",
      "  \"_name_or_path\": \"google/flan-t5-base\",\n",
      "  \"architectures\": [\n",
      "    \"T5ForConditionalGeneration\"\n",
      "  ],\n",
      "  \"d_ff\": 2048,\n",
      "  \"d_kv\": 64,\n",
      "  \"d_model\": 768,\n",
      "  \"decoder_start_token_id\": 0,\n",
      "  \"dense_act_fn\": \"gelu_new\",\n",
      "  \"dropout_rate\": 0.1,\n",
      "  \"eos_token_id\": 1,\n",
      "  \"feed_forward_proj\": \"gated-gelu\",\n",
      "  \"initializer_factor\": 1.0,\n",
      "  \"is_encoder_decoder\": true,\n",
      "  \"is_gated_act\": true,\n",
      "  \"layer_norm_epsilon\": 1e-06,\n",
      "  \"model_type\": \"t5\",\n",
      "  \"n_positions\": 512,\n",
      "  \"num_decoder_layers\": 12,\n",
      "  \"num_heads\": 12,\n",
      "  \"num_layers\": 12,\n",
      "  \"output_past\": true,\n",
      "  \"pad_token_id\": 0,\n",
      "  \"relative_attention_max_distance\": 128,\n",
      "  \"relative_attention_num_buckets\": 32,\n",
      "  \"task_specific_params\": {\n",
      "    \"summarization\": {\n",
      "      \"early_stopping\": true,\n",
      "      \"length_penalty\": 2.0,\n",
      "      \"max_length\": 200,\n",
      "      \"min_length\": 30,\n",
      "      \"no_repeat_ngram_size\": 3,\n",
      "      \"num_beams\": 4,\n",
      "      \"prefix\": \"summarize: \"\n",
      "    },\n",
      "    \"translation_en_to_de\": {\n",
      "      \"early_stopping\": true,\n",
      "      \"max_length\": 300,\n",
      "      \"num_beams\": 4,\n",
      "      \"prefix\": \"translate English to German: \"\n",
      "    },\n",
      "    \"translation_en_to_fr\": {\n",
      "      \"early_stopping\": true,\n",
      "      \"max_length\": 300,\n",
      "      \"num_beams\": 4,\n",
      "      \"prefix\": \"translate English to French: \"\n",
      "    },\n",
      "    \"translation_en_to_ro\": {\n",
      "      \"early_stopping\": true,\n",
      "      \"max_length\": 300,\n",
      "      \"num_beams\": 4,\n",
      "      \"prefix\": \"translate English to Romanian: \"\n",
      "    }\n",
      "  },\n",
      "  \"tie_word_embeddings\": false,\n",
      "  \"transformers_version\": \"4.24.0\",\n",
      "  \"use_cache\": true,\n",
      "  \"vocab_size\": 32128\n",
      "}\n",
      "\n",
      "loading weights file pytorch_model.bin from cache at /home/ppibot/.cache/huggingface/hub/models--google--flan-t5-base/snapshots/c782cba52f8ea6a704240578055cf1c3fc2f2ca9/pytorch_model.bin\n",
      "All model checkpoint weights were used when initializing T5ForConditionalGeneration.\n",
      "\n",
      "All the weights of T5ForConditionalGeneration were initialized from the model checkpoint at google/flan-t5-base.\n",
      "If your task is similar to the task the model of the checkpoint was trained on, you can already use T5ForConditionalGeneration for predictions without further training.\n",
      "/home/ppibot/anaconda3/envs/myenv/lib/python3.9/site-packages/transformers/optimization.py:306: FutureWarning: This implementation of AdamW is deprecated and will be removed in a future version. Use the PyTorch implementation torch.optim.AdamW instead, or set `no_deprecation_warning=True` to disable this warning\n",
      "  warnings.warn(\n",
      "***** Running training *****\n",
      "  Num examples = 146\n",
      "  Num Epochs = 14\n",
      "  Instantaneous batch size per device = 2\n",
      "  Total train batch size (w. parallel, distributed & accumulation) = 2\n",
      "  Gradient Accumulation steps = 1\n",
      "  Total optimization steps = 1022\n",
      "  Number of trainable parameters = 247577856\n",
      "  7%|▋         | 73/1022 [00:14<03:09,  5.00it/s]***** Running Evaluation *****\n",
      "  Num examples = 37\n",
      "  Batch size = 2\n",
      "/home/ppibot/anaconda3/envs/myenv/lib/python3.9/site-packages/sklearn/metrics/_classification.py:1334: UndefinedMetricWarning: Precision and F-score are ill-defined and being set to 0.0 in labels with no predicted samples. Use `zero_division` parameter to control this behavior.\n",
      "  _warn_prf(average, modifier, msg_start, len(result))\n",
      "/home/ppibot/anaconda3/envs/myenv/lib/python3.9/site-packages/sklearn/metrics/_classification.py:1334: UndefinedMetricWarning: Recall and F-score are ill-defined and being set to 0.0 in labels with no true samples. Use `zero_division` parameter to control this behavior.\n",
      "  _warn_prf(average, modifier, msg_start, len(result))\n",
      "                                                 \n",
      "  7%|▋         | 73/1022 [00:17<03:45,  4.20it/s]\n",
      "\u001b[32m[I 2023-06-11 19:52:38,038]\u001b[0m Trial 29 pruned. \u001b[0m\n",
      "Trial: {'learning_rate': 6.613602071338786e-05, 'num_train_epochs': 19}\n"
     ]
    },
    {
     "name": "stdout",
     "output_type": "stream",
     "text": [
      "{'eval_loss': 0.5240452289581299, 'eval_accuracy': 0.13513513513513514, 'eval_f1': 0.07352941176470588, 'eval_precision': 0.07352941176470588, 'eval_recall': 0.07352941176470588, 'eval_slot': 0.48070196576624963, 'eval_slot_accuracy': 0.30630630630630634, 'eval_runtime': 2.7903, 'eval_samples_per_second': 13.26, 'eval_steps_per_second': 6.809, 'epoch': 1.0}\n"
     ]
    },
    {
     "name": "stderr",
     "output_type": "stream",
     "text": [
      "loading configuration file config.json from cache at /home/ppibot/.cache/huggingface/hub/models--google--flan-t5-base/snapshots/c782cba52f8ea6a704240578055cf1c3fc2f2ca9/config.json\n",
      "Model config T5Config {\n",
      "  \"_name_or_path\": \"google/flan-t5-base\",\n",
      "  \"architectures\": [\n",
      "    \"T5ForConditionalGeneration\"\n",
      "  ],\n",
      "  \"d_ff\": 2048,\n",
      "  \"d_kv\": 64,\n",
      "  \"d_model\": 768,\n",
      "  \"decoder_start_token_id\": 0,\n",
      "  \"dense_act_fn\": \"gelu_new\",\n",
      "  \"dropout_rate\": 0.1,\n",
      "  \"eos_token_id\": 1,\n",
      "  \"feed_forward_proj\": \"gated-gelu\",\n",
      "  \"initializer_factor\": 1.0,\n",
      "  \"is_encoder_decoder\": true,\n",
      "  \"is_gated_act\": true,\n",
      "  \"layer_norm_epsilon\": 1e-06,\n",
      "  \"model_type\": \"t5\",\n",
      "  \"n_positions\": 512,\n",
      "  \"num_decoder_layers\": 12,\n",
      "  \"num_heads\": 12,\n",
      "  \"num_layers\": 12,\n",
      "  \"output_past\": true,\n",
      "  \"pad_token_id\": 0,\n",
      "  \"relative_attention_max_distance\": 128,\n",
      "  \"relative_attention_num_buckets\": 32,\n",
      "  \"task_specific_params\": {\n",
      "    \"summarization\": {\n",
      "      \"early_stopping\": true,\n",
      "      \"length_penalty\": 2.0,\n",
      "      \"max_length\": 200,\n",
      "      \"min_length\": 30,\n",
      "      \"no_repeat_ngram_size\": 3,\n",
      "      \"num_beams\": 4,\n",
      "      \"prefix\": \"summarize: \"\n",
      "    },\n",
      "    \"translation_en_to_de\": {\n",
      "      \"early_stopping\": true,\n",
      "      \"max_length\": 300,\n",
      "      \"num_beams\": 4,\n",
      "      \"prefix\": \"translate English to German: \"\n",
      "    },\n",
      "    \"translation_en_to_fr\": {\n",
      "      \"early_stopping\": true,\n",
      "      \"max_length\": 300,\n",
      "      \"num_beams\": 4,\n",
      "      \"prefix\": \"translate English to French: \"\n",
      "    },\n",
      "    \"translation_en_to_ro\": {\n",
      "      \"early_stopping\": true,\n",
      "      \"max_length\": 300,\n",
      "      \"num_beams\": 4,\n",
      "      \"prefix\": \"translate English to Romanian: \"\n",
      "    }\n",
      "  },\n",
      "  \"tie_word_embeddings\": false,\n",
      "  \"transformers_version\": \"4.24.0\",\n",
      "  \"use_cache\": true,\n",
      "  \"vocab_size\": 32128\n",
      "}\n",
      "\n",
      "loading weights file pytorch_model.bin from cache at /home/ppibot/.cache/huggingface/hub/models--google--flan-t5-base/snapshots/c782cba52f8ea6a704240578055cf1c3fc2f2ca9/pytorch_model.bin\n",
      "All model checkpoint weights were used when initializing T5ForConditionalGeneration.\n",
      "\n",
      "All the weights of T5ForConditionalGeneration were initialized from the model checkpoint at google/flan-t5-base.\n",
      "If your task is similar to the task the model of the checkpoint was trained on, you can already use T5ForConditionalGeneration for predictions without further training.\n",
      "/home/ppibot/anaconda3/envs/myenv/lib/python3.9/site-packages/transformers/optimization.py:306: FutureWarning: This implementation of AdamW is deprecated and will be removed in a future version. Use the PyTorch implementation torch.optim.AdamW instead, or set `no_deprecation_warning=True` to disable this warning\n",
      "  warnings.warn(\n",
      "***** Running training *****\n",
      "  Num examples = 146\n",
      "  Num Epochs = 19\n",
      "  Instantaneous batch size per device = 2\n",
      "  Total train batch size (w. parallel, distributed & accumulation) = 2\n",
      "  Gradient Accumulation steps = 1\n",
      "  Total optimization steps = 1387\n",
      "  Number of trainable parameters = 247577856\n",
      "  5%|▌         | 73/1387 [00:14<04:22,  5.01it/s]***** Running Evaluation *****\n",
      "  Num examples = 37\n",
      "  Batch size = 2\n",
      "/home/ppibot/anaconda3/envs/myenv/lib/python3.9/site-packages/sklearn/metrics/_classification.py:1334: UndefinedMetricWarning: Precision and F-score are ill-defined and being set to 0.0 in labels with no predicted samples. Use `zero_division` parameter to control this behavior.\n",
      "  _warn_prf(average, modifier, msg_start, len(result))\n",
      "/home/ppibot/anaconda3/envs/myenv/lib/python3.9/site-packages/sklearn/metrics/_classification.py:1334: UndefinedMetricWarning: Recall and F-score are ill-defined and being set to 0.0 in labels with no true samples. Use `zero_division` parameter to control this behavior.\n",
      "  _warn_prf(average, modifier, msg_start, len(result))\n",
      "                                                 \n",
      "  5%|▌         | 73/1387 [00:17<05:19,  4.11it/s]\n",
      "\u001b[32m[I 2023-06-11 19:52:57,300]\u001b[0m Trial 30 pruned. \u001b[0m\n",
      "Trial: {'learning_rate': 7.96125157022463e-05, 'num_train_epochs': 15}\n",
      "loading configuration file config.json from cache at /home/ppibot/.cache/huggingface/hub/models--google--flan-t5-base/snapshots/c782cba52f8ea6a704240578055cf1c3fc2f2ca9/config.json\n",
      "Model config T5Config {\n",
      "  \"_name_or_path\": \"google/flan-t5-base\",\n",
      "  \"architectures\": [\n",
      "    \"T5ForConditionalGeneration\"\n",
      "  ],\n",
      "  \"d_ff\": 2048,\n",
      "  \"d_kv\": 64,\n",
      "  \"d_model\": 768,\n",
      "  \"decoder_start_token_id\": 0,\n",
      "  \"dense_act_fn\": \"gelu_new\",\n",
      "  \"dropout_rate\": 0.1,\n",
      "  \"eos_token_id\": 1,\n",
      "  \"feed_forward_proj\": \"gated-gelu\",\n",
      "  \"initializer_factor\": 1.0,\n",
      "  \"is_encoder_decoder\": true,\n",
      "  \"is_gated_act\": true,\n",
      "  \"layer_norm_epsilon\": 1e-06,\n",
      "  \"model_type\": \"t5\",\n",
      "  \"n_positions\": 512,\n",
      "  \"num_decoder_layers\": 12,\n",
      "  \"num_heads\": 12,\n",
      "  \"num_layers\": 12,\n",
      "  \"output_past\": true,\n",
      "  \"pad_token_id\": 0,\n",
      "  \"relative_attention_max_distance\": 128,\n",
      "  \"relative_attention_num_buckets\": 32,\n",
      "  \"task_specific_params\": {\n",
      "    \"summarization\": {\n",
      "      \"early_stopping\": true,\n",
      "      \"length_penalty\": 2.0,\n",
      "      \"max_length\": 200,\n",
      "      \"min_length\": 30,\n",
      "      \"no_repeat_ngram_size\": 3,\n",
      "      \"num_beams\": 4,\n",
      "      \"prefix\": \"summarize: \"\n",
      "    },\n",
      "    \"translation_en_to_de\": {\n",
      "      \"early_stopping\": true,\n",
      "      \"max_length\": 300,\n",
      "      \"num_beams\": 4,\n",
      "      \"prefix\": \"translate English to German: \"\n",
      "    },\n",
      "    \"translation_en_to_fr\": {\n",
      "      \"early_stopping\": true,\n",
      "      \"max_length\": 300,\n",
      "      \"num_beams\": 4,\n",
      "      \"prefix\": \"translate English to French: \"\n",
      "    },\n",
      "    \"translation_en_to_ro\": {\n",
      "      \"early_stopping\": true,\n",
      "      \"max_length\": 300,\n",
      "      \"num_beams\": 4,\n",
      "      \"prefix\": \"translate English to Romanian: \"\n",
      "    }\n",
      "  },\n",
      "  \"tie_word_embeddings\": false,\n",
      "  \"transformers_version\": \"4.24.0\",\n",
      "  \"use_cache\": true,\n",
      "  \"vocab_size\": 32128\n",
      "}\n",
      "\n",
      "loading weights file pytorch_model.bin from cache at /home/ppibot/.cache/huggingface/hub/models--google--flan-t5-base/snapshots/c782cba52f8ea6a704240578055cf1c3fc2f2ca9/pytorch_model.bin\n"
     ]
    },
    {
     "name": "stdout",
     "output_type": "stream",
     "text": [
      "{'eval_loss': 0.4483511745929718, 'eval_accuracy': 0.24324324324324326, 'eval_f1': 0.13846153846153847, 'eval_precision': 0.13846153846153847, 'eval_recall': 0.13846153846153847, 'eval_slot': 0.6567216584601709, 'eval_slot_accuracy': 0.47297297297297297, 'eval_runtime': 3.2017, 'eval_samples_per_second': 11.556, 'eval_steps_per_second': 5.934, 'epoch': 1.0}\n"
     ]
    },
    {
     "name": "stderr",
     "output_type": "stream",
     "text": [
      "All model checkpoint weights were used when initializing T5ForConditionalGeneration.\n",
      "\n",
      "All the weights of T5ForConditionalGeneration were initialized from the model checkpoint at google/flan-t5-base.\n",
      "If your task is similar to the task the model of the checkpoint was trained on, you can already use T5ForConditionalGeneration for predictions without further training.\n",
      "/home/ppibot/anaconda3/envs/myenv/lib/python3.9/site-packages/transformers/optimization.py:306: FutureWarning: This implementation of AdamW is deprecated and will be removed in a future version. Use the PyTorch implementation torch.optim.AdamW instead, or set `no_deprecation_warning=True` to disable this warning\n",
      "  warnings.warn(\n",
      "***** Running training *****\n",
      "  Num examples = 146\n",
      "  Num Epochs = 15\n",
      "  Instantaneous batch size per device = 2\n",
      "  Total train batch size (w. parallel, distributed & accumulation) = 2\n",
      "  Gradient Accumulation steps = 1\n",
      "  Total optimization steps = 1095\n",
      "  Number of trainable parameters = 247577856\n",
      "  7%|▋         | 73/1095 [00:14<03:23,  5.02it/s]***** Running Evaluation *****\n",
      "  Num examples = 37\n",
      "  Batch size = 2\n",
      "/home/ppibot/anaconda3/envs/myenv/lib/python3.9/site-packages/sklearn/metrics/_classification.py:1334: UndefinedMetricWarning: Precision and F-score are ill-defined and being set to 0.0 in labels with no predicted samples. Use `zero_division` parameter to control this behavior.\n",
      "  _warn_prf(average, modifier, msg_start, len(result))\n",
      "/home/ppibot/anaconda3/envs/myenv/lib/python3.9/site-packages/sklearn/metrics/_classification.py:1334: UndefinedMetricWarning: Recall and F-score are ill-defined and being set to 0.0 in labels with no true samples. Use `zero_division` parameter to control this behavior.\n",
      "  _warn_prf(average, modifier, msg_start, len(result))\n",
      "                                                 \n",
      "  7%|▋         | 73/1095 [00:17<03:23,  5.02it/s]Saving model checkpoint to ./model/run-31/checkpoint-73\n",
      "Configuration saved in ./model/run-31/checkpoint-73/config.json\n"
     ]
    },
    {
     "name": "stdout",
     "output_type": "stream",
     "text": [
      "{'eval_loss': 0.3999169170856476, 'eval_accuracy': 0.2972972972972973, 'eval_f1': 0.1746031746031746, 'eval_precision': 0.1746031746031746, 'eval_recall': 0.1746031746031746, 'eval_slot': 0.7066507063734988, 'eval_slot_accuracy': 0.581081081081081, 'eval_runtime': 2.8933, 'eval_samples_per_second': 12.788, 'eval_steps_per_second': 6.567, 'epoch': 1.0}\n"
     ]
    },
    {
     "name": "stderr",
     "output_type": "stream",
     "text": [
      "Model weights saved in ./model/run-31/checkpoint-73/pytorch_model.bin\n",
      " 13%|█▎        | 146/1095 [00:34<03:09,  5.01it/s]***** Running Evaluation *****\n",
      "  Num examples = 37\n",
      "  Batch size = 2\n",
      "/home/ppibot/anaconda3/envs/myenv/lib/python3.9/site-packages/sklearn/metrics/_classification.py:1334: UndefinedMetricWarning: Precision and F-score are ill-defined and being set to 0.0 in labels with no predicted samples. Use `zero_division` parameter to control this behavior.\n",
      "  _warn_prf(average, modifier, msg_start, len(result))\n",
      "/home/ppibot/anaconda3/envs/myenv/lib/python3.9/site-packages/sklearn/metrics/_classification.py:1334: UndefinedMetricWarning: Recall and F-score are ill-defined and being set to 0.0 in labels with no true samples. Use `zero_division` parameter to control this behavior.\n",
      "  _warn_prf(average, modifier, msg_start, len(result))\n",
      "                                                  \n",
      " 13%|█▎        | 146/1095 [00:37<03:09,  5.01it/s]Saving model checkpoint to ./model/run-31/checkpoint-146\n",
      "Configuration saved in ./model/run-31/checkpoint-146/config.json\n"
     ]
    },
    {
     "name": "stdout",
     "output_type": "stream",
     "text": [
      "{'eval_loss': 0.35240134596824646, 'eval_accuracy': 0.4594594594594595, 'eval_f1': 0.2982456140350877, 'eval_precision': 0.2982456140350877, 'eval_recall': 0.2982456140350877, 'eval_slot': 0.7581191515028389, 'eval_slot_accuracy': 0.6891891891891891, 'eval_runtime': 2.8373, 'eval_samples_per_second': 13.041, 'eval_steps_per_second': 6.697, 'epoch': 2.0}\n"
     ]
    },
    {
     "name": "stderr",
     "output_type": "stream",
     "text": [
      "Model weights saved in ./model/run-31/checkpoint-146/pytorch_model.bin\n",
      " 20%|██        | 219/1095 [00:54<02:55,  5.00it/s]***** Running Evaluation *****\n",
      "  Num examples = 37\n",
      "  Batch size = 2\n",
      "/home/ppibot/anaconda3/envs/myenv/lib/python3.9/site-packages/sklearn/metrics/_classification.py:1334: UndefinedMetricWarning: Precision and F-score are ill-defined and being set to 0.0 in labels with no predicted samples. Use `zero_division` parameter to control this behavior.\n",
      "  _warn_prf(average, modifier, msg_start, len(result))\n",
      "/home/ppibot/anaconda3/envs/myenv/lib/python3.9/site-packages/sklearn/metrics/_classification.py:1334: UndefinedMetricWarning: Recall and F-score are ill-defined and being set to 0.0 in labels with no true samples. Use `zero_division` parameter to control this behavior.\n",
      "  _warn_prf(average, modifier, msg_start, len(result))\n",
      "                                                  \n",
      " 20%|██        | 219/1095 [00:57<02:55,  5.00it/s]Saving model checkpoint to ./model/run-31/checkpoint-219\n",
      "Configuration saved in ./model/run-31/checkpoint-219/config.json\n"
     ]
    },
    {
     "name": "stdout",
     "output_type": "stream",
     "text": [
      "{'eval_loss': 0.2924175560474396, 'eval_accuracy': 0.6216216216216216, 'eval_f1': 0.45098039215686275, 'eval_precision': 0.45098039215686275, 'eval_recall': 0.45098039215686275, 'eval_slot': 0.86637621691501, 'eval_slot_accuracy': 0.7927927927927928, 'eval_runtime': 2.9605, 'eval_samples_per_second': 12.498, 'eval_steps_per_second': 6.418, 'epoch': 3.0}\n"
     ]
    },
    {
     "name": "stderr",
     "output_type": "stream",
     "text": [
      "Model weights saved in ./model/run-31/checkpoint-219/pytorch_model.bin\n",
      " 27%|██▋       | 292/1095 [01:14<02:40,  5.01it/s]***** Running Evaluation *****\n",
      "  Num examples = 37\n",
      "  Batch size = 2\n",
      "/home/ppibot/anaconda3/envs/myenv/lib/python3.9/site-packages/sklearn/metrics/_classification.py:1334: UndefinedMetricWarning: Precision and F-score are ill-defined and being set to 0.0 in labels with no predicted samples. Use `zero_division` parameter to control this behavior.\n",
      "  _warn_prf(average, modifier, msg_start, len(result))\n",
      "/home/ppibot/anaconda3/envs/myenv/lib/python3.9/site-packages/sklearn/metrics/_classification.py:1334: UndefinedMetricWarning: Recall and F-score are ill-defined and being set to 0.0 in labels with no true samples. Use `zero_division` parameter to control this behavior.\n",
      "  _warn_prf(average, modifier, msg_start, len(result))\n",
      "                                                  \n",
      " 27%|██▋       | 292/1095 [01:17<02:40,  5.01it/s]Saving model checkpoint to ./model/run-31/checkpoint-292\n",
      "Configuration saved in ./model/run-31/checkpoint-292/config.json\n"
     ]
    },
    {
     "name": "stdout",
     "output_type": "stream",
     "text": [
      "{'eval_loss': 0.3070318102836609, 'eval_accuracy': 0.6216216216216216, 'eval_f1': 0.45098039215686275, 'eval_precision': 0.45098039215686275, 'eval_recall': 0.45098039215686275, 'eval_slot': 0.8577442385442168, 'eval_slot_accuracy': 0.7702702702702703, 'eval_runtime': 2.8811, 'eval_samples_per_second': 12.842, 'eval_steps_per_second': 6.595, 'epoch': 4.0}\n"
     ]
    },
    {
     "name": "stderr",
     "output_type": "stream",
     "text": [
      "Model weights saved in ./model/run-31/checkpoint-292/pytorch_model.bin\n",
      " 33%|███▎      | 365/1095 [01:34<02:26,  4.99it/s]***** Running Evaluation *****\n",
      "  Num examples = 37\n",
      "  Batch size = 2\n",
      "/home/ppibot/anaconda3/envs/myenv/lib/python3.9/site-packages/sklearn/metrics/_classification.py:1334: UndefinedMetricWarning: Precision and F-score are ill-defined and being set to 0.0 in labels with no predicted samples. Use `zero_division` parameter to control this behavior.\n",
      "  _warn_prf(average, modifier, msg_start, len(result))\n",
      "/home/ppibot/anaconda3/envs/myenv/lib/python3.9/site-packages/sklearn/metrics/_classification.py:1334: UndefinedMetricWarning: Recall and F-score are ill-defined and being set to 0.0 in labels with no true samples. Use `zero_division` parameter to control this behavior.\n",
      "  _warn_prf(average, modifier, msg_start, len(result))\n",
      "                                                  \n",
      " 33%|███▎      | 365/1095 [01:37<02:26,  4.99it/s]Saving model checkpoint to ./model/run-31/checkpoint-365\n",
      "Configuration saved in ./model/run-31/checkpoint-365/config.json\n"
     ]
    },
    {
     "name": "stdout",
     "output_type": "stream",
     "text": [
      "{'eval_loss': 0.36801156401634216, 'eval_accuracy': 0.6486486486486487, 'eval_f1': 0.48, 'eval_precision': 0.48, 'eval_recall': 0.48, 'eval_slot': 0.8582671284973916, 'eval_slot_accuracy': 0.7972972972972973, 'eval_runtime': 3.0258, 'eval_samples_per_second': 12.228, 'eval_steps_per_second': 6.279, 'epoch': 5.0}\n"
     ]
    },
    {
     "name": "stderr",
     "output_type": "stream",
     "text": [
      "Model weights saved in ./model/run-31/checkpoint-365/pytorch_model.bin\n",
      " 40%|████      | 438/1095 [01:56<02:11,  5.01it/s]***** Running Evaluation *****\n",
      "  Num examples = 37\n",
      "  Batch size = 2\n",
      "/home/ppibot/anaconda3/envs/myenv/lib/python3.9/site-packages/sklearn/metrics/_classification.py:1334: UndefinedMetricWarning: Precision and F-score are ill-defined and being set to 0.0 in labels with no predicted samples. Use `zero_division` parameter to control this behavior.\n",
      "  _warn_prf(average, modifier, msg_start, len(result))\n",
      "/home/ppibot/anaconda3/envs/myenv/lib/python3.9/site-packages/sklearn/metrics/_classification.py:1334: UndefinedMetricWarning: Recall and F-score are ill-defined and being set to 0.0 in labels with no true samples. Use `zero_division` parameter to control this behavior.\n",
      "  _warn_prf(average, modifier, msg_start, len(result))\n",
      "                                                  \n",
      " 40%|████      | 438/1095 [01:59<02:11,  5.01it/s]"
     ]
    },
    {
     "name": "stdout",
     "output_type": "stream",
     "text": [
      "{'eval_loss': 0.36529335379600525, 'eval_accuracy': 0.6486486486486487, 'eval_f1': 0.48, 'eval_precision': 0.48, 'eval_recall': 0.48, 'eval_slot': 0.9017716720019353, 'eval_slot_accuracy': 0.8243243243243243, 'eval_runtime': 2.9737, 'eval_samples_per_second': 12.442, 'eval_steps_per_second': 6.389, 'epoch': 6.0}\n"
     ]
    },
    {
     "name": "stderr",
     "output_type": "stream",
     "text": [
      "Saving model checkpoint to ./model/run-31/checkpoint-438\n",
      "Configuration saved in ./model/run-31/checkpoint-438/config.json\n",
      "Model weights saved in ./model/run-31/checkpoint-438/pytorch_model.bin\n",
      " 46%|████▌     | 501/1095 [02:17<01:58,  5.00it/s]"
     ]
    },
    {
     "name": "stdout",
     "output_type": "stream",
     "text": [
      "{'loss': 0.2814, 'learning_rate': 4.3259768806243426e-05, 'epoch': 6.85}\n"
     ]
    },
    {
     "name": "stderr",
     "output_type": "stream",
     "text": [
      " 47%|████▋     | 511/1095 [02:19<01:56,  5.02it/s]***** Running Evaluation *****\n",
      "  Num examples = 37\n",
      "  Batch size = 2\n",
      "/home/ppibot/anaconda3/envs/myenv/lib/python3.9/site-packages/sklearn/metrics/_classification.py:1334: UndefinedMetricWarning: Precision and F-score are ill-defined and being set to 0.0 in labels with no predicted samples. Use `zero_division` parameter to control this behavior.\n",
      "  _warn_prf(average, modifier, msg_start, len(result))\n",
      "/home/ppibot/anaconda3/envs/myenv/lib/python3.9/site-packages/sklearn/metrics/_classification.py:1334: UndefinedMetricWarning: Recall and F-score are ill-defined and being set to 0.0 in labels with no true samples. Use `zero_division` parameter to control this behavior.\n",
      "  _warn_prf(average, modifier, msg_start, len(result))\n",
      "                                                  \n",
      " 47%|████▋     | 511/1095 [02:22<01:56,  5.02it/s]Saving model checkpoint to ./model/run-31/checkpoint-511\n",
      "Configuration saved in ./model/run-31/checkpoint-511/config.json\n"
     ]
    },
    {
     "name": "stdout",
     "output_type": "stream",
     "text": [
      "{'eval_loss': 0.37859728932380676, 'eval_accuracy': 0.6486486486486487, 'eval_f1': 0.48, 'eval_precision': 0.48, 'eval_recall': 0.48, 'eval_slot': 0.8876381923512142, 'eval_slot_accuracy': 0.7972972972972973, 'eval_runtime': 2.8756, 'eval_samples_per_second': 12.867, 'eval_steps_per_second': 6.607, 'epoch': 7.0}\n"
     ]
    },
    {
     "name": "stderr",
     "output_type": "stream",
     "text": [
      "Model weights saved in ./model/run-31/checkpoint-511/pytorch_model.bin\n",
      " 53%|█████▎    | 584/1095 [02:46<01:41,  5.03it/s]***** Running Evaluation *****\n",
      "  Num examples = 37\n",
      "  Batch size = 2\n",
      "/home/ppibot/anaconda3/envs/myenv/lib/python3.9/site-packages/sklearn/metrics/_classification.py:1334: UndefinedMetricWarning: Precision and F-score are ill-defined and being set to 0.0 in labels with no predicted samples. Use `zero_division` parameter to control this behavior.\n",
      "  _warn_prf(average, modifier, msg_start, len(result))\n",
      "/home/ppibot/anaconda3/envs/myenv/lib/python3.9/site-packages/sklearn/metrics/_classification.py:1334: UndefinedMetricWarning: Recall and F-score are ill-defined and being set to 0.0 in labels with no true samples. Use `zero_division` parameter to control this behavior.\n",
      "  _warn_prf(average, modifier, msg_start, len(result))\n",
      "                                                  \n",
      " 53%|█████▎    | 584/1095 [02:49<01:41,  5.03it/s]Saving model checkpoint to ./model/run-31/checkpoint-584\n",
      "Configuration saved in ./model/run-31/checkpoint-584/config.json\n"
     ]
    },
    {
     "name": "stdout",
     "output_type": "stream",
     "text": [
      "{'eval_loss': 0.4390144348144531, 'eval_accuracy': 0.6486486486486487, 'eval_f1': 0.48, 'eval_precision': 0.48, 'eval_recall': 0.48, 'eval_slot': 0.8843621890752108, 'eval_slot_accuracy': 0.7972972972972973, 'eval_runtime': 3.0944, 'eval_samples_per_second': 11.957, 'eval_steps_per_second': 6.14, 'epoch': 8.0}\n"
     ]
    },
    {
     "name": "stderr",
     "output_type": "stream",
     "text": [
      "Model weights saved in ./model/run-31/checkpoint-584/pytorch_model.bin\n",
      " 60%|██████    | 657/1095 [03:06<01:27,  5.01it/s]***** Running Evaluation *****\n",
      "  Num examples = 37\n",
      "  Batch size = 2\n",
      "/home/ppibot/anaconda3/envs/myenv/lib/python3.9/site-packages/sklearn/metrics/_classification.py:1334: UndefinedMetricWarning: Precision and F-score are ill-defined and being set to 0.0 in labels with no predicted samples. Use `zero_division` parameter to control this behavior.\n",
      "  _warn_prf(average, modifier, msg_start, len(result))\n",
      "/home/ppibot/anaconda3/envs/myenv/lib/python3.9/site-packages/sklearn/metrics/_classification.py:1334: UndefinedMetricWarning: Recall and F-score are ill-defined and being set to 0.0 in labels with no true samples. Use `zero_division` parameter to control this behavior.\n",
      "  _warn_prf(average, modifier, msg_start, len(result))\n",
      "                                                  \n",
      " 60%|██████    | 657/1095 [03:09<01:27,  5.01it/s]Saving model checkpoint to ./model/run-31/checkpoint-657\n",
      "Configuration saved in ./model/run-31/checkpoint-657/config.json\n"
     ]
    },
    {
     "name": "stdout",
     "output_type": "stream",
     "text": [
      "{'eval_loss': 0.46968451142311096, 'eval_accuracy': 0.6216216216216216, 'eval_f1': 0.45098039215686275, 'eval_precision': 0.45098039215686275, 'eval_recall': 0.45098039215686275, 'eval_slot': 0.8581692044864242, 'eval_slot_accuracy': 0.7837837837837838, 'eval_runtime': 3.0445, 'eval_samples_per_second': 12.153, 'eval_steps_per_second': 6.241, 'epoch': 9.0}\n"
     ]
    },
    {
     "name": "stderr",
     "output_type": "stream",
     "text": [
      "Model weights saved in ./model/run-31/checkpoint-657/pytorch_model.bin\n",
      " 67%|██████▋   | 730/1095 [03:26<01:12,  5.02it/s]***** Running Evaluation *****\n",
      "  Num examples = 37\n",
      "  Batch size = 2\n",
      "/home/ppibot/anaconda3/envs/myenv/lib/python3.9/site-packages/sklearn/metrics/_classification.py:1334: UndefinedMetricWarning: Precision and F-score are ill-defined and being set to 0.0 in labels with no predicted samples. Use `zero_division` parameter to control this behavior.\n",
      "  _warn_prf(average, modifier, msg_start, len(result))\n",
      "/home/ppibot/anaconda3/envs/myenv/lib/python3.9/site-packages/sklearn/metrics/_classification.py:1334: UndefinedMetricWarning: Recall and F-score are ill-defined and being set to 0.0 in labels with no true samples. Use `zero_division` parameter to control this behavior.\n",
      "  _warn_prf(average, modifier, msg_start, len(result))\n",
      "                                                  \n",
      " 67%|██████▋   | 730/1095 [03:30<01:12,  5.02it/s]Saving model checkpoint to ./model/run-31/checkpoint-730\n",
      "Configuration saved in ./model/run-31/checkpoint-730/config.json\n"
     ]
    },
    {
     "name": "stdout",
     "output_type": "stream",
     "text": [
      "{'eval_loss': 0.4633709788322449, 'eval_accuracy': 0.6486486486486487, 'eval_f1': 0.48, 'eval_precision': 0.48, 'eval_recall': 0.48, 'eval_slot': 0.8605193807496437, 'eval_slot_accuracy': 0.7972972972972973, 'eval_runtime': 3.0229, 'eval_samples_per_second': 12.24, 'eval_steps_per_second': 6.285, 'epoch': 10.0}\n"
     ]
    },
    {
     "name": "stderr",
     "output_type": "stream",
     "text": [
      "Model weights saved in ./model/run-31/checkpoint-730/pytorch_model.bin\n",
      " 73%|███████▎  | 803/1095 [03:47<00:58,  5.01it/s]***** Running Evaluation *****\n",
      "  Num examples = 37\n",
      "  Batch size = 2\n",
      "/home/ppibot/anaconda3/envs/myenv/lib/python3.9/site-packages/sklearn/metrics/_classification.py:1334: UndefinedMetricWarning: Precision and F-score are ill-defined and being set to 0.0 in labels with no predicted samples. Use `zero_division` parameter to control this behavior.\n",
      "  _warn_prf(average, modifier, msg_start, len(result))\n",
      "/home/ppibot/anaconda3/envs/myenv/lib/python3.9/site-packages/sklearn/metrics/_classification.py:1334: UndefinedMetricWarning: Recall and F-score are ill-defined and being set to 0.0 in labels with no true samples. Use `zero_division` parameter to control this behavior.\n",
      "  _warn_prf(average, modifier, msg_start, len(result))\n",
      "                                                  \n",
      " 73%|███████▎  | 803/1095 [03:50<00:58,  5.01it/s]Saving model checkpoint to ./model/run-31/checkpoint-803\n",
      "Configuration saved in ./model/run-31/checkpoint-803/config.json\n"
     ]
    },
    {
     "name": "stdout",
     "output_type": "stream",
     "text": [
      "{'eval_loss': 0.442045122385025, 'eval_accuracy': 0.6486486486486487, 'eval_f1': 0.48, 'eval_precision': 0.48, 'eval_recall': 0.48, 'eval_slot': 0.8717806420109052, 'eval_slot_accuracy': 0.7972972972972973, 'eval_runtime': 3.0146, 'eval_samples_per_second': 12.273, 'eval_steps_per_second': 6.303, 'epoch': 11.0}\n"
     ]
    },
    {
     "name": "stderr",
     "output_type": "stream",
     "text": [
      "Model weights saved in ./model/run-31/checkpoint-803/pytorch_model.bin\n",
      " 80%|████████  | 876/1095 [04:07<00:43,  5.02it/s]***** Running Evaluation *****\n",
      "  Num examples = 37\n",
      "  Batch size = 2\n",
      "/home/ppibot/anaconda3/envs/myenv/lib/python3.9/site-packages/sklearn/metrics/_classification.py:1334: UndefinedMetricWarning: Precision and F-score are ill-defined and being set to 0.0 in labels with no predicted samples. Use `zero_division` parameter to control this behavior.\n",
      "  _warn_prf(average, modifier, msg_start, len(result))\n",
      "/home/ppibot/anaconda3/envs/myenv/lib/python3.9/site-packages/sklearn/metrics/_classification.py:1334: UndefinedMetricWarning: Recall and F-score are ill-defined and being set to 0.0 in labels with no true samples. Use `zero_division` parameter to control this behavior.\n",
      "  _warn_prf(average, modifier, msg_start, len(result))\n",
      "                                                  \n",
      " 80%|████████  | 876/1095 [04:10<00:43,  5.02it/s]Saving model checkpoint to ./model/run-31/checkpoint-876\n",
      "Configuration saved in ./model/run-31/checkpoint-876/config.json\n"
     ]
    },
    {
     "name": "stdout",
     "output_type": "stream",
     "text": [
      "{'eval_loss': 0.43406280875205994, 'eval_accuracy': 0.6756756756756757, 'eval_f1': 0.5102040816326531, 'eval_precision': 0.5102040816326531, 'eval_recall': 0.5102040816326531, 'eval_slot': 0.8717806420109052, 'eval_slot_accuracy': 0.7972972972972973, 'eval_runtime': 2.8813, 'eval_samples_per_second': 12.841, 'eval_steps_per_second': 6.594, 'epoch': 12.0}\n"
     ]
    },
    {
     "name": "stderr",
     "output_type": "stream",
     "text": [
      "Model weights saved in ./model/run-31/checkpoint-876/pytorch_model.bin\n",
      " 87%|████████▋ | 949/1095 [04:27<00:29,  5.00it/s]***** Running Evaluation *****\n",
      "  Num examples = 37\n",
      "  Batch size = 2\n",
      "/home/ppibot/anaconda3/envs/myenv/lib/python3.9/site-packages/sklearn/metrics/_classification.py:1334: UndefinedMetricWarning: Precision and F-score are ill-defined and being set to 0.0 in labels with no predicted samples. Use `zero_division` parameter to control this behavior.\n",
      "  _warn_prf(average, modifier, msg_start, len(result))\n",
      "/home/ppibot/anaconda3/envs/myenv/lib/python3.9/site-packages/sklearn/metrics/_classification.py:1334: UndefinedMetricWarning: Recall and F-score are ill-defined and being set to 0.0 in labels with no true samples. Use `zero_division` parameter to control this behavior.\n",
      "  _warn_prf(average, modifier, msg_start, len(result))\n",
      "                                                  \n",
      " 87%|████████▋ | 949/1095 [04:30<00:29,  5.00it/s]Saving model checkpoint to ./model/run-31/checkpoint-949\n",
      "Configuration saved in ./model/run-31/checkpoint-949/config.json\n"
     ]
    },
    {
     "name": "stdout",
     "output_type": "stream",
     "text": [
      "{'eval_loss': 0.4403122067451477, 'eval_accuracy': 0.6486486486486487, 'eval_f1': 0.48, 'eval_precision': 0.48, 'eval_recall': 0.48, 'eval_slot': 0.8717806420109052, 'eval_slot_accuracy': 0.7972972972972973, 'eval_runtime': 2.9189, 'eval_samples_per_second': 12.676, 'eval_steps_per_second': 6.509, 'epoch': 13.0}\n"
     ]
    },
    {
     "name": "stderr",
     "output_type": "stream",
     "text": [
      "Model weights saved in ./model/run-31/checkpoint-949/pytorch_model.bin\n",
      " 91%|█████████▏| 1001/1095 [04:42<00:18,  4.99it/s]"
     ]
    },
    {
     "name": "stdout",
     "output_type": "stream",
     "text": [
      "{'loss': 0.0223, 'learning_rate': 6.907021910240546e-06, 'epoch': 13.7}\n"
     ]
    },
    {
     "name": "stderr",
     "output_type": "stream",
     "text": [
      " 93%|█████████▎| 1022/1095 [04:47<00:14,  5.00it/s]***** Running Evaluation *****\n",
      "  Num examples = 37\n",
      "  Batch size = 2\n",
      "/home/ppibot/anaconda3/envs/myenv/lib/python3.9/site-packages/sklearn/metrics/_classification.py:1334: UndefinedMetricWarning: Precision and F-score are ill-defined and being set to 0.0 in labels with no predicted samples. Use `zero_division` parameter to control this behavior.\n",
      "  _warn_prf(average, modifier, msg_start, len(result))\n",
      "/home/ppibot/anaconda3/envs/myenv/lib/python3.9/site-packages/sklearn/metrics/_classification.py:1334: UndefinedMetricWarning: Recall and F-score are ill-defined and being set to 0.0 in labels with no true samples. Use `zero_division` parameter to control this behavior.\n",
      "  _warn_prf(average, modifier, msg_start, len(result))\n",
      "                                                   \n",
      " 93%|█████████▎| 1022/1095 [04:50<00:14,  5.00it/s]Saving model checkpoint to ./model/run-31/checkpoint-1022\n",
      "Configuration saved in ./model/run-31/checkpoint-1022/config.json\n"
     ]
    },
    {
     "name": "stdout",
     "output_type": "stream",
     "text": [
      "{'eval_loss': 0.42338845133781433, 'eval_accuracy': 0.6756756756756757, 'eval_f1': 0.5102040816326531, 'eval_precision': 0.5102040816326531, 'eval_recall': 0.5102040816326531, 'eval_slot': 0.8988076690379322, 'eval_slot_accuracy': 0.8243243243243243, 'eval_runtime': 2.9528, 'eval_samples_per_second': 12.531, 'eval_steps_per_second': 6.435, 'epoch': 14.0}\n"
     ]
    },
    {
     "name": "stderr",
     "output_type": "stream",
     "text": [
      "Model weights saved in ./model/run-31/checkpoint-1022/pytorch_model.bin\n",
      "100%|██████████| 1095/1095 [05:08<00:00,  5.00it/s]***** Running Evaluation *****\n",
      "  Num examples = 37\n",
      "  Batch size = 2\n",
      "/home/ppibot/anaconda3/envs/myenv/lib/python3.9/site-packages/sklearn/metrics/_classification.py:1334: UndefinedMetricWarning: Precision and F-score are ill-defined and being set to 0.0 in labels with no predicted samples. Use `zero_division` parameter to control this behavior.\n",
      "  _warn_prf(average, modifier, msg_start, len(result))\n",
      "/home/ppibot/anaconda3/envs/myenv/lib/python3.9/site-packages/sklearn/metrics/_classification.py:1334: UndefinedMetricWarning: Recall and F-score are ill-defined and being set to 0.0 in labels with no true samples. Use `zero_division` parameter to control this behavior.\n",
      "  _warn_prf(average, modifier, msg_start, len(result))\n",
      "                                                   \n",
      "100%|██████████| 1095/1095 [05:11<00:00,  3.51it/s]\n",
      "\u001b[32m[I 2023-06-11 19:58:10,653]\u001b[0m Trial 31 pruned. \u001b[0m\n",
      "Trial: {'learning_rate': 5.884941196675201e-05, 'num_train_epochs': 13}\n"
     ]
    },
    {
     "name": "stdout",
     "output_type": "stream",
     "text": [
      "{'eval_loss': 0.42336127161979675, 'eval_accuracy': 0.6756756756756757, 'eval_f1': 0.5102040816326531, 'eval_precision': 0.5102040816326531, 'eval_recall': 0.5102040816326531, 'eval_slot': 0.8988076690379322, 'eval_slot_accuracy': 0.8243243243243243, 'eval_runtime': 2.8417, 'eval_samples_per_second': 13.02, 'eval_steps_per_second': 6.686, 'epoch': 15.0}\n"
     ]
    },
    {
     "name": "stderr",
     "output_type": "stream",
     "text": [
      "loading configuration file config.json from cache at /home/ppibot/.cache/huggingface/hub/models--google--flan-t5-base/snapshots/c782cba52f8ea6a704240578055cf1c3fc2f2ca9/config.json\n",
      "Model config T5Config {\n",
      "  \"_name_or_path\": \"google/flan-t5-base\",\n",
      "  \"architectures\": [\n",
      "    \"T5ForConditionalGeneration\"\n",
      "  ],\n",
      "  \"d_ff\": 2048,\n",
      "  \"d_kv\": 64,\n",
      "  \"d_model\": 768,\n",
      "  \"decoder_start_token_id\": 0,\n",
      "  \"dense_act_fn\": \"gelu_new\",\n",
      "  \"dropout_rate\": 0.1,\n",
      "  \"eos_token_id\": 1,\n",
      "  \"feed_forward_proj\": \"gated-gelu\",\n",
      "  \"initializer_factor\": 1.0,\n",
      "  \"is_encoder_decoder\": true,\n",
      "  \"is_gated_act\": true,\n",
      "  \"layer_norm_epsilon\": 1e-06,\n",
      "  \"model_type\": \"t5\",\n",
      "  \"n_positions\": 512,\n",
      "  \"num_decoder_layers\": 12,\n",
      "  \"num_heads\": 12,\n",
      "  \"num_layers\": 12,\n",
      "  \"output_past\": true,\n",
      "  \"pad_token_id\": 0,\n",
      "  \"relative_attention_max_distance\": 128,\n",
      "  \"relative_attention_num_buckets\": 32,\n",
      "  \"task_specific_params\": {\n",
      "    \"summarization\": {\n",
      "      \"early_stopping\": true,\n",
      "      \"length_penalty\": 2.0,\n",
      "      \"max_length\": 200,\n",
      "      \"min_length\": 30,\n",
      "      \"no_repeat_ngram_size\": 3,\n",
      "      \"num_beams\": 4,\n",
      "      \"prefix\": \"summarize: \"\n",
      "    },\n",
      "    \"translation_en_to_de\": {\n",
      "      \"early_stopping\": true,\n",
      "      \"max_length\": 300,\n",
      "      \"num_beams\": 4,\n",
      "      \"prefix\": \"translate English to German: \"\n",
      "    },\n",
      "    \"translation_en_to_fr\": {\n",
      "      \"early_stopping\": true,\n",
      "      \"max_length\": 300,\n",
      "      \"num_beams\": 4,\n",
      "      \"prefix\": \"translate English to French: \"\n",
      "    },\n",
      "    \"translation_en_to_ro\": {\n",
      "      \"early_stopping\": true,\n",
      "      \"max_length\": 300,\n",
      "      \"num_beams\": 4,\n",
      "      \"prefix\": \"translate English to Romanian: \"\n",
      "    }\n",
      "  },\n",
      "  \"tie_word_embeddings\": false,\n",
      "  \"transformers_version\": \"4.24.0\",\n",
      "  \"use_cache\": true,\n",
      "  \"vocab_size\": 32128\n",
      "}\n",
      "\n",
      "loading weights file pytorch_model.bin from cache at /home/ppibot/.cache/huggingface/hub/models--google--flan-t5-base/snapshots/c782cba52f8ea6a704240578055cf1c3fc2f2ca9/pytorch_model.bin\n",
      "All model checkpoint weights were used when initializing T5ForConditionalGeneration.\n",
      "\n",
      "All the weights of T5ForConditionalGeneration were initialized from the model checkpoint at google/flan-t5-base.\n",
      "If your task is similar to the task the model of the checkpoint was trained on, you can already use T5ForConditionalGeneration for predictions without further training.\n",
      "/home/ppibot/anaconda3/envs/myenv/lib/python3.9/site-packages/transformers/optimization.py:306: FutureWarning: This implementation of AdamW is deprecated and will be removed in a future version. Use the PyTorch implementation torch.optim.AdamW instead, or set `no_deprecation_warning=True` to disable this warning\n",
      "  warnings.warn(\n",
      "***** Running training *****\n",
      "  Num examples = 146\n",
      "  Num Epochs = 13\n",
      "  Instantaneous batch size per device = 2\n",
      "  Total train batch size (w. parallel, distributed & accumulation) = 2\n",
      "  Gradient Accumulation steps = 1\n",
      "  Total optimization steps = 949\n",
      "  Number of trainable parameters = 247577856\n",
      "  8%|▊         | 73/949 [00:14<02:54,  5.02it/s]***** Running Evaluation *****\n",
      "  Num examples = 37\n",
      "  Batch size = 2\n",
      "/home/ppibot/anaconda3/envs/myenv/lib/python3.9/site-packages/sklearn/metrics/_classification.py:1334: UndefinedMetricWarning: Precision and F-score are ill-defined and being set to 0.0 in labels with no predicted samples. Use `zero_division` parameter to control this behavior.\n",
      "  _warn_prf(average, modifier, msg_start, len(result))\n",
      "/home/ppibot/anaconda3/envs/myenv/lib/python3.9/site-packages/sklearn/metrics/_classification.py:1334: UndefinedMetricWarning: Recall and F-score are ill-defined and being set to 0.0 in labels with no true samples. Use `zero_division` parameter to control this behavior.\n",
      "  _warn_prf(average, modifier, msg_start, len(result))\n",
      "                                                \n",
      "  8%|▊         | 73/949 [00:17<03:30,  4.17it/s]\n",
      "\u001b[32m[I 2023-06-11 19:58:29,808]\u001b[0m Trial 32 pruned. \u001b[0m\n",
      "Trial: {'learning_rate': 7.058706359574237e-05, 'num_train_epochs': 16}\n"
     ]
    },
    {
     "name": "stdout",
     "output_type": "stream",
     "text": [
      "{'eval_loss': 0.47424381971359253, 'eval_accuracy': 0.24324324324324326, 'eval_f1': 0.13846153846153847, 'eval_precision': 0.13846153846153847, 'eval_recall': 0.13846153846153847, 'eval_slot': 0.6344550736935862, 'eval_slot_accuracy': 0.4594594594594595, 'eval_runtime': 2.9001, 'eval_samples_per_second': 12.758, 'eval_steps_per_second': 6.552, 'epoch': 1.0}\n"
     ]
    },
    {
     "name": "stderr",
     "output_type": "stream",
     "text": [
      "loading configuration file config.json from cache at /home/ppibot/.cache/huggingface/hub/models--google--flan-t5-base/snapshots/c782cba52f8ea6a704240578055cf1c3fc2f2ca9/config.json\n",
      "Model config T5Config {\n",
      "  \"_name_or_path\": \"google/flan-t5-base\",\n",
      "  \"architectures\": [\n",
      "    \"T5ForConditionalGeneration\"\n",
      "  ],\n",
      "  \"d_ff\": 2048,\n",
      "  \"d_kv\": 64,\n",
      "  \"d_model\": 768,\n",
      "  \"decoder_start_token_id\": 0,\n",
      "  \"dense_act_fn\": \"gelu_new\",\n",
      "  \"dropout_rate\": 0.1,\n",
      "  \"eos_token_id\": 1,\n",
      "  \"feed_forward_proj\": \"gated-gelu\",\n",
      "  \"initializer_factor\": 1.0,\n",
      "  \"is_encoder_decoder\": true,\n",
      "  \"is_gated_act\": true,\n",
      "  \"layer_norm_epsilon\": 1e-06,\n",
      "  \"model_type\": \"t5\",\n",
      "  \"n_positions\": 512,\n",
      "  \"num_decoder_layers\": 12,\n",
      "  \"num_heads\": 12,\n",
      "  \"num_layers\": 12,\n",
      "  \"output_past\": true,\n",
      "  \"pad_token_id\": 0,\n",
      "  \"relative_attention_max_distance\": 128,\n",
      "  \"relative_attention_num_buckets\": 32,\n",
      "  \"task_specific_params\": {\n",
      "    \"summarization\": {\n",
      "      \"early_stopping\": true,\n",
      "      \"length_penalty\": 2.0,\n",
      "      \"max_length\": 200,\n",
      "      \"min_length\": 30,\n",
      "      \"no_repeat_ngram_size\": 3,\n",
      "      \"num_beams\": 4,\n",
      "      \"prefix\": \"summarize: \"\n",
      "    },\n",
      "    \"translation_en_to_de\": {\n",
      "      \"early_stopping\": true,\n",
      "      \"max_length\": 300,\n",
      "      \"num_beams\": 4,\n",
      "      \"prefix\": \"translate English to German: \"\n",
      "    },\n",
      "    \"translation_en_to_fr\": {\n",
      "      \"early_stopping\": true,\n",
      "      \"max_length\": 300,\n",
      "      \"num_beams\": 4,\n",
      "      \"prefix\": \"translate English to French: \"\n",
      "    },\n",
      "    \"translation_en_to_ro\": {\n",
      "      \"early_stopping\": true,\n",
      "      \"max_length\": 300,\n",
      "      \"num_beams\": 4,\n",
      "      \"prefix\": \"translate English to Romanian: \"\n",
      "    }\n",
      "  },\n",
      "  \"tie_word_embeddings\": false,\n",
      "  \"transformers_version\": \"4.24.0\",\n",
      "  \"use_cache\": true,\n",
      "  \"vocab_size\": 32128\n",
      "}\n",
      "\n",
      "loading weights file pytorch_model.bin from cache at /home/ppibot/.cache/huggingface/hub/models--google--flan-t5-base/snapshots/c782cba52f8ea6a704240578055cf1c3fc2f2ca9/pytorch_model.bin\n",
      "All model checkpoint weights were used when initializing T5ForConditionalGeneration.\n",
      "\n",
      "All the weights of T5ForConditionalGeneration were initialized from the model checkpoint at google/flan-t5-base.\n",
      "If your task is similar to the task the model of the checkpoint was trained on, you can already use T5ForConditionalGeneration for predictions without further training.\n",
      "/home/ppibot/anaconda3/envs/myenv/lib/python3.9/site-packages/transformers/optimization.py:306: FutureWarning: This implementation of AdamW is deprecated and will be removed in a future version. Use the PyTorch implementation torch.optim.AdamW instead, or set `no_deprecation_warning=True` to disable this warning\n",
      "  warnings.warn(\n",
      "***** Running training *****\n",
      "  Num examples = 146\n",
      "  Num Epochs = 16\n",
      "  Instantaneous batch size per device = 2\n",
      "  Total train batch size (w. parallel, distributed & accumulation) = 2\n",
      "  Gradient Accumulation steps = 1\n",
      "  Total optimization steps = 1168\n",
      "  Number of trainable parameters = 247577856\n",
      "  6%|▋         | 73/1168 [00:14<03:39,  5.00it/s]***** Running Evaluation *****\n",
      "  Num examples = 37\n",
      "  Batch size = 2\n",
      "/home/ppibot/anaconda3/envs/myenv/lib/python3.9/site-packages/sklearn/metrics/_classification.py:1334: UndefinedMetricWarning: Precision and F-score are ill-defined and being set to 0.0 in labels with no predicted samples. Use `zero_division` parameter to control this behavior.\n",
      "  _warn_prf(average, modifier, msg_start, len(result))\n",
      "/home/ppibot/anaconda3/envs/myenv/lib/python3.9/site-packages/sklearn/metrics/_classification.py:1334: UndefinedMetricWarning: Recall and F-score are ill-defined and being set to 0.0 in labels with no true samples. Use `zero_division` parameter to control this behavior.\n",
      "  _warn_prf(average, modifier, msg_start, len(result))\n",
      "                                                 \n",
      "  6%|▋         | 73/1168 [00:17<04:23,  4.16it/s]\n",
      "\u001b[32m[I 2023-06-11 19:58:49,002]\u001b[0m Trial 33 pruned. \u001b[0m\n",
      "Trial: {'learning_rate': 8.472194019458251e-05, 'num_train_epochs': 18}\n",
      "loading configuration file config.json from cache at /home/ppibot/.cache/huggingface/hub/models--google--flan-t5-base/snapshots/c782cba52f8ea6a704240578055cf1c3fc2f2ca9/config.json\n",
      "Model config T5Config {\n",
      "  \"_name_or_path\": \"google/flan-t5-base\",\n",
      "  \"architectures\": [\n",
      "    \"T5ForConditionalGeneration\"\n",
      "  ],\n",
      "  \"d_ff\": 2048,\n",
      "  \"d_kv\": 64,\n",
      "  \"d_model\": 768,\n",
      "  \"decoder_start_token_id\": 0,\n",
      "  \"dense_act_fn\": \"gelu_new\",\n",
      "  \"dropout_rate\": 0.1,\n",
      "  \"eos_token_id\": 1,\n",
      "  \"feed_forward_proj\": \"gated-gelu\",\n",
      "  \"initializer_factor\": 1.0,\n",
      "  \"is_encoder_decoder\": true,\n",
      "  \"is_gated_act\": true,\n",
      "  \"layer_norm_epsilon\": 1e-06,\n",
      "  \"model_type\": \"t5\",\n",
      "  \"n_positions\": 512,\n",
      "  \"num_decoder_layers\": 12,\n",
      "  \"num_heads\": 12,\n",
      "  \"num_layers\": 12,\n",
      "  \"output_past\": true,\n",
      "  \"pad_token_id\": 0,\n",
      "  \"relative_attention_max_distance\": 128,\n",
      "  \"relative_attention_num_buckets\": 32,\n",
      "  \"task_specific_params\": {\n",
      "    \"summarization\": {\n",
      "      \"early_stopping\": true,\n",
      "      \"length_penalty\": 2.0,\n",
      "      \"max_length\": 200,\n",
      "      \"min_length\": 30,\n",
      "      \"no_repeat_ngram_size\": 3,\n",
      "      \"num_beams\": 4,\n",
      "      \"prefix\": \"summarize: \"\n",
      "    },\n",
      "    \"translation_en_to_de\": {\n",
      "      \"early_stopping\": true,\n",
      "      \"max_length\": 300,\n",
      "      \"num_beams\": 4,\n",
      "      \"prefix\": \"translate English to German: \"\n",
      "    },\n",
      "    \"translation_en_to_fr\": {\n",
      "      \"early_stopping\": true,\n",
      "      \"max_length\": 300,\n",
      "      \"num_beams\": 4,\n",
      "      \"prefix\": \"translate English to French: \"\n",
      "    },\n",
      "    \"translation_en_to_ro\": {\n",
      "      \"early_stopping\": true,\n",
      "      \"max_length\": 300,\n",
      "      \"num_beams\": 4,\n",
      "      \"prefix\": \"translate English to Romanian: \"\n",
      "    }\n",
      "  },\n",
      "  \"tie_word_embeddings\": false,\n",
      "  \"transformers_version\": \"4.24.0\",\n",
      "  \"use_cache\": true,\n",
      "  \"vocab_size\": 32128\n",
      "}\n",
      "\n",
      "loading weights file pytorch_model.bin from cache at /home/ppibot/.cache/huggingface/hub/models--google--flan-t5-base/snapshots/c782cba52f8ea6a704240578055cf1c3fc2f2ca9/pytorch_model.bin\n"
     ]
    },
    {
     "name": "stdout",
     "output_type": "stream",
     "text": [
      "{'eval_loss': 0.4348360002040863, 'eval_accuracy': 0.24324324324324326, 'eval_f1': 0.13846153846153847, 'eval_precision': 0.13846153846153847, 'eval_recall': 0.13846153846153847, 'eval_slot': 0.6576869094254219, 'eval_slot_accuracy': 0.4864864864864865, 'eval_runtime': 2.9622, 'eval_samples_per_second': 12.491, 'eval_steps_per_second': 6.414, 'epoch': 1.0}\n"
     ]
    },
    {
     "name": "stderr",
     "output_type": "stream",
     "text": [
      "All model checkpoint weights were used when initializing T5ForConditionalGeneration.\n",
      "\n",
      "All the weights of T5ForConditionalGeneration were initialized from the model checkpoint at google/flan-t5-base.\n",
      "If your task is similar to the task the model of the checkpoint was trained on, you can already use T5ForConditionalGeneration for predictions without further training.\n",
      "/home/ppibot/anaconda3/envs/myenv/lib/python3.9/site-packages/transformers/optimization.py:306: FutureWarning: This implementation of AdamW is deprecated and will be removed in a future version. Use the PyTorch implementation torch.optim.AdamW instead, or set `no_deprecation_warning=True` to disable this warning\n",
      "  warnings.warn(\n",
      "***** Running training *****\n",
      "  Num examples = 146\n",
      "  Num Epochs = 18\n",
      "  Instantaneous batch size per device = 2\n",
      "  Total train batch size (w. parallel, distributed & accumulation) = 2\n",
      "  Gradient Accumulation steps = 1\n",
      "  Total optimization steps = 1314\n",
      "  Number of trainable parameters = 247577856\n",
      "  6%|▌         | 73/1314 [00:14<04:08,  4.99it/s]***** Running Evaluation *****\n",
      "  Num examples = 37\n",
      "  Batch size = 2\n",
      "/home/ppibot/anaconda3/envs/myenv/lib/python3.9/site-packages/sklearn/metrics/_classification.py:1334: UndefinedMetricWarning: Precision and F-score are ill-defined and being set to 0.0 in labels with no predicted samples. Use `zero_division` parameter to control this behavior.\n",
      "  _warn_prf(average, modifier, msg_start, len(result))\n",
      "/home/ppibot/anaconda3/envs/myenv/lib/python3.9/site-packages/sklearn/metrics/_classification.py:1334: UndefinedMetricWarning: Recall and F-score are ill-defined and being set to 0.0 in labels with no true samples. Use `zero_division` parameter to control this behavior.\n",
      "  _warn_prf(average, modifier, msg_start, len(result))\n",
      "\n",
      "  6%|▌         | 73/1314 [00:17<04:08,  4.99it/s]Saving model checkpoint to ./model/run-34/checkpoint-73\n",
      "Configuration saved in ./model/run-34/checkpoint-73/config.json\n"
     ]
    },
    {
     "name": "stdout",
     "output_type": "stream",
     "text": [
      "{'eval_loss': 0.38212305307388306, 'eval_accuracy': 0.3783783783783784, 'eval_f1': 0.23333333333333334, 'eval_precision': 0.23333333333333334, 'eval_recall': 0.23333333333333334, 'eval_slot': 0.7472311646010159, 'eval_slot_accuracy': 0.6486486486486487, 'eval_runtime': 2.8847, 'eval_samples_per_second': 12.826, 'eval_steps_per_second': 6.586, 'epoch': 1.0}\n"
     ]
    },
    {
     "name": "stderr",
     "output_type": "stream",
     "text": [
      "Model weights saved in ./model/run-34/checkpoint-73/pytorch_model.bin\n",
      " 11%|█         | 146/1314 [00:35<03:52,  5.03it/s]***** Running Evaluation *****\n",
      "  Num examples = 37\n",
      "  Batch size = 2\n",
      "/home/ppibot/anaconda3/envs/myenv/lib/python3.9/site-packages/sklearn/metrics/_classification.py:1334: UndefinedMetricWarning: Precision and F-score are ill-defined and being set to 0.0 in labels with no predicted samples. Use `zero_division` parameter to control this behavior.\n",
      "  _warn_prf(average, modifier, msg_start, len(result))\n",
      "/home/ppibot/anaconda3/envs/myenv/lib/python3.9/site-packages/sklearn/metrics/_classification.py:1334: UndefinedMetricWarning: Recall and F-score are ill-defined and being set to 0.0 in labels with no true samples. Use `zero_division` parameter to control this behavior.\n",
      "  _warn_prf(average, modifier, msg_start, len(result))\n",
      "                                                  \n",
      " 11%|█         | 146/1314 [00:38<03:52,  5.03it/s]Saving model checkpoint to ./model/run-34/checkpoint-146\n",
      "Configuration saved in ./model/run-34/checkpoint-146/config.json\n"
     ]
    },
    {
     "name": "stdout",
     "output_type": "stream",
     "text": [
      "{'eval_loss': 0.3273386061191559, 'eval_accuracy': 0.4594594594594595, 'eval_f1': 0.2982456140350877, 'eval_precision': 0.2982456140350877, 'eval_recall': 0.2982456140350877, 'eval_slot': 0.7548654440749027, 'eval_slot_accuracy': 0.6891891891891891, 'eval_runtime': 2.8271, 'eval_samples_per_second': 13.088, 'eval_steps_per_second': 6.721, 'epoch': 2.0}\n"
     ]
    },
    {
     "name": "stderr",
     "output_type": "stream",
     "text": [
      "Model weights saved in ./model/run-34/checkpoint-146/pytorch_model.bin\n",
      " 17%|█▋        | 219/1314 [00:55<03:38,  5.00it/s]***** Running Evaluation *****\n",
      "  Num examples = 37\n",
      "  Batch size = 2\n",
      "/home/ppibot/anaconda3/envs/myenv/lib/python3.9/site-packages/sklearn/metrics/_classification.py:1334: UndefinedMetricWarning: Precision and F-score are ill-defined and being set to 0.0 in labels with no predicted samples. Use `zero_division` parameter to control this behavior.\n",
      "  _warn_prf(average, modifier, msg_start, len(result))\n",
      "/home/ppibot/anaconda3/envs/myenv/lib/python3.9/site-packages/sklearn/metrics/_classification.py:1334: UndefinedMetricWarning: Recall and F-score are ill-defined and being set to 0.0 in labels with no true samples. Use `zero_division` parameter to control this behavior.\n",
      "  _warn_prf(average, modifier, msg_start, len(result))\n",
      "                                                  \n",
      " 17%|█▋        | 219/1314 [00:58<03:38,  5.00it/s]Saving model checkpoint to ./model/run-34/checkpoint-219\n",
      "Configuration saved in ./model/run-34/checkpoint-219/config.json\n"
     ]
    },
    {
     "name": "stdout",
     "output_type": "stream",
     "text": [
      "{'eval_loss': 0.3067549467086792, 'eval_accuracy': 0.6216216216216216, 'eval_f1': 0.45098039215686275, 'eval_precision': 0.45098039215686275, 'eval_recall': 0.45098039215686275, 'eval_slot': 0.8659346706476923, 'eval_slot_accuracy': 0.8018018018018017, 'eval_runtime': 3.0523, 'eval_samples_per_second': 12.122, 'eval_steps_per_second': 6.225, 'epoch': 3.0}\n"
     ]
    },
    {
     "name": "stderr",
     "output_type": "stream",
     "text": [
      "Model weights saved in ./model/run-34/checkpoint-219/pytorch_model.bin\n",
      " 22%|██▏       | 292/1314 [01:15<03:24,  5.01it/s]***** Running Evaluation *****\n",
      "  Num examples = 37\n",
      "  Batch size = 2\n",
      "/home/ppibot/anaconda3/envs/myenv/lib/python3.9/site-packages/sklearn/metrics/_classification.py:1334: UndefinedMetricWarning: Precision and F-score are ill-defined and being set to 0.0 in labels with no predicted samples. Use `zero_division` parameter to control this behavior.\n",
      "  _warn_prf(average, modifier, msg_start, len(result))\n",
      "/home/ppibot/anaconda3/envs/myenv/lib/python3.9/site-packages/sklearn/metrics/_classification.py:1334: UndefinedMetricWarning: Recall and F-score are ill-defined and being set to 0.0 in labels with no true samples. Use `zero_division` parameter to control this behavior.\n",
      "  _warn_prf(average, modifier, msg_start, len(result))\n",
      "                                                  \n",
      " 22%|██▏       | 292/1314 [01:17<03:24,  5.01it/s]Saving model checkpoint to ./model/run-34/checkpoint-292\n",
      "Configuration saved in ./model/run-34/checkpoint-292/config.json\n"
     ]
    },
    {
     "name": "stdout",
     "output_type": "stream",
     "text": [
      "{'eval_loss': 0.34611523151397705, 'eval_accuracy': 0.5945945945945946, 'eval_f1': 0.4230769230769231, 'eval_precision': 0.4230769230769231, 'eval_recall': 0.4230769230769231, 'eval_slot': 0.8270512078511861, 'eval_slot_accuracy': 0.7477477477477477, 'eval_runtime': 2.8698, 'eval_samples_per_second': 12.893, 'eval_steps_per_second': 6.621, 'epoch': 4.0}\n"
     ]
    },
    {
     "name": "stderr",
     "output_type": "stream",
     "text": [
      "Model weights saved in ./model/run-34/checkpoint-292/pytorch_model.bin\n",
      " 28%|██▊       | 365/1314 [01:35<03:09,  5.01it/s]***** Running Evaluation *****\n",
      "  Num examples = 37\n",
      "  Batch size = 2\n",
      "/home/ppibot/anaconda3/envs/myenv/lib/python3.9/site-packages/sklearn/metrics/_classification.py:1334: UndefinedMetricWarning: Precision and F-score are ill-defined and being set to 0.0 in labels with no predicted samples. Use `zero_division` parameter to control this behavior.\n",
      "  _warn_prf(average, modifier, msg_start, len(result))\n",
      "/home/ppibot/anaconda3/envs/myenv/lib/python3.9/site-packages/sklearn/metrics/_classification.py:1334: UndefinedMetricWarning: Recall and F-score are ill-defined and being set to 0.0 in labels with no true samples. Use `zero_division` parameter to control this behavior.\n",
      "  _warn_prf(average, modifier, msg_start, len(result))\n",
      "                                                  \n",
      " 28%|██▊       | 365/1314 [01:38<03:09,  5.01it/s]Saving model checkpoint to ./model/run-34/checkpoint-365\n",
      "Configuration saved in ./model/run-34/checkpoint-365/config.json\n"
     ]
    },
    {
     "name": "stdout",
     "output_type": "stream",
     "text": [
      "{'eval_loss': 0.37190455198287964, 'eval_accuracy': 0.6756756756756757, 'eval_f1': 0.5102040816326531, 'eval_precision': 0.5102040816326531, 'eval_recall': 0.5102040816326531, 'eval_slot': 0.8641171343473975, 'eval_slot_accuracy': 0.8108108108108109, 'eval_runtime': 3.0136, 'eval_samples_per_second': 12.278, 'eval_steps_per_second': 6.305, 'epoch': 5.0}\n"
     ]
    },
    {
     "name": "stderr",
     "output_type": "stream",
     "text": [
      "Model weights saved in ./model/run-34/checkpoint-365/pytorch_model.bin\n",
      " 33%|███▎      | 438/1314 [01:55<02:55,  5.00it/s]***** Running Evaluation *****\n",
      "  Num examples = 37\n",
      "  Batch size = 2\n",
      "/home/ppibot/anaconda3/envs/myenv/lib/python3.9/site-packages/sklearn/metrics/_classification.py:1334: UndefinedMetricWarning: Precision and F-score are ill-defined and being set to 0.0 in labels with no predicted samples. Use `zero_division` parameter to control this behavior.\n",
      "  _warn_prf(average, modifier, msg_start, len(result))\n",
      "/home/ppibot/anaconda3/envs/myenv/lib/python3.9/site-packages/sklearn/metrics/_classification.py:1334: UndefinedMetricWarning: Recall and F-score are ill-defined and being set to 0.0 in labels with no true samples. Use `zero_division` parameter to control this behavior.\n",
      "  _warn_prf(average, modifier, msg_start, len(result))\n",
      "                                                  \n",
      " 33%|███▎      | 438/1314 [01:58<02:55,  5.00it/s]Saving model checkpoint to ./model/run-34/checkpoint-438\n",
      "Configuration saved in ./model/run-34/checkpoint-438/config.json\n"
     ]
    },
    {
     "name": "stdout",
     "output_type": "stream",
     "text": [
      "{'eval_loss': 0.3655453622341156, 'eval_accuracy': 0.6756756756756757, 'eval_f1': 0.5102040816326531, 'eval_precision': 0.5102040816326531, 'eval_recall': 0.5102040816326531, 'eval_slot': 0.9111024313326944, 'eval_slot_accuracy': 0.8468468468468469, 'eval_runtime': 2.8925, 'eval_samples_per_second': 12.792, 'eval_steps_per_second': 6.569, 'epoch': 6.0}\n"
     ]
    },
    {
     "name": "stderr",
     "output_type": "stream",
     "text": [
      "Model weights saved in ./model/run-34/checkpoint-438/pytorch_model.bin\n",
      " 38%|███▊      | 501/1314 [02:14<02:43,  4.98it/s]"
     ]
    },
    {
     "name": "stdout",
     "output_type": "stream",
     "text": [
      "{'loss': 0.2746, 'learning_rate': 5.248375899420865e-05, 'epoch': 6.85}\n"
     ]
    },
    {
     "name": "stderr",
     "output_type": "stream",
     "text": [
      " 39%|███▉      | 511/1314 [02:16<02:40,  5.00it/s]***** Running Evaluation *****\n",
      "  Num examples = 37\n",
      "  Batch size = 2\n",
      "/home/ppibot/anaconda3/envs/myenv/lib/python3.9/site-packages/sklearn/metrics/_classification.py:1334: UndefinedMetricWarning: Precision and F-score are ill-defined and being set to 0.0 in labels with no predicted samples. Use `zero_division` parameter to control this behavior.\n",
      "  _warn_prf(average, modifier, msg_start, len(result))\n",
      "/home/ppibot/anaconda3/envs/myenv/lib/python3.9/site-packages/sklearn/metrics/_classification.py:1334: UndefinedMetricWarning: Recall and F-score are ill-defined and being set to 0.0 in labels with no true samples. Use `zero_division` parameter to control this behavior.\n",
      "  _warn_prf(average, modifier, msg_start, len(result))\n",
      "                                                  \n",
      " 39%|███▉      | 511/1314 [02:19<02:40,  5.00it/s]Saving model checkpoint to ./model/run-34/checkpoint-511\n",
      "Configuration saved in ./model/run-34/checkpoint-511/config.json\n"
     ]
    },
    {
     "name": "stdout",
     "output_type": "stream",
     "text": [
      "{'eval_loss': 0.3647959232330322, 'eval_accuracy': 0.7027027027027027, 'eval_f1': 0.5416666666666666, 'eval_precision': 0.5416666666666666, 'eval_recall': 0.5416666666666666, 'eval_slot': 0.8969689516819733, 'eval_slot_accuracy': 0.8198198198198198, 'eval_runtime': 2.9651, 'eval_samples_per_second': 12.478, 'eval_steps_per_second': 6.408, 'epoch': 7.0}\n"
     ]
    },
    {
     "name": "stderr",
     "output_type": "stream",
     "text": [
      "Model weights saved in ./model/run-34/checkpoint-511/pytorch_model.bin\n",
      " 44%|████▍     | 584/1314 [02:36<02:26,  5.00it/s]***** Running Evaluation *****\n",
      "  Num examples = 37\n",
      "  Batch size = 2\n",
      "/home/ppibot/anaconda3/envs/myenv/lib/python3.9/site-packages/sklearn/metrics/_classification.py:1334: UndefinedMetricWarning: Precision and F-score are ill-defined and being set to 0.0 in labels with no predicted samples. Use `zero_division` parameter to control this behavior.\n",
      "  _warn_prf(average, modifier, msg_start, len(result))\n",
      "/home/ppibot/anaconda3/envs/myenv/lib/python3.9/site-packages/sklearn/metrics/_classification.py:1334: UndefinedMetricWarning: Recall and F-score are ill-defined and being set to 0.0 in labels with no true samples. Use `zero_division` parameter to control this behavior.\n",
      "  _warn_prf(average, modifier, msg_start, len(result))\n",
      "                                                  \n",
      " 44%|████▍     | 584/1314 [02:39<02:26,  5.00it/s]Saving model checkpoint to ./model/run-34/checkpoint-584\n",
      "Configuration saved in ./model/run-34/checkpoint-584/config.json\n"
     ]
    },
    {
     "name": "stdout",
     "output_type": "stream",
     "text": [
      "{'eval_loss': 0.4176170825958252, 'eval_accuracy': 0.6486486486486487, 'eval_f1': 0.48, 'eval_precision': 0.48, 'eval_recall': 0.48, 'eval_slot': 0.8831336878467095, 'eval_slot_accuracy': 0.8108108108108109, 'eval_runtime': 2.9063, 'eval_samples_per_second': 12.731, 'eval_steps_per_second': 6.538, 'epoch': 8.0}\n"
     ]
    },
    {
     "name": "stderr",
     "output_type": "stream",
     "text": [
      "Model weights saved in ./model/run-34/checkpoint-584/pytorch_model.bin\n",
      " 50%|█████     | 657/1314 [02:56<02:11,  5.01it/s]***** Running Evaluation *****\n",
      "  Num examples = 37\n",
      "  Batch size = 2\n",
      "/home/ppibot/anaconda3/envs/myenv/lib/python3.9/site-packages/sklearn/metrics/_classification.py:1334: UndefinedMetricWarning: Precision and F-score are ill-defined and being set to 0.0 in labels with no predicted samples. Use `zero_division` parameter to control this behavior.\n",
      "  _warn_prf(average, modifier, msg_start, len(result))\n",
      "/home/ppibot/anaconda3/envs/myenv/lib/python3.9/site-packages/sklearn/metrics/_classification.py:1334: UndefinedMetricWarning: Recall and F-score are ill-defined and being set to 0.0 in labels with no true samples. Use `zero_division` parameter to control this behavior.\n",
      "  _warn_prf(average, modifier, msg_start, len(result))\n",
      "                                                  \n",
      " 50%|█████     | 657/1314 [02:59<02:11,  5.01it/s]Saving model checkpoint to ./model/run-34/checkpoint-657\n",
      "Configuration saved in ./model/run-34/checkpoint-657/config.json\n"
     ]
    },
    {
     "name": "stdout",
     "output_type": "stream",
     "text": [
      "{'eval_loss': 0.4723789095878601, 'eval_accuracy': 0.6216216216216216, 'eval_f1': 0.45098039215686275, 'eval_precision': 0.45098039215686275, 'eval_recall': 0.45098039215686275, 'eval_slot': 0.8761872225044421, 'eval_slot_accuracy': 0.7972972972972973, 'eval_runtime': 3.0005, 'eval_samples_per_second': 12.331, 'eval_steps_per_second': 6.332, 'epoch': 9.0}\n"
     ]
    },
    {
     "name": "stderr",
     "output_type": "stream",
     "text": [
      "Model weights saved in ./model/run-34/checkpoint-657/pytorch_model.bin\n",
      " 56%|█████▌    | 730/1314 [03:16<01:56,  5.00it/s]***** Running Evaluation *****\n",
      "  Num examples = 37\n",
      "  Batch size = 2\n",
      "/home/ppibot/anaconda3/envs/myenv/lib/python3.9/site-packages/sklearn/metrics/_classification.py:1334: UndefinedMetricWarning: Precision and F-score are ill-defined and being set to 0.0 in labels with no predicted samples. Use `zero_division` parameter to control this behavior.\n",
      "  _warn_prf(average, modifier, msg_start, len(result))\n",
      "/home/ppibot/anaconda3/envs/myenv/lib/python3.9/site-packages/sklearn/metrics/_classification.py:1334: UndefinedMetricWarning: Recall and F-score are ill-defined and being set to 0.0 in labels with no true samples. Use `zero_division` parameter to control this behavior.\n",
      "  _warn_prf(average, modifier, msg_start, len(result))\n",
      "                                                  \n",
      " 56%|█████▌    | 730/1314 [03:19<01:56,  5.00it/s]Saving model checkpoint to ./model/run-34/checkpoint-730\n",
      "Configuration saved in ./model/run-34/checkpoint-730/config.json\n"
     ]
    },
    {
     "name": "stdout",
     "output_type": "stream",
     "text": [
      "{'eval_loss': 0.492628812789917, 'eval_accuracy': 0.6756756756756757, 'eval_f1': 0.5102040816326531, 'eval_precision': 0.5102040816326531, 'eval_recall': 0.5102040816326531, 'eval_slot': 0.8672761375064005, 'eval_slot_accuracy': 0.8108108108108109, 'eval_runtime': 2.9228, 'eval_samples_per_second': 12.659, 'eval_steps_per_second': 6.501, 'epoch': 10.0}\n"
     ]
    },
    {
     "name": "stderr",
     "output_type": "stream",
     "text": [
      "Model weights saved in ./model/run-34/checkpoint-730/pytorch_model.bin\n",
      " 61%|██████    | 803/1314 [03:52<01:41,  5.03it/s]  ***** Running Evaluation *****\n",
      "  Num examples = 37\n",
      "  Batch size = 2\n",
      "/home/ppibot/anaconda3/envs/myenv/lib/python3.9/site-packages/sklearn/metrics/_classification.py:1334: UndefinedMetricWarning: Precision and F-score are ill-defined and being set to 0.0 in labels with no predicted samples. Use `zero_division` parameter to control this behavior.\n",
      "  _warn_prf(average, modifier, msg_start, len(result))\n",
      "/home/ppibot/anaconda3/envs/myenv/lib/python3.9/site-packages/sklearn/metrics/_classification.py:1334: UndefinedMetricWarning: Recall and F-score are ill-defined and being set to 0.0 in labels with no true samples. Use `zero_division` parameter to control this behavior.\n",
      "  _warn_prf(average, modifier, msg_start, len(result))\n",
      "                                                  \n",
      " 61%|██████    | 803/1314 [03:55<01:41,  5.03it/s]Saving model checkpoint to ./model/run-34/checkpoint-803\n",
      "Configuration saved in ./model/run-34/checkpoint-803/config.json\n"
     ]
    },
    {
     "name": "stdout",
     "output_type": "stream",
     "text": [
      "{'eval_loss': 0.45242947340011597, 'eval_accuracy': 0.6756756756756757, 'eval_f1': 0.5102040816326531, 'eval_precision': 0.5102040816326531, 'eval_recall': 0.5102040816326531, 'eval_slot': 0.8809134011436643, 'eval_slot_accuracy': 0.8063063063063064, 'eval_runtime': 2.9393, 'eval_samples_per_second': 12.588, 'eval_steps_per_second': 6.464, 'epoch': 11.0}\n"
     ]
    },
    {
     "name": "stderr",
     "output_type": "stream",
     "text": [
      "Model weights saved in ./model/run-34/checkpoint-803/pytorch_model.bin\n",
      " 67%|██████▋   | 876/1314 [04:12<01:27,  5.03it/s]***** Running Evaluation *****\n",
      "  Num examples = 37\n",
      "  Batch size = 2\n",
      "/home/ppibot/anaconda3/envs/myenv/lib/python3.9/site-packages/sklearn/metrics/_classification.py:1334: UndefinedMetricWarning: Precision and F-score are ill-defined and being set to 0.0 in labels with no predicted samples. Use `zero_division` parameter to control this behavior.\n",
      "  _warn_prf(average, modifier, msg_start, len(result))\n",
      "/home/ppibot/anaconda3/envs/myenv/lib/python3.9/site-packages/sklearn/metrics/_classification.py:1334: UndefinedMetricWarning: Recall and F-score are ill-defined and being set to 0.0 in labels with no true samples. Use `zero_division` parameter to control this behavior.\n",
      "  _warn_prf(average, modifier, msg_start, len(result))\n",
      "                                                  \n",
      " 67%|██████▋   | 876/1314 [04:15<01:27,  5.03it/s]Saving model checkpoint to ./model/run-34/checkpoint-876\n",
      "Configuration saved in ./model/run-34/checkpoint-876/config.json\n"
     ]
    },
    {
     "name": "stdout",
     "output_type": "stream",
     "text": [
      "{'eval_loss': 0.3813120424747467, 'eval_accuracy': 0.7297297297297297, 'eval_f1': 0.574468085106383, 'eval_precision': 0.574468085106383, 'eval_recall': 0.574468085106383, 'eval_slot': 0.9169494371797005, 'eval_slot_accuracy': 0.8468468468468469, 'eval_runtime': 2.9067, 'eval_samples_per_second': 12.729, 'eval_steps_per_second': 6.537, 'epoch': 12.0}\n"
     ]
    },
    {
     "name": "stderr",
     "output_type": "stream",
     "text": [
      "Model weights saved in ./model/run-34/checkpoint-876/pytorch_model.bin\n",
      " 72%|███████▏  | 949/1314 [04:31<01:12,  5.01it/s]***** Running Evaluation *****\n",
      "  Num examples = 37\n",
      "  Batch size = 2\n",
      "/home/ppibot/anaconda3/envs/myenv/lib/python3.9/site-packages/sklearn/metrics/_classification.py:1334: UndefinedMetricWarning: Precision and F-score are ill-defined and being set to 0.0 in labels with no predicted samples. Use `zero_division` parameter to control this behavior.\n",
      "  _warn_prf(average, modifier, msg_start, len(result))\n",
      "/home/ppibot/anaconda3/envs/myenv/lib/python3.9/site-packages/sklearn/metrics/_classification.py:1334: UndefinedMetricWarning: Recall and F-score are ill-defined and being set to 0.0 in labels with no true samples. Use `zero_division` parameter to control this behavior.\n",
      "  _warn_prf(average, modifier, msg_start, len(result))\n",
      "                                                  \n",
      " 72%|███████▏  | 949/1314 [04:34<01:12,  5.01it/s]Saving model checkpoint to ./model/run-34/checkpoint-949\n",
      "Configuration saved in ./model/run-34/checkpoint-949/config.json\n"
     ]
    },
    {
     "name": "stdout",
     "output_type": "stream",
     "text": [
      "{'eval_loss': 0.4028925597667694, 'eval_accuracy': 0.7027027027027027, 'eval_f1': 0.5416666666666666, 'eval_precision': 0.5416666666666666, 'eval_recall': 0.5416666666666666, 'eval_slot': 0.8899224101526734, 'eval_slot_accuracy': 0.8198198198198199, 'eval_runtime': 2.9407, 'eval_samples_per_second': 12.582, 'eval_steps_per_second': 6.461, 'epoch': 13.0}\n"
     ]
    },
    {
     "name": "stderr",
     "output_type": "stream",
     "text": [
      "Model weights saved in ./model/run-34/checkpoint-949/pytorch_model.bin\n",
      " 76%|███████▌  | 1001/1314 [04:47<01:02,  4.97it/s]"
     ]
    },
    {
     "name": "stdout",
     "output_type": "stream",
     "text": [
      "{'loss': 0.0228, 'learning_rate': 2.0245577793834784e-05, 'epoch': 13.7}\n"
     ]
    },
    {
     "name": "stderr",
     "output_type": "stream",
     "text": [
      " 78%|███████▊  | 1022/1314 [04:51<00:58,  5.02it/s]***** Running Evaluation *****\n",
      "  Num examples = 37\n",
      "  Batch size = 2\n",
      "/home/ppibot/anaconda3/envs/myenv/lib/python3.9/site-packages/sklearn/metrics/_classification.py:1334: UndefinedMetricWarning: Precision and F-score are ill-defined and being set to 0.0 in labels with no predicted samples. Use `zero_division` parameter to control this behavior.\n",
      "  _warn_prf(average, modifier, msg_start, len(result))\n",
      "/home/ppibot/anaconda3/envs/myenv/lib/python3.9/site-packages/sklearn/metrics/_classification.py:1334: UndefinedMetricWarning: Recall and F-score are ill-defined and being set to 0.0 in labels with no true samples. Use `zero_division` parameter to control this behavior.\n",
      "  _warn_prf(average, modifier, msg_start, len(result))\n",
      "                                                   \n",
      " 78%|███████▊  | 1022/1314 [04:54<00:58,  5.02it/s]Saving model checkpoint to ./model/run-34/checkpoint-1022\n",
      "Configuration saved in ./model/run-34/checkpoint-1022/config.json\n"
     ]
    },
    {
     "name": "stdout",
     "output_type": "stream",
     "text": [
      "{'eval_loss': 0.3978516459465027, 'eval_accuracy': 0.6756756756756757, 'eval_f1': 0.5102040816326531, 'eval_precision': 0.5102040816326531, 'eval_recall': 0.5102040816326531, 'eval_slot': 0.8899224101526734, 'eval_slot_accuracy': 0.8198198198198199, 'eval_runtime': 2.9188, 'eval_samples_per_second': 12.676, 'eval_steps_per_second': 6.51, 'epoch': 14.0}\n"
     ]
    },
    {
     "name": "stderr",
     "output_type": "stream",
     "text": [
      "Model weights saved in ./model/run-34/checkpoint-1022/pytorch_model.bin\n",
      " 83%|████████▎ | 1095/1314 [05:11<00:43,  5.00it/s]***** Running Evaluation *****\n",
      "  Num examples = 37\n",
      "  Batch size = 2\n",
      "/home/ppibot/anaconda3/envs/myenv/lib/python3.9/site-packages/sklearn/metrics/_classification.py:1334: UndefinedMetricWarning: Precision and F-score are ill-defined and being set to 0.0 in labels with no predicted samples. Use `zero_division` parameter to control this behavior.\n",
      "  _warn_prf(average, modifier, msg_start, len(result))\n",
      "/home/ppibot/anaconda3/envs/myenv/lib/python3.9/site-packages/sklearn/metrics/_classification.py:1334: UndefinedMetricWarning: Recall and F-score are ill-defined and being set to 0.0 in labels with no true samples. Use `zero_division` parameter to control this behavior.\n",
      "  _warn_prf(average, modifier, msg_start, len(result))\n",
      "                                                   \n",
      " 83%|████████▎ | 1095/1314 [05:14<00:43,  5.00it/s]Saving model checkpoint to ./model/run-34/checkpoint-1095\n",
      "Configuration saved in ./model/run-34/checkpoint-1095/config.json\n"
     ]
    },
    {
     "name": "stdout",
     "output_type": "stream",
     "text": [
      "{'eval_loss': 0.4091370701789856, 'eval_accuracy': 0.7027027027027027, 'eval_f1': 0.5416666666666666, 'eval_precision': 0.5416666666666666, 'eval_recall': 0.5416666666666666, 'eval_slot': 0.9169494371797005, 'eval_slot_accuracy': 0.8468468468468469, 'eval_runtime': 2.8509, 'eval_samples_per_second': 12.978, 'eval_steps_per_second': 6.665, 'epoch': 15.0}\n"
     ]
    },
    {
     "name": "stderr",
     "output_type": "stream",
     "text": [
      "Model weights saved in ./model/run-34/checkpoint-1095/pytorch_model.bin\n",
      " 89%|████████▉ | 1168/1314 [05:31<00:29,  5.01it/s]***** Running Evaluation *****\n",
      "  Num examples = 37\n",
      "  Batch size = 2\n",
      "/home/ppibot/anaconda3/envs/myenv/lib/python3.9/site-packages/sklearn/metrics/_classification.py:1334: UndefinedMetricWarning: Precision and F-score are ill-defined and being set to 0.0 in labels with no predicted samples. Use `zero_division` parameter to control this behavior.\n",
      "  _warn_prf(average, modifier, msg_start, len(result))\n",
      "/home/ppibot/anaconda3/envs/myenv/lib/python3.9/site-packages/sklearn/metrics/_classification.py:1334: UndefinedMetricWarning: Recall and F-score are ill-defined and being set to 0.0 in labels with no true samples. Use `zero_division` parameter to control this behavior.\n",
      "  _warn_prf(average, modifier, msg_start, len(result))\n",
      "                                                   \n",
      " 89%|████████▉ | 1168/1314 [05:34<00:29,  5.01it/s]Saving model checkpoint to ./model/run-34/checkpoint-1168\n",
      "Configuration saved in ./model/run-34/checkpoint-1168/config.json\n"
     ]
    },
    {
     "name": "stdout",
     "output_type": "stream",
     "text": [
      "{'eval_loss': 0.4351581931114197, 'eval_accuracy': 0.6756756756756757, 'eval_f1': 0.5102040816326531, 'eval_precision': 0.5102040816326531, 'eval_recall': 0.5102040816326531, 'eval_slot': 0.8899224101526734, 'eval_slot_accuracy': 0.8198198198198199, 'eval_runtime': 3.0689, 'eval_samples_per_second': 12.056, 'eval_steps_per_second': 6.191, 'epoch': 16.0}\n"
     ]
    },
    {
     "name": "stderr",
     "output_type": "stream",
     "text": [
      "Model weights saved in ./model/run-34/checkpoint-1168/pytorch_model.bin\n",
      " 94%|█████████▍| 1241/1314 [05:51<00:14,  5.01it/s]***** Running Evaluation *****\n",
      "  Num examples = 37\n",
      "  Batch size = 2\n",
      "/home/ppibot/anaconda3/envs/myenv/lib/python3.9/site-packages/sklearn/metrics/_classification.py:1334: UndefinedMetricWarning: Precision and F-score are ill-defined and being set to 0.0 in labels with no predicted samples. Use `zero_division` parameter to control this behavior.\n",
      "  _warn_prf(average, modifier, msg_start, len(result))\n",
      "/home/ppibot/anaconda3/envs/myenv/lib/python3.9/site-packages/sklearn/metrics/_classification.py:1334: UndefinedMetricWarning: Recall and F-score are ill-defined and being set to 0.0 in labels with no true samples. Use `zero_division` parameter to control this behavior.\n",
      "  _warn_prf(average, modifier, msg_start, len(result))\n",
      "                                                   \n",
      " 94%|█████████▍| 1241/1314 [05:54<00:14,  5.01it/s]Saving model checkpoint to ./model/run-34/checkpoint-1241\n",
      "Configuration saved in ./model/run-34/checkpoint-1241/config.json\n"
     ]
    },
    {
     "name": "stdout",
     "output_type": "stream",
     "text": [
      "{'eval_loss': 0.4531000554561615, 'eval_accuracy': 0.6756756756756757, 'eval_f1': 0.5102040816326531, 'eval_precision': 0.5102040816326531, 'eval_recall': 0.5102040816326531, 'eval_slot': 0.8785373987676619, 'eval_slot_accuracy': 0.8108108108108109, 'eval_runtime': 2.9202, 'eval_samples_per_second': 12.67, 'eval_steps_per_second': 6.506, 'epoch': 17.0}\n"
     ]
    },
    {
     "name": "stderr",
     "output_type": "stream",
     "text": [
      "Model weights saved in ./model/run-34/checkpoint-1241/pytorch_model.bin\n",
      "100%|██████████| 1314/1314 [06:11<00:00,  5.00it/s]***** Running Evaluation *****\n",
      "  Num examples = 37\n",
      "  Batch size = 2\n",
      "/home/ppibot/anaconda3/envs/myenv/lib/python3.9/site-packages/sklearn/metrics/_classification.py:1334: UndefinedMetricWarning: Precision and F-score are ill-defined and being set to 0.0 in labels with no predicted samples. Use `zero_division` parameter to control this behavior.\n",
      "  _warn_prf(average, modifier, msg_start, len(result))\n",
      "/home/ppibot/anaconda3/envs/myenv/lib/python3.9/site-packages/sklearn/metrics/_classification.py:1334: UndefinedMetricWarning: Recall and F-score are ill-defined and being set to 0.0 in labels with no true samples. Use `zero_division` parameter to control this behavior.\n",
      "  _warn_prf(average, modifier, msg_start, len(result))\n",
      "                                                   \n",
      "100%|██████████| 1314/1314 [06:14<00:00,  5.00it/s]Saving model checkpoint to ./model/run-34/checkpoint-1314\n",
      "Configuration saved in ./model/run-34/checkpoint-1314/config.json\n"
     ]
    },
    {
     "name": "stdout",
     "output_type": "stream",
     "text": [
      "{'eval_loss': 0.45427802205085754, 'eval_accuracy': 0.6756756756756757, 'eval_f1': 0.5102040816326531, 'eval_precision': 0.5102040816326531, 'eval_recall': 0.5102040816326531, 'eval_slot': 0.8785373987676619, 'eval_slot_accuracy': 0.8108108108108109, 'eval_runtime': 2.901, 'eval_samples_per_second': 12.754, 'eval_steps_per_second': 6.549, 'epoch': 18.0}\n"
     ]
    },
    {
     "name": "stderr",
     "output_type": "stream",
     "text": [
      "Model weights saved in ./model/run-34/checkpoint-1314/pytorch_model.bin\n",
      "\n",
      "\n",
      "Training completed. Do not forget to share your model on huggingface.co/models =)\n",
      "\n",
      "\n",
      "Loading best model from ./model/run-34/checkpoint-438 (score: 0.8468468468468469).\n",
      "100%|██████████| 1314/1314 [06:19<00:00,  3.47it/s]\n",
      "\u001b[32m[I 2023-06-11 20:05:09,607]\u001b[0m Trial 34 finished with value: 0.8108108108108109 and parameters: {'learning_rate': 8.472194019458251e-05, 'num_train_epochs': 18}. Best is trial 11 with value: 0.8558558558558559.\u001b[0m\n",
      "Trial: {'learning_rate': 8.304772343189622e-05, 'num_train_epochs': 13}\n"
     ]
    },
    {
     "name": "stdout",
     "output_type": "stream",
     "text": [
      "{'train_runtime': 379.1853, 'train_samples_per_second': 6.931, 'train_steps_per_second': 3.465, 'train_loss': 0.11540436254788751, 'epoch': 18.0}\n"
     ]
    },
    {
     "name": "stderr",
     "output_type": "stream",
     "text": [
      "loading configuration file config.json from cache at /home/ppibot/.cache/huggingface/hub/models--google--flan-t5-base/snapshots/c782cba52f8ea6a704240578055cf1c3fc2f2ca9/config.json\n",
      "Model config T5Config {\n",
      "  \"_name_or_path\": \"google/flan-t5-base\",\n",
      "  \"architectures\": [\n",
      "    \"T5ForConditionalGeneration\"\n",
      "  ],\n",
      "  \"d_ff\": 2048,\n",
      "  \"d_kv\": 64,\n",
      "  \"d_model\": 768,\n",
      "  \"decoder_start_token_id\": 0,\n",
      "  \"dense_act_fn\": \"gelu_new\",\n",
      "  \"dropout_rate\": 0.1,\n",
      "  \"eos_token_id\": 1,\n",
      "  \"feed_forward_proj\": \"gated-gelu\",\n",
      "  \"initializer_factor\": 1.0,\n",
      "  \"is_encoder_decoder\": true,\n",
      "  \"is_gated_act\": true,\n",
      "  \"layer_norm_epsilon\": 1e-06,\n",
      "  \"model_type\": \"t5\",\n",
      "  \"n_positions\": 512,\n",
      "  \"num_decoder_layers\": 12,\n",
      "  \"num_heads\": 12,\n",
      "  \"num_layers\": 12,\n",
      "  \"output_past\": true,\n",
      "  \"pad_token_id\": 0,\n",
      "  \"relative_attention_max_distance\": 128,\n",
      "  \"relative_attention_num_buckets\": 32,\n",
      "  \"task_specific_params\": {\n",
      "    \"summarization\": {\n",
      "      \"early_stopping\": true,\n",
      "      \"length_penalty\": 2.0,\n",
      "      \"max_length\": 200,\n",
      "      \"min_length\": 30,\n",
      "      \"no_repeat_ngram_size\": 3,\n",
      "      \"num_beams\": 4,\n",
      "      \"prefix\": \"summarize: \"\n",
      "    },\n",
      "    \"translation_en_to_de\": {\n",
      "      \"early_stopping\": true,\n",
      "      \"max_length\": 300,\n",
      "      \"num_beams\": 4,\n",
      "      \"prefix\": \"translate English to German: \"\n",
      "    },\n",
      "    \"translation_en_to_fr\": {\n",
      "      \"early_stopping\": true,\n",
      "      \"max_length\": 300,\n",
      "      \"num_beams\": 4,\n",
      "      \"prefix\": \"translate English to French: \"\n",
      "    },\n",
      "    \"translation_en_to_ro\": {\n",
      "      \"early_stopping\": true,\n",
      "      \"max_length\": 300,\n",
      "      \"num_beams\": 4,\n",
      "      \"prefix\": \"translate English to Romanian: \"\n",
      "    }\n",
      "  },\n",
      "  \"tie_word_embeddings\": false,\n",
      "  \"transformers_version\": \"4.24.0\",\n",
      "  \"use_cache\": true,\n",
      "  \"vocab_size\": 32128\n",
      "}\n",
      "\n",
      "loading weights file pytorch_model.bin from cache at /home/ppibot/.cache/huggingface/hub/models--google--flan-t5-base/snapshots/c782cba52f8ea6a704240578055cf1c3fc2f2ca9/pytorch_model.bin\n",
      "All model checkpoint weights were used when initializing T5ForConditionalGeneration.\n",
      "\n",
      "All the weights of T5ForConditionalGeneration were initialized from the model checkpoint at google/flan-t5-base.\n",
      "If your task is similar to the task the model of the checkpoint was trained on, you can already use T5ForConditionalGeneration for predictions without further training.\n",
      "/home/ppibot/anaconda3/envs/myenv/lib/python3.9/site-packages/transformers/optimization.py:306: FutureWarning: This implementation of AdamW is deprecated and will be removed in a future version. Use the PyTorch implementation torch.optim.AdamW instead, or set `no_deprecation_warning=True` to disable this warning\n",
      "  warnings.warn(\n",
      "***** Running training *****\n",
      "  Num examples = 146\n",
      "  Num Epochs = 13\n",
      "  Instantaneous batch size per device = 2\n",
      "  Total train batch size (w. parallel, distributed & accumulation) = 2\n",
      "  Gradient Accumulation steps = 1\n",
      "  Total optimization steps = 949\n",
      "  Number of trainable parameters = 247577856\n",
      "  8%|▊         | 73/949 [00:14<02:54,  5.03it/s]***** Running Evaluation *****\n",
      "  Num examples = 37\n",
      "  Batch size = 2\n",
      "/home/ppibot/anaconda3/envs/myenv/lib/python3.9/site-packages/sklearn/metrics/_classification.py:1334: UndefinedMetricWarning: Precision and F-score are ill-defined and being set to 0.0 in labels with no predicted samples. Use `zero_division` parameter to control this behavior.\n",
      "  _warn_prf(average, modifier, msg_start, len(result))\n",
      "/home/ppibot/anaconda3/envs/myenv/lib/python3.9/site-packages/sklearn/metrics/_classification.py:1334: UndefinedMetricWarning: Recall and F-score are ill-defined and being set to 0.0 in labels with no true samples. Use `zero_division` parameter to control this behavior.\n",
      "  _warn_prf(average, modifier, msg_start, len(result))\n",
      "                                                \n",
      "  8%|▊         | 73/949 [00:17<02:54,  5.03it/s]Saving model checkpoint to ./model/run-35/checkpoint-73\n",
      "Configuration saved in ./model/run-35/checkpoint-73/config.json\n"
     ]
    },
    {
     "name": "stdout",
     "output_type": "stream",
     "text": [
      "{'eval_loss': 0.38863325119018555, 'eval_accuracy': 0.40540540540540543, 'eval_f1': 0.2542372881355932, 'eval_precision': 0.2542372881355932, 'eval_recall': 0.2542372881355932, 'eval_slot': 0.7424634098332612, 'eval_slot_accuracy': 0.6486486486486487, 'eval_runtime': 2.9128, 'eval_samples_per_second': 12.703, 'eval_steps_per_second': 6.523, 'epoch': 1.0}\n"
     ]
    },
    {
     "name": "stderr",
     "output_type": "stream",
     "text": [
      "Model weights saved in ./model/run-35/checkpoint-73/pytorch_model.bin\n",
      " 15%|█▌        | 146/949 [00:36<02:39,  5.04it/s]***** Running Evaluation *****\n",
      "  Num examples = 37\n",
      "  Batch size = 2\n",
      "/home/ppibot/anaconda3/envs/myenv/lib/python3.9/site-packages/sklearn/metrics/_classification.py:1334: UndefinedMetricWarning: Precision and F-score are ill-defined and being set to 0.0 in labels with no predicted samples. Use `zero_division` parameter to control this behavior.\n",
      "  _warn_prf(average, modifier, msg_start, len(result))\n",
      "/home/ppibot/anaconda3/envs/myenv/lib/python3.9/site-packages/sklearn/metrics/_classification.py:1334: UndefinedMetricWarning: Recall and F-score are ill-defined and being set to 0.0 in labels with no true samples. Use `zero_division` parameter to control this behavior.\n",
      "  _warn_prf(average, modifier, msg_start, len(result))\n",
      "                                                 \n",
      " 15%|█▌        | 146/949 [00:39<02:39,  5.04it/s]Saving model checkpoint to ./model/run-35/checkpoint-146\n",
      "Configuration saved in ./model/run-35/checkpoint-146/config.json\n"
     ]
    },
    {
     "name": "stdout",
     "output_type": "stream",
     "text": [
      "{'eval_loss': 0.33998528122901917, 'eval_accuracy': 0.4594594594594595, 'eval_f1': 0.2982456140350877, 'eval_precision': 0.2982456140350877, 'eval_recall': 0.2982456140350877, 'eval_slot': 0.7581191515028389, 'eval_slot_accuracy': 0.6891891891891891, 'eval_runtime': 2.8619, 'eval_samples_per_second': 12.928, 'eval_steps_per_second': 6.639, 'epoch': 2.0}\n"
     ]
    },
    {
     "name": "stderr",
     "output_type": "stream",
     "text": [
      "Model weights saved in ./model/run-35/checkpoint-146/pytorch_model.bin\n",
      " 23%|██▎       | 219/949 [01:01<02:24,  5.05it/s]***** Running Evaluation *****\n",
      "  Num examples = 37\n",
      "  Batch size = 2\n",
      "/home/ppibot/anaconda3/envs/myenv/lib/python3.9/site-packages/sklearn/metrics/_classification.py:1334: UndefinedMetricWarning: Precision and F-score are ill-defined and being set to 0.0 in labels with no predicted samples. Use `zero_division` parameter to control this behavior.\n",
      "  _warn_prf(average, modifier, msg_start, len(result))\n",
      "/home/ppibot/anaconda3/envs/myenv/lib/python3.9/site-packages/sklearn/metrics/_classification.py:1334: UndefinedMetricWarning: Recall and F-score are ill-defined and being set to 0.0 in labels with no true samples. Use `zero_division` parameter to control this behavior.\n",
      "  _warn_prf(average, modifier, msg_start, len(result))\n",
      "                                                 \n",
      " 23%|██▎       | 219/949 [01:04<02:24,  5.05it/s]Saving model checkpoint to ./model/run-35/checkpoint-219\n",
      "Configuration saved in ./model/run-35/checkpoint-219/config.json\n"
     ]
    },
    {
     "name": "stdout",
     "output_type": "stream",
     "text": [
      "{'eval_loss': 0.29645243287086487, 'eval_accuracy': 0.6216216216216216, 'eval_f1': 0.45098039215686275, 'eval_precision': 0.45098039215686275, 'eval_recall': 0.45098039215686275, 'eval_slot': 0.8562459567847498, 'eval_slot_accuracy': 0.8018018018018017, 'eval_runtime': 2.9594, 'eval_samples_per_second': 12.503, 'eval_steps_per_second': 6.42, 'epoch': 3.0}\n"
     ]
    },
    {
     "name": "stderr",
     "output_type": "stream",
     "text": [
      "Model weights saved in ./model/run-35/checkpoint-219/pytorch_model.bin\n",
      " 31%|███       | 292/949 [01:24<02:10,  5.04it/s]***** Running Evaluation *****\n",
      "  Num examples = 37\n",
      "  Batch size = 2\n",
      "/home/ppibot/anaconda3/envs/myenv/lib/python3.9/site-packages/sklearn/metrics/_classification.py:1334: UndefinedMetricWarning: Precision and F-score are ill-defined and being set to 0.0 in labels with no predicted samples. Use `zero_division` parameter to control this behavior.\n",
      "  _warn_prf(average, modifier, msg_start, len(result))\n",
      "/home/ppibot/anaconda3/envs/myenv/lib/python3.9/site-packages/sklearn/metrics/_classification.py:1334: UndefinedMetricWarning: Recall and F-score are ill-defined and being set to 0.0 in labels with no true samples. Use `zero_division` parameter to control this behavior.\n",
      "  _warn_prf(average, modifier, msg_start, len(result))\n",
      "                                                 \n",
      " 31%|███       | 292/949 [01:27<02:10,  5.04it/s]Saving model checkpoint to ./model/run-35/checkpoint-292\n",
      "Configuration saved in ./model/run-35/checkpoint-292/config.json\n"
     ]
    },
    {
     "name": "stdout",
     "output_type": "stream",
     "text": [
      "{'eval_loss': 0.34034889936447144, 'eval_accuracy': 0.5675675675675675, 'eval_f1': 0.39622641509433965, 'eval_precision': 0.39622641509433965, 'eval_recall': 0.39622641509433965, 'eval_slot': 0.8413252221252004, 'eval_slot_accuracy': 0.7522522522522522, 'eval_runtime': 2.9956, 'eval_samples_per_second': 12.352, 'eval_steps_per_second': 6.343, 'epoch': 4.0}\n"
     ]
    },
    {
     "name": "stderr",
     "output_type": "stream",
     "text": [
      "Model weights saved in ./model/run-35/checkpoint-292/pytorch_model.bin\n",
      " 38%|███▊      | 365/949 [01:45<01:56,  5.00it/s]***** Running Evaluation *****\n",
      "  Num examples = 37\n",
      "  Batch size = 2\n",
      "/home/ppibot/anaconda3/envs/myenv/lib/python3.9/site-packages/sklearn/metrics/_classification.py:1334: UndefinedMetricWarning: Precision and F-score are ill-defined and being set to 0.0 in labels with no predicted samples. Use `zero_division` parameter to control this behavior.\n",
      "  _warn_prf(average, modifier, msg_start, len(result))\n",
      "/home/ppibot/anaconda3/envs/myenv/lib/python3.9/site-packages/sklearn/metrics/_classification.py:1334: UndefinedMetricWarning: Recall and F-score are ill-defined and being set to 0.0 in labels with no true samples. Use `zero_division` parameter to control this behavior.\n",
      "  _warn_prf(average, modifier, msg_start, len(result))\n",
      "                                                 \n",
      " 38%|███▊      | 365/949 [01:48<01:56,  5.00it/s]Saving model checkpoint to ./model/run-35/checkpoint-365\n",
      "Configuration saved in ./model/run-35/checkpoint-365/config.json\n"
     ]
    },
    {
     "name": "stdout",
     "output_type": "stream",
     "text": [
      "{'eval_loss': 0.4085076153278351, 'eval_accuracy': 0.6216216216216216, 'eval_f1': 0.45098039215686275, 'eval_precision': 0.45098039215686275, 'eval_recall': 0.45098039215686275, 'eval_slot': 0.8518321220623851, 'eval_slot_accuracy': 0.7972972972972973, 'eval_runtime': 3.0039, 'eval_samples_per_second': 12.317, 'eval_steps_per_second': 6.325, 'epoch': 5.0}\n"
     ]
    },
    {
     "name": "stderr",
     "output_type": "stream",
     "text": [
      "Model weights saved in ./model/run-35/checkpoint-365/pytorch_model.bin\n",
      " 46%|████▌     | 438/949 [02:05<01:41,  5.02it/s]***** Running Evaluation *****\n",
      "  Num examples = 37\n",
      "  Batch size = 2\n",
      "/home/ppibot/anaconda3/envs/myenv/lib/python3.9/site-packages/sklearn/metrics/_classification.py:1334: UndefinedMetricWarning: Precision and F-score are ill-defined and being set to 0.0 in labels with no predicted samples. Use `zero_division` parameter to control this behavior.\n",
      "  _warn_prf(average, modifier, msg_start, len(result))\n",
      "/home/ppibot/anaconda3/envs/myenv/lib/python3.9/site-packages/sklearn/metrics/_classification.py:1334: UndefinedMetricWarning: Recall and F-score are ill-defined and being set to 0.0 in labels with no true samples. Use `zero_division` parameter to control this behavior.\n",
      "  _warn_prf(average, modifier, msg_start, len(result))\n",
      "                                                 \n",
      " 46%|████▌     | 438/949 [02:08<01:41,  5.02it/s]Saving model checkpoint to ./model/run-35/checkpoint-438\n",
      "Configuration saved in ./model/run-35/checkpoint-438/config.json\n"
     ]
    },
    {
     "name": "stdout",
     "output_type": "stream",
     "text": [
      "{'eval_loss': 0.3856079876422882, 'eval_accuracy': 0.6486486486486487, 'eval_f1': 0.48, 'eval_precision': 0.48, 'eval_recall': 0.48, 'eval_slot': 0.908528428758692, 'eval_slot_accuracy': 0.8378378378378378, 'eval_runtime': 3.0289, 'eval_samples_per_second': 12.216, 'eval_steps_per_second': 6.273, 'epoch': 6.0}\n"
     ]
    },
    {
     "name": "stderr",
     "output_type": "stream",
     "text": [
      "Model weights saved in ./model/run-35/checkpoint-438/pytorch_model.bin\n",
      " 53%|█████▎    | 501/949 [02:24<01:29,  5.00it/s]"
     ]
    },
    {
     "name": "stdout",
     "output_type": "stream",
     "text": [
      "{'loss': 0.2769, 'learning_rate': 3.929233700834711e-05, 'epoch': 6.85}\n"
     ]
    },
    {
     "name": "stderr",
     "output_type": "stream",
     "text": [
      " 54%|█████▍    | 511/949 [02:26<01:27,  5.03it/s]***** Running Evaluation *****\n",
      "  Num examples = 37\n",
      "  Batch size = 2\n",
      "/home/ppibot/anaconda3/envs/myenv/lib/python3.9/site-packages/sklearn/metrics/_classification.py:1334: UndefinedMetricWarning: Precision and F-score are ill-defined and being set to 0.0 in labels with no predicted samples. Use `zero_division` parameter to control this behavior.\n",
      "  _warn_prf(average, modifier, msg_start, len(result))\n",
      "/home/ppibot/anaconda3/envs/myenv/lib/python3.9/site-packages/sklearn/metrics/_classification.py:1334: UndefinedMetricWarning: Recall and F-score are ill-defined and being set to 0.0 in labels with no true samples. Use `zero_division` parameter to control this behavior.\n",
      "  _warn_prf(average, modifier, msg_start, len(result))\n",
      "                                                 \n",
      " 54%|█████▍    | 511/949 [02:29<01:27,  5.03it/s]Saving model checkpoint to ./model/run-35/checkpoint-511\n",
      "Configuration saved in ./model/run-35/checkpoint-511/config.json\n"
     ]
    },
    {
     "name": "stdout",
     "output_type": "stream",
     "text": [
      "{'eval_loss': 0.4127533435821533, 'eval_accuracy': 0.6216216216216216, 'eval_f1': 0.45098039215686275, 'eval_precision': 0.45098039215686275, 'eval_recall': 0.45098039215686275, 'eval_slot': 0.8650609352911987, 'eval_slot_accuracy': 0.7972972972972973, 'eval_runtime': 2.945, 'eval_samples_per_second': 12.564, 'eval_steps_per_second': 6.452, 'epoch': 7.0}\n"
     ]
    },
    {
     "name": "stderr",
     "output_type": "stream",
     "text": [
      "Model weights saved in ./model/run-35/checkpoint-511/pytorch_model.bin\n",
      " 62%|██████▏   | 584/949 [02:49<01:12,  5.02it/s]***** Running Evaluation *****\n",
      "  Num examples = 37\n",
      "  Batch size = 2\n",
      "/home/ppibot/anaconda3/envs/myenv/lib/python3.9/site-packages/sklearn/metrics/_classification.py:1334: UndefinedMetricWarning: Precision and F-score are ill-defined and being set to 0.0 in labels with no predicted samples. Use `zero_division` parameter to control this behavior.\n",
      "  _warn_prf(average, modifier, msg_start, len(result))\n",
      "/home/ppibot/anaconda3/envs/myenv/lib/python3.9/site-packages/sklearn/metrics/_classification.py:1334: UndefinedMetricWarning: Recall and F-score are ill-defined and being set to 0.0 in labels with no true samples. Use `zero_division` parameter to control this behavior.\n",
      "  _warn_prf(average, modifier, msg_start, len(result))\n",
      "                                                 \n",
      " 62%|██████▏   | 584/949 [02:52<01:12,  5.02it/s]Saving model checkpoint to ./model/run-35/checkpoint-584\n",
      "Configuration saved in ./model/run-35/checkpoint-584/config.json\n"
     ]
    },
    {
     "name": "stdout",
     "output_type": "stream",
     "text": [
      "{'eval_loss': 0.43494874238967896, 'eval_accuracy': 0.6216216216216216, 'eval_f1': 0.45098039215686275, 'eval_precision': 0.45098039215686275, 'eval_recall': 0.45098039215686275, 'eval_slot': 0.8763221965524598, 'eval_slot_accuracy': 0.7972972972972973, 'eval_runtime': 2.9202, 'eval_samples_per_second': 12.67, 'eval_steps_per_second': 6.506, 'epoch': 8.0}\n"
     ]
    },
    {
     "name": "stderr",
     "output_type": "stream",
     "text": [
      "Model weights saved in ./model/run-35/checkpoint-584/pytorch_model.bin\n",
      " 69%|██████▉   | 657/949 [03:25<00:57,  5.04it/s]***** Running Evaluation *****\n",
      "  Num examples = 37\n",
      "  Batch size = 2\n",
      "/home/ppibot/anaconda3/envs/myenv/lib/python3.9/site-packages/sklearn/metrics/_classification.py:1334: UndefinedMetricWarning: Precision and F-score are ill-defined and being set to 0.0 in labels with no predicted samples. Use `zero_division` parameter to control this behavior.\n",
      "  _warn_prf(average, modifier, msg_start, len(result))\n",
      "/home/ppibot/anaconda3/envs/myenv/lib/python3.9/site-packages/sklearn/metrics/_classification.py:1334: UndefinedMetricWarning: Recall and F-score are ill-defined and being set to 0.0 in labels with no true samples. Use `zero_division` parameter to control this behavior.\n",
      "  _warn_prf(average, modifier, msg_start, len(result))\n",
      "                                                 \n",
      " 69%|██████▉   | 657/949 [03:28<00:57,  5.04it/s]Saving model checkpoint to ./model/run-35/checkpoint-657\n",
      "Configuration saved in ./model/run-35/checkpoint-657/config.json\n"
     ]
    },
    {
     "name": "stdout",
     "output_type": "stream",
     "text": [
      "{'eval_loss': 0.4373469054698944, 'eval_accuracy': 0.6486486486486487, 'eval_f1': 0.48, 'eval_precision': 0.48, 'eval_recall': 0.48, 'eval_slot': 0.8717806420109052, 'eval_slot_accuracy': 0.7972972972972973, 'eval_runtime': 3.0779, 'eval_samples_per_second': 12.021, 'eval_steps_per_second': 6.173, 'epoch': 9.0}\n"
     ]
    },
    {
     "name": "stderr",
     "output_type": "stream",
     "text": [
      "Model weights saved in ./model/run-35/checkpoint-657/pytorch_model.bin\n",
      " 77%|███████▋  | 730/949 [03:45<00:43,  5.04it/s]***** Running Evaluation *****\n",
      "  Num examples = 37\n",
      "  Batch size = 2\n",
      "/home/ppibot/anaconda3/envs/myenv/lib/python3.9/site-packages/sklearn/metrics/_classification.py:1334: UndefinedMetricWarning: Precision and F-score are ill-defined and being set to 0.0 in labels with no predicted samples. Use `zero_division` parameter to control this behavior.\n",
      "  _warn_prf(average, modifier, msg_start, len(result))\n",
      "/home/ppibot/anaconda3/envs/myenv/lib/python3.9/site-packages/sklearn/metrics/_classification.py:1334: UndefinedMetricWarning: Recall and F-score are ill-defined and being set to 0.0 in labels with no true samples. Use `zero_division` parameter to control this behavior.\n",
      "  _warn_prf(average, modifier, msg_start, len(result))\n",
      "                                                 \n",
      " 77%|███████▋  | 730/949 [03:48<00:43,  5.04it/s]Saving model checkpoint to ./model/run-35/checkpoint-730\n",
      "Configuration saved in ./model/run-35/checkpoint-730/config.json\n"
     ]
    },
    {
     "name": "stdout",
     "output_type": "stream",
     "text": [
      "{'eval_loss': 0.49347084760665894, 'eval_accuracy': 0.6486486486486487, 'eval_f1': 0.48, 'eval_precision': 0.48, 'eval_recall': 0.48, 'eval_slot': 0.8717806420109052, 'eval_slot_accuracy': 0.7972972972972973, 'eval_runtime': 2.9421, 'eval_samples_per_second': 12.576, 'eval_steps_per_second': 6.458, 'epoch': 10.0}\n"
     ]
    },
    {
     "name": "stderr",
     "output_type": "stream",
     "text": [
      "Model weights saved in ./model/run-35/checkpoint-730/pytorch_model.bin\n",
      " 85%|████████▍ | 803/949 [04:05<00:28,  5.04it/s]***** Running Evaluation *****\n",
      "  Num examples = 37\n",
      "  Batch size = 2\n",
      "/home/ppibot/anaconda3/envs/myenv/lib/python3.9/site-packages/sklearn/metrics/_classification.py:1334: UndefinedMetricWarning: Precision and F-score are ill-defined and being set to 0.0 in labels with no predicted samples. Use `zero_division` parameter to control this behavior.\n",
      "  _warn_prf(average, modifier, msg_start, len(result))\n",
      "/home/ppibot/anaconda3/envs/myenv/lib/python3.9/site-packages/sklearn/metrics/_classification.py:1334: UndefinedMetricWarning: Recall and F-score are ill-defined and being set to 0.0 in labels with no true samples. Use `zero_division` parameter to control this behavior.\n",
      "  _warn_prf(average, modifier, msg_start, len(result))\n",
      "                                                 \n",
      " 85%|████████▍ | 803/949 [04:08<00:28,  5.04it/s]Saving model checkpoint to ./model/run-35/checkpoint-803\n",
      "Configuration saved in ./model/run-35/checkpoint-803/config.json\n"
     ]
    },
    {
     "name": "stdout",
     "output_type": "stream",
     "text": [
      "{'eval_loss': 0.47623303532600403, 'eval_accuracy': 0.6486486486486487, 'eval_f1': 0.48, 'eval_precision': 0.48, 'eval_recall': 0.48, 'eval_slot': 0.8717806420109052, 'eval_slot_accuracy': 0.7972972972972973, 'eval_runtime': 2.9113, 'eval_samples_per_second': 12.709, 'eval_steps_per_second': 6.526, 'epoch': 11.0}\n"
     ]
    },
    {
     "name": "stderr",
     "output_type": "stream",
     "text": [
      "Model weights saved in ./model/run-35/checkpoint-803/pytorch_model.bin\n",
      " 92%|█████████▏| 876/949 [04:25<00:14,  5.02it/s]***** Running Evaluation *****\n",
      "  Num examples = 37\n",
      "  Batch size = 2\n",
      "/home/ppibot/anaconda3/envs/myenv/lib/python3.9/site-packages/sklearn/metrics/_classification.py:1334: UndefinedMetricWarning: Precision and F-score are ill-defined and being set to 0.0 in labels with no predicted samples. Use `zero_division` parameter to control this behavior.\n",
      "  _warn_prf(average, modifier, msg_start, len(result))\n",
      "/home/ppibot/anaconda3/envs/myenv/lib/python3.9/site-packages/sklearn/metrics/_classification.py:1334: UndefinedMetricWarning: Recall and F-score are ill-defined and being set to 0.0 in labels with no true samples. Use `zero_division` parameter to control this behavior.\n",
      "  _warn_prf(average, modifier, msg_start, len(result))\n",
      "                                                 \n",
      " 92%|█████████▏| 876/949 [04:28<00:14,  5.02it/s]Saving model checkpoint to ./model/run-35/checkpoint-876\n",
      "Configuration saved in ./model/run-35/checkpoint-876/config.json\n"
     ]
    },
    {
     "name": "stdout",
     "output_type": "stream",
     "text": [
      "{'eval_loss': 0.46541905403137207, 'eval_accuracy': 0.6756756756756757, 'eval_f1': 0.5102040816326531, 'eval_precision': 0.5102040816326531, 'eval_recall': 0.5102040816326531, 'eval_slot': 0.8717806420109052, 'eval_slot_accuracy': 0.7972972972972973, 'eval_runtime': 3.0365, 'eval_samples_per_second': 12.185, 'eval_steps_per_second': 6.257, 'epoch': 12.0}\n"
     ]
    },
    {
     "name": "stderr",
     "output_type": "stream",
     "text": [
      "Model weights saved in ./model/run-35/checkpoint-876/pytorch_model.bin\n",
      "100%|██████████| 949/949 [04:45<00:00,  5.04it/s]***** Running Evaluation *****\n",
      "  Num examples = 37\n",
      "  Batch size = 2\n",
      "/home/ppibot/anaconda3/envs/myenv/lib/python3.9/site-packages/sklearn/metrics/_classification.py:1334: UndefinedMetricWarning: Precision and F-score are ill-defined and being set to 0.0 in labels with no predicted samples. Use `zero_division` parameter to control this behavior.\n",
      "  _warn_prf(average, modifier, msg_start, len(result))\n",
      "/home/ppibot/anaconda3/envs/myenv/lib/python3.9/site-packages/sklearn/metrics/_classification.py:1334: UndefinedMetricWarning: Recall and F-score are ill-defined and being set to 0.0 in labels with no true samples. Use `zero_division` parameter to control this behavior.\n",
      "  _warn_prf(average, modifier, msg_start, len(result))\n",
      "                                                 \n",
      "100%|██████████| 949/949 [04:48<00:00,  5.04it/s]Saving model checkpoint to ./model/run-35/checkpoint-949\n",
      "Configuration saved in ./model/run-35/checkpoint-949/config.json\n"
     ]
    },
    {
     "name": "stdout",
     "output_type": "stream",
     "text": [
      "{'eval_loss': 0.4718291759490967, 'eval_accuracy': 0.6486486486486487, 'eval_f1': 0.48, 'eval_precision': 0.48, 'eval_recall': 0.48, 'eval_slot': 0.8717806420109052, 'eval_slot_accuracy': 0.7972972972972973, 'eval_runtime': 2.9958, 'eval_samples_per_second': 12.351, 'eval_steps_per_second': 6.342, 'epoch': 13.0}\n"
     ]
    },
    {
     "name": "stderr",
     "output_type": "stream",
     "text": [
      "Model weights saved in ./model/run-35/checkpoint-949/pytorch_model.bin\n",
      "\n",
      "\n",
      "Training completed. Do not forget to share your model on huggingface.co/models =)\n",
      "\n",
      "\n",
      "Loading best model from ./model/run-35/checkpoint-438 (score: 0.8378378378378378).\n",
      "100%|██████████| 949/949 [04:51<00:00,  3.25it/s]\n",
      "\u001b[32m[I 2023-06-11 20:10:03,566]\u001b[0m Trial 35 finished with value: 0.7972972972972973 and parameters: {'learning_rate': 8.304772343189622e-05, 'num_train_epochs': 13}. Best is trial 11 with value: 0.8558558558558559.\u001b[0m\n",
      "Trial: {'learning_rate': 9.974606006684801e-05, 'num_train_epochs': 18}\n"
     ]
    },
    {
     "name": "stdout",
     "output_type": "stream",
     "text": [
      "{'train_runtime': 291.6819, 'train_samples_per_second': 6.507, 'train_steps_per_second': 3.254, 'train_loss': 0.15728687611972822, 'epoch': 13.0}\n"
     ]
    },
    {
     "name": "stderr",
     "output_type": "stream",
     "text": [
      "loading configuration file config.json from cache at /home/ppibot/.cache/huggingface/hub/models--google--flan-t5-base/snapshots/c782cba52f8ea6a704240578055cf1c3fc2f2ca9/config.json\n",
      "Model config T5Config {\n",
      "  \"_name_or_path\": \"google/flan-t5-base\",\n",
      "  \"architectures\": [\n",
      "    \"T5ForConditionalGeneration\"\n",
      "  ],\n",
      "  \"d_ff\": 2048,\n",
      "  \"d_kv\": 64,\n",
      "  \"d_model\": 768,\n",
      "  \"decoder_start_token_id\": 0,\n",
      "  \"dense_act_fn\": \"gelu_new\",\n",
      "  \"dropout_rate\": 0.1,\n",
      "  \"eos_token_id\": 1,\n",
      "  \"feed_forward_proj\": \"gated-gelu\",\n",
      "  \"initializer_factor\": 1.0,\n",
      "  \"is_encoder_decoder\": true,\n",
      "  \"is_gated_act\": true,\n",
      "  \"layer_norm_epsilon\": 1e-06,\n",
      "  \"model_type\": \"t5\",\n",
      "  \"n_positions\": 512,\n",
      "  \"num_decoder_layers\": 12,\n",
      "  \"num_heads\": 12,\n",
      "  \"num_layers\": 12,\n",
      "  \"output_past\": true,\n",
      "  \"pad_token_id\": 0,\n",
      "  \"relative_attention_max_distance\": 128,\n",
      "  \"relative_attention_num_buckets\": 32,\n",
      "  \"task_specific_params\": {\n",
      "    \"summarization\": {\n",
      "      \"early_stopping\": true,\n",
      "      \"length_penalty\": 2.0,\n",
      "      \"max_length\": 200,\n",
      "      \"min_length\": 30,\n",
      "      \"no_repeat_ngram_size\": 3,\n",
      "      \"num_beams\": 4,\n",
      "      \"prefix\": \"summarize: \"\n",
      "    },\n",
      "    \"translation_en_to_de\": {\n",
      "      \"early_stopping\": true,\n",
      "      \"max_length\": 300,\n",
      "      \"num_beams\": 4,\n",
      "      \"prefix\": \"translate English to German: \"\n",
      "    },\n",
      "    \"translation_en_to_fr\": {\n",
      "      \"early_stopping\": true,\n",
      "      \"max_length\": 300,\n",
      "      \"num_beams\": 4,\n",
      "      \"prefix\": \"translate English to French: \"\n",
      "    },\n",
      "    \"translation_en_to_ro\": {\n",
      "      \"early_stopping\": true,\n",
      "      \"max_length\": 300,\n",
      "      \"num_beams\": 4,\n",
      "      \"prefix\": \"translate English to Romanian: \"\n",
      "    }\n",
      "  },\n",
      "  \"tie_word_embeddings\": false,\n",
      "  \"transformers_version\": \"4.24.0\",\n",
      "  \"use_cache\": true,\n",
      "  \"vocab_size\": 32128\n",
      "}\n",
      "\n",
      "loading weights file pytorch_model.bin from cache at /home/ppibot/.cache/huggingface/hub/models--google--flan-t5-base/snapshots/c782cba52f8ea6a704240578055cf1c3fc2f2ca9/pytorch_model.bin\n",
      "All model checkpoint weights were used when initializing T5ForConditionalGeneration.\n",
      "\n",
      "All the weights of T5ForConditionalGeneration were initialized from the model checkpoint at google/flan-t5-base.\n",
      "If your task is similar to the task the model of the checkpoint was trained on, you can already use T5ForConditionalGeneration for predictions without further training.\n",
      "/home/ppibot/anaconda3/envs/myenv/lib/python3.9/site-packages/transformers/optimization.py:306: FutureWarning: This implementation of AdamW is deprecated and will be removed in a future version. Use the PyTorch implementation torch.optim.AdamW instead, or set `no_deprecation_warning=True` to disable this warning\n",
      "  warnings.warn(\n",
      "***** Running training *****\n",
      "  Num examples = 146\n",
      "  Num Epochs = 18\n",
      "  Instantaneous batch size per device = 2\n",
      "  Total train batch size (w. parallel, distributed & accumulation) = 2\n",
      "  Gradient Accumulation steps = 1\n",
      "  Total optimization steps = 1314\n",
      "  Number of trainable parameters = 247577856\n",
      "  6%|▌         | 73/1314 [00:14<04:06,  5.03it/s]***** Running Evaluation *****\n",
      "  Num examples = 37\n",
      "  Batch size = 2\n",
      "/home/ppibot/anaconda3/envs/myenv/lib/python3.9/site-packages/sklearn/metrics/_classification.py:1334: UndefinedMetricWarning: Precision and F-score are ill-defined and being set to 0.0 in labels with no predicted samples. Use `zero_division` parameter to control this behavior.\n",
      "  _warn_prf(average, modifier, msg_start, len(result))\n",
      "/home/ppibot/anaconda3/envs/myenv/lib/python3.9/site-packages/sklearn/metrics/_classification.py:1334: UndefinedMetricWarning: Recall and F-score are ill-defined and being set to 0.0 in labels with no true samples. Use `zero_division` parameter to control this behavior.\n",
      "  _warn_prf(average, modifier, msg_start, len(result))\n",
      "                                                 \n",
      "  6%|▌         | 73/1314 [00:17<04:06,  5.03it/s]Saving model checkpoint to ./model/run-36/checkpoint-73\n",
      "Configuration saved in ./model/run-36/checkpoint-73/config.json\n"
     ]
    },
    {
     "name": "stdout",
     "output_type": "stream",
     "text": [
      "{'eval_loss': 0.35808420181274414, 'eval_accuracy': 0.43243243243243246, 'eval_f1': 0.27586206896551724, 'eval_precision': 0.27586206896551724, 'eval_recall': 0.27586206896551724, 'eval_slot': 0.7590475264173777, 'eval_slot_accuracy': 0.6756756756756757, 'eval_runtime': 2.9706, 'eval_samples_per_second': 12.456, 'eval_steps_per_second': 6.396, 'epoch': 1.0}\n"
     ]
    },
    {
     "name": "stderr",
     "output_type": "stream",
     "text": [
      "Model weights saved in ./model/run-36/checkpoint-73/pytorch_model.bin\n",
      " 11%|█         | 146/1314 [00:34<03:51,  5.04it/s]***** Running Evaluation *****\n",
      "  Num examples = 37\n",
      "  Batch size = 2\n",
      "/home/ppibot/anaconda3/envs/myenv/lib/python3.9/site-packages/sklearn/metrics/_classification.py:1334: UndefinedMetricWarning: Precision and F-score are ill-defined and being set to 0.0 in labels with no predicted samples. Use `zero_division` parameter to control this behavior.\n",
      "  _warn_prf(average, modifier, msg_start, len(result))\n",
      "/home/ppibot/anaconda3/envs/myenv/lib/python3.9/site-packages/sklearn/metrics/_classification.py:1334: UndefinedMetricWarning: Recall and F-score are ill-defined and being set to 0.0 in labels with no true samples. Use `zero_division` parameter to control this behavior.\n",
      "  _warn_prf(average, modifier, msg_start, len(result))\n",
      "                                                  \n",
      " 11%|█         | 146/1314 [00:37<04:59,  3.91it/s]\n",
      "\u001b[32m[I 2023-06-11 20:10:42,669]\u001b[0m Trial 36 pruned. \u001b[0m\n",
      "Trial: {'learning_rate': 6.166611996525836e-05, 'num_train_epochs': 17}\n"
     ]
    },
    {
     "name": "stdout",
     "output_type": "stream",
     "text": [
      "{'eval_loss': 0.35545727610588074, 'eval_accuracy': 0.4594594594594595, 'eval_f1': 0.2982456140350877, 'eval_precision': 0.2982456140350877, 'eval_recall': 0.2982456140350877, 'eval_slot': 0.7307352283328449, 'eval_slot_accuracy': 0.6756756756756755, 'eval_runtime': 2.9004, 'eval_samples_per_second': 12.757, 'eval_steps_per_second': 6.551, 'epoch': 2.0}\n"
     ]
    },
    {
     "name": "stderr",
     "output_type": "stream",
     "text": [
      "loading configuration file config.json from cache at /home/ppibot/.cache/huggingface/hub/models--google--flan-t5-base/snapshots/c782cba52f8ea6a704240578055cf1c3fc2f2ca9/config.json\n",
      "Model config T5Config {\n",
      "  \"_name_or_path\": \"google/flan-t5-base\",\n",
      "  \"architectures\": [\n",
      "    \"T5ForConditionalGeneration\"\n",
      "  ],\n",
      "  \"d_ff\": 2048,\n",
      "  \"d_kv\": 64,\n",
      "  \"d_model\": 768,\n",
      "  \"decoder_start_token_id\": 0,\n",
      "  \"dense_act_fn\": \"gelu_new\",\n",
      "  \"dropout_rate\": 0.1,\n",
      "  \"eos_token_id\": 1,\n",
      "  \"feed_forward_proj\": \"gated-gelu\",\n",
      "  \"initializer_factor\": 1.0,\n",
      "  \"is_encoder_decoder\": true,\n",
      "  \"is_gated_act\": true,\n",
      "  \"layer_norm_epsilon\": 1e-06,\n",
      "  \"model_type\": \"t5\",\n",
      "  \"n_positions\": 512,\n",
      "  \"num_decoder_layers\": 12,\n",
      "  \"num_heads\": 12,\n",
      "  \"num_layers\": 12,\n",
      "  \"output_past\": true,\n",
      "  \"pad_token_id\": 0,\n",
      "  \"relative_attention_max_distance\": 128,\n",
      "  \"relative_attention_num_buckets\": 32,\n",
      "  \"task_specific_params\": {\n",
      "    \"summarization\": {\n",
      "      \"early_stopping\": true,\n",
      "      \"length_penalty\": 2.0,\n",
      "      \"max_length\": 200,\n",
      "      \"min_length\": 30,\n",
      "      \"no_repeat_ngram_size\": 3,\n",
      "      \"num_beams\": 4,\n",
      "      \"prefix\": \"summarize: \"\n",
      "    },\n",
      "    \"translation_en_to_de\": {\n",
      "      \"early_stopping\": true,\n",
      "      \"max_length\": 300,\n",
      "      \"num_beams\": 4,\n",
      "      \"prefix\": \"translate English to German: \"\n",
      "    },\n",
      "    \"translation_en_to_fr\": {\n",
      "      \"early_stopping\": true,\n",
      "      \"max_length\": 300,\n",
      "      \"num_beams\": 4,\n",
      "      \"prefix\": \"translate English to French: \"\n",
      "    },\n",
      "    \"translation_en_to_ro\": {\n",
      "      \"early_stopping\": true,\n",
      "      \"max_length\": 300,\n",
      "      \"num_beams\": 4,\n",
      "      \"prefix\": \"translate English to Romanian: \"\n",
      "    }\n",
      "  },\n",
      "  \"tie_word_embeddings\": false,\n",
      "  \"transformers_version\": \"4.24.0\",\n",
      "  \"use_cache\": true,\n",
      "  \"vocab_size\": 32128\n",
      "}\n",
      "\n",
      "loading weights file pytorch_model.bin from cache at /home/ppibot/.cache/huggingface/hub/models--google--flan-t5-base/snapshots/c782cba52f8ea6a704240578055cf1c3fc2f2ca9/pytorch_model.bin\n",
      "All model checkpoint weights were used when initializing T5ForConditionalGeneration.\n",
      "\n",
      "All the weights of T5ForConditionalGeneration were initialized from the model checkpoint at google/flan-t5-base.\n",
      "If your task is similar to the task the model of the checkpoint was trained on, you can already use T5ForConditionalGeneration for predictions without further training.\n",
      "/home/ppibot/anaconda3/envs/myenv/lib/python3.9/site-packages/transformers/optimization.py:306: FutureWarning: This implementation of AdamW is deprecated and will be removed in a future version. Use the PyTorch implementation torch.optim.AdamW instead, or set `no_deprecation_warning=True` to disable this warning\n",
      "  warnings.warn(\n",
      "***** Running training *****\n",
      "  Num examples = 146\n",
      "  Num Epochs = 17\n",
      "  Instantaneous batch size per device = 2\n",
      "  Total train batch size (w. parallel, distributed & accumulation) = 2\n",
      "  Gradient Accumulation steps = 1\n",
      "  Total optimization steps = 1241\n",
      "  Number of trainable parameters = 247577856\n",
      "  6%|▌         | 73/1241 [00:14<03:53,  5.00it/s]***** Running Evaluation *****\n",
      "  Num examples = 37\n",
      "  Batch size = 2\n",
      "/home/ppibot/anaconda3/envs/myenv/lib/python3.9/site-packages/sklearn/metrics/_classification.py:1334: UndefinedMetricWarning: Precision and F-score are ill-defined and being set to 0.0 in labels with no predicted samples. Use `zero_division` parameter to control this behavior.\n",
      "  _warn_prf(average, modifier, msg_start, len(result))\n",
      "/home/ppibot/anaconda3/envs/myenv/lib/python3.9/site-packages/sklearn/metrics/_classification.py:1334: UndefinedMetricWarning: Recall and F-score are ill-defined and being set to 0.0 in labels with no true samples. Use `zero_division` parameter to control this behavior.\n",
      "  _warn_prf(average, modifier, msg_start, len(result))\n",
      "                                                 \n",
      "  6%|▌         | 73/1241 [00:17<04:39,  4.19it/s]\n",
      "\u001b[32m[I 2023-06-11 20:11:01,682]\u001b[0m Trial 37 pruned. \u001b[0m\n",
      "Trial: {'learning_rate': 7.1883653038018e-05, 'num_train_epochs': 15}\n"
     ]
    },
    {
     "name": "stdout",
     "output_type": "stream",
     "text": [
      "{'eval_loss': 0.4630715250968933, 'eval_accuracy': 0.24324324324324326, 'eval_f1': 0.13846153846153847, 'eval_precision': 0.13846153846153847, 'eval_recall': 0.13846153846153847, 'eval_slot': 0.6462793980179106, 'eval_slot_accuracy': 0.47297297297297297, 'eval_runtime': 2.9076, 'eval_samples_per_second': 12.725, 'eval_steps_per_second': 6.535, 'epoch': 1.0}\n"
     ]
    },
    {
     "name": "stderr",
     "output_type": "stream",
     "text": [
      "loading configuration file config.json from cache at /home/ppibot/.cache/huggingface/hub/models--google--flan-t5-base/snapshots/c782cba52f8ea6a704240578055cf1c3fc2f2ca9/config.json\n",
      "Model config T5Config {\n",
      "  \"_name_or_path\": \"google/flan-t5-base\",\n",
      "  \"architectures\": [\n",
      "    \"T5ForConditionalGeneration\"\n",
      "  ],\n",
      "  \"d_ff\": 2048,\n",
      "  \"d_kv\": 64,\n",
      "  \"d_model\": 768,\n",
      "  \"decoder_start_token_id\": 0,\n",
      "  \"dense_act_fn\": \"gelu_new\",\n",
      "  \"dropout_rate\": 0.1,\n",
      "  \"eos_token_id\": 1,\n",
      "  \"feed_forward_proj\": \"gated-gelu\",\n",
      "  \"initializer_factor\": 1.0,\n",
      "  \"is_encoder_decoder\": true,\n",
      "  \"is_gated_act\": true,\n",
      "  \"layer_norm_epsilon\": 1e-06,\n",
      "  \"model_type\": \"t5\",\n",
      "  \"n_positions\": 512,\n",
      "  \"num_decoder_layers\": 12,\n",
      "  \"num_heads\": 12,\n",
      "  \"num_layers\": 12,\n",
      "  \"output_past\": true,\n",
      "  \"pad_token_id\": 0,\n",
      "  \"relative_attention_max_distance\": 128,\n",
      "  \"relative_attention_num_buckets\": 32,\n",
      "  \"task_specific_params\": {\n",
      "    \"summarization\": {\n",
      "      \"early_stopping\": true,\n",
      "      \"length_penalty\": 2.0,\n",
      "      \"max_length\": 200,\n",
      "      \"min_length\": 30,\n",
      "      \"no_repeat_ngram_size\": 3,\n",
      "      \"num_beams\": 4,\n",
      "      \"prefix\": \"summarize: \"\n",
      "    },\n",
      "    \"translation_en_to_de\": {\n",
      "      \"early_stopping\": true,\n",
      "      \"max_length\": 300,\n",
      "      \"num_beams\": 4,\n",
      "      \"prefix\": \"translate English to German: \"\n",
      "    },\n",
      "    \"translation_en_to_fr\": {\n",
      "      \"early_stopping\": true,\n",
      "      \"max_length\": 300,\n",
      "      \"num_beams\": 4,\n",
      "      \"prefix\": \"translate English to French: \"\n",
      "    },\n",
      "    \"translation_en_to_ro\": {\n",
      "      \"early_stopping\": true,\n",
      "      \"max_length\": 300,\n",
      "      \"num_beams\": 4,\n",
      "      \"prefix\": \"translate English to Romanian: \"\n",
      "    }\n",
      "  },\n",
      "  \"tie_word_embeddings\": false,\n",
      "  \"transformers_version\": \"4.24.0\",\n",
      "  \"use_cache\": true,\n",
      "  \"vocab_size\": 32128\n",
      "}\n",
      "\n",
      "loading weights file pytorch_model.bin from cache at /home/ppibot/.cache/huggingface/hub/models--google--flan-t5-base/snapshots/c782cba52f8ea6a704240578055cf1c3fc2f2ca9/pytorch_model.bin\n",
      "All model checkpoint weights were used when initializing T5ForConditionalGeneration.\n",
      "\n",
      "All the weights of T5ForConditionalGeneration were initialized from the model checkpoint at google/flan-t5-base.\n",
      "If your task is similar to the task the model of the checkpoint was trained on, you can already use T5ForConditionalGeneration for predictions without further training.\n",
      "/home/ppibot/anaconda3/envs/myenv/lib/python3.9/site-packages/transformers/optimization.py:306: FutureWarning: This implementation of AdamW is deprecated and will be removed in a future version. Use the PyTorch implementation torch.optim.AdamW instead, or set `no_deprecation_warning=True` to disable this warning\n",
      "  warnings.warn(\n",
      "***** Running training *****\n",
      "  Num examples = 146\n",
      "  Num Epochs = 15\n",
      "  Instantaneous batch size per device = 2\n",
      "  Total train batch size (w. parallel, distributed & accumulation) = 2\n",
      "  Gradient Accumulation steps = 1\n",
      "  Total optimization steps = 1095\n",
      "  Number of trainable parameters = 247577856\n",
      "  7%|▋         | 73/1095 [00:14<03:23,  5.01it/s]***** Running Evaluation *****\n",
      "  Num examples = 37\n",
      "  Batch size = 2\n",
      "/home/ppibot/anaconda3/envs/myenv/lib/python3.9/site-packages/sklearn/metrics/_classification.py:1334: UndefinedMetricWarning: Precision and F-score are ill-defined and being set to 0.0 in labels with no predicted samples. Use `zero_division` parameter to control this behavior.\n",
      "  _warn_prf(average, modifier, msg_start, len(result))\n",
      "/home/ppibot/anaconda3/envs/myenv/lib/python3.9/site-packages/sklearn/metrics/_classification.py:1334: UndefinedMetricWarning: Recall and F-score are ill-defined and being set to 0.0 in labels with no true samples. Use `zero_division` parameter to control this behavior.\n",
      "  _warn_prf(average, modifier, msg_start, len(result))\n",
      "                                                 \n",
      "  7%|▋         | 73/1095 [00:17<04:05,  4.16it/s]\n",
      "\u001b[32m[I 2023-06-11 20:11:21,147]\u001b[0m Trial 38 pruned. \u001b[0m\n",
      "Trial: {'learning_rate': 8.510892010330075e-05, 'num_train_epochs': 19}\n"
     ]
    },
    {
     "name": "stdout",
     "output_type": "stream",
     "text": [
      "{'eval_loss': 0.43081822991371155, 'eval_accuracy': 0.2702702702702703, 'eval_f1': 0.15625, 'eval_precision': 0.15625, 'eval_recall': 0.15625, 'eval_slot': 0.666695918434431, 'eval_slot_accuracy': 0.4954954954954955, 'eval_runtime': 3.0077, 'eval_samples_per_second': 12.302, 'eval_steps_per_second': 6.317, 'epoch': 1.0}\n"
     ]
    },
    {
     "name": "stderr",
     "output_type": "stream",
     "text": [
      "loading configuration file config.json from cache at /home/ppibot/.cache/huggingface/hub/models--google--flan-t5-base/snapshots/c782cba52f8ea6a704240578055cf1c3fc2f2ca9/config.json\n",
      "Model config T5Config {\n",
      "  \"_name_or_path\": \"google/flan-t5-base\",\n",
      "  \"architectures\": [\n",
      "    \"T5ForConditionalGeneration\"\n",
      "  ],\n",
      "  \"d_ff\": 2048,\n",
      "  \"d_kv\": 64,\n",
      "  \"d_model\": 768,\n",
      "  \"decoder_start_token_id\": 0,\n",
      "  \"dense_act_fn\": \"gelu_new\",\n",
      "  \"dropout_rate\": 0.1,\n",
      "  \"eos_token_id\": 1,\n",
      "  \"feed_forward_proj\": \"gated-gelu\",\n",
      "  \"initializer_factor\": 1.0,\n",
      "  \"is_encoder_decoder\": true,\n",
      "  \"is_gated_act\": true,\n",
      "  \"layer_norm_epsilon\": 1e-06,\n",
      "  \"model_type\": \"t5\",\n",
      "  \"n_positions\": 512,\n",
      "  \"num_decoder_layers\": 12,\n",
      "  \"num_heads\": 12,\n",
      "  \"num_layers\": 12,\n",
      "  \"output_past\": true,\n",
      "  \"pad_token_id\": 0,\n",
      "  \"relative_attention_max_distance\": 128,\n",
      "  \"relative_attention_num_buckets\": 32,\n",
      "  \"task_specific_params\": {\n",
      "    \"summarization\": {\n",
      "      \"early_stopping\": true,\n",
      "      \"length_penalty\": 2.0,\n",
      "      \"max_length\": 200,\n",
      "      \"min_length\": 30,\n",
      "      \"no_repeat_ngram_size\": 3,\n",
      "      \"num_beams\": 4,\n",
      "      \"prefix\": \"summarize: \"\n",
      "    },\n",
      "    \"translation_en_to_de\": {\n",
      "      \"early_stopping\": true,\n",
      "      \"max_length\": 300,\n",
      "      \"num_beams\": 4,\n",
      "      \"prefix\": \"translate English to German: \"\n",
      "    },\n",
      "    \"translation_en_to_fr\": {\n",
      "      \"early_stopping\": true,\n",
      "      \"max_length\": 300,\n",
      "      \"num_beams\": 4,\n",
      "      \"prefix\": \"translate English to French: \"\n",
      "    },\n",
      "    \"translation_en_to_ro\": {\n",
      "      \"early_stopping\": true,\n",
      "      \"max_length\": 300,\n",
      "      \"num_beams\": 4,\n",
      "      \"prefix\": \"translate English to Romanian: \"\n",
      "    }\n",
      "  },\n",
      "  \"tie_word_embeddings\": false,\n",
      "  \"transformers_version\": \"4.24.0\",\n",
      "  \"use_cache\": true,\n",
      "  \"vocab_size\": 32128\n",
      "}\n",
      "\n",
      "loading weights file pytorch_model.bin from cache at /home/ppibot/.cache/huggingface/hub/models--google--flan-t5-base/snapshots/c782cba52f8ea6a704240578055cf1c3fc2f2ca9/pytorch_model.bin\n",
      "All model checkpoint weights were used when initializing T5ForConditionalGeneration.\n",
      "\n",
      "All the weights of T5ForConditionalGeneration were initialized from the model checkpoint at google/flan-t5-base.\n",
      "If your task is similar to the task the model of the checkpoint was trained on, you can already use T5ForConditionalGeneration for predictions without further training.\n",
      "/home/ppibot/anaconda3/envs/myenv/lib/python3.9/site-packages/transformers/optimization.py:306: FutureWarning: This implementation of AdamW is deprecated and will be removed in a future version. Use the PyTorch implementation torch.optim.AdamW instead, or set `no_deprecation_warning=True` to disable this warning\n",
      "  warnings.warn(\n",
      "***** Running training *****\n",
      "  Num examples = 146\n",
      "  Num Epochs = 19\n",
      "  Instantaneous batch size per device = 2\n",
      "  Total train batch size (w. parallel, distributed & accumulation) = 2\n",
      "  Gradient Accumulation steps = 1\n",
      "  Total optimization steps = 1387\n",
      "  Number of trainable parameters = 247577856\n",
      "  5%|▌         | 73/1387 [00:14<04:22,  5.01it/s]***** Running Evaluation *****\n",
      "  Num examples = 37\n",
      "  Batch size = 2\n",
      "/home/ppibot/anaconda3/envs/myenv/lib/python3.9/site-packages/sklearn/metrics/_classification.py:1334: UndefinedMetricWarning: Precision and F-score are ill-defined and being set to 0.0 in labels with no predicted samples. Use `zero_division` parameter to control this behavior.\n",
      "  _warn_prf(average, modifier, msg_start, len(result))\n",
      "/home/ppibot/anaconda3/envs/myenv/lib/python3.9/site-packages/sklearn/metrics/_classification.py:1334: UndefinedMetricWarning: Recall and F-score are ill-defined and being set to 0.0 in labels with no true samples. Use `zero_division` parameter to control this behavior.\n",
      "  _warn_prf(average, modifier, msg_start, len(result))\n",
      "                                                 \n",
      "  5%|▌         | 73/1387 [00:17<04:22,  5.01it/s]Saving model checkpoint to ./model/run-39/checkpoint-73\n",
      "Configuration saved in ./model/run-39/checkpoint-73/config.json\n"
     ]
    },
    {
     "name": "stdout",
     "output_type": "stream",
     "text": [
      "{'eval_loss': 0.38102713227272034, 'eval_accuracy': 0.3783783783783784, 'eval_f1': 0.23333333333333334, 'eval_precision': 0.23333333333333334, 'eval_recall': 0.23333333333333334, 'eval_slot': 0.7351918525617038, 'eval_slot_accuracy': 0.6441441441441441, 'eval_runtime': 3.0237, 'eval_samples_per_second': 12.237, 'eval_steps_per_second': 6.284, 'epoch': 1.0}\n"
     ]
    },
    {
     "name": "stderr",
     "output_type": "stream",
     "text": [
      "Model weights saved in ./model/run-39/checkpoint-73/pytorch_model.bin\n",
      " 11%|█         | 146/1387 [00:34<04:07,  5.02it/s]***** Running Evaluation *****\n",
      "  Num examples = 37\n",
      "  Batch size = 2\n",
      "/home/ppibot/anaconda3/envs/myenv/lib/python3.9/site-packages/sklearn/metrics/_classification.py:1334: UndefinedMetricWarning: Precision and F-score are ill-defined and being set to 0.0 in labels with no predicted samples. Use `zero_division` parameter to control this behavior.\n",
      "  _warn_prf(average, modifier, msg_start, len(result))\n",
      "/home/ppibot/anaconda3/envs/myenv/lib/python3.9/site-packages/sklearn/metrics/_classification.py:1334: UndefinedMetricWarning: Recall and F-score are ill-defined and being set to 0.0 in labels with no true samples. Use `zero_division` parameter to control this behavior.\n",
      "  _warn_prf(average, modifier, msg_start, len(result))\n",
      "                                                  \n",
      " 11%|█         | 146/1387 [00:37<04:07,  5.02it/s]Saving model checkpoint to ./model/run-39/checkpoint-146\n",
      "Configuration saved in ./model/run-39/checkpoint-146/config.json\n"
     ]
    },
    {
     "name": "stdout",
     "output_type": "stream",
     "text": [
      "{'eval_loss': 0.3260718882083893, 'eval_accuracy': 0.4594594594594595, 'eval_f1': 0.2982456140350877, 'eval_precision': 0.2982456140350877, 'eval_recall': 0.2982456140350877, 'eval_slot': 0.7548654440749027, 'eval_slot_accuracy': 0.6891891891891891, 'eval_runtime': 2.9624, 'eval_samples_per_second': 12.49, 'eval_steps_per_second': 6.414, 'epoch': 2.0}\n"
     ]
    },
    {
     "name": "stderr",
     "output_type": "stream",
     "text": [
      "Model weights saved in ./model/run-39/checkpoint-146/pytorch_model.bin\n",
      " 16%|█▌        | 219/1387 [00:54<03:53,  5.01it/s]***** Running Evaluation *****\n",
      "  Num examples = 37\n",
      "  Batch size = 2\n",
      "/home/ppibot/anaconda3/envs/myenv/lib/python3.9/site-packages/sklearn/metrics/_classification.py:1334: UndefinedMetricWarning: Precision and F-score are ill-defined and being set to 0.0 in labels with no predicted samples. Use `zero_division` parameter to control this behavior.\n",
      "  _warn_prf(average, modifier, msg_start, len(result))\n",
      "/home/ppibot/anaconda3/envs/myenv/lib/python3.9/site-packages/sklearn/metrics/_classification.py:1334: UndefinedMetricWarning: Recall and F-score are ill-defined and being set to 0.0 in labels with no true samples. Use `zero_division` parameter to control this behavior.\n",
      "  _warn_prf(average, modifier, msg_start, len(result))\n",
      "                                                  \n",
      " 16%|█▌        | 219/1387 [00:57<03:53,  5.01it/s]Saving model checkpoint to ./model/run-39/checkpoint-219\n",
      "Configuration saved in ./model/run-39/checkpoint-219/config.json\n"
     ]
    },
    {
     "name": "stdout",
     "output_type": "stream",
     "text": [
      "{'eval_loss': 0.3107604682445526, 'eval_accuracy': 0.6216216216216216, 'eval_f1': 0.45098039215686275, 'eval_precision': 0.45098039215686275, 'eval_recall': 0.45098039215686275, 'eval_slot': 0.8763769310899528, 'eval_slot_accuracy': 0.8018018018018017, 'eval_runtime': 3.0516, 'eval_samples_per_second': 12.125, 'eval_steps_per_second': 6.226, 'epoch': 3.0}\n"
     ]
    },
    {
     "name": "stderr",
     "output_type": "stream",
     "text": [
      "Model weights saved in ./model/run-39/checkpoint-219/pytorch_model.bin\n",
      " 21%|██        | 292/1387 [01:14<03:37,  5.03it/s]***** Running Evaluation *****\n",
      "  Num examples = 37\n",
      "  Batch size = 2\n",
      "/home/ppibot/anaconda3/envs/myenv/lib/python3.9/site-packages/sklearn/metrics/_classification.py:1334: UndefinedMetricWarning: Precision and F-score are ill-defined and being set to 0.0 in labels with no predicted samples. Use `zero_division` parameter to control this behavior.\n",
      "  _warn_prf(average, modifier, msg_start, len(result))\n",
      "/home/ppibot/anaconda3/envs/myenv/lib/python3.9/site-packages/sklearn/metrics/_classification.py:1334: UndefinedMetricWarning: Recall and F-score are ill-defined and being set to 0.0 in labels with no true samples. Use `zero_division` parameter to control this behavior.\n",
      "  _warn_prf(average, modifier, msg_start, len(result))\n",
      "                                                  \n",
      " 21%|██        | 292/1387 [01:17<03:37,  5.03it/s]Saving model checkpoint to ./model/run-39/checkpoint-292\n",
      "Configuration saved in ./model/run-39/checkpoint-292/config.json\n"
     ]
    },
    {
     "name": "stdout",
     "output_type": "stream",
     "text": [
      "{'eval_loss': 0.3440585136413574, 'eval_accuracy': 0.6216216216216216, 'eval_f1': 0.45098039215686275, 'eval_precision': 0.45098039215686275, 'eval_recall': 0.45098039215686275, 'eval_slot': 0.8473214781214563, 'eval_slot_accuracy': 0.7567567567567568, 'eval_runtime': 3.1049, 'eval_samples_per_second': 11.917, 'eval_steps_per_second': 6.119, 'epoch': 4.0}\n"
     ]
    },
    {
     "name": "stderr",
     "output_type": "stream",
     "text": [
      "Model weights saved in ./model/run-39/checkpoint-292/pytorch_model.bin\n",
      " 26%|██▋       | 365/1387 [01:34<03:23,  5.01it/s]***** Running Evaluation *****\n",
      "  Num examples = 37\n",
      "  Batch size = 2\n",
      "/home/ppibot/anaconda3/envs/myenv/lib/python3.9/site-packages/sklearn/metrics/_classification.py:1334: UndefinedMetricWarning: Precision and F-score are ill-defined and being set to 0.0 in labels with no predicted samples. Use `zero_division` parameter to control this behavior.\n",
      "  _warn_prf(average, modifier, msg_start, len(result))\n",
      "/home/ppibot/anaconda3/envs/myenv/lib/python3.9/site-packages/sklearn/metrics/_classification.py:1334: UndefinedMetricWarning: Recall and F-score are ill-defined and being set to 0.0 in labels with no true samples. Use `zero_division` parameter to control this behavior.\n",
      "  _warn_prf(average, modifier, msg_start, len(result))\n",
      "                                                  \n",
      " 26%|██▋       | 365/1387 [01:37<03:23,  5.01it/s]Saving model checkpoint to ./model/run-39/checkpoint-365\n",
      "Configuration saved in ./model/run-39/checkpoint-365/config.json\n"
     ]
    },
    {
     "name": "stdout",
     "output_type": "stream",
     "text": [
      "{'eval_loss': 0.3888855576515198, 'eval_accuracy': 0.6756756756756757, 'eval_f1': 0.5102040816326531, 'eval_precision': 0.5102040816326531, 'eval_recall': 0.5102040816326531, 'eval_slot': 0.870552140782404, 'eval_slot_accuracy': 0.8108108108108109, 'eval_runtime': 2.9546, 'eval_samples_per_second': 12.523, 'eval_steps_per_second': 6.431, 'epoch': 5.0}\n"
     ]
    },
    {
     "name": "stderr",
     "output_type": "stream",
     "text": [
      "Model weights saved in ./model/run-39/checkpoint-365/pytorch_model.bin\n",
      " 32%|███▏      | 438/1387 [01:54<03:09,  5.01it/s]***** Running Evaluation *****\n",
      "  Num examples = 37\n",
      "  Batch size = 2\n",
      "/home/ppibot/anaconda3/envs/myenv/lib/python3.9/site-packages/sklearn/metrics/_classification.py:1334: UndefinedMetricWarning: Precision and F-score are ill-defined and being set to 0.0 in labels with no predicted samples. Use `zero_division` parameter to control this behavior.\n",
      "  _warn_prf(average, modifier, msg_start, len(result))\n",
      "/home/ppibot/anaconda3/envs/myenv/lib/python3.9/site-packages/sklearn/metrics/_classification.py:1334: UndefinedMetricWarning: Recall and F-score are ill-defined and being set to 0.0 in labels with no true samples. Use `zero_division` parameter to control this behavior.\n",
      "  _warn_prf(average, modifier, msg_start, len(result))\n",
      "                                                  \n",
      " 32%|███▏      | 438/1387 [01:57<03:09,  5.01it/s]"
     ]
    },
    {
     "name": "stdout",
     "output_type": "stream",
     "text": [
      "{'eval_loss': 0.37543734908103943, 'eval_accuracy': 0.7027027027027027, 'eval_f1': 0.5416666666666666, 'eval_precision': 0.5416666666666666, 'eval_recall': 0.5416666666666666, 'eval_slot': 0.908528428758692, 'eval_slot_accuracy': 0.8378378378378378, 'eval_runtime': 2.8757, 'eval_samples_per_second': 12.867, 'eval_steps_per_second': 6.607, 'epoch': 6.0}\n"
     ]
    },
    {
     "name": "stderr",
     "output_type": "stream",
     "text": [
      "Saving model checkpoint to ./model/run-39/checkpoint-438\n",
      "Configuration saved in ./model/run-39/checkpoint-438/config.json\n",
      "Model weights saved in ./model/run-39/checkpoint-438/pytorch_model.bin\n",
      " 36%|███▌      | 501/1387 [02:13<02:57,  5.00it/s]"
     ]
    },
    {
     "name": "stdout",
     "output_type": "stream",
     "text": [
      "{'loss': 0.2731, 'learning_rate': 5.442798279136825e-05, 'epoch': 6.85}\n"
     ]
    },
    {
     "name": "stderr",
     "output_type": "stream",
     "text": [
      " 37%|███▋      | 511/1387 [02:15<02:54,  5.03it/s]***** Running Evaluation *****\n",
      "  Num examples = 37\n",
      "  Batch size = 2\n",
      "/home/ppibot/anaconda3/envs/myenv/lib/python3.9/site-packages/sklearn/metrics/_classification.py:1334: UndefinedMetricWarning: Precision and F-score are ill-defined and being set to 0.0 in labels with no predicted samples. Use `zero_division` parameter to control this behavior.\n",
      "  _warn_prf(average, modifier, msg_start, len(result))\n",
      "/home/ppibot/anaconda3/envs/myenv/lib/python3.9/site-packages/sklearn/metrics/_classification.py:1334: UndefinedMetricWarning: Recall and F-score are ill-defined and being set to 0.0 in labels with no true samples. Use `zero_division` parameter to control this behavior.\n",
      "  _warn_prf(average, modifier, msg_start, len(result))\n",
      "                                                  \n",
      " 37%|███▋      | 511/1387 [02:18<02:54,  5.03it/s]Saving model checkpoint to ./model/run-39/checkpoint-511\n",
      "Configuration saved in ./model/run-39/checkpoint-511/config.json\n"
     ]
    },
    {
     "name": "stdout",
     "output_type": "stream",
     "text": [
      "{'eval_loss': 0.37615591287612915, 'eval_accuracy': 0.7027027027027027, 'eval_f1': 0.5416666666666666, 'eval_precision': 0.5416666666666666, 'eval_recall': 0.5416666666666666, 'eval_slot': 0.9004867551997772, 'eval_slot_accuracy': 0.8198198198198198, 'eval_runtime': 2.8674, 'eval_samples_per_second': 12.903, 'eval_steps_per_second': 6.626, 'epoch': 7.0}\n"
     ]
    },
    {
     "name": "stderr",
     "output_type": "stream",
     "text": [
      "Model weights saved in ./model/run-39/checkpoint-511/pytorch_model.bin\n",
      " 42%|████▏     | 584/1387 [02:36<02:39,  5.02it/s]***** Running Evaluation *****\n",
      "  Num examples = 37\n",
      "  Batch size = 2\n",
      "/home/ppibot/anaconda3/envs/myenv/lib/python3.9/site-packages/sklearn/metrics/_classification.py:1334: UndefinedMetricWarning: Precision and F-score are ill-defined and being set to 0.0 in labels with no predicted samples. Use `zero_division` parameter to control this behavior.\n",
      "  _warn_prf(average, modifier, msg_start, len(result))\n",
      "/home/ppibot/anaconda3/envs/myenv/lib/python3.9/site-packages/sklearn/metrics/_classification.py:1334: UndefinedMetricWarning: Recall and F-score are ill-defined and being set to 0.0 in labels with no true samples. Use `zero_division` parameter to control this behavior.\n",
      "  _warn_prf(average, modifier, msg_start, len(result))\n",
      "                                                  \n",
      " 42%|████▏     | 584/1387 [02:39<02:39,  5.02it/s]Saving model checkpoint to ./model/run-39/checkpoint-584\n",
      "Configuration saved in ./model/run-39/checkpoint-584/config.json\n"
     ]
    },
    {
     "name": "stdout",
     "output_type": "stream",
     "text": [
      "{'eval_loss': 0.37269917130470276, 'eval_accuracy': 0.6486486486486487, 'eval_f1': 0.48, 'eval_precision': 0.48, 'eval_recall': 0.48, 'eval_slot': 0.8776424823555041, 'eval_slot_accuracy': 0.7972972972972973, 'eval_runtime': 2.8982, 'eval_samples_per_second': 12.767, 'eval_steps_per_second': 6.556, 'epoch': 8.0}\n"
     ]
    },
    {
     "name": "stderr",
     "output_type": "stream",
     "text": [
      "Model weights saved in ./model/run-39/checkpoint-584/pytorch_model.bin\n",
      " 47%|████▋     | 657/1387 [02:56<02:25,  5.01it/s]***** Running Evaluation *****\n",
      "  Num examples = 37\n",
      "  Batch size = 2\n",
      "/home/ppibot/anaconda3/envs/myenv/lib/python3.9/site-packages/sklearn/metrics/_classification.py:1334: UndefinedMetricWarning: Precision and F-score are ill-defined and being set to 0.0 in labels with no predicted samples. Use `zero_division` parameter to control this behavior.\n",
      "  _warn_prf(average, modifier, msg_start, len(result))\n",
      "/home/ppibot/anaconda3/envs/myenv/lib/python3.9/site-packages/sklearn/metrics/_classification.py:1334: UndefinedMetricWarning: Recall and F-score are ill-defined and being set to 0.0 in labels with no true samples. Use `zero_division` parameter to control this behavior.\n",
      "  _warn_prf(average, modifier, msg_start, len(result))\n",
      "                                                  \n",
      " 47%|████▋     | 657/1387 [02:58<02:25,  5.01it/s]Saving model checkpoint to ./model/run-39/checkpoint-657\n",
      "Configuration saved in ./model/run-39/checkpoint-657/config.json\n"
     ]
    },
    {
     "name": "stdout",
     "output_type": "stream",
     "text": [
      "{'eval_loss': 0.4404628872871399, 'eval_accuracy': 0.6486486486486487, 'eval_f1': 0.48, 'eval_precision': 0.48, 'eval_recall': 0.48, 'eval_slot': 0.8682019645191841, 'eval_slot_accuracy': 0.7972972972972973, 'eval_runtime': 2.8871, 'eval_samples_per_second': 12.815, 'eval_steps_per_second': 6.581, 'epoch': 9.0}\n"
     ]
    },
    {
     "name": "stderr",
     "output_type": "stream",
     "text": [
      "Model weights saved in ./model/run-39/checkpoint-657/pytorch_model.bin\n",
      " 53%|█████▎    | 730/1387 [03:17<02:10,  5.03it/s]***** Running Evaluation *****\n",
      "  Num examples = 37\n",
      "  Batch size = 2\n",
      "/home/ppibot/anaconda3/envs/myenv/lib/python3.9/site-packages/sklearn/metrics/_classification.py:1334: UndefinedMetricWarning: Precision and F-score are ill-defined and being set to 0.0 in labels with no predicted samples. Use `zero_division` parameter to control this behavior.\n",
      "  _warn_prf(average, modifier, msg_start, len(result))\n",
      "/home/ppibot/anaconda3/envs/myenv/lib/python3.9/site-packages/sklearn/metrics/_classification.py:1334: UndefinedMetricWarning: Recall and F-score are ill-defined and being set to 0.0 in labels with no true samples. Use `zero_division` parameter to control this behavior.\n",
      "  _warn_prf(average, modifier, msg_start, len(result))\n",
      "                                                  \n",
      " 53%|█████▎    | 730/1387 [03:20<02:10,  5.03it/s]Saving model checkpoint to ./model/run-39/checkpoint-730\n",
      "Configuration saved in ./model/run-39/checkpoint-730/config.json\n"
     ]
    },
    {
     "name": "stdout",
     "output_type": "stream",
     "text": [
      "{'eval_loss': 0.493925005197525, 'eval_accuracy': 0.6756756756756757, 'eval_f1': 0.5102040816326531, 'eval_precision': 0.5102040816326531, 'eval_recall': 0.5102040816326531, 'eval_slot': 0.8695283897586529, 'eval_slot_accuracy': 0.7972972972972973, 'eval_runtime': 3.059, 'eval_samples_per_second': 12.095, 'eval_steps_per_second': 6.211, 'epoch': 10.0}\n"
     ]
    },
    {
     "name": "stderr",
     "output_type": "stream",
     "text": [
      "Model weights saved in ./model/run-39/checkpoint-730/pytorch_model.bin\n",
      " 58%|█████▊    | 803/1387 [03:38<01:56,  5.02it/s]***** Running Evaluation *****\n",
      "  Num examples = 37\n",
      "  Batch size = 2\n",
      "/home/ppibot/anaconda3/envs/myenv/lib/python3.9/site-packages/sklearn/metrics/_classification.py:1334: UndefinedMetricWarning: Precision and F-score are ill-defined and being set to 0.0 in labels with no predicted samples. Use `zero_division` parameter to control this behavior.\n",
      "  _warn_prf(average, modifier, msg_start, len(result))\n",
      "/home/ppibot/anaconda3/envs/myenv/lib/python3.9/site-packages/sklearn/metrics/_classification.py:1334: UndefinedMetricWarning: Recall and F-score are ill-defined and being set to 0.0 in labels with no true samples. Use `zero_division` parameter to control this behavior.\n",
      "  _warn_prf(average, modifier, msg_start, len(result))\n",
      "                                                  \n",
      " 58%|█████▊    | 803/1387 [03:41<01:56,  5.02it/s]Saving model checkpoint to ./model/run-39/checkpoint-803\n",
      "Configuration saved in ./model/run-39/checkpoint-803/config.json\n"
     ]
    },
    {
     "name": "stdout",
     "output_type": "stream",
     "text": [
      "{'eval_loss': 0.4506153464317322, 'eval_accuracy': 0.6756756756756757, 'eval_f1': 0.5102040816326531, 'eval_precision': 0.5102040816326531, 'eval_recall': 0.5102040816326531, 'eval_slot': 0.8834874037176669, 'eval_slot_accuracy': 0.8153153153153153, 'eval_runtime': 2.9761, 'eval_samples_per_second': 12.433, 'eval_steps_per_second': 6.384, 'epoch': 11.0}\n"
     ]
    },
    {
     "name": "stderr",
     "output_type": "stream",
     "text": [
      "Model weights saved in ./model/run-39/checkpoint-803/pytorch_model.bin\n",
      " 63%|██████▎   | 876/1387 [04:01<01:41,  5.03it/s]***** Running Evaluation *****\n",
      "  Num examples = 37\n",
      "  Batch size = 2\n",
      "/home/ppibot/anaconda3/envs/myenv/lib/python3.9/site-packages/sklearn/metrics/_classification.py:1334: UndefinedMetricWarning: Precision and F-score are ill-defined and being set to 0.0 in labels with no predicted samples. Use `zero_division` parameter to control this behavior.\n",
      "  _warn_prf(average, modifier, msg_start, len(result))\n",
      "/home/ppibot/anaconda3/envs/myenv/lib/python3.9/site-packages/sklearn/metrics/_classification.py:1334: UndefinedMetricWarning: Recall and F-score are ill-defined and being set to 0.0 in labels with no true samples. Use `zero_division` parameter to control this behavior.\n",
      "  _warn_prf(average, modifier, msg_start, len(result))\n",
      "                                                  \n",
      " 63%|██████▎   | 876/1387 [04:04<01:41,  5.03it/s]Saving model checkpoint to ./model/run-39/checkpoint-876\n",
      "Configuration saved in ./model/run-39/checkpoint-876/config.json\n"
     ]
    },
    {
     "name": "stdout",
     "output_type": "stream",
     "text": [
      "{'eval_loss': 0.42573949694633484, 'eval_accuracy': 0.6756756756756757, 'eval_f1': 0.5102040816326531, 'eval_precision': 0.5102040816326531, 'eval_recall': 0.5102040816326531, 'eval_slot': 0.8857396559699192, 'eval_slot_accuracy': 0.8153153153153153, 'eval_runtime': 2.8456, 'eval_samples_per_second': 13.003, 'eval_steps_per_second': 6.677, 'epoch': 12.0}\n"
     ]
    },
    {
     "name": "stderr",
     "output_type": "stream",
     "text": [
      "Model weights saved in ./model/run-39/checkpoint-876/pytorch_model.bin\n",
      " 68%|██████▊   | 949/1387 [04:30<01:26,  5.04it/s]***** Running Evaluation *****\n",
      "  Num examples = 37\n",
      "  Batch size = 2\n",
      "/home/ppibot/anaconda3/envs/myenv/lib/python3.9/site-packages/sklearn/metrics/_classification.py:1334: UndefinedMetricWarning: Precision and F-score are ill-defined and being set to 0.0 in labels with no predicted samples. Use `zero_division` parameter to control this behavior.\n",
      "  _warn_prf(average, modifier, msg_start, len(result))\n",
      "/home/ppibot/anaconda3/envs/myenv/lib/python3.9/site-packages/sklearn/metrics/_classification.py:1334: UndefinedMetricWarning: Recall and F-score are ill-defined and being set to 0.0 in labels with no true samples. Use `zero_division` parameter to control this behavior.\n",
      "  _warn_prf(average, modifier, msg_start, len(result))\n",
      "                                                  \n",
      " 68%|██████▊   | 949/1387 [04:33<01:26,  5.04it/s]Saving model checkpoint to ./model/run-39/checkpoint-949\n",
      "Configuration saved in ./model/run-39/checkpoint-949/config.json\n"
     ]
    },
    {
     "name": "stdout",
     "output_type": "stream",
     "text": [
      "{'eval_loss': 0.42748865485191345, 'eval_accuracy': 0.7027027027027027, 'eval_f1': 0.5416666666666666, 'eval_precision': 0.5416666666666666, 'eval_recall': 0.5416666666666666, 'eval_slot': 0.9105144307446938, 'eval_slot_accuracy': 0.8423423423423424, 'eval_runtime': 2.9448, 'eval_samples_per_second': 12.565, 'eval_steps_per_second': 6.452, 'epoch': 13.0}\n"
     ]
    },
    {
     "name": "stderr",
     "output_type": "stream",
     "text": [
      "Model weights saved in ./model/run-39/checkpoint-949/pytorch_model.bin\n",
      " 72%|███████▏  | 1001/1387 [04:47<01:17,  5.00it/s]"
     ]
    },
    {
     "name": "stdout",
     "output_type": "stream",
     "text": [
      "{'loss': 0.0227, 'learning_rate': 2.374704547943575e-05, 'epoch': 13.7}\n"
     ]
    },
    {
     "name": "stderr",
     "output_type": "stream",
     "text": [
      " 74%|███████▎  | 1022/1387 [04:51<01:12,  5.03it/s]***** Running Evaluation *****\n",
      "  Num examples = 37\n",
      "  Batch size = 2\n",
      "/home/ppibot/anaconda3/envs/myenv/lib/python3.9/site-packages/sklearn/metrics/_classification.py:1334: UndefinedMetricWarning: Precision and F-score are ill-defined and being set to 0.0 in labels with no predicted samples. Use `zero_division` parameter to control this behavior.\n",
      "  _warn_prf(average, modifier, msg_start, len(result))\n",
      "/home/ppibot/anaconda3/envs/myenv/lib/python3.9/site-packages/sklearn/metrics/_classification.py:1334: UndefinedMetricWarning: Recall and F-score are ill-defined and being set to 0.0 in labels with no true samples. Use `zero_division` parameter to control this behavior.\n",
      "  _warn_prf(average, modifier, msg_start, len(result))\n",
      "                                                   \n",
      " 74%|███████▎  | 1022/1387 [04:54<01:12,  5.03it/s]Saving model checkpoint to ./model/run-39/checkpoint-1022\n",
      "Configuration saved in ./model/run-39/checkpoint-1022/config.json\n"
     ]
    },
    {
     "name": "stdout",
     "output_type": "stream",
     "text": [
      "{'eval_loss': 0.4314831793308258, 'eval_accuracy': 0.7027027027027027, 'eval_f1': 0.5416666666666666, 'eval_precision': 0.5416666666666666, 'eval_recall': 0.5416666666666666, 'eval_slot': 0.9013816716119347, 'eval_slot_accuracy': 0.8333333333333333, 'eval_runtime': 2.8898, 'eval_samples_per_second': 12.804, 'eval_steps_per_second': 6.575, 'epoch': 14.0}\n"
     ]
    },
    {
     "name": "stderr",
     "output_type": "stream",
     "text": [
      "Model weights saved in ./model/run-39/checkpoint-1022/pytorch_model.bin\n",
      " 79%|███████▉  | 1095/1387 [05:12<00:57,  5.04it/s]***** Running Evaluation *****\n",
      "  Num examples = 37\n",
      "  Batch size = 2\n",
      "/home/ppibot/anaconda3/envs/myenv/lib/python3.9/site-packages/sklearn/metrics/_classification.py:1334: UndefinedMetricWarning: Precision and F-score are ill-defined and being set to 0.0 in labels with no predicted samples. Use `zero_division` parameter to control this behavior.\n",
      "  _warn_prf(average, modifier, msg_start, len(result))\n",
      "/home/ppibot/anaconda3/envs/myenv/lib/python3.9/site-packages/sklearn/metrics/_classification.py:1334: UndefinedMetricWarning: Recall and F-score are ill-defined and being set to 0.0 in labels with no true samples. Use `zero_division` parameter to control this behavior.\n",
      "  _warn_prf(average, modifier, msg_start, len(result))\n",
      "                                                   \n",
      " 79%|███████▉  | 1095/1387 [05:16<00:57,  5.04it/s]Saving model checkpoint to ./model/run-39/checkpoint-1095\n",
      "Configuration saved in ./model/run-39/checkpoint-1095/config.json\n"
     ]
    },
    {
     "name": "stdout",
     "output_type": "stream",
     "text": [
      "{'eval_loss': 0.4440816342830658, 'eval_accuracy': 0.7027027027027027, 'eval_f1': 0.5416666666666666, 'eval_precision': 0.5416666666666666, 'eval_recall': 0.5416666666666666, 'eval_slot': 0.9013816716119347, 'eval_slot_accuracy': 0.8333333333333333, 'eval_runtime': 3.0293, 'eval_samples_per_second': 12.214, 'eval_steps_per_second': 6.272, 'epoch': 15.0}\n"
     ]
    },
    {
     "name": "stderr",
     "output_type": "stream",
     "text": [
      "Model weights saved in ./model/run-39/checkpoint-1095/pytorch_model.bin\n",
      " 84%|████████▍ | 1168/1387 [05:35<00:43,  5.02it/s]***** Running Evaluation *****\n",
      "  Num examples = 37\n",
      "  Batch size = 2\n",
      "/home/ppibot/anaconda3/envs/myenv/lib/python3.9/site-packages/sklearn/metrics/_classification.py:1334: UndefinedMetricWarning: Precision and F-score are ill-defined and being set to 0.0 in labels with no predicted samples. Use `zero_division` parameter to control this behavior.\n",
      "  _warn_prf(average, modifier, msg_start, len(result))\n",
      "/home/ppibot/anaconda3/envs/myenv/lib/python3.9/site-packages/sklearn/metrics/_classification.py:1334: UndefinedMetricWarning: Recall and F-score are ill-defined and being set to 0.0 in labels with no true samples. Use `zero_division` parameter to control this behavior.\n",
      "  _warn_prf(average, modifier, msg_start, len(result))\n",
      "                                                   \n",
      " 84%|████████▍ | 1168/1387 [05:38<00:43,  5.02it/s]Saving model checkpoint to ./model/run-39/checkpoint-1168\n",
      "Configuration saved in ./model/run-39/checkpoint-1168/config.json\n"
     ]
    },
    {
     "name": "stdout",
     "output_type": "stream",
     "text": [
      "{'eval_loss': 0.4629550576210022, 'eval_accuracy': 0.7027027027027027, 'eval_f1': 0.5416666666666666, 'eval_precision': 0.5416666666666666, 'eval_recall': 0.5416666666666666, 'eval_slot': 0.8991294193596825, 'eval_slot_accuracy': 0.8333333333333333, 'eval_runtime': 3.0336, 'eval_samples_per_second': 12.197, 'eval_steps_per_second': 6.263, 'epoch': 16.0}\n"
     ]
    },
    {
     "name": "stderr",
     "output_type": "stream",
     "text": [
      "Model weights saved in ./model/run-39/checkpoint-1168/pytorch_model.bin\n",
      " 89%|████████▉ | 1241/1387 [05:56<00:29,  5.03it/s]***** Running Evaluation *****\n",
      "  Num examples = 37\n",
      "  Batch size = 2\n",
      "/home/ppibot/anaconda3/envs/myenv/lib/python3.9/site-packages/sklearn/metrics/_classification.py:1334: UndefinedMetricWarning: Precision and F-score are ill-defined and being set to 0.0 in labels with no predicted samples. Use `zero_division` parameter to control this behavior.\n",
      "  _warn_prf(average, modifier, msg_start, len(result))\n",
      "/home/ppibot/anaconda3/envs/myenv/lib/python3.9/site-packages/sklearn/metrics/_classification.py:1334: UndefinedMetricWarning: Recall and F-score are ill-defined and being set to 0.0 in labels with no true samples. Use `zero_division` parameter to control this behavior.\n",
      "  _warn_prf(average, modifier, msg_start, len(result))\n",
      "                                                   \n",
      " 89%|████████▉ | 1241/1387 [05:59<00:29,  5.03it/s]Saving model checkpoint to ./model/run-39/checkpoint-1241\n",
      "Configuration saved in ./model/run-39/checkpoint-1241/config.json\n"
     ]
    },
    {
     "name": "stdout",
     "output_type": "stream",
     "text": [
      "{'eval_loss': 0.4636470675468445, 'eval_accuracy': 0.7027027027027027, 'eval_f1': 0.5416666666666666, 'eval_precision': 0.5416666666666666, 'eval_recall': 0.5416666666666666, 'eval_slot': 0.8991294193596825, 'eval_slot_accuracy': 0.8333333333333333, 'eval_runtime': 2.9464, 'eval_samples_per_second': 12.558, 'eval_steps_per_second': 6.449, 'epoch': 17.0}\n"
     ]
    },
    {
     "name": "stderr",
     "output_type": "stream",
     "text": [
      "Model weights saved in ./model/run-39/checkpoint-1241/pytorch_model.bin\n",
      " 95%|█████████▍| 1314/1387 [06:15<00:14,  5.01it/s]***** Running Evaluation *****\n",
      "  Num examples = 37\n",
      "  Batch size = 2\n",
      "/home/ppibot/anaconda3/envs/myenv/lib/python3.9/site-packages/sklearn/metrics/_classification.py:1334: UndefinedMetricWarning: Precision and F-score are ill-defined and being set to 0.0 in labels with no predicted samples. Use `zero_division` parameter to control this behavior.\n",
      "  _warn_prf(average, modifier, msg_start, len(result))\n",
      "/home/ppibot/anaconda3/envs/myenv/lib/python3.9/site-packages/sklearn/metrics/_classification.py:1334: UndefinedMetricWarning: Recall and F-score are ill-defined and being set to 0.0 in labels with no true samples. Use `zero_division` parameter to control this behavior.\n",
      "  _warn_prf(average, modifier, msg_start, len(result))\n",
      "                                                   \n",
      " 95%|█████████▍| 1314/1387 [06:18<00:14,  5.01it/s]Saving model checkpoint to ./model/run-39/checkpoint-1314\n",
      "Configuration saved in ./model/run-39/checkpoint-1314/config.json\n"
     ]
    },
    {
     "name": "stdout",
     "output_type": "stream",
     "text": [
      "{'eval_loss': 0.46575671434402466, 'eval_accuracy': 0.7027027027027027, 'eval_f1': 0.5416666666666666, 'eval_precision': 0.5416666666666666, 'eval_recall': 0.5416666666666666, 'eval_slot': 0.8991294193596825, 'eval_slot_accuracy': 0.8333333333333333, 'eval_runtime': 2.996, 'eval_samples_per_second': 12.35, 'eval_steps_per_second': 6.342, 'epoch': 18.0}\n"
     ]
    },
    {
     "name": "stderr",
     "output_type": "stream",
     "text": [
      "Model weights saved in ./model/run-39/checkpoint-1314/pytorch_model.bin\n",
      "100%|██████████| 1387/1387 [06:35<00:00,  5.03it/s]***** Running Evaluation *****\n",
      "  Num examples = 37\n",
      "  Batch size = 2\n",
      "/home/ppibot/anaconda3/envs/myenv/lib/python3.9/site-packages/sklearn/metrics/_classification.py:1334: UndefinedMetricWarning: Precision and F-score are ill-defined and being set to 0.0 in labels with no predicted samples. Use `zero_division` parameter to control this behavior.\n",
      "  _warn_prf(average, modifier, msg_start, len(result))\n",
      "/home/ppibot/anaconda3/envs/myenv/lib/python3.9/site-packages/sklearn/metrics/_classification.py:1334: UndefinedMetricWarning: Recall and F-score are ill-defined and being set to 0.0 in labels with no true samples. Use `zero_division` parameter to control this behavior.\n",
      "  _warn_prf(average, modifier, msg_start, len(result))\n",
      "                                                   \n",
      "100%|██████████| 1387/1387 [06:38<00:00,  5.03it/s]Saving model checkpoint to ./model/run-39/checkpoint-1387\n",
      "Configuration saved in ./model/run-39/checkpoint-1387/config.json\n"
     ]
    },
    {
     "name": "stdout",
     "output_type": "stream",
     "text": [
      "{'eval_loss': 0.4663425087928772, 'eval_accuracy': 0.7027027027027027, 'eval_f1': 0.5416666666666666, 'eval_precision': 0.5416666666666666, 'eval_recall': 0.5416666666666666, 'eval_slot': 0.8991294193596825, 'eval_slot_accuracy': 0.8333333333333333, 'eval_runtime': 2.9946, 'eval_samples_per_second': 12.355, 'eval_steps_per_second': 6.345, 'epoch': 19.0}\n"
     ]
    },
    {
     "name": "stderr",
     "output_type": "stream",
     "text": [
      "Model weights saved in ./model/run-39/checkpoint-1387/pytorch_model.bin\n",
      "\n",
      "\n",
      "Training completed. Do not forget to share your model on huggingface.co/models =)\n",
      "\n",
      "\n",
      "Loading best model from ./model/run-39/checkpoint-949 (score: 0.8423423423423424).\n",
      "100%|██████████| 1387/1387 [06:41<00:00,  3.45it/s]\n",
      "\u001b[32m[I 2023-06-11 20:18:04,514]\u001b[0m Trial 39 finished with value: 0.8333333333333333 and parameters: {'learning_rate': 8.510892010330075e-05, 'num_train_epochs': 19}. Best is trial 11 with value: 0.8558558558558559.\u001b[0m\n",
      "Trial: {'learning_rate': 2.716880504778159e-05, 'num_train_epochs': 8}\n",
      "loading configuration file config.json from cache at /home/ppibot/.cache/huggingface/hub/models--google--flan-t5-base/snapshots/c782cba52f8ea6a704240578055cf1c3fc2f2ca9/config.json\n",
      "Model config T5Config {\n",
      "  \"_name_or_path\": \"google/flan-t5-base\",\n",
      "  \"architectures\": [\n",
      "    \"T5ForConditionalGeneration\"\n",
      "  ],\n",
      "  \"d_ff\": 2048,\n",
      "  \"d_kv\": 64,\n",
      "  \"d_model\": 768,\n",
      "  \"decoder_start_token_id\": 0,\n",
      "  \"dense_act_fn\": \"gelu_new\",\n",
      "  \"dropout_rate\": 0.1,\n",
      "  \"eos_token_id\": 1,\n",
      "  \"feed_forward_proj\": \"gated-gelu\",\n",
      "  \"initializer_factor\": 1.0,\n",
      "  \"is_encoder_decoder\": true,\n",
      "  \"is_gated_act\": true,\n",
      "  \"layer_norm_epsilon\": 1e-06,\n",
      "  \"model_type\": \"t5\",\n",
      "  \"n_positions\": 512,\n",
      "  \"num_decoder_layers\": 12,\n",
      "  \"num_heads\": 12,\n",
      "  \"num_layers\": 12,\n",
      "  \"output_past\": true,\n",
      "  \"pad_token_id\": 0,\n",
      "  \"relative_attention_max_distance\": 128,\n",
      "  \"relative_attention_num_buckets\": 32,\n",
      "  \"task_specific_params\": {\n",
      "    \"summarization\": {\n",
      "      \"early_stopping\": true,\n",
      "      \"length_penalty\": 2.0,\n",
      "      \"max_length\": 200,\n",
      "      \"min_length\": 30,\n",
      "      \"no_repeat_ngram_size\": 3,\n",
      "      \"num_beams\": 4,\n",
      "      \"prefix\": \"summarize: \"\n",
      "    },\n",
      "    \"translation_en_to_de\": {\n",
      "      \"early_stopping\": true,\n",
      "      \"max_length\": 300,\n",
      "      \"num_beams\": 4,\n",
      "      \"prefix\": \"translate English to German: \"\n",
      "    },\n",
      "    \"translation_en_to_fr\": {\n",
      "      \"early_stopping\": true,\n",
      "      \"max_length\": 300,\n",
      "      \"num_beams\": 4,\n",
      "      \"prefix\": \"translate English to French: \"\n",
      "    },\n",
      "    \"translation_en_to_ro\": {\n",
      "      \"early_stopping\": true,\n",
      "      \"max_length\": 300,\n",
      "      \"num_beams\": 4,\n",
      "      \"prefix\": \"translate English to Romanian: \"\n",
      "    }\n",
      "  },\n",
      "  \"tie_word_embeddings\": false,\n",
      "  \"transformers_version\": \"4.24.0\",\n",
      "  \"use_cache\": true,\n",
      "  \"vocab_size\": 32128\n",
      "}\n",
      "\n",
      "loading weights file pytorch_model.bin from cache at /home/ppibot/.cache/huggingface/hub/models--google--flan-t5-base/snapshots/c782cba52f8ea6a704240578055cf1c3fc2f2ca9/pytorch_model.bin\n"
     ]
    },
    {
     "name": "stdout",
     "output_type": "stream",
     "text": [
      "{'train_runtime': 401.7616, 'train_samples_per_second': 6.905, 'train_steps_per_second': 3.452, 'train_loss': 0.10882353834222355, 'epoch': 19.0}\n"
     ]
    },
    {
     "name": "stderr",
     "output_type": "stream",
     "text": [
      "All model checkpoint weights were used when initializing T5ForConditionalGeneration.\n",
      "\n",
      "All the weights of T5ForConditionalGeneration were initialized from the model checkpoint at google/flan-t5-base.\n",
      "If your task is similar to the task the model of the checkpoint was trained on, you can already use T5ForConditionalGeneration for predictions without further training.\n",
      "/home/ppibot/anaconda3/envs/myenv/lib/python3.9/site-packages/transformers/optimization.py:306: FutureWarning: This implementation of AdamW is deprecated and will be removed in a future version. Use the PyTorch implementation torch.optim.AdamW instead, or set `no_deprecation_warning=True` to disable this warning\n",
      "  warnings.warn(\n",
      "***** Running training *****\n",
      "  Num examples = 146\n",
      "  Num Epochs = 8\n",
      "  Instantaneous batch size per device = 2\n",
      "  Total train batch size (w. parallel, distributed & accumulation) = 2\n",
      "  Gradient Accumulation steps = 1\n",
      "  Total optimization steps = 584\n",
      "  Number of trainable parameters = 247577856\n",
      " 12%|█▎        | 73/584 [00:14<01:41,  5.03it/s]***** Running Evaluation *****\n",
      "  Num examples = 37\n",
      "  Batch size = 2\n",
      "/home/ppibot/anaconda3/envs/myenv/lib/python3.9/site-packages/sklearn/metrics/_classification.py:1334: UndefinedMetricWarning: Precision and F-score are ill-defined and being set to 0.0 in labels with no predicted samples. Use `zero_division` parameter to control this behavior.\n",
      "  _warn_prf(average, modifier, msg_start, len(result))\n",
      "/home/ppibot/anaconda3/envs/myenv/lib/python3.9/site-packages/sklearn/metrics/_classification.py:1334: UndefinedMetricWarning: Recall and F-score are ill-defined and being set to 0.0 in labels with no true samples. Use `zero_division` parameter to control this behavior.\n",
      "  _warn_prf(average, modifier, msg_start, len(result))\n",
      "                                                \n",
      " 12%|█▎        | 73/584 [00:17<02:01,  4.20it/s]\n",
      "\u001b[32m[I 2023-06-11 20:18:23,233]\u001b[0m Trial 40 pruned. \u001b[0m\n",
      "Trial: {'learning_rate': 8.761758796571284e-05, 'num_train_epochs': 19}\n",
      "loading configuration file config.json from cache at /home/ppibot/.cache/huggingface/hub/models--google--flan-t5-base/snapshots/c782cba52f8ea6a704240578055cf1c3fc2f2ca9/config.json\n",
      "Model config T5Config {\n",
      "  \"_name_or_path\": \"google/flan-t5-base\",\n",
      "  \"architectures\": [\n",
      "    \"T5ForConditionalGeneration\"\n",
      "  ],\n",
      "  \"d_ff\": 2048,\n",
      "  \"d_kv\": 64,\n",
      "  \"d_model\": 768,\n",
      "  \"decoder_start_token_id\": 0,\n",
      "  \"dense_act_fn\": \"gelu_new\",\n",
      "  \"dropout_rate\": 0.1,\n",
      "  \"eos_token_id\": 1,\n",
      "  \"feed_forward_proj\": \"gated-gelu\",\n",
      "  \"initializer_factor\": 1.0,\n",
      "  \"is_encoder_decoder\": true,\n",
      "  \"is_gated_act\": true,\n",
      "  \"layer_norm_epsilon\": 1e-06,\n",
      "  \"model_type\": \"t5\",\n",
      "  \"n_positions\": 512,\n",
      "  \"num_decoder_layers\": 12,\n",
      "  \"num_heads\": 12,\n",
      "  \"num_layers\": 12,\n",
      "  \"output_past\": true,\n",
      "  \"pad_token_id\": 0,\n",
      "  \"relative_attention_max_distance\": 128,\n",
      "  \"relative_attention_num_buckets\": 32,\n",
      "  \"task_specific_params\": {\n",
      "    \"summarization\": {\n",
      "      \"early_stopping\": true,\n",
      "      \"length_penalty\": 2.0,\n",
      "      \"max_length\": 200,\n",
      "      \"min_length\": 30,\n",
      "      \"no_repeat_ngram_size\": 3,\n",
      "      \"num_beams\": 4,\n",
      "      \"prefix\": \"summarize: \"\n",
      "    },\n",
      "    \"translation_en_to_de\": {\n",
      "      \"early_stopping\": true,\n",
      "      \"max_length\": 300,\n",
      "      \"num_beams\": 4,\n",
      "      \"prefix\": \"translate English to German: \"\n",
      "    },\n",
      "    \"translation_en_to_fr\": {\n",
      "      \"early_stopping\": true,\n",
      "      \"max_length\": 300,\n",
      "      \"num_beams\": 4,\n",
      "      \"prefix\": \"translate English to French: \"\n",
      "    },\n",
      "    \"translation_en_to_ro\": {\n",
      "      \"early_stopping\": true,\n",
      "      \"max_length\": 300,\n",
      "      \"num_beams\": 4,\n",
      "      \"prefix\": \"translate English to Romanian: \"\n",
      "    }\n",
      "  },\n",
      "  \"tie_word_embeddings\": false,\n",
      "  \"transformers_version\": \"4.24.0\",\n",
      "  \"use_cache\": true,\n",
      "  \"vocab_size\": 32128\n",
      "}\n",
      "\n",
      "loading weights file pytorch_model.bin from cache at /home/ppibot/.cache/huggingface/hub/models--google--flan-t5-base/snapshots/c782cba52f8ea6a704240578055cf1c3fc2f2ca9/pytorch_model.bin\n"
     ]
    },
    {
     "name": "stdout",
     "output_type": "stream",
     "text": [
      "{'eval_loss': 0.6603150367736816, 'eval_accuracy': 0.05405405405405406, 'eval_f1': 0.02857142857142857, 'eval_precision': 0.02857142857142857, 'eval_recall': 0.02857142857142857, 'eval_slot': 0.3198007674027936, 'eval_slot_accuracy': 0.18693693693693691, 'eval_runtime': 2.8741, 'eval_samples_per_second': 12.874, 'eval_steps_per_second': 6.611, 'epoch': 1.0}\n"
     ]
    },
    {
     "name": "stderr",
     "output_type": "stream",
     "text": [
      "All model checkpoint weights were used when initializing T5ForConditionalGeneration.\n",
      "\n",
      "All the weights of T5ForConditionalGeneration were initialized from the model checkpoint at google/flan-t5-base.\n",
      "If your task is similar to the task the model of the checkpoint was trained on, you can already use T5ForConditionalGeneration for predictions without further training.\n",
      "/home/ppibot/anaconda3/envs/myenv/lib/python3.9/site-packages/transformers/optimization.py:306: FutureWarning: This implementation of AdamW is deprecated and will be removed in a future version. Use the PyTorch implementation torch.optim.AdamW instead, or set `no_deprecation_warning=True` to disable this warning\n",
      "  warnings.warn(\n",
      "***** Running training *****\n",
      "  Num examples = 146\n",
      "  Num Epochs = 19\n",
      "  Instantaneous batch size per device = 2\n",
      "  Total train batch size (w. parallel, distributed & accumulation) = 2\n",
      "  Gradient Accumulation steps = 1\n",
      "  Total optimization steps = 1387\n",
      "  Number of trainable parameters = 247577856\n",
      "  5%|▌         | 73/1387 [00:14<04:21,  5.02it/s]***** Running Evaluation *****\n",
      "  Num examples = 37\n",
      "  Batch size = 2\n",
      "/home/ppibot/anaconda3/envs/myenv/lib/python3.9/site-packages/sklearn/metrics/_classification.py:1334: UndefinedMetricWarning: Precision and F-score are ill-defined and being set to 0.0 in labels with no predicted samples. Use `zero_division` parameter to control this behavior.\n",
      "  _warn_prf(average, modifier, msg_start, len(result))\n",
      "/home/ppibot/anaconda3/envs/myenv/lib/python3.9/site-packages/sklearn/metrics/_classification.py:1334: UndefinedMetricWarning: Recall and F-score are ill-defined and being set to 0.0 in labels with no true samples. Use `zero_division` parameter to control this behavior.\n",
      "  _warn_prf(average, modifier, msg_start, len(result))\n",
      "                                                 \n",
      "  5%|▌         | 73/1387 [00:17<04:21,  5.02it/s]Saving model checkpoint to ./model/run-41/checkpoint-73\n",
      "Configuration saved in ./model/run-41/checkpoint-73/config.json\n"
     ]
    },
    {
     "name": "stdout",
     "output_type": "stream",
     "text": [
      "{'eval_loss': 0.3764350414276123, 'eval_accuracy': 0.40540540540540543, 'eval_f1': 0.2542372881355932, 'eval_precision': 0.2542372881355932, 'eval_recall': 0.2542372881355932, 'eval_slot': 0.7532098705797219, 'eval_slot_accuracy': 0.6621621621621622, 'eval_runtime': 2.8507, 'eval_samples_per_second': 12.979, 'eval_steps_per_second': 6.665, 'epoch': 1.0}\n"
     ]
    },
    {
     "name": "stderr",
     "output_type": "stream",
     "text": [
      "Model weights saved in ./model/run-41/checkpoint-73/pytorch_model.bin\n",
      " 11%|█         | 146/1387 [00:34<04:07,  5.01it/s]***** Running Evaluation *****\n",
      "  Num examples = 37\n",
      "  Batch size = 2\n",
      "/home/ppibot/anaconda3/envs/myenv/lib/python3.9/site-packages/sklearn/metrics/_classification.py:1334: UndefinedMetricWarning: Precision and F-score are ill-defined and being set to 0.0 in labels with no predicted samples. Use `zero_division` parameter to control this behavior.\n",
      "  _warn_prf(average, modifier, msg_start, len(result))\n",
      "/home/ppibot/anaconda3/envs/myenv/lib/python3.9/site-packages/sklearn/metrics/_classification.py:1334: UndefinedMetricWarning: Recall and F-score are ill-defined and being set to 0.0 in labels with no true samples. Use `zero_division` parameter to control this behavior.\n",
      "  _warn_prf(average, modifier, msg_start, len(result))\n",
      "                                                  \n",
      " 11%|█         | 146/1387 [00:37<04:07,  5.01it/s]Saving model checkpoint to ./model/run-41/checkpoint-146\n",
      "Configuration saved in ./model/run-41/checkpoint-146/config.json\n"
     ]
    },
    {
     "name": "stdout",
     "output_type": "stream",
     "text": [
      "{'eval_loss': 0.32884126901626587, 'eval_accuracy': 0.4594594594594595, 'eval_f1': 0.2982456140350877, 'eval_precision': 0.2982456140350877, 'eval_recall': 0.2982456140350877, 'eval_slot': 0.7548654440749027, 'eval_slot_accuracy': 0.6891891891891891, 'eval_runtime': 2.9173, 'eval_samples_per_second': 12.683, 'eval_steps_per_second': 6.513, 'epoch': 2.0}\n"
     ]
    },
    {
     "name": "stderr",
     "output_type": "stream",
     "text": [
      "Model weights saved in ./model/run-41/checkpoint-146/pytorch_model.bin\n",
      " 16%|█▌        | 219/1387 [00:54<03:52,  5.02it/s]***** Running Evaluation *****\n",
      "  Num examples = 37\n",
      "  Batch size = 2\n",
      "/home/ppibot/anaconda3/envs/myenv/lib/python3.9/site-packages/sklearn/metrics/_classification.py:1334: UndefinedMetricWarning: Precision and F-score are ill-defined and being set to 0.0 in labels with no predicted samples. Use `zero_division` parameter to control this behavior.\n",
      "  _warn_prf(average, modifier, msg_start, len(result))\n",
      "/home/ppibot/anaconda3/envs/myenv/lib/python3.9/site-packages/sklearn/metrics/_classification.py:1334: UndefinedMetricWarning: Recall and F-score are ill-defined and being set to 0.0 in labels with no true samples. Use `zero_division` parameter to control this behavior.\n",
      "  _warn_prf(average, modifier, msg_start, len(result))\n",
      "                                                  \n",
      " 16%|█▌        | 219/1387 [00:57<03:52,  5.02it/s]Saving model checkpoint to ./model/run-41/checkpoint-219\n",
      "Configuration saved in ./model/run-41/checkpoint-219/config.json\n"
     ]
    },
    {
     "name": "stdout",
     "output_type": "stream",
     "text": [
      "{'eval_loss': 0.3317199945449829, 'eval_accuracy': 0.6216216216216216, 'eval_f1': 0.45098039215686275, 'eval_precision': 0.45098039215686275, 'eval_recall': 0.45098039215686275, 'eval_slot': 0.887638192351214, 'eval_slot_accuracy': 0.8018018018018017, 'eval_runtime': 2.9116, 'eval_samples_per_second': 12.708, 'eval_steps_per_second': 6.526, 'epoch': 3.0}\n"
     ]
    },
    {
     "name": "stderr",
     "output_type": "stream",
     "text": [
      "Model weights saved in ./model/run-41/checkpoint-219/pytorch_model.bin\n",
      " 21%|██        | 292/1387 [01:14<03:37,  5.02it/s]***** Running Evaluation *****\n",
      "  Num examples = 37\n",
      "  Batch size = 2\n",
      "/home/ppibot/anaconda3/envs/myenv/lib/python3.9/site-packages/sklearn/metrics/_classification.py:1334: UndefinedMetricWarning: Precision and F-score are ill-defined and being set to 0.0 in labels with no predicted samples. Use `zero_division` parameter to control this behavior.\n",
      "  _warn_prf(average, modifier, msg_start, len(result))\n",
      "/home/ppibot/anaconda3/envs/myenv/lib/python3.9/site-packages/sklearn/metrics/_classification.py:1334: UndefinedMetricWarning: Recall and F-score are ill-defined and being set to 0.0 in labels with no true samples. Use `zero_division` parameter to control this behavior.\n",
      "  _warn_prf(average, modifier, msg_start, len(result))\n",
      "                                                  \n",
      " 21%|██        | 292/1387 [01:17<03:37,  5.02it/s]Saving model checkpoint to ./model/run-41/checkpoint-292\n",
      "Configuration saved in ./model/run-41/checkpoint-292/config.json\n"
     ]
    },
    {
     "name": "stdout",
     "output_type": "stream",
     "text": [
      "{'eval_loss': 0.3696148097515106, 'eval_accuracy': 0.6216216216216216, 'eval_f1': 0.45098039215686275, 'eval_precision': 0.45098039215686275, 'eval_recall': 0.45098039215686275, 'eval_slot': 0.8666264974264758, 'eval_slot_accuracy': 0.7702702702702703, 'eval_runtime': 2.8751, 'eval_samples_per_second': 12.869, 'eval_steps_per_second': 6.608, 'epoch': 4.0}\n"
     ]
    },
    {
     "name": "stderr",
     "output_type": "stream",
     "text": [
      "Model weights saved in ./model/run-41/checkpoint-292/pytorch_model.bin\n",
      " 26%|██▋       | 365/1387 [01:35<03:23,  5.01it/s]***** Running Evaluation *****\n",
      "  Num examples = 37\n",
      "  Batch size = 2\n",
      "/home/ppibot/anaconda3/envs/myenv/lib/python3.9/site-packages/sklearn/metrics/_classification.py:1334: UndefinedMetricWarning: Precision and F-score are ill-defined and being set to 0.0 in labels with no predicted samples. Use `zero_division` parameter to control this behavior.\n",
      "  _warn_prf(average, modifier, msg_start, len(result))\n",
      "/home/ppibot/anaconda3/envs/myenv/lib/python3.9/site-packages/sklearn/metrics/_classification.py:1334: UndefinedMetricWarning: Recall and F-score are ill-defined and being set to 0.0 in labels with no true samples. Use `zero_division` parameter to control this behavior.\n",
      "  _warn_prf(average, modifier, msg_start, len(result))\n",
      "                                                  \n",
      " 26%|██▋       | 365/1387 [01:38<03:23,  5.01it/s]Saving model checkpoint to ./model/run-41/checkpoint-365\n",
      "Configuration saved in ./model/run-41/checkpoint-365/config.json\n"
     ]
    },
    {
     "name": "stdout",
     "output_type": "stream",
     "text": [
      "{'eval_loss': 0.36228927969932556, 'eval_accuracy': 0.6756756756756757, 'eval_f1': 0.5102040816326531, 'eval_precision': 0.5102040816326531, 'eval_recall': 0.5102040816326531, 'eval_slot': 0.8600444261004606, 'eval_slot_accuracy': 0.8018018018018018, 'eval_runtime': 2.8834, 'eval_samples_per_second': 12.832, 'eval_steps_per_second': 6.589, 'epoch': 5.0}\n"
     ]
    },
    {
     "name": "stderr",
     "output_type": "stream",
     "text": [
      "Model weights saved in ./model/run-41/checkpoint-365/pytorch_model.bin\n",
      " 32%|███▏      | 438/1387 [01:57<03:08,  5.03it/s]***** Running Evaluation *****\n",
      "  Num examples = 37\n",
      "  Batch size = 2\n",
      "/home/ppibot/anaconda3/envs/myenv/lib/python3.9/site-packages/sklearn/metrics/_classification.py:1334: UndefinedMetricWarning: Precision and F-score are ill-defined and being set to 0.0 in labels with no predicted samples. Use `zero_division` parameter to control this behavior.\n",
      "  _warn_prf(average, modifier, msg_start, len(result))\n",
      "/home/ppibot/anaconda3/envs/myenv/lib/python3.9/site-packages/sklearn/metrics/_classification.py:1334: UndefinedMetricWarning: Recall and F-score are ill-defined and being set to 0.0 in labels with no true samples. Use `zero_division` parameter to control this behavior.\n",
      "  _warn_prf(average, modifier, msg_start, len(result))\n",
      "                                                  \n",
      " 32%|███▏      | 438/1387 [02:00<03:08,  5.03it/s]Saving model checkpoint to ./model/run-41/checkpoint-438\n",
      "Configuration saved in ./model/run-41/checkpoint-438/config.json\n"
     ]
    },
    {
     "name": "stdout",
     "output_type": "stream",
     "text": [
      "{'eval_loss': 0.37019994854927063, 'eval_accuracy': 0.6486486486486487, 'eval_f1': 0.48, 'eval_precision': 0.48, 'eval_recall': 0.48, 'eval_slot': 0.90659792682819, 'eval_slot_accuracy': 0.8333333333333333, 'eval_runtime': 2.9189, 'eval_samples_per_second': 12.676, 'eval_steps_per_second': 6.509, 'epoch': 6.0}\n"
     ]
    },
    {
     "name": "stderr",
     "output_type": "stream",
     "text": [
      "Model weights saved in ./model/run-41/checkpoint-438/pytorch_model.bin\n",
      " 36%|███▌      | 501/1387 [02:20<02:57,  4.98it/s]"
     ]
    },
    {
     "name": "stdout",
     "output_type": "stream",
     "text": [
      "{'loss': 0.2683, 'learning_rate': 5.6032300306840154e-05, 'epoch': 6.85}\n"
     ]
    },
    {
     "name": "stderr",
     "output_type": "stream",
     "text": [
      " 37%|███▋      | 511/1387 [02:22<02:55,  5.00it/s]***** Running Evaluation *****\n",
      "  Num examples = 37\n",
      "  Batch size = 2\n",
      "/home/ppibot/anaconda3/envs/myenv/lib/python3.9/site-packages/sklearn/metrics/_classification.py:1334: UndefinedMetricWarning: Precision and F-score are ill-defined and being set to 0.0 in labels with no predicted samples. Use `zero_division` parameter to control this behavior.\n",
      "  _warn_prf(average, modifier, msg_start, len(result))\n",
      "/home/ppibot/anaconda3/envs/myenv/lib/python3.9/site-packages/sklearn/metrics/_classification.py:1334: UndefinedMetricWarning: Recall and F-score are ill-defined and being set to 0.0 in labels with no true samples. Use `zero_division` parameter to control this behavior.\n",
      "  _warn_prf(average, modifier, msg_start, len(result))\n",
      "                                                  \n",
      " 37%|███▋      | 511/1387 [02:25<02:55,  5.00it/s]Saving model checkpoint to ./model/run-41/checkpoint-511\n",
      "Configuration saved in ./model/run-41/checkpoint-511/config.json\n"
     ]
    },
    {
     "name": "stdout",
     "output_type": "stream",
     "text": [
      "{'eval_loss': 0.41021066904067993, 'eval_accuracy': 0.6216216216216216, 'eval_f1': 0.45098039215686275, 'eval_precision': 0.45098039215686275, 'eval_recall': 0.45098039215686275, 'eval_slot': 0.8608479613867545, 'eval_slot_accuracy': 0.7972972972972973, 'eval_runtime': 2.9829, 'eval_samples_per_second': 12.404, 'eval_steps_per_second': 6.37, 'epoch': 7.0}\n"
     ]
    },
    {
     "name": "stderr",
     "output_type": "stream",
     "text": [
      "Model weights saved in ./model/run-41/checkpoint-511/pytorch_model.bin\n",
      " 42%|████▏     | 584/1387 [02:43<02:39,  5.04it/s]***** Running Evaluation *****\n",
      "  Num examples = 37\n",
      "  Batch size = 2\n",
      "/home/ppibot/anaconda3/envs/myenv/lib/python3.9/site-packages/sklearn/metrics/_classification.py:1334: UndefinedMetricWarning: Precision and F-score are ill-defined and being set to 0.0 in labels with no predicted samples. Use `zero_division` parameter to control this behavior.\n",
      "  _warn_prf(average, modifier, msg_start, len(result))\n",
      "/home/ppibot/anaconda3/envs/myenv/lib/python3.9/site-packages/sklearn/metrics/_classification.py:1334: UndefinedMetricWarning: Recall and F-score are ill-defined and being set to 0.0 in labels with no true samples. Use `zero_division` parameter to control this behavior.\n",
      "  _warn_prf(average, modifier, msg_start, len(result))\n",
      "                                                  \n",
      " 42%|████▏     | 584/1387 [02:46<02:39,  5.04it/s]Saving model checkpoint to ./model/run-41/checkpoint-584\n",
      "Configuration saved in ./model/run-41/checkpoint-584/config.json\n"
     ]
    },
    {
     "name": "stdout",
     "output_type": "stream",
     "text": [
      "{'eval_loss': 0.4099242091178894, 'eval_accuracy': 0.6486486486486487, 'eval_f1': 0.48, 'eval_precision': 0.48, 'eval_recall': 0.48, 'eval_slot': 0.8717903920206551, 'eval_slot_accuracy': 0.8063063063063063, 'eval_runtime': 2.8934, 'eval_samples_per_second': 12.788, 'eval_steps_per_second': 6.567, 'epoch': 8.0}\n"
     ]
    },
    {
     "name": "stderr",
     "output_type": "stream",
     "text": [
      "Model weights saved in ./model/run-41/checkpoint-584/pytorch_model.bin\n",
      " 47%|████▋     | 657/1387 [03:05<02:25,  5.03it/s]***** Running Evaluation *****\n",
      "  Num examples = 37\n",
      "  Batch size = 2\n",
      "/home/ppibot/anaconda3/envs/myenv/lib/python3.9/site-packages/sklearn/metrics/_classification.py:1334: UndefinedMetricWarning: Precision and F-score are ill-defined and being set to 0.0 in labels with no predicted samples. Use `zero_division` parameter to control this behavior.\n",
      "  _warn_prf(average, modifier, msg_start, len(result))\n",
      "/home/ppibot/anaconda3/envs/myenv/lib/python3.9/site-packages/sklearn/metrics/_classification.py:1334: UndefinedMetricWarning: Recall and F-score are ill-defined and being set to 0.0 in labels with no true samples. Use `zero_division` parameter to control this behavior.\n",
      "  _warn_prf(average, modifier, msg_start, len(result))\n",
      "                                                  \n",
      " 47%|████▋     | 657/1387 [03:08<02:25,  5.03it/s]Saving model checkpoint to ./model/run-41/checkpoint-657\n",
      "Configuration saved in ./model/run-41/checkpoint-657/config.json\n"
     ]
    },
    {
     "name": "stdout",
     "output_type": "stream",
     "text": [
      "{'eval_loss': 0.43029725551605225, 'eval_accuracy': 0.6486486486486487, 'eval_f1': 0.48, 'eval_precision': 0.48, 'eval_recall': 0.48, 'eval_slot': 0.8717903920206551, 'eval_slot_accuracy': 0.8063063063063063, 'eval_runtime': 3.0329, 'eval_samples_per_second': 12.2, 'eval_steps_per_second': 6.265, 'epoch': 9.0}\n"
     ]
    },
    {
     "name": "stderr",
     "output_type": "stream",
     "text": [
      "Model weights saved in ./model/run-41/checkpoint-657/pytorch_model.bin\n",
      " 53%|█████▎    | 730/1387 [03:28<02:10,  5.03it/s]***** Running Evaluation *****\n",
      "  Num examples = 37\n",
      "  Batch size = 2\n",
      "/home/ppibot/anaconda3/envs/myenv/lib/python3.9/site-packages/sklearn/metrics/_classification.py:1334: UndefinedMetricWarning: Precision and F-score are ill-defined and being set to 0.0 in labels with no predicted samples. Use `zero_division` parameter to control this behavior.\n",
      "  _warn_prf(average, modifier, msg_start, len(result))\n",
      "/home/ppibot/anaconda3/envs/myenv/lib/python3.9/site-packages/sklearn/metrics/_classification.py:1334: UndefinedMetricWarning: Recall and F-score are ill-defined and being set to 0.0 in labels with no true samples. Use `zero_division` parameter to control this behavior.\n",
      "  _warn_prf(average, modifier, msg_start, len(result))\n",
      "                                                  \n",
      " 53%|█████▎    | 730/1387 [03:31<02:10,  5.03it/s]Saving model checkpoint to ./model/run-41/checkpoint-730\n",
      "Configuration saved in ./model/run-41/checkpoint-730/config.json\n"
     ]
    },
    {
     "name": "stdout",
     "output_type": "stream",
     "text": [
      "{'eval_loss': 0.5054725408554077, 'eval_accuracy': 0.6486486486486487, 'eval_f1': 0.48, 'eval_precision': 0.48, 'eval_recall': 0.48, 'eval_slot': 0.8630933833236464, 'eval_slot_accuracy': 0.8063063063063063, 'eval_runtime': 2.964, 'eval_samples_per_second': 12.483, 'eval_steps_per_second': 6.41, 'epoch': 10.0}\n"
     ]
    },
    {
     "name": "stderr",
     "output_type": "stream",
     "text": [
      "Model weights saved in ./model/run-41/checkpoint-730/pytorch_model.bin\n",
      " 58%|█████▊    | 803/1387 [03:55<01:56,  5.01it/s]***** Running Evaluation *****\n",
      "  Num examples = 37\n",
      "  Batch size = 2\n",
      "/home/ppibot/anaconda3/envs/myenv/lib/python3.9/site-packages/sklearn/metrics/_classification.py:1334: UndefinedMetricWarning: Precision and F-score are ill-defined and being set to 0.0 in labels with no predicted samples. Use `zero_division` parameter to control this behavior.\n",
      "  _warn_prf(average, modifier, msg_start, len(result))\n",
      "/home/ppibot/anaconda3/envs/myenv/lib/python3.9/site-packages/sklearn/metrics/_classification.py:1334: UndefinedMetricWarning: Recall and F-score are ill-defined and being set to 0.0 in labels with no true samples. Use `zero_division` parameter to control this behavior.\n",
      "  _warn_prf(average, modifier, msg_start, len(result))\n",
      "                                                  \n",
      " 58%|█████▊    | 803/1387 [03:58<01:56,  5.01it/s]Saving model checkpoint to ./model/run-41/checkpoint-803\n",
      "Configuration saved in ./model/run-41/checkpoint-803/config.json\n"
     ]
    },
    {
     "name": "stdout",
     "output_type": "stream",
     "text": [
      "{'eval_loss': 0.442026287317276, 'eval_accuracy': 0.6756756756756757, 'eval_f1': 0.5102040816326531, 'eval_precision': 0.5102040816326531, 'eval_recall': 0.5102040816326531, 'eval_slot': 0.8834874037176669, 'eval_slot_accuracy': 0.8153153153153153, 'eval_runtime': 2.9273, 'eval_samples_per_second': 12.64, 'eval_steps_per_second': 6.491, 'epoch': 11.0}\n"
     ]
    },
    {
     "name": "stderr",
     "output_type": "stream",
     "text": [
      "Model weights saved in ./model/run-41/checkpoint-803/pytorch_model.bin\n",
      " 63%|██████▎   | 876/1387 [04:21<01:41,  5.03it/s]***** Running Evaluation *****\n",
      "  Num examples = 37\n",
      "  Batch size = 2\n",
      "/home/ppibot/anaconda3/envs/myenv/lib/python3.9/site-packages/sklearn/metrics/_classification.py:1334: UndefinedMetricWarning: Precision and F-score are ill-defined and being set to 0.0 in labels with no predicted samples. Use `zero_division` parameter to control this behavior.\n",
      "  _warn_prf(average, modifier, msg_start, len(result))\n",
      "/home/ppibot/anaconda3/envs/myenv/lib/python3.9/site-packages/sklearn/metrics/_classification.py:1334: UndefinedMetricWarning: Recall and F-score are ill-defined and being set to 0.0 in labels with no true samples. Use `zero_division` parameter to control this behavior.\n",
      "  _warn_prf(average, modifier, msg_start, len(result))\n",
      "                                                  \n",
      " 63%|██████▎   | 876/1387 [04:24<01:41,  5.03it/s]Saving model checkpoint to ./model/run-41/checkpoint-876\n",
      "Configuration saved in ./model/run-41/checkpoint-876/config.json\n"
     ]
    },
    {
     "name": "stdout",
     "output_type": "stream",
     "text": [
      "{'eval_loss': 0.4420476257801056, 'eval_accuracy': 0.6756756756756757, 'eval_f1': 0.5102040816326531, 'eval_precision': 0.5102040816326531, 'eval_recall': 0.5102040816326531, 'eval_slot': 0.8834874037176669, 'eval_slot_accuracy': 0.8153153153153153, 'eval_runtime': 3.0648, 'eval_samples_per_second': 12.073, 'eval_steps_per_second': 6.199, 'epoch': 12.0}\n"
     ]
    },
    {
     "name": "stderr",
     "output_type": "stream",
     "text": [
      "Model weights saved in ./model/run-41/checkpoint-876/pytorch_model.bin\n",
      " 68%|██████▊   | 949/1387 [04:42<01:27,  5.02it/s]***** Running Evaluation *****\n",
      "  Num examples = 37\n",
      "  Batch size = 2\n",
      "/home/ppibot/anaconda3/envs/myenv/lib/python3.9/site-packages/sklearn/metrics/_classification.py:1334: UndefinedMetricWarning: Precision and F-score are ill-defined and being set to 0.0 in labels with no predicted samples. Use `zero_division` parameter to control this behavior.\n",
      "  _warn_prf(average, modifier, msg_start, len(result))\n",
      "/home/ppibot/anaconda3/envs/myenv/lib/python3.9/site-packages/sklearn/metrics/_classification.py:1334: UndefinedMetricWarning: Recall and F-score are ill-defined and being set to 0.0 in labels with no true samples. Use `zero_division` parameter to control this behavior.\n",
      "  _warn_prf(average, modifier, msg_start, len(result))\n",
      "                                                  \n",
      " 68%|██████▊   | 949/1387 [04:44<01:27,  5.02it/s]Saving model checkpoint to ./model/run-41/checkpoint-949\n",
      "Configuration saved in ./model/run-41/checkpoint-949/config.json\n"
     ]
    },
    {
     "name": "stdout",
     "output_type": "stream",
     "text": [
      "{'eval_loss': 0.45093557238578796, 'eval_accuracy': 0.6486486486486487, 'eval_f1': 0.48, 'eval_precision': 0.48, 'eval_recall': 0.48, 'eval_slot': 0.856236550379857, 'eval_slot_accuracy': 0.7792792792792793, 'eval_runtime': 2.9679, 'eval_samples_per_second': 12.467, 'eval_steps_per_second': 6.402, 'epoch': 13.0}\n"
     ]
    },
    {
     "name": "stderr",
     "output_type": "stream",
     "text": [
      "Model weights saved in ./model/run-41/checkpoint-949/pytorch_model.bin\n",
      " 72%|███████▏  | 1001/1387 [04:58<01:17,  5.01it/s]"
     ]
    },
    {
     "name": "stdout",
     "output_type": "stream",
     "text": [
      "{'loss': 0.0214, 'learning_rate': 2.4447012647967463e-05, 'epoch': 13.7}\n"
     ]
    },
    {
     "name": "stderr",
     "output_type": "stream",
     "text": [
      " 74%|███████▎  | 1022/1387 [05:02<01:12,  5.02it/s]***** Running Evaluation *****\n",
      "  Num examples = 37\n",
      "  Batch size = 2\n",
      "/home/ppibot/anaconda3/envs/myenv/lib/python3.9/site-packages/sklearn/metrics/_classification.py:1334: UndefinedMetricWarning: Precision and F-score are ill-defined and being set to 0.0 in labels with no predicted samples. Use `zero_division` parameter to control this behavior.\n",
      "  _warn_prf(average, modifier, msg_start, len(result))\n",
      "/home/ppibot/anaconda3/envs/myenv/lib/python3.9/site-packages/sklearn/metrics/_classification.py:1334: UndefinedMetricWarning: Recall and F-score are ill-defined and being set to 0.0 in labels with no true samples. Use `zero_division` parameter to control this behavior.\n",
      "  _warn_prf(average, modifier, msg_start, len(result))\n",
      "                                                   \n",
      " 74%|███████▎  | 1022/1387 [05:05<01:12,  5.02it/s]Saving model checkpoint to ./model/run-41/checkpoint-1022\n",
      "Configuration saved in ./model/run-41/checkpoint-1022/config.json\n"
     ]
    },
    {
     "name": "stdout",
     "output_type": "stream",
     "text": [
      "{'eval_loss': 0.407947838306427, 'eval_accuracy': 0.6756756756756757, 'eval_f1': 0.5102040816326531, 'eval_precision': 0.5102040816326531, 'eval_recall': 0.5102040816326531, 'eval_slot': 0.9079404281706913, 'eval_slot_accuracy': 0.8333333333333334, 'eval_runtime': 3.0275, 'eval_samples_per_second': 12.221, 'eval_steps_per_second': 6.276, 'epoch': 14.0}\n"
     ]
    },
    {
     "name": "stderr",
     "output_type": "stream",
     "text": [
      "Model weights saved in ./model/run-41/checkpoint-1022/pytorch_model.bin\n",
      " 79%|███████▉  | 1095/1387 [05:22<00:58,  5.03it/s]***** Running Evaluation *****\n",
      "  Num examples = 37\n",
      "  Batch size = 2\n",
      "/home/ppibot/anaconda3/envs/myenv/lib/python3.9/site-packages/sklearn/metrics/_classification.py:1334: UndefinedMetricWarning: Precision and F-score are ill-defined and being set to 0.0 in labels with no predicted samples. Use `zero_division` parameter to control this behavior.\n",
      "  _warn_prf(average, modifier, msg_start, len(result))\n",
      "/home/ppibot/anaconda3/envs/myenv/lib/python3.9/site-packages/sklearn/metrics/_classification.py:1334: UndefinedMetricWarning: Recall and F-score are ill-defined and being set to 0.0 in labels with no true samples. Use `zero_division` parameter to control this behavior.\n",
      "  _warn_prf(average, modifier, msg_start, len(result))\n",
      "                                                   \n",
      " 79%|███████▉  | 1095/1387 [05:25<00:58,  5.03it/s]Saving model checkpoint to ./model/run-41/checkpoint-1095\n",
      "Configuration saved in ./model/run-41/checkpoint-1095/config.json\n"
     ]
    },
    {
     "name": "stdout",
     "output_type": "stream",
     "text": [
      "{'eval_loss': 0.43775254487991333, 'eval_accuracy': 0.6756756756756757, 'eval_f1': 0.5102040816326531, 'eval_precision': 0.5102040816326531, 'eval_recall': 0.5102040816326531, 'eval_slot': 0.9079404281706913, 'eval_slot_accuracy': 0.8333333333333334, 'eval_runtime': 2.8736, 'eval_samples_per_second': 12.876, 'eval_steps_per_second': 6.612, 'epoch': 15.0}\n"
     ]
    },
    {
     "name": "stderr",
     "output_type": "stream",
     "text": [
      "Model weights saved in ./model/run-41/checkpoint-1095/pytorch_model.bin\n",
      " 84%|████████▍ | 1168/1387 [05:42<00:43,  5.00it/s]***** Running Evaluation *****\n",
      "  Num examples = 37\n",
      "  Batch size = 2\n",
      "/home/ppibot/anaconda3/envs/myenv/lib/python3.9/site-packages/sklearn/metrics/_classification.py:1334: UndefinedMetricWarning: Precision and F-score are ill-defined and being set to 0.0 in labels with no predicted samples. Use `zero_division` parameter to control this behavior.\n",
      "  _warn_prf(average, modifier, msg_start, len(result))\n",
      "/home/ppibot/anaconda3/envs/myenv/lib/python3.9/site-packages/sklearn/metrics/_classification.py:1334: UndefinedMetricWarning: Recall and F-score are ill-defined and being set to 0.0 in labels with no true samples. Use `zero_division` parameter to control this behavior.\n",
      "  _warn_prf(average, modifier, msg_start, len(result))\n",
      "                                                   \n",
      " 84%|████████▍ | 1168/1387 [05:45<00:43,  5.00it/s]Saving model checkpoint to ./model/run-41/checkpoint-1168\n",
      "Configuration saved in ./model/run-41/checkpoint-1168/config.json\n"
     ]
    },
    {
     "name": "stdout",
     "output_type": "stream",
     "text": [
      "{'eval_loss': 0.4429697096347809, 'eval_accuracy': 0.6756756756756757, 'eval_f1': 0.5102040816326531, 'eval_precision': 0.5102040816326531, 'eval_recall': 0.5102040816326531, 'eval_slot': 0.8865547026107371, 'eval_slot_accuracy': 0.8243243243243243, 'eval_runtime': 3.0237, 'eval_samples_per_second': 12.237, 'eval_steps_per_second': 6.284, 'epoch': 16.0}\n"
     ]
    },
    {
     "name": "stderr",
     "output_type": "stream",
     "text": [
      "Model weights saved in ./model/run-41/checkpoint-1168/pytorch_model.bin\n",
      " 89%|████████▉ | 1241/1387 [06:02<00:29,  5.01it/s]***** Running Evaluation *****\n",
      "  Num examples = 37\n",
      "  Batch size = 2\n",
      "/home/ppibot/anaconda3/envs/myenv/lib/python3.9/site-packages/sklearn/metrics/_classification.py:1334: UndefinedMetricWarning: Precision and F-score are ill-defined and being set to 0.0 in labels with no predicted samples. Use `zero_division` parameter to control this behavior.\n",
      "  _warn_prf(average, modifier, msg_start, len(result))\n",
      "/home/ppibot/anaconda3/envs/myenv/lib/python3.9/site-packages/sklearn/metrics/_classification.py:1334: UndefinedMetricWarning: Recall and F-score are ill-defined and being set to 0.0 in labels with no true samples. Use `zero_division` parameter to control this behavior.\n",
      "  _warn_prf(average, modifier, msg_start, len(result))\n",
      "                                                   \n",
      " 89%|████████▉ | 1241/1387 [06:05<00:29,  5.01it/s]Saving model checkpoint to ./model/run-41/checkpoint-1241\n",
      "Configuration saved in ./model/run-41/checkpoint-1241/config.json\n"
     ]
    },
    {
     "name": "stdout",
     "output_type": "stream",
     "text": [
      "{'eval_loss': 0.44452279806137085, 'eval_accuracy': 0.6756756756756757, 'eval_f1': 0.5102040816326531, 'eval_precision': 0.5102040816326531, 'eval_recall': 0.5102040816326531, 'eval_slot': 0.8868667029227374, 'eval_slot_accuracy': 0.8243243243243243, 'eval_runtime': 2.9316, 'eval_samples_per_second': 12.621, 'eval_steps_per_second': 6.481, 'epoch': 17.0}\n"
     ]
    },
    {
     "name": "stderr",
     "output_type": "stream",
     "text": [
      "Model weights saved in ./model/run-41/checkpoint-1241/pytorch_model.bin\n",
      " 95%|█████████▍| 1314/1387 [06:22<00:14,  5.02it/s]***** Running Evaluation *****\n",
      "  Num examples = 37\n",
      "  Batch size = 2\n",
      "/home/ppibot/anaconda3/envs/myenv/lib/python3.9/site-packages/sklearn/metrics/_classification.py:1334: UndefinedMetricWarning: Precision and F-score are ill-defined and being set to 0.0 in labels with no predicted samples. Use `zero_division` parameter to control this behavior.\n",
      "  _warn_prf(average, modifier, msg_start, len(result))\n",
      "/home/ppibot/anaconda3/envs/myenv/lib/python3.9/site-packages/sklearn/metrics/_classification.py:1334: UndefinedMetricWarning: Recall and F-score are ill-defined and being set to 0.0 in labels with no true samples. Use `zero_division` parameter to control this behavior.\n",
      "  _warn_prf(average, modifier, msg_start, len(result))\n",
      "                                                   \n",
      " 95%|█████████▍| 1314/1387 [06:25<00:14,  5.02it/s]Saving model checkpoint to ./model/run-41/checkpoint-1314\n",
      "Configuration saved in ./model/run-41/checkpoint-1314/config.json\n"
     ]
    },
    {
     "name": "stdout",
     "output_type": "stream",
     "text": [
      "{'eval_loss': 0.44787243008613586, 'eval_accuracy': 0.6756756756756757, 'eval_f1': 0.5102040816326531, 'eval_precision': 0.5102040816326531, 'eval_recall': 0.5102040816326531, 'eval_slot': 0.8868667029227374, 'eval_slot_accuracy': 0.8243243243243243, 'eval_runtime': 2.9404, 'eval_samples_per_second': 12.583, 'eval_steps_per_second': 6.462, 'epoch': 18.0}\n"
     ]
    },
    {
     "name": "stderr",
     "output_type": "stream",
     "text": [
      "Model weights saved in ./model/run-41/checkpoint-1314/pytorch_model.bin\n",
      "100%|██████████| 1387/1387 [06:42<00:00,  5.01it/s]***** Running Evaluation *****\n",
      "  Num examples = 37\n",
      "  Batch size = 2\n",
      "/home/ppibot/anaconda3/envs/myenv/lib/python3.9/site-packages/sklearn/metrics/_classification.py:1334: UndefinedMetricWarning: Precision and F-score are ill-defined and being set to 0.0 in labels with no predicted samples. Use `zero_division` parameter to control this behavior.\n",
      "  _warn_prf(average, modifier, msg_start, len(result))\n",
      "/home/ppibot/anaconda3/envs/myenv/lib/python3.9/site-packages/sklearn/metrics/_classification.py:1334: UndefinedMetricWarning: Recall and F-score are ill-defined and being set to 0.0 in labels with no true samples. Use `zero_division` parameter to control this behavior.\n",
      "  _warn_prf(average, modifier, msg_start, len(result))\n",
      "                                                   \n",
      "100%|██████████| 1387/1387 [06:45<00:00,  5.01it/s]Saving model checkpoint to ./model/run-41/checkpoint-1387\n",
      "Configuration saved in ./model/run-41/checkpoint-1387/config.json\n"
     ]
    },
    {
     "name": "stdout",
     "output_type": "stream",
     "text": [
      "{'eval_loss': 0.449800580739975, 'eval_accuracy': 0.6756756756756757, 'eval_f1': 0.5102040816326531, 'eval_precision': 0.5102040816326531, 'eval_recall': 0.5102040816326531, 'eval_slot': 0.8868667029227374, 'eval_slot_accuracy': 0.8243243243243243, 'eval_runtime': 3.0732, 'eval_samples_per_second': 12.04, 'eval_steps_per_second': 6.183, 'epoch': 19.0}\n"
     ]
    },
    {
     "name": "stderr",
     "output_type": "stream",
     "text": [
      "Model weights saved in ./model/run-41/checkpoint-1387/pytorch_model.bin\n",
      "\n",
      "\n",
      "Training completed. Do not forget to share your model on huggingface.co/models =)\n",
      "\n",
      "\n",
      "Loading best model from ./model/run-41/checkpoint-1022 (score: 0.8333333333333334).\n",
      "100%|██████████| 1387/1387 [06:48<00:00,  3.39it/s]\n",
      "\u001b[32m[I 2023-06-11 20:25:13,603]\u001b[0m Trial 41 finished with value: 0.8243243243243243 and parameters: {'learning_rate': 8.761758796571284e-05, 'num_train_epochs': 19}. Best is trial 11 with value: 0.8558558558558559.\u001b[0m\n",
      "Trial: {'learning_rate': 7.505352518304033e-05, 'num_train_epochs': 20}\n"
     ]
    },
    {
     "name": "stdout",
     "output_type": "stream",
     "text": [
      "{'train_runtime': 408.9013, 'train_samples_per_second': 6.784, 'train_steps_per_second': 3.392, 'train_loss': 0.10642503523190587, 'epoch': 19.0}\n"
     ]
    },
    {
     "name": "stderr",
     "output_type": "stream",
     "text": [
      "loading configuration file config.json from cache at /home/ppibot/.cache/huggingface/hub/models--google--flan-t5-base/snapshots/c782cba52f8ea6a704240578055cf1c3fc2f2ca9/config.json\n",
      "Model config T5Config {\n",
      "  \"_name_or_path\": \"google/flan-t5-base\",\n",
      "  \"architectures\": [\n",
      "    \"T5ForConditionalGeneration\"\n",
      "  ],\n",
      "  \"d_ff\": 2048,\n",
      "  \"d_kv\": 64,\n",
      "  \"d_model\": 768,\n",
      "  \"decoder_start_token_id\": 0,\n",
      "  \"dense_act_fn\": \"gelu_new\",\n",
      "  \"dropout_rate\": 0.1,\n",
      "  \"eos_token_id\": 1,\n",
      "  \"feed_forward_proj\": \"gated-gelu\",\n",
      "  \"initializer_factor\": 1.0,\n",
      "  \"is_encoder_decoder\": true,\n",
      "  \"is_gated_act\": true,\n",
      "  \"layer_norm_epsilon\": 1e-06,\n",
      "  \"model_type\": \"t5\",\n",
      "  \"n_positions\": 512,\n",
      "  \"num_decoder_layers\": 12,\n",
      "  \"num_heads\": 12,\n",
      "  \"num_layers\": 12,\n",
      "  \"output_past\": true,\n",
      "  \"pad_token_id\": 0,\n",
      "  \"relative_attention_max_distance\": 128,\n",
      "  \"relative_attention_num_buckets\": 32,\n",
      "  \"task_specific_params\": {\n",
      "    \"summarization\": {\n",
      "      \"early_stopping\": true,\n",
      "      \"length_penalty\": 2.0,\n",
      "      \"max_length\": 200,\n",
      "      \"min_length\": 30,\n",
      "      \"no_repeat_ngram_size\": 3,\n",
      "      \"num_beams\": 4,\n",
      "      \"prefix\": \"summarize: \"\n",
      "    },\n",
      "    \"translation_en_to_de\": {\n",
      "      \"early_stopping\": true,\n",
      "      \"max_length\": 300,\n",
      "      \"num_beams\": 4,\n",
      "      \"prefix\": \"translate English to German: \"\n",
      "    },\n",
      "    \"translation_en_to_fr\": {\n",
      "      \"early_stopping\": true,\n",
      "      \"max_length\": 300,\n",
      "      \"num_beams\": 4,\n",
      "      \"prefix\": \"translate English to French: \"\n",
      "    },\n",
      "    \"translation_en_to_ro\": {\n",
      "      \"early_stopping\": true,\n",
      "      \"max_length\": 300,\n",
      "      \"num_beams\": 4,\n",
      "      \"prefix\": \"translate English to Romanian: \"\n",
      "    }\n",
      "  },\n",
      "  \"tie_word_embeddings\": false,\n",
      "  \"transformers_version\": \"4.24.0\",\n",
      "  \"use_cache\": true,\n",
      "  \"vocab_size\": 32128\n",
      "}\n",
      "\n",
      "loading weights file pytorch_model.bin from cache at /home/ppibot/.cache/huggingface/hub/models--google--flan-t5-base/snapshots/c782cba52f8ea6a704240578055cf1c3fc2f2ca9/pytorch_model.bin\n",
      "All model checkpoint weights were used when initializing T5ForConditionalGeneration.\n",
      "\n",
      "All the weights of T5ForConditionalGeneration were initialized from the model checkpoint at google/flan-t5-base.\n",
      "If your task is similar to the task the model of the checkpoint was trained on, you can already use T5ForConditionalGeneration for predictions without further training.\n",
      "/home/ppibot/anaconda3/envs/myenv/lib/python3.9/site-packages/transformers/optimization.py:306: FutureWarning: This implementation of AdamW is deprecated and will be removed in a future version. Use the PyTorch implementation torch.optim.AdamW instead, or set `no_deprecation_warning=True` to disable this warning\n",
      "  warnings.warn(\n",
      "***** Running training *****\n",
      "  Num examples = 146\n",
      "  Num Epochs = 20\n",
      "  Instantaneous batch size per device = 2\n",
      "  Total train batch size (w. parallel, distributed & accumulation) = 2\n",
      "  Gradient Accumulation steps = 1\n",
      "  Total optimization steps = 1460\n",
      "  Number of trainable parameters = 247577856\n",
      "  5%|▌         | 73/1460 [00:14<04:37,  5.01it/s]***** Running Evaluation *****\n",
      "  Num examples = 37\n",
      "  Batch size = 2\n",
      "/home/ppibot/anaconda3/envs/myenv/lib/python3.9/site-packages/sklearn/metrics/_classification.py:1334: UndefinedMetricWarning: Precision and F-score are ill-defined and being set to 0.0 in labels with no predicted samples. Use `zero_division` parameter to control this behavior.\n",
      "  _warn_prf(average, modifier, msg_start, len(result))\n",
      "/home/ppibot/anaconda3/envs/myenv/lib/python3.9/site-packages/sklearn/metrics/_classification.py:1334: UndefinedMetricWarning: Recall and F-score are ill-defined and being set to 0.0 in labels with no true samples. Use `zero_division` parameter to control this behavior.\n",
      "  _warn_prf(average, modifier, msg_start, len(result))\n",
      "                                                 \n",
      "  5%|▌         | 73/1460 [00:17<05:32,  4.18it/s]\n",
      "\u001b[32m[I 2023-06-11 20:25:33,417]\u001b[0m Trial 42 pruned. \u001b[0m\n",
      "Trial: {'learning_rate': 8.83786914255382e-05, 'num_train_epochs': 14}\n"
     ]
    },
    {
     "name": "stdout",
     "output_type": "stream",
     "text": [
      "{'eval_loss': 0.4169458746910095, 'eval_accuracy': 0.2702702702702703, 'eval_f1': 0.15625, 'eval_precision': 0.15625, 'eval_recall': 0.15625, 'eval_slot': 0.6679829197214322, 'eval_slot_accuracy': 0.5045045045045046, 'eval_runtime': 2.8879, 'eval_samples_per_second': 12.812, 'eval_steps_per_second': 6.579, 'epoch': 1.0}\n"
     ]
    },
    {
     "name": "stderr",
     "output_type": "stream",
     "text": [
      "loading configuration file config.json from cache at /home/ppibot/.cache/huggingface/hub/models--google--flan-t5-base/snapshots/c782cba52f8ea6a704240578055cf1c3fc2f2ca9/config.json\n",
      "Model config T5Config {\n",
      "  \"_name_or_path\": \"google/flan-t5-base\",\n",
      "  \"architectures\": [\n",
      "    \"T5ForConditionalGeneration\"\n",
      "  ],\n",
      "  \"d_ff\": 2048,\n",
      "  \"d_kv\": 64,\n",
      "  \"d_model\": 768,\n",
      "  \"decoder_start_token_id\": 0,\n",
      "  \"dense_act_fn\": \"gelu_new\",\n",
      "  \"dropout_rate\": 0.1,\n",
      "  \"eos_token_id\": 1,\n",
      "  \"feed_forward_proj\": \"gated-gelu\",\n",
      "  \"initializer_factor\": 1.0,\n",
      "  \"is_encoder_decoder\": true,\n",
      "  \"is_gated_act\": true,\n",
      "  \"layer_norm_epsilon\": 1e-06,\n",
      "  \"model_type\": \"t5\",\n",
      "  \"n_positions\": 512,\n",
      "  \"num_decoder_layers\": 12,\n",
      "  \"num_heads\": 12,\n",
      "  \"num_layers\": 12,\n",
      "  \"output_past\": true,\n",
      "  \"pad_token_id\": 0,\n",
      "  \"relative_attention_max_distance\": 128,\n",
      "  \"relative_attention_num_buckets\": 32,\n",
      "  \"task_specific_params\": {\n",
      "    \"summarization\": {\n",
      "      \"early_stopping\": true,\n",
      "      \"length_penalty\": 2.0,\n",
      "      \"max_length\": 200,\n",
      "      \"min_length\": 30,\n",
      "      \"no_repeat_ngram_size\": 3,\n",
      "      \"num_beams\": 4,\n",
      "      \"prefix\": \"summarize: \"\n",
      "    },\n",
      "    \"translation_en_to_de\": {\n",
      "      \"early_stopping\": true,\n",
      "      \"max_length\": 300,\n",
      "      \"num_beams\": 4,\n",
      "      \"prefix\": \"translate English to German: \"\n",
      "    },\n",
      "    \"translation_en_to_fr\": {\n",
      "      \"early_stopping\": true,\n",
      "      \"max_length\": 300,\n",
      "      \"num_beams\": 4,\n",
      "      \"prefix\": \"translate English to French: \"\n",
      "    },\n",
      "    \"translation_en_to_ro\": {\n",
      "      \"early_stopping\": true,\n",
      "      \"max_length\": 300,\n",
      "      \"num_beams\": 4,\n",
      "      \"prefix\": \"translate English to Romanian: \"\n",
      "    }\n",
      "  },\n",
      "  \"tie_word_embeddings\": false,\n",
      "  \"transformers_version\": \"4.24.0\",\n",
      "  \"use_cache\": true,\n",
      "  \"vocab_size\": 32128\n",
      "}\n",
      "\n",
      "loading weights file pytorch_model.bin from cache at /home/ppibot/.cache/huggingface/hub/models--google--flan-t5-base/snapshots/c782cba52f8ea6a704240578055cf1c3fc2f2ca9/pytorch_model.bin\n",
      "All model checkpoint weights were used when initializing T5ForConditionalGeneration.\n",
      "\n",
      "All the weights of T5ForConditionalGeneration were initialized from the model checkpoint at google/flan-t5-base.\n",
      "If your task is similar to the task the model of the checkpoint was trained on, you can already use T5ForConditionalGeneration for predictions without further training.\n",
      "/home/ppibot/anaconda3/envs/myenv/lib/python3.9/site-packages/transformers/optimization.py:306: FutureWarning: This implementation of AdamW is deprecated and will be removed in a future version. Use the PyTorch implementation torch.optim.AdamW instead, or set `no_deprecation_warning=True` to disable this warning\n",
      "  warnings.warn(\n",
      "***** Running training *****\n",
      "  Num examples = 146\n",
      "  Num Epochs = 14\n",
      "  Instantaneous batch size per device = 2\n",
      "  Total train batch size (w. parallel, distributed & accumulation) = 2\n",
      "  Gradient Accumulation steps = 1\n",
      "  Total optimization steps = 1022\n",
      "  Number of trainable parameters = 247577856\n",
      "  7%|▋         | 73/1022 [00:14<03:09,  5.00it/s]***** Running Evaluation *****\n",
      "  Num examples = 37\n",
      "  Batch size = 2\n",
      "/home/ppibot/anaconda3/envs/myenv/lib/python3.9/site-packages/sklearn/metrics/_classification.py:1334: UndefinedMetricWarning: Precision and F-score are ill-defined and being set to 0.0 in labels with no predicted samples. Use `zero_division` parameter to control this behavior.\n",
      "  _warn_prf(average, modifier, msg_start, len(result))\n",
      "/home/ppibot/anaconda3/envs/myenv/lib/python3.9/site-packages/sklearn/metrics/_classification.py:1334: UndefinedMetricWarning: Recall and F-score are ill-defined and being set to 0.0 in labels with no true samples. Use `zero_division` parameter to control this behavior.\n",
      "  _warn_prf(average, modifier, msg_start, len(result))\n",
      "                                                 \n",
      "  7%|▋         | 73/1022 [00:17<03:09,  5.00it/s]Saving model checkpoint to ./model/run-43/checkpoint-73\n",
      "Configuration saved in ./model/run-43/checkpoint-73/config.json\n"
     ]
    },
    {
     "name": "stdout",
     "output_type": "stream",
     "text": [
      "{'eval_loss': 0.3766113817691803, 'eval_accuracy': 0.40540540540540543, 'eval_f1': 0.2542372881355932, 'eval_precision': 0.2542372881355932, 'eval_recall': 0.2542372881355932, 'eval_slot': 0.7532098705797219, 'eval_slot_accuracy': 0.6621621621621622, 'eval_runtime': 3.0457, 'eval_samples_per_second': 12.148, 'eval_steps_per_second': 6.238, 'epoch': 1.0}\n"
     ]
    },
    {
     "name": "stderr",
     "output_type": "stream",
     "text": [
      "Model weights saved in ./model/run-43/checkpoint-73/pytorch_model.bin\n",
      " 14%|█▍        | 146/1022 [00:35<02:55,  5.00it/s]***** Running Evaluation *****\n",
      "  Num examples = 37\n",
      "  Batch size = 2\n",
      "/home/ppibot/anaconda3/envs/myenv/lib/python3.9/site-packages/sklearn/metrics/_classification.py:1334: UndefinedMetricWarning: Precision and F-score are ill-defined and being set to 0.0 in labels with no predicted samples. Use `zero_division` parameter to control this behavior.\n",
      "  _warn_prf(average, modifier, msg_start, len(result))\n",
      "/home/ppibot/anaconda3/envs/myenv/lib/python3.9/site-packages/sklearn/metrics/_classification.py:1334: UndefinedMetricWarning: Recall and F-score are ill-defined and being set to 0.0 in labels with no true samples. Use `zero_division` parameter to control this behavior.\n",
      "  _warn_prf(average, modifier, msg_start, len(result))\n",
      "                                                  \n",
      " 14%|█▍        | 146/1022 [00:38<02:55,  5.00it/s]Saving model checkpoint to ./model/run-43/checkpoint-146\n",
      "Configuration saved in ./model/run-43/checkpoint-146/config.json\n"
     ]
    },
    {
     "name": "stdout",
     "output_type": "stream",
     "text": [
      "{'eval_loss': 0.3338608145713806, 'eval_accuracy': 0.4594594594594595, 'eval_f1': 0.2982456140350877, 'eval_precision': 0.2982456140350877, 'eval_recall': 0.2982456140350877, 'eval_slot': 0.7548654440749027, 'eval_slot_accuracy': 0.6891891891891891, 'eval_runtime': 3.0032, 'eval_samples_per_second': 12.32, 'eval_steps_per_second': 6.327, 'epoch': 2.0}\n"
     ]
    },
    {
     "name": "stderr",
     "output_type": "stream",
     "text": [
      "Model weights saved in ./model/run-43/checkpoint-146/pytorch_model.bin\n",
      " 21%|██▏       | 219/1022 [00:55<02:40,  5.02it/s]***** Running Evaluation *****\n",
      "  Num examples = 37\n",
      "  Batch size = 2\n",
      "/home/ppibot/anaconda3/envs/myenv/lib/python3.9/site-packages/sklearn/metrics/_classification.py:1334: UndefinedMetricWarning: Precision and F-score are ill-defined and being set to 0.0 in labels with no predicted samples. Use `zero_division` parameter to control this behavior.\n",
      "  _warn_prf(average, modifier, msg_start, len(result))\n",
      "/home/ppibot/anaconda3/envs/myenv/lib/python3.9/site-packages/sklearn/metrics/_classification.py:1334: UndefinedMetricWarning: Recall and F-score are ill-defined and being set to 0.0 in labels with no true samples. Use `zero_division` parameter to control this behavior.\n",
      "  _warn_prf(average, modifier, msg_start, len(result))\n",
      "                                                  \n",
      " 21%|██▏       | 219/1022 [00:58<02:40,  5.02it/s]Saving model checkpoint to ./model/run-43/checkpoint-219\n",
      "Configuration saved in ./model/run-43/checkpoint-219/config.json\n"
     ]
    },
    {
     "name": "stdout",
     "output_type": "stream",
     "text": [
      "{'eval_loss': 0.33162397146224976, 'eval_accuracy': 0.6216216216216216, 'eval_f1': 0.45098039215686275, 'eval_precision': 0.45098039215686275, 'eval_recall': 0.45098039215686275, 'eval_slot': 0.8763769310899528, 'eval_slot_accuracy': 0.8018018018018017, 'eval_runtime': 2.9146, 'eval_samples_per_second': 12.695, 'eval_steps_per_second': 6.519, 'epoch': 3.0}\n"
     ]
    },
    {
     "name": "stderr",
     "output_type": "stream",
     "text": [
      "Model weights saved in ./model/run-43/checkpoint-219/pytorch_model.bin\n",
      " 29%|██▊       | 292/1022 [01:15<02:26,  5.00it/s]***** Running Evaluation *****\n",
      "  Num examples = 37\n",
      "  Batch size = 2\n",
      "/home/ppibot/anaconda3/envs/myenv/lib/python3.9/site-packages/sklearn/metrics/_classification.py:1334: UndefinedMetricWarning: Precision and F-score are ill-defined and being set to 0.0 in labels with no predicted samples. Use `zero_division` parameter to control this behavior.\n",
      "  _warn_prf(average, modifier, msg_start, len(result))\n",
      "/home/ppibot/anaconda3/envs/myenv/lib/python3.9/site-packages/sklearn/metrics/_classification.py:1334: UndefinedMetricWarning: Recall and F-score are ill-defined and being set to 0.0 in labels with no true samples. Use `zero_division` parameter to control this behavior.\n",
      "  _warn_prf(average, modifier, msg_start, len(result))\n",
      "                                                  \n",
      " 29%|██▊       | 292/1022 [01:18<02:26,  5.00it/s]Saving model checkpoint to ./model/run-43/checkpoint-292\n",
      "Configuration saved in ./model/run-43/checkpoint-292/config.json\n"
     ]
    },
    {
     "name": "stdout",
     "output_type": "stream",
     "text": [
      "{'eval_loss': 0.35677820444107056, 'eval_accuracy': 0.6486486486486487, 'eval_f1': 0.48, 'eval_precision': 0.48, 'eval_recall': 0.48, 'eval_slot': 0.8621219929219711, 'eval_slot_accuracy': 0.7702702702702703, 'eval_runtime': 3.0366, 'eval_samples_per_second': 12.185, 'eval_steps_per_second': 6.257, 'epoch': 4.0}\n"
     ]
    },
    {
     "name": "stderr",
     "output_type": "stream",
     "text": [
      "Model weights saved in ./model/run-43/checkpoint-292/pytorch_model.bin\n",
      " 36%|███▌      | 365/1022 [01:36<02:10,  5.02it/s]***** Running Evaluation *****\n",
      "  Num examples = 37\n",
      "  Batch size = 2\n",
      "/home/ppibot/anaconda3/envs/myenv/lib/python3.9/site-packages/sklearn/metrics/_classification.py:1334: UndefinedMetricWarning: Precision and F-score are ill-defined and being set to 0.0 in labels with no predicted samples. Use `zero_division` parameter to control this behavior.\n",
      "  _warn_prf(average, modifier, msg_start, len(result))\n",
      "/home/ppibot/anaconda3/envs/myenv/lib/python3.9/site-packages/sklearn/metrics/_classification.py:1334: UndefinedMetricWarning: Recall and F-score are ill-defined and being set to 0.0 in labels with no true samples. Use `zero_division` parameter to control this behavior.\n",
      "  _warn_prf(average, modifier, msg_start, len(result))\n",
      "                                                  \n",
      " 36%|███▌      | 365/1022 [01:40<02:10,  5.02it/s]Saving model checkpoint to ./model/run-43/checkpoint-365\n",
      "Configuration saved in ./model/run-43/checkpoint-365/config.json\n"
     ]
    },
    {
     "name": "stdout",
     "output_type": "stream",
     "text": [
      "{'eval_loss': 0.39792242646217346, 'eval_accuracy': 0.6216216216216216, 'eval_f1': 0.45098039215686275, 'eval_precision': 0.45098039215686275, 'eval_recall': 0.45098039215686275, 'eval_slot': 0.8628036788597132, 'eval_slot_accuracy': 0.7972972972972973, 'eval_runtime': 3.1731, 'eval_samples_per_second': 11.661, 'eval_steps_per_second': 5.988, 'epoch': 5.0}\n"
     ]
    },
    {
     "name": "stderr",
     "output_type": "stream",
     "text": [
      "Model weights saved in ./model/run-43/checkpoint-365/pytorch_model.bin\n",
      " 43%|████▎     | 438/1022 [02:00<01:56,  5.02it/s]***** Running Evaluation *****\n",
      "  Num examples = 37\n",
      "  Batch size = 2\n",
      "/home/ppibot/anaconda3/envs/myenv/lib/python3.9/site-packages/sklearn/metrics/_classification.py:1334: UndefinedMetricWarning: Precision and F-score are ill-defined and being set to 0.0 in labels with no predicted samples. Use `zero_division` parameter to control this behavior.\n",
      "  _warn_prf(average, modifier, msg_start, len(result))\n",
      "/home/ppibot/anaconda3/envs/myenv/lib/python3.9/site-packages/sklearn/metrics/_classification.py:1334: UndefinedMetricWarning: Recall and F-score are ill-defined and being set to 0.0 in labels with no true samples. Use `zero_division` parameter to control this behavior.\n",
      "  _warn_prf(average, modifier, msg_start, len(result))\n",
      "                                                  \n",
      " 43%|████▎     | 438/1022 [02:03<02:44,  3.55it/s]\n",
      "\u001b[32m[I 2023-06-11 20:27:38,356]\u001b[0m Trial 43 pruned. \u001b[0m\n",
      "Trial: {'learning_rate': 6.639456149144965e-05, 'num_train_epochs': 17}\n"
     ]
    },
    {
     "name": "stdout",
     "output_type": "stream",
     "text": [
      "{'eval_loss': 0.37210512161254883, 'eval_accuracy': 0.6756756756756757, 'eval_f1': 0.5102040816326531, 'eval_precision': 0.5102040816326531, 'eval_recall': 0.5102040816326531, 'eval_slot': 0.8807994010296643, 'eval_slot_accuracy': 0.8198198198198198, 'eval_runtime': 2.9651, 'eval_samples_per_second': 12.479, 'eval_steps_per_second': 6.408, 'epoch': 6.0}\n"
     ]
    },
    {
     "name": "stderr",
     "output_type": "stream",
     "text": [
      "loading configuration file config.json from cache at /home/ppibot/.cache/huggingface/hub/models--google--flan-t5-base/snapshots/c782cba52f8ea6a704240578055cf1c3fc2f2ca9/config.json\n",
      "Model config T5Config {\n",
      "  \"_name_or_path\": \"google/flan-t5-base\",\n",
      "  \"architectures\": [\n",
      "    \"T5ForConditionalGeneration\"\n",
      "  ],\n",
      "  \"d_ff\": 2048,\n",
      "  \"d_kv\": 64,\n",
      "  \"d_model\": 768,\n",
      "  \"decoder_start_token_id\": 0,\n",
      "  \"dense_act_fn\": \"gelu_new\",\n",
      "  \"dropout_rate\": 0.1,\n",
      "  \"eos_token_id\": 1,\n",
      "  \"feed_forward_proj\": \"gated-gelu\",\n",
      "  \"initializer_factor\": 1.0,\n",
      "  \"is_encoder_decoder\": true,\n",
      "  \"is_gated_act\": true,\n",
      "  \"layer_norm_epsilon\": 1e-06,\n",
      "  \"model_type\": \"t5\",\n",
      "  \"n_positions\": 512,\n",
      "  \"num_decoder_layers\": 12,\n",
      "  \"num_heads\": 12,\n",
      "  \"num_layers\": 12,\n",
      "  \"output_past\": true,\n",
      "  \"pad_token_id\": 0,\n",
      "  \"relative_attention_max_distance\": 128,\n",
      "  \"relative_attention_num_buckets\": 32,\n",
      "  \"task_specific_params\": {\n",
      "    \"summarization\": {\n",
      "      \"early_stopping\": true,\n",
      "      \"length_penalty\": 2.0,\n",
      "      \"max_length\": 200,\n",
      "      \"min_length\": 30,\n",
      "      \"no_repeat_ngram_size\": 3,\n",
      "      \"num_beams\": 4,\n",
      "      \"prefix\": \"summarize: \"\n",
      "    },\n",
      "    \"translation_en_to_de\": {\n",
      "      \"early_stopping\": true,\n",
      "      \"max_length\": 300,\n",
      "      \"num_beams\": 4,\n",
      "      \"prefix\": \"translate English to German: \"\n",
      "    },\n",
      "    \"translation_en_to_fr\": {\n",
      "      \"early_stopping\": true,\n",
      "      \"max_length\": 300,\n",
      "      \"num_beams\": 4,\n",
      "      \"prefix\": \"translate English to French: \"\n",
      "    },\n",
      "    \"translation_en_to_ro\": {\n",
      "      \"early_stopping\": true,\n",
      "      \"max_length\": 300,\n",
      "      \"num_beams\": 4,\n",
      "      \"prefix\": \"translate English to Romanian: \"\n",
      "    }\n",
      "  },\n",
      "  \"tie_word_embeddings\": false,\n",
      "  \"transformers_version\": \"4.24.0\",\n",
      "  \"use_cache\": true,\n",
      "  \"vocab_size\": 32128\n",
      "}\n",
      "\n",
      "loading weights file pytorch_model.bin from cache at /home/ppibot/.cache/huggingface/hub/models--google--flan-t5-base/snapshots/c782cba52f8ea6a704240578055cf1c3fc2f2ca9/pytorch_model.bin\n",
      "All model checkpoint weights were used when initializing T5ForConditionalGeneration.\n",
      "\n",
      "All the weights of T5ForConditionalGeneration were initialized from the model checkpoint at google/flan-t5-base.\n",
      "If your task is similar to the task the model of the checkpoint was trained on, you can already use T5ForConditionalGeneration for predictions without further training.\n",
      "/home/ppibot/anaconda3/envs/myenv/lib/python3.9/site-packages/transformers/optimization.py:306: FutureWarning: This implementation of AdamW is deprecated and will be removed in a future version. Use the PyTorch implementation torch.optim.AdamW instead, or set `no_deprecation_warning=True` to disable this warning\n",
      "  warnings.warn(\n",
      "***** Running training *****\n",
      "  Num examples = 146\n",
      "  Num Epochs = 17\n",
      "  Instantaneous batch size per device = 2\n",
      "  Total train batch size (w. parallel, distributed & accumulation) = 2\n",
      "  Gradient Accumulation steps = 1\n",
      "  Total optimization steps = 1241\n",
      "  Number of trainable parameters = 247577856\n",
      "  6%|▌         | 73/1241 [00:14<03:52,  5.02it/s]***** Running Evaluation *****\n",
      "  Num examples = 37\n",
      "  Batch size = 2\n",
      "/home/ppibot/anaconda3/envs/myenv/lib/python3.9/site-packages/sklearn/metrics/_classification.py:1334: UndefinedMetricWarning: Precision and F-score are ill-defined and being set to 0.0 in labels with no predicted samples. Use `zero_division` parameter to control this behavior.\n",
      "  _warn_prf(average, modifier, msg_start, len(result))\n",
      "/home/ppibot/anaconda3/envs/myenv/lib/python3.9/site-packages/sklearn/metrics/_classification.py:1334: UndefinedMetricWarning: Recall and F-score are ill-defined and being set to 0.0 in labels with no true samples. Use `zero_division` parameter to control this behavior.\n",
      "  _warn_prf(average, modifier, msg_start, len(result))\n",
      "                                                 \n",
      "  6%|▌         | 73/1241 [00:17<04:41,  4.15it/s]\n",
      "\u001b[32m[I 2023-06-11 20:27:57,383]\u001b[0m Trial 44 pruned. \u001b[0m\n",
      "Trial: {'learning_rate': 9.945430905047582e-05, 'num_train_epochs': 18}\n"
     ]
    },
    {
     "name": "stdout",
     "output_type": "stream",
     "text": [
      "{'eval_loss': 0.44811299443244934, 'eval_accuracy': 0.24324324324324326, 'eval_f1': 0.13846153846153847, 'eval_precision': 0.13846153846153847, 'eval_recall': 0.13846153846153847, 'eval_slot': 0.6567216584601709, 'eval_slot_accuracy': 0.47297297297297297, 'eval_runtime': 3.021, 'eval_samples_per_second': 12.248, 'eval_steps_per_second': 6.289, 'epoch': 1.0}\n"
     ]
    },
    {
     "name": "stderr",
     "output_type": "stream",
     "text": [
      "loading configuration file config.json from cache at /home/ppibot/.cache/huggingface/hub/models--google--flan-t5-base/snapshots/c782cba52f8ea6a704240578055cf1c3fc2f2ca9/config.json\n",
      "Model config T5Config {\n",
      "  \"_name_or_path\": \"google/flan-t5-base\",\n",
      "  \"architectures\": [\n",
      "    \"T5ForConditionalGeneration\"\n",
      "  ],\n",
      "  \"d_ff\": 2048,\n",
      "  \"d_kv\": 64,\n",
      "  \"d_model\": 768,\n",
      "  \"decoder_start_token_id\": 0,\n",
      "  \"dense_act_fn\": \"gelu_new\",\n",
      "  \"dropout_rate\": 0.1,\n",
      "  \"eos_token_id\": 1,\n",
      "  \"feed_forward_proj\": \"gated-gelu\",\n",
      "  \"initializer_factor\": 1.0,\n",
      "  \"is_encoder_decoder\": true,\n",
      "  \"is_gated_act\": true,\n",
      "  \"layer_norm_epsilon\": 1e-06,\n",
      "  \"model_type\": \"t5\",\n",
      "  \"n_positions\": 512,\n",
      "  \"num_decoder_layers\": 12,\n",
      "  \"num_heads\": 12,\n",
      "  \"num_layers\": 12,\n",
      "  \"output_past\": true,\n",
      "  \"pad_token_id\": 0,\n",
      "  \"relative_attention_max_distance\": 128,\n",
      "  \"relative_attention_num_buckets\": 32,\n",
      "  \"task_specific_params\": {\n",
      "    \"summarization\": {\n",
      "      \"early_stopping\": true,\n",
      "      \"length_penalty\": 2.0,\n",
      "      \"max_length\": 200,\n",
      "      \"min_length\": 30,\n",
      "      \"no_repeat_ngram_size\": 3,\n",
      "      \"num_beams\": 4,\n",
      "      \"prefix\": \"summarize: \"\n",
      "    },\n",
      "    \"translation_en_to_de\": {\n",
      "      \"early_stopping\": true,\n",
      "      \"max_length\": 300,\n",
      "      \"num_beams\": 4,\n",
      "      \"prefix\": \"translate English to German: \"\n",
      "    },\n",
      "    \"translation_en_to_fr\": {\n",
      "      \"early_stopping\": true,\n",
      "      \"max_length\": 300,\n",
      "      \"num_beams\": 4,\n",
      "      \"prefix\": \"translate English to French: \"\n",
      "    },\n",
      "    \"translation_en_to_ro\": {\n",
      "      \"early_stopping\": true,\n",
      "      \"max_length\": 300,\n",
      "      \"num_beams\": 4,\n",
      "      \"prefix\": \"translate English to Romanian: \"\n",
      "    }\n",
      "  },\n",
      "  \"tie_word_embeddings\": false,\n",
      "  \"transformers_version\": \"4.24.0\",\n",
      "  \"use_cache\": true,\n",
      "  \"vocab_size\": 32128\n",
      "}\n",
      "\n",
      "loading weights file pytorch_model.bin from cache at /home/ppibot/.cache/huggingface/hub/models--google--flan-t5-base/snapshots/c782cba52f8ea6a704240578055cf1c3fc2f2ca9/pytorch_model.bin\n",
      "All model checkpoint weights were used when initializing T5ForConditionalGeneration.\n",
      "\n",
      "All the weights of T5ForConditionalGeneration were initialized from the model checkpoint at google/flan-t5-base.\n",
      "If your task is similar to the task the model of the checkpoint was trained on, you can already use T5ForConditionalGeneration for predictions without further training.\n",
      "/home/ppibot/anaconda3/envs/myenv/lib/python3.9/site-packages/transformers/optimization.py:306: FutureWarning: This implementation of AdamW is deprecated and will be removed in a future version. Use the PyTorch implementation torch.optim.AdamW instead, or set `no_deprecation_warning=True` to disable this warning\n",
      "  warnings.warn(\n",
      "***** Running training *****\n",
      "  Num examples = 146\n",
      "  Num Epochs = 18\n",
      "  Instantaneous batch size per device = 2\n",
      "  Total train batch size (w. parallel, distributed & accumulation) = 2\n",
      "  Gradient Accumulation steps = 1\n",
      "  Total optimization steps = 1314\n",
      "  Number of trainable parameters = 247577856\n",
      "  6%|▌         | 73/1314 [00:14<04:07,  5.02it/s]***** Running Evaluation *****\n",
      "  Num examples = 37\n",
      "  Batch size = 2\n",
      "/home/ppibot/anaconda3/envs/myenv/lib/python3.9/site-packages/sklearn/metrics/_classification.py:1334: UndefinedMetricWarning: Precision and F-score are ill-defined and being set to 0.0 in labels with no predicted samples. Use `zero_division` parameter to control this behavior.\n",
      "  _warn_prf(average, modifier, msg_start, len(result))\n",
      "/home/ppibot/anaconda3/envs/myenv/lib/python3.9/site-packages/sklearn/metrics/_classification.py:1334: UndefinedMetricWarning: Recall and F-score are ill-defined and being set to 0.0 in labels with no true samples. Use `zero_division` parameter to control this behavior.\n",
      "  _warn_prf(average, modifier, msg_start, len(result))\n",
      "                                                 \n",
      "  6%|▌         | 73/1314 [00:17<04:07,  5.02it/s]Saving model checkpoint to ./model/run-45/checkpoint-73\n",
      "Configuration saved in ./model/run-45/checkpoint-73/config.json\n"
     ]
    },
    {
     "name": "stdout",
     "output_type": "stream",
     "text": [
      "{'eval_loss': 0.3585661053657532, 'eval_accuracy': 0.43243243243243246, 'eval_f1': 0.27586206896551724, 'eval_precision': 0.27586206896551724, 'eval_recall': 0.27586206896551724, 'eval_slot': 0.7590475264173777, 'eval_slot_accuracy': 0.6756756756756757, 'eval_runtime': 2.8365, 'eval_samples_per_second': 13.044, 'eval_steps_per_second': 6.698, 'epoch': 1.0}\n"
     ]
    },
    {
     "name": "stderr",
     "output_type": "stream",
     "text": [
      "Model weights saved in ./model/run-45/checkpoint-73/pytorch_model.bin\n",
      " 11%|█         | 146/1314 [00:34<03:53,  5.00it/s]***** Running Evaluation *****\n",
      "  Num examples = 37\n",
      "  Batch size = 2\n",
      "/home/ppibot/anaconda3/envs/myenv/lib/python3.9/site-packages/sklearn/metrics/_classification.py:1334: UndefinedMetricWarning: Precision and F-score are ill-defined and being set to 0.0 in labels with no predicted samples. Use `zero_division` parameter to control this behavior.\n",
      "  _warn_prf(average, modifier, msg_start, len(result))\n",
      "/home/ppibot/anaconda3/envs/myenv/lib/python3.9/site-packages/sklearn/metrics/_classification.py:1334: UndefinedMetricWarning: Recall and F-score are ill-defined and being set to 0.0 in labels with no true samples. Use `zero_division` parameter to control this behavior.\n",
      "  _warn_prf(average, modifier, msg_start, len(result))\n",
      "                                                  \n",
      " 11%|█         | 146/1314 [00:37<05:00,  3.88it/s]\n",
      "\u001b[32m[I 2023-06-11 20:28:36,722]\u001b[0m Trial 45 pruned. \u001b[0m\n",
      "Trial: {'learning_rate': 7.882267730869517e-05, 'num_train_epochs': 16}\n"
     ]
    },
    {
     "name": "stdout",
     "output_type": "stream",
     "text": [
      "{'eval_loss': 0.35578712821006775, 'eval_accuracy': 0.43243243243243246, 'eval_f1': 0.27586206896551724, 'eval_precision': 0.27586206896551724, 'eval_recall': 0.27586206896551724, 'eval_slot': 0.7217262193238358, 'eval_slot_accuracy': 0.6666666666666666, 'eval_runtime': 3.0703, 'eval_samples_per_second': 12.051, 'eval_steps_per_second': 6.188, 'epoch': 2.0}\n"
     ]
    },
    {
     "name": "stderr",
     "output_type": "stream",
     "text": [
      "loading configuration file config.json from cache at /home/ppibot/.cache/huggingface/hub/models--google--flan-t5-base/snapshots/c782cba52f8ea6a704240578055cf1c3fc2f2ca9/config.json\n",
      "Model config T5Config {\n",
      "  \"_name_or_path\": \"google/flan-t5-base\",\n",
      "  \"architectures\": [\n",
      "    \"T5ForConditionalGeneration\"\n",
      "  ],\n",
      "  \"d_ff\": 2048,\n",
      "  \"d_kv\": 64,\n",
      "  \"d_model\": 768,\n",
      "  \"decoder_start_token_id\": 0,\n",
      "  \"dense_act_fn\": \"gelu_new\",\n",
      "  \"dropout_rate\": 0.1,\n",
      "  \"eos_token_id\": 1,\n",
      "  \"feed_forward_proj\": \"gated-gelu\",\n",
      "  \"initializer_factor\": 1.0,\n",
      "  \"is_encoder_decoder\": true,\n",
      "  \"is_gated_act\": true,\n",
      "  \"layer_norm_epsilon\": 1e-06,\n",
      "  \"model_type\": \"t5\",\n",
      "  \"n_positions\": 512,\n",
      "  \"num_decoder_layers\": 12,\n",
      "  \"num_heads\": 12,\n",
      "  \"num_layers\": 12,\n",
      "  \"output_past\": true,\n",
      "  \"pad_token_id\": 0,\n",
      "  \"relative_attention_max_distance\": 128,\n",
      "  \"relative_attention_num_buckets\": 32,\n",
      "  \"task_specific_params\": {\n",
      "    \"summarization\": {\n",
      "      \"early_stopping\": true,\n",
      "      \"length_penalty\": 2.0,\n",
      "      \"max_length\": 200,\n",
      "      \"min_length\": 30,\n",
      "      \"no_repeat_ngram_size\": 3,\n",
      "      \"num_beams\": 4,\n",
      "      \"prefix\": \"summarize: \"\n",
      "    },\n",
      "    \"translation_en_to_de\": {\n",
      "      \"early_stopping\": true,\n",
      "      \"max_length\": 300,\n",
      "      \"num_beams\": 4,\n",
      "      \"prefix\": \"translate English to German: \"\n",
      "    },\n",
      "    \"translation_en_to_fr\": {\n",
      "      \"early_stopping\": true,\n",
      "      \"max_length\": 300,\n",
      "      \"num_beams\": 4,\n",
      "      \"prefix\": \"translate English to French: \"\n",
      "    },\n",
      "    \"translation_en_to_ro\": {\n",
      "      \"early_stopping\": true,\n",
      "      \"max_length\": 300,\n",
      "      \"num_beams\": 4,\n",
      "      \"prefix\": \"translate English to Romanian: \"\n",
      "    }\n",
      "  },\n",
      "  \"tie_word_embeddings\": false,\n",
      "  \"transformers_version\": \"4.24.0\",\n",
      "  \"use_cache\": true,\n",
      "  \"vocab_size\": 32128\n",
      "}\n",
      "\n",
      "loading weights file pytorch_model.bin from cache at /home/ppibot/.cache/huggingface/hub/models--google--flan-t5-base/snapshots/c782cba52f8ea6a704240578055cf1c3fc2f2ca9/pytorch_model.bin\n",
      "All model checkpoint weights were used when initializing T5ForConditionalGeneration.\n",
      "\n",
      "All the weights of T5ForConditionalGeneration were initialized from the model checkpoint at google/flan-t5-base.\n",
      "If your task is similar to the task the model of the checkpoint was trained on, you can already use T5ForConditionalGeneration for predictions without further training.\n",
      "/home/ppibot/anaconda3/envs/myenv/lib/python3.9/site-packages/transformers/optimization.py:306: FutureWarning: This implementation of AdamW is deprecated and will be removed in a future version. Use the PyTorch implementation torch.optim.AdamW instead, or set `no_deprecation_warning=True` to disable this warning\n",
      "  warnings.warn(\n",
      "***** Running training *****\n",
      "  Num examples = 146\n",
      "  Num Epochs = 16\n",
      "  Instantaneous batch size per device = 2\n",
      "  Total train batch size (w. parallel, distributed & accumulation) = 2\n",
      "  Gradient Accumulation steps = 1\n",
      "  Total optimization steps = 1168\n",
      "  Number of trainable parameters = 247577856\n",
      "  6%|▋         | 73/1168 [00:14<03:38,  5.01it/s]***** Running Evaluation *****\n",
      "  Num examples = 37\n",
      "  Batch size = 2\n",
      "/home/ppibot/anaconda3/envs/myenv/lib/python3.9/site-packages/sklearn/metrics/_classification.py:1334: UndefinedMetricWarning: Precision and F-score are ill-defined and being set to 0.0 in labels with no predicted samples. Use `zero_division` parameter to control this behavior.\n",
      "  _warn_prf(average, modifier, msg_start, len(result))\n",
      "/home/ppibot/anaconda3/envs/myenv/lib/python3.9/site-packages/sklearn/metrics/_classification.py:1334: UndefinedMetricWarning: Recall and F-score are ill-defined and being set to 0.0 in labels with no true samples. Use `zero_division` parameter to control this behavior.\n",
      "  _warn_prf(average, modifier, msg_start, len(result))\n",
      "                                                 \n",
      "  6%|▋         | 73/1168 [00:17<04:20,  4.21it/s]\n",
      "\u001b[32m[I 2023-06-11 20:28:55,743]\u001b[0m Trial 46 pruned. \u001b[0m\n",
      "Trial: {'learning_rate': 5.854137143221573e-05, 'num_train_epochs': 11}\n"
     ]
    },
    {
     "name": "stdout",
     "output_type": "stream",
     "text": [
      "{'eval_loss': 0.4026682674884796, 'eval_accuracy': 0.2972972972972973, 'eval_f1': 0.1746031746031746, 'eval_precision': 0.1746031746031746, 'eval_recall': 0.1746031746031746, 'eval_slot': 0.7066507063734988, 'eval_slot_accuracy': 0.581081081081081, 'eval_runtime': 2.8219, 'eval_samples_per_second': 13.112, 'eval_steps_per_second': 6.733, 'epoch': 1.0}\n"
     ]
    },
    {
     "name": "stderr",
     "output_type": "stream",
     "text": [
      "loading configuration file config.json from cache at /home/ppibot/.cache/huggingface/hub/models--google--flan-t5-base/snapshots/c782cba52f8ea6a704240578055cf1c3fc2f2ca9/config.json\n",
      "Model config T5Config {\n",
      "  \"_name_or_path\": \"google/flan-t5-base\",\n",
      "  \"architectures\": [\n",
      "    \"T5ForConditionalGeneration\"\n",
      "  ],\n",
      "  \"d_ff\": 2048,\n",
      "  \"d_kv\": 64,\n",
      "  \"d_model\": 768,\n",
      "  \"decoder_start_token_id\": 0,\n",
      "  \"dense_act_fn\": \"gelu_new\",\n",
      "  \"dropout_rate\": 0.1,\n",
      "  \"eos_token_id\": 1,\n",
      "  \"feed_forward_proj\": \"gated-gelu\",\n",
      "  \"initializer_factor\": 1.0,\n",
      "  \"is_encoder_decoder\": true,\n",
      "  \"is_gated_act\": true,\n",
      "  \"layer_norm_epsilon\": 1e-06,\n",
      "  \"model_type\": \"t5\",\n",
      "  \"n_positions\": 512,\n",
      "  \"num_decoder_layers\": 12,\n",
      "  \"num_heads\": 12,\n",
      "  \"num_layers\": 12,\n",
      "  \"output_past\": true,\n",
      "  \"pad_token_id\": 0,\n",
      "  \"relative_attention_max_distance\": 128,\n",
      "  \"relative_attention_num_buckets\": 32,\n",
      "  \"task_specific_params\": {\n",
      "    \"summarization\": {\n",
      "      \"early_stopping\": true,\n",
      "      \"length_penalty\": 2.0,\n",
      "      \"max_length\": 200,\n",
      "      \"min_length\": 30,\n",
      "      \"no_repeat_ngram_size\": 3,\n",
      "      \"num_beams\": 4,\n",
      "      \"prefix\": \"summarize: \"\n",
      "    },\n",
      "    \"translation_en_to_de\": {\n",
      "      \"early_stopping\": true,\n",
      "      \"max_length\": 300,\n",
      "      \"num_beams\": 4,\n",
      "      \"prefix\": \"translate English to German: \"\n",
      "    },\n",
      "    \"translation_en_to_fr\": {\n",
      "      \"early_stopping\": true,\n",
      "      \"max_length\": 300,\n",
      "      \"num_beams\": 4,\n",
      "      \"prefix\": \"translate English to French: \"\n",
      "    },\n",
      "    \"translation_en_to_ro\": {\n",
      "      \"early_stopping\": true,\n",
      "      \"max_length\": 300,\n",
      "      \"num_beams\": 4,\n",
      "      \"prefix\": \"translate English to Romanian: \"\n",
      "    }\n",
      "  },\n",
      "  \"tie_word_embeddings\": false,\n",
      "  \"transformers_version\": \"4.24.0\",\n",
      "  \"use_cache\": true,\n",
      "  \"vocab_size\": 32128\n",
      "}\n",
      "\n",
      "loading weights file pytorch_model.bin from cache at /home/ppibot/.cache/huggingface/hub/models--google--flan-t5-base/snapshots/c782cba52f8ea6a704240578055cf1c3fc2f2ca9/pytorch_model.bin\n",
      "All model checkpoint weights were used when initializing T5ForConditionalGeneration.\n",
      "\n",
      "All the weights of T5ForConditionalGeneration were initialized from the model checkpoint at google/flan-t5-base.\n",
      "If your task is similar to the task the model of the checkpoint was trained on, you can already use T5ForConditionalGeneration for predictions without further training.\n",
      "/home/ppibot/anaconda3/envs/myenv/lib/python3.9/site-packages/transformers/optimization.py:306: FutureWarning: This implementation of AdamW is deprecated and will be removed in a future version. Use the PyTorch implementation torch.optim.AdamW instead, or set `no_deprecation_warning=True` to disable this warning\n",
      "  warnings.warn(\n",
      "***** Running training *****\n",
      "  Num examples = 146\n",
      "  Num Epochs = 11\n",
      "  Instantaneous batch size per device = 2\n",
      "  Total train batch size (w. parallel, distributed & accumulation) = 2\n",
      "  Gradient Accumulation steps = 1\n",
      "  Total optimization steps = 803\n",
      "  Number of trainable parameters = 247577856\n",
      "  9%|▉         | 73/803 [00:14<02:25,  5.01it/s]***** Running Evaluation *****\n",
      "  Num examples = 37\n",
      "  Batch size = 2\n",
      "/home/ppibot/anaconda3/envs/myenv/lib/python3.9/site-packages/sklearn/metrics/_classification.py:1334: UndefinedMetricWarning: Precision and F-score are ill-defined and being set to 0.0 in labels with no predicted samples. Use `zero_division` parameter to control this behavior.\n",
      "  _warn_prf(average, modifier, msg_start, len(result))\n",
      "/home/ppibot/anaconda3/envs/myenv/lib/python3.9/site-packages/sklearn/metrics/_classification.py:1334: UndefinedMetricWarning: Recall and F-score are ill-defined and being set to 0.0 in labels with no true samples. Use `zero_division` parameter to control this behavior.\n",
      "  _warn_prf(average, modifier, msg_start, len(result))\n",
      "                                                \n",
      "  9%|▉         | 73/803 [00:17<02:55,  4.16it/s]\n",
      "\u001b[32m[I 2023-06-11 20:29:16,304]\u001b[0m Trial 47 pruned. \u001b[0m\n",
      "Trial: {'learning_rate': 9.060355355910528e-05, 'num_train_epochs': 3}\n"
     ]
    },
    {
     "name": "stdout",
     "output_type": "stream",
     "text": [
      "{'eval_loss': 0.4766727089881897, 'eval_accuracy': 0.24324324324324326, 'eval_f1': 0.13846153846153847, 'eval_precision': 0.13846153846153847, 'eval_recall': 0.13846153846153847, 'eval_slot': 0.6479685872070998, 'eval_slot_accuracy': 0.47297297297297297, 'eval_runtime': 2.974, 'eval_samples_per_second': 12.441, 'eval_steps_per_second': 6.389, 'epoch': 1.0}\n"
     ]
    },
    {
     "name": "stderr",
     "output_type": "stream",
     "text": [
      "loading configuration file config.json from cache at /home/ppibot/.cache/huggingface/hub/models--google--flan-t5-base/snapshots/c782cba52f8ea6a704240578055cf1c3fc2f2ca9/config.json\n",
      "Model config T5Config {\n",
      "  \"_name_or_path\": \"google/flan-t5-base\",\n",
      "  \"architectures\": [\n",
      "    \"T5ForConditionalGeneration\"\n",
      "  ],\n",
      "  \"d_ff\": 2048,\n",
      "  \"d_kv\": 64,\n",
      "  \"d_model\": 768,\n",
      "  \"decoder_start_token_id\": 0,\n",
      "  \"dense_act_fn\": \"gelu_new\",\n",
      "  \"dropout_rate\": 0.1,\n",
      "  \"eos_token_id\": 1,\n",
      "  \"feed_forward_proj\": \"gated-gelu\",\n",
      "  \"initializer_factor\": 1.0,\n",
      "  \"is_encoder_decoder\": true,\n",
      "  \"is_gated_act\": true,\n",
      "  \"layer_norm_epsilon\": 1e-06,\n",
      "  \"model_type\": \"t5\",\n",
      "  \"n_positions\": 512,\n",
      "  \"num_decoder_layers\": 12,\n",
      "  \"num_heads\": 12,\n",
      "  \"num_layers\": 12,\n",
      "  \"output_past\": true,\n",
      "  \"pad_token_id\": 0,\n",
      "  \"relative_attention_max_distance\": 128,\n",
      "  \"relative_attention_num_buckets\": 32,\n",
      "  \"task_specific_params\": {\n",
      "    \"summarization\": {\n",
      "      \"early_stopping\": true,\n",
      "      \"length_penalty\": 2.0,\n",
      "      \"max_length\": 200,\n",
      "      \"min_length\": 30,\n",
      "      \"no_repeat_ngram_size\": 3,\n",
      "      \"num_beams\": 4,\n",
      "      \"prefix\": \"summarize: \"\n",
      "    },\n",
      "    \"translation_en_to_de\": {\n",
      "      \"early_stopping\": true,\n",
      "      \"max_length\": 300,\n",
      "      \"num_beams\": 4,\n",
      "      \"prefix\": \"translate English to German: \"\n",
      "    },\n",
      "    \"translation_en_to_fr\": {\n",
      "      \"early_stopping\": true,\n",
      "      \"max_length\": 300,\n",
      "      \"num_beams\": 4,\n",
      "      \"prefix\": \"translate English to French: \"\n",
      "    },\n",
      "    \"translation_en_to_ro\": {\n",
      "      \"early_stopping\": true,\n",
      "      \"max_length\": 300,\n",
      "      \"num_beams\": 4,\n",
      "      \"prefix\": \"translate English to Romanian: \"\n",
      "    }\n",
      "  },\n",
      "  \"tie_word_embeddings\": false,\n",
      "  \"transformers_version\": \"4.24.0\",\n",
      "  \"use_cache\": true,\n",
      "  \"vocab_size\": 32128\n",
      "}\n",
      "\n",
      "loading weights file pytorch_model.bin from cache at /home/ppibot/.cache/huggingface/hub/models--google--flan-t5-base/snapshots/c782cba52f8ea6a704240578055cf1c3fc2f2ca9/pytorch_model.bin\n",
      "All model checkpoint weights were used when initializing T5ForConditionalGeneration.\n",
      "\n",
      "All the weights of T5ForConditionalGeneration were initialized from the model checkpoint at google/flan-t5-base.\n",
      "If your task is similar to the task the model of the checkpoint was trained on, you can already use T5ForConditionalGeneration for predictions without further training.\n",
      "/home/ppibot/anaconda3/envs/myenv/lib/python3.9/site-packages/transformers/optimization.py:306: FutureWarning: This implementation of AdamW is deprecated and will be removed in a future version. Use the PyTorch implementation torch.optim.AdamW instead, or set `no_deprecation_warning=True` to disable this warning\n",
      "  warnings.warn(\n",
      "***** Running training *****\n",
      "  Num examples = 146\n",
      "  Num Epochs = 3\n",
      "  Instantaneous batch size per device = 2\n",
      "  Total train batch size (w. parallel, distributed & accumulation) = 2\n",
      "  Gradient Accumulation steps = 1\n",
      "  Total optimization steps = 219\n",
      "  Number of trainable parameters = 247577856\n",
      " 33%|███▎      | 73/219 [00:14<00:29,  5.02it/s]***** Running Evaluation *****\n",
      "  Num examples = 37\n",
      "  Batch size = 2\n",
      "/home/ppibot/anaconda3/envs/myenv/lib/python3.9/site-packages/sklearn/metrics/_classification.py:1334: UndefinedMetricWarning: Precision and F-score are ill-defined and being set to 0.0 in labels with no predicted samples. Use `zero_division` parameter to control this behavior.\n",
      "  _warn_prf(average, modifier, msg_start, len(result))\n",
      "/home/ppibot/anaconda3/envs/myenv/lib/python3.9/site-packages/sklearn/metrics/_classification.py:1334: UndefinedMetricWarning: Recall and F-score are ill-defined and being set to 0.0 in labels with no true samples. Use `zero_division` parameter to control this behavior.\n",
      "  _warn_prf(average, modifier, msg_start, len(result))\n",
      "                                                \n",
      " 33%|███▎      | 73/219 [00:17<00:29,  5.02it/s]Saving model checkpoint to ./model/run-48/checkpoint-73\n",
      "Configuration saved in ./model/run-48/checkpoint-73/config.json\n"
     ]
    },
    {
     "name": "stdout",
     "output_type": "stream",
     "text": [
      "{'eval_loss': 0.3974703848361969, 'eval_accuracy': 0.3783783783783784, 'eval_f1': 0.23333333333333334, 'eval_precision': 0.23333333333333334, 'eval_recall': 0.23333333333333334, 'eval_slot': 0.7356481530180043, 'eval_slot_accuracy': 0.6216216216216216, 'eval_runtime': 2.9721, 'eval_samples_per_second': 12.449, 'eval_steps_per_second': 6.393, 'epoch': 1.0}\n"
     ]
    },
    {
     "name": "stderr",
     "output_type": "stream",
     "text": [
      "Model weights saved in ./model/run-48/checkpoint-73/pytorch_model.bin\n",
      " 67%|██████▋   | 146/219 [00:34<00:14,  4.99it/s]***** Running Evaluation *****\n",
      "  Num examples = 37\n",
      "  Batch size = 2\n",
      "/home/ppibot/anaconda3/envs/myenv/lib/python3.9/site-packages/sklearn/metrics/_classification.py:1334: UndefinedMetricWarning: Precision and F-score are ill-defined and being set to 0.0 in labels with no predicted samples. Use `zero_division` parameter to control this behavior.\n",
      "  _warn_prf(average, modifier, msg_start, len(result))\n",
      "/home/ppibot/anaconda3/envs/myenv/lib/python3.9/site-packages/sklearn/metrics/_classification.py:1334: UndefinedMetricWarning: Recall and F-score are ill-defined and being set to 0.0 in labels with no true samples. Use `zero_division` parameter to control this behavior.\n",
      "  _warn_prf(average, modifier, msg_start, len(result))\n",
      "                                                 \n",
      " 67%|██████▋   | 146/219 [00:37<00:14,  4.99it/s]"
     ]
    },
    {
     "name": "stdout",
     "output_type": "stream",
     "text": [
      "{'eval_loss': 0.40699753165245056, 'eval_accuracy': 0.4864864864864865, 'eval_f1': 0.32142857142857145, 'eval_precision': 0.32142857142857145, 'eval_recall': 0.32142857142857145, 'eval_slot': 0.7630429898148351, 'eval_slot_accuracy': 0.7162162162162161, 'eval_runtime': 2.8544, 'eval_samples_per_second': 12.962, 'eval_steps_per_second': 6.656, 'epoch': 2.0}\n"
     ]
    },
    {
     "name": "stderr",
     "output_type": "stream",
     "text": [
      "Saving model checkpoint to ./model/run-48/checkpoint-146\n",
      "Configuration saved in ./model/run-48/checkpoint-146/config.json\n",
      "Model weights saved in ./model/run-48/checkpoint-146/pytorch_model.bin\n",
      "100%|██████████| 219/219 [00:55<00:00,  5.02it/s]***** Running Evaluation *****\n",
      "  Num examples = 37\n",
      "  Batch size = 2\n",
      "/home/ppibot/anaconda3/envs/myenv/lib/python3.9/site-packages/sklearn/metrics/_classification.py:1334: UndefinedMetricWarning: Precision and F-score are ill-defined and being set to 0.0 in labels with no predicted samples. Use `zero_division` parameter to control this behavior.\n",
      "  _warn_prf(average, modifier, msg_start, len(result))\n",
      "/home/ppibot/anaconda3/envs/myenv/lib/python3.9/site-packages/sklearn/metrics/_classification.py:1334: UndefinedMetricWarning: Recall and F-score are ill-defined and being set to 0.0 in labels with no true samples. Use `zero_division` parameter to control this behavior.\n",
      "  _warn_prf(average, modifier, msg_start, len(result))\n",
      "                                                 \n",
      "100%|██████████| 219/219 [00:57<00:00,  5.02it/s]Saving model checkpoint to ./model/run-48/checkpoint-219\n",
      "Configuration saved in ./model/run-48/checkpoint-219/config.json\n"
     ]
    },
    {
     "name": "stdout",
     "output_type": "stream",
     "text": [
      "{'eval_loss': 0.32394325733184814, 'eval_accuracy': 0.6216216216216216, 'eval_f1': 0.45098039215686275, 'eval_precision': 0.45098039215686275, 'eval_recall': 0.45098039215686275, 'eval_slot': 0.8823244370374589, 'eval_slot_accuracy': 0.7972972972972973, 'eval_runtime': 2.8584, 'eval_samples_per_second': 12.945, 'eval_steps_per_second': 6.647, 'epoch': 3.0}\n"
     ]
    },
    {
     "name": "stderr",
     "output_type": "stream",
     "text": [
      "Model weights saved in ./model/run-48/checkpoint-219/pytorch_model.bin\n",
      "\n",
      "\n",
      "Training completed. Do not forget to share your model on huggingface.co/models =)\n",
      "\n",
      "\n",
      "Loading best model from ./model/run-48/checkpoint-219 (score: 0.7972972972972973).\n",
      "100%|██████████| 219/219 [01:02<00:00,  3.53it/s]\n",
      "\u001b[32m[I 2023-06-11 20:30:20,068]\u001b[0m Trial 48 finished with value: 0.7972972972972973 and parameters: {'learning_rate': 9.060355355910528e-05, 'num_train_epochs': 3}. Best is trial 11 with value: 0.8558558558558559.\u001b[0m\n",
      "Trial: {'learning_rate': 6.944402807070206e-05, 'num_train_epochs': 19}\n"
     ]
    },
    {
     "name": "stdout",
     "output_type": "stream",
     "text": [
      "{'train_runtime': 62.0539, 'train_samples_per_second': 7.058, 'train_steps_per_second': 3.529, 'train_loss': 0.5389401161507384, 'epoch': 3.0}\n"
     ]
    },
    {
     "name": "stderr",
     "output_type": "stream",
     "text": [
      "loading configuration file config.json from cache at /home/ppibot/.cache/huggingface/hub/models--google--flan-t5-base/snapshots/c782cba52f8ea6a704240578055cf1c3fc2f2ca9/config.json\n",
      "Model config T5Config {\n",
      "  \"_name_or_path\": \"google/flan-t5-base\",\n",
      "  \"architectures\": [\n",
      "    \"T5ForConditionalGeneration\"\n",
      "  ],\n",
      "  \"d_ff\": 2048,\n",
      "  \"d_kv\": 64,\n",
      "  \"d_model\": 768,\n",
      "  \"decoder_start_token_id\": 0,\n",
      "  \"dense_act_fn\": \"gelu_new\",\n",
      "  \"dropout_rate\": 0.1,\n",
      "  \"eos_token_id\": 1,\n",
      "  \"feed_forward_proj\": \"gated-gelu\",\n",
      "  \"initializer_factor\": 1.0,\n",
      "  \"is_encoder_decoder\": true,\n",
      "  \"is_gated_act\": true,\n",
      "  \"layer_norm_epsilon\": 1e-06,\n",
      "  \"model_type\": \"t5\",\n",
      "  \"n_positions\": 512,\n",
      "  \"num_decoder_layers\": 12,\n",
      "  \"num_heads\": 12,\n",
      "  \"num_layers\": 12,\n",
      "  \"output_past\": true,\n",
      "  \"pad_token_id\": 0,\n",
      "  \"relative_attention_max_distance\": 128,\n",
      "  \"relative_attention_num_buckets\": 32,\n",
      "  \"task_specific_params\": {\n",
      "    \"summarization\": {\n",
      "      \"early_stopping\": true,\n",
      "      \"length_penalty\": 2.0,\n",
      "      \"max_length\": 200,\n",
      "      \"min_length\": 30,\n",
      "      \"no_repeat_ngram_size\": 3,\n",
      "      \"num_beams\": 4,\n",
      "      \"prefix\": \"summarize: \"\n",
      "    },\n",
      "    \"translation_en_to_de\": {\n",
      "      \"early_stopping\": true,\n",
      "      \"max_length\": 300,\n",
      "      \"num_beams\": 4,\n",
      "      \"prefix\": \"translate English to German: \"\n",
      "    },\n",
      "    \"translation_en_to_fr\": {\n",
      "      \"early_stopping\": true,\n",
      "      \"max_length\": 300,\n",
      "      \"num_beams\": 4,\n",
      "      \"prefix\": \"translate English to French: \"\n",
      "    },\n",
      "    \"translation_en_to_ro\": {\n",
      "      \"early_stopping\": true,\n",
      "      \"max_length\": 300,\n",
      "      \"num_beams\": 4,\n",
      "      \"prefix\": \"translate English to Romanian: \"\n",
      "    }\n",
      "  },\n",
      "  \"tie_word_embeddings\": false,\n",
      "  \"transformers_version\": \"4.24.0\",\n",
      "  \"use_cache\": true,\n",
      "  \"vocab_size\": 32128\n",
      "}\n",
      "\n",
      "loading weights file pytorch_model.bin from cache at /home/ppibot/.cache/huggingface/hub/models--google--flan-t5-base/snapshots/c782cba52f8ea6a704240578055cf1c3fc2f2ca9/pytorch_model.bin\n",
      "All model checkpoint weights were used when initializing T5ForConditionalGeneration.\n",
      "\n",
      "All the weights of T5ForConditionalGeneration were initialized from the model checkpoint at google/flan-t5-base.\n",
      "If your task is similar to the task the model of the checkpoint was trained on, you can already use T5ForConditionalGeneration for predictions without further training.\n",
      "/home/ppibot/anaconda3/envs/myenv/lib/python3.9/site-packages/transformers/optimization.py:306: FutureWarning: This implementation of AdamW is deprecated and will be removed in a future version. Use the PyTorch implementation torch.optim.AdamW instead, or set `no_deprecation_warning=True` to disable this warning\n",
      "  warnings.warn(\n",
      "***** Running training *****\n",
      "  Num examples = 146\n",
      "  Num Epochs = 19\n",
      "  Instantaneous batch size per device = 2\n",
      "  Total train batch size (w. parallel, distributed & accumulation) = 2\n",
      "  Gradient Accumulation steps = 1\n",
      "  Total optimization steps = 1387\n",
      "  Number of trainable parameters = 247577856\n",
      "  5%|▌         | 73/1387 [00:14<04:22,  5.00it/s]***** Running Evaluation *****\n",
      "  Num examples = 37\n",
      "  Batch size = 2\n",
      "/home/ppibot/anaconda3/envs/myenv/lib/python3.9/site-packages/sklearn/metrics/_classification.py:1334: UndefinedMetricWarning: Precision and F-score are ill-defined and being set to 0.0 in labels with no predicted samples. Use `zero_division` parameter to control this behavior.\n",
      "  _warn_prf(average, modifier, msg_start, len(result))\n",
      "/home/ppibot/anaconda3/envs/myenv/lib/python3.9/site-packages/sklearn/metrics/_classification.py:1334: UndefinedMetricWarning: Recall and F-score are ill-defined and being set to 0.0 in labels with no true samples. Use `zero_division` parameter to control this behavior.\n",
      "  _warn_prf(average, modifier, msg_start, len(result))\n",
      "                                                 \n",
      "  5%|▌         | 73/1387 [00:17<05:16,  4.15it/s]\n",
      "\u001b[32m[I 2023-06-11 20:30:39,669]\u001b[0m Trial 49 pruned. \u001b[0m\n"
     ]
    },
    {
     "name": "stdout",
     "output_type": "stream",
     "text": [
      "{'eval_loss': 0.4376596510410309, 'eval_accuracy': 0.24324324324324326, 'eval_f1': 0.13846153846153847, 'eval_precision': 0.13846153846153847, 'eval_recall': 0.13846153846153847, 'eval_slot': 0.6567216584601709, 'eval_slot_accuracy': 0.47297297297297297, 'eval_runtime': 3.0407, 'eval_samples_per_second': 12.168, 'eval_steps_per_second': 6.249, 'epoch': 1.0}\n"
     ]
    }
   ],
   "source": [
    "best_run = trainer.hyperparameter_search(\n",
    "    n_trials=50,\n",
    "    direction=\"maximize\",\n",
    "    hp_space=optuna_hp_space,\n",
    "    compute_objective=compute_objective,\n",
    ")"
   ]
  },
  {
   "cell_type": "code",
   "execution_count": 26,
   "metadata": {},
   "outputs": [
    {
     "data": {
      "text/plain": [
       "BestRun(run_id='11', objective=0.8558558558558559, hyperparameters={'learning_rate': 9.450559422241211e-05, 'num_train_epochs': 15})"
      ]
     },
     "execution_count": 26,
     "metadata": {},
     "output_type": "execute_result"
    }
   ],
   "source": [
    "best_run"
   ]
  },
  {
   "cell_type": "code",
   "execution_count": 27,
   "metadata": {},
   "outputs": [
    {
     "name": "stderr",
     "output_type": "stream",
     "text": [
      "loading configuration file config.json from cache at /home/ppibot/.cache/huggingface/hub/models--google--flan-t5-base/snapshots/c782cba52f8ea6a704240578055cf1c3fc2f2ca9/config.json\n",
      "Model config T5Config {\n",
      "  \"_name_or_path\": \"google/flan-t5-base\",\n",
      "  \"architectures\": [\n",
      "    \"T5ForConditionalGeneration\"\n",
      "  ],\n",
      "  \"d_ff\": 2048,\n",
      "  \"d_kv\": 64,\n",
      "  \"d_model\": 768,\n",
      "  \"decoder_start_token_id\": 0,\n",
      "  \"dense_act_fn\": \"gelu_new\",\n",
      "  \"dropout_rate\": 0.1,\n",
      "  \"eos_token_id\": 1,\n",
      "  \"feed_forward_proj\": \"gated-gelu\",\n",
      "  \"initializer_factor\": 1.0,\n",
      "  \"is_encoder_decoder\": true,\n",
      "  \"is_gated_act\": true,\n",
      "  \"layer_norm_epsilon\": 1e-06,\n",
      "  \"model_type\": \"t5\",\n",
      "  \"n_positions\": 512,\n",
      "  \"num_decoder_layers\": 12,\n",
      "  \"num_heads\": 12,\n",
      "  \"num_layers\": 12,\n",
      "  \"output_past\": true,\n",
      "  \"pad_token_id\": 0,\n",
      "  \"relative_attention_max_distance\": 128,\n",
      "  \"relative_attention_num_buckets\": 32,\n",
      "  \"task_specific_params\": {\n",
      "    \"summarization\": {\n",
      "      \"early_stopping\": true,\n",
      "      \"length_penalty\": 2.0,\n",
      "      \"max_length\": 200,\n",
      "      \"min_length\": 30,\n",
      "      \"no_repeat_ngram_size\": 3,\n",
      "      \"num_beams\": 4,\n",
      "      \"prefix\": \"summarize: \"\n",
      "    },\n",
      "    \"translation_en_to_de\": {\n",
      "      \"early_stopping\": true,\n",
      "      \"max_length\": 300,\n",
      "      \"num_beams\": 4,\n",
      "      \"prefix\": \"translate English to German: \"\n",
      "    },\n",
      "    \"translation_en_to_fr\": {\n",
      "      \"early_stopping\": true,\n",
      "      \"max_length\": 300,\n",
      "      \"num_beams\": 4,\n",
      "      \"prefix\": \"translate English to French: \"\n",
      "    },\n",
      "    \"translation_en_to_ro\": {\n",
      "      \"early_stopping\": true,\n",
      "      \"max_length\": 300,\n",
      "      \"num_beams\": 4,\n",
      "      \"prefix\": \"translate English to Romanian: \"\n",
      "    }\n",
      "  },\n",
      "  \"tie_word_embeddings\": false,\n",
      "  \"transformers_version\": \"4.24.0\",\n",
      "  \"use_cache\": true,\n",
      "  \"vocab_size\": 32128\n",
      "}\n",
      "\n",
      "loading weights file pytorch_model.bin from cache at /home/ppibot/.cache/huggingface/hub/models--google--flan-t5-base/snapshots/c782cba52f8ea6a704240578055cf1c3fc2f2ca9/pytorch_model.bin\n",
      "All model checkpoint weights were used when initializing T5ForConditionalGeneration.\n",
      "\n",
      "All the weights of T5ForConditionalGeneration were initialized from the model checkpoint at google/flan-t5-base.\n",
      "If your task is similar to the task the model of the checkpoint was trained on, you can already use T5ForConditionalGeneration for predictions without further training.\n",
      "/home/ppibot/anaconda3/envs/myenv/lib/python3.9/site-packages/transformers/optimization.py:306: FutureWarning: This implementation of AdamW is deprecated and will be removed in a future version. Use the PyTorch implementation torch.optim.AdamW instead, or set `no_deprecation_warning=True` to disable this warning\n",
      "  warnings.warn(\n",
      "***** Running training *****\n",
      "  Num examples = 146\n",
      "  Num Epochs = 15\n",
      "  Instantaneous batch size per device = 2\n",
      "  Total train batch size (w. parallel, distributed & accumulation) = 2\n",
      "  Gradient Accumulation steps = 1\n",
      "  Total optimization steps = 1095\n",
      "  Number of trainable parameters = 247577856\n",
      "  7%|▋         | 73/1095 [00:14<03:24,  5.00it/s]***** Running Evaluation *****\n",
      "  Num examples = 37\n",
      "  Batch size = 2\n",
      "/home/ppibot/anaconda3/envs/myenv/lib/python3.9/site-packages/sklearn/metrics/_classification.py:1334: UndefinedMetricWarning: Precision and F-score are ill-defined and being set to 0.0 in labels with no predicted samples. Use `zero_division` parameter to control this behavior.\n",
      "  _warn_prf(average, modifier, msg_start, len(result))\n",
      "/home/ppibot/anaconda3/envs/myenv/lib/python3.9/site-packages/sklearn/metrics/_classification.py:1334: UndefinedMetricWarning: Recall and F-score are ill-defined and being set to 0.0 in labels with no true samples. Use `zero_division` parameter to control this behavior.\n",
      "  _warn_prf(average, modifier, msg_start, len(result))\n",
      "\n",
      "  7%|▋         | 73/1095 [00:17<03:24,  5.00it/s]Saving model checkpoint to ./model/checkpoint-73\n",
      "Configuration saved in ./model/checkpoint-73/config.json\n"
     ]
    },
    {
     "name": "stdout",
     "output_type": "stream",
     "text": [
      "{'eval_loss': 0.36733299493789673, 'eval_accuracy': 0.3783783783783784, 'eval_f1': 0.23333333333333334, 'eval_precision': 0.23333333333333334, 'eval_recall': 0.23333333333333334, 'eval_slot': 0.7315882489581004, 'eval_slot_accuracy': 0.6531531531531531, 'eval_runtime': 2.9604, 'eval_samples_per_second': 12.498, 'eval_steps_per_second': 6.418, 'epoch': 1.0}\n"
     ]
    },
    {
     "name": "stderr",
     "output_type": "stream",
     "text": [
      "Model weights saved in ./model/checkpoint-73/pytorch_model.bin\n",
      " 13%|█▎        | 146/1095 [00:34<03:09,  5.01it/s]***** Running Evaluation *****\n",
      "  Num examples = 37\n",
      "  Batch size = 2\n",
      "/home/ppibot/anaconda3/envs/myenv/lib/python3.9/site-packages/sklearn/metrics/_classification.py:1334: UndefinedMetricWarning: Precision and F-score are ill-defined and being set to 0.0 in labels with no predicted samples. Use `zero_division` parameter to control this behavior.\n",
      "  _warn_prf(average, modifier, msg_start, len(result))\n",
      "/home/ppibot/anaconda3/envs/myenv/lib/python3.9/site-packages/sklearn/metrics/_classification.py:1334: UndefinedMetricWarning: Recall and F-score are ill-defined and being set to 0.0 in labels with no true samples. Use `zero_division` parameter to control this behavior.\n",
      "  _warn_prf(average, modifier, msg_start, len(result))\n",
      "                                                  \n",
      " 13%|█▎        | 146/1095 [00:37<03:09,  5.01it/s]Saving model checkpoint to ./model/checkpoint-146\n",
      "Configuration saved in ./model/checkpoint-146/config.json\n"
     ]
    },
    {
     "name": "stdout",
     "output_type": "stream",
     "text": [
      "{'eval_loss': 0.35149717330932617, 'eval_accuracy': 0.4864864864864865, 'eval_f1': 0.32142857142857145, 'eval_precision': 0.32142857142857145, 'eval_recall': 0.32142857142857145, 'eval_slot': 0.7397442373418539, 'eval_slot_accuracy': 0.6846846846846847, 'eval_runtime': 2.9525, 'eval_samples_per_second': 12.532, 'eval_steps_per_second': 6.435, 'epoch': 2.0}\n"
     ]
    },
    {
     "name": "stderr",
     "output_type": "stream",
     "text": [
      "Model weights saved in ./model/checkpoint-146/pytorch_model.bin\n",
      " 20%|██        | 219/1095 [00:55<02:54,  5.01it/s]***** Running Evaluation *****\n",
      "  Num examples = 37\n",
      "  Batch size = 2\n",
      "/home/ppibot/anaconda3/envs/myenv/lib/python3.9/site-packages/sklearn/metrics/_classification.py:1334: UndefinedMetricWarning: Precision and F-score are ill-defined and being set to 0.0 in labels with no predicted samples. Use `zero_division` parameter to control this behavior.\n",
      "  _warn_prf(average, modifier, msg_start, len(result))\n",
      "/home/ppibot/anaconda3/envs/myenv/lib/python3.9/site-packages/sklearn/metrics/_classification.py:1334: UndefinedMetricWarning: Recall and F-score are ill-defined and being set to 0.0 in labels with no true samples. Use `zero_division` parameter to control this behavior.\n",
      "  _warn_prf(average, modifier, msg_start, len(result))\n",
      "                                                  \n",
      " 20%|██        | 219/1095 [00:57<02:54,  5.01it/s]Saving model checkpoint to ./model/checkpoint-219\n",
      "Configuration saved in ./model/checkpoint-219/config.json\n"
     ]
    },
    {
     "name": "stdout",
     "output_type": "stream",
     "text": [
      "{'eval_loss': 0.31346195936203003, 'eval_accuracy': 0.5945945945945946, 'eval_f1': 0.4230769230769231, 'eval_precision': 0.4230769230769231, 'eval_recall': 0.4230769230769231, 'eval_slot': 0.8599091646221864, 'eval_slot_accuracy': 0.7792792792792792, 'eval_runtime': 2.8895, 'eval_samples_per_second': 12.805, 'eval_steps_per_second': 6.576, 'epoch': 3.0}\n"
     ]
    },
    {
     "name": "stderr",
     "output_type": "stream",
     "text": [
      "Model weights saved in ./model/checkpoint-219/pytorch_model.bin\n",
      " 27%|██▋       | 292/1095 [01:14<02:40,  5.00it/s]***** Running Evaluation *****\n",
      "  Num examples = 37\n",
      "  Batch size = 2\n",
      "/home/ppibot/anaconda3/envs/myenv/lib/python3.9/site-packages/sklearn/metrics/_classification.py:1334: UndefinedMetricWarning: Precision and F-score are ill-defined and being set to 0.0 in labels with no predicted samples. Use `zero_division` parameter to control this behavior.\n",
      "  _warn_prf(average, modifier, msg_start, len(result))\n",
      "/home/ppibot/anaconda3/envs/myenv/lib/python3.9/site-packages/sklearn/metrics/_classification.py:1334: UndefinedMetricWarning: Recall and F-score are ill-defined and being set to 0.0 in labels with no true samples. Use `zero_division` parameter to control this behavior.\n",
      "  _warn_prf(average, modifier, msg_start, len(result))\n",
      "                                                  \n",
      " 27%|██▋       | 292/1095 [01:17<02:40,  5.00it/s]Saving model checkpoint to ./model/checkpoint-292\n",
      "Configuration saved in ./model/checkpoint-292/config.json\n"
     ]
    },
    {
     "name": "stdout",
     "output_type": "stream",
     "text": [
      "{'eval_loss': 0.3955528438091278, 'eval_accuracy': 0.6216216216216216, 'eval_f1': 0.45098039215686275, 'eval_precision': 0.45098039215686275, 'eval_recall': 0.45098039215686275, 'eval_slot': 0.8459861506991725, 'eval_slot_accuracy': 0.7837837837837838, 'eval_runtime': 2.9026, 'eval_samples_per_second': 12.747, 'eval_steps_per_second': 6.546, 'epoch': 4.0}\n"
     ]
    },
    {
     "name": "stderr",
     "output_type": "stream",
     "text": [
      "Model weights saved in ./model/checkpoint-292/pytorch_model.bin\n",
      " 33%|███▎      | 365/1095 [01:34<02:26,  4.99it/s]***** Running Evaluation *****\n",
      "  Num examples = 37\n",
      "  Batch size = 2\n",
      "/home/ppibot/anaconda3/envs/myenv/lib/python3.9/site-packages/sklearn/metrics/_classification.py:1334: UndefinedMetricWarning: Precision and F-score are ill-defined and being set to 0.0 in labels with no predicted samples. Use `zero_division` parameter to control this behavior.\n",
      "  _warn_prf(average, modifier, msg_start, len(result))\n",
      "/home/ppibot/anaconda3/envs/myenv/lib/python3.9/site-packages/sklearn/metrics/_classification.py:1334: UndefinedMetricWarning: Recall and F-score are ill-defined and being set to 0.0 in labels with no true samples. Use `zero_division` parameter to control this behavior.\n",
      "  _warn_prf(average, modifier, msg_start, len(result))\n",
      "                                                  \n",
      " 33%|███▎      | 365/1095 [01:37<02:26,  4.99it/s]Saving model checkpoint to ./model/checkpoint-365\n",
      "Configuration saved in ./model/checkpoint-365/config.json\n"
     ]
    },
    {
     "name": "stdout",
     "output_type": "stream",
     "text": [
      "{'eval_loss': 0.3878813087940216, 'eval_accuracy': 0.6756756756756757, 'eval_f1': 0.5102040816326531, 'eval_precision': 0.5102040816326531, 'eval_recall': 0.5102040816326531, 'eval_slot': 0.8515424175984521, 'eval_slot_accuracy': 0.7972972972972973, 'eval_runtime': 3.004, 'eval_samples_per_second': 12.317, 'eval_steps_per_second': 6.325, 'epoch': 5.0}\n"
     ]
    },
    {
     "name": "stderr",
     "output_type": "stream",
     "text": [
      "Model weights saved in ./model/checkpoint-365/pytorch_model.bin\n",
      " 40%|████      | 438/1095 [01:55<02:11,  4.99it/s]***** Running Evaluation *****\n",
      "  Num examples = 37\n",
      "  Batch size = 2\n",
      "/home/ppibot/anaconda3/envs/myenv/lib/python3.9/site-packages/sklearn/metrics/_classification.py:1334: UndefinedMetricWarning: Precision and F-score are ill-defined and being set to 0.0 in labels with no predicted samples. Use `zero_division` parameter to control this behavior.\n",
      "  _warn_prf(average, modifier, msg_start, len(result))\n",
      "/home/ppibot/anaconda3/envs/myenv/lib/python3.9/site-packages/sklearn/metrics/_classification.py:1334: UndefinedMetricWarning: Recall and F-score are ill-defined and being set to 0.0 in labels with no true samples. Use `zero_division` parameter to control this behavior.\n",
      "  _warn_prf(average, modifier, msg_start, len(result))\n",
      "                                                  \n",
      " 40%|████      | 438/1095 [01:58<02:11,  4.99it/s]Saving model checkpoint to ./model/checkpoint-438\n",
      "Configuration saved in ./model/checkpoint-438/config.json\n"
     ]
    },
    {
     "name": "stdout",
     "output_type": "stream",
     "text": [
      "{'eval_loss': 0.36777615547180176, 'eval_accuracy': 0.7027027027027027, 'eval_f1': 0.5416666666666666, 'eval_precision': 0.5416666666666666, 'eval_recall': 0.5416666666666666, 'eval_slot': 0.8698501400804031, 'eval_slot_accuracy': 0.8198198198198198, 'eval_runtime': 2.9927, 'eval_samples_per_second': 12.363, 'eval_steps_per_second': 6.349, 'epoch': 6.0}\n"
     ]
    },
    {
     "name": "stderr",
     "output_type": "stream",
     "text": [
      "Model weights saved in ./model/checkpoint-438/pytorch_model.bin\n",
      " 46%|████▌     | 501/1095 [02:13<01:59,  4.99it/s]"
     ]
    },
    {
     "name": "stdout",
     "output_type": "stream",
     "text": [
      "{'loss': 0.2626, 'learning_rate': 5.135235485144768e-05, 'epoch': 6.85}\n"
     ]
    },
    {
     "name": "stderr",
     "output_type": "stream",
     "text": [
      " 47%|████▋     | 511/1095 [02:15<01:58,  4.92it/s]***** Running Evaluation *****\n",
      "  Num examples = 37\n",
      "  Batch size = 2\n",
      "/home/ppibot/anaconda3/envs/myenv/lib/python3.9/site-packages/sklearn/metrics/_classification.py:1334: UndefinedMetricWarning: Precision and F-score are ill-defined and being set to 0.0 in labels with no predicted samples. Use `zero_division` parameter to control this behavior.\n",
      "  _warn_prf(average, modifier, msg_start, len(result))\n",
      "/home/ppibot/anaconda3/envs/myenv/lib/python3.9/site-packages/sklearn/metrics/_classification.py:1334: UndefinedMetricWarning: Recall and F-score are ill-defined and being set to 0.0 in labels with no true samples. Use `zero_division` parameter to control this behavior.\n",
      "  _warn_prf(average, modifier, msg_start, len(result))\n",
      "                                                  \n",
      " 47%|████▋     | 511/1095 [02:18<01:58,  4.92it/s]Saving model checkpoint to ./model/checkpoint-511\n",
      "Configuration saved in ./model/checkpoint-511/config.json\n"
     ]
    },
    {
     "name": "stdout",
     "output_type": "stream",
     "text": [
      "{'eval_loss': 0.4209822416305542, 'eval_accuracy': 0.6486486486486487, 'eval_f1': 0.48, 'eval_precision': 0.48, 'eval_recall': 0.48, 'eval_slot': 0.8644136691266908, 'eval_slot_accuracy': 0.7972972972972971, 'eval_runtime': 2.9929, 'eval_samples_per_second': 12.363, 'eval_steps_per_second': 6.348, 'epoch': 7.0}\n"
     ]
    },
    {
     "name": "stderr",
     "output_type": "stream",
     "text": [
      "Model weights saved in ./model/checkpoint-511/pytorch_model.bin\n",
      " 53%|█████▎    | 584/1095 [02:35<01:42,  5.01it/s]***** Running Evaluation *****\n",
      "  Num examples = 37\n",
      "  Batch size = 2\n",
      "/home/ppibot/anaconda3/envs/myenv/lib/python3.9/site-packages/sklearn/metrics/_classification.py:1334: UndefinedMetricWarning: Precision and F-score are ill-defined and being set to 0.0 in labels with no predicted samples. Use `zero_division` parameter to control this behavior.\n",
      "  _warn_prf(average, modifier, msg_start, len(result))\n",
      "/home/ppibot/anaconda3/envs/myenv/lib/python3.9/site-packages/sklearn/metrics/_classification.py:1334: UndefinedMetricWarning: Recall and F-score are ill-defined and being set to 0.0 in labels with no true samples. Use `zero_division` parameter to control this behavior.\n",
      "  _warn_prf(average, modifier, msg_start, len(result))\n",
      "                                                  \n",
      " 53%|█████▎    | 584/1095 [02:38<01:42,  5.01it/s]Saving model checkpoint to ./model/checkpoint-584\n",
      "Configuration saved in ./model/checkpoint-584/config.json\n"
     ]
    },
    {
     "name": "stdout",
     "output_type": "stream",
     "text": [
      "{'eval_loss': 0.3978400230407715, 'eval_accuracy': 0.7027027027027027, 'eval_f1': 0.5416666666666666, 'eval_precision': 0.5416666666666666, 'eval_recall': 0.5416666666666666, 'eval_slot': 0.9117109664239881, 'eval_slot_accuracy': 0.8333333333333333, 'eval_runtime': 3.0391, 'eval_samples_per_second': 12.175, 'eval_steps_per_second': 6.252, 'epoch': 8.0}\n"
     ]
    },
    {
     "name": "stderr",
     "output_type": "stream",
     "text": [
      "Model weights saved in ./model/checkpoint-584/pytorch_model.bin\n",
      " 60%|██████    | 657/1095 [02:56<01:27,  5.00it/s]***** Running Evaluation *****\n",
      "  Num examples = 37\n",
      "  Batch size = 2\n",
      "/home/ppibot/anaconda3/envs/myenv/lib/python3.9/site-packages/sklearn/metrics/_classification.py:1334: UndefinedMetricWarning: Precision and F-score are ill-defined and being set to 0.0 in labels with no predicted samples. Use `zero_division` parameter to control this behavior.\n",
      "  _warn_prf(average, modifier, msg_start, len(result))\n",
      "/home/ppibot/anaconda3/envs/myenv/lib/python3.9/site-packages/sklearn/metrics/_classification.py:1334: UndefinedMetricWarning: Recall and F-score are ill-defined and being set to 0.0 in labels with no true samples. Use `zero_division` parameter to control this behavior.\n",
      "  _warn_prf(average, modifier, msg_start, len(result))\n",
      "                                                  \n",
      " 60%|██████    | 657/1095 [02:59<01:27,  5.00it/s]Saving model checkpoint to ./model/checkpoint-657\n",
      "Configuration saved in ./model/checkpoint-657/config.json\n"
     ]
    },
    {
     "name": "stdout",
     "output_type": "stream",
     "text": [
      "{'eval_loss': 0.44082874059677124, 'eval_accuracy': 0.6216216216216216, 'eval_f1': 0.45098039215686275, 'eval_precision': 0.45098039215686275, 'eval_recall': 0.45098039215686275, 'eval_slot': 0.8608411310713943, 'eval_slot_accuracy': 0.8063063063063063, 'eval_runtime': 3.0994, 'eval_samples_per_second': 11.938, 'eval_steps_per_second': 6.13, 'epoch': 9.0}\n"
     ]
    },
    {
     "name": "stderr",
     "output_type": "stream",
     "text": [
      "Model weights saved in ./model/checkpoint-657/pytorch_model.bin\n",
      " 67%|██████▋   | 730/1095 [03:17<01:12,  5.01it/s]***** Running Evaluation *****\n",
      "  Num examples = 37\n",
      "  Batch size = 2\n",
      "/home/ppibot/anaconda3/envs/myenv/lib/python3.9/site-packages/sklearn/metrics/_classification.py:1334: UndefinedMetricWarning: Precision and F-score are ill-defined and being set to 0.0 in labels with no predicted samples. Use `zero_division` parameter to control this behavior.\n",
      "  _warn_prf(average, modifier, msg_start, len(result))\n",
      "/home/ppibot/anaconda3/envs/myenv/lib/python3.9/site-packages/sklearn/metrics/_classification.py:1334: UndefinedMetricWarning: Recall and F-score are ill-defined and being set to 0.0 in labels with no true samples. Use `zero_division` parameter to control this behavior.\n",
      "  _warn_prf(average, modifier, msg_start, len(result))\n",
      "                                                  \n",
      " 67%|██████▋   | 730/1095 [03:20<01:12,  5.01it/s]Saving model checkpoint to ./model/checkpoint-730\n",
      "Configuration saved in ./model/checkpoint-730/config.json\n"
     ]
    },
    {
     "name": "stdout",
     "output_type": "stream",
     "text": [
      "{'eval_loss': 0.4206334352493286, 'eval_accuracy': 0.7027027027027027, 'eval_f1': 0.5416666666666666, 'eval_precision': 0.5416666666666666, 'eval_recall': 0.5416666666666666, 'eval_slot': 0.8924964127266759, 'eval_slot_accuracy': 0.8288288288288289, 'eval_runtime': 3.0942, 'eval_samples_per_second': 11.958, 'eval_steps_per_second': 6.14, 'epoch': 10.0}\n"
     ]
    },
    {
     "name": "stderr",
     "output_type": "stream",
     "text": [
      "Model weights saved in ./model/checkpoint-730/pytorch_model.bin\n",
      " 73%|███████▎  | 803/1095 [03:38<00:58,  4.99it/s]***** Running Evaluation *****\n",
      "  Num examples = 37\n",
      "  Batch size = 2\n",
      "/home/ppibot/anaconda3/envs/myenv/lib/python3.9/site-packages/sklearn/metrics/_classification.py:1334: UndefinedMetricWarning: Precision and F-score are ill-defined and being set to 0.0 in labels with no predicted samples. Use `zero_division` parameter to control this behavior.\n",
      "  _warn_prf(average, modifier, msg_start, len(result))\n",
      "/home/ppibot/anaconda3/envs/myenv/lib/python3.9/site-packages/sklearn/metrics/_classification.py:1334: UndefinedMetricWarning: Recall and F-score are ill-defined and being set to 0.0 in labels with no true samples. Use `zero_division` parameter to control this behavior.\n",
      "  _warn_prf(average, modifier, msg_start, len(result))\n",
      "                                                  \n",
      " 73%|███████▎  | 803/1095 [03:41<00:58,  4.99it/s]Saving model checkpoint to ./model/checkpoint-803\n",
      "Configuration saved in ./model/checkpoint-803/config.json\n"
     ]
    },
    {
     "name": "stdout",
     "output_type": "stream",
     "text": [
      "{'eval_loss': 0.4506450891494751, 'eval_accuracy': 0.6756756756756757, 'eval_f1': 0.5102040816326531, 'eval_precision': 0.5102040816326531, 'eval_recall': 0.5102040816326531, 'eval_slot': 0.8957724160026791, 'eval_slot_accuracy': 0.8288288288288289, 'eval_runtime': 2.9936, 'eval_samples_per_second': 12.36, 'eval_steps_per_second': 6.347, 'epoch': 11.0}\n"
     ]
    },
    {
     "name": "stderr",
     "output_type": "stream",
     "text": [
      "Model weights saved in ./model/checkpoint-803/pytorch_model.bin\n",
      " 80%|████████  | 876/1095 [03:58<00:43,  5.01it/s]***** Running Evaluation *****\n",
      "  Num examples = 37\n",
      "  Batch size = 2\n",
      "/home/ppibot/anaconda3/envs/myenv/lib/python3.9/site-packages/sklearn/metrics/_classification.py:1334: UndefinedMetricWarning: Precision and F-score are ill-defined and being set to 0.0 in labels with no predicted samples. Use `zero_division` parameter to control this behavior.\n",
      "  _warn_prf(average, modifier, msg_start, len(result))\n",
      "/home/ppibot/anaconda3/envs/myenv/lib/python3.9/site-packages/sklearn/metrics/_classification.py:1334: UndefinedMetricWarning: Recall and F-score are ill-defined and being set to 0.0 in labels with no true samples. Use `zero_division` parameter to control this behavior.\n",
      "  _warn_prf(average, modifier, msg_start, len(result))\n",
      "                                                  \n",
      " 80%|████████  | 876/1095 [04:01<00:43,  5.01it/s]Saving model checkpoint to ./model/checkpoint-876\n",
      "Configuration saved in ./model/checkpoint-876/config.json\n"
     ]
    },
    {
     "name": "stdout",
     "output_type": "stream",
     "text": [
      "{'eval_loss': 0.418291836977005, 'eval_accuracy': 0.6756756756756757, 'eval_f1': 0.5102040816326531, 'eval_precision': 0.5102040816326531, 'eval_recall': 0.5102040816326531, 'eval_slot': 0.8834874037176669, 'eval_slot_accuracy': 0.8153153153153153, 'eval_runtime': 2.9937, 'eval_samples_per_second': 12.359, 'eval_steps_per_second': 6.347, 'epoch': 12.0}\n"
     ]
    },
    {
     "name": "stderr",
     "output_type": "stream",
     "text": [
      "Model weights saved in ./model/checkpoint-876/pytorch_model.bin\n",
      " 87%|████████▋ | 949/1095 [04:20<00:29,  5.00it/s]***** Running Evaluation *****\n",
      "  Num examples = 37\n",
      "  Batch size = 2\n",
      "/home/ppibot/anaconda3/envs/myenv/lib/python3.9/site-packages/sklearn/metrics/_classification.py:1334: UndefinedMetricWarning: Precision and F-score are ill-defined and being set to 0.0 in labels with no predicted samples. Use `zero_division` parameter to control this behavior.\n",
      "  _warn_prf(average, modifier, msg_start, len(result))\n",
      "/home/ppibot/anaconda3/envs/myenv/lib/python3.9/site-packages/sklearn/metrics/_classification.py:1334: UndefinedMetricWarning: Recall and F-score are ill-defined and being set to 0.0 in labels with no true samples. Use `zero_division` parameter to control this behavior.\n",
      "  _warn_prf(average, modifier, msg_start, len(result))\n",
      "                                                  \n",
      " 87%|████████▋ | 949/1095 [04:23<00:29,  5.00it/s]Saving model checkpoint to ./model/checkpoint-949\n",
      "Configuration saved in ./model/checkpoint-949/config.json\n"
     ]
    },
    {
     "name": "stdout",
     "output_type": "stream",
     "text": [
      "{'eval_loss': 0.42054837942123413, 'eval_accuracy': 0.7027027027027027, 'eval_f1': 0.5416666666666666, 'eval_precision': 0.5416666666666666, 'eval_recall': 0.5416666666666666, 'eval_slot': 0.9227994430297062, 'eval_slot_accuracy': 0.8558558558558559, 'eval_runtime': 2.9845, 'eval_samples_per_second': 12.398, 'eval_steps_per_second': 6.366, 'epoch': 13.0}\n"
     ]
    },
    {
     "name": "stderr",
     "output_type": "stream",
     "text": [
      "Model weights saved in ./model/checkpoint-949/pytorch_model.bin\n",
      " 91%|█████████▏| 1001/1095 [04:39<00:18,  4.98it/s]"
     ]
    },
    {
     "name": "stdout",
     "output_type": "stream",
     "text": [
      "{'loss': 0.0229, 'learning_rate': 8.199115480483243e-06, 'epoch': 13.7}\n"
     ]
    },
    {
     "name": "stderr",
     "output_type": "stream",
     "text": [
      " 93%|█████████▎| 1022/1095 [04:43<00:14,  5.00it/s]***** Running Evaluation *****\n",
      "  Num examples = 37\n",
      "  Batch size = 2\n",
      "/home/ppibot/anaconda3/envs/myenv/lib/python3.9/site-packages/sklearn/metrics/_classification.py:1334: UndefinedMetricWarning: Precision and F-score are ill-defined and being set to 0.0 in labels with no predicted samples. Use `zero_division` parameter to control this behavior.\n",
      "  _warn_prf(average, modifier, msg_start, len(result))\n",
      "/home/ppibot/anaconda3/envs/myenv/lib/python3.9/site-packages/sklearn/metrics/_classification.py:1334: UndefinedMetricWarning: Recall and F-score are ill-defined and being set to 0.0 in labels with no true samples. Use `zero_division` parameter to control this behavior.\n",
      "  _warn_prf(average, modifier, msg_start, len(result))\n",
      "                                                   \n",
      " 93%|█████████▎| 1022/1095 [04:46<00:14,  5.00it/s]Saving model checkpoint to ./model/checkpoint-1022\n",
      "Configuration saved in ./model/checkpoint-1022/config.json\n"
     ]
    },
    {
     "name": "stdout",
     "output_type": "stream",
     "text": [
      "{'eval_loss': 0.41394108533859253, 'eval_accuracy': 0.7027027027027027, 'eval_f1': 0.5416666666666666, 'eval_precision': 0.5416666666666666, 'eval_recall': 0.5416666666666666, 'eval_slot': 0.9115381817684449, 'eval_slot_accuracy': 0.8558558558558559, 'eval_runtime': 2.9659, 'eval_samples_per_second': 12.475, 'eval_steps_per_second': 6.406, 'epoch': 14.0}\n"
     ]
    },
    {
     "name": "stderr",
     "output_type": "stream",
     "text": [
      "Model weights saved in ./model/checkpoint-1022/pytorch_model.bin\n",
      "100%|██████████| 1095/1095 [05:08<00:00,  5.03it/s]***** Running Evaluation *****\n",
      "  Num examples = 37\n",
      "  Batch size = 2\n",
      "/home/ppibot/anaconda3/envs/myenv/lib/python3.9/site-packages/sklearn/metrics/_classification.py:1334: UndefinedMetricWarning: Precision and F-score are ill-defined and being set to 0.0 in labels with no predicted samples. Use `zero_division` parameter to control this behavior.\n",
      "  _warn_prf(average, modifier, msg_start, len(result))\n",
      "/home/ppibot/anaconda3/envs/myenv/lib/python3.9/site-packages/sklearn/metrics/_classification.py:1334: UndefinedMetricWarning: Recall and F-score are ill-defined and being set to 0.0 in labels with no true samples. Use `zero_division` parameter to control this behavior.\n",
      "  _warn_prf(average, modifier, msg_start, len(result))\n",
      "                                                   \n",
      "100%|██████████| 1095/1095 [05:11<00:00,  5.03it/s]Saving model checkpoint to ./model/checkpoint-1095\n",
      "Configuration saved in ./model/checkpoint-1095/config.json\n"
     ]
    },
    {
     "name": "stdout",
     "output_type": "stream",
     "text": [
      "{'eval_loss': 0.41605108976364136, 'eval_accuracy': 0.7027027027027027, 'eval_f1': 0.5416666666666666, 'eval_precision': 0.5416666666666666, 'eval_recall': 0.5416666666666666, 'eval_slot': 0.9227994430297062, 'eval_slot_accuracy': 0.8558558558558559, 'eval_runtime': 3.0394, 'eval_samples_per_second': 12.173, 'eval_steps_per_second': 6.251, 'epoch': 15.0}\n"
     ]
    },
    {
     "name": "stderr",
     "output_type": "stream",
     "text": [
      "Model weights saved in ./model/checkpoint-1095/pytorch_model.bin\n",
      "\n",
      "\n",
      "Training completed. Do not forget to share your model on huggingface.co/models =)\n",
      "\n",
      "\n",
      "Loading best model from ./model/checkpoint-949 (score: 0.8558558558558559).\n",
      "100%|██████████| 1095/1095 [05:15<00:00,  3.47it/s]"
     ]
    },
    {
     "name": "stdout",
     "output_type": "stream",
     "text": [
      "{'train_runtime': 315.4531, 'train_samples_per_second': 6.942, 'train_steps_per_second': 3.471, 'train_loss': 0.1310899735041405, 'epoch': 15.0}\n"
     ]
    },
    {
     "name": "stderr",
     "output_type": "stream",
     "text": [
      "\n"
     ]
    },
    {
     "data": {
      "text/plain": [
       "TrainOutput(global_step=1095, training_loss=0.1310899735041405, metrics={'train_runtime': 315.4531, 'train_samples_per_second': 6.942, 'train_steps_per_second': 3.471, 'train_loss': 0.1310899735041405, 'epoch': 15.0})"
      ]
     },
     "execution_count": 27,
     "metadata": {},
     "output_type": "execute_result"
    }
   ],
   "source": [
    "for n, v in best_run.hyperparameters.items():\n",
    "    setattr(trainer.args, n, v)\n",
    "\n",
    "trainer.train()\n",
    "\n",
    "\n",
    "\n",
    "\n",
    "\n",
    "\n",
    "\n",
    "\n",
    "\n",
    "\n",
    "\n",
    "\n",
    "\n",
    "\n",
    "\n",
    "\n",
    "\n",
    "\n",
    "\n",
    "\n",
    "\n",
    "\n",
    "\n",
    "\n",
    "\n",
    "\n",
    "\n",
    "\n",
    "\n",
    "\n"
   ]
  },
  {
   "cell_type": "code",
   "execution_count": 28,
   "metadata": {},
   "outputs": [
    {
     "name": "stderr",
     "output_type": "stream",
     "text": [
      "***** Running Evaluation *****\n",
      "  Num examples = 37\n",
      "  Batch size = 2\n",
      "100%|██████████| 19/19 [00:02<00:00,  6.71it/s]/home/ppibot/anaconda3/envs/myenv/lib/python3.9/site-packages/sklearn/metrics/_classification.py:1334: UndefinedMetricWarning: Precision and F-score are ill-defined and being set to 0.0 in labels with no predicted samples. Use `zero_division` parameter to control this behavior.\n",
      "  _warn_prf(average, modifier, msg_start, len(result))\n",
      "/home/ppibot/anaconda3/envs/myenv/lib/python3.9/site-packages/sklearn/metrics/_classification.py:1334: UndefinedMetricWarning: Recall and F-score are ill-defined and being set to 0.0 in labels with no true samples. Use `zero_division` parameter to control this behavior.\n",
      "  _warn_prf(average, modifier, msg_start, len(result))\n",
      "100%|██████████| 19/19 [00:02<00:00,  6.57it/s]\n"
     ]
    },
    {
     "data": {
      "text/plain": [
       "{'eval_loss': 0.42054837942123413,\n",
       " 'eval_accuracy': 0.7027027027027027,\n",
       " 'eval_f1': 0.5416666666666666,\n",
       " 'eval_precision': 0.5416666666666666,\n",
       " 'eval_recall': 0.5416666666666666,\n",
       " 'eval_slot': 0.9227994430297062,\n",
       " 'eval_slot_accuracy': 0.8558558558558559,\n",
       " 'eval_runtime': 3.0483,\n",
       " 'eval_samples_per_second': 12.138,\n",
       " 'eval_steps_per_second': 6.233,\n",
       " 'epoch': 15.0}"
      ]
     },
     "execution_count": 28,
     "metadata": {},
     "output_type": "execute_result"
    }
   ],
   "source": [
    "trainer.evaluate()"
   ]
  },
  {
   "cell_type": "code",
   "execution_count": 29,
   "metadata": {},
   "outputs": [
    {
     "name": "stderr",
     "output_type": "stream",
     "text": [
      "Saving model checkpoint to ./parsing-model-2023-06-11 20:35\n",
      "Configuration saved in ./parsing-model-2023-06-11 20:35/config.json\n",
      "Model weights saved in ./parsing-model-2023-06-11 20:35/pytorch_model.bin\n"
     ]
    }
   ],
   "source": [
    "import time \n",
    "now = time.strftime(\"%Y-%m-%d %H:%M\", time.localtime())\n",
    "trainer.save_model(f\"./parsing-model-{now}\")"
   ]
  }
 ],
 "metadata": {
  "kernelspec": {
   "display_name": "myenv",
   "language": "python",
   "name": "python3"
  },
  "language_info": {
   "codemirror_mode": {
    "name": "ipython",
    "version": 3
   },
   "file_extension": ".py",
   "mimetype": "text/x-python",
   "name": "python",
   "nbconvert_exporter": "python",
   "pygments_lexer": "ipython3",
   "version": "3.9.15"
  },
  "orig_nbformat": 4
 },
 "nbformat": 4,
 "nbformat_minor": 2
}
